{
  "nbformat": 4,
  "nbformat_minor": 0,
  "metadata": {
    "colab": {
      "provenance": []
    },
    "kernelspec": {
      "name": "python3",
      "display_name": "Python 3"
    },
    "language_info": {
      "name": "python"
    }
  },
  "cells": [
    {
      "cell_type": "markdown",
      "source": [
        "\n",
        "#The Complex Network Homework **No. 2**\n",
        "Bahar Mahdavi - SN: 40152521337"
      ],
      "metadata": {
        "id": "qJ1ZhKMeUVZQ"
      }
    },
    {
      "cell_type": "markdown",
      "source": [
        "## A. call the MUTAG dataset in torch_geometric.datasets and print its features including the number of available graphs, the number of classes, and the length of the feature vector."
      ],
      "metadata": {
        "id": "vgzoIcEHk8zf"
      }
    },
    {
      "cell_type": "markdown",
      "source": [
        "###The installation of PyTorch Geometric (PyG) on Colab\n",
        "PyTorch Geometric is an extension library to the popular deep learning framework PyTorch, and consists of various methods and utilities to ease the implementation of Graph Neural Networks.\n",
        "https://pytorch-geometric.readthedocs.io/en/latest/notes/installation.html"
      ],
      "metadata": {
        "id": "f8DVjYVQmnBG"
      }
    },
    {
      "cell_type": "code",
      "source": [
        "# Install torch geometric\n",
        "!pip install torch-geometric"
      ],
      "metadata": {
        "colab": {
          "base_uri": "https://localhost:8080/"
        },
        "id": "WzmoZNQIIOiI",
        "outputId": "36cef577-5062-40aa-9bcf-99d65dc4e66f"
      },
      "execution_count": 1,
      "outputs": [
        {
          "output_type": "stream",
          "name": "stdout",
          "text": [
            "Requirement already satisfied: torch-geometric in /usr/local/lib/python3.10/dist-packages (2.4.0)\n",
            "Requirement already satisfied: tqdm in /usr/local/lib/python3.10/dist-packages (from torch-geometric) (4.66.1)\n",
            "Requirement already satisfied: numpy in /usr/local/lib/python3.10/dist-packages (from torch-geometric) (1.23.5)\n",
            "Requirement already satisfied: scipy in /usr/local/lib/python3.10/dist-packages (from torch-geometric) (1.11.4)\n",
            "Requirement already satisfied: jinja2 in /usr/local/lib/python3.10/dist-packages (from torch-geometric) (3.1.3)\n",
            "Requirement already satisfied: requests in /usr/local/lib/python3.10/dist-packages (from torch-geometric) (2.31.0)\n",
            "Requirement already satisfied: pyparsing in /usr/local/lib/python3.10/dist-packages (from torch-geometric) (3.1.1)\n",
            "Requirement already satisfied: scikit-learn in /usr/local/lib/python3.10/dist-packages (from torch-geometric) (1.2.2)\n",
            "Requirement already satisfied: psutil>=5.8.0 in /usr/local/lib/python3.10/dist-packages (from torch-geometric) (5.9.5)\n",
            "Requirement already satisfied: MarkupSafe>=2.0 in /usr/local/lib/python3.10/dist-packages (from jinja2->torch-geometric) (2.1.4)\n",
            "Requirement already satisfied: charset-normalizer<4,>=2 in /usr/local/lib/python3.10/dist-packages (from requests->torch-geometric) (3.3.2)\n",
            "Requirement already satisfied: idna<4,>=2.5 in /usr/local/lib/python3.10/dist-packages (from requests->torch-geometric) (3.6)\n",
            "Requirement already satisfied: urllib3<3,>=1.21.1 in /usr/local/lib/python3.10/dist-packages (from requests->torch-geometric) (2.0.7)\n",
            "Requirement already satisfied: certifi>=2017.4.17 in /usr/local/lib/python3.10/dist-packages (from requests->torch-geometric) (2023.11.17)\n",
            "Requirement already satisfied: joblib>=1.1.1 in /usr/local/lib/python3.10/dist-packages (from scikit-learn->torch-geometric) (1.3.2)\n",
            "Requirement already satisfied: threadpoolctl>=2.0.0 in /usr/local/lib/python3.10/dist-packages (from scikit-learn->torch-geometric) (3.2.0)\n"
          ]
        }
      ]
    },
    {
      "cell_type": "markdown",
      "source": [
        "###Loading dataset"
      ],
      "metadata": {
        "id": "Mu_OGRufMxxj"
      }
    },
    {
      "cell_type": "markdown",
      "source": [
        "The **MUTAG dataset** consists of 188 chemical compounds divided into two classes according to their mutagenic effect on a bacterium.\n",
        "\n",
        "MUTAG is a dataset contains 188 graphs representing molecules where the nodes are atoms (C, N, O, F, I, Cl, or Br) and the undirected edges are bonds (aromatic, single, double, or triple). Each graph comes with a target value of either 1 indicating mutagenicity (causing genetic mutation) or 0, meaning no mutagenicity. (DOI: 10.1021/jm00106a046)\n",
        "\n",
        "The chemical data was obtained form http://cdb.ics.uci.edu and converted to graphs, where vertices represent atoms and edges represent chemical bonds. Explicit hydrogen atoms have been removed and vertices are labeled by atom type and edges by bond type (single, double, triple or aromatic). Chemical data was processed using the Chemistry Development Kit (v1.4)."
      ],
      "metadata": {
        "id": "YYY3vNvSrjPY"
      }
    },
    {
      "cell_type": "code",
      "source": [
        "import torch\n",
        "from torch_geometric.datasets import TUDataset\n",
        "\n",
        "# Load the MUTAG dataset\n",
        "dataset = TUDataset(root='data/TUDataset', name='MUTAG')\n",
        "dataset = dataset.shuffle()\n",
        "data = dataset[0]  # Get the first graph object.\n",
        "\n",
        "dataset.download()"
      ],
      "metadata": {
        "id": "_5_xJe_PIaDc",
        "colab": {
          "base_uri": "https://localhost:8080/"
        },
        "outputId": "82949936-07c7-41c3-a1d7-6c3ac8ac594f"
      },
      "execution_count": 2,
      "outputs": [
        {
          "output_type": "stream",
          "name": "stderr",
          "text": [
            "Downloading https://www.chrsmrrs.com/graphkerneldatasets/MUTAG.zip\n",
            "Extracting data/TUDataset/MUTAG/MUTAG.zip\n"
          ]
        }
      ]
    },
    {
      "cell_type": "code",
      "source": [
        "# print dataset features.\n",
        "print(f'Dataset: {dataset}:')\n",
        "print('=====================')\n",
        "print(f'Number of graphs: {len(dataset)}')\n",
        "print(f'Number of classes: {dataset.num_classes}')\n",
        "print(f'Number of features: {dataset.num_features}')\n",
        "print()\n",
        "print(f'Number of node features: {dataset.num_node_features}')\n",
        "print(f'Number of edge features: {dataset.num_edge_features}')\n",
        "print(f'Number of node labels: {dataset.num_node_labels}')\n",
        "print(f'Number of edge labels: {dataset.num_edge_labels}')\n",
        "print()\n",
        "print(data)\n",
        "print('=============================================================')"
      ],
      "metadata": {
        "colab": {
          "base_uri": "https://localhost:8080/"
        },
        "id": "H265LE7Dr2_1",
        "outputId": "8c95b0a6-f084-4129-fa46-a43203d81e1e"
      },
      "execution_count": 3,
      "outputs": [
        {
          "output_type": "stream",
          "name": "stdout",
          "text": [
            "Dataset: MUTAG(188):\n",
            "=====================\n",
            "Number of graphs: 188\n",
            "Number of classes: 2\n",
            "Number of features: 7\n",
            "\n",
            "Number of node features: 7\n",
            "Number of edge features: 4\n",
            "Number of node labels: 7\n",
            "Number of edge labels: 4\n",
            "\n",
            "Data(edge_index=[2, 44], x=[21, 7], edge_attr=[44, 4], y=[1])\n",
            "=============================================================\n"
          ]
        }
      ]
    },
    {
      "cell_type": "code",
      "source": [
        "# Gather some statistics about the first graph.\n",
        "print(f'Number of nodes: {data.num_nodes}')\n",
        "print(f'Number of edges: {data.num_edges}')\n",
        "print(f'Average node degree: {data.num_edges / data.num_nodes:.2f}')\n",
        "print(f'Has isolated nodes: {data.has_isolated_nodes()}')\n",
        "print(f'Has self-loops: {data.has_self_loops()}')\n",
        "print(f'Is undirected: {data.is_undirected()}')"
      ],
      "metadata": {
        "colab": {
          "base_uri": "https://localhost:8080/"
        },
        "id": "BlZAs4HauG3V",
        "outputId": "1f55ebcc-1da6-406c-a58e-72845488d397"
      },
      "execution_count": 4,
      "outputs": [
        {
          "output_type": "stream",
          "name": "stdout",
          "text": [
            "Number of nodes: 21\n",
            "Number of edges: 44\n",
            "Average node degree: 2.10\n",
            "Has isolated nodes: False\n",
            "Has self-loops: False\n",
            "Is undirected: True\n"
          ]
        }
      ]
    },
    {
      "cell_type": "markdown",
      "source": [
        "###Graph visualization\n"
      ],
      "metadata": {
        "id": "rLoQ6R8_Fya0"
      }
    },
    {
      "cell_type": "code",
      "source": [
        "%matplotlib inline\n",
        "from torch_geometric.utils import to_networkx\n",
        "import networkx as nx\n",
        "import matplotlib.pyplot as plt\n",
        "\n",
        "def visualize_graph(G, color):\n",
        "    plt.figure(figsize=(7,7))\n",
        "    plt.xticks([])\n",
        "    plt.yticks([])\n",
        "    nx.draw_networkx(G,\n",
        "                     pos=nx.spring_layout(G, seed=10),\n",
        "                     with_labels=True,\n",
        "                     node_color='orchid',\n",
        "                     cmap=\"Set2\")\n",
        "    plt.show()\n",
        "\n",
        "G = to_networkx(data, to_undirected=True)\n",
        "visualize_graph(G, color=data.y)"
      ],
      "metadata": {
        "colab": {
          "base_uri": "https://localhost:8080/",
          "height": 611
        },
        "id": "I_dshTf9vpCL",
        "outputId": "18ab1171-8479-4d53-f1f7-8776b161e51c"
      },
      "execution_count": 5,
      "outputs": [
        {
          "output_type": "stream",
          "name": "stderr",
          "text": [
            "/usr/local/lib/python3.10/dist-packages/networkx/drawing/nx_pylab.py:437: UserWarning: No data for colormapping provided via 'c'. Parameters 'cmap' will be ignored\n",
            "  node_collection = ax.scatter(\n"
          ]
        },
        {
          "output_type": "display_data",
          "data": {
            "text/plain": [
              "<Figure size 700x700 with 1 Axes>"
            ],
            "image/png": "[encoded data removed]"
          },
          "metadata": {}
        }
      ]
    },
    {
      "cell_type": "code",
      "source": [
        "G.nodes"
      ],
      "metadata": {
        "colab": {
          "base_uri": "https://localhost:8080/"
        },
        "id": "V0uLDx28GUIi",
        "outputId": "f6048a23-0471-4f68-aff6-8ff773afebcd"
      },
      "execution_count": 6,
      "outputs": [
        {
          "output_type": "execute_result",
          "data": {
            "text/plain": [
              "NodeView((0, 1, 2, 3, 4, 5, 6, 7, 8, 9, 10, 11, 12, 13, 14, 15, 16, 17, 18, 19, 20))"
            ]
          },
          "metadata": {},
          "execution_count": 6
        }
      ]
    },
    {
      "cell_type": "code",
      "source": [
        "G.edges"
      ],
      "metadata": {
        "colab": {
          "base_uri": "https://localhost:8080/"
        },
        "id": "15bFXO5uG8GX",
        "outputId": "5507abe1-b0e6-4bf9-d9fb-63a2dfff45cf"
      },
      "execution_count": 7,
      "outputs": [
        {
          "output_type": "execute_result",
          "data": {
            "text/plain": [
              "EdgeView([(0, 1), (0, 5), (1, 2), (2, 3), (2, 18), (3, 4), (4, 5), (5, 6), (6, 7), (6, 11), (7, 8), (8, 9), (9, 10), (9, 15), (10, 11), (11, 12), (12, 13), (12, 14), (15, 16), (15, 17), (18, 19), (18, 20)])"
            ]
          },
          "metadata": {},
          "execution_count": 7
        }
      ]
    },
    {
      "cell_type": "markdown",
      "source": [
        "## B. Design and train a graph neural network model to classify the given dataset and valuate the accuracy of your model and"
      ],
      "metadata": {
        "id": "jIGJ1J0x3ihV"
      }
    },
    {
      "cell_type": "markdown",
      "source": [
        "### Split dataset into train and test"
      ],
      "metadata": {
        "id": "QQE8spBSNGTs"
      }
    },
    {
      "cell_type": "code",
      "source": [
        "torch.manual_seed(10)\n",
        "dataset = dataset.shuffle()\n",
        "\n",
        "train_dataset = dataset[:150]\n",
        "test_dataset = dataset[150:]\n",
        "\n",
        "print(f'Number of training graphs: {len(train_dataset)}')\n",
        "print(f'Number of test graphs: {len(test_dataset)}')"
      ],
      "metadata": {
        "id": "1BRIx_Hv28aM",
        "colab": {
          "base_uri": "https://localhost:8080/"
        },
        "outputId": "eab80463-1d1e-422e-f192-81eed5f25eab"
      },
      "execution_count": 8,
      "outputs": [
        {
          "output_type": "stream",
          "name": "stdout",
          "text": [
            "Number of training graphs: 150\n",
            "Number of test graphs: 38\n"
          ]
        }
      ]
    },
    {
      "cell_type": "code",
      "source": [
        "from torch_geometric.loader import DataLoader\n",
        "\n",
        "train_loader = DataLoader(train_dataset, batch_size=64, shuffle=True)\n",
        "test_loader = DataLoader(test_dataset, batch_size=64, shuffle=False)\n",
        "\n",
        "for step, data in enumerate(train_loader):\n",
        "    print(f'Step {step + 1}:')\n",
        "    print('=======')\n",
        "    print(f'Number of graphs in the current batch: {data.num_graphs}')\n",
        "    print(data)\n",
        "    print()"
      ],
      "metadata": {
        "colab": {
          "base_uri": "https://localhost:8080/"
        },
        "id": "5ecCqULXxQ_D",
        "outputId": "3762198f-8745-4519-cb3d-99e201dd9054"
      },
      "execution_count": 9,
      "outputs": [
        {
          "output_type": "stream",
          "name": "stdout",
          "text": [
            "Step 1:\n",
            "=======\n",
            "Number of graphs in the current batch: 64\n",
            "DataBatch(edge_index=[2, 2572], x=[1163, 7], edge_attr=[2572, 4], y=[64], batch=[1163], ptr=[65])\n",
            "\n",
            "Step 2:\n",
            "=======\n",
            "Number of graphs in the current batch: 64\n",
            "DataBatch(edge_index=[2, 2396], x=[1094, 7], edge_attr=[2396, 4], y=[64], batch=[1094], ptr=[65])\n",
            "\n",
            "Step 3:\n",
            "=======\n",
            "Number of graphs in the current batch: 22\n",
            "DataBatch(edge_index=[2, 918], x=[416, 7], edge_attr=[918, 4], y=[22], batch=[416], ptr=[23])\n",
            "\n"
          ]
        }
      ]
    },
    {
      "cell_type": "markdown",
      "source": [
        "### Implementing the model"
      ],
      "metadata": {
        "id": "oKoeP_Rl8J-p"
      }
    },
    {
      "cell_type": "code",
      "source": [
        "from torch.nn import Linear\n",
        "import torch.nn.functional as F\n",
        "from torch_geometric.nn import GraphConv\n",
        "from torch_geometric.nn import global_mean_pool\n",
        "\n",
        "class GNN(torch.nn.Module):\n",
        "    def __init__(self, hidden_channels):\n",
        "        super(GNN, self).__init__()\n",
        "        torch.manual_seed(10)\n",
        "        self.conv1 = GraphConv(dataset.num_node_features, hidden_channels)\n",
        "        self.conv2 = GraphConv(hidden_channels, hidden_channels)\n",
        "        self.conv3 = GraphConv(hidden_channels, hidden_channels)\n",
        "        self.lin = Linear(hidden_channels, dataset.num_classes)\n",
        "\n",
        "    def forward(self, x, edge_index, batch):\n",
        "        # 1. Obtain node embeddings\n",
        "        x = self.conv1(x, edge_index)\n",
        "        x = x.relu()\n",
        "        x = self.conv2(x, edge_index)\n",
        "        x = x.relu()\n",
        "        x = self.conv3(x, edge_index)\n",
        "\n",
        "        # 2. Readout layer\n",
        "        x = global_mean_pool(x, batch) # Pool node features to graph-level [batch_size, hidden_channels]\n",
        "\n",
        "        # 3. Apply a final classifier\n",
        "        x = F.dropout(x, p=0.5, training=self.training)\n",
        "        x = self.lin(x)\n",
        "\n",
        "        return x\n",
        "\n",
        "model = GNN(hidden_channels=64)\n",
        "print(model)"
      ],
      "metadata": {
        "colab": {
          "base_uri": "https://localhost:8080/"
        },
        "id": "eBawgGwn4uzR",
        "outputId": "d36ff624-13d7-4f3f-e430-084c6f817c76"
      },
      "execution_count": 10,
      "outputs": [
        {
          "output_type": "stream",
          "name": "stdout",
          "text": [
            "GNN(\n",
            "  (conv1): GraphConv(7, 64)\n",
            "  (conv2): GraphConv(64, 64)\n",
            "  (conv3): GraphConv(64, 64)\n",
            "  (lin): Linear(in_features=64, out_features=2, bias=True)\n",
            ")\n"
          ]
        }
      ]
    },
    {
      "cell_type": "markdown",
      "source": [
        "### Training and test"
      ],
      "metadata": {
        "id": "pmwQCD808Xr5"
      }
    },
    {
      "cell_type": "code",
      "source": [
        "from IPython.display import Javascript\n",
        "display(Javascript('''google.colab.output.setIframeHeight(0, true, {maxHeight: 300})'''))\n",
        "\n",
        "optimizer = torch.optim.Adam(model.parameters(), lr=0.01)\n",
        "criterion = torch.nn.CrossEntropyLoss()\n",
        "\n",
        "def train():\n",
        "    model.train()\n",
        "\n",
        "    for data in train_loader:  # Iterate in batches over the training dataset.\n",
        "         out = model(data.x, data.edge_index, data.batch)  # Perform a single forward pass.\n",
        "         loss = criterion(out, data.y)  # Compute the loss.\n",
        "         loss.backward()  # Derive gradients.\n",
        "         optimizer.step()  # Update parameters based on gradients.\n",
        "         optimizer.zero_grad()  # Clear gradients.\n",
        "\n",
        "def test(loader):\n",
        "     model.eval()\n",
        "\n",
        "     correct = 0\n",
        "     loss_ = 0\n",
        "     for data in loader:  # Iterate in batches over the training/test dataset.\n",
        "         out = model(data.x, data.edge_index, data.batch)\n",
        "         loss = criterion(out, data.y)\n",
        "         loss_ += loss.item()\n",
        "         pred = out.argmax(dim=1)  # Use the class with highest probability.\n",
        "         correct += int((pred == data.y).sum())  # Check against ground-truth labels.\n",
        "     return correct / len(loader.dataset), loss_ / len(loader.dataset)  # Derive ratio of correct predictions.\n",
        "\n",
        "for epoch in range(1, 301):\n",
        "    train()\n",
        "    train_acc, train_loss = test(train_loader)\n",
        "    test_acc, test_loss = test(test_loader)\n",
        "    print(f'Epoch: {epoch:03d}, Train Acc: {train_acc:.4f}, Test Acc: {test_acc:.4f}, Train Loss: {train_loss:.4f}, Test Loss: {test_loss:.4f}')"
      ],
      "metadata": {
        "colab": {
          "base_uri": "https://localhost:8080/",
          "height": 300
        },
        "id": "nME3b4zXJhgR",
        "outputId": "9e9a187d-870b-4eb3-f83d-5ce14c94f4ff"
      },
      "execution_count": 11,
      "outputs": [
        {
          "output_type": "display_data",
          "data": {
            "text/plain": [
              "<IPython.core.display.Javascript object>"
            ],
            "application/javascript": [
              "google.colab.output.setIframeHeight(0, true, {maxHeight: 300})"
            ]
          },
          "metadata": {}
        },
        {
          "output_type": "stream",
          "name": "stdout",
          "text": [
            "Epoch: 001, Train Acc: 0.6533, Test Acc: 0.7105, Train Loss: 0.0145, Test Loss: 0.0168\n",
            "Epoch: 002, Train Acc: 0.6533, Test Acc: 0.7105, Train Loss: 0.0122, Test Loss: 0.0146\n",
            "Epoch: 003, Train Acc: 0.6533, Test Acc: 0.7105, Train Loss: 0.0130, Test Loss: 0.0169\n",
            "Epoch: 004, Train Acc: 0.6533, Test Acc: 0.7105, Train Loss: 0.0126, Test Loss: 0.0163\n",
            "Epoch: 005, Train Acc: 0.6533, Test Acc: 0.7105, Train Loss: 0.0121, Test Loss: 0.0148\n",
            "Epoch: 006, Train Acc: 0.6533, Test Acc: 0.7105, Train Loss: 0.0117, Test Loss: 0.0135\n",
            "Epoch: 007, Train Acc: 0.6533, Test Acc: 0.7105, Train Loss: 0.0104, Test Loss: 0.0131\n",
            "Epoch: 008, Train Acc: 0.6533, Test Acc: 0.7105, Train Loss: 0.0105, Test Loss: 0.0129\n",
            "Epoch: 009, Train Acc: 0.7267, Test Acc: 0.6842, Train Loss: 0.0103, Test Loss: 0.0122\n",
            "Epoch: 010, Train Acc: 0.7267, Test Acc: 0.7368, Train Loss: 0.0097, Test Loss: 0.0114\n",
            "Epoch: 011, Train Acc: 0.7400, Test Acc: 0.7632, Train Loss: 0.0099, Test Loss: 0.0109\n",
            "Epoch: 012, Train Acc: 0.8000, Test Acc: 0.7895, Train Loss: 0.0093, Test Loss: 0.0109\n",
            "Epoch: 013, Train Acc: 0.8067, Test Acc: 0.7895, Train Loss: 0.0088, Test Loss: 0.0103\n",
            "Epoch: 014, Train Acc: 0.8067, Test Acc: 0.7895, Train Loss: 0.0088, Test Loss: 0.0101\n",
            "Epoch: 015, Train Acc: 0.8000, Test Acc: 0.7895, Train Loss: 0.0092, Test Loss: 0.0100\n",
            "Epoch: 016, Train Acc: 0.7800, Test Acc: 0.8158, Train Loss: 0.0092, Test Loss: 0.0108\n",
            "Epoch: 017, Train Acc: 0.7800, Test Acc: 0.7895, Train Loss: 0.0084, Test Loss: 0.0100\n",
            "Epoch: 018, Train Acc: 0.7800, Test Acc: 0.7632, Train Loss: 0.0081, Test Loss: 0.0099\n",
            "Epoch: 019, Train Acc: 0.7800, Test Acc: 0.7895, Train Loss: 0.0081, Test Loss: 0.0100\n",
            "Epoch: 020, Train Acc: 0.7867, Test Acc: 0.7632, Train Loss: 0.0086, Test Loss: 0.0113\n",
            "Epoch: 021, Train Acc: 0.8000, Test Acc: 0.7895, Train Loss: 0.0076, Test Loss: 0.0105\n",
            "Epoch: 022, Train Acc: 0.7733, Test Acc: 0.7632, Train Loss: 0.0076, Test Loss: 0.0102\n",
            "Epoch: 023, Train Acc: 0.7867, Test Acc: 0.7895, Train Loss: 0.0076, Test Loss: 0.0103\n",
            "Epoch: 024, Train Acc: 0.7733, Test Acc: 0.7632, Train Loss: 0.0072, Test Loss: 0.0102\n",
            "Epoch: 025, Train Acc: 0.7867, Test Acc: 0.7895, Train Loss: 0.0076, Test Loss: 0.0102\n",
            "Epoch: 026, Train Acc: 0.7933, Test Acc: 0.7368, Train Loss: 0.0076, Test Loss: 0.0101\n",
            "Epoch: 027, Train Acc: 0.7933, Test Acc: 0.7632, Train Loss: 0.0082, Test Loss: 0.0106\n",
            "Epoch: 028, Train Acc: 0.7933, Test Acc: 0.7368, Train Loss: 0.0074, Test Loss: 0.0100\n",
            "Epoch: 029, Train Acc: 0.7933, Test Acc: 0.7632, Train Loss: 0.0077, Test Loss: 0.0100\n",
            "Epoch: 030, Train Acc: 0.7933, Test Acc: 0.7368, Train Loss: 0.0068, Test Loss: 0.0100\n",
            "Epoch: 031, Train Acc: 0.8067, Test Acc: 0.7632, Train Loss: 0.0069, Test Loss: 0.0102\n",
            "Epoch: 032, Train Acc: 0.7867, Test Acc: 0.7368, Train Loss: 0.0071, Test Loss: 0.0102\n",
            "Epoch: 033, Train Acc: 0.7867, Test Acc: 0.7368, Train Loss: 0.0074, Test Loss: 0.0103\n",
            "Epoch: 034, Train Acc: 0.7867, Test Acc: 0.7895, Train Loss: 0.0071, Test Loss: 0.0103\n",
            "Epoch: 035, Train Acc: 0.7800, Test Acc: 0.7632, Train Loss: 0.0073, Test Loss: 0.0102\n",
            "Epoch: 036, Train Acc: 0.7867, Test Acc: 0.7105, Train Loss: 0.0076, Test Loss: 0.0103\n",
            "Epoch: 037, Train Acc: 0.8000, Test Acc: 0.7632, Train Loss: 0.0086, Test Loss: 0.0109\n",
            "Epoch: 038, Train Acc: 0.8000, Test Acc: 0.7632, Train Loss: 0.0089, Test Loss: 0.0112\n",
            "Epoch: 039, Train Acc: 0.7867, Test Acc: 0.7632, Train Loss: 0.0077, Test Loss: 0.0102\n",
            "Epoch: 040, Train Acc: 0.7933, Test Acc: 0.7632, Train Loss: 0.0084, Test Loss: 0.0110\n",
            "Epoch: 041, Train Acc: 0.7867, Test Acc: 0.7632, Train Loss: 0.0092, Test Loss: 0.0121\n",
            "Epoch: 042, Train Acc: 0.7933, Test Acc: 0.7632, Train Loss: 0.0076, Test Loss: 0.0100\n",
            "Epoch: 043, Train Acc: 0.7867, Test Acc: 0.7895, Train Loss: 0.0081, Test Loss: 0.0099\n",
            "Epoch: 044, Train Acc: 0.8200, Test Acc: 0.7632, Train Loss: 0.0083, Test Loss: 0.0103\n",
            "Epoch: 045, Train Acc: 0.8200, Test Acc: 0.7895, Train Loss: 0.0072, Test Loss: 0.0100\n",
            "Epoch: 046, Train Acc: 0.8000, Test Acc: 0.7632, Train Loss: 0.0080, Test Loss: 0.0101\n",
            "Epoch: 047, Train Acc: 0.7733, Test Acc: 0.7632, Train Loss: 0.0073, Test Loss: 0.0102\n",
            "Epoch: 048, Train Acc: 0.8067, Test Acc: 0.7632, Train Loss: 0.0079, Test Loss: 0.0110\n",
            "Epoch: 049, Train Acc: 0.7800, Test Acc: 0.7895, Train Loss: 0.0070, Test Loss: 0.0103\n",
            "Epoch: 050, Train Acc: 0.8133, Test Acc: 0.7632, Train Loss: 0.0075, Test Loss: 0.0104\n",
            "Epoch: 051, Train Acc: 0.7867, Test Acc: 0.7105, Train Loss: 0.0079, Test Loss: 0.0107\n",
            "Epoch: 052, Train Acc: 0.7933, Test Acc: 0.7895, Train Loss: 0.0075, Test Loss: 0.0105\n",
            "Epoch: 053, Train Acc: 0.7867, Test Acc: 0.7632, Train Loss: 0.0074, Test Loss: 0.0105\n",
            "Epoch: 054, Train Acc: 0.7800, Test Acc: 0.7368, Train Loss: 0.0075, Test Loss: 0.0105\n",
            "Epoch: 055, Train Acc: 0.8133, Test Acc: 0.7895, Train Loss: 0.0075, Test Loss: 0.0108\n",
            "Epoch: 056, Train Acc: 0.7933, Test Acc: 0.7632, Train Loss: 0.0069, Test Loss: 0.0105\n",
            "Epoch: 057, Train Acc: 0.8000, Test Acc: 0.7632, Train Loss: 0.0076, Test Loss: 0.0107\n",
            "Epoch: 058, Train Acc: 0.8133, Test Acc: 0.7632, Train Loss: 0.0075, Test Loss: 0.0115\n",
            "Epoch: 059, Train Acc: 0.7933, Test Acc: 0.7632, Train Loss: 0.0076, Test Loss: 0.0103\n",
            "Epoch: 060, Train Acc: 0.7933, Test Acc: 0.7632, Train Loss: 0.0076, Test Loss: 0.0104\n",
            "Epoch: 061, Train Acc: 0.8133, Test Acc: 0.7895, Train Loss: 0.0068, Test Loss: 0.0106\n",
            "Epoch: 062, Train Acc: 0.7800, Test Acc: 0.7368, Train Loss: 0.0061, Test Loss: 0.0103\n",
            "Epoch: 063, Train Acc: 0.7933, Test Acc: 0.7632, Train Loss: 0.0081, Test Loss: 0.0104\n",
            "Epoch: 064, Train Acc: 0.8133, Test Acc: 0.7632, Train Loss: 0.0079, Test Loss: 0.0110\n",
            "Epoch: 065, Train Acc: 0.7933, Test Acc: 0.7632, Train Loss: 0.0074, Test Loss: 0.0104\n",
            "Epoch: 066, Train Acc: 0.8000, Test Acc: 0.7632, Train Loss: 0.0071, Test Loss: 0.0105\n",
            "Epoch: 067, Train Acc: 0.7800, Test Acc: 0.7368, Train Loss: 0.0077, Test Loss: 0.0104\n",
            "Epoch: 068, Train Acc: 0.7800, Test Acc: 0.7368, Train Loss: 0.0076, Test Loss: 0.0104\n",
            "Epoch: 069, Train Acc: 0.8133, Test Acc: 0.7632, Train Loss: 0.0067, Test Loss: 0.0107\n",
            "Epoch: 070, Train Acc: 0.8000, Test Acc: 0.7368, Train Loss: 0.0068, Test Loss: 0.0105\n",
            "Epoch: 071, Train Acc: 0.7933, Test Acc: 0.7632, Train Loss: 0.0078, Test Loss: 0.0108\n",
            "Epoch: 072, Train Acc: 0.8133, Test Acc: 0.7632, Train Loss: 0.0072, Test Loss: 0.0113\n",
            "Epoch: 073, Train Acc: 0.7867, Test Acc: 0.7632, Train Loss: 0.0075, Test Loss: 0.0102\n",
            "Epoch: 074, Train Acc: 0.8067, Test Acc: 0.7368, Train Loss: 0.0066, Test Loss: 0.0101\n",
            "Epoch: 075, Train Acc: 0.8133, Test Acc: 0.7632, Train Loss: 0.0067, Test Loss: 0.0104\n",
            "Epoch: 076, Train Acc: 0.7867, Test Acc: 0.7105, Train Loss: 0.0060, Test Loss: 0.0102\n",
            "Epoch: 077, Train Acc: 0.8133, Test Acc: 0.7632, Train Loss: 0.0085, Test Loss: 0.0115\n",
            "Epoch: 078, Train Acc: 0.8067, Test Acc: 0.7632, Train Loss: 0.0072, Test Loss: 0.0099\n",
            "Epoch: 079, Train Acc: 0.8067, Test Acc: 0.7632, Train Loss: 0.0077, Test Loss: 0.0101\n",
            "Epoch: 080, Train Acc: 0.8133, Test Acc: 0.7632, Train Loss: 0.0067, Test Loss: 0.0107\n",
            "Epoch: 081, Train Acc: 0.8133, Test Acc: 0.7632, Train Loss: 0.0070, Test Loss: 0.0102\n",
            "Epoch: 082, Train Acc: 0.8133, Test Acc: 0.7632, Train Loss: 0.0073, Test Loss: 0.0101\n",
            "Epoch: 083, Train Acc: 0.8200, Test Acc: 0.7632, Train Loss: 0.0065, Test Loss: 0.0103\n",
            "Epoch: 084, Train Acc: 0.8000, Test Acc: 0.7632, Train Loss: 0.0063, Test Loss: 0.0096\n",
            "Epoch: 085, Train Acc: 0.8067, Test Acc: 0.7895, Train Loss: 0.0079, Test Loss: 0.0098\n",
            "Epoch: 086, Train Acc: 0.8200, Test Acc: 0.7632, Train Loss: 0.0077, Test Loss: 0.0101\n",
            "Epoch: 087, Train Acc: 0.8200, Test Acc: 0.7632, Train Loss: 0.0070, Test Loss: 0.0094\n",
            "Epoch: 088, Train Acc: 0.8267, Test Acc: 0.7895, Train Loss: 0.0068, Test Loss: 0.0090\n",
            "Epoch: 089, Train Acc: 0.8400, Test Acc: 0.7632, Train Loss: 0.0064, Test Loss: 0.0090\n",
            "Epoch: 090, Train Acc: 0.8400, Test Acc: 0.7895, Train Loss: 0.0058, Test Loss: 0.0100\n",
            "Epoch: 091, Train Acc: 0.8000, Test Acc: 0.8158, Train Loss: 0.0092, Test Loss: 0.0126\n",
            "Epoch: 092, Train Acc: 0.8267, Test Acc: 0.7895, Train Loss: 0.0066, Test Loss: 0.0094\n",
            "Epoch: 093, Train Acc: 0.8067, Test Acc: 0.7895, Train Loss: 0.0073, Test Loss: 0.0099\n",
            "Epoch: 094, Train Acc: 0.8200, Test Acc: 0.7368, Train Loss: 0.0067, Test Loss: 0.0094\n",
            "Epoch: 095, Train Acc: 0.8333, Test Acc: 0.7895, Train Loss: 0.0075, Test Loss: 0.0097\n",
            "Epoch: 096, Train Acc: 0.7933, Test Acc: 0.7632, Train Loss: 0.0068, Test Loss: 0.0093\n",
            "Epoch: 097, Train Acc: 0.7867, Test Acc: 0.7632, Train Loss: 0.0069, Test Loss: 0.0092\n",
            "Epoch: 098, Train Acc: 0.8200, Test Acc: 0.7632, Train Loss: 0.0066, Test Loss: 0.0094\n",
            "Epoch: 099, Train Acc: 0.8200, Test Acc: 0.7368, Train Loss: 0.0069, Test Loss: 0.0093\n",
            "Epoch: 100, Train Acc: 0.8067, Test Acc: 0.7368, Train Loss: 0.0062, Test Loss: 0.0091\n",
            "Epoch: 101, Train Acc: 0.8267, Test Acc: 0.7368, Train Loss: 0.0065, Test Loss: 0.0091\n",
            "Epoch: 102, Train Acc: 0.8133, Test Acc: 0.7368, Train Loss: 0.0066, Test Loss: 0.0089\n",
            "Epoch: 103, Train Acc: 0.8467, Test Acc: 0.7895, Train Loss: 0.0058, Test Loss: 0.0091\n",
            "Epoch: 104, Train Acc: 0.8400, Test Acc: 0.7895, Train Loss: 0.0065, Test Loss: 0.0089\n",
            "Epoch: 105, Train Acc: 0.8067, Test Acc: 0.7632, Train Loss: 0.0060, Test Loss: 0.0086\n",
            "Epoch: 106, Train Acc: 0.8200, Test Acc: 0.7632, Train Loss: 0.0061, Test Loss: 0.0085\n",
            "Epoch: 107, Train Acc: 0.8333, Test Acc: 0.7895, Train Loss: 0.0053, Test Loss: 0.0083\n",
            "Epoch: 108, Train Acc: 0.8333, Test Acc: 0.7895, Train Loss: 0.0060, Test Loss: 0.0083\n",
            "Epoch: 109, Train Acc: 0.8133, Test Acc: 0.8158, Train Loss: 0.0060, Test Loss: 0.0081\n",
            "Epoch: 110, Train Acc: 0.8533, Test Acc: 0.8158, Train Loss: 0.0061, Test Loss: 0.0081\n",
            "Epoch: 111, Train Acc: 0.8533, Test Acc: 0.7895, Train Loss: 0.0066, Test Loss: 0.0084\n",
            "Epoch: 112, Train Acc: 0.8267, Test Acc: 0.7632, Train Loss: 0.0057, Test Loss: 0.0080\n",
            "Epoch: 113, Train Acc: 0.8133, Test Acc: 0.7632, Train Loss: 0.0060, Test Loss: 0.0079\n",
            "Epoch: 114, Train Acc: 0.8533, Test Acc: 0.7895, Train Loss: 0.0052, Test Loss: 0.0085\n",
            "Epoch: 115, Train Acc: 0.8800, Test Acc: 0.8158, Train Loss: 0.0049, Test Loss: 0.0076\n",
            "Epoch: 116, Train Acc: 0.8800, Test Acc: 0.8158, Train Loss: 0.0050, Test Loss: 0.0075\n",
            "Epoch: 117, Train Acc: 0.8800, Test Acc: 0.8158, Train Loss: 0.0055, Test Loss: 0.0075\n",
            "Epoch: 118, Train Acc: 0.8733, Test Acc: 0.7895, Train Loss: 0.0049, Test Loss: 0.0079\n",
            "Epoch: 119, Train Acc: 0.8733, Test Acc: 0.7895, Train Loss: 0.0051, Test Loss: 0.0075\n",
            "Epoch: 120, Train Acc: 0.8933, Test Acc: 0.8421, Train Loss: 0.0052, Test Loss: 0.0076\n",
            "Epoch: 121, Train Acc: 0.8933, Test Acc: 0.8421, Train Loss: 0.0047, Test Loss: 0.0075\n",
            "Epoch: 122, Train Acc: 0.8800, Test Acc: 0.8158, Train Loss: 0.0048, Test Loss: 0.0073\n",
            "Epoch: 123, Train Acc: 0.8800, Test Acc: 0.8158, Train Loss: 0.0045, Test Loss: 0.0072\n",
            "Epoch: 124, Train Acc: 0.8800, Test Acc: 0.8421, Train Loss: 0.0050, Test Loss: 0.0075\n",
            "Epoch: 125, Train Acc: 0.8867, Test Acc: 0.8158, Train Loss: 0.0049, Test Loss: 0.0078\n",
            "Epoch: 126, Train Acc: 0.8800, Test Acc: 0.7895, Train Loss: 0.0052, Test Loss: 0.0076\n",
            "Epoch: 127, Train Acc: 0.8867, Test Acc: 0.8158, Train Loss: 0.0051, Test Loss: 0.0075\n",
            "Epoch: 128, Train Acc: 0.8800, Test Acc: 0.8158, Train Loss: 0.0051, Test Loss: 0.0074\n",
            "Epoch: 129, Train Acc: 0.8800, Test Acc: 0.8158, Train Loss: 0.0046, Test Loss: 0.0074\n",
            "Epoch: 130, Train Acc: 0.8867, Test Acc: 0.8158, Train Loss: 0.0042, Test Loss: 0.0075\n",
            "Epoch: 131, Train Acc: 0.8867, Test Acc: 0.8158, Train Loss: 0.0044, Test Loss: 0.0076\n",
            "Epoch: 132, Train Acc: 0.8867, Test Acc: 0.8158, Train Loss: 0.0043, Test Loss: 0.0077\n",
            "Epoch: 133, Train Acc: 0.8800, Test Acc: 0.8158, Train Loss: 0.0043, Test Loss: 0.0076\n",
            "Epoch: 134, Train Acc: 0.8867, Test Acc: 0.8158, Train Loss: 0.0049, Test Loss: 0.0075\n",
            "Epoch: 135, Train Acc: 0.8867, Test Acc: 0.8158, Train Loss: 0.0051, Test Loss: 0.0073\n",
            "Epoch: 136, Train Acc: 0.8733, Test Acc: 0.8158, Train Loss: 0.0054, Test Loss: 0.0071\n",
            "Epoch: 137, Train Acc: 0.8800, Test Acc: 0.8158, Train Loss: 0.0049, Test Loss: 0.0074\n",
            "Epoch: 138, Train Acc: 0.8867, Test Acc: 0.8158, Train Loss: 0.0046, Test Loss: 0.0074\n",
            "Epoch: 139, Train Acc: 0.8867, Test Acc: 0.8158, Train Loss: 0.0054, Test Loss: 0.0072\n",
            "Epoch: 140, Train Acc: 0.8867, Test Acc: 0.8158, Train Loss: 0.0048, Test Loss: 0.0072\n",
            "Epoch: 141, Train Acc: 0.8800, Test Acc: 0.8158, Train Loss: 0.0045, Test Loss: 0.0070\n",
            "Epoch: 142, Train Acc: 0.8800, Test Acc: 0.8158, Train Loss: 0.0047, Test Loss: 0.0072\n",
            "Epoch: 143, Train Acc: 0.8867, Test Acc: 0.7895, Train Loss: 0.0054, Test Loss: 0.0075\n",
            "Epoch: 144, Train Acc: 0.8867, Test Acc: 0.8158, Train Loss: 0.0052, Test Loss: 0.0073\n",
            "Epoch: 145, Train Acc: 0.8867, Test Acc: 0.8158, Train Loss: 0.0046, Test Loss: 0.0070\n",
            "Epoch: 146, Train Acc: 0.8733, Test Acc: 0.7895, Train Loss: 0.0051, Test Loss: 0.0085\n",
            "Epoch: 147, Train Acc: 0.8800, Test Acc: 0.8158, Train Loss: 0.0050, Test Loss: 0.0068\n",
            "Epoch: 148, Train Acc: 0.8867, Test Acc: 0.8158, Train Loss: 0.0043, Test Loss: 0.0067\n",
            "Epoch: 149, Train Acc: 0.8467, Test Acc: 0.8158, Train Loss: 0.0047, Test Loss: 0.0074\n",
            "Epoch: 150, Train Acc: 0.8867, Test Acc: 0.8158, Train Loss: 0.0048, Test Loss: 0.0071\n",
            "Epoch: 151, Train Acc: 0.8800, Test Acc: 0.8158, Train Loss: 0.0048, Test Loss: 0.0067\n",
            "Epoch: 152, Train Acc: 0.8867, Test Acc: 0.8421, Train Loss: 0.0055, Test Loss: 0.0067\n",
            "Epoch: 153, Train Acc: 0.8867, Test Acc: 0.8158, Train Loss: 0.0046, Test Loss: 0.0068\n",
            "Epoch: 154, Train Acc: 0.8800, Test Acc: 0.8158, Train Loss: 0.0046, Test Loss: 0.0068\n",
            "Epoch: 155, Train Acc: 0.8800, Test Acc: 0.8158, Train Loss: 0.0050, Test Loss: 0.0067\n",
            "Epoch: 156, Train Acc: 0.8800, Test Acc: 0.8158, Train Loss: 0.0049, Test Loss: 0.0069\n",
            "Epoch: 157, Train Acc: 0.8800, Test Acc: 0.8158, Train Loss: 0.0048, Test Loss: 0.0070\n",
            "Epoch: 158, Train Acc: 0.8800, Test Acc: 0.8158, Train Loss: 0.0047, Test Loss: 0.0069\n",
            "Epoch: 159, Train Acc: 0.8867, Test Acc: 0.8158, Train Loss: 0.0042, Test Loss: 0.0068\n",
            "Epoch: 160, Train Acc: 0.8867, Test Acc: 0.8158, Train Loss: 0.0048, Test Loss: 0.0067\n",
            "Epoch: 161, Train Acc: 0.8933, Test Acc: 0.8421, Train Loss: 0.0051, Test Loss: 0.0066\n",
            "Epoch: 162, Train Acc: 0.8867, Test Acc: 0.8421, Train Loss: 0.0050, Test Loss: 0.0068\n",
            "Epoch: 163, Train Acc: 0.8800, Test Acc: 0.8421, Train Loss: 0.0046, Test Loss: 0.0068\n",
            "Epoch: 164, Train Acc: 0.8800, Test Acc: 0.8421, Train Loss: 0.0044, Test Loss: 0.0067\n",
            "Epoch: 165, Train Acc: 0.8800, Test Acc: 0.8421, Train Loss: 0.0042, Test Loss: 0.0065\n",
            "Epoch: 166, Train Acc: 0.8800, Test Acc: 0.8421, Train Loss: 0.0049, Test Loss: 0.0066\n",
            "Epoch: 167, Train Acc: 0.8867, Test Acc: 0.8421, Train Loss: 0.0045, Test Loss: 0.0068\n",
            "Epoch: 168, Train Acc: 0.8800, Test Acc: 0.8158, Train Loss: 0.0046, Test Loss: 0.0070\n",
            "Epoch: 169, Train Acc: 0.8867, Test Acc: 0.8421, Train Loss: 0.0044, Test Loss: 0.0069\n",
            "Epoch: 170, Train Acc: 0.8867, Test Acc: 0.8158, Train Loss: 0.0044, Test Loss: 0.0067\n",
            "Epoch: 171, Train Acc: 0.8800, Test Acc: 0.8158, Train Loss: 0.0050, Test Loss: 0.0072\n",
            "Epoch: 172, Train Acc: 0.8800, Test Acc: 0.8158, Train Loss: 0.0044, Test Loss: 0.0074\n",
            "Epoch: 173, Train Acc: 0.8800, Test Acc: 0.8421, Train Loss: 0.0052, Test Loss: 0.0074\n",
            "Epoch: 174, Train Acc: 0.8667, Test Acc: 0.7895, Train Loss: 0.0045, Test Loss: 0.0074\n",
            "Epoch: 175, Train Acc: 0.8800, Test Acc: 0.8158, Train Loss: 0.0047, Test Loss: 0.0068\n",
            "Epoch: 176, Train Acc: 0.8867, Test Acc: 0.8421, Train Loss: 0.0047, Test Loss: 0.0069\n",
            "Epoch: 177, Train Acc: 0.8133, Test Acc: 0.8158, Train Loss: 0.0056, Test Loss: 0.0082\n",
            "Epoch: 178, Train Acc: 0.8867, Test Acc: 0.8158, Train Loss: 0.0053, Test Loss: 0.0070\n",
            "Epoch: 179, Train Acc: 0.8400, Test Acc: 0.8421, Train Loss: 0.0059, Test Loss: 0.0078\n",
            "Epoch: 180, Train Acc: 0.8800, Test Acc: 0.8158, Train Loss: 0.0050, Test Loss: 0.0067\n",
            "Epoch: 181, Train Acc: 0.8733, Test Acc: 0.8158, Train Loss: 0.0053, Test Loss: 0.0067\n",
            "Epoch: 182, Train Acc: 0.8800, Test Acc: 0.8158, Train Loss: 0.0046, Test Loss: 0.0066\n",
            "Epoch: 183, Train Acc: 0.8667, Test Acc: 0.8158, Train Loss: 0.0050, Test Loss: 0.0068\n",
            "Epoch: 184, Train Acc: 0.8800, Test Acc: 0.8158, Train Loss: 0.0050, Test Loss: 0.0066\n",
            "Epoch: 185, Train Acc: 0.8800, Test Acc: 0.8421, Train Loss: 0.0047, Test Loss: 0.0068\n",
            "Epoch: 186, Train Acc: 0.8867, Test Acc: 0.8421, Train Loss: 0.0045, Test Loss: 0.0068\n",
            "Epoch: 187, Train Acc: 0.8667, Test Acc: 0.8158, Train Loss: 0.0046, Test Loss: 0.0072\n",
            "Epoch: 188, Train Acc: 0.8800, Test Acc: 0.8421, Train Loss: 0.0045, Test Loss: 0.0070\n",
            "Epoch: 189, Train Acc: 0.8867, Test Acc: 0.8421, Train Loss: 0.0045, Test Loss: 0.0065\n",
            "Epoch: 190, Train Acc: 0.8933, Test Acc: 0.8421, Train Loss: 0.0054, Test Loss: 0.0064\n",
            "Epoch: 191, Train Acc: 0.8800, Test Acc: 0.8158, Train Loss: 0.0055, Test Loss: 0.0064\n",
            "Epoch: 192, Train Acc: 0.8867, Test Acc: 0.8421, Train Loss: 0.0053, Test Loss: 0.0064\n",
            "Epoch: 193, Train Acc: 0.8867, Test Acc: 0.8421, Train Loss: 0.0045, Test Loss: 0.0065\n",
            "Epoch: 194, Train Acc: 0.9000, Test Acc: 0.8421, Train Loss: 0.0047, Test Loss: 0.0066\n",
            "Epoch: 195, Train Acc: 0.8867, Test Acc: 0.8158, Train Loss: 0.0048, Test Loss: 0.0068\n",
            "Epoch: 196, Train Acc: 0.8667, Test Acc: 0.7632, Train Loss: 0.0050, Test Loss: 0.0076\n",
            "Epoch: 197, Train Acc: 0.8600, Test Acc: 0.7632, Train Loss: 0.0047, Test Loss: 0.0075\n",
            "Epoch: 198, Train Acc: 0.8733, Test Acc: 0.8158, Train Loss: 0.0041, Test Loss: 0.0076\n",
            "Epoch: 199, Train Acc: 0.8533, Test Acc: 0.8158, Train Loss: 0.0053, Test Loss: 0.0074\n",
            "Epoch: 200, Train Acc: 0.8733, Test Acc: 0.8421, Train Loss: 0.0051, Test Loss: 0.0070\n",
            "Epoch: 201, Train Acc: 0.8800, Test Acc: 0.8421, Train Loss: 0.0052, Test Loss: 0.0068\n",
            "Epoch: 202, Train Acc: 0.8800, Test Acc: 0.8421, Train Loss: 0.0047, Test Loss: 0.0070\n",
            "Epoch: 203, Train Acc: 0.8733, Test Acc: 0.8421, Train Loss: 0.0058, Test Loss: 0.0069\n",
            "Epoch: 204, Train Acc: 0.8733, Test Acc: 0.8421, Train Loss: 0.0047, Test Loss: 0.0070\n",
            "Epoch: 205, Train Acc: 0.8867, Test Acc: 0.8421, Train Loss: 0.0051, Test Loss: 0.0071\n",
            "Epoch: 206, Train Acc: 0.8733, Test Acc: 0.8421, Train Loss: 0.0052, Test Loss: 0.0075\n",
            "Epoch: 207, Train Acc: 0.8667, Test Acc: 0.7895, Train Loss: 0.0045, Test Loss: 0.0075\n",
            "Epoch: 208, Train Acc: 0.8800, Test Acc: 0.8421, Train Loss: 0.0051, Test Loss: 0.0073\n",
            "Epoch: 209, Train Acc: 0.8800, Test Acc: 0.8158, Train Loss: 0.0044, Test Loss: 0.0074\n",
            "Epoch: 210, Train Acc: 0.8800, Test Acc: 0.7895, Train Loss: 0.0049, Test Loss: 0.0078\n",
            "Epoch: 211, Train Acc: 0.8667, Test Acc: 0.7632, Train Loss: 0.0048, Test Loss: 0.0080\n",
            "Epoch: 212, Train Acc: 0.8867, Test Acc: 0.8421, Train Loss: 0.0049, Test Loss: 0.0075\n",
            "Epoch: 213, Train Acc: 0.8800, Test Acc: 0.8158, Train Loss: 0.0043, Test Loss: 0.0068\n",
            "Epoch: 214, Train Acc: 0.8867, Test Acc: 0.8158, Train Loss: 0.0043, Test Loss: 0.0066\n",
            "Epoch: 215, Train Acc: 0.8800, Test Acc: 0.8421, Train Loss: 0.0050, Test Loss: 0.0068\n",
            "Epoch: 216, Train Acc: 0.8800, Test Acc: 0.8158, Train Loss: 0.0042, Test Loss: 0.0065\n",
            "Epoch: 217, Train Acc: 0.8800, Test Acc: 0.8158, Train Loss: 0.0051, Test Loss: 0.0064\n",
            "Epoch: 218, Train Acc: 0.8667, Test Acc: 0.8684, Train Loss: 0.0053, Test Loss: 0.0063\n",
            "Epoch: 219, Train Acc: 0.8800, Test Acc: 0.8158, Train Loss: 0.0046, Test Loss: 0.0065\n",
            "Epoch: 220, Train Acc: 0.8667, Test Acc: 0.8684, Train Loss: 0.0051, Test Loss: 0.0067\n",
            "Epoch: 221, Train Acc: 0.8667, Test Acc: 0.8684, Train Loss: 0.0045, Test Loss: 0.0068\n",
            "Epoch: 222, Train Acc: 0.8667, Test Acc: 0.8684, Train Loss: 0.0046, Test Loss: 0.0069\n",
            "Epoch: 223, Train Acc: 0.8667, Test Acc: 0.8684, Train Loss: 0.0045, Test Loss: 0.0070\n",
            "Epoch: 224, Train Acc: 0.8533, Test Acc: 0.8158, Train Loss: 0.0053, Test Loss: 0.0076\n",
            "Epoch: 225, Train Acc: 0.8667, Test Acc: 0.7632, Train Loss: 0.0046, Test Loss: 0.0074\n",
            "Epoch: 226, Train Acc: 0.8867, Test Acc: 0.8421, Train Loss: 0.0053, Test Loss: 0.0068\n",
            "Epoch: 227, Train Acc: 0.8867, Test Acc: 0.8158, Train Loss: 0.0048, Test Loss: 0.0065\n",
            "Epoch: 228, Train Acc: 0.8800, Test Acc: 0.8158, Train Loss: 0.0044, Test Loss: 0.0065\n",
            "Epoch: 229, Train Acc: 0.8800, Test Acc: 0.8158, Train Loss: 0.0047, Test Loss: 0.0068\n",
            "Epoch: 230, Train Acc: 0.8600, Test Acc: 0.8421, Train Loss: 0.0045, Test Loss: 0.0077\n",
            "Epoch: 231, Train Acc: 0.8800, Test Acc: 0.8158, Train Loss: 0.0047, Test Loss: 0.0069\n",
            "Epoch: 232, Train Acc: 0.8800, Test Acc: 0.8158, Train Loss: 0.0046, Test Loss: 0.0068\n",
            "Epoch: 233, Train Acc: 0.8800, Test Acc: 0.8158, Train Loss: 0.0049, Test Loss: 0.0067\n",
            "Epoch: 234, Train Acc: 0.8800, Test Acc: 0.8158, Train Loss: 0.0047, Test Loss: 0.0069\n",
            "Epoch: 235, Train Acc: 0.8800, Test Acc: 0.8158, Train Loss: 0.0045, Test Loss: 0.0068\n",
            "Epoch: 236, Train Acc: 0.8667, Test Acc: 0.8421, Train Loss: 0.0049, Test Loss: 0.0066\n",
            "Epoch: 237, Train Acc: 0.8800, Test Acc: 0.8158, Train Loss: 0.0050, Test Loss: 0.0069\n",
            "Epoch: 238, Train Acc: 0.8800, Test Acc: 0.8158, Train Loss: 0.0051, Test Loss: 0.0069\n",
            "Epoch: 239, Train Acc: 0.8800, Test Acc: 0.8158, Train Loss: 0.0051, Test Loss: 0.0066\n",
            "Epoch: 240, Train Acc: 0.8667, Test Acc: 0.8158, Train Loss: 0.0048, Test Loss: 0.0064\n",
            "Epoch: 241, Train Acc: 0.8667, Test Acc: 0.8421, Train Loss: 0.0042, Test Loss: 0.0063\n",
            "Epoch: 242, Train Acc: 0.8733, Test Acc: 0.8421, Train Loss: 0.0065, Test Loss: 0.0068\n",
            "Epoch: 243, Train Acc: 0.8800, Test Acc: 0.8421, Train Loss: 0.0048, Test Loss: 0.0067\n",
            "Epoch: 244, Train Acc: 0.8600, Test Acc: 0.8158, Train Loss: 0.0046, Test Loss: 0.0066\n",
            "Epoch: 245, Train Acc: 0.8800, Test Acc: 0.8158, Train Loss: 0.0049, Test Loss: 0.0066\n",
            "Epoch: 246, Train Acc: 0.8733, Test Acc: 0.8421, Train Loss: 0.0047, Test Loss: 0.0070\n",
            "Epoch: 247, Train Acc: 0.8867, Test Acc: 0.8421, Train Loss: 0.0045, Test Loss: 0.0069\n",
            "Epoch: 248, Train Acc: 0.8867, Test Acc: 0.8158, Train Loss: 0.0043, Test Loss: 0.0066\n",
            "Epoch: 249, Train Acc: 0.8800, Test Acc: 0.8158, Train Loss: 0.0050, Test Loss: 0.0068\n",
            "Epoch: 250, Train Acc: 0.8533, Test Acc: 0.7895, Train Loss: 0.0057, Test Loss: 0.0074\n",
            "Epoch: 251, Train Acc: 0.8933, Test Acc: 0.8421, Train Loss: 0.0046, Test Loss: 0.0070\n",
            "Epoch: 252, Train Acc: 0.8867, Test Acc: 0.8158, Train Loss: 0.0047, Test Loss: 0.0070\n",
            "Epoch: 253, Train Acc: 0.8867, Test Acc: 0.8158, Train Loss: 0.0049, Test Loss: 0.0069\n",
            "Epoch: 254, Train Acc: 0.8800, Test Acc: 0.8421, Train Loss: 0.0044, Test Loss: 0.0070\n",
            "Epoch: 255, Train Acc: 0.8733, Test Acc: 0.8158, Train Loss: 0.0047, Test Loss: 0.0073\n",
            "Epoch: 256, Train Acc: 0.8800, Test Acc: 0.8158, Train Loss: 0.0050, Test Loss: 0.0074\n",
            "Epoch: 257, Train Acc: 0.8667, Test Acc: 0.7632, Train Loss: 0.0042, Test Loss: 0.0080\n",
            "Epoch: 258, Train Acc: 0.8600, Test Acc: 0.7632, Train Loss: 0.0045, Test Loss: 0.0080\n",
            "Epoch: 259, Train Acc: 0.8867, Test Acc: 0.8158, Train Loss: 0.0049, Test Loss: 0.0073\n",
            "Epoch: 260, Train Acc: 0.8800, Test Acc: 0.7895, Train Loss: 0.0053, Test Loss: 0.0071\n",
            "Epoch: 261, Train Acc: 0.8800, Test Acc: 0.8158, Train Loss: 0.0047, Test Loss: 0.0068\n",
            "Epoch: 262, Train Acc: 0.8600, Test Acc: 0.8158, Train Loss: 0.0052, Test Loss: 0.0072\n",
            "Epoch: 263, Train Acc: 0.8867, Test Acc: 0.8421, Train Loss: 0.0051, Test Loss: 0.0064\n",
            "Epoch: 264, Train Acc: 0.8533, Test Acc: 0.8421, Train Loss: 0.0055, Test Loss: 0.0075\n",
            "Epoch: 265, Train Acc: 0.8800, Test Acc: 0.8158, Train Loss: 0.0048, Test Loss: 0.0071\n",
            "Epoch: 266, Train Acc: 0.8667, Test Acc: 0.8158, Train Loss: 0.0051, Test Loss: 0.0078\n",
            "Epoch: 267, Train Acc: 0.8533, Test Acc: 0.8158, Train Loss: 0.0049, Test Loss: 0.0077\n",
            "Epoch: 268, Train Acc: 0.8667, Test Acc: 0.8421, Train Loss: 0.0044, Test Loss: 0.0072\n",
            "Epoch: 269, Train Acc: 0.8800, Test Acc: 0.8158, Train Loss: 0.0050, Test Loss: 0.0065\n",
            "Epoch: 270, Train Acc: 0.8800, Test Acc: 0.8158, Train Loss: 0.0045, Test Loss: 0.0066\n",
            "Epoch: 271, Train Acc: 0.8800, Test Acc: 0.8158, Train Loss: 0.0049, Test Loss: 0.0065\n",
            "Epoch: 272, Train Acc: 0.8800, Test Acc: 0.8158, Train Loss: 0.0055, Test Loss: 0.0066\n",
            "Epoch: 273, Train Acc: 0.8800, Test Acc: 0.8158, Train Loss: 0.0054, Test Loss: 0.0067\n",
            "Epoch: 274, Train Acc: 0.8667, Test Acc: 0.8421, Train Loss: 0.0051, Test Loss: 0.0063\n",
            "Epoch: 275, Train Acc: 0.8800, Test Acc: 0.8158, Train Loss: 0.0043, Test Loss: 0.0066\n",
            "Epoch: 276, Train Acc: 0.8800, Test Acc: 0.8158, Train Loss: 0.0047, Test Loss: 0.0067\n",
            "Epoch: 277, Train Acc: 0.8800, Test Acc: 0.8158, Train Loss: 0.0046, Test Loss: 0.0067\n",
            "Epoch: 278, Train Acc: 0.8667, Test Acc: 0.8684, Train Loss: 0.0040, Test Loss: 0.0066\n",
            "Epoch: 279, Train Acc: 0.8667, Test Acc: 0.8684, Train Loss: 0.0043, Test Loss: 0.0066\n",
            "Epoch: 280, Train Acc: 0.8800, Test Acc: 0.8158, Train Loss: 0.0051, Test Loss: 0.0066\n",
            "Epoch: 281, Train Acc: 0.8800, Test Acc: 0.8158, Train Loss: 0.0049, Test Loss: 0.0067\n",
            "Epoch: 282, Train Acc: 0.8800, Test Acc: 0.8158, Train Loss: 0.0040, Test Loss: 0.0070\n",
            "Epoch: 283, Train Acc: 0.8800, Test Acc: 0.8158, Train Loss: 0.0042, Test Loss: 0.0067\n",
            "Epoch: 284, Train Acc: 0.8800, Test Acc: 0.8158, Train Loss: 0.0056, Test Loss: 0.0066\n",
            "Epoch: 285, Train Acc: 0.8867, Test Acc: 0.8158, Train Loss: 0.0047, Test Loss: 0.0066\n",
            "Epoch: 286, Train Acc: 0.8867, Test Acc: 0.8158, Train Loss: 0.0045, Test Loss: 0.0066\n",
            "Epoch: 287, Train Acc: 0.8800, Test Acc: 0.8421, Train Loss: 0.0046, Test Loss: 0.0066\n",
            "Epoch: 288, Train Acc: 0.8867, Test Acc: 0.8421, Train Loss: 0.0041, Test Loss: 0.0066\n",
            "Epoch: 289, Train Acc: 0.8800, Test Acc: 0.8158, Train Loss: 0.0043, Test Loss: 0.0066\n",
            "Epoch: 290, Train Acc: 0.8800, Test Acc: 0.8158, Train Loss: 0.0043, Test Loss: 0.0071\n",
            "Epoch: 291, Train Acc: 0.8667, Test Acc: 0.7632, Train Loss: 0.0044, Test Loss: 0.0074\n",
            "Epoch: 292, Train Acc: 0.8800, Test Acc: 0.8158, Train Loss: 0.0047, Test Loss: 0.0070\n",
            "Epoch: 293, Train Acc: 0.8800, Test Acc: 0.8158, Train Loss: 0.0048, Test Loss: 0.0073\n",
            "Epoch: 294, Train Acc: 0.8800, Test Acc: 0.8158, Train Loss: 0.0047, Test Loss: 0.0074\n",
            "Epoch: 295, Train Acc: 0.8800, Test Acc: 0.8158, Train Loss: 0.0047, Test Loss: 0.0072\n",
            "Epoch: 296, Train Acc: 0.8800, Test Acc: 0.8158, Train Loss: 0.0046, Test Loss: 0.0066\n",
            "Epoch: 297, Train Acc: 0.8867, Test Acc: 0.8158, Train Loss: 0.0050, Test Loss: 0.0064\n",
            "Epoch: 298, Train Acc: 0.8800, Test Acc: 0.8421, Train Loss: 0.0046, Test Loss: 0.0065\n",
            "Epoch: 299, Train Acc: 0.8400, Test Acc: 0.8684, Train Loss: 0.0047, Test Loss: 0.0065\n",
            "Epoch: 300, Train Acc: 0.8400, Test Acc: 0.8684, Train Loss: 0.0049, Test Loss: 0.0064\n"
          ]
        }
      ]
    },
    {
      "cell_type": "markdown",
      "source": [
        "## C. Observe how the accuracy changes by varying the type of graph convolution (GCNConv, GraphConv, GAT, e.g.)."
      ],
      "metadata": {
        "id": "Gf9GAVLDMtq2"
      }
    },
    {
      "cell_type": "markdown",
      "source": [
        "### Define GCNConv model"
      ],
      "metadata": {
        "id": "P7X251gkaKsK"
      }
    },
    {
      "cell_type": "code",
      "source": [
        "from torch_geometric.nn import GCNConv\n",
        "\n",
        "class GCNConvModel(torch.nn.Module):\n",
        "    def __init__(self, num_node_features, num_classes, hidden_channels):\n",
        "        super(GCNConvModel, self).__init__()\n",
        "        torch.manual_seed(10)\n",
        "        self.conv1 = GCNConv(dataset.num_node_features, hidden_channels)\n",
        "        self.conv2 = GCNConv(hidden_channels, hidden_channels)\n",
        "        self.conv3 = GCNConv(hidden_channels, hidden_channels)\n",
        "        self.lin = Linear(hidden_channels, dataset.num_classes)\n",
        "\n",
        "    def forward(self, data):\n",
        "        x, edge_index, batch = data.x, data.edge_index, data.batch\n",
        "        x = self.conv1(x, edge_index)\n",
        "        x = x.relu()\n",
        "        x = self.conv2(x, edge_index)\n",
        "        x = x.relu()\n",
        "        x = self.conv3(x, edge_index)\n",
        "\n",
        "        x = global_mean_pool(x, batch)\n",
        "\n",
        "        x = F.dropout(x, p=0.5, training=self.training)\n",
        "        x = self.lin(x)\n",
        "\n",
        "        return F.log_softmax(x, dim=1)\n",
        "\n",
        "model = GCNConvModel(num_node_features=7, num_classes=2, hidden_channels=64)\n",
        "print(model)"
      ],
      "metadata": {
        "colab": {
          "base_uri": "https://localhost:8080/"
        },
        "id": "R59V8pmSAvUM",
        "outputId": "be0a7fbe-e07f-45aa-a157-c34ac24314db"
      },
      "execution_count": 12,
      "outputs": [
        {
          "output_type": "stream",
          "name": "stdout",
          "text": [
            "GCNConvModel(\n",
            "  (conv1): GCNConv(7, 64)\n",
            "  (conv2): GCNConv(64, 64)\n",
            "  (conv3): GCNConv(64, 64)\n",
            "  (lin): Linear(in_features=64, out_features=2, bias=True)\n",
            ")\n"
          ]
        }
      ]
    },
    {
      "cell_type": "markdown",
      "source": [
        "### Define GATConv model"
      ],
      "metadata": {
        "id": "9zpUYRUeabEB"
      }
    },
    {
      "cell_type": "code",
      "source": [
        "from torch_geometric.nn import GATConv\n",
        "\n",
        "class GATConvModel(torch.nn.Module):\n",
        "    def __init__(self, num_node_features, num_classes, hidden_channels):\n",
        "        super(GATConvModel, self).__init__()\n",
        "        torch.manual_seed(10)\n",
        "        self.conv1 = GATConv(dataset.num_node_features, hidden_channels)\n",
        "        self.conv2 = GATConv(hidden_channels, hidden_channels)\n",
        "        self.conv3 = GATConv(hidden_channels, hidden_channels)\n",
        "        self.lin = Linear(hidden_channels, dataset.num_classes)\n",
        "\n",
        "    def forward(self, data):\n",
        "        x, edge_index, batch = data.x, data.edge_index, data.batch\n",
        "        x = self.conv1(x, edge_index)\n",
        "        x = x.relu()\n",
        "        x = self.conv2(x, edge_index)\n",
        "        x = x.relu()\n",
        "        x = self.conv3(x, edge_index)\n",
        "\n",
        "        x = global_mean_pool(x, batch)\n",
        "        x = F.dropout(x, p=0.5, training=self.training)\n",
        "        x = self.lin(x)\n",
        "\n",
        "        return F.log_softmax(x, dim=1)\n",
        "\n",
        "model = GATConvModel(num_node_features=7, num_classes=2, hidden_channels=64)\n",
        "print(model)"
      ],
      "metadata": {
        "colab": {
          "base_uri": "https://localhost:8080/"
        },
        "id": "e816cuP__3nH",
        "outputId": "33e0db81-6bea-4c0d-f90d-dffbdcb75fb6"
      },
      "execution_count": 13,
      "outputs": [
        {
          "output_type": "stream",
          "name": "stdout",
          "text": [
            "GATConvModel(\n",
            "  (conv1): GATConv(7, 64, heads=1)\n",
            "  (conv2): GATConv(64, 64, heads=1)\n",
            "  (conv3): GATConv(64, 64, heads=1)\n",
            "  (lin): Linear(in_features=64, out_features=2, bias=True)\n",
            ")\n"
          ]
        }
      ]
    },
    {
      "cell_type": "markdown",
      "source": [
        "### Define GraphConv model"
      ],
      "metadata": {
        "id": "w9riwD54e39Y"
      }
    },
    {
      "cell_type": "code",
      "source": [
        "from torch_geometric.nn import GraphConv\n",
        "\n",
        "class GraphConvModel(torch.nn.Module):\n",
        "    def __init__(self, num_node_features, num_classes, hidden_channels):\n",
        "        super(GraphConvModel, self).__init__()\n",
        "        torch.manual_seed(10)\n",
        "        self.conv1 = GraphConv(dataset.num_node_features, hidden_channels)\n",
        "        self.conv2 = GraphConv(hidden_channels, hidden_channels)\n",
        "        self.conv3 = GraphConv(hidden_channels, hidden_channels)\n",
        "        self.lin = Linear(hidden_channels, dataset.num_classes)\n",
        "\n",
        "    def forward(self, data):\n",
        "        x, edge_index, batch = data.x, data.edge_index, data.batch\n",
        "        x = self.conv1(x, edge_index)\n",
        "        x = x.relu()\n",
        "        x = self.conv2(x, edge_index)\n",
        "        x = x.relu()\n",
        "        x = self.conv3(x, edge_index)\n",
        "\n",
        "        x = global_mean_pool(x, batch)\n",
        "\n",
        "        x = F.dropout(x, p=0.5, training=self.training)\n",
        "        x = self.lin(x)\n",
        "\n",
        "        return F.log_softmax(x, dim=1)\n",
        "\n",
        "model = GraphConvModel(num_node_features=7, num_classes=2, hidden_channels=64)\n",
        "print(model)"
      ],
      "metadata": {
        "colab": {
          "base_uri": "https://localhost:8080/"
        },
        "id": "MCN9iZVaXL8o",
        "outputId": "c1f1fd0f-6355-4b6a-ec2a-4cba33d391ae"
      },
      "execution_count": 14,
      "outputs": [
        {
          "output_type": "stream",
          "name": "stdout",
          "text": [
            "GraphConvModel(\n",
            "  (conv1): GraphConv(7, 64)\n",
            "  (conv2): GraphConv(64, 64)\n",
            "  (conv3): GraphConv(64, 64)\n",
            "  (lin): Linear(in_features=64, out_features=2, bias=True)\n",
            ")\n"
          ]
        }
      ]
    },
    {
      "cell_type": "markdown",
      "source": [
        "### Define SAGEConv model"
      ],
      "metadata": {
        "id": "LBotjlIT7WV7"
      }
    },
    {
      "cell_type": "code",
      "source": [
        "from torch_geometric.nn import SAGEConv\n",
        "\n",
        "class SAGEConvModel(torch.nn.Module):\n",
        "    def __init__(self, num_node_features, num_classes, hidden_channels):\n",
        "        super(SAGEConvModel, self).__init__()\n",
        "        torch.manual_seed(10)\n",
        "        self.conv1 = SAGEConv(dataset.num_node_features, hidden_channels)\n",
        "        self.conv2 = SAGEConv(hidden_channels, hidden_channels)\n",
        "        self.conv3 = SAGEConv(hidden_channels, hidden_channels)\n",
        "        self.lin = Linear(hidden_channels, dataset.num_classes)\n",
        "\n",
        "    def forward(self, data):\n",
        "        x, edge_index, batch = data.x, data.edge_index, data.batch\n",
        "        x = self.conv1(x, edge_index)\n",
        "        x = x.relu()\n",
        "        x = self.conv2(x, edge_index)\n",
        "        x = x.relu()\n",
        "        x = self.conv3(x, edge_index)\n",
        "\n",
        "        x = global_mean_pool(x, batch)\n",
        "\n",
        "        x = F.dropout(x, p=0.5, training=self.training)\n",
        "        x = self.lin(x)\n",
        "\n",
        "        return F.log_softmax(x, dim=1)\n",
        "\n",
        "model = SAGEConvModel(num_node_features=7, num_classes=2, hidden_channels=64)\n",
        "print(model)"
      ],
      "metadata": {
        "colab": {
          "base_uri": "https://localhost:8080/"
        },
        "id": "AgJt2C-e-4nu",
        "outputId": "0fd6b423-9d85-44b5-b21a-086c4f1d9f58"
      },
      "execution_count": 15,
      "outputs": [
        {
          "output_type": "stream",
          "name": "stdout",
          "text": [
            "SAGEConvModel(\n",
            "  (conv1): SAGEConv(7, 64, aggr=mean)\n",
            "  (conv2): SAGEConv(64, 64, aggr=mean)\n",
            "  (conv3): SAGEConv(64, 64, aggr=mean)\n",
            "  (lin): Linear(in_features=64, out_features=2, bias=True)\n",
            ")\n"
          ]
        }
      ]
    },
    {
      "cell_type": "markdown",
      "source": [
        "### Define TransformerConv model"
      ],
      "metadata": {
        "id": "n7SRCGkcAfE9"
      }
    },
    {
      "cell_type": "code",
      "source": [
        "from torch_geometric.nn import TransformerConv\n",
        "\n",
        "class TransformerConvModel(torch.nn.Module):\n",
        "    def __init__(self, num_node_features, num_classes, hidden_channels):\n",
        "        super(TransformerConvModel, self).__init__()\n",
        "        torch.manual_seed(10)\n",
        "        self.conv1 = TransformerConv(dataset.num_node_features, hidden_channels)\n",
        "        self.conv2 = TransformerConv(hidden_channels, hidden_channels)\n",
        "        self.conv3 = TransformerConv(hidden_channels, hidden_channels)\n",
        "        self.lin = Linear(hidden_channels, dataset.num_classes)\n",
        "\n",
        "    def forward(self, data):\n",
        "        x, edge_index, batch = data.x, data.edge_index, data.batch\n",
        "        x = self.conv1(x, edge_index)\n",
        "        x = x.relu()\n",
        "        x = self.conv2(x, edge_index)\n",
        "        x = x.relu()\n",
        "        x = self.conv3(x, edge_index)\n",
        "\n",
        "        x = global_mean_pool(x, batch)\n",
        "\n",
        "        x = F.dropout(x, p=0.5, training=self.training)\n",
        "        x = self.lin(x)\n",
        "\n",
        "        return F.log_softmax(x, dim=1)\n",
        "\n",
        "model = TransformerConvModel(num_node_features=7, num_classes=2, hidden_channels=64)\n",
        "print(model)"
      ],
      "metadata": {
        "colab": {
          "base_uri": "https://localhost:8080/"
        },
        "id": "-9fObPr9AobA",
        "outputId": "055e2931-5843-4cf9-feba-50aaa532d081"
      },
      "execution_count": 16,
      "outputs": [
        {
          "output_type": "stream",
          "name": "stdout",
          "text": [
            "TransformerConvModel(\n",
            "  (conv1): TransformerConv(7, 64, heads=1)\n",
            "  (conv2): TransformerConv(64, 64, heads=1)\n",
            "  (conv3): TransformerConv(64, 64, heads=1)\n",
            "  (lin): Linear(in_features=64, out_features=2, bias=True)\n",
            ")\n"
          ]
        }
      ]
    },
    {
      "cell_type": "markdown",
      "source": [
        "### Define train and evaluate model"
      ],
      "metadata": {
        "id": "Fom42mEoBcJN"
      }
    },
    {
      "cell_type": "code",
      "source": [
        "def train_and_evaluate(model, train_loader, test_loader):\n",
        "    optimizer = torch.optim.Adam(model.parameters(), lr=0.01)\n",
        "    criterion = torch.nn.CrossEntropyLoss()\n",
        "\n",
        "    # Train the model\n",
        "    model.train()\n",
        "    for epoch in range(500):\n",
        "        for data in train_loader:\n",
        "            optimizer.zero_grad()\n",
        "            out = model(data)\n",
        "            loss = criterion(out, data.y)\n",
        "            loss.backward()\n",
        "            optimizer.step()\n",
        "\n",
        "    # Evaluate the model\n",
        "    model.eval()\n",
        "    correct = 0\n",
        "    loss_ = 0\n",
        "    for data in test_loader:\n",
        "        out = model(data)\n",
        "        pred = out.argmax(dim=1)\n",
        "        loss = criterion(out, data.y)\n",
        "        loss_ += loss.item()\n",
        "        correct += pred.eq(data.y).sum().item()\n",
        "    accuracy = correct / len(test_loader.dataset)\n",
        "\n",
        "    return accuracy"
      ],
      "metadata": {
        "id": "xFJSDKs1CwqK"
      },
      "execution_count": 17,
      "outputs": []
    },
    {
      "cell_type": "code",
      "source": [
        " hidden_channels=64\n",
        "\n",
        " models = {\n",
        "    'GCN': GCNConvModel(dataset.num_node_features, dataset.num_classes, hidden_channels),\n",
        "    'GAT': GATConvModel(dataset.num_node_features, dataset.num_classes, hidden_channels),\n",
        "    'GraphConv': GraphConvModel(dataset.num_node_features, dataset.num_classes, hidden_channels),\n",
        "    'SAGE': SAGEConvModel(dataset.num_node_features, dataset.num_classes, hidden_channels),\n",
        "    'Transformer': TransformerConvModel(dataset.num_node_features, dataset.num_classes, hidden_channels)\n",
        "}"
      ],
      "metadata": {
        "id": "-D9zZAVNhPBw"
      },
      "execution_count": 18,
      "outputs": []
    },
    {
      "cell_type": "code",
      "source": [
        "for model_name, model in models.items():\n",
        "    accuracy = train_and_evaluate(model, train_loader, test_loader)\n",
        "    print(f'Accuracy of {model_name}: {accuracy:.4f}')"
      ],
      "metadata": {
        "colab": {
          "base_uri": "https://localhost:8080/"
        },
        "id": "XYPY3sisBtCS",
        "outputId": "b21e08ee-4df6-45d1-fe30-f718ea240f4f"
      },
      "execution_count": 19,
      "outputs": [
        {
          "output_type": "stream",
          "name": "stdout",
          "text": [
            "Accuracy of GCN: 0.8684\n",
            "Accuracy of GAT: 0.7895\n",
            "Accuracy of GraphConv: 0.9211\n",
            "Accuracy of SAGE: 0.8421\n",
            "Accuracy of Transformer: 0.7368\n"
          ]
        }
      ]
    },
    {
      "cell_type": "markdown",
      "source": [
        "## D. Explain the mechanism of dividing graphic data into smaller batches (mini-batch) during the training process."
      ],
      "metadata": {
        "id": "76JTKaDogtKM"
      }
    },
    {
      "cell_type": "markdown",
      "source": [
        "Recently, the training of GNNs has been widening to very large graphs. The number of nodes and the edges of these graphs reach millions to billions and the graphs with such scales make the ordinary naive software/hardware approaches ineffective. The earlier implementations of GNN were mostly focusing on a small scale graphs and assumed the whole graph fits into a single GPU memory. However, for large graphs whose node/edge feature data cannot fit into the GPU memory, at least part of the graph needs to be placed into the CPU memory. One common practice to train GNNs in such scenario is to create a smaller set of problem by performing a mini-batched training. With the mini-batch training, only a subset of nodes are randomly picked along with their neighboring nodes and sent to GPU. This method is very effective when training GNNs on large graphs as it practically reduces the memory footprint of the application. Overall, the use of mini-batches in the training process helps to manage memory usage, improve computational efficiency, and facilitate the training of graph-based machine learning models on large-scale graph data (1).\n",
        "\n",
        "A mini-batch training process that places the all or part of the input graph feature data in the CPU memory needs to frequently transfer mini-batch data from CPU to GPU through a slow PCIe interconnect. Furthermore, the minibatch method amplifies the total amount of data access because the different minibatches can have overlapping nodes. Due to these reasons, training GNN is often throttled by CPU-GPU data transfer time (1).\n"
      ],
      "metadata": {
        "id": "lm7ShXx230mM"
      }
    },
    {
      "cell_type": "markdown",
      "source": [
        "The mechanism of dividing graph data into mini-batches during the training process aims to improve training speed and enhance the efficiency of training\n",
        "in graph-based machine learning models, such as graph neural networks (GNNs). This approach optimizes the training process by using small batches of data instead of the entire dataset in each training step. By breaking down the data into mini-batches, it allows for leveraging parallel processing capabilities and optimizing memory usage, resulting in advantages in terms of speed and efficiency. Additionally, training on mini-batches can reduce the risk of overfitting as the model learns interactively on a small subset of data rather than fitting precisely to the entire dataset and preventing the model from memorizing the entire dataset. In a graph-based model, the input data is split into batches of a specified size using appropriate data structures and algorithms. During each training iteration, the network model is then trained on each mini-batch separately at a time, and after completing the training on each mini-batch, its parameters (weights) are updated based on the gradients computed on that mini-batch. This process iterates for multiple epochs until all data has been trained on or until the model converges or reaches a certain stopping criterion, such as reaching a specified number of training epochs or achieving the desired accuracy level (2)."
      ],
      "metadata": {
        "id": "rj27pN4r-r1_"
      }
    },
    {
      "cell_type": "markdown",
      "source": [
        "The mechanism of dividing graph data into mini-batches during the training process faces particular challenges due to the connected and non-uniform structure of graphs. Below, the mechanism of batching graph data is explained in detail (2):\n",
        "\n",
        "1. **Graph Aggregation into a Batch:**\n",
        "   - **Graph Merging:** To create a batch, multiple independent graphs are aggregated into a larger graph. This process involves combining the node and edge lists of individual graphs.\n",
        "   - **Preserving Graph Structure:** During aggregation, the edges of each individual graph are preserved separately to ensure that connections between nodes in different graphs are not established erroneously.\n",
        "\n",
        "2. **Node Indexing:**\n",
        "   - **Graph Indices (Batch Indices):** Graph indices are utilized to maintain information related to each graph within the batch. These indices indicate the source graph of each node in the batch.\n",
        "   - **Adjusting Edge Indices:** Edge indices for each graph need to be adjusted to reflect the new positions of nodes in the batch. This adjustment is achieved by adding an offset to the edge indices of each graph.\n",
        "\n",
        "3. **DataLoader Process in torch_geometric:**\n",
        "   - **Automatic Aggregation:** DataLoader in torch_geometric streamlines the aggregation of graphs into batches automatically. This process entails the fusion of nodes, edges, and other graph features.\n",
        "   - **Load Balancing:** DataLoader strives to balance the computational workload in each batch, considering variations in the number of nodes and edges across different graphs.\n",
        "\n",
        "4. **Batch Processing in GNN:**\n",
        "   - **Independent Node Computations:** In Graph Neural Networks (GNNs), computations for each node, including features and neighbors, are performed independently of other nodes. This enables parallel processing of multiple graphs within a batch.\n",
        "   - **Utilizing Graph Indices:** Graph indices play a crucial role in node processing, ensuring that computations related to a specific graph in the batch are only applied to the nodes of that graph.\n",
        "\n",
        "By implementing this mechanism, torch_geometric effectively categorizes graph data, enhancing computational efficiency while preserving the original structure and features of the graphs throughout the training process (2)."
      ],
      "metadata": {
        "id": "oMDzGbUzMb_x"
      }
    },
    {
      "cell_type": "markdown",
      "source": [
        "Current deep learning models for classification tasks in computer vision are trained using minibatches. They take advantage of the relationships between samples in a minibatch, using graph neural networks to aggregate information from similar images. This helps mitigate the adverse effects of alterations to the input images on classification performance. Diverse experiments on image-based object and scene classification show that this approach not only improves a classifier’s performance but also increases its robustness to image perturbations and adversarial attacks. Further, mini-batch graph neural networks can help to alleviate the problem of mode collapse in Generative Adversarial Networks (3).\n",
        "\n",
        "In most of these settings, the training data is divided into mini-batches to adjust to limitations in computational and memory resources. Within a particular mini-batch, the input images may have varying degrees of similarity between them. Exploiting this variability during the feature encoding stage has the potential to improve the performance of downstream computer vision tasks. Motivated by this idea, different approaches have been proposed to take advantage of the relationships between samples in a mini-batch for computer vision tasks, and in particular for image-based classification. These approaches all explicitly encourage the embeddings in the feature space to be close to one another when the underlying images are similar, by using an extra similarity based loss term (3).\n",
        "\n",
        "One of these approach is based on the construction of a graph from each mini-batch of samples, which allows information to be pooled across those with similar features, using graph convolution operations. As such, the requirement that similar images have similar embeddings is implicit, in that no additional loss term has to be optimized. This allows for the aggregation of features during training in a manner that adjusts dynamically to each particular mini-batch ensemble of images. A perturbation analysis explains how this, in turn, affords a degree of robustness to input image alterations and adversarial attacks (3)."
      ],
      "metadata": {
        "id": "F3nR-g6a80Rw"
      }
    },
    {
      "cell_type": "markdown",
      "source": [
        "References:\n",
        "1. Min, Seung Won, et al. \"Graph neural network training and data tiering.\" Proceedings of the 28th ACM SIGKDD Conference on Knowledge Discovery and Data Mining. 2022.\n",
        "2. ChatGPT\n",
        "3. Mondal, Arnab Kumar, Vineet Jain, and Kaleem Siddiqi. \"Mini-batch graphs for robust image classification.\" arXiv preprint arXiv:2105.03237 (2021)."
      ],
      "metadata": {
        "id": "KjlWKB2_yv02"
      }
    }
  ]
}