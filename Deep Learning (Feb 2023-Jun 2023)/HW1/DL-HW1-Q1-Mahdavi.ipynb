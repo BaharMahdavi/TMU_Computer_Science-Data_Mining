{
 "cells": [
  {
   "cell_type": "markdown",
   "id": "22869ced",
   "metadata": {},
   "source": [
    "# The Deep Learning Homework - Question No. 1  \n",
    "Bahar Mahdavi - SN: 40152521337"
   ]
  },
  {
   "cell_type": "markdown",
   "id": "58a92668",
   "metadata": {},
   "source": [
    "# A. Unable to Learn XOR with a single layer perceptron (SLP)"
   ]
  },
  {
   "cell_type": "markdown",
   "id": "1237c316",
   "metadata": {},
   "source": [
    "# XOR Truth Table:"
   ]
  },
  {
   "cell_type": "code",
   "execution_count": 1,
   "id": "52979f00",
   "metadata": {},
   "outputs": [
    {
     "name": "stdout",
     "output_type": "stream",
     "text": [
      "0 XOR 0 = 0\n",
      "0 XOR 1 = 1\n",
      "1 XOR 0 = 1\n",
      "1 XOR 1 = 0\n"
     ]
    }
   ],
   "source": [
    "# first way\n",
    "for A in [0, 1]:\n",
    "    for B in [0, 1]:\n",
    "        print(\"{} XOR {} = {}\".format(A, B, A ^ B))"
   ]
  },
  {
   "cell_type": "code",
   "execution_count": 2,
   "id": "cf4ee914",
   "metadata": {},
   "outputs": [
    {
     "name": "stdout",
     "output_type": "stream",
     "text": [
      "|-------------------------|\n",
      "|        XOR GATE         |\n",
      "|-------------------------|\n",
      "|   A   |   B   |    X    |\n",
      "|_________________________|\n",
      "|   0   |   0   |    0    |\n",
      "|_________________________|\n",
      "|   0   |   1   |    1    |\n",
      "|_________________________|\n",
      "|   1   |   0   |    1    |\n",
      "|_________________________|\n",
      "|   1   |   1   |    0    |\n",
      "|_________________________|\n"
     ]
    }
   ],
   "source": [
    "# second way\n",
    "def XOR (A, B): \n",
    "    if A != B: \n",
    "        return 1\n",
    "    else: \n",
    "        return 0 \n",
    "print(\"|-------------------------|\")\n",
    "print(\"|        XOR GATE         |\")  \n",
    "print(\"|-------------------------|\")      \n",
    "print(\"|   A   |   B   |    X    |\") \n",
    "print(\"|_________________________|\")       \n",
    "print(\"|   0   |   0   |\",\"  \",XOR(0,0) ,\"   |\")\n",
    "print(\"|_________________________|\")\n",
    "print(\"|   0   |   1   |\",\"  \",XOR(0,1) ,\"   |\")\n",
    "print(\"|_________________________|\")\n",
    "print(\"|   1   |   0   |\",\"  \",XOR(1,0) ,\"   |\")\n",
    "print(\"|_________________________|\")\n",
    "print(\"|   1   |   1   |\",\"  \",XOR(1,1) ,\"   |\")\n",
    "print(\"|_________________________|\")"
   ]
  },
  {
   "cell_type": "markdown",
   "id": "19f1a80d",
   "metadata": {},
   "source": [
    "# XOR Graph in 2-Dimensional Space:"
   ]
  },
  {
   "cell_type": "code",
   "execution_count": 3,
   "id": "7030c0ce",
   "metadata": {},
   "outputs": [],
   "source": [
    "import numpy as np\n",
    "import matplotlib.pyplot as plt"
   ]
  },
  {
   "cell_type": "code",
   "execution_count": 4,
   "id": "c0d0255a",
   "metadata": {},
   "outputs": [],
   "source": [
    "X1 = np.array ([0., 0., 1., 1.], dtype = np.float32)\n",
    "X2 = np.array ([0., 1., 0., 1.], dtype = np.float32)\n",
    "y = np.array ([0., 1., 1., 0.], dtype = np.float32)"
   ]
  },
  {
   "cell_type": "code",
   "execution_count": 5,
   "id": "c91ac8b3",
   "metadata": {},
   "outputs": [
    {
     "data": {
      "text/plain": [
       "<matplotlib.collections.PathCollection at 0x198a89068b0>"
      ]
     },
     "execution_count": 5,
     "metadata": {},
     "output_type": "execute_result"
    },
    {
     "data": {
      "image/png": "[encoded data removed]",
      "text/plain": [
       "<Figure size 640x480 with 1 Axes>"
      ]
     },
     "metadata": {},
     "output_type": "display_data"
    }
   ],
   "source": [
    "plt.scatter(X1, X2, c = y)"
   ]
  },
  {
   "cell_type": "markdown",
   "id": "e7ff57ff",
   "metadata": {},
   "source": [
    "# Perceptron Model Without any Hidden Layers"
   ]
  },
  {
   "cell_type": "code",
   "execution_count": 6,
   "id": "0661723f",
   "metadata": {},
   "outputs": [],
   "source": [
    "import torch\n",
    "import torch.nn as nn\n",
    "import torch.nn.functional as F\n",
    "import torch.optim as optim"
   ]
  },
  {
   "cell_type": "code",
   "execution_count": 7,
   "id": "2fc8780b",
   "metadata": {},
   "outputs": [],
   "source": [
    "# XOR definition\n",
    "X = torch.FloatTensor([[0, 0], [0, 1], [1, 0], [1, 1]])\n",
    "y = torch.FloatTensor([[0], [1], [1], [0]])"
   ]
  },
  {
   "cell_type": "code",
   "execution_count": 8,
   "id": "d381e45c",
   "metadata": {},
   "outputs": [
    {
     "name": "stdout",
     "output_type": "stream",
     "text": [
      "tensor([[0., 0.],\n",
      "        [0., 1.],\n",
      "        [1., 0.],\n",
      "        [1., 1.]])\n",
      "\n",
      "tensor([[0.],\n",
      "        [1.],\n",
      "        [1.],\n",
      "        [0.]])\n"
     ]
    }
   ],
   "source": [
    "print(X)\n",
    "print()\n",
    "print(y)"
   ]
  },
  {
   "cell_type": "markdown",
   "id": "2e835575",
   "metadata": {},
   "source": [
    "# Binary Cross Entropy: \n",
    "ℓ(x,y)=L={l1,…,lN}⊤,ln=−wn[yn⋅logxn+(1−yn)⋅log(1−xn)]"
   ]
  },
  {
   "cell_type": "code",
   "execution_count": 9,
   "id": "283dbcc9",
   "metadata": {},
   "outputs": [],
   "source": [
    "# perceptron model without hidden layer (Construction of network architecture by 2 input into 1 output)\n",
    "linear = nn.Linear(2, 1, bias=True)\n",
    "sigmoid = nn.Sigmoid()\n",
    "\n",
    "model = nn.Sequential(linear, sigmoid) \n",
    "\n",
    "# another way: model = Sequential(Linear(2, 1), Sigmoid()) "
   ]
  },
  {
   "cell_type": "code",
   "execution_count": 10,
   "id": "026b5f63",
   "metadata": {},
   "outputs": [],
   "source": [
    "# define cost/loss & optimizer\n",
    "criterion = nn.BCELoss() # Binary Cross Entropy Loss\n",
    "optimizer = optim.SGD(model.parameters(), lr=0.1) # Stochastic Gradient Descent"
   ]
  },
  {
   "cell_type": "code",
   "execution_count": 11,
   "id": "556d8eee",
   "metadata": {},
   "outputs": [
    {
     "name": "stdout",
     "output_type": "stream",
     "text": [
      "step: 0  loss: 0.8681239485740662\n",
      "step: 1000  loss: 0.6931473016738892\n",
      "step: 2000  loss: 0.6931471824645996\n",
      "step: 3000  loss: 0.6931471824645996\n",
      "step: 4000  loss: 0.6931471824645996\n",
      "step: 5000  loss: 0.6931471824645996\n",
      "step: 6000  loss: 0.6931471824645996\n",
      "step: 7000  loss: 0.6931471824645996\n",
      "step: 8000  loss: 0.6931471824645996\n",
      "step: 9000  loss: 0.6931471824645996\n",
      "step: 10000  loss: 0.6931471824645996\n",
      "step: 11000  loss: 0.6931471824645996\n",
      "step: 12000  loss: 0.6931471824645996\n",
      "step: 13000  loss: 0.6931471824645996\n",
      "step: 14000  loss: 0.6931471824645996\n",
      "step: 15000  loss: 0.6931471824645996\n",
      "step: 16000  loss: 0.6931471824645996\n",
      "step: 17000  loss: 0.6931471824645996\n",
      "step: 18000  loss: 0.6931471824645996\n",
      "step: 19000  loss: 0.6931471824645996\n"
     ]
    }
   ],
   "source": [
    "for epoch in range(20000):\n",
    "    pred = model(X)\n",
    "    loss = criterion(pred, y) # cost/loss function\n",
    "    \n",
    "    optimizer.zero_grad() # remove current gradients for next iteration\n",
    "    loss.backward() # backpropogate through the loss gradiants\n",
    "    optimizer.step() # update model weights\n",
    "    \n",
    "    if epoch%1000==0:\n",
    "        print('step:', epoch, \" loss:\", loss.item())"
   ]
  },
  {
   "cell_type": "code",
   "execution_count": 12,
   "id": "95189bf9",
   "metadata": {},
   "outputs": [
    {
     "name": "stdout",
     "output_type": "stream",
     "text": [
      "tensor([[0.5000],\n",
      "        [0.5000],\n",
      "        [0.5000],\n",
      "        [0.5000]], grad_fn=<SigmoidBackward0>)\n"
     ]
    }
   ],
   "source": [
    "pred = model(X)\n",
    "print(pred)"
   ]
  },
  {
   "cell_type": "code",
   "execution_count": 13,
   "id": "08a22e82",
   "metadata": {},
   "outputs": [
    {
     "name": "stdout",
     "output_type": "stream",
     "text": [
      "pridicted: 0.5  label: 0.0\n",
      "pridicted: 0.5  label: 1.0\n",
      "pridicted: 0.5  label: 1.0\n",
      "pridicted: 0.5  label: 0.0\n"
     ]
    }
   ],
   "source": [
    "# model evaluation\n",
    "model.eval() \n",
    "answer = model(X)\n",
    "for i in range(4):\n",
    "    print(\"pridicted:\", answer[i].item(), \" label:\", y[i].item())"
   ]
  },
  {
   "cell_type": "markdown",
   "id": "962d9e5b",
   "metadata": {},
   "source": [
    "# Mean Squared Error (L2 norm): \n",
    "ℓ(x,y)=L={l1,…,lN}⊤,ln=(xn−yn)2"
   ]
  },
  {
   "cell_type": "code",
   "execution_count": 14,
   "id": "a5d6cb80",
   "metadata": {},
   "outputs": [],
   "source": [
    "# perceptron model without hidden layer (Construction of network architecture by 2 input into 1 output)\n",
    "linear = nn.Linear(2, 1, bias=True)\n",
    "sigmoid = nn.Sigmoid()\n",
    "\n",
    "model = nn.Sequential(linear, sigmoid) \n",
    "\n",
    "# another way: model = Sequential(Linear(2, 1), Sigmoid()) "
   ]
  },
  {
   "cell_type": "code",
   "execution_count": 15,
   "id": "4eda7061",
   "metadata": {},
   "outputs": [],
   "source": [
    "# define cost/loss & optimizer\n",
    "criterion = nn.MSELoss() # Mean Squared Error Loss\n",
    "optimizer = optim.SGD(model.parameters(), lr=0.1) # Stochastic Gradient Descent"
   ]
  },
  {
   "cell_type": "code",
   "execution_count": 16,
   "id": "2b8919d0",
   "metadata": {},
   "outputs": [
    {
     "name": "stdout",
     "output_type": "stream",
     "text": [
      "step: 0  loss: 0.2858036756515503\n",
      "step: 1000  loss: 0.25003403425216675\n",
      "step: 2000  loss: 0.2500002384185791\n",
      "step: 3000  loss: 0.25\n",
      "step: 4000  loss: 0.25\n",
      "step: 5000  loss: 0.25\n",
      "step: 6000  loss: 0.25\n",
      "step: 7000  loss: 0.25\n",
      "step: 8000  loss: 0.25\n",
      "step: 9000  loss: 0.25\n",
      "step: 10000  loss: 0.25\n",
      "step: 11000  loss: 0.25\n",
      "step: 12000  loss: 0.25\n",
      "step: 13000  loss: 0.25\n",
      "step: 14000  loss: 0.25\n",
      "step: 15000  loss: 0.25\n",
      "step: 16000  loss: 0.25\n",
      "step: 17000  loss: 0.25\n",
      "step: 18000  loss: 0.25\n",
      "step: 19000  loss: 0.25\n"
     ]
    }
   ],
   "source": [
    "for epoch in range(20000):\n",
    "    pred = model(X)\n",
    "    loss = criterion(pred, y) # cost/loss function\n",
    "    \n",
    "    optimizer.zero_grad() # remove current gradients for next iteration\n",
    "    loss.backward() # backpropogate through the loss gradiants\n",
    "    optimizer.step() # update model weights\n",
    "    \n",
    "    if epoch%1000==0:\n",
    "        print('step:', epoch, \" loss:\", loss.item())"
   ]
  },
  {
   "cell_type": "code",
   "execution_count": 17,
   "id": "baa43cdf",
   "metadata": {},
   "outputs": [
    {
     "name": "stdout",
     "output_type": "stream",
     "text": [
      "tensor([[0.5000],\n",
      "        [0.5000],\n",
      "        [0.5000],\n",
      "        [0.5000]], grad_fn=<SigmoidBackward0>)\n"
     ]
    }
   ],
   "source": [
    "pred = model(X)\n",
    "print(pred)"
   ]
  },
  {
   "cell_type": "code",
   "execution_count": 18,
   "id": "c60e2f58",
   "metadata": {},
   "outputs": [
    {
     "name": "stdout",
     "output_type": "stream",
     "text": [
      "pridicted: 0.5  label: 0.0\n",
      "pridicted: 0.5  label: 1.0\n",
      "pridicted: 0.5  label: 1.0\n",
      "pridicted: 0.5  label: 0.0\n"
     ]
    }
   ],
   "source": [
    "# model evaluation\n",
    "model.eval() \n",
    "answer = model(X)\n",
    "for i in range(4):\n",
    "    print(\"pridicted:\", answer[i].item(), \" label:\", y[i].item())"
   ]
  },
  {
   "cell_type": "markdown",
   "id": "0c3abfb9",
   "metadata": {},
   "source": [
    "# B. Sovling XOR problem with Multi-Layered Perceptron (MLP)"
   ]
  },
  {
   "cell_type": "markdown",
   "id": "aa6a1e86",
   "metadata": {},
   "source": [
    "# Binary Cross Entropy: \n",
    "ℓ(x,y)=L={l1,…,lN}⊤,ln=−wn[yn⋅logxn+(1−yn)⋅log(1−xn)]"
   ]
  },
  {
   "cell_type": "code",
   "execution_count": 19,
   "id": "0d1019b2",
   "metadata": {},
   "outputs": [],
   "source": [
    "# MLP model\n",
    "linear1 = nn.Linear(2, 2, bias=True)\n",
    "linear2 = nn.Linear(2, 1, bias=True)\n",
    "sigmoid = nn.Sigmoid()\n",
    "\n",
    "model = nn.Sequential(linear1, sigmoid, linear2, sigmoid) "
   ]
  },
  {
   "cell_type": "code",
   "execution_count": 20,
   "id": "ee98574b",
   "metadata": {},
   "outputs": [],
   "source": [
    "# define cost/loss & optimizer\n",
    "criterion = nn.BCELoss() # Binary Cross Entropy Loss\n",
    "optimizer = optim.SGD(model.parameters(), lr=0.1, momentum = 0.9) # Stochastic Gradient Descent"
   ]
  },
  {
   "cell_type": "code",
   "execution_count": 21,
   "id": "361f0a0b",
   "metadata": {},
   "outputs": [
    {
     "name": "stdout",
     "output_type": "stream",
     "text": [
      "step: 0 loss: 0.7050520181655884\n",
      "step: 1000 loss: 0.024608919396996498\n",
      "step: 2000 loss: 0.0069744521751999855\n",
      "step: 3000 loss: 0.004019292537122965\n",
      "step: 4000 loss: 0.002815140876919031\n",
      "step: 5000 loss: 0.002163550816476345\n",
      "step: 6000 loss: 0.0017556633101776242\n",
      "step: 7000 loss: 0.0014766615349799395\n",
      "step: 8000 loss: 0.0012737601064145565\n",
      "step: 9000 loss: 0.0011197138810530305\n",
      "step: 10000 loss: 0.000998747069388628\n",
      "step: 11000 loss: 0.0009012568043544888\n",
      "step: 12000 loss: 0.0008210614323616028\n",
      "step: 13000 loss: 0.0007538916543126106\n",
      "step: 14000 loss: 0.000696866656653583\n",
      "step: 15000 loss: 0.0006478074938058853\n",
      "step: 16000 loss: 0.0006051922682672739\n",
      "step: 17000 loss: 0.0005678570014424622\n",
      "step: 18000 loss: 0.0005347873084247112\n",
      "step: 19000 loss: 0.0005053713684901595\n"
     ]
    }
   ],
   "source": [
    "for epoch in range(20000):\n",
    "    pred = model(X)\n",
    "    loss = criterion(pred, y) # cost/loss function\n",
    "        \n",
    "    optimizer.zero_grad() # remove current gradients for next iteration\n",
    "    loss.backward() # backpropogate through the loss gradiants\n",
    "    optimizer.step() # update model weights\n",
    "\n",
    "    if epoch % 1000 == 0:\n",
    "        print('step:', epoch, 'loss:', loss.item())"
   ]
  },
  {
   "cell_type": "code",
   "execution_count": 22,
   "id": "a38e5a2b",
   "metadata": {},
   "outputs": [
    {
     "name": "stdout",
     "output_type": "stream",
     "text": [
      "tensor([[4.1543e-04],\n",
      "        [9.9957e-01],\n",
      "        [9.9957e-01],\n",
      "        [6.4161e-04]], grad_fn=<SigmoidBackward0>)\n"
     ]
    }
   ],
   "source": [
    "pred = model(X)\n",
    "print(pred)"
   ]
  },
  {
   "cell_type": "code",
   "execution_count": 23,
   "id": "4a10717f",
   "metadata": {},
   "outputs": [
    {
     "name": "stdout",
     "output_type": "stream",
     "text": [
      "pridicted: 0.0004154262423980981  label: 0.0\n",
      "pridicted: 0.999570906162262  label: 1.0\n",
      "pridicted: 0.9995706677436829  label: 1.0\n",
      "pridicted: 0.0006416098913177848  label: 0.0\n"
     ]
    }
   ],
   "source": [
    "# model evaluation\n",
    "model.eval() \n",
    "answer = model(X)\n",
    "for i in range(4):\n",
    "    print(\"pridicted:\", answer[i].item(), \" label:\", y[i].item())"
   ]
  },
  {
   "cell_type": "markdown",
   "id": "f08122a6",
   "metadata": {},
   "source": [
    "# Mean Squared Error (L2 norm): \n",
    "ℓ(x,y)=L={l1,…,lN}⊤,ln=(xn−yn)2"
   ]
  },
  {
   "cell_type": "code",
   "execution_count": 24,
   "id": "64d991fd",
   "metadata": {},
   "outputs": [],
   "source": [
    "# MLP model\n",
    "linear1 = nn.Linear(2, 2, bias=True)\n",
    "linear2 = nn.Linear(2, 1, bias=True)\n",
    "sigmoid = nn.Sigmoid()\n",
    "\n",
    "model = nn.Sequential(linear1, sigmoid, linear2, sigmoid) "
   ]
  },
  {
   "cell_type": "code",
   "execution_count": 25,
   "id": "7c577f0e",
   "metadata": {},
   "outputs": [],
   "source": [
    "# define cost/loss & optimizer\n",
    "criterion = nn.MSELoss() # Mean Squared Error Loss\n",
    "optimizer = optim.SGD(model.parameters(), lr=0.1) # Stochastic Gradient Descent"
   ]
  },
  {
   "cell_type": "code",
   "execution_count": 26,
   "id": "e5480d77",
   "metadata": {},
   "outputs": [
    {
     "name": "stdout",
     "output_type": "stream",
     "text": [
      "step: 0  loss: 0.2556060254573822\n",
      "step: 1000  loss: 0.24992229044437408\n",
      "step: 2000  loss: 0.24984024465084076\n",
      "step: 3000  loss: 0.2497112900018692\n",
      "step: 4000  loss: 0.24947109818458557\n",
      "step: 5000  loss: 0.24893847107887268\n",
      "step: 6000  loss: 0.2474845051765442\n",
      "step: 7000  loss: 0.24256888031959534\n",
      "step: 8000  loss: 0.22560104727745056\n",
      "step: 9000  loss: 0.18404020369052887\n",
      "step: 10000  loss: 0.10402747988700867\n",
      "step: 11000  loss: 0.04428241029381752\n",
      "step: 12000  loss: 0.023126069456338882\n",
      "step: 13000  loss: 0.014649526216089725\n",
      "step: 14000  loss: 0.010425277054309845\n",
      "step: 15000  loss: 0.007977471686899662\n",
      "step: 16000  loss: 0.006407344713807106\n",
      "step: 17000  loss: 0.00532560283318162\n",
      "step: 18000  loss: 0.004540184512734413\n",
      "step: 19000  loss: 0.003946664277464151\n"
     ]
    }
   ],
   "source": [
    "for epoch in range(20000):\n",
    "    pred = model(X)\n",
    "    loss = criterion(pred, y) # cost/loss function\n",
    "    \n",
    "    optimizer.zero_grad() # remove current gradients for next iteration\n",
    "    loss.backward() # backpropogate through the loss gradiants\n",
    "    optimizer.step() # update model weights\n",
    "    \n",
    "    if epoch%1000==0:\n",
    "        print('step:', epoch, \" loss:\", loss.item())"
   ]
  },
  {
   "cell_type": "code",
   "execution_count": 27,
   "id": "ace599c0",
   "metadata": {},
   "outputs": [
    {
     "name": "stdout",
     "output_type": "stream",
     "text": [
      "tensor([[0.0596],\n",
      "        [0.9458],\n",
      "        [0.9315],\n",
      "        [0.0524]], grad_fn=<SigmoidBackward0>)\n"
     ]
    }
   ],
   "source": [
    "pred = model(X)\n",
    "print(pred)"
   ]
  },
  {
   "cell_type": "code",
   "execution_count": 28,
   "id": "9d77c809",
   "metadata": {},
   "outputs": [
    {
     "name": "stdout",
     "output_type": "stream",
     "text": [
      "pridicted: 0.059634868055582047  label: 0.0\n",
      "pridicted: 0.9457534551620483  label: 1.0\n",
      "pridicted: 0.931510329246521  label: 1.0\n",
      "pridicted: 0.05239840969443321  label: 0.0\n"
     ]
    }
   ],
   "source": [
    "# model evaluation\n",
    "model.eval() \n",
    "answer = model(X)\n",
    "for i in range(4):\n",
    "    print(\"pridicted:\", answer[i].item(), \" label:\", y[i].item())"
   ]
  },
  {
   "cell_type": "markdown",
   "id": "f57cb4bb",
   "metadata": {},
   "source": [
    "# XOR Graph in 2-Dimensional Space:"
   ]
  },
  {
   "cell_type": "code",
   "execution_count": 30,
   "id": "be2d3a7e",
   "metadata": {},
   "outputs": [
    {
     "data": {
      "image/png": "[encoded data removed]",
      "text/plain": [
       "<Figure size 640x480 with 1 Axes>"
      ]
     },
     "metadata": {},
     "output_type": "display_data"
    }
   ],
   "source": [
    "model_params = list(model.parameters())\n",
    "model_weights = model_params[0].data.numpy()\n",
    "model_bias = model_params[1].data.numpy()\n",
    "\n",
    "plt.scatter(X.numpy()[[0,-1], 0], X.numpy()[[0, -1], 1], c = 'purple', s = 50)\n",
    "plt.scatter(X.numpy()[[1,2], 0], X.numpy()[[1, 2], 1], c = 'gold', s = 50)\n",
    "\n",
    "x_1 = np.arange(-0.1, 1.1, 0.1)\n",
    "y_1 = ((x_1 * model_weights[0,0]) + model_bias[0]) / (-model_weights[0,1])\n",
    "plt.plot(x_1, y_1)\n",
    "\n",
    "x_2 = np.arange(-0.1, 1.1, 0.1)\n",
    "y_2 = ((x_2 * model_weights[1,0]) + model_bias[1]) / (-model_weights[1,1])\n",
    "plt.plot(x_2, y_2)\n",
    "plt.legend([\"Class 0\", \"Class 1\"], loc = \"best\")\n",
    "plt.show()"
   ]
  },
  {
   "cell_type": "code",
   "execution_count": null,
   "id": "33e820c4",
   "metadata": {},
   "outputs": [],
   "source": []
  }
 ],
 "metadata": {
  "kernelspec": {
   "display_name": "Python 3 (ipykernel)",
   "language": "python",
   "name": "python3"
  },
  "language_info": {
   "codemirror_mode": {
    "name": "ipython",
    "version": 3
   },
   "file_extension": ".py",
   "mimetype": "text/x-python",
   "name": "python",
   "nbconvert_exporter": "python",
   "pygments_lexer": "ipython3",
   "version": "3.9.13"
  }
 },
 "nbformat": 4,
 "nbformat_minor": 5
}
