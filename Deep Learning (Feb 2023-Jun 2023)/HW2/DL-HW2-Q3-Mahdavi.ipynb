{
 "cells": [
  {
   "cell_type": "markdown",
   "id": "5403ea22",
   "metadata": {},
   "source": [
    "# The Deep Learning Homework 2 - Question No. 3  \n",
    "Bahar Mahdavi - SN: 40152521337"
   ]
  },
  {
   "cell_type": "markdown",
   "id": "3a0223c9",
   "metadata": {},
   "source": [
    "## Train the following neural networks on the IRIS dataset, with 100 iterations and the Ⅽross-Entropy loss function. Report the precision and error values for the training and test data for each iteration."
   ]
  },
  {
   "cell_type": "code",
   "execution_count": 1,
   "id": "93f5fd93",
   "metadata": {},
   "outputs": [],
   "source": [
    "import warnings\n",
    "warnings.filterwarnings(\"ignore\")"
   ]
  },
  {
   "cell_type": "markdown",
   "id": "15daeac3",
   "metadata": {},
   "source": [
    "Importing the IRES dataframe:"
   ]
  },
  {
   "cell_type": "code",
   "execution_count": 2,
   "id": "27790b95",
   "metadata": {},
   "outputs": [],
   "source": [
    "import pandas as pd #data loading and manipulation\n",
    "\n",
    "csv_url = 'https://archive.ics.uci.edu/ml/machine-learning-databases/iris/iris.data'\n",
    "col_names = ['Sepal_Length','Sepal_Width','Petal_Length','Petal_Width','Class'] #using the attribute information as the column names\n",
    "iris = pd.read_csv(csv_url, names = col_names)"
   ]
  },
  {
   "cell_type": "code",
   "execution_count": 3,
   "id": "60da6a56",
   "metadata": {},
   "outputs": [
    {
     "data": {
      "text/html": [
       "<div>\n",
       "<style scoped>\n",
       "    .dataframe tbody tr th:only-of-type {\n",
       "        vertical-align: middle;\n",
       "    }\n",
       "\n",
       "    .dataframe tbody tr th {\n",
       "        vertical-align: top;\n",
       "    }\n",
       "\n",
       "    .dataframe thead th {\n",
       "        text-align: right;\n",
       "    }\n",
       "</style>\n",
       "<table border=\"1\" class=\"dataframe\">\n",
       "  <thead>\n",
       "    <tr style=\"text-align: right;\">\n",
       "      <th></th>\n",
       "      <th>Sepal_Length</th>\n",
       "      <th>Sepal_Width</th>\n",
       "      <th>Petal_Length</th>\n",
       "      <th>Petal_Width</th>\n",
       "      <th>Class</th>\n",
       "    </tr>\n",
       "  </thead>\n",
       "  <tbody>\n",
       "    <tr>\n",
       "      <th>0</th>\n",
       "      <td>5.1</td>\n",
       "      <td>3.5</td>\n",
       "      <td>1.4</td>\n",
       "      <td>0.2</td>\n",
       "      <td>Iris-setosa</td>\n",
       "    </tr>\n",
       "    <tr>\n",
       "      <th>1</th>\n",
       "      <td>4.9</td>\n",
       "      <td>3.0</td>\n",
       "      <td>1.4</td>\n",
       "      <td>0.2</td>\n",
       "      <td>Iris-setosa</td>\n",
       "    </tr>\n",
       "    <tr>\n",
       "      <th>2</th>\n",
       "      <td>4.7</td>\n",
       "      <td>3.2</td>\n",
       "      <td>1.3</td>\n",
       "      <td>0.2</td>\n",
       "      <td>Iris-setosa</td>\n",
       "    </tr>\n",
       "    <tr>\n",
       "      <th>3</th>\n",
       "      <td>4.6</td>\n",
       "      <td>3.1</td>\n",
       "      <td>1.5</td>\n",
       "      <td>0.2</td>\n",
       "      <td>Iris-setosa</td>\n",
       "    </tr>\n",
       "    <tr>\n",
       "      <th>4</th>\n",
       "      <td>5.0</td>\n",
       "      <td>3.6</td>\n",
       "      <td>1.4</td>\n",
       "      <td>0.2</td>\n",
       "      <td>Iris-setosa</td>\n",
       "    </tr>\n",
       "  </tbody>\n",
       "</table>\n",
       "</div>"
      ],
      "text/plain": [
       "   Sepal_Length  Sepal_Width  Petal_Length  Petal_Width        Class\n",
       "0           5.1          3.5           1.4          0.2  Iris-setosa\n",
       "1           4.9          3.0           1.4          0.2  Iris-setosa\n",
       "2           4.7          3.2           1.3          0.2  Iris-setosa\n",
       "3           4.6          3.1           1.5          0.2  Iris-setosa\n",
       "4           5.0          3.6           1.4          0.2  Iris-setosa"
      ]
     },
     "execution_count": 3,
     "metadata": {},
     "output_type": "execute_result"
    }
   ],
   "source": [
    "iris.head() #The head() method from Pandas shows the first five rows of the dataset"
   ]
  },
  {
   "cell_type": "code",
   "execution_count": 4,
   "id": "45756873",
   "metadata": {},
   "outputs": [
    {
     "data": {
      "text/plain": [
       "RangeIndex(start=0, stop=150, step=1)"
      ]
     },
     "execution_count": 4,
     "metadata": {},
     "output_type": "execute_result"
    }
   ],
   "source": [
    "iris.index"
   ]
  },
  {
   "cell_type": "code",
   "execution_count": 5,
   "id": "decf32e1",
   "metadata": {},
   "outputs": [
    {
     "data": {
      "text/plain": [
       "Sepal_Length    float64\n",
       "Sepal_Width     float64\n",
       "Petal_Length    float64\n",
       "Petal_Width     float64\n",
       "Class            object\n",
       "dtype: object"
      ]
     },
     "execution_count": 5,
     "metadata": {},
     "output_type": "execute_result"
    }
   ],
   "source": [
    "iris.dtypes"
   ]
  },
  {
   "cell_type": "code",
   "execution_count": 6,
   "id": "898de793",
   "metadata": {},
   "outputs": [],
   "source": [
    "mappings = {\n",
    "   'Iris-setosa': 0,\n",
    "   'Iris-versicolor': 1,\n",
    "   'Iris-virginica': 2\n",
    "}\n",
    "iris['Class'] = iris['Class'].apply(lambda x: mappings[x])\n",
    "#torch tensors should be numeric, so we’ll have to encode the target variable (Class column)"
   ]
  },
  {
   "cell_type": "code",
   "execution_count": 7,
   "id": "07be00b9",
   "metadata": {},
   "outputs": [
    {
     "data": {
      "text/html": [
       "<div>\n",
       "<style scoped>\n",
       "    .dataframe tbody tr th:only-of-type {\n",
       "        vertical-align: middle;\n",
       "    }\n",
       "\n",
       "    .dataframe tbody tr th {\n",
       "        vertical-align: top;\n",
       "    }\n",
       "\n",
       "    .dataframe thead th {\n",
       "        text-align: right;\n",
       "    }\n",
       "</style>\n",
       "<table border=\"1\" class=\"dataframe\">\n",
       "  <thead>\n",
       "    <tr style=\"text-align: right;\">\n",
       "      <th></th>\n",
       "      <th>Sepal_Length</th>\n",
       "      <th>Sepal_Width</th>\n",
       "      <th>Petal_Length</th>\n",
       "      <th>Petal_Width</th>\n",
       "      <th>Class</th>\n",
       "    </tr>\n",
       "  </thead>\n",
       "  <tbody>\n",
       "    <tr>\n",
       "      <th>0</th>\n",
       "      <td>5.1</td>\n",
       "      <td>3.5</td>\n",
       "      <td>1.4</td>\n",
       "      <td>0.2</td>\n",
       "      <td>0</td>\n",
       "    </tr>\n",
       "    <tr>\n",
       "      <th>1</th>\n",
       "      <td>4.9</td>\n",
       "      <td>3.0</td>\n",
       "      <td>1.4</td>\n",
       "      <td>0.2</td>\n",
       "      <td>0</td>\n",
       "    </tr>\n",
       "    <tr>\n",
       "      <th>2</th>\n",
       "      <td>4.7</td>\n",
       "      <td>3.2</td>\n",
       "      <td>1.3</td>\n",
       "      <td>0.2</td>\n",
       "      <td>0</td>\n",
       "    </tr>\n",
       "    <tr>\n",
       "      <th>3</th>\n",
       "      <td>4.6</td>\n",
       "      <td>3.1</td>\n",
       "      <td>1.5</td>\n",
       "      <td>0.2</td>\n",
       "      <td>0</td>\n",
       "    </tr>\n",
       "    <tr>\n",
       "      <th>4</th>\n",
       "      <td>5.0</td>\n",
       "      <td>3.6</td>\n",
       "      <td>1.4</td>\n",
       "      <td>0.2</td>\n",
       "      <td>0</td>\n",
       "    </tr>\n",
       "    <tr>\n",
       "      <th>...</th>\n",
       "      <td>...</td>\n",
       "      <td>...</td>\n",
       "      <td>...</td>\n",
       "      <td>...</td>\n",
       "      <td>...</td>\n",
       "    </tr>\n",
       "    <tr>\n",
       "      <th>145</th>\n",
       "      <td>6.7</td>\n",
       "      <td>3.0</td>\n",
       "      <td>5.2</td>\n",
       "      <td>2.3</td>\n",
       "      <td>2</td>\n",
       "    </tr>\n",
       "    <tr>\n",
       "      <th>146</th>\n",
       "      <td>6.3</td>\n",
       "      <td>2.5</td>\n",
       "      <td>5.0</td>\n",
       "      <td>1.9</td>\n",
       "      <td>2</td>\n",
       "    </tr>\n",
       "    <tr>\n",
       "      <th>147</th>\n",
       "      <td>6.5</td>\n",
       "      <td>3.0</td>\n",
       "      <td>5.2</td>\n",
       "      <td>2.0</td>\n",
       "      <td>2</td>\n",
       "    </tr>\n",
       "    <tr>\n",
       "      <th>148</th>\n",
       "      <td>6.2</td>\n",
       "      <td>3.4</td>\n",
       "      <td>5.4</td>\n",
       "      <td>2.3</td>\n",
       "      <td>2</td>\n",
       "    </tr>\n",
       "    <tr>\n",
       "      <th>149</th>\n",
       "      <td>5.9</td>\n",
       "      <td>3.0</td>\n",
       "      <td>5.1</td>\n",
       "      <td>1.8</td>\n",
       "      <td>2</td>\n",
       "    </tr>\n",
       "  </tbody>\n",
       "</table>\n",
       "<p>150 rows × 5 columns</p>\n",
       "</div>"
      ],
      "text/plain": [
       "     Sepal_Length  Sepal_Width  Petal_Length  Petal_Width  Class\n",
       "0             5.1          3.5           1.4          0.2      0\n",
       "1             4.9          3.0           1.4          0.2      0\n",
       "2             4.7          3.2           1.3          0.2      0\n",
       "3             4.6          3.1           1.5          0.2      0\n",
       "4             5.0          3.6           1.4          0.2      0\n",
       "..            ...          ...           ...          ...    ...\n",
       "145           6.7          3.0           5.2          2.3      2\n",
       "146           6.3          2.5           5.0          1.9      2\n",
       "147           6.5          3.0           5.2          2.0      2\n",
       "148           6.2          3.4           5.4          2.3      2\n",
       "149           5.9          3.0           5.1          1.8      2\n",
       "\n",
       "[150 rows x 5 columns]"
      ]
     },
     "execution_count": 7,
     "metadata": {},
     "output_type": "execute_result"
    }
   ],
   "source": [
    "iris"
   ]
  },
  {
   "cell_type": "markdown",
   "id": "ff623041",
   "metadata": {},
   "source": [
    "Creating feature sets (X) and target variable (y):"
   ]
  },
  {
   "cell_type": "code",
   "execution_count": 8,
   "id": "8f0c8b28",
   "metadata": {},
   "outputs": [],
   "source": [
    "X = iris.drop('Class', axis=1).values #iris features\n",
    "y = iris['Class'].values #iris target"
   ]
  },
  {
   "cell_type": "code",
   "execution_count": 9,
   "id": "8ece6bee",
   "metadata": {},
   "outputs": [
    {
     "name": "stdout",
     "output_type": "stream",
     "text": [
      "(150, 4) (150,)\n"
     ]
    }
   ],
   "source": [
    "print(X.shape, y.shape)"
   ]
  },
  {
   "cell_type": "markdown",
   "id": "40f95965",
   "metadata": {},
   "source": [
    "Splitting for train and test set (With the 80:20 split):"
   ]
  },
  {
   "cell_type": "code",
   "execution_count": 10,
   "id": "5a46b1e9",
   "metadata": {},
   "outputs": [],
   "source": [
    "from sklearn.model_selection import train_test_split #sklearn package helps in splitting the data for train, validation and test set\n",
    "\n",
    "X_train, X_test, y_train, y_test = train_test_split(X, y, test_size = 0.2, random_state = 124) #splitting for train and validation set"
   ]
  },
  {
   "cell_type": "markdown",
   "id": "74f47374",
   "metadata": {},
   "source": [
    "Normalizing the data:"
   ]
  },
  {
   "cell_type": "code",
   "execution_count": 11,
   "id": "b118748b",
   "metadata": {},
   "outputs": [],
   "source": [
    "from sklearn.preprocessing import StandardScaler\n",
    "\n",
    "scaler = StandardScaler()\n",
    "X_train = scaler.fit_transform(X_train)\n",
    "X_test = scaler.transform(X_test)"
   ]
  },
  {
   "cell_type": "markdown",
   "id": "8e190a8c",
   "metadata": {},
   "source": [
    "Converting split data from Numpy arrays to PyTorch tensors:"
   ]
  },
  {
   "cell_type": "code",
   "execution_count": 12,
   "id": "3e4f1769",
   "metadata": {},
   "outputs": [],
   "source": [
    "import torch\n",
    "torch.manual_seed(124)\n",
    "\n",
    "X_train = torch.FloatTensor(X_train) #dtype=torch.float\n",
    "X_test = torch.FloatTensor(X_test)\n",
    "y_train = torch.LongTensor(y_train) #dtype=torch.long\n",
    "y_test = torch.LongTensor(y_test)"
   ]
  },
  {
   "cell_type": "markdown",
   "id": "fed21643",
   "metadata": {},
   "source": [
    "Checking how many records are there in each set by displaying its shape:"
   ]
  },
  {
   "cell_type": "code",
   "execution_count": 13,
   "id": "48ff45ad",
   "metadata": {},
   "outputs": [
    {
     "data": {
      "text/plain": [
       "torch.Size([120, 4])"
      ]
     },
     "metadata": {},
     "output_type": "display_data"
    },
    {
     "data": {
      "text/plain": [
       "torch.Size([30, 4])"
      ]
     },
     "metadata": {},
     "output_type": "display_data"
    },
    {
     "data": {
      "text/plain": [
       "torch.Size([120])"
      ]
     },
     "metadata": {},
     "output_type": "display_data"
    },
    {
     "data": {
      "text/plain": [
       "torch.Size([30])"
      ]
     },
     "metadata": {},
     "output_type": "display_data"
    }
   ],
   "source": [
    "display(X_train.shape)\n",
    "display(X_test.shape)\n",
    "display(y_train.shape)\n",
    "display(y_test.shape)"
   ]
  },
  {
   "cell_type": "markdown",
   "id": "9f61bcbc",
   "metadata": {},
   "source": [
    "x_train has 120 rows and 4 columns, while x_test and validation set (x_val) both of them have 15 rows and 4 columns. Looking at y_train, y_test and y_val it is 120, 30, 15 records respectively"
   ]
  },
  {
   "cell_type": "markdown",
   "id": "f6a4c27c",
   "metadata": {},
   "source": [
    "## 1. Creating a neural network model without hidden layers"
   ]
  },
  {
   "cell_type": "markdown",
   "id": "508bc1ce",
   "metadata": {},
   "source": [
    "### Choosing the SGD optimizer:"
   ]
  },
  {
   "cell_type": "markdown",
   "id": "489d50ee",
   "metadata": {},
   "source": [
    "Defining a simple Neural Network Model (the perceptron model):"
   ]
  },
  {
   "cell_type": "code",
   "execution_count": 14,
   "id": "1d3b00ce",
   "metadata": {},
   "outputs": [],
   "source": [
    "import torch.nn as nn\n",
    "import torch.nn.functional as F\n",
    "\n",
    "#defining the Hyper parameters\n",
    "learning_rate = 0.01 #the standard learning rate value = 0.1 is adapted\n",
    "learning_momentum = 0.9 #how fast you want the network to reach the minimum loss during the training process\n",
    "epochs = 100 #this number denoted how many times you want the network to backpropagte and learn the data perfectly since there are only 150 rows 20 epochs worked fine but as question asking us, I chose it 100\n",
    "\n",
    "class IrisANN1 (nn.Module): #defining the nodes, layers, activation functions\n",
    "    def __init__(self):\n",
    "        super(IrisANN1, self).__init__()\n",
    "        self.linear = nn.Linear(in_features = 4, out_features = 3) #4 input features (since there are 4 physical parameters the number of nodes in the input layer will be 4) and one Output \n",
    "        \n",
    "    def forward(self, X): #defining the forward class which depicts how the data flows in a forward path of a network\n",
    "        out = self.linear(X)\n",
    "        \n",
    "        return torch.sigmoid(out)\n",
    "\n",
    "model = IrisANN1() #Create the neural network model"
   ]
  },
  {
   "cell_type": "code",
   "execution_count": 15,
   "id": "cfecbd51",
   "metadata": {},
   "outputs": [],
   "source": [
    "class IrisNet1(nn.Module): \n",
    "    def __init__(self,input_size,output): \n",
    "        super(IrisNet1, self).__init__()\n",
    "   \n",
    "        self.fc1   = nn.Linear(input_size, output)    \n",
    "\n",
    "    def forward(self, x): \n",
    "        out = self.fc1(x)\n",
    "        \n",
    "        return out"
   ]
  },
  {
   "cell_type": "markdown",
   "id": "e81452bf",
   "metadata": {},
   "source": [
    "Choosing the loss function and optimizer:"
   ]
  },
  {
   "cell_type": "code",
   "execution_count": 16,
   "id": "5903f970",
   "metadata": {},
   "outputs": [],
   "source": [
    "criterion = nn.CrossEntropyLoss() #basically how we measure loss, we’ll use CrossEntropyLoss\n",
    "optimizer = torch.optim.SGD(model.parameters(), lr = learning_rate, momentum = learning_momentum)"
   ]
  },
  {
   "cell_type": "markdown",
   "id": "ea7b76bc",
   "metadata": {},
   "source": [
    "Training the model:"
   ]
  },
  {
   "cell_type": "code",
   "execution_count": 17,
   "id": "ad7f3ac2",
   "metadata": {},
   "outputs": [
    {
     "name": "stdout",
     "output_type": "stream",
     "text": [
      "Epoch: 0 Loss: 1.1130679845809937\n",
      "Epoch: 10 Loss: 1.0911153554916382\n",
      "Epoch: 20 Loss: 1.0517007112503052\n",
      "Epoch: 30 Loss: 1.0112653970718384\n",
      "Epoch: 40 Loss: 0.9756056070327759\n",
      "Epoch: 50 Loss: 0.9460235238075256\n",
      "Epoch: 60 Loss: 0.9221143126487732\n",
      "Epoch: 70 Loss: 0.9029256701469421\n",
      "Epoch: 80 Loss: 0.8874469995498657\n",
      "Epoch: 90 Loss: 0.874805212020874\n",
      "Wall time: 35.1 ms\n"
     ]
    },
    {
     "data": {
      "text/plain": [
       "IrisANN1(\n",
       "  (linear): Linear(in_features=4, out_features=3, bias=True)\n",
       ")"
      ]
     },
     "execution_count": 17,
     "metadata": {},
     "output_type": "execute_result"
    }
   ],
   "source": [
    "%%time\n",
    "epochs = 100 #train the model for 100 epochs\n",
    "loss_arr = []\n",
    "\n",
    "for i in range(epochs):\n",
    "    y_hat = model.forward(X_train)\n",
    "    loss = criterion(y_hat, y_train)\n",
    "    loss_arr.append(loss)\n",
    " \n",
    "    if i % 10 == 0: \n",
    "        print(f'Epoch: {i} Loss: {loss}') #every 10 epochs we’ll output on which epoch are we and what’s the current loss\n",
    " \n",
    "    optimizer.zero_grad() #backpropagation to updating of weights and biases in order to the model actually learn\n",
    "    loss.backward()\n",
    "    optimizer.step()\n",
    "    \n",
    "model.eval()"
   ]
  },
  {
   "cell_type": "markdown",
   "id": "4dfc6e98",
   "metadata": {},
   "source": [
    "A visualization of our loss by SGD optimizer:"
   ]
  },
  {
   "cell_type": "code",
   "execution_count": 18,
   "id": "938bcba1",
   "metadata": {},
   "outputs": [
    {
     "data": {
      "image/png": "[encoded data removed]",
      "text/plain": [
       "<Figure size 640x480 with 1 Axes>"
      ]
     },
     "metadata": {},
     "output_type": "display_data"
    }
   ],
   "source": [
    "import matplotlib.pyplot as plt #python package to drew graphs in python\n",
    "\n",
    "plt.plot([i for i in range(100)], [loss.detach().numpy() for loss in loss_arr])\n",
    "plt.xlabel ('epoch')\n",
    "plt.ylabel ('loss')\n",
    "plt.show()"
   ]
  },
  {
   "cell_type": "markdown",
   "id": "b91220a4",
   "metadata": {},
   "source": [
    "Evaluation the model:"
   ]
  },
  {
   "cell_type": "code",
   "execution_count": 19,
   "id": "d54a7fe5",
   "metadata": {},
   "outputs": [],
   "source": [
    "preds = [] #predictions are stored in the preds array\n",
    "with torch.no_grad(): #there’s no need to update weights and biases\n",
    "    for val in X_test:\n",
    "        y_hat = model.forward(val)\n",
    "        preds.append(y_hat.argmax().item())"
   ]
  },
  {
   "cell_type": "code",
   "execution_count": 20,
   "id": "40bc1e8a",
   "metadata": {},
   "outputs": [],
   "source": [
    "df = pd.DataFrame({'Y': y_test, 'YHat': preds}) #Y: actual value and YHat: predicted value\n",
    "df['Correct'] = [1 if corr == pred else 0 for corr, pred in zip(df['Y'], df['YHat'])]"
   ]
  },
  {
   "cell_type": "code",
   "execution_count": 21,
   "id": "4ba8d7be",
   "metadata": {},
   "outputs": [
    {
     "data": {
      "text/html": [
       "<div>\n",
       "<style scoped>\n",
       "    .dataframe tbody tr th:only-of-type {\n",
       "        vertical-align: middle;\n",
       "    }\n",
       "\n",
       "    .dataframe tbody tr th {\n",
       "        vertical-align: top;\n",
       "    }\n",
       "\n",
       "    .dataframe thead th {\n",
       "        text-align: right;\n",
       "    }\n",
       "</style>\n",
       "<table border=\"1\" class=\"dataframe\">\n",
       "  <thead>\n",
       "    <tr style=\"text-align: right;\">\n",
       "      <th></th>\n",
       "      <th>Y</th>\n",
       "      <th>YHat</th>\n",
       "      <th>Correct</th>\n",
       "    </tr>\n",
       "  </thead>\n",
       "  <tbody>\n",
       "    <tr>\n",
       "      <th>0</th>\n",
       "      <td>1</td>\n",
       "      <td>2</td>\n",
       "      <td>0</td>\n",
       "    </tr>\n",
       "    <tr>\n",
       "      <th>1</th>\n",
       "      <td>0</td>\n",
       "      <td>0</td>\n",
       "      <td>1</td>\n",
       "    </tr>\n",
       "    <tr>\n",
       "      <th>2</th>\n",
       "      <td>1</td>\n",
       "      <td>1</td>\n",
       "      <td>1</td>\n",
       "    </tr>\n",
       "    <tr>\n",
       "      <th>3</th>\n",
       "      <td>2</td>\n",
       "      <td>1</td>\n",
       "      <td>0</td>\n",
       "    </tr>\n",
       "    <tr>\n",
       "      <th>4</th>\n",
       "      <td>2</td>\n",
       "      <td>2</td>\n",
       "      <td>1</td>\n",
       "    </tr>\n",
       "    <tr>\n",
       "      <th>5</th>\n",
       "      <td>1</td>\n",
       "      <td>1</td>\n",
       "      <td>1</td>\n",
       "    </tr>\n",
       "    <tr>\n",
       "      <th>6</th>\n",
       "      <td>1</td>\n",
       "      <td>1</td>\n",
       "      <td>1</td>\n",
       "    </tr>\n",
       "    <tr>\n",
       "      <th>7</th>\n",
       "      <td>0</td>\n",
       "      <td>0</td>\n",
       "      <td>1</td>\n",
       "    </tr>\n",
       "    <tr>\n",
       "      <th>8</th>\n",
       "      <td>2</td>\n",
       "      <td>2</td>\n",
       "      <td>1</td>\n",
       "    </tr>\n",
       "    <tr>\n",
       "      <th>9</th>\n",
       "      <td>1</td>\n",
       "      <td>1</td>\n",
       "      <td>1</td>\n",
       "    </tr>\n",
       "    <tr>\n",
       "      <th>10</th>\n",
       "      <td>2</td>\n",
       "      <td>1</td>\n",
       "      <td>0</td>\n",
       "    </tr>\n",
       "    <tr>\n",
       "      <th>11</th>\n",
       "      <td>2</td>\n",
       "      <td>1</td>\n",
       "      <td>0</td>\n",
       "    </tr>\n",
       "    <tr>\n",
       "      <th>12</th>\n",
       "      <td>1</td>\n",
       "      <td>1</td>\n",
       "      <td>1</td>\n",
       "    </tr>\n",
       "    <tr>\n",
       "      <th>13</th>\n",
       "      <td>1</td>\n",
       "      <td>2</td>\n",
       "      <td>0</td>\n",
       "    </tr>\n",
       "    <tr>\n",
       "      <th>14</th>\n",
       "      <td>2</td>\n",
       "      <td>2</td>\n",
       "      <td>1</td>\n",
       "    </tr>\n",
       "    <tr>\n",
       "      <th>15</th>\n",
       "      <td>0</td>\n",
       "      <td>0</td>\n",
       "      <td>1</td>\n",
       "    </tr>\n",
       "    <tr>\n",
       "      <th>16</th>\n",
       "      <td>1</td>\n",
       "      <td>1</td>\n",
       "      <td>1</td>\n",
       "    </tr>\n",
       "    <tr>\n",
       "      <th>17</th>\n",
       "      <td>2</td>\n",
       "      <td>2</td>\n",
       "      <td>1</td>\n",
       "    </tr>\n",
       "    <tr>\n",
       "      <th>18</th>\n",
       "      <td>1</td>\n",
       "      <td>2</td>\n",
       "      <td>0</td>\n",
       "    </tr>\n",
       "    <tr>\n",
       "      <th>19</th>\n",
       "      <td>1</td>\n",
       "      <td>2</td>\n",
       "      <td>0</td>\n",
       "    </tr>\n",
       "    <tr>\n",
       "      <th>20</th>\n",
       "      <td>0</td>\n",
       "      <td>0</td>\n",
       "      <td>1</td>\n",
       "    </tr>\n",
       "    <tr>\n",
       "      <th>21</th>\n",
       "      <td>0</td>\n",
       "      <td>0</td>\n",
       "      <td>1</td>\n",
       "    </tr>\n",
       "    <tr>\n",
       "      <th>22</th>\n",
       "      <td>0</td>\n",
       "      <td>0</td>\n",
       "      <td>1</td>\n",
       "    </tr>\n",
       "    <tr>\n",
       "      <th>23</th>\n",
       "      <td>0</td>\n",
       "      <td>0</td>\n",
       "      <td>1</td>\n",
       "    </tr>\n",
       "    <tr>\n",
       "      <th>24</th>\n",
       "      <td>0</td>\n",
       "      <td>0</td>\n",
       "      <td>1</td>\n",
       "    </tr>\n",
       "    <tr>\n",
       "      <th>25</th>\n",
       "      <td>2</td>\n",
       "      <td>2</td>\n",
       "      <td>1</td>\n",
       "    </tr>\n",
       "    <tr>\n",
       "      <th>26</th>\n",
       "      <td>2</td>\n",
       "      <td>2</td>\n",
       "      <td>1</td>\n",
       "    </tr>\n",
       "    <tr>\n",
       "      <th>27</th>\n",
       "      <td>1</td>\n",
       "      <td>1</td>\n",
       "      <td>1</td>\n",
       "    </tr>\n",
       "    <tr>\n",
       "      <th>28</th>\n",
       "      <td>0</td>\n",
       "      <td>0</td>\n",
       "      <td>1</td>\n",
       "    </tr>\n",
       "    <tr>\n",
       "      <th>29</th>\n",
       "      <td>2</td>\n",
       "      <td>2</td>\n",
       "      <td>1</td>\n",
       "    </tr>\n",
       "  </tbody>\n",
       "</table>\n",
       "</div>"
      ],
      "text/plain": [
       "    Y  YHat  Correct\n",
       "0   1     2        0\n",
       "1   0     0        1\n",
       "2   1     1        1\n",
       "3   2     1        0\n",
       "4   2     2        1\n",
       "5   1     1        1\n",
       "6   1     1        1\n",
       "7   0     0        1\n",
       "8   2     2        1\n",
       "9   1     1        1\n",
       "10  2     1        0\n",
       "11  2     1        0\n",
       "12  1     1        1\n",
       "13  1     2        0\n",
       "14  2     2        1\n",
       "15  0     0        1\n",
       "16  1     1        1\n",
       "17  2     2        1\n",
       "18  1     2        0\n",
       "19  1     2        0\n",
       "20  0     0        1\n",
       "21  0     0        1\n",
       "22  0     0        1\n",
       "23  0     0        1\n",
       "24  0     0        1\n",
       "25  2     2        1\n",
       "26  2     2        1\n",
       "27  1     1        1\n",
       "28  0     0        1\n",
       "29  2     2        1"
      ]
     },
     "execution_count": 21,
     "metadata": {},
     "output_type": "execute_result"
    }
   ],
   "source": [
    "df"
   ]
  },
  {
   "cell_type": "code",
   "execution_count": 22,
   "id": "46686fd0",
   "metadata": {},
   "outputs": [
    {
     "data": {
      "text/plain": [
       "0.7666666666666667"
      ]
     },
     "execution_count": 22,
     "metadata": {},
     "output_type": "execute_result"
    }
   ],
   "source": [
    "df['Correct'].sum() / len(df) #sum up the Correct column and divide it with the length of df"
   ]
  },
  {
   "cell_type": "code",
   "execution_count": 23,
   "id": "f442d576",
   "metadata": {},
   "outputs": [
    {
     "name": "stdout",
     "output_type": "stream",
     "text": [
      "accuracy for test set is:0.7666666666666667\n"
     ]
    }
   ],
   "source": [
    "#another way\n",
    "acc = len([1 for i in range(X_test.shape[0]) if preds[i] == y_test[i]]) / X_test.shape[0]\n",
    "print(\"accuracy for test set is:{}\".format(acc))"
   ]
  },
  {
   "cell_type": "markdown",
   "id": "c414067c",
   "metadata": {},
   "source": [
    "### Choosing Adam optimizer:"
   ]
  },
  {
   "cell_type": "markdown",
   "id": "d8fdd68b",
   "metadata": {},
   "source": [
    "Defining a simple Neural Network Model (the perceptron model):"
   ]
  },
  {
   "cell_type": "code",
   "execution_count": 24,
   "id": "d1043b5f",
   "metadata": {},
   "outputs": [],
   "source": [
    "import torch.nn as nn\n",
    "import torch.nn.functional as F\n",
    "\n",
    "#defining the Hyper parameters\n",
    "learning_rate = 0.01 #the standard learning rate value = 0.1 is adapted\n",
    "learning_momentum = 0.9 #how fast you want the network to reach the minimum loss during the training process\n",
    "epochs = 100 #this number denoted how many times you want the network to backpropagte and learn the data perfectly since there are only 150 rows 20 epochs worked fine but as question asking us, I chose it 100\n",
    "\n",
    "class IrisANN1 (nn.Module): #defining the nodes, layers, activation functions\n",
    "    def __init__(self):\n",
    "        super(IrisANN1, self).__init__()\n",
    "        self.linear = nn.Linear(in_features = 4, out_features = 3) #4 input features (since there are 4 physical parameters the number of nodes in the input layer will be 4) and one Output \n",
    "        \n",
    "    def forward(self, X): #defining the forward class which depicts how the data flows in a forward path of a network\n",
    "        out = self.linear(X)\n",
    "        \n",
    "        return torch.sigmoid(out)\n",
    "\n",
    "model = IrisANN1() #Create the neural network model"
   ]
  },
  {
   "cell_type": "markdown",
   "id": "64dd5644",
   "metadata": {},
   "source": [
    "Choosing the loss function and optimizer:"
   ]
  },
  {
   "cell_type": "code",
   "execution_count": 25,
   "id": "65731475",
   "metadata": {},
   "outputs": [],
   "source": [
    "criterion = nn.CrossEntropyLoss() #basically how we measure loss, we’ll use CrossEntropyLoss\n",
    "optimizer = torch.optim.Adam(model.parameters(), lr = learning_rate) #optimizer - Adam is used"
   ]
  },
  {
   "cell_type": "markdown",
   "id": "870a0644",
   "metadata": {},
   "source": [
    "Training the model:"
   ]
  },
  {
   "cell_type": "code",
   "execution_count": 26,
   "id": "0eda7c32",
   "metadata": {},
   "outputs": [
    {
     "name": "stdout",
     "output_type": "stream",
     "text": [
      "Epoch: 0 Loss: 1.139886736869812\n",
      "Epoch: 10 Loss: 1.0672699213027954\n",
      "Epoch: 20 Loss: 1.0029655694961548\n",
      "Epoch: 30 Loss: 0.9499607086181641\n",
      "Epoch: 40 Loss: 0.9092450737953186\n",
      "Epoch: 50 Loss: 0.878618061542511\n",
      "Epoch: 60 Loss: 0.8551142811775208\n",
      "Epoch: 70 Loss: 0.8366459012031555\n",
      "Epoch: 80 Loss: 0.8217170238494873\n",
      "Epoch: 90 Loss: 0.8093350529670715\n",
      "Wall time: 37.5 ms\n"
     ]
    },
    {
     "data": {
      "text/plain": [
       "IrisANN1(\n",
       "  (linear): Linear(in_features=4, out_features=3, bias=True)\n",
       ")"
      ]
     },
     "execution_count": 26,
     "metadata": {},
     "output_type": "execute_result"
    }
   ],
   "source": [
    "%%time\n",
    "epochs = 100 #train the model for 100 epochs\n",
    "loss_arr = []\n",
    "\n",
    "for i in range(epochs):\n",
    "    y_hat = model.forward(X_train)\n",
    "    loss = criterion(y_hat, y_train)\n",
    "    loss_arr.append(loss)\n",
    " \n",
    "    if i % 10 == 0: \n",
    "        print(f'Epoch: {i} Loss: {loss}') #every 10 epochs we’ll output on which epoch are we and what’s the current loss\n",
    " \n",
    "    optimizer.zero_grad() #backpropagation to updating of weights and biases in order to the model actually learn\n",
    "    loss.backward()\n",
    "    optimizer.step()\n",
    "    \n",
    "model.eval()"
   ]
  },
  {
   "cell_type": "markdown",
   "id": "58cbd162",
   "metadata": {},
   "source": [
    "A visualization of our loss by Adam optimizer:"
   ]
  },
  {
   "cell_type": "code",
   "execution_count": 27,
   "id": "a60aad62",
   "metadata": {},
   "outputs": [
    {
     "data": {
      "image/png": "[encoded data removed]",
      "text/plain": [
       "<Figure size 640x480 with 1 Axes>"
      ]
     },
     "metadata": {},
     "output_type": "display_data"
    }
   ],
   "source": [
    "import matplotlib.pyplot as plt #python package to drew graphs in python\n",
    "\n",
    "plt.plot([i for i in range(100)], [loss.detach().numpy() for loss in loss_arr])\n",
    "plt.xlabel ('epoch')\n",
    "plt.ylabel ('loss')\n",
    "plt.show()"
   ]
  },
  {
   "cell_type": "markdown",
   "id": "3971c2dc",
   "metadata": {},
   "source": [
    "Evaluation the model:"
   ]
  },
  {
   "cell_type": "code",
   "execution_count": 28,
   "id": "f0592935",
   "metadata": {},
   "outputs": [],
   "source": [
    "preds = [] #predictions are stored in the preds array\n",
    "with torch.no_grad(): #there’s no need to update weights and biases\n",
    "    for val in X_test:\n",
    "        y_hat = model.forward(val)\n",
    "        preds.append(y_hat.argmax().item())"
   ]
  },
  {
   "cell_type": "code",
   "execution_count": 29,
   "id": "7152d6b6",
   "metadata": {},
   "outputs": [],
   "source": [
    "df = pd.DataFrame({'Y': y_test, 'YHat': preds}) #Y: actual value and YHat: predicted value\n",
    "df['Correct'] = [1 if corr == pred else 0 for corr, pred in zip(df['Y'], df['YHat'])]"
   ]
  },
  {
   "cell_type": "code",
   "execution_count": 30,
   "id": "cc6bac92",
   "metadata": {},
   "outputs": [
    {
     "data": {
      "text/html": [
       "<div>\n",
       "<style scoped>\n",
       "    .dataframe tbody tr th:only-of-type {\n",
       "        vertical-align: middle;\n",
       "    }\n",
       "\n",
       "    .dataframe tbody tr th {\n",
       "        vertical-align: top;\n",
       "    }\n",
       "\n",
       "    .dataframe thead th {\n",
       "        text-align: right;\n",
       "    }\n",
       "</style>\n",
       "<table border=\"1\" class=\"dataframe\">\n",
       "  <thead>\n",
       "    <tr style=\"text-align: right;\">\n",
       "      <th></th>\n",
       "      <th>Y</th>\n",
       "      <th>YHat</th>\n",
       "      <th>Correct</th>\n",
       "    </tr>\n",
       "  </thead>\n",
       "  <tbody>\n",
       "    <tr>\n",
       "      <th>0</th>\n",
       "      <td>1</td>\n",
       "      <td>1</td>\n",
       "      <td>1</td>\n",
       "    </tr>\n",
       "    <tr>\n",
       "      <th>1</th>\n",
       "      <td>0</td>\n",
       "      <td>0</td>\n",
       "      <td>1</td>\n",
       "    </tr>\n",
       "    <tr>\n",
       "      <th>2</th>\n",
       "      <td>1</td>\n",
       "      <td>1</td>\n",
       "      <td>1</td>\n",
       "    </tr>\n",
       "    <tr>\n",
       "      <th>3</th>\n",
       "      <td>2</td>\n",
       "      <td>1</td>\n",
       "      <td>0</td>\n",
       "    </tr>\n",
       "    <tr>\n",
       "      <th>4</th>\n",
       "      <td>2</td>\n",
       "      <td>1</td>\n",
       "      <td>0</td>\n",
       "    </tr>\n",
       "    <tr>\n",
       "      <th>5</th>\n",
       "      <td>1</td>\n",
       "      <td>1</td>\n",
       "      <td>1</td>\n",
       "    </tr>\n",
       "    <tr>\n",
       "      <th>6</th>\n",
       "      <td>1</td>\n",
       "      <td>1</td>\n",
       "      <td>1</td>\n",
       "    </tr>\n",
       "    <tr>\n",
       "      <th>7</th>\n",
       "      <td>0</td>\n",
       "      <td>0</td>\n",
       "      <td>1</td>\n",
       "    </tr>\n",
       "    <tr>\n",
       "      <th>8</th>\n",
       "      <td>2</td>\n",
       "      <td>1</td>\n",
       "      <td>0</td>\n",
       "    </tr>\n",
       "    <tr>\n",
       "      <th>9</th>\n",
       "      <td>1</td>\n",
       "      <td>1</td>\n",
       "      <td>1</td>\n",
       "    </tr>\n",
       "    <tr>\n",
       "      <th>10</th>\n",
       "      <td>2</td>\n",
       "      <td>1</td>\n",
       "      <td>0</td>\n",
       "    </tr>\n",
       "    <tr>\n",
       "      <th>11</th>\n",
       "      <td>2</td>\n",
       "      <td>1</td>\n",
       "      <td>0</td>\n",
       "    </tr>\n",
       "    <tr>\n",
       "      <th>12</th>\n",
       "      <td>1</td>\n",
       "      <td>1</td>\n",
       "      <td>1</td>\n",
       "    </tr>\n",
       "    <tr>\n",
       "      <th>13</th>\n",
       "      <td>1</td>\n",
       "      <td>1</td>\n",
       "      <td>1</td>\n",
       "    </tr>\n",
       "    <tr>\n",
       "      <th>14</th>\n",
       "      <td>2</td>\n",
       "      <td>1</td>\n",
       "      <td>0</td>\n",
       "    </tr>\n",
       "    <tr>\n",
       "      <th>15</th>\n",
       "      <td>0</td>\n",
       "      <td>0</td>\n",
       "      <td>1</td>\n",
       "    </tr>\n",
       "    <tr>\n",
       "      <th>16</th>\n",
       "      <td>1</td>\n",
       "      <td>1</td>\n",
       "      <td>1</td>\n",
       "    </tr>\n",
       "    <tr>\n",
       "      <th>17</th>\n",
       "      <td>2</td>\n",
       "      <td>1</td>\n",
       "      <td>0</td>\n",
       "    </tr>\n",
       "    <tr>\n",
       "      <th>18</th>\n",
       "      <td>1</td>\n",
       "      <td>1</td>\n",
       "      <td>1</td>\n",
       "    </tr>\n",
       "    <tr>\n",
       "      <th>19</th>\n",
       "      <td>1</td>\n",
       "      <td>1</td>\n",
       "      <td>1</td>\n",
       "    </tr>\n",
       "    <tr>\n",
       "      <th>20</th>\n",
       "      <td>0</td>\n",
       "      <td>0</td>\n",
       "      <td>1</td>\n",
       "    </tr>\n",
       "    <tr>\n",
       "      <th>21</th>\n",
       "      <td>0</td>\n",
       "      <td>0</td>\n",
       "      <td>1</td>\n",
       "    </tr>\n",
       "    <tr>\n",
       "      <th>22</th>\n",
       "      <td>0</td>\n",
       "      <td>0</td>\n",
       "      <td>1</td>\n",
       "    </tr>\n",
       "    <tr>\n",
       "      <th>23</th>\n",
       "      <td>0</td>\n",
       "      <td>0</td>\n",
       "      <td>1</td>\n",
       "    </tr>\n",
       "    <tr>\n",
       "      <th>24</th>\n",
       "      <td>0</td>\n",
       "      <td>0</td>\n",
       "      <td>1</td>\n",
       "    </tr>\n",
       "    <tr>\n",
       "      <th>25</th>\n",
       "      <td>2</td>\n",
       "      <td>1</td>\n",
       "      <td>0</td>\n",
       "    </tr>\n",
       "    <tr>\n",
       "      <th>26</th>\n",
       "      <td>2</td>\n",
       "      <td>1</td>\n",
       "      <td>0</td>\n",
       "    </tr>\n",
       "    <tr>\n",
       "      <th>27</th>\n",
       "      <td>1</td>\n",
       "      <td>1</td>\n",
       "      <td>1</td>\n",
       "    </tr>\n",
       "    <tr>\n",
       "      <th>28</th>\n",
       "      <td>0</td>\n",
       "      <td>0</td>\n",
       "      <td>1</td>\n",
       "    </tr>\n",
       "    <tr>\n",
       "      <th>29</th>\n",
       "      <td>2</td>\n",
       "      <td>1</td>\n",
       "      <td>0</td>\n",
       "    </tr>\n",
       "  </tbody>\n",
       "</table>\n",
       "</div>"
      ],
      "text/plain": [
       "    Y  YHat  Correct\n",
       "0   1     1        1\n",
       "1   0     0        1\n",
       "2   1     1        1\n",
       "3   2     1        0\n",
       "4   2     1        0\n",
       "5   1     1        1\n",
       "6   1     1        1\n",
       "7   0     0        1\n",
       "8   2     1        0\n",
       "9   1     1        1\n",
       "10  2     1        0\n",
       "11  2     1        0\n",
       "12  1     1        1\n",
       "13  1     1        1\n",
       "14  2     1        0\n",
       "15  0     0        1\n",
       "16  1     1        1\n",
       "17  2     1        0\n",
       "18  1     1        1\n",
       "19  1     1        1\n",
       "20  0     0        1\n",
       "21  0     0        1\n",
       "22  0     0        1\n",
       "23  0     0        1\n",
       "24  0     0        1\n",
       "25  2     1        0\n",
       "26  2     1        0\n",
       "27  1     1        1\n",
       "28  0     0        1\n",
       "29  2     1        0"
      ]
     },
     "execution_count": 30,
     "metadata": {},
     "output_type": "execute_result"
    }
   ],
   "source": [
    "df"
   ]
  },
  {
   "cell_type": "code",
   "execution_count": 31,
   "id": "1c8a74d7",
   "metadata": {},
   "outputs": [
    {
     "data": {
      "text/plain": [
       "0.6666666666666666"
      ]
     },
     "execution_count": 31,
     "metadata": {},
     "output_type": "execute_result"
    }
   ],
   "source": [
    "df['Correct'].sum() / len(df) #sum up the Correct column and divide it with the length of df"
   ]
  },
  {
   "cell_type": "code",
   "execution_count": 32,
   "id": "83c38d75",
   "metadata": {},
   "outputs": [
    {
     "name": "stdout",
     "output_type": "stream",
     "text": [
      "accuracy for test set is:0.6666666666666666\n"
     ]
    }
   ],
   "source": [
    "#another way\n",
    "acc = len([1 for i in range(X_test.shape[0]) if preds[i] == y_test[i]]) / X_test.shape[0]\n",
    "print(\"accuracy for test set is:{}\".format(acc))"
   ]
  },
  {
   "cell_type": "markdown",
   "id": "29aef7fa",
   "metadata": {},
   "source": [
    "## 2. Creating a neural network model with three hidden layers and 24 neurons per layer with linear activation function"
   ]
  },
  {
   "cell_type": "markdown",
   "id": "a8a4d5a7",
   "metadata": {},
   "source": [
    "### Choosing the SGD optimizer:"
   ]
  },
  {
   "cell_type": "markdown",
   "id": "ceb944c8",
   "metadata": {},
   "source": [
    "Defining the Deep Neural Network Model:"
   ]
  },
  {
   "cell_type": "code",
   "execution_count": 33,
   "id": "4901b587",
   "metadata": {},
   "outputs": [],
   "source": [
    "import torch.nn as nn\n",
    "import torch.nn.functional as F\n",
    "\n",
    "#defining the Hyper parameters\n",
    "learning_rate = 0.01 #the standard learning rate value = 0.1 is adapted\n",
    "learning_momentum = 0.9 #how fast you want the network to reach the minimum loss during the training process\n",
    "epochs = 100 #this number denoted how many times you want the network to backpropagte and learn the data perfectly since there are only 150 rows 20 epochs worked fine but as question asking us, I chose it 100\n",
    "\n",
    "class IrisANN2 (nn.Module): #defining the nodes, layers, activation functions\n",
    "\n",
    "    def __init__(self): \n",
    "        super (IrisANN2, self).__init__()\n",
    "        \n",
    "        self.input = nn.Linear(in_features = 4, out_features = 24) #Fully Connected Layer (4 input features (since there are 4 physical parameters the number of nodes in the input layer will be 4), 24 output features (the first hidden layer has 24 nodes as question asking us))\n",
    "        self.fc1 = nn.Linear(in_features = 24, out_features = 24) #Fully Connected Layer (24 input features (number of output features from the previous layer), 24 output features (the second hidden layer has 24 nodes as question asking us)))\n",
    "        self.fc2 = nn.Linear(in_features = 24, out_features = 24)\n",
    "        self.output = nn.Linear(in_features = 24, out_features = 3) #Output Layer (24 input features (number of output features from the previous layer), 3 output features (since there are 3 class of species to be predicted the output is 3))\n",
    "        self.activation = nn.Identity() #define the neural network model with the nn.Identity() activation function, which is equivalent to a linear activation function.\n",
    "        \n",
    "    def forward(self, X): #defining the forward class which depicts how the data flows in a forward path of a network\n",
    "        out = self.activation(self.input(X)) \n",
    "        out = self.activation(self.fc1(out))\n",
    "        out = self.activation(self.fc2(out))\n",
    "        out = self.output(out)\n",
    "        \n",
    "        return out\n",
    "    \n",
    "model = IrisANN2() #Create the neural network model"
   ]
  },
  {
   "cell_type": "markdown",
   "id": "4f18faf7",
   "metadata": {},
   "source": [
    "Choosing the loss function and optimizer:"
   ]
  },
  {
   "cell_type": "code",
   "execution_count": 34,
   "id": "dfd96c56",
   "metadata": {},
   "outputs": [],
   "source": [
    "criterion = nn.CrossEntropyLoss() #basically how we measure loss, we’ll use CrossEntropyLoss\n",
    "optimizer = torch.optim.SGD(model.parameters(), lr = learning_rate, momentum = learning_momentum) #optimizer - Stochastic Gradient Descent is used"
   ]
  },
  {
   "cell_type": "markdown",
   "id": "d6c8490a",
   "metadata": {},
   "source": [
    "Training the model:"
   ]
  },
  {
   "cell_type": "code",
   "execution_count": 35,
   "id": "24852a1d",
   "metadata": {},
   "outputs": [
    {
     "name": "stdout",
     "output_type": "stream",
     "text": [
      "Epoch: 0 Loss: 1.0806177854537964\n",
      "Epoch: 10 Loss: 0.8063103556632996\n",
      "Epoch: 20 Loss: 0.48513084650039673\n",
      "Epoch: 30 Loss: 0.35678383708000183\n",
      "Epoch: 40 Loss: 0.2807830572128296\n",
      "Epoch: 50 Loss: 0.2350785732269287\n",
      "Epoch: 60 Loss: 0.19955357909202576\n",
      "Epoch: 70 Loss: 0.16564340889453888\n",
      "Epoch: 80 Loss: 0.13351087272167206\n",
      "Epoch: 90 Loss: 0.10608462244272232\n",
      "Wall time: 47 ms\n"
     ]
    },
    {
     "data": {
      "text/plain": [
       "IrisANN2(\n",
       "  (input): Linear(in_features=4, out_features=24, bias=True)\n",
       "  (fc1): Linear(in_features=24, out_features=24, bias=True)\n",
       "  (fc2): Linear(in_features=24, out_features=24, bias=True)\n",
       "  (output): Linear(in_features=24, out_features=3, bias=True)\n",
       "  (activation): Identity()\n",
       ")"
      ]
     },
     "execution_count": 35,
     "metadata": {},
     "output_type": "execute_result"
    }
   ],
   "source": [
    "%%time\n",
    "epochs = 100 #train the model for 100 epochs\n",
    "loss_arr = []\n",
    "\n",
    "for i in range(epochs):\n",
    "    y_hat = model.forward(X_train)\n",
    "    loss = criterion(y_hat, y_train)\n",
    "    loss_arr.append(loss)\n",
    " \n",
    "    if i % 10 == 0: \n",
    "        print(f'Epoch: {i} Loss: {loss}') #every 10 epochs we’ll output on which epoch are we and what’s the current loss\n",
    " \n",
    "    optimizer.zero_grad() #backpropagation to updating of weights and biases in order to the model actually learn\n",
    "    loss.backward()\n",
    "    optimizer.step()\n",
    "    \n",
    "model.eval()"
   ]
  },
  {
   "cell_type": "markdown",
   "id": "89057f87",
   "metadata": {},
   "source": [
    "A visualization of our loss by SGD optimizer:"
   ]
  },
  {
   "cell_type": "code",
   "execution_count": 36,
   "id": "04d3aded",
   "metadata": {},
   "outputs": [
    {
     "data": {
      "image/png": "[encoded data removed]",
      "text/plain": [
       "<Figure size 640x480 with 1 Axes>"
      ]
     },
     "metadata": {},
     "output_type": "display_data"
    }
   ],
   "source": [
    "import matplotlib.pyplot as plt #python package to drew graphs in python\n",
    "\n",
    "plt.plot([i for i in range(100)], [loss.detach().numpy() for loss in loss_arr])\n",
    "plt.xlabel ('epoch')\n",
    "plt.ylabel ('loss')\n",
    "plt.show()"
   ]
  },
  {
   "cell_type": "markdown",
   "id": "aeee2dd6",
   "metadata": {},
   "source": [
    "Evaluation the model:"
   ]
  },
  {
   "cell_type": "code",
   "execution_count": 37,
   "id": "81bc94cd",
   "metadata": {},
   "outputs": [],
   "source": [
    "preds = [] #predictions are stored in the preds array\n",
    "with torch.no_grad(): #there’s no need to update weights and biases\n",
    "    for val in X_test:\n",
    "        y_hat = model.forward(val)\n",
    "        preds.append(y_hat.argmax().item())"
   ]
  },
  {
   "cell_type": "code",
   "execution_count": 38,
   "id": "1737db3d",
   "metadata": {},
   "outputs": [],
   "source": [
    "df = pd.DataFrame({'Y': y_test, 'YHat': preds}) #Y: actual value and YHat: predicted value\n",
    "df['Correct'] = [1 if corr == pred else 0 for corr, pred in zip(df['Y'], df['YHat'])]"
   ]
  },
  {
   "cell_type": "code",
   "execution_count": 39,
   "id": "8b9f7c93",
   "metadata": {},
   "outputs": [
    {
     "data": {
      "text/html": [
       "<div>\n",
       "<style scoped>\n",
       "    .dataframe tbody tr th:only-of-type {\n",
       "        vertical-align: middle;\n",
       "    }\n",
       "\n",
       "    .dataframe tbody tr th {\n",
       "        vertical-align: top;\n",
       "    }\n",
       "\n",
       "    .dataframe thead th {\n",
       "        text-align: right;\n",
       "    }\n",
       "</style>\n",
       "<table border=\"1\" class=\"dataframe\">\n",
       "  <thead>\n",
       "    <tr style=\"text-align: right;\">\n",
       "      <th></th>\n",
       "      <th>Y</th>\n",
       "      <th>YHat</th>\n",
       "      <th>Correct</th>\n",
       "    </tr>\n",
       "  </thead>\n",
       "  <tbody>\n",
       "    <tr>\n",
       "      <th>0</th>\n",
       "      <td>1</td>\n",
       "      <td>1</td>\n",
       "      <td>1</td>\n",
       "    </tr>\n",
       "    <tr>\n",
       "      <th>1</th>\n",
       "      <td>0</td>\n",
       "      <td>0</td>\n",
       "      <td>1</td>\n",
       "    </tr>\n",
       "    <tr>\n",
       "      <th>2</th>\n",
       "      <td>1</td>\n",
       "      <td>1</td>\n",
       "      <td>1</td>\n",
       "    </tr>\n",
       "    <tr>\n",
       "      <th>3</th>\n",
       "      <td>2</td>\n",
       "      <td>2</td>\n",
       "      <td>1</td>\n",
       "    </tr>\n",
       "    <tr>\n",
       "      <th>4</th>\n",
       "      <td>2</td>\n",
       "      <td>2</td>\n",
       "      <td>1</td>\n",
       "    </tr>\n",
       "    <tr>\n",
       "      <th>5</th>\n",
       "      <td>1</td>\n",
       "      <td>2</td>\n",
       "      <td>0</td>\n",
       "    </tr>\n",
       "    <tr>\n",
       "      <th>6</th>\n",
       "      <td>1</td>\n",
       "      <td>1</td>\n",
       "      <td>1</td>\n",
       "    </tr>\n",
       "    <tr>\n",
       "      <th>7</th>\n",
       "      <td>0</td>\n",
       "      <td>0</td>\n",
       "      <td>1</td>\n",
       "    </tr>\n",
       "    <tr>\n",
       "      <th>8</th>\n",
       "      <td>2</td>\n",
       "      <td>2</td>\n",
       "      <td>1</td>\n",
       "    </tr>\n",
       "    <tr>\n",
       "      <th>9</th>\n",
       "      <td>1</td>\n",
       "      <td>1</td>\n",
       "      <td>1</td>\n",
       "    </tr>\n",
       "    <tr>\n",
       "      <th>10</th>\n",
       "      <td>2</td>\n",
       "      <td>2</td>\n",
       "      <td>1</td>\n",
       "    </tr>\n",
       "    <tr>\n",
       "      <th>11</th>\n",
       "      <td>2</td>\n",
       "      <td>2</td>\n",
       "      <td>1</td>\n",
       "    </tr>\n",
       "    <tr>\n",
       "      <th>12</th>\n",
       "      <td>1</td>\n",
       "      <td>1</td>\n",
       "      <td>1</td>\n",
       "    </tr>\n",
       "    <tr>\n",
       "      <th>13</th>\n",
       "      <td>1</td>\n",
       "      <td>2</td>\n",
       "      <td>0</td>\n",
       "    </tr>\n",
       "    <tr>\n",
       "      <th>14</th>\n",
       "      <td>2</td>\n",
       "      <td>2</td>\n",
       "      <td>1</td>\n",
       "    </tr>\n",
       "    <tr>\n",
       "      <th>15</th>\n",
       "      <td>0</td>\n",
       "      <td>0</td>\n",
       "      <td>1</td>\n",
       "    </tr>\n",
       "    <tr>\n",
       "      <th>16</th>\n",
       "      <td>1</td>\n",
       "      <td>1</td>\n",
       "      <td>1</td>\n",
       "    </tr>\n",
       "    <tr>\n",
       "      <th>17</th>\n",
       "      <td>2</td>\n",
       "      <td>2</td>\n",
       "      <td>1</td>\n",
       "    </tr>\n",
       "    <tr>\n",
       "      <th>18</th>\n",
       "      <td>1</td>\n",
       "      <td>1</td>\n",
       "      <td>1</td>\n",
       "    </tr>\n",
       "    <tr>\n",
       "      <th>19</th>\n",
       "      <td>1</td>\n",
       "      <td>2</td>\n",
       "      <td>0</td>\n",
       "    </tr>\n",
       "    <tr>\n",
       "      <th>20</th>\n",
       "      <td>0</td>\n",
       "      <td>0</td>\n",
       "      <td>1</td>\n",
       "    </tr>\n",
       "    <tr>\n",
       "      <th>21</th>\n",
       "      <td>0</td>\n",
       "      <td>0</td>\n",
       "      <td>1</td>\n",
       "    </tr>\n",
       "    <tr>\n",
       "      <th>22</th>\n",
       "      <td>0</td>\n",
       "      <td>0</td>\n",
       "      <td>1</td>\n",
       "    </tr>\n",
       "    <tr>\n",
       "      <th>23</th>\n",
       "      <td>0</td>\n",
       "      <td>0</td>\n",
       "      <td>1</td>\n",
       "    </tr>\n",
       "    <tr>\n",
       "      <th>24</th>\n",
       "      <td>0</td>\n",
       "      <td>0</td>\n",
       "      <td>1</td>\n",
       "    </tr>\n",
       "    <tr>\n",
       "      <th>25</th>\n",
       "      <td>2</td>\n",
       "      <td>2</td>\n",
       "      <td>1</td>\n",
       "    </tr>\n",
       "    <tr>\n",
       "      <th>26</th>\n",
       "      <td>2</td>\n",
       "      <td>2</td>\n",
       "      <td>1</td>\n",
       "    </tr>\n",
       "    <tr>\n",
       "      <th>27</th>\n",
       "      <td>1</td>\n",
       "      <td>1</td>\n",
       "      <td>1</td>\n",
       "    </tr>\n",
       "    <tr>\n",
       "      <th>28</th>\n",
       "      <td>0</td>\n",
       "      <td>0</td>\n",
       "      <td>1</td>\n",
       "    </tr>\n",
       "    <tr>\n",
       "      <th>29</th>\n",
       "      <td>2</td>\n",
       "      <td>2</td>\n",
       "      <td>1</td>\n",
       "    </tr>\n",
       "  </tbody>\n",
       "</table>\n",
       "</div>"
      ],
      "text/plain": [
       "    Y  YHat  Correct\n",
       "0   1     1        1\n",
       "1   0     0        1\n",
       "2   1     1        1\n",
       "3   2     2        1\n",
       "4   2     2        1\n",
       "5   1     2        0\n",
       "6   1     1        1\n",
       "7   0     0        1\n",
       "8   2     2        1\n",
       "9   1     1        1\n",
       "10  2     2        1\n",
       "11  2     2        1\n",
       "12  1     1        1\n",
       "13  1     2        0\n",
       "14  2     2        1\n",
       "15  0     0        1\n",
       "16  1     1        1\n",
       "17  2     2        1\n",
       "18  1     1        1\n",
       "19  1     2        0\n",
       "20  0     0        1\n",
       "21  0     0        1\n",
       "22  0     0        1\n",
       "23  0     0        1\n",
       "24  0     0        1\n",
       "25  2     2        1\n",
       "26  2     2        1\n",
       "27  1     1        1\n",
       "28  0     0        1\n",
       "29  2     2        1"
      ]
     },
     "execution_count": 39,
     "metadata": {},
     "output_type": "execute_result"
    }
   ],
   "source": [
    "df"
   ]
  },
  {
   "cell_type": "code",
   "execution_count": 40,
   "id": "05882379",
   "metadata": {},
   "outputs": [
    {
     "data": {
      "text/plain": [
       "0.9"
      ]
     },
     "execution_count": 40,
     "metadata": {},
     "output_type": "execute_result"
    }
   ],
   "source": [
    "df['Correct'].sum() / len(df) #sum up the Correct column and divide it with the length of df"
   ]
  },
  {
   "cell_type": "code",
   "execution_count": 41,
   "id": "54560692",
   "metadata": {},
   "outputs": [
    {
     "name": "stdout",
     "output_type": "stream",
     "text": [
      "accuracy for test set is:0.9\n"
     ]
    }
   ],
   "source": [
    "#another way\n",
    "acc = len([1 for i in range(X_test.shape[0]) if preds[i] == y_test[i]]) / X_test.shape[0]\n",
    "print(\"accuracy for test set is:{}\".format(acc))"
   ]
  },
  {
   "cell_type": "markdown",
   "id": "1c039d82",
   "metadata": {},
   "source": [
    "### Choosing Adam optimizer:"
   ]
  },
  {
   "cell_type": "markdown",
   "id": "abefecc7",
   "metadata": {},
   "source": [
    "Defining the Deep Neural Network Model:"
   ]
  },
  {
   "cell_type": "code",
   "execution_count": 42,
   "id": "5f3dd3cc",
   "metadata": {},
   "outputs": [],
   "source": [
    "import torch.nn as nn\n",
    "import torch.nn.functional as F\n",
    "\n",
    "#defining the Hyper parameters\n",
    "learning_rate = 0.01 #the standard learning rate value = 0.1 is adapted\n",
    "learning_momentum = 0.9 #how fast you want the network to reach the minimum loss during the training process\n",
    "epochs = 100 #this number denoted how many times you want the network to backpropagte and learn the data perfectly since there are only 150 rows 20 epochs worked fine but as question asking us, I chose it 100\n",
    "\n",
    "class IrisANN2 (nn.Module): #defining the nodes, layers, activation functions\n",
    "\n",
    "    def __init__(self): \n",
    "        super (IrisANN2, self).__init__()\n",
    "        \n",
    "        self.input = nn.Linear(in_features = 4, out_features = 24) #Fully Connected Layer (4 input features (since there are 4 physical parameters the number of nodes in the input layer will be 4), 24 output features (the first hidden layer has 24 nodes as question asking us))\n",
    "        self.fc1 = nn.Linear(in_features = 24, out_features = 24) #Fully Connected Layer (24 input features (number of output features from the previous layer), 24 output features (the second hidden layer has 24 nodes as question asking us)))\n",
    "        self.fc2 = nn.Linear(in_features = 24, out_features = 24)\n",
    "        self.output = nn.Linear(in_features = 24, out_features = 3) #Output Layer (24 input features (number of output features from the previous layer), 3 output features (since there are 3 class of species to be predicted the output is 3))\n",
    "        self.activation = nn.Identity() #define the neural network model with the nn.Identity() activation function, which is equivalent to a linear activation function.\n",
    "        \n",
    "    def forward(self, X): #defining the forward class which depicts how the data flows in a forward path of a network\n",
    "        out = self.activation(self.input(X)) \n",
    "        out = self.activation(self.fc1(out))\n",
    "        out = self.activation(self.fc2(out))\n",
    "        out = self.output(out)\n",
    "        \n",
    "        return out\n",
    "    \n",
    "model = IrisANN2() #Create the neural network model"
   ]
  },
  {
   "cell_type": "markdown",
   "id": "9f4a8de8",
   "metadata": {},
   "source": [
    "Choosing the loss function and optimizer:"
   ]
  },
  {
   "cell_type": "code",
   "execution_count": 43,
   "id": "fe75da32",
   "metadata": {},
   "outputs": [],
   "source": [
    "criterion = nn.CrossEntropyLoss() #basically how we measure loss, we’ll use CrossEntropyLoss\n",
    "optimizer = torch.optim.Adam(model.parameters(), lr = learning_rate) #optimizer - Adam is used"
   ]
  },
  {
   "cell_type": "markdown",
   "id": "965ec054",
   "metadata": {},
   "source": [
    "Training the model:"
   ]
  },
  {
   "cell_type": "code",
   "execution_count": 44,
   "id": "5c315e13",
   "metadata": {},
   "outputs": [
    {
     "name": "stdout",
     "output_type": "stream",
     "text": [
      "Epoch: 0 Loss: 1.1102420091629028\n",
      "Epoch: 10 Loss: 0.23713721334934235\n",
      "Epoch: 20 Loss: 0.06534051150083542\n",
      "Epoch: 30 Loss: 0.017905881628394127\n",
      "Epoch: 40 Loss: 0.009704900905489922\n",
      "Epoch: 50 Loss: 0.007086289580911398\n",
      "Epoch: 60 Loss: 0.004934858996421099\n",
      "Epoch: 70 Loss: 0.003734802594408393\n",
      "Epoch: 80 Loss: 0.0029230150394141674\n",
      "Epoch: 90 Loss: 0.002328392816707492\n",
      "Wall time: 75.5 ms\n"
     ]
    },
    {
     "data": {
      "text/plain": [
       "IrisANN2(\n",
       "  (input): Linear(in_features=4, out_features=24, bias=True)\n",
       "  (fc1): Linear(in_features=24, out_features=24, bias=True)\n",
       "  (fc2): Linear(in_features=24, out_features=24, bias=True)\n",
       "  (output): Linear(in_features=24, out_features=3, bias=True)\n",
       "  (activation): Identity()\n",
       ")"
      ]
     },
     "execution_count": 44,
     "metadata": {},
     "output_type": "execute_result"
    }
   ],
   "source": [
    "%%time\n",
    "epochs = 100 #train the model for 100 epochs\n",
    "loss_arr = []\n",
    "\n",
    "for i in range(epochs):\n",
    "    y_hat = model.forward(X_train)\n",
    "    loss = criterion(y_hat, y_train)\n",
    "    loss_arr.append(loss)\n",
    " \n",
    "    if i % 10 == 0: \n",
    "        print(f'Epoch: {i} Loss: {loss}') #every 10 epochs we’ll output on which epoch are we and what’s the current loss\n",
    " \n",
    "    optimizer.zero_grad() #backpropagation to updating of weights and biases in order to the model actually learn\n",
    "    loss.backward()\n",
    "    optimizer.step()\n",
    "    \n",
    "model.eval()"
   ]
  },
  {
   "cell_type": "markdown",
   "id": "a9de7e4f",
   "metadata": {},
   "source": [
    "A visualization of our loss by Adam optimizer:"
   ]
  },
  {
   "cell_type": "code",
   "execution_count": 45,
   "id": "33eb20a8",
   "metadata": {},
   "outputs": [
    {
     "data": {
      "image/png": "[encoded data removed]",
      "text/plain": [
       "<Figure size 640x480 with 1 Axes>"
      ]
     },
     "metadata": {},
     "output_type": "display_data"
    }
   ],
   "source": [
    "import matplotlib.pyplot as plt #python package to drew graphs in python\n",
    "\n",
    "plt.plot([i for i in range(100)], [loss.detach().numpy() for loss in loss_arr])\n",
    "plt.xlabel ('epoch')\n",
    "plt.ylabel ('loss')\n",
    "plt.show()"
   ]
  },
  {
   "cell_type": "markdown",
   "id": "a66a3cae",
   "metadata": {},
   "source": [
    "Evaluation the model:"
   ]
  },
  {
   "cell_type": "code",
   "execution_count": 46,
   "id": "ae64dd7a",
   "metadata": {},
   "outputs": [],
   "source": [
    "preds = [] #predictions are stored in the preds array\n",
    "with torch.no_grad(): #there’s no need to update weights and biases\n",
    "    for val in X_test:\n",
    "        y_hat = model.forward(val)\n",
    "        preds.append(y_hat.argmax().item())"
   ]
  },
  {
   "cell_type": "code",
   "execution_count": 47,
   "id": "aa3fa7cb",
   "metadata": {},
   "outputs": [],
   "source": [
    "df = pd.DataFrame({'Y': y_test, 'YHat': preds}) #Y: actual value and YHat: predicted value\n",
    "df['Correct'] = [1 if corr == pred else 0 for corr, pred in zip(df['Y'], df['YHat'])]"
   ]
  },
  {
   "cell_type": "code",
   "execution_count": 48,
   "id": "da493792",
   "metadata": {},
   "outputs": [
    {
     "data": {
      "text/html": [
       "<div>\n",
       "<style scoped>\n",
       "    .dataframe tbody tr th:only-of-type {\n",
       "        vertical-align: middle;\n",
       "    }\n",
       "\n",
       "    .dataframe tbody tr th {\n",
       "        vertical-align: top;\n",
       "    }\n",
       "\n",
       "    .dataframe thead th {\n",
       "        text-align: right;\n",
       "    }\n",
       "</style>\n",
       "<table border=\"1\" class=\"dataframe\">\n",
       "  <thead>\n",
       "    <tr style=\"text-align: right;\">\n",
       "      <th></th>\n",
       "      <th>Y</th>\n",
       "      <th>YHat</th>\n",
       "      <th>Correct</th>\n",
       "    </tr>\n",
       "  </thead>\n",
       "  <tbody>\n",
       "    <tr>\n",
       "      <th>0</th>\n",
       "      <td>1</td>\n",
       "      <td>1</td>\n",
       "      <td>1</td>\n",
       "    </tr>\n",
       "    <tr>\n",
       "      <th>1</th>\n",
       "      <td>0</td>\n",
       "      <td>0</td>\n",
       "      <td>1</td>\n",
       "    </tr>\n",
       "    <tr>\n",
       "      <th>2</th>\n",
       "      <td>1</td>\n",
       "      <td>1</td>\n",
       "      <td>1</td>\n",
       "    </tr>\n",
       "    <tr>\n",
       "      <th>3</th>\n",
       "      <td>2</td>\n",
       "      <td>2</td>\n",
       "      <td>1</td>\n",
       "    </tr>\n",
       "    <tr>\n",
       "      <th>4</th>\n",
       "      <td>2</td>\n",
       "      <td>2</td>\n",
       "      <td>1</td>\n",
       "    </tr>\n",
       "    <tr>\n",
       "      <th>5</th>\n",
       "      <td>1</td>\n",
       "      <td>2</td>\n",
       "      <td>0</td>\n",
       "    </tr>\n",
       "    <tr>\n",
       "      <th>6</th>\n",
       "      <td>1</td>\n",
       "      <td>1</td>\n",
       "      <td>1</td>\n",
       "    </tr>\n",
       "    <tr>\n",
       "      <th>7</th>\n",
       "      <td>0</td>\n",
       "      <td>0</td>\n",
       "      <td>1</td>\n",
       "    </tr>\n",
       "    <tr>\n",
       "      <th>8</th>\n",
       "      <td>2</td>\n",
       "      <td>2</td>\n",
       "      <td>1</td>\n",
       "    </tr>\n",
       "    <tr>\n",
       "      <th>9</th>\n",
       "      <td>1</td>\n",
       "      <td>1</td>\n",
       "      <td>1</td>\n",
       "    </tr>\n",
       "    <tr>\n",
       "      <th>10</th>\n",
       "      <td>2</td>\n",
       "      <td>2</td>\n",
       "      <td>1</td>\n",
       "    </tr>\n",
       "    <tr>\n",
       "      <th>11</th>\n",
       "      <td>2</td>\n",
       "      <td>2</td>\n",
       "      <td>1</td>\n",
       "    </tr>\n",
       "    <tr>\n",
       "      <th>12</th>\n",
       "      <td>1</td>\n",
       "      <td>1</td>\n",
       "      <td>1</td>\n",
       "    </tr>\n",
       "    <tr>\n",
       "      <th>13</th>\n",
       "      <td>1</td>\n",
       "      <td>2</td>\n",
       "      <td>0</td>\n",
       "    </tr>\n",
       "    <tr>\n",
       "      <th>14</th>\n",
       "      <td>2</td>\n",
       "      <td>2</td>\n",
       "      <td>1</td>\n",
       "    </tr>\n",
       "    <tr>\n",
       "      <th>15</th>\n",
       "      <td>0</td>\n",
       "      <td>0</td>\n",
       "      <td>1</td>\n",
       "    </tr>\n",
       "    <tr>\n",
       "      <th>16</th>\n",
       "      <td>1</td>\n",
       "      <td>1</td>\n",
       "      <td>1</td>\n",
       "    </tr>\n",
       "    <tr>\n",
       "      <th>17</th>\n",
       "      <td>2</td>\n",
       "      <td>2</td>\n",
       "      <td>1</td>\n",
       "    </tr>\n",
       "    <tr>\n",
       "      <th>18</th>\n",
       "      <td>1</td>\n",
       "      <td>1</td>\n",
       "      <td>1</td>\n",
       "    </tr>\n",
       "    <tr>\n",
       "      <th>19</th>\n",
       "      <td>1</td>\n",
       "      <td>2</td>\n",
       "      <td>0</td>\n",
       "    </tr>\n",
       "    <tr>\n",
       "      <th>20</th>\n",
       "      <td>0</td>\n",
       "      <td>0</td>\n",
       "      <td>1</td>\n",
       "    </tr>\n",
       "    <tr>\n",
       "      <th>21</th>\n",
       "      <td>0</td>\n",
       "      <td>0</td>\n",
       "      <td>1</td>\n",
       "    </tr>\n",
       "    <tr>\n",
       "      <th>22</th>\n",
       "      <td>0</td>\n",
       "      <td>0</td>\n",
       "      <td>1</td>\n",
       "    </tr>\n",
       "    <tr>\n",
       "      <th>23</th>\n",
       "      <td>0</td>\n",
       "      <td>0</td>\n",
       "      <td>1</td>\n",
       "    </tr>\n",
       "    <tr>\n",
       "      <th>24</th>\n",
       "      <td>0</td>\n",
       "      <td>0</td>\n",
       "      <td>1</td>\n",
       "    </tr>\n",
       "    <tr>\n",
       "      <th>25</th>\n",
       "      <td>2</td>\n",
       "      <td>2</td>\n",
       "      <td>1</td>\n",
       "    </tr>\n",
       "    <tr>\n",
       "      <th>26</th>\n",
       "      <td>2</td>\n",
       "      <td>2</td>\n",
       "      <td>1</td>\n",
       "    </tr>\n",
       "    <tr>\n",
       "      <th>27</th>\n",
       "      <td>1</td>\n",
       "      <td>1</td>\n",
       "      <td>1</td>\n",
       "    </tr>\n",
       "    <tr>\n",
       "      <th>28</th>\n",
       "      <td>0</td>\n",
       "      <td>0</td>\n",
       "      <td>1</td>\n",
       "    </tr>\n",
       "    <tr>\n",
       "      <th>29</th>\n",
       "      <td>2</td>\n",
       "      <td>2</td>\n",
       "      <td>1</td>\n",
       "    </tr>\n",
       "  </tbody>\n",
       "</table>\n",
       "</div>"
      ],
      "text/plain": [
       "    Y  YHat  Correct\n",
       "0   1     1        1\n",
       "1   0     0        1\n",
       "2   1     1        1\n",
       "3   2     2        1\n",
       "4   2     2        1\n",
       "5   1     2        0\n",
       "6   1     1        1\n",
       "7   0     0        1\n",
       "8   2     2        1\n",
       "9   1     1        1\n",
       "10  2     2        1\n",
       "11  2     2        1\n",
       "12  1     1        1\n",
       "13  1     2        0\n",
       "14  2     2        1\n",
       "15  0     0        1\n",
       "16  1     1        1\n",
       "17  2     2        1\n",
       "18  1     1        1\n",
       "19  1     2        0\n",
       "20  0     0        1\n",
       "21  0     0        1\n",
       "22  0     0        1\n",
       "23  0     0        1\n",
       "24  0     0        1\n",
       "25  2     2        1\n",
       "26  2     2        1\n",
       "27  1     1        1\n",
       "28  0     0        1\n",
       "29  2     2        1"
      ]
     },
     "execution_count": 48,
     "metadata": {},
     "output_type": "execute_result"
    }
   ],
   "source": [
    "df"
   ]
  },
  {
   "cell_type": "code",
   "execution_count": 49,
   "id": "882ee90b",
   "metadata": {},
   "outputs": [
    {
     "data": {
      "text/plain": [
       "0.9"
      ]
     },
     "execution_count": 49,
     "metadata": {},
     "output_type": "execute_result"
    }
   ],
   "source": [
    "df['Correct'].sum() / len(df) #sum up the Correct column and divide it with the length of df"
   ]
  },
  {
   "cell_type": "code",
   "execution_count": 50,
   "id": "4bc71af6",
   "metadata": {},
   "outputs": [
    {
     "name": "stdout",
     "output_type": "stream",
     "text": [
      "accuracy for test set is:0.9\n"
     ]
    }
   ],
   "source": [
    "#another way\n",
    "acc = len([1 for i in range(X_test.shape[0]) if preds[i] == y_test[i]]) / X_test.shape[0]\n",
    "print(\"accuracy for test set is:{}\".format(acc))"
   ]
  },
  {
   "cell_type": "markdown",
   "id": "fa0d621c",
   "metadata": {},
   "source": [
    "## 3. Creating a neural network model with three hidden layers and 24 neurons per layer with the ReⅬU activation function "
   ]
  },
  {
   "cell_type": "markdown",
   "id": "59b9819d",
   "metadata": {},
   "source": [
    "### Choosing the SGD optimizer:"
   ]
  },
  {
   "cell_type": "markdown",
   "id": "dd1ed7e1",
   "metadata": {},
   "source": [
    "Defining the Deep Neural Network Model:"
   ]
  },
  {
   "cell_type": "code",
   "execution_count": 51,
   "id": "1d1faf15",
   "metadata": {},
   "outputs": [],
   "source": [
    "import torch.nn as nn\n",
    "import torch.nn.functional as F\n",
    "\n",
    "#defining the Hyper parameters\n",
    "learning_rate = 0.01 #the standard learning rate value = 0.1 is adapted\n",
    "learning_momentum = 0.9 #how fast you want the network to reach the minimum loss during the training process\n",
    "epochs = 100 #this number denoted how many times you want the network to backpropagte and learn the data perfectly since there are only 150 rows 20 epochs worked fine but as question asking us, I chose it 100\n",
    "\n",
    "class IrisANN3 (nn.Module): #defining the nodes, layers, activation functions\n",
    "\n",
    "    def __init__(self): \n",
    "        super (IrisANN3, self).__init__()\n",
    "        \n",
    "        self.input = nn.Linear(in_features = 4, out_features = 24) #Fully Connected Layer (4 input features (since there are 4 physical parameters the number of nodes in the input layer will be 4), 24 output features (the first hidden layer has 24 nodes as question asking us))\n",
    "        self.fc1 = nn.Linear(in_features = 24, out_features = 24) #Fully Connected Layer (24 input features (number of output features from the previous layer), 24 output features (the second hidden layer has 24 nodes as question asking us)))\n",
    "        self.fc2 = nn.Linear(in_features = 24, out_features = 24)\n",
    "        self.output = nn.Linear(in_features = 24, out_features = 3) #Output Layer (24 input features (number of output features from the previous layer), 3 output features (since there are 3 class of species to be predicted the output is 3))\n",
    "    \n",
    "    def forward(self, X): #defining the forward class which depicts how the data flows in a forward path of a network\n",
    "        out = F.relu(self.input(X)) #ReLU activation function is widely and populary used for such application\n",
    "        out = F.relu(self.fc1(out))\n",
    "        out = F.relu(self.fc2(out))\n",
    "        out = self.output(out)\n",
    "        \n",
    "        return out\n",
    "    \n",
    "model = IrisANN3() #Create the neural network model"
   ]
  },
  {
   "cell_type": "markdown",
   "id": "3beec258",
   "metadata": {},
   "source": [
    "Choosing the loss function:"
   ]
  },
  {
   "cell_type": "code",
   "execution_count": 52,
   "id": "79d2e005",
   "metadata": {},
   "outputs": [],
   "source": [
    "criterion = nn.CrossEntropyLoss() #basically how we measure loss, we’ll use CrossEntropyLoss"
   ]
  },
  {
   "cell_type": "markdown",
   "id": "ca4846cf",
   "metadata": {},
   "source": [
    "Choosing the SGD optimizer:"
   ]
  },
  {
   "cell_type": "code",
   "execution_count": 53,
   "id": "9bb89298",
   "metadata": {},
   "outputs": [],
   "source": [
    "optimizer = torch.optim.SGD(model.parameters(), lr = learning_rate, momentum = learning_momentum) #optimizer - Stochastic Gradient Descent is used"
   ]
  },
  {
   "cell_type": "markdown",
   "id": "58288930",
   "metadata": {},
   "source": [
    "SGD did better with momentum than without it"
   ]
  },
  {
   "cell_type": "markdown",
   "id": "bcd82693",
   "metadata": {},
   "source": [
    "Training the model:"
   ]
  },
  {
   "cell_type": "code",
   "execution_count": 54,
   "id": "e7cc9937",
   "metadata": {},
   "outputs": [
    {
     "name": "stdout",
     "output_type": "stream",
     "text": [
      "Epoch: 0 Loss: 1.1029751300811768\n",
      "Epoch: 10 Loss: 1.0573211908340454\n",
      "Epoch: 20 Loss: 0.9597315192222595\n",
      "Epoch: 30 Loss: 0.8102812170982361\n",
      "Epoch: 40 Loss: 0.6755094528198242\n",
      "Epoch: 50 Loss: 0.5858669281005859\n",
      "Epoch: 60 Loss: 0.5138173699378967\n",
      "Epoch: 70 Loss: 0.4567953646183014\n",
      "Epoch: 80 Loss: 0.4099132716655731\n",
      "Epoch: 90 Loss: 0.36602726578712463\n",
      "Wall time: 57 ms\n"
     ]
    },
    {
     "data": {
      "text/plain": [
       "IrisANN3(\n",
       "  (input): Linear(in_features=4, out_features=24, bias=True)\n",
       "  (fc1): Linear(in_features=24, out_features=24, bias=True)\n",
       "  (fc2): Linear(in_features=24, out_features=24, bias=True)\n",
       "  (output): Linear(in_features=24, out_features=3, bias=True)\n",
       ")"
      ]
     },
     "execution_count": 54,
     "metadata": {},
     "output_type": "execute_result"
    }
   ],
   "source": [
    "%%time\n",
    "epochs = 100 #train the model for 100 epochs\n",
    "loss_arr = []\n",
    "\n",
    "for i in range(epochs):\n",
    "    y_hat = model.forward(X_train)\n",
    "    loss = criterion(y_hat, y_train)\n",
    "    loss_arr.append(loss)\n",
    " \n",
    "    if i % 10 == 0: \n",
    "        print(f'Epoch: {i} Loss: {loss}') #every 10 epochs we’ll output on which epoch are we and what’s the current loss\n",
    " \n",
    "    optimizer.zero_grad() #backpropagation to updating of weights and biases in order to the model actually learn\n",
    "    loss.backward()\n",
    "    optimizer.step()\n",
    "    \n",
    "model.eval()"
   ]
  },
  {
   "cell_type": "markdown",
   "id": "b77f7f51",
   "metadata": {},
   "source": [
    "A visualization of our loss by SGD optimizer:"
   ]
  },
  {
   "cell_type": "code",
   "execution_count": 55,
   "id": "1c82f445",
   "metadata": {
    "scrolled": false
   },
   "outputs": [
    {
     "data": {
      "image/png": "[encoded data removed]",
      "text/plain": [
       "<Figure size 640x480 with 1 Axes>"
      ]
     },
     "metadata": {},
     "output_type": "display_data"
    }
   ],
   "source": [
    "import matplotlib.pyplot as plt #python package to drew graphs in python\n",
    "\n",
    "plt.plot([i for i in range(100)], [loss.detach().numpy() for loss in loss_arr])\n",
    "plt.xlabel ('epoch')\n",
    "plt.ylabel ('loss')\n",
    "plt.show()"
   ]
  },
  {
   "cell_type": "markdown",
   "id": "00f045c3",
   "metadata": {},
   "source": [
    "Evaluation the model:"
   ]
  },
  {
   "cell_type": "code",
   "execution_count": 56,
   "id": "491a3fbe",
   "metadata": {},
   "outputs": [],
   "source": [
    "preds = [] #predictions are stored in the preds array\n",
    "with torch.no_grad(): #there’s no need to update weights and biases\n",
    "    for val in X_test:\n",
    "        y_hat = model.forward(val)\n",
    "        preds.append(y_hat.argmax().item())"
   ]
  },
  {
   "cell_type": "code",
   "execution_count": 57,
   "id": "1003ee39",
   "metadata": {},
   "outputs": [],
   "source": [
    "df = pd.DataFrame({'Y': y_test, 'YHat': preds}) #Y: actual value and YHat: predicted value\n",
    "df['Correct'] = [1 if corr == pred else 0 for corr, pred in zip(df['Y'], df['YHat'])]"
   ]
  },
  {
   "cell_type": "code",
   "execution_count": 58,
   "id": "744f9f1b",
   "metadata": {},
   "outputs": [
    {
     "data": {
      "text/html": [
       "<div>\n",
       "<style scoped>\n",
       "    .dataframe tbody tr th:only-of-type {\n",
       "        vertical-align: middle;\n",
       "    }\n",
       "\n",
       "    .dataframe tbody tr th {\n",
       "        vertical-align: top;\n",
       "    }\n",
       "\n",
       "    .dataframe thead th {\n",
       "        text-align: right;\n",
       "    }\n",
       "</style>\n",
       "<table border=\"1\" class=\"dataframe\">\n",
       "  <thead>\n",
       "    <tr style=\"text-align: right;\">\n",
       "      <th></th>\n",
       "      <th>Y</th>\n",
       "      <th>YHat</th>\n",
       "      <th>Correct</th>\n",
       "    </tr>\n",
       "  </thead>\n",
       "  <tbody>\n",
       "    <tr>\n",
       "      <th>0</th>\n",
       "      <td>1</td>\n",
       "      <td>2</td>\n",
       "      <td>0</td>\n",
       "    </tr>\n",
       "    <tr>\n",
       "      <th>1</th>\n",
       "      <td>0</td>\n",
       "      <td>0</td>\n",
       "      <td>1</td>\n",
       "    </tr>\n",
       "    <tr>\n",
       "      <th>2</th>\n",
       "      <td>1</td>\n",
       "      <td>1</td>\n",
       "      <td>1</td>\n",
       "    </tr>\n",
       "    <tr>\n",
       "      <th>3</th>\n",
       "      <td>2</td>\n",
       "      <td>2</td>\n",
       "      <td>1</td>\n",
       "    </tr>\n",
       "    <tr>\n",
       "      <th>4</th>\n",
       "      <td>2</td>\n",
       "      <td>2</td>\n",
       "      <td>1</td>\n",
       "    </tr>\n",
       "    <tr>\n",
       "      <th>5</th>\n",
       "      <td>1</td>\n",
       "      <td>2</td>\n",
       "      <td>0</td>\n",
       "    </tr>\n",
       "    <tr>\n",
       "      <th>6</th>\n",
       "      <td>1</td>\n",
       "      <td>1</td>\n",
       "      <td>1</td>\n",
       "    </tr>\n",
       "    <tr>\n",
       "      <th>7</th>\n",
       "      <td>0</td>\n",
       "      <td>0</td>\n",
       "      <td>1</td>\n",
       "    </tr>\n",
       "    <tr>\n",
       "      <th>8</th>\n",
       "      <td>2</td>\n",
       "      <td>2</td>\n",
       "      <td>1</td>\n",
       "    </tr>\n",
       "    <tr>\n",
       "      <th>9</th>\n",
       "      <td>1</td>\n",
       "      <td>1</td>\n",
       "      <td>1</td>\n",
       "    </tr>\n",
       "    <tr>\n",
       "      <th>10</th>\n",
       "      <td>2</td>\n",
       "      <td>2</td>\n",
       "      <td>1</td>\n",
       "    </tr>\n",
       "    <tr>\n",
       "      <th>11</th>\n",
       "      <td>2</td>\n",
       "      <td>2</td>\n",
       "      <td>1</td>\n",
       "    </tr>\n",
       "    <tr>\n",
       "      <th>12</th>\n",
       "      <td>1</td>\n",
       "      <td>1</td>\n",
       "      <td>1</td>\n",
       "    </tr>\n",
       "    <tr>\n",
       "      <th>13</th>\n",
       "      <td>1</td>\n",
       "      <td>2</td>\n",
       "      <td>0</td>\n",
       "    </tr>\n",
       "    <tr>\n",
       "      <th>14</th>\n",
       "      <td>2</td>\n",
       "      <td>2</td>\n",
       "      <td>1</td>\n",
       "    </tr>\n",
       "    <tr>\n",
       "      <th>15</th>\n",
       "      <td>0</td>\n",
       "      <td>0</td>\n",
       "      <td>1</td>\n",
       "    </tr>\n",
       "    <tr>\n",
       "      <th>16</th>\n",
       "      <td>1</td>\n",
       "      <td>1</td>\n",
       "      <td>1</td>\n",
       "    </tr>\n",
       "    <tr>\n",
       "      <th>17</th>\n",
       "      <td>2</td>\n",
       "      <td>2</td>\n",
       "      <td>1</td>\n",
       "    </tr>\n",
       "    <tr>\n",
       "      <th>18</th>\n",
       "      <td>1</td>\n",
       "      <td>2</td>\n",
       "      <td>0</td>\n",
       "    </tr>\n",
       "    <tr>\n",
       "      <th>19</th>\n",
       "      <td>1</td>\n",
       "      <td>2</td>\n",
       "      <td>0</td>\n",
       "    </tr>\n",
       "    <tr>\n",
       "      <th>20</th>\n",
       "      <td>0</td>\n",
       "      <td>0</td>\n",
       "      <td>1</td>\n",
       "    </tr>\n",
       "    <tr>\n",
       "      <th>21</th>\n",
       "      <td>0</td>\n",
       "      <td>0</td>\n",
       "      <td>1</td>\n",
       "    </tr>\n",
       "    <tr>\n",
       "      <th>22</th>\n",
       "      <td>0</td>\n",
       "      <td>0</td>\n",
       "      <td>1</td>\n",
       "    </tr>\n",
       "    <tr>\n",
       "      <th>23</th>\n",
       "      <td>0</td>\n",
       "      <td>0</td>\n",
       "      <td>1</td>\n",
       "    </tr>\n",
       "    <tr>\n",
       "      <th>24</th>\n",
       "      <td>0</td>\n",
       "      <td>0</td>\n",
       "      <td>1</td>\n",
       "    </tr>\n",
       "    <tr>\n",
       "      <th>25</th>\n",
       "      <td>2</td>\n",
       "      <td>2</td>\n",
       "      <td>1</td>\n",
       "    </tr>\n",
       "    <tr>\n",
       "      <th>26</th>\n",
       "      <td>2</td>\n",
       "      <td>2</td>\n",
       "      <td>1</td>\n",
       "    </tr>\n",
       "    <tr>\n",
       "      <th>27</th>\n",
       "      <td>1</td>\n",
       "      <td>1</td>\n",
       "      <td>1</td>\n",
       "    </tr>\n",
       "    <tr>\n",
       "      <th>28</th>\n",
       "      <td>0</td>\n",
       "      <td>0</td>\n",
       "      <td>1</td>\n",
       "    </tr>\n",
       "    <tr>\n",
       "      <th>29</th>\n",
       "      <td>2</td>\n",
       "      <td>2</td>\n",
       "      <td>1</td>\n",
       "    </tr>\n",
       "  </tbody>\n",
       "</table>\n",
       "</div>"
      ],
      "text/plain": [
       "    Y  YHat  Correct\n",
       "0   1     2        0\n",
       "1   0     0        1\n",
       "2   1     1        1\n",
       "3   2     2        1\n",
       "4   2     2        1\n",
       "5   1     2        0\n",
       "6   1     1        1\n",
       "7   0     0        1\n",
       "8   2     2        1\n",
       "9   1     1        1\n",
       "10  2     2        1\n",
       "11  2     2        1\n",
       "12  1     1        1\n",
       "13  1     2        0\n",
       "14  2     2        1\n",
       "15  0     0        1\n",
       "16  1     1        1\n",
       "17  2     2        1\n",
       "18  1     2        0\n",
       "19  1     2        0\n",
       "20  0     0        1\n",
       "21  0     0        1\n",
       "22  0     0        1\n",
       "23  0     0        1\n",
       "24  0     0        1\n",
       "25  2     2        1\n",
       "26  2     2        1\n",
       "27  1     1        1\n",
       "28  0     0        1\n",
       "29  2     2        1"
      ]
     },
     "execution_count": 58,
     "metadata": {},
     "output_type": "execute_result"
    }
   ],
   "source": [
    "df"
   ]
  },
  {
   "cell_type": "code",
   "execution_count": 59,
   "id": "00c7bc55",
   "metadata": {},
   "outputs": [
    {
     "data": {
      "text/plain": [
       "0.8333333333333334"
      ]
     },
     "execution_count": 59,
     "metadata": {},
     "output_type": "execute_result"
    }
   ],
   "source": [
    "df['Correct'].sum() / len(df) #sum up the Correct column and divide it with the length of df"
   ]
  },
  {
   "cell_type": "code",
   "execution_count": 60,
   "id": "abf4c918",
   "metadata": {},
   "outputs": [
    {
     "name": "stdout",
     "output_type": "stream",
     "text": [
      "accuracy for test set is:0.8333333333333334\n"
     ]
    }
   ],
   "source": [
    "#another way\n",
    "acc = len([1 for i in range(X_test.shape[0]) if preds[i] == y_test[i]]) / X_test.shape[0]\n",
    "print(\"accuracy for test set is:{}\".format(acc))"
   ]
  },
  {
   "cell_type": "markdown",
   "id": "3757550b",
   "metadata": {},
   "source": [
    "### Choosing Adam optimizer:"
   ]
  },
  {
   "cell_type": "markdown",
   "id": "2e05c7dc",
   "metadata": {},
   "source": [
    "Defining the Deep Neural Network Model:"
   ]
  },
  {
   "cell_type": "code",
   "execution_count": 61,
   "id": "0bddd95e",
   "metadata": {},
   "outputs": [],
   "source": [
    "import torch.nn as nn\n",
    "import torch.nn.functional as F\n",
    "\n",
    "#defining the Hyper parameters\n",
    "learning_rate = 0.01 #the standard learning rate value = 0.1 is adapted\n",
    "learning_momentum = 0.9 #how fast you want the network to reach the minimum loss during the training process\n",
    "epochs = 100 #this number denoted how many times you want the network to backpropagte and learn the data perfectly since there are only 150 rows 20 epochs worked fine but as question asking us, I chose it 100\n",
    "\n",
    "class IrisANN3 (nn.Module): #defining the nodes, layers, activation functions\n",
    "\n",
    "    def __init__(self): \n",
    "        super (IrisANN3, self).__init__()\n",
    "        \n",
    "        self.input = nn.Linear(in_features = 4, out_features = 24) #Fully Connected Layer (4 input features (since there are 4 physical parameters the number of nodes in the input layer will be 4), 24 output features (the first hidden layer has 24 nodes as question asking us))\n",
    "        self.fc1 = nn.Linear(in_features = 24, out_features = 24) #Fully Connected Layer (24 input features (number of output features from the previous layer), 24 output features (the second hidden layer has 24 nodes as question asking us)))\n",
    "        self.fc2 = nn.Linear(in_features = 24, out_features = 24)\n",
    "        self.output = nn.Linear(in_features = 24, out_features = 3) #Output Layer (24 input features (number of output features from the previous layer), 3 output features (since there are 3 class of species to be predicted the output is 3))\n",
    "    \n",
    "    def forward(self, X): #defining the forward class which depicts how the data flows in a forward path of a network\n",
    "        out = F.relu(self.input(X)) #ReLU activation function is widely and populary used for such application\n",
    "        out = F.relu(self.fc1(out))\n",
    "        out = F.relu(self.fc2(out))\n",
    "        out = self.output(out)\n",
    "        \n",
    "        return out\n",
    "    \n",
    "model = IrisANN3() #Create the neural network model"
   ]
  },
  {
   "cell_type": "markdown",
   "id": "25d74b6c",
   "metadata": {},
   "source": [
    "Choosing the loss function:"
   ]
  },
  {
   "cell_type": "code",
   "execution_count": 62,
   "id": "94e5e2b5",
   "metadata": {},
   "outputs": [],
   "source": [
    "criterion = nn.CrossEntropyLoss() #basically how we measure loss, we’ll use CrossEntropyLoss"
   ]
  },
  {
   "cell_type": "markdown",
   "id": "169af6cc",
   "metadata": {},
   "source": [
    "Choosing Adam optimizer:"
   ]
  },
  {
   "cell_type": "code",
   "execution_count": 63,
   "id": "ba5ba961",
   "metadata": {},
   "outputs": [],
   "source": [
    "optimizer = torch.optim.Adam(model.parameters(), lr = learning_rate) #optimizer - Adam is used"
   ]
  },
  {
   "cell_type": "markdown",
   "id": "4b0e3b65",
   "metadata": {},
   "source": [
    "Adam shows an error with momentum"
   ]
  },
  {
   "cell_type": "markdown",
   "id": "af285e38",
   "metadata": {},
   "source": [
    "Training the model again:"
   ]
  },
  {
   "cell_type": "code",
   "execution_count": 64,
   "id": "9cfdf8b1",
   "metadata": {},
   "outputs": [
    {
     "name": "stdout",
     "output_type": "stream",
     "text": [
      "Epoch: 0 Loss: 1.1149022579193115\n",
      "Epoch: 10 Loss: 0.5995610356330872\n",
      "Epoch: 20 Loss: 0.31550055742263794\n",
      "Epoch: 30 Loss: 0.10892707854509354\n",
      "Epoch: 40 Loss: 0.030766595155000687\n",
      "Epoch: 50 Loss: 0.015066486783325672\n",
      "Epoch: 60 Loss: 0.009151612408459187\n",
      "Epoch: 70 Loss: 0.006722389254719019\n",
      "Epoch: 80 Loss: 0.005014447961002588\n",
      "Epoch: 90 Loss: 0.0038028801791369915\n",
      "Wall time: 81 ms\n"
     ]
    },
    {
     "data": {
      "text/plain": [
       "IrisANN3(\n",
       "  (input): Linear(in_features=4, out_features=24, bias=True)\n",
       "  (fc1): Linear(in_features=24, out_features=24, bias=True)\n",
       "  (fc2): Linear(in_features=24, out_features=24, bias=True)\n",
       "  (output): Linear(in_features=24, out_features=3, bias=True)\n",
       ")"
      ]
     },
     "execution_count": 64,
     "metadata": {},
     "output_type": "execute_result"
    }
   ],
   "source": [
    "%%time\n",
    "epochs = 100 #train the model for 100 epochs\n",
    "loss_arr = []\n",
    "\n",
    "for i in range(epochs):\n",
    "    y_hat = model.forward(X_train)\n",
    "    loss = criterion(y_hat, y_train)\n",
    "    loss_arr.append(loss)\n",
    " \n",
    "    if i % 10 == 0: \n",
    "        print(f'Epoch: {i} Loss: {loss}') #every 10 epochs we’ll output on which epoch are we and what’s the current loss\n",
    " \n",
    "    optimizer.zero_grad() #backpropagation to updating of weights and biases in order to the model actually learn\n",
    "    loss.backward()\n",
    "    optimizer.step()\n",
    "    \n",
    "model.eval()"
   ]
  },
  {
   "cell_type": "markdown",
   "id": "9b26a552",
   "metadata": {},
   "source": [
    "A visualization of our loss by Adam optimizer:"
   ]
  },
  {
   "cell_type": "code",
   "execution_count": 65,
   "id": "a811e36c",
   "metadata": {},
   "outputs": [
    {
     "data": {
      "image/png": "[encoded data removed]",
      "text/plain": [
       "<Figure size 640x480 with 1 Axes>"
      ]
     },
     "metadata": {},
     "output_type": "display_data"
    }
   ],
   "source": [
    "plt.plot([i for i in range(100)], [loss.detach().numpy() for loss in loss_arr])\n",
    "plt.xlabel ('epoch')\n",
    "plt.ylabel ('loss')\n",
    "plt.show()"
   ]
  },
  {
   "cell_type": "markdown",
   "id": "ad83ef87",
   "metadata": {},
   "source": [
    "Evaluation the model:"
   ]
  },
  {
   "cell_type": "code",
   "execution_count": 66,
   "id": "93953f1a",
   "metadata": {},
   "outputs": [],
   "source": [
    "preds = [] #predictions are stored in the preds array\n",
    "with torch.no_grad(): #there’s no need to update weights and biases\n",
    "    for val in X_test:\n",
    "        y_hat = model.forward(val)\n",
    "        preds.append(y_hat.argmax().item())"
   ]
  },
  {
   "cell_type": "code",
   "execution_count": 67,
   "id": "dde74957",
   "metadata": {},
   "outputs": [],
   "source": [
    "df = pd.DataFrame({'Y': y_test, 'YHat': preds}) #Y: actual value and YHat: predicted value\n",
    "df['Correct'] = [1 if corr == pred else 0 for corr, pred in zip(df['Y'], df['YHat'])]"
   ]
  },
  {
   "cell_type": "code",
   "execution_count": 68,
   "id": "a4485544",
   "metadata": {},
   "outputs": [
    {
     "data": {
      "text/html": [
       "<div>\n",
       "<style scoped>\n",
       "    .dataframe tbody tr th:only-of-type {\n",
       "        vertical-align: middle;\n",
       "    }\n",
       "\n",
       "    .dataframe tbody tr th {\n",
       "        vertical-align: top;\n",
       "    }\n",
       "\n",
       "    .dataframe thead th {\n",
       "        text-align: right;\n",
       "    }\n",
       "</style>\n",
       "<table border=\"1\" class=\"dataframe\">\n",
       "  <thead>\n",
       "    <tr style=\"text-align: right;\">\n",
       "      <th></th>\n",
       "      <th>Y</th>\n",
       "      <th>YHat</th>\n",
       "      <th>Correct</th>\n",
       "    </tr>\n",
       "  </thead>\n",
       "  <tbody>\n",
       "    <tr>\n",
       "      <th>0</th>\n",
       "      <td>1</td>\n",
       "      <td>1</td>\n",
       "      <td>1</td>\n",
       "    </tr>\n",
       "    <tr>\n",
       "      <th>1</th>\n",
       "      <td>0</td>\n",
       "      <td>0</td>\n",
       "      <td>1</td>\n",
       "    </tr>\n",
       "    <tr>\n",
       "      <th>2</th>\n",
       "      <td>1</td>\n",
       "      <td>1</td>\n",
       "      <td>1</td>\n",
       "    </tr>\n",
       "    <tr>\n",
       "      <th>3</th>\n",
       "      <td>2</td>\n",
       "      <td>2</td>\n",
       "      <td>1</td>\n",
       "    </tr>\n",
       "    <tr>\n",
       "      <th>4</th>\n",
       "      <td>2</td>\n",
       "      <td>2</td>\n",
       "      <td>1</td>\n",
       "    </tr>\n",
       "    <tr>\n",
       "      <th>5</th>\n",
       "      <td>1</td>\n",
       "      <td>2</td>\n",
       "      <td>0</td>\n",
       "    </tr>\n",
       "    <tr>\n",
       "      <th>6</th>\n",
       "      <td>1</td>\n",
       "      <td>1</td>\n",
       "      <td>1</td>\n",
       "    </tr>\n",
       "    <tr>\n",
       "      <th>7</th>\n",
       "      <td>0</td>\n",
       "      <td>0</td>\n",
       "      <td>1</td>\n",
       "    </tr>\n",
       "    <tr>\n",
       "      <th>8</th>\n",
       "      <td>2</td>\n",
       "      <td>2</td>\n",
       "      <td>1</td>\n",
       "    </tr>\n",
       "    <tr>\n",
       "      <th>9</th>\n",
       "      <td>1</td>\n",
       "      <td>1</td>\n",
       "      <td>1</td>\n",
       "    </tr>\n",
       "    <tr>\n",
       "      <th>10</th>\n",
       "      <td>2</td>\n",
       "      <td>2</td>\n",
       "      <td>1</td>\n",
       "    </tr>\n",
       "    <tr>\n",
       "      <th>11</th>\n",
       "      <td>2</td>\n",
       "      <td>2</td>\n",
       "      <td>1</td>\n",
       "    </tr>\n",
       "    <tr>\n",
       "      <th>12</th>\n",
       "      <td>1</td>\n",
       "      <td>1</td>\n",
       "      <td>1</td>\n",
       "    </tr>\n",
       "    <tr>\n",
       "      <th>13</th>\n",
       "      <td>1</td>\n",
       "      <td>2</td>\n",
       "      <td>0</td>\n",
       "    </tr>\n",
       "    <tr>\n",
       "      <th>14</th>\n",
       "      <td>2</td>\n",
       "      <td>2</td>\n",
       "      <td>1</td>\n",
       "    </tr>\n",
       "    <tr>\n",
       "      <th>15</th>\n",
       "      <td>0</td>\n",
       "      <td>0</td>\n",
       "      <td>1</td>\n",
       "    </tr>\n",
       "    <tr>\n",
       "      <th>16</th>\n",
       "      <td>1</td>\n",
       "      <td>1</td>\n",
       "      <td>1</td>\n",
       "    </tr>\n",
       "    <tr>\n",
       "      <th>17</th>\n",
       "      <td>2</td>\n",
       "      <td>2</td>\n",
       "      <td>1</td>\n",
       "    </tr>\n",
       "    <tr>\n",
       "      <th>18</th>\n",
       "      <td>1</td>\n",
       "      <td>1</td>\n",
       "      <td>1</td>\n",
       "    </tr>\n",
       "    <tr>\n",
       "      <th>19</th>\n",
       "      <td>1</td>\n",
       "      <td>2</td>\n",
       "      <td>0</td>\n",
       "    </tr>\n",
       "    <tr>\n",
       "      <th>20</th>\n",
       "      <td>0</td>\n",
       "      <td>0</td>\n",
       "      <td>1</td>\n",
       "    </tr>\n",
       "    <tr>\n",
       "      <th>21</th>\n",
       "      <td>0</td>\n",
       "      <td>0</td>\n",
       "      <td>1</td>\n",
       "    </tr>\n",
       "    <tr>\n",
       "      <th>22</th>\n",
       "      <td>0</td>\n",
       "      <td>0</td>\n",
       "      <td>1</td>\n",
       "    </tr>\n",
       "    <tr>\n",
       "      <th>23</th>\n",
       "      <td>0</td>\n",
       "      <td>0</td>\n",
       "      <td>1</td>\n",
       "    </tr>\n",
       "    <tr>\n",
       "      <th>24</th>\n",
       "      <td>0</td>\n",
       "      <td>0</td>\n",
       "      <td>1</td>\n",
       "    </tr>\n",
       "    <tr>\n",
       "      <th>25</th>\n",
       "      <td>2</td>\n",
       "      <td>2</td>\n",
       "      <td>1</td>\n",
       "    </tr>\n",
       "    <tr>\n",
       "      <th>26</th>\n",
       "      <td>2</td>\n",
       "      <td>2</td>\n",
       "      <td>1</td>\n",
       "    </tr>\n",
       "    <tr>\n",
       "      <th>27</th>\n",
       "      <td>1</td>\n",
       "      <td>1</td>\n",
       "      <td>1</td>\n",
       "    </tr>\n",
       "    <tr>\n",
       "      <th>28</th>\n",
       "      <td>0</td>\n",
       "      <td>0</td>\n",
       "      <td>1</td>\n",
       "    </tr>\n",
       "    <tr>\n",
       "      <th>29</th>\n",
       "      <td>2</td>\n",
       "      <td>2</td>\n",
       "      <td>1</td>\n",
       "    </tr>\n",
       "  </tbody>\n",
       "</table>\n",
       "</div>"
      ],
      "text/plain": [
       "    Y  YHat  Correct\n",
       "0   1     1        1\n",
       "1   0     0        1\n",
       "2   1     1        1\n",
       "3   2     2        1\n",
       "4   2     2        1\n",
       "5   1     2        0\n",
       "6   1     1        1\n",
       "7   0     0        1\n",
       "8   2     2        1\n",
       "9   1     1        1\n",
       "10  2     2        1\n",
       "11  2     2        1\n",
       "12  1     1        1\n",
       "13  1     2        0\n",
       "14  2     2        1\n",
       "15  0     0        1\n",
       "16  1     1        1\n",
       "17  2     2        1\n",
       "18  1     1        1\n",
       "19  1     2        0\n",
       "20  0     0        1\n",
       "21  0     0        1\n",
       "22  0     0        1\n",
       "23  0     0        1\n",
       "24  0     0        1\n",
       "25  2     2        1\n",
       "26  2     2        1\n",
       "27  1     1        1\n",
       "28  0     0        1\n",
       "29  2     2        1"
      ]
     },
     "execution_count": 68,
     "metadata": {},
     "output_type": "execute_result"
    }
   ],
   "source": [
    "df"
   ]
  },
  {
   "cell_type": "code",
   "execution_count": 69,
   "id": "6614fe6d",
   "metadata": {},
   "outputs": [
    {
     "data": {
      "text/plain": [
       "0.9"
      ]
     },
     "execution_count": 69,
     "metadata": {},
     "output_type": "execute_result"
    }
   ],
   "source": [
    "df['Correct'].sum() / len(df) #sum up the Correct column and divide it with the length of df"
   ]
  },
  {
   "cell_type": "code",
   "execution_count": 70,
   "id": "2eadafae",
   "metadata": {},
   "outputs": [
    {
     "name": "stdout",
     "output_type": "stream",
     "text": [
      "accuracy for test set is:0.9\n"
     ]
    }
   ],
   "source": [
    "#another way\n",
    "acc = len([1 for i in range(X_test.shape[0]) if preds[i] == y_test[i]]) / X_test.shape[0]\n",
    "print(\"accuracy for test set is:{}\".format(acc))"
   ]
  },
  {
   "cell_type": "code",
   "execution_count": null,
   "id": "0adf5a90",
   "metadata": {},
   "outputs": [],
   "source": []
  }
 ],
 "metadata": {
  "kernelspec": {
   "display_name": "Python 3 (ipykernel)",
   "language": "python",
   "name": "python3"
  },
  "language_info": {
   "codemirror_mode": {
    "name": "ipython",
    "version": 3
   },
   "file_extension": ".py",
   "mimetype": "text/x-python",
   "name": "python",
   "nbconvert_exporter": "python",
   "pygments_lexer": "ipython3",
   "version": "3.9.13"
  }
 },
 "nbformat": 4,
 "nbformat_minor": 5
}
