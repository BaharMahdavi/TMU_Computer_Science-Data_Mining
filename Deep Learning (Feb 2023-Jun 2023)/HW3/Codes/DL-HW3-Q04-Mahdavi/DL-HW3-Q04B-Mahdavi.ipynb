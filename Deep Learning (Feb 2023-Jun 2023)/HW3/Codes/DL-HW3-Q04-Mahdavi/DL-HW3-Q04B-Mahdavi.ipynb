{
  "cells": [
    {
      "cell_type": "markdown",
      "metadata": {
        "id": "28dt8lFs-wu_"
      },
      "source": [
        "# The Deep Learning Homework 3 - Question No. 04 Part B\n",
        "Bahar Mahdavi - SN: 40152521337"
      ]
    },
    {
      "cell_type": "markdown",
      "metadata": {
        "id": "kYHEEVKYMvqi"
      },
      "source": [
        "## Load and normalize CIFAR10"
      ]
    },
    {
      "cell_type": "code",
      "execution_count": 1,
      "metadata": {
        "colab": {
          "base_uri": "https://localhost:8080/"
        },
        "id": "CVybIc-TJLt4",
        "outputId": "b8608181-ea09-447a-afe7-cb78704ec171"
      },
      "outputs": [
        {
          "output_type": "stream",
          "name": "stdout",
          "text": [
            "Downloading https://www.cs.toronto.edu/~kriz/cifar-10-python.tar.gz to ./data/cifar-10-python.tar.gz\n"
          ]
        },
        {
          "output_type": "stream",
          "name": "stderr",
          "text": [
            "100%|██████████| 170498071/170498071 [00:13<00:00, 12878099.59it/s]\n"
          ]
        },
        {
          "output_type": "stream",
          "name": "stdout",
          "text": [
            "Extracting ./data/cifar-10-python.tar.gz to ./data\n",
            "Files already downloaded and verified\n"
          ]
        }
      ],
      "source": [
        "import torch\n",
        "import torchvision\n",
        "import torchvision.transforms as transforms\n",
        "\n",
        "transform = transforms.Compose(\n",
        "    [transforms.ToTensor(),\n",
        "     transforms.Normalize((0.5, 0.5, 0.5), (0.5, 0.5, 0.5))]) # The output of torchvision datasets are PILImage images of range [0, 1]. We transform them to Tensors of normalized range [-1, 1]\n",
        "\n",
        "batch_size = 32\n",
        "\n",
        "trainset = torchvision.datasets.CIFAR10(root='./data', train=True, download=True, transform=transform)\n",
        "trainloader = torch.utils.data.DataLoader(trainset, batch_size=batch_size, shuffle=True, num_workers=2, pin_memory=True)\n",
        "                                          \n",
        "testset = torchvision.datasets.CIFAR10(root='./data', train=False, download=True, transform=transform)\n",
        "testloader = torch.utils.data.DataLoader(testset, batch_size=batch_size, shuffle=False, num_workers=2, pin_memory=True)\n",
        "\n",
        "classes = ('airplane', 'automobile', 'bird', 'cat', 'deer', 'dog', 'frog', 'horse', 'ship', 'truck')"
      ]
    },
    {
      "cell_type": "markdown",
      "metadata": {
        "id": "I1ml24liPSci"
      },
      "source": [
        "## Define a Convolutional Neural Network"
      ]
    },
    {
      "cell_type": "code",
      "execution_count": 2,
      "metadata": {
        "id": "OajCWlcj_msS"
      },
      "outputs": [],
      "source": [
        "import torch.nn as nn\n",
        "import torch.nn.functional as F\n",
        "\n",
        "model = nn.Sequential(\n",
        "            nn.Conv2d(3, 32, kernel_size=3, padding=1),\n",
        "            nn.ReLU(),\n",
        "            nn.Conv2d(32, 64, kernel_size=3, stride=1, padding=1),\n",
        "            nn.ReLU(),\n",
        "            nn.MaxPool2d(kernel_size=2, stride=2), # output: 64 x 16 x 16\n",
        "            nn.BatchNorm2d(64), \n",
        "\n",
        "            nn.Conv2d(64, 128, kernel_size=3, stride=1, padding=1),\n",
        "            nn.ReLU(),\n",
        "            nn.Conv2d(128, 128, kernel_size=3, stride=1, padding=1),\n",
        "            nn.ReLU(),\n",
        "            nn.MaxPool2d(kernel_size=2, stride=2), # output: 128 x 8 x 8\n",
        "            nn.BatchNorm2d(128), \n",
        "\n",
        "            nn.Conv2d(128, 256, kernel_size=3, stride=1, padding=1),\n",
        "            nn.ReLU(),\n",
        "            nn.Conv2d(256, 256, kernel_size=3, stride=1, padding=1),\n",
        "            nn.ReLU(),\n",
        "            nn.MaxPool2d(kernel_size=2, stride=2), # output: 256 x 4 x 4\n",
        "            nn.BatchNorm2d(256),\n",
        "\n",
        "            nn.Flatten(), \n",
        "            nn.Linear(256*4*4, 1024),\n",
        "            nn.ReLU(),\n",
        "            nn.Linear(1024, 512),\n",
        "            nn.ReLU(),\n",
        "            nn.Linear(512, 512),\n",
        "            nn.ReLU(),\n",
        "            nn.Linear(512, 512),\n",
        "            nn.ReLU(),\n",
        "            nn.Linear(512, 512),\n",
        "            nn.ReLU(),\n",
        "            nn.Linear(512, 10))"
      ]
    },
    {
      "cell_type": "markdown",
      "metadata": {
        "id": "_KEyn_GzdG-2"
      },
      "source": [
        "## Define a Loss function and optimizer"
      ]
    },
    {
      "cell_type": "code",
      "execution_count": 3,
      "metadata": {
        "colab": {
          "base_uri": "https://localhost:8080/"
        },
        "id": "jtutYPW3iUjH",
        "outputId": "558dfd66-2783-4a66-c4ba-c357fdd25262"
      },
      "outputs": [
        {
          "output_type": "stream",
          "name": "stdout",
          "text": [
            "cuda:0\n"
          ]
        }
      ],
      "source": [
        "device = torch.device('cuda:0' if torch.cuda.is_available() else 'cpu')\n",
        "model.to(device)\n",
        "\n",
        "print(device) # Assuming that we are on a CUDA machine, this should print a CUDA device:"
      ]
    },
    {
      "cell_type": "code",
      "execution_count": 4,
      "metadata": {
        "id": "1mV7HdnUdwmZ"
      },
      "outputs": [],
      "source": [
        "import torch.optim as optim\n",
        "\n",
        "criterion = nn.CrossEntropyLoss()\n",
        "optimizer = optim.SGD(model.parameters(), lr=0.001, momentum=0.9)"
      ]
    },
    {
      "cell_type": "markdown",
      "metadata": {
        "id": "kkXsw47hkOlj"
      },
      "source": [
        "## Summarize the architecture of the model,"
      ]
    },
    {
      "cell_type": "code",
      "execution_count": 5,
      "metadata": {
        "colab": {
          "base_uri": "https://localhost:8080/"
        },
        "id": "VkS3RDighFNM",
        "outputId": "671c9016-4f92-4efe-f365-85b3af47e2af"
      },
      "outputs": [
        {
          "output_type": "stream",
          "name": "stdout",
          "text": [
            "----------------------------------------------------------------\n",
            "        Layer (type)               Output Shape         Param #\n",
            "================================================================\n",
            "            Conv2d-1           [-1, 32, 32, 32]             896\n",
            "              ReLU-2           [-1, 32, 32, 32]               0\n",
            "            Conv2d-3           [-1, 64, 32, 32]          18,496\n",
            "              ReLU-4           [-1, 64, 32, 32]               0\n",
            "         MaxPool2d-5           [-1, 64, 16, 16]               0\n",
            "       BatchNorm2d-6           [-1, 64, 16, 16]             128\n",
            "            Conv2d-7          [-1, 128, 16, 16]          73,856\n",
            "              ReLU-8          [-1, 128, 16, 16]               0\n",
            "            Conv2d-9          [-1, 128, 16, 16]         147,584\n",
            "             ReLU-10          [-1, 128, 16, 16]               0\n",
            "        MaxPool2d-11            [-1, 128, 8, 8]               0\n",
            "      BatchNorm2d-12            [-1, 128, 8, 8]             256\n",
            "           Conv2d-13            [-1, 256, 8, 8]         295,168\n",
            "             ReLU-14            [-1, 256, 8, 8]               0\n",
            "           Conv2d-15            [-1, 256, 8, 8]         590,080\n",
            "             ReLU-16            [-1, 256, 8, 8]               0\n",
            "        MaxPool2d-17            [-1, 256, 4, 4]               0\n",
            "      BatchNorm2d-18            [-1, 256, 4, 4]             512\n",
            "          Flatten-19                 [-1, 4096]               0\n",
            "           Linear-20                 [-1, 1024]       4,195,328\n",
            "             ReLU-21                 [-1, 1024]               0\n",
            "           Linear-22                  [-1, 512]         524,800\n",
            "             ReLU-23                  [-1, 512]               0\n",
            "           Linear-24                  [-1, 512]         262,656\n",
            "             ReLU-25                  [-1, 512]               0\n",
            "           Linear-26                  [-1, 512]         262,656\n",
            "             ReLU-27                  [-1, 512]               0\n",
            "           Linear-28                  [-1, 512]         262,656\n",
            "             ReLU-29                  [-1, 512]               0\n",
            "           Linear-30                   [-1, 10]           5,130\n",
            "================================================================\n",
            "Total params: 6,640,202\n",
            "Trainable params: 6,640,202\n",
            "Non-trainable params: 0\n",
            "----------------------------------------------------------------\n",
            "Input size (MB): 0.01\n",
            "Forward/backward pass size (MB): 3.52\n",
            "Params size (MB): 25.33\n",
            "Estimated Total Size (MB): 28.86\n",
            "----------------------------------------------------------------\n"
          ]
        }
      ],
      "source": [
        "from torchsummary import summary\n",
        "\n",
        "summary(model,(3,32,32))"
      ]
    },
    {
      "cell_type": "code",
      "execution_count": 6,
      "metadata": {
        "id": "XApsr2kohw-H"
      },
      "outputs": [],
      "source": [
        "def count_parameters(model):\n",
        "  return sum(p.numel() for p in model.parameters() if p.requires_grad)"
      ]
    },
    {
      "cell_type": "code",
      "execution_count": 7,
      "metadata": {
        "colab": {
          "base_uri": "https://localhost:8080/"
        },
        "id": "CaHVP43Jhwqj",
        "outputId": "b9be7a75-183a-477c-f626-50ce870fe0f6"
      },
      "outputs": [
        {
          "output_type": "execute_result",
          "data": {
            "text/plain": [
              "6640202"
            ]
          },
          "metadata": {},
          "execution_count": 7
        }
      ],
      "source": [
        "count_parameters(model)"
      ]
    },
    {
      "cell_type": "markdown",
      "metadata": {
        "id": "HqcjHe1okZW2"
      },
      "source": [
        "## Train the network"
      ]
    },
    {
      "cell_type": "code",
      "execution_count": 8,
      "metadata": {
        "id": "DLzF3ydP-GbI"
      },
      "outputs": [],
      "source": [
        "from tqdm import tqdm\n",
        "\n",
        "train_losses=[]\n",
        "train_accu=[]\n",
        "\n",
        "def train(epoch):\n",
        "  print('\\nEpoch : %d'%epoch)\n",
        "  \n",
        "  model.train()\n",
        "\n",
        "  running_loss = 0\n",
        "  correct = 0\n",
        "  total = 0\n",
        "\n",
        "  for data in tqdm(trainloader): \n",
        "    \n",
        "    inputs = data[0].to(device, non_blocking=True)\n",
        "    labels = data[1].to(device, non_blocking=True)\n",
        "    \n",
        "    outputs = model(inputs) # forward\n",
        "    loss = criterion(outputs, labels)\n",
        "    optimizer.zero_grad() # zero the parameter gradients\n",
        "    loss.backward() # backward\n",
        "    optimizer.step() # optimize\n",
        "\n",
        "    running_loss += loss.item() # print statistics\n",
        "    \n",
        "    _, predicted = outputs.max(1)\n",
        "    total += labels.size(0)\n",
        "    correct += predicted.eq(labels).sum().item()\n",
        "      \n",
        "  train_loss=running_loss/len(trainloader)\n",
        "  accu = 100.*correct/total\n",
        "  \n",
        "  train_accu.append(accu)\n",
        "  train_losses.append(train_loss)\n",
        "  print('Train Loss: %.3f | Accuracy: %.3f'%(train_loss,accu))"
      ]
    },
    {
      "cell_type": "markdown",
      "metadata": {
        "id": "JrMuO69ECaZk"
      },
      "source": [
        "## Test the network on the test data"
      ]
    },
    {
      "cell_type": "code",
      "execution_count": 9,
      "metadata": {
        "id": "55jTRDG8kjIy"
      },
      "outputs": [],
      "source": [
        "eval_losses=[]\n",
        "eval_accu=[]\n",
        "\n",
        "def test(epoch):\n",
        "  model.eval()\n",
        "\n",
        "  running_loss = 0\n",
        "  correct = 0\n",
        "  total = 0\n",
        "\n",
        "  with torch.no_grad():\n",
        "    for data in tqdm(testloader):\n",
        "      images,labels = data[0].to(device, non_blocking=True),data[1].to(device, non_blocking=True)\n",
        "      \n",
        "      outputs = model(images)\n",
        "\n",
        "      loss = criterion(outputs, labels)\n",
        "      running_loss += loss.item()\n",
        "      \n",
        "      _, predicted = outputs.max(1)\n",
        "      total += labels.size(0)\n",
        "      correct += predicted.eq(labels).sum().item()\n",
        "  \n",
        "  test_loss = running_loss/len(testloader)\n",
        "  accu = 100.*correct/total\n",
        "\n",
        "  eval_losses.append(test_loss)\n",
        "  eval_accu.append(accu)\n",
        "\n",
        "  print('Test Loss: %.3f | Accuracy: %.3f'%(test_loss,accu)) "
      ]
    },
    {
      "cell_type": "code",
      "execution_count": 10,
      "metadata": {
        "colab": {
          "base_uri": "https://localhost:8080/"
        },
        "id": "W3HGDGr2USWH",
        "outputId": "38760370-a9fa-4585-e86d-29314ca1d0c3"
      },
      "outputs": [
        {
          "output_type": "stream",
          "name": "stdout",
          "text": [
            "\n",
            "Epoch : 1\n"
          ]
        },
        {
          "output_type": "stream",
          "name": "stderr",
          "text": [
            "100%|██████████| 1563/1563 [00:23<00:00, 66.52it/s]\n"
          ]
        },
        {
          "output_type": "stream",
          "name": "stdout",
          "text": [
            "Train Loss: 2.045 | Accuracy: 20.132\n"
          ]
        },
        {
          "output_type": "stream",
          "name": "stderr",
          "text": [
            "100%|██████████| 313/313 [00:03<00:00, 91.96it/s]\n"
          ]
        },
        {
          "output_type": "stream",
          "name": "stdout",
          "text": [
            "Test Loss: 1.631 | Accuracy: 34.900\n",
            "\n",
            "Epoch : 2\n"
          ]
        },
        {
          "output_type": "stream",
          "name": "stderr",
          "text": [
            "100%|██████████| 1563/1563 [00:24<00:00, 64.95it/s]\n"
          ]
        },
        {
          "output_type": "stream",
          "name": "stdout",
          "text": [
            "Train Loss: 1.302 | Accuracy: 50.652\n"
          ]
        },
        {
          "output_type": "stream",
          "name": "stderr",
          "text": [
            "100%|██████████| 313/313 [00:03<00:00, 93.01it/s]\n"
          ]
        },
        {
          "output_type": "stream",
          "name": "stdout",
          "text": [
            "Test Loss: 0.999 | Accuracy: 63.750\n",
            "\n",
            "Epoch : 3\n"
          ]
        },
        {
          "output_type": "stream",
          "name": "stderr",
          "text": [
            "100%|██████████| 1563/1563 [00:23<00:00, 67.69it/s]\n"
          ]
        },
        {
          "output_type": "stream",
          "name": "stdout",
          "text": [
            "Train Loss: 0.861 | Accuracy: 68.708\n"
          ]
        },
        {
          "output_type": "stream",
          "name": "stderr",
          "text": [
            "100%|██████████| 313/313 [00:03<00:00, 94.27it/s]\n"
          ]
        },
        {
          "output_type": "stream",
          "name": "stdout",
          "text": [
            "Test Loss: 0.789 | Accuracy: 72.340\n",
            "\n",
            "Epoch : 4\n"
          ]
        },
        {
          "output_type": "stream",
          "name": "stderr",
          "text": [
            "100%|██████████| 1563/1563 [00:23<00:00, 67.60it/s]\n"
          ]
        },
        {
          "output_type": "stream",
          "name": "stdout",
          "text": [
            "Train Loss: 0.644 | Accuracy: 77.054\n"
          ]
        },
        {
          "output_type": "stream",
          "name": "stderr",
          "text": [
            "100%|██████████| 313/313 [00:03<00:00, 94.90it/s]\n"
          ]
        },
        {
          "output_type": "stream",
          "name": "stdout",
          "text": [
            "Test Loss: 0.697 | Accuracy: 75.420\n",
            "\n",
            "Epoch : 5\n"
          ]
        },
        {
          "output_type": "stream",
          "name": "stderr",
          "text": [
            "100%|██████████| 1563/1563 [00:23<00:00, 67.89it/s]\n"
          ]
        },
        {
          "output_type": "stream",
          "name": "stdout",
          "text": [
            "Train Loss: 0.490 | Accuracy: 82.850\n"
          ]
        },
        {
          "output_type": "stream",
          "name": "stderr",
          "text": [
            "100%|██████████| 313/313 [00:03<00:00, 94.92it/s]\n"
          ]
        },
        {
          "output_type": "stream",
          "name": "stdout",
          "text": [
            "Test Loss: 0.624 | Accuracy: 78.760\n",
            "\n",
            "Epoch : 6\n"
          ]
        },
        {
          "output_type": "stream",
          "name": "stderr",
          "text": [
            "100%|██████████| 1563/1563 [00:23<00:00, 67.22it/s]\n"
          ]
        },
        {
          "output_type": "stream",
          "name": "stdout",
          "text": [
            "Train Loss: 0.372 | Accuracy: 86.916\n"
          ]
        },
        {
          "output_type": "stream",
          "name": "stderr",
          "text": [
            "100%|██████████| 313/313 [00:03<00:00, 92.75it/s]\n"
          ]
        },
        {
          "output_type": "stream",
          "name": "stdout",
          "text": [
            "Test Loss: 0.733 | Accuracy: 77.130\n",
            "\n",
            "Epoch : 7\n"
          ]
        },
        {
          "output_type": "stream",
          "name": "stderr",
          "text": [
            "100%|██████████| 1563/1563 [00:22<00:00, 68.57it/s]\n"
          ]
        },
        {
          "output_type": "stream",
          "name": "stdout",
          "text": [
            "Train Loss: 0.272 | Accuracy: 90.598\n"
          ]
        },
        {
          "output_type": "stream",
          "name": "stderr",
          "text": [
            "100%|██████████| 313/313 [00:03<00:00, 80.35it/s]\n"
          ]
        },
        {
          "output_type": "stream",
          "name": "stdout",
          "text": [
            "Test Loss: 0.690 | Accuracy: 78.250\n",
            "\n",
            "Epoch : 8\n"
          ]
        },
        {
          "output_type": "stream",
          "name": "stderr",
          "text": [
            "100%|██████████| 1563/1563 [00:22<00:00, 69.47it/s]\n"
          ]
        },
        {
          "output_type": "stream",
          "name": "stdout",
          "text": [
            "Train Loss: 0.207 | Accuracy: 92.722\n"
          ]
        },
        {
          "output_type": "stream",
          "name": "stderr",
          "text": [
            "100%|██████████| 313/313 [00:04<00:00, 70.45it/s]\n"
          ]
        },
        {
          "output_type": "stream",
          "name": "stdout",
          "text": [
            "Test Loss: 0.725 | Accuracy: 79.410\n",
            "\n",
            "Epoch : 9\n"
          ]
        },
        {
          "output_type": "stream",
          "name": "stderr",
          "text": [
            "100%|██████████| 1563/1563 [00:22<00:00, 70.76it/s]\n"
          ]
        },
        {
          "output_type": "stream",
          "name": "stdout",
          "text": [
            "Train Loss: 0.147 | Accuracy: 94.860\n"
          ]
        },
        {
          "output_type": "stream",
          "name": "stderr",
          "text": [
            "100%|██████████| 313/313 [00:04<00:00, 71.47it/s]\n"
          ]
        },
        {
          "output_type": "stream",
          "name": "stdout",
          "text": [
            "Test Loss: 0.779 | Accuracy: 79.430\n",
            "\n",
            "Epoch : 10\n"
          ]
        },
        {
          "output_type": "stream",
          "name": "stderr",
          "text": [
            "100%|██████████| 1563/1563 [00:22<00:00, 70.38it/s]\n"
          ]
        },
        {
          "output_type": "stream",
          "name": "stdout",
          "text": [
            "Train Loss: 0.117 | Accuracy: 95.876\n"
          ]
        },
        {
          "output_type": "stream",
          "name": "stderr",
          "text": [
            "100%|██████████| 313/313 [00:04<00:00, 75.12it/s]\n"
          ]
        },
        {
          "output_type": "stream",
          "name": "stdout",
          "text": [
            "Test Loss: 0.839 | Accuracy: 78.620\n",
            "\n",
            "Epoch : 11\n"
          ]
        },
        {
          "output_type": "stream",
          "name": "stderr",
          "text": [
            "100%|██████████| 1563/1563 [00:23<00:00, 67.19it/s]\n"
          ]
        },
        {
          "output_type": "stream",
          "name": "stdout",
          "text": [
            "Train Loss: 0.085 | Accuracy: 97.072\n"
          ]
        },
        {
          "output_type": "stream",
          "name": "stderr",
          "text": [
            "100%|██████████| 313/313 [00:03<00:00, 87.93it/s]\n"
          ]
        },
        {
          "output_type": "stream",
          "name": "stdout",
          "text": [
            "Test Loss: 0.857 | Accuracy: 80.560\n",
            "\n",
            "Epoch : 12\n"
          ]
        },
        {
          "output_type": "stream",
          "name": "stderr",
          "text": [
            "100%|██████████| 1563/1563 [00:23<00:00, 66.90it/s]\n"
          ]
        },
        {
          "output_type": "stream",
          "name": "stdout",
          "text": [
            "Train Loss: 0.069 | Accuracy: 97.596\n"
          ]
        },
        {
          "output_type": "stream",
          "name": "stderr",
          "text": [
            "100%|██████████| 313/313 [00:03<00:00, 95.11it/s] \n"
          ]
        },
        {
          "output_type": "stream",
          "name": "stdout",
          "text": [
            "Test Loss: 0.869 | Accuracy: 80.370\n",
            "\n",
            "Epoch : 13\n"
          ]
        },
        {
          "output_type": "stream",
          "name": "stderr",
          "text": [
            "100%|██████████| 1563/1563 [00:23<00:00, 67.22it/s]\n"
          ]
        },
        {
          "output_type": "stream",
          "name": "stdout",
          "text": [
            "Train Loss: 0.051 | Accuracy: 98.268\n"
          ]
        },
        {
          "output_type": "stream",
          "name": "stderr",
          "text": [
            "100%|██████████| 313/313 [00:03<00:00, 93.67it/s]\n"
          ]
        },
        {
          "output_type": "stream",
          "name": "stdout",
          "text": [
            "Test Loss: 0.945 | Accuracy: 79.800\n",
            "\n",
            "Epoch : 14\n"
          ]
        },
        {
          "output_type": "stream",
          "name": "stderr",
          "text": [
            "100%|██████████| 1563/1563 [00:23<00:00, 67.05it/s]\n"
          ]
        },
        {
          "output_type": "stream",
          "name": "stdout",
          "text": [
            "Train Loss: 0.041 | Accuracy: 98.590\n"
          ]
        },
        {
          "output_type": "stream",
          "name": "stderr",
          "text": [
            "100%|██████████| 313/313 [00:03<00:00, 93.49it/s]\n"
          ]
        },
        {
          "output_type": "stream",
          "name": "stdout",
          "text": [
            "Test Loss: 0.964 | Accuracy: 80.310\n",
            "\n",
            "Epoch : 15\n"
          ]
        },
        {
          "output_type": "stream",
          "name": "stderr",
          "text": [
            "100%|██████████| 1563/1563 [00:23<00:00, 67.22it/s]\n"
          ]
        },
        {
          "output_type": "stream",
          "name": "stdout",
          "text": [
            "Train Loss: 0.044 | Accuracy: 98.492\n"
          ]
        },
        {
          "output_type": "stream",
          "name": "stderr",
          "text": [
            "100%|██████████| 313/313 [00:03<00:00, 93.22it/s]\n"
          ]
        },
        {
          "output_type": "stream",
          "name": "stdout",
          "text": [
            "Test Loss: 0.927 | Accuracy: 81.130\n",
            "\n",
            "Epoch : 16\n"
          ]
        },
        {
          "output_type": "stream",
          "name": "stderr",
          "text": [
            "100%|██████████| 1563/1563 [00:23<00:00, 67.58it/s]\n"
          ]
        },
        {
          "output_type": "stream",
          "name": "stdout",
          "text": [
            "Train Loss: 0.040 | Accuracy: 98.582\n"
          ]
        },
        {
          "output_type": "stream",
          "name": "stderr",
          "text": [
            "100%|██████████| 313/313 [00:03<00:00, 93.31it/s]\n"
          ]
        },
        {
          "output_type": "stream",
          "name": "stdout",
          "text": [
            "Test Loss: 0.952 | Accuracy: 81.670\n",
            "\n",
            "Epoch : 17\n"
          ]
        },
        {
          "output_type": "stream",
          "name": "stderr",
          "text": [
            "100%|██████████| 1563/1563 [00:23<00:00, 66.74it/s]\n"
          ]
        },
        {
          "output_type": "stream",
          "name": "stdout",
          "text": [
            "Train Loss: 0.028 | Accuracy: 99.040\n"
          ]
        },
        {
          "output_type": "stream",
          "name": "stderr",
          "text": [
            "100%|██████████| 313/313 [00:03<00:00, 90.83it/s]\n"
          ]
        },
        {
          "output_type": "stream",
          "name": "stdout",
          "text": [
            "Test Loss: 1.038 | Accuracy: 81.450\n",
            "\n",
            "Epoch : 18\n"
          ]
        },
        {
          "output_type": "stream",
          "name": "stderr",
          "text": [
            "100%|██████████| 1563/1563 [00:23<00:00, 67.30it/s]\n"
          ]
        },
        {
          "output_type": "stream",
          "name": "stdout",
          "text": [
            "Train Loss: 0.021 | Accuracy: 99.310\n"
          ]
        },
        {
          "output_type": "stream",
          "name": "stderr",
          "text": [
            "100%|██████████| 313/313 [00:03<00:00, 90.46it/s]\n"
          ]
        },
        {
          "output_type": "stream",
          "name": "stdout",
          "text": [
            "Test Loss: 1.105 | Accuracy: 80.270\n",
            "\n",
            "Epoch : 19\n"
          ]
        },
        {
          "output_type": "stream",
          "name": "stderr",
          "text": [
            "100%|██████████| 1563/1563 [00:22<00:00, 68.30it/s]\n"
          ]
        },
        {
          "output_type": "stream",
          "name": "stdout",
          "text": [
            "Train Loss: 0.019 | Accuracy: 99.324\n"
          ]
        },
        {
          "output_type": "stream",
          "name": "stderr",
          "text": [
            "100%|██████████| 313/313 [00:04<00:00, 77.70it/s]\n"
          ]
        },
        {
          "output_type": "stream",
          "name": "stdout",
          "text": [
            "Test Loss: 1.017 | Accuracy: 81.570\n",
            "\n",
            "Epoch : 20\n"
          ]
        },
        {
          "output_type": "stream",
          "name": "stderr",
          "text": [
            "100%|██████████| 1563/1563 [00:22<00:00, 69.49it/s]\n"
          ]
        },
        {
          "output_type": "stream",
          "name": "stdout",
          "text": [
            "Train Loss: 0.012 | Accuracy: 99.618\n"
          ]
        },
        {
          "output_type": "stream",
          "name": "stderr",
          "text": [
            "100%|██████████| 313/313 [00:04<00:00, 71.02it/s]\n"
          ]
        },
        {
          "output_type": "stream",
          "name": "stdout",
          "text": [
            "Test Loss: 1.064 | Accuracy: 82.070\n",
            "\n",
            "Epoch : 21\n"
          ]
        },
        {
          "output_type": "stream",
          "name": "stderr",
          "text": [
            "100%|██████████| 1563/1563 [00:22<00:00, 69.25it/s]\n"
          ]
        },
        {
          "output_type": "stream",
          "name": "stdout",
          "text": [
            "Train Loss: 0.012 | Accuracy: 99.616\n"
          ]
        },
        {
          "output_type": "stream",
          "name": "stderr",
          "text": [
            "100%|██████████| 313/313 [00:04<00:00, 72.81it/s]\n"
          ]
        },
        {
          "output_type": "stream",
          "name": "stdout",
          "text": [
            "Test Loss: 1.125 | Accuracy: 82.190\n",
            "\n",
            "Epoch : 22\n"
          ]
        },
        {
          "output_type": "stream",
          "name": "stderr",
          "text": [
            "100%|██████████| 1563/1563 [00:23<00:00, 66.41it/s]\n"
          ]
        },
        {
          "output_type": "stream",
          "name": "stdout",
          "text": [
            "Train Loss: 0.019 | Accuracy: 99.332\n"
          ]
        },
        {
          "output_type": "stream",
          "name": "stderr",
          "text": [
            "100%|██████████| 313/313 [00:03<00:00, 92.70it/s]\n"
          ]
        },
        {
          "output_type": "stream",
          "name": "stdout",
          "text": [
            "Test Loss: 1.155 | Accuracy: 81.160\n",
            "\n",
            "Epoch : 23\n"
          ]
        },
        {
          "output_type": "stream",
          "name": "stderr",
          "text": [
            "100%|██████████| 1563/1563 [00:23<00:00, 67.06it/s]\n"
          ]
        },
        {
          "output_type": "stream",
          "name": "stdout",
          "text": [
            "Train Loss: 0.023 | Accuracy: 99.266\n"
          ]
        },
        {
          "output_type": "stream",
          "name": "stderr",
          "text": [
            "100%|██████████| 313/313 [00:03<00:00, 89.28it/s]\n"
          ]
        },
        {
          "output_type": "stream",
          "name": "stdout",
          "text": [
            "Test Loss: 1.053 | Accuracy: 82.010\n",
            "\n",
            "Epoch : 24\n"
          ]
        },
        {
          "output_type": "stream",
          "name": "stderr",
          "text": [
            "100%|██████████| 1563/1563 [00:24<00:00, 64.15it/s]\n"
          ]
        },
        {
          "output_type": "stream",
          "name": "stdout",
          "text": [
            "Train Loss: 0.019 | Accuracy: 99.364\n"
          ]
        },
        {
          "output_type": "stream",
          "name": "stderr",
          "text": [
            "100%|██████████| 313/313 [00:03<00:00, 88.62it/s]\n"
          ]
        },
        {
          "output_type": "stream",
          "name": "stdout",
          "text": [
            "Test Loss: 1.053 | Accuracy: 82.060\n",
            "\n",
            "Epoch : 25\n"
          ]
        },
        {
          "output_type": "stream",
          "name": "stderr",
          "text": [
            "100%|██████████| 1563/1563 [00:23<00:00, 65.83it/s]\n"
          ]
        },
        {
          "output_type": "stream",
          "name": "stdout",
          "text": [
            "Train Loss: 0.015 | Accuracy: 99.506\n"
          ]
        },
        {
          "output_type": "stream",
          "name": "stderr",
          "text": [
            "100%|██████████| 313/313 [00:03<00:00, 92.56it/s]\n"
          ]
        },
        {
          "output_type": "stream",
          "name": "stdout",
          "text": [
            "Test Loss: 1.106 | Accuracy: 81.900\n",
            "\n",
            "Epoch : 26\n"
          ]
        },
        {
          "output_type": "stream",
          "name": "stderr",
          "text": [
            "100%|██████████| 1563/1563 [00:23<00:00, 66.52it/s]\n"
          ]
        },
        {
          "output_type": "stream",
          "name": "stdout",
          "text": [
            "Train Loss: 0.008 | Accuracy: 99.734\n"
          ]
        },
        {
          "output_type": "stream",
          "name": "stderr",
          "text": [
            "100%|██████████| 313/313 [00:03<00:00, 89.66it/s]\n"
          ]
        },
        {
          "output_type": "stream",
          "name": "stdout",
          "text": [
            "Test Loss: 1.106 | Accuracy: 82.320\n",
            "\n",
            "Epoch : 27\n"
          ]
        },
        {
          "output_type": "stream",
          "name": "stderr",
          "text": [
            "100%|██████████| 1563/1563 [00:23<00:00, 66.07it/s]\n"
          ]
        },
        {
          "output_type": "stream",
          "name": "stdout",
          "text": [
            "Train Loss: 0.005 | Accuracy: 99.854\n"
          ]
        },
        {
          "output_type": "stream",
          "name": "stderr",
          "text": [
            "100%|██████████| 313/313 [00:03<00:00, 85.00it/s]\n"
          ]
        },
        {
          "output_type": "stream",
          "name": "stdout",
          "text": [
            "Test Loss: 1.187 | Accuracy: 82.010\n",
            "\n",
            "Epoch : 28\n"
          ]
        },
        {
          "output_type": "stream",
          "name": "stderr",
          "text": [
            "100%|██████████| 1563/1563 [00:23<00:00, 67.18it/s]\n"
          ]
        },
        {
          "output_type": "stream",
          "name": "stdout",
          "text": [
            "Train Loss: 0.003 | Accuracy: 99.918\n"
          ]
        },
        {
          "output_type": "stream",
          "name": "stderr",
          "text": [
            "100%|██████████| 313/313 [00:04<00:00, 70.17it/s]\n"
          ]
        },
        {
          "output_type": "stream",
          "name": "stdout",
          "text": [
            "Test Loss: 1.165 | Accuracy: 82.070\n",
            "\n",
            "Epoch : 29\n"
          ]
        },
        {
          "output_type": "stream",
          "name": "stderr",
          "text": [
            "100%|██████████| 1563/1563 [00:22<00:00, 68.68it/s]\n"
          ]
        },
        {
          "output_type": "stream",
          "name": "stdout",
          "text": [
            "Train Loss: 0.004 | Accuracy: 99.876\n"
          ]
        },
        {
          "output_type": "stream",
          "name": "stderr",
          "text": [
            "100%|██████████| 313/313 [00:04<00:00, 69.65it/s]\n"
          ]
        },
        {
          "output_type": "stream",
          "name": "stdout",
          "text": [
            "Test Loss: 1.146 | Accuracy: 82.540\n",
            "\n",
            "Epoch : 30\n"
          ]
        },
        {
          "output_type": "stream",
          "name": "stderr",
          "text": [
            "100%|██████████| 1563/1563 [00:23<00:00, 65.69it/s]\n"
          ]
        },
        {
          "output_type": "stream",
          "name": "stdout",
          "text": [
            "Train Loss: 0.003 | Accuracy: 99.912\n"
          ]
        },
        {
          "output_type": "stream",
          "name": "stderr",
          "text": [
            "100%|██████████| 313/313 [00:03<00:00, 92.89it/s] \n"
          ]
        },
        {
          "output_type": "stream",
          "name": "stdout",
          "text": [
            "Test Loss: 1.158 | Accuracy: 82.770\n",
            "\n",
            "Epoch : 31\n"
          ]
        },
        {
          "output_type": "stream",
          "name": "stderr",
          "text": [
            "100%|██████████| 1563/1563 [00:23<00:00, 65.59it/s]\n"
          ]
        },
        {
          "output_type": "stream",
          "name": "stdout",
          "text": [
            "Train Loss: 0.002 | Accuracy: 99.952\n"
          ]
        },
        {
          "output_type": "stream",
          "name": "stderr",
          "text": [
            "100%|██████████| 313/313 [00:03<00:00, 94.06it/s]\n"
          ]
        },
        {
          "output_type": "stream",
          "name": "stdout",
          "text": [
            "Test Loss: 1.152 | Accuracy: 83.260\n",
            "\n",
            "Epoch : 32\n"
          ]
        },
        {
          "output_type": "stream",
          "name": "stderr",
          "text": [
            "100%|██████████| 1563/1563 [00:23<00:00, 66.60it/s]\n"
          ]
        },
        {
          "output_type": "stream",
          "name": "stdout",
          "text": [
            "Train Loss: 0.001 | Accuracy: 99.970\n"
          ]
        },
        {
          "output_type": "stream",
          "name": "stderr",
          "text": [
            "100%|██████████| 313/313 [00:03<00:00, 89.63it/s]\n"
          ]
        },
        {
          "output_type": "stream",
          "name": "stdout",
          "text": [
            "Test Loss: 1.196 | Accuracy: 83.040\n",
            "\n",
            "Epoch : 33\n"
          ]
        },
        {
          "output_type": "stream",
          "name": "stderr",
          "text": [
            "100%|██████████| 1563/1563 [00:23<00:00, 65.63it/s]\n"
          ]
        },
        {
          "output_type": "stream",
          "name": "stdout",
          "text": [
            "Train Loss: 0.000 | Accuracy: 99.992\n"
          ]
        },
        {
          "output_type": "stream",
          "name": "stderr",
          "text": [
            "100%|██████████| 313/313 [00:03<00:00, 90.90it/s]\n"
          ]
        },
        {
          "output_type": "stream",
          "name": "stdout",
          "text": [
            "Test Loss: 1.185 | Accuracy: 83.210\n",
            "\n",
            "Epoch : 34\n"
          ]
        },
        {
          "output_type": "stream",
          "name": "stderr",
          "text": [
            "100%|██████████| 1563/1563 [00:23<00:00, 65.71it/s]\n"
          ]
        },
        {
          "output_type": "stream",
          "name": "stdout",
          "text": [
            "Train Loss: 0.000 | Accuracy: 100.000\n"
          ]
        },
        {
          "output_type": "stream",
          "name": "stderr",
          "text": [
            "100%|██████████| 313/313 [00:03<00:00, 90.39it/s]\n"
          ]
        },
        {
          "output_type": "stream",
          "name": "stdout",
          "text": [
            "Test Loss: 1.197 | Accuracy: 83.440\n",
            "\n",
            "Epoch : 35\n"
          ]
        },
        {
          "output_type": "stream",
          "name": "stderr",
          "text": [
            "100%|██████████| 1563/1563 [00:24<00:00, 64.75it/s]\n"
          ]
        },
        {
          "output_type": "stream",
          "name": "stdout",
          "text": [
            "Train Loss: 0.000 | Accuracy: 100.000\n"
          ]
        },
        {
          "output_type": "stream",
          "name": "stderr",
          "text": [
            "100%|██████████| 313/313 [00:04<00:00, 76.91it/s]\n"
          ]
        },
        {
          "output_type": "stream",
          "name": "stdout",
          "text": [
            "Test Loss: 1.190 | Accuracy: 83.570\n",
            "\n",
            "Epoch : 36\n"
          ]
        },
        {
          "output_type": "stream",
          "name": "stderr",
          "text": [
            "100%|██████████| 1563/1563 [00:23<00:00, 67.74it/s]\n"
          ]
        },
        {
          "output_type": "stream",
          "name": "stdout",
          "text": [
            "Train Loss: 0.000 | Accuracy: 100.000\n"
          ]
        },
        {
          "output_type": "stream",
          "name": "stderr",
          "text": [
            "100%|██████████| 313/313 [00:04<00:00, 69.54it/s]\n"
          ]
        },
        {
          "output_type": "stream",
          "name": "stdout",
          "text": [
            "Test Loss: 1.204 | Accuracy: 83.490\n",
            "\n",
            "Epoch : 37\n"
          ]
        },
        {
          "output_type": "stream",
          "name": "stderr",
          "text": [
            "100%|██████████| 1563/1563 [00:22<00:00, 69.76it/s]\n"
          ]
        },
        {
          "output_type": "stream",
          "name": "stdout",
          "text": [
            "Train Loss: 0.000 | Accuracy: 100.000\n"
          ]
        },
        {
          "output_type": "stream",
          "name": "stderr",
          "text": [
            "100%|██████████| 313/313 [00:04<00:00, 68.82it/s]\n"
          ]
        },
        {
          "output_type": "stream",
          "name": "stdout",
          "text": [
            "Test Loss: 1.199 | Accuracy: 83.610\n",
            "\n",
            "Epoch : 38\n"
          ]
        },
        {
          "output_type": "stream",
          "name": "stderr",
          "text": [
            "100%|██████████| 1563/1563 [00:22<00:00, 68.22it/s]\n"
          ]
        },
        {
          "output_type": "stream",
          "name": "stdout",
          "text": [
            "Train Loss: 0.000 | Accuracy: 100.000\n"
          ]
        },
        {
          "output_type": "stream",
          "name": "stderr",
          "text": [
            "100%|██████████| 313/313 [00:03<00:00, 80.88it/s]\n"
          ]
        },
        {
          "output_type": "stream",
          "name": "stdout",
          "text": [
            "Test Loss: 1.208 | Accuracy: 83.620\n",
            "\n",
            "Epoch : 39\n"
          ]
        },
        {
          "output_type": "stream",
          "name": "stderr",
          "text": [
            "100%|██████████| 1563/1563 [00:23<00:00, 66.82it/s]\n"
          ]
        },
        {
          "output_type": "stream",
          "name": "stdout",
          "text": [
            "Train Loss: 0.000 | Accuracy: 100.000\n"
          ]
        },
        {
          "output_type": "stream",
          "name": "stderr",
          "text": [
            "100%|██████████| 313/313 [00:03<00:00, 95.29it/s]\n"
          ]
        },
        {
          "output_type": "stream",
          "name": "stdout",
          "text": [
            "Test Loss: 1.209 | Accuracy: 83.600\n",
            "\n",
            "Epoch : 40\n"
          ]
        },
        {
          "output_type": "stream",
          "name": "stderr",
          "text": [
            "100%|██████████| 1563/1563 [00:23<00:00, 66.41it/s]\n"
          ]
        },
        {
          "output_type": "stream",
          "name": "stdout",
          "text": [
            "Train Loss: 0.000 | Accuracy: 100.000\n"
          ]
        },
        {
          "output_type": "stream",
          "name": "stderr",
          "text": [
            "100%|██████████| 313/313 [00:03<00:00, 94.98it/s]\n"
          ]
        },
        {
          "output_type": "stream",
          "name": "stdout",
          "text": [
            "Test Loss: 1.211 | Accuracy: 83.600\n",
            "\n",
            "Epoch : 41\n"
          ]
        },
        {
          "output_type": "stream",
          "name": "stderr",
          "text": [
            "100%|██████████| 1563/1563 [00:23<00:00, 67.16it/s]\n"
          ]
        },
        {
          "output_type": "stream",
          "name": "stdout",
          "text": [
            "Train Loss: 0.000 | Accuracy: 100.000\n"
          ]
        },
        {
          "output_type": "stream",
          "name": "stderr",
          "text": [
            "100%|██████████| 313/313 [00:03<00:00, 95.85it/s] \n"
          ]
        },
        {
          "output_type": "stream",
          "name": "stdout",
          "text": [
            "Test Loss: 1.214 | Accuracy: 83.610\n",
            "\n",
            "Epoch : 42\n"
          ]
        },
        {
          "output_type": "stream",
          "name": "stderr",
          "text": [
            "100%|██████████| 1563/1563 [00:23<00:00, 67.44it/s]\n"
          ]
        },
        {
          "output_type": "stream",
          "name": "stdout",
          "text": [
            "Train Loss: 0.000 | Accuracy: 100.000\n"
          ]
        },
        {
          "output_type": "stream",
          "name": "stderr",
          "text": [
            "100%|██████████| 313/313 [00:03<00:00, 95.06it/s]\n"
          ]
        },
        {
          "output_type": "stream",
          "name": "stdout",
          "text": [
            "Test Loss: 1.223 | Accuracy: 83.690\n",
            "\n",
            "Epoch : 43\n"
          ]
        },
        {
          "output_type": "stream",
          "name": "stderr",
          "text": [
            "100%|██████████| 1563/1563 [00:23<00:00, 67.37it/s]\n"
          ]
        },
        {
          "output_type": "stream",
          "name": "stdout",
          "text": [
            "Train Loss: 0.000 | Accuracy: 100.000\n"
          ]
        },
        {
          "output_type": "stream",
          "name": "stderr",
          "text": [
            "100%|██████████| 313/313 [00:03<00:00, 92.50it/s]\n"
          ]
        },
        {
          "output_type": "stream",
          "name": "stdout",
          "text": [
            "Test Loss: 1.225 | Accuracy: 83.680\n",
            "\n",
            "Epoch : 44\n"
          ]
        },
        {
          "output_type": "stream",
          "name": "stderr",
          "text": [
            "100%|██████████| 1563/1563 [00:23<00:00, 67.09it/s]\n"
          ]
        },
        {
          "output_type": "stream",
          "name": "stdout",
          "text": [
            "Train Loss: 0.000 | Accuracy: 100.000\n"
          ]
        },
        {
          "output_type": "stream",
          "name": "stderr",
          "text": [
            "100%|██████████| 313/313 [00:03<00:00, 92.58it/s]\n"
          ]
        },
        {
          "output_type": "stream",
          "name": "stdout",
          "text": [
            "Test Loss: 1.234 | Accuracy: 83.550\n",
            "\n",
            "Epoch : 45\n"
          ]
        },
        {
          "output_type": "stream",
          "name": "stderr",
          "text": [
            "100%|██████████| 1563/1563 [00:23<00:00, 66.96it/s]\n"
          ]
        },
        {
          "output_type": "stream",
          "name": "stdout",
          "text": [
            "Train Loss: 0.000 | Accuracy: 100.000\n"
          ]
        },
        {
          "output_type": "stream",
          "name": "stderr",
          "text": [
            "100%|██████████| 313/313 [00:03<00:00, 87.48it/s]\n"
          ]
        },
        {
          "output_type": "stream",
          "name": "stdout",
          "text": [
            "Test Loss: 1.236 | Accuracy: 83.660\n",
            "\n",
            "Epoch : 46\n"
          ]
        },
        {
          "output_type": "stream",
          "name": "stderr",
          "text": [
            "100%|██████████| 1563/1563 [00:23<00:00, 67.88it/s]\n"
          ]
        },
        {
          "output_type": "stream",
          "name": "stdout",
          "text": [
            "Train Loss: 0.000 | Accuracy: 100.000\n"
          ]
        },
        {
          "output_type": "stream",
          "name": "stderr",
          "text": [
            "100%|██████████| 313/313 [00:04<00:00, 71.03it/s]\n"
          ]
        },
        {
          "output_type": "stream",
          "name": "stdout",
          "text": [
            "Test Loss: 1.240 | Accuracy: 83.520\n",
            "\n",
            "Epoch : 47\n"
          ]
        },
        {
          "output_type": "stream",
          "name": "stderr",
          "text": [
            "100%|██████████| 1563/1563 [00:22<00:00, 70.90it/s]\n"
          ]
        },
        {
          "output_type": "stream",
          "name": "stdout",
          "text": [
            "Train Loss: 0.000 | Accuracy: 100.000\n"
          ]
        },
        {
          "output_type": "stream",
          "name": "stderr",
          "text": [
            "100%|██████████| 313/313 [00:04<00:00, 71.63it/s]\n"
          ]
        },
        {
          "output_type": "stream",
          "name": "stdout",
          "text": [
            "Test Loss: 1.244 | Accuracy: 83.620\n",
            "\n",
            "Epoch : 48\n"
          ]
        },
        {
          "output_type": "stream",
          "name": "stderr",
          "text": [
            "100%|██████████| 1563/1563 [00:22<00:00, 69.87it/s]\n"
          ]
        },
        {
          "output_type": "stream",
          "name": "stdout",
          "text": [
            "Train Loss: 0.000 | Accuracy: 100.000\n"
          ]
        },
        {
          "output_type": "stream",
          "name": "stderr",
          "text": [
            "100%|██████████| 313/313 [00:03<00:00, 79.47it/s]\n"
          ]
        },
        {
          "output_type": "stream",
          "name": "stdout",
          "text": [
            "Test Loss: 1.243 | Accuracy: 83.670\n",
            "\n",
            "Epoch : 49\n"
          ]
        },
        {
          "output_type": "stream",
          "name": "stderr",
          "text": [
            "100%|██████████| 1563/1563 [00:23<00:00, 67.11it/s]\n"
          ]
        },
        {
          "output_type": "stream",
          "name": "stdout",
          "text": [
            "Train Loss: 0.000 | Accuracy: 100.000\n"
          ]
        },
        {
          "output_type": "stream",
          "name": "stderr",
          "text": [
            "100%|██████████| 313/313 [00:03<00:00, 89.89it/s]\n"
          ]
        },
        {
          "output_type": "stream",
          "name": "stdout",
          "text": [
            "Test Loss: 1.247 | Accuracy: 83.460\n",
            "\n",
            "Epoch : 50\n"
          ]
        },
        {
          "output_type": "stream",
          "name": "stderr",
          "text": [
            "100%|██████████| 1563/1563 [00:23<00:00, 66.93it/s]\n"
          ]
        },
        {
          "output_type": "stream",
          "name": "stdout",
          "text": [
            "Train Loss: 0.000 | Accuracy: 100.000\n"
          ]
        },
        {
          "output_type": "stream",
          "name": "stderr",
          "text": [
            "100%|██████████| 313/313 [00:03<00:00, 93.42it/s]"
          ]
        },
        {
          "output_type": "stream",
          "name": "stdout",
          "text": [
            "Test Loss: 1.235 | Accuracy: 83.650\n"
          ]
        },
        {
          "output_type": "stream",
          "name": "stderr",
          "text": [
            "\n"
          ]
        }
      ],
      "source": [
        "epochs = 50\n",
        "for epoch in range(1,epochs+1): \n",
        "  train(epoch)\n",
        "  test(epoch)"
      ]
    },
    {
      "cell_type": "markdown",
      "metadata": {
        "id": "5XabaOApV80i"
      },
      "source": [
        "## Drowing plots"
      ]
    },
    {
      "cell_type": "code",
      "execution_count": 11,
      "metadata": {
        "colab": {
          "base_uri": "https://localhost:8080/",
          "height": 472
        },
        "id": "1jo25xjIVcTv",
        "outputId": "0148c47c-f1a6-4294-d109-d3c457002e7c"
      },
      "outputs": [
        {
          "output_type": "display_data",
          "data": {
            "text/plain": [
              "<Figure size 640x480 with 1 Axes>"
            ],
            "image/png": "[encoded data removed]"
          },
          "metadata": {}
        }
      ],
      "source": [
        "import matplotlib.pyplot as plt\n",
        "\n",
        "#plot accuracy\n",
        "plt.plot(train_accu,'-o')\n",
        "plt.plot(eval_accu,'-o')\n",
        "plt.xlabel('epoch')\n",
        "plt.ylabel('accuracy')\n",
        "plt.legend(['Train','Valid'])\n",
        "plt.title('Train vs Valid Accuracy')\n",
        "\n",
        "plt.show()"
      ]
    },
    {
      "cell_type": "code",
      "execution_count": 12,
      "metadata": {
        "colab": {
          "base_uri": "https://localhost:8080/",
          "height": 472
        },
        "id": "QreYSzvJV0Bd",
        "outputId": "b0c28876-bdd3-4cd9-855d-5eb4e1283236"
      },
      "outputs": [
        {
          "output_type": "display_data",
          "data": {
            "text/plain": [
              "<Figure size 640x480 with 1 Axes>"
            ],
            "image/png": "[encoded data removed]"
          },
          "metadata": {}
        }
      ],
      "source": [
        "#plot losses\n",
        "plt.plot(train_losses,'-o')\n",
        "plt.plot(eval_losses,'-o')\n",
        "plt.xlabel('epoch')\n",
        "plt.ylabel('losses')\n",
        "plt.legend(['Train','Valid'])\n",
        "plt.title('Train vs Valid Losses')\n",
        "\n",
        "plt.show()"
      ]
    },
    {
      "cell_type": "code",
      "execution_count": 13,
      "metadata": {
        "colab": {
          "base_uri": "https://localhost:8080/"
        },
        "id": "3RQTChNDWNkL",
        "outputId": "c92620ba-b4de-4187-9dfe-c80ded140b49"
      },
      "outputs": [
        {
          "output_type": "stream",
          "name": "stderr",
          "text": [
            "100%|██████████| 313/313 [00:03<00:00, 89.46it/s]\n"
          ]
        }
      ],
      "source": [
        "y_true = []\n",
        "y_pred = []\n",
        "\n",
        "for data in tqdm(testloader):\n",
        "  images,labels=data[0].to(device),data[1]  \n",
        "  y_true.extend(labels.numpy())\n",
        "\n",
        "  outputs=model(images)\n",
        "\n",
        "  _, predicted = torch.max(outputs, 1)\n",
        "  y_pred.extend(predicted.cpu().numpy())"
      ]
    },
    {
      "cell_type": "code",
      "execution_count": 14,
      "metadata": {
        "colab": {
          "base_uri": "https://localhost:8080/"
        },
        "id": "AI4OIswfWf8Q",
        "outputId": "e2ece74f-ccf1-4025-ac88-f001f8d19212"
      },
      "outputs": [
        {
          "output_type": "stream",
          "name": "stdout",
          "text": [
            "[3, 8, 8, 0, 6, 6, 1, 6, 3, 1, 0, 9, 5, 7, 9, 8, 5, 7, 8, 6, 7, 0, 4, 9, 4, 3, 5, 0, 9, 6, 6, 5, 2, 6, 9, 8, 4, 1, 9, 5, 4, 6, 7, 6, 0, 9, 3, 9, 7, 6, 9, 8, 7, 3, 8, 8, 7, 5, 5, 3, 7, 5, 6, 3, 6, 2, 1, 2, 3, 7, 2, 6, 8, 8, 0, 2, 9, 3, 5, 8, 8, 1, 1, 7, 5, 7, 2, 0, 8, 9, 0, 3, 8, 6, 4, 6, 6, 0, 0, 7, 7, 5, 6, 3, 1, 1, 3, 6, 8, 7, 4, 0, 6, 2, 1, 3, 0, 4, 2, 7, 8, 3, 1, 2, 8, 0, 8, 3, 3, 2, 4, 1, 8, 9, 1, 2, 9, 7, 2, 8, 6, 5, 6, 3, 8, 7, 6, 5, 5, 2, 8, 9, 6, 0, 0, 5, 2, 9, 5, 4, 2, 1, 6, 6, 0, 4, 8, 4, 5, 0, 9, 9, 9, 8, 9, 9, 3, 7, 5, 0, 0, 5, 2, 2, 3, 8, 6, 3, 3, 0, 5, 8, 0, 1, 7, 2, 8, 8, 7, 8, 5, 1, 8, 7, 1, 3, 0, 5, 7, 9, 7, 4, 5, 9, 8, 0, 7, 9, 8, 2, 7, 6, 9, 4, 3, 9, 3, 4, 5, 6, 5, 1, 5, 8, 8, 0, 4, 0, 5, 5, 1, 1, 8, 9, 0, 3, 1, 8, 2, 2, 5, 5, 9, 9, 2, 0, 3, 0, 8, 9, 8, 1, 5, 7, 0, 8, 2, 4, 7, 0, 2, 3, 6, 3, 8, 7, 0, 7, 4, 3, 9, 0, 6, 1, 9, 9, 1, 0, 7, 9, 1, 2, 6, 1, 3, 4, 6, 0, 0, 6, 6, 6, 3, 2, 6, 1, 8, 2, 1, 4, 8, 6, 0, 2, 3, 0, 7, 7, 5, 5, 3, 5, 2, 2, 7, 1, 7, 5, 4, 6, 1, 9, 6, 6, 6, 9, 3, 8, 0, 7, 2, 6, 2, 5, 8, 5, 4, 6, 8, 9, 9, 1, 0, 2, 2, 4, 5, 2, 8, 0, 9, 5, 8, 8, 9, 4, 1, 3, 8, 1, 4, 7, 9, 4, 2, 7, 0, 2, 0, 6, 6, 9, 0, 9, 5, 8, 7, 2, 2, 5, 1, 2, 6, 2, 9, 6, 2, 3, 0, 3, 9, 8, 7, 8, 8, 4, 0, 1, 8, 3, 7, 9, 3, 6, 1, 9, 0, 7, 3, 7, 4, 5, 8, 0, 2, 9, 6, 4, 6, 6, 4, 5, 3, 3, 3, 7, 2, 5, 3, 1, 1, 4, 9, 9, 5, 7, 5, 0, 2, 0, 2, 9, 7, 2, 9, 4, 4, 7, 4, 9, 5, 6, 1, 4, 3, 4, 4, 3, 5, 8, 3, 7, 8, 0, 5, 7, 6, 8, 5, 4, 8, 6, 8, 3, 5, 9, 9, 9, 4, 0, 1, 0, 8, 1, 1, 8, 0, 5, 2, 0, 4, 6, 5, 4, 9, 4, 7, 9, 9, 4, 5, 6, 6, 1, 5, 3, 8, 9, 7, 8, 5, 7, 0, 7, 0, 5, 0, 0, 4, 6, 9, 0, 9, 5, 6, 6, 6, 2, 9, 0, 1, 7, 6, 7, 5, 9, 1, 3, 2, 3, 5, 5, 8, 5, 9, 4, 6, 4, 3, 2, 0, 7, 6, 2, 2, 3, 9, 4, 9, 2, 6, 7, 1, 3, 6, 6, 8, 8, 7, 5, 4, 0, 8, 4, 0, 9, 3, 4, 8, 9, 6, 9, 2, 6, 1, 4, 7, 3, 5, 3, 8, 5, 0, 2, 1, 6, 4, 3, 3, 9, 6, 9, 8, 8, 5, 8, 6, 6, 2, 1, 7, 0, 1, 2, 7, 9, 9, 4, 4, 1, 6, 2, 6, 8, 7, 6, 8, 3, 0, 3, 5, 3, 2, 7, 9, 9, 6, 3, 4, 5, 3, 9, 5, 6, 9, 0, 1, 1, 4, 1, 9, 7, 7, 6, 3, 0, 9, 0, 1, 3, 6, 3, 6, 3, 2, 0, 4, 1, 0, 3, 1, 6, 4, 0, 9, 4, 9, 6, 3, 0, 3, 2, 2, 7, 8, 3, 8, 2, 7, 5, 7, 0, 4, 8, 7, 4, 2, 9, 8, 8, 6, 0, 8, 7, 4, 3, 3, 7, 4, 9, 4, 8, 8, 1, 8, 3, 1, 3, 6, 5, 4, 8, 7, 9, 8, 2, 1, 4, 1, 4, 7, 7, 0, 7, 6, 7, 3, 6, 2, 3, 9, 2, 9, 1, 2, 2, 6, 8, 2, 1, 3, 3, 6, 0, 1, 2, 4, 2, 5, 4, 9, 9, 6, 4, 0, 2, 3, 6, 0, 5, 9, 1, 7, 6, 7, 0, 3, 9, 6, 8, 0, 0, 3, 4, 7, 7, 4, 4, 7, 2, 7, 1, 2, 7, 4, 4, 0, 4, 7, 7, 2, 2, 7, 2, 0, 8, 9, 5, 8, 3, 6, 2, 0, 8, 7, 3, 7, 6, 5, 3, 0, 8, 2, 2, 5, 4, 1, 2, 9, 2, 7, 0, 7, 2, 1, 3, 2, 0, 6, 4, 7, 9, 8, 9, 0, 7, 7, 0, 7, 8, 4, 6, 2, 3, 0, 1, 5, 7, 0, 1, 3, 1, 4, 2, 3, 8, 4, 2, 3, 7, 8, 3, 4, 0, 9, 0, 9, 6, 8, 6, 4, 6, 7, 3, 1, 1, 3, 7, 3, 5, 2, 6, 6, 5, 8, 7, 1, 6, 8, 8, 2, 3, 3, 4, 0, 1, 4, 8, 8, 0, 6, 9, 9, 9, 7, 3, 8, 6, 0, 0, 4, 2, 3, 2, 7, 2, 2, 5, 9, 8, 9, 7, 7, 4, 0, 3, 0, 1, 4, 8, 3, 9, 6, 8, 4, 7, 0, 5, 7, 8, 9, 1, 1, 6, 6, 3, 6, 9, 1, 9, 9, 4, 5, 1, 0, 0, 6, 8, 1, 1, 2, 1, 7, 4, 7, 8, 3, 1, 2, 0, 1, 5, 8, 4, 6, 3, 8, 9, 3, 8, 5, 0, 0, 4, 8, 1, 1, 8, 9, 6, 0, 8, 6, 1, 3, 4, 1, 6, 0, 3, 1, 1, 0, 2, 3, 5, 2, 0, 6, 6, 3, 3, 6, 3, 3, 3, 2, 7, 2, 2, 5, 5, 2, 2, 8, 5, 2, 1, 1, 1, 0, 2, 0, 3, 1, 5, 7, 3, 6, 8, 9, 1, 6, 4, 9, 3, 1, 0, 9, 6, 3, 6, 8, 7, 3, 8, 0, 0, 0, 6, 6, 6, 9, 2, 5, 4, 4, 6, 5, 6, 0, 8, 6, 0, 6, 2, 7, 5, 1, 2, 1, 8, 8, 0, 9, 3, 9, 7, 2, 0, 2, 8, 3, 8, 9, 1, 5, 5, 7, 7, 5, 3, 8, 3, 3, 6, 0, 8, 4, 3, 7, 9, 2, 4, 1, 6, 9, 0, 9, 8, 6, 1, 8, 6, 1, 4, 2, 9, 2, 7, 4, 2, 0, 8, 6, 1, 1, 1, 1, 8, 8, 0, 7, 5, 8, 0, 3, 5, 3, 7, 7, 9, 2, 3, 1, 9, 1, 1, 2, 3, 3, 6, 1, 0, 6, 1, 4, 1, 0, 0, 1, 1, 6, 2, 4, 6, 2, 0, 7, 0, 8, 7, 2, 0, 6, 8, 1, 4, 3, 7, 0, 6, 1, 8, 5, 7, 8, 4, 8, 3, 9, 9, 1, 0, 7, 6, 6, 3, 4, 1, 3, 9, 1, 4, 1, 5, 7, 0, 1, 3, 2, 0, 8, 8, 3, 6, 7, 3, 4, 4, 7, 7, 5, 8, 2, 4, 8, 2, 1, 8, 1, 9, 8, 8, 8, 1, 0, 4, 3, 3, 1, 8, 4, 6, 3, 3, 5, 2, 2, 8, 3, 8, 9, 5, 8, 9, 8, 9, 1, 6, 5, 9, 3, 4, 8, 0, 7, 2, 9, 9, 3, 1, 6, 4, 8, 9, 1, 2, 3, 6, 0, 8, 6, 1, 9, 2, 5, 9, 3, 0, 7, 2, 0, 0, 4, 4, 4, 6, 3, 5, 3, 8, 1, 7, 2, 1, 4, 3, 6, 7, 1, 4, 7, 0, 9, 4, 9, 8, 2, 8, 4, 7, 2, 2, 1, 5, 3, 9, 8, 9, 7, 9, 5, 1, 4, 0, 8, 2, 3, 8, 9, 1, 9, 3, 2, 4, 9, 3, 1, 7, 4, 6, 0, 8, 9, 5, 3, 9, 5, 5, 6, 5, 2, 4, 5, 3, 1, 0, 7, 0, 5, 4, 7, 6, 1, 1, 9, 8, 1, 0, 1, 3, 1, 9, 1, 7, 3, 9, 6, 8, 4, 6, 8, 4, 9, 4, 7, 9, 7, 6, 8, 4, 9, 7, 0, 1, 6, 1, 5, 9, 0, 4, 5, 6, 1, 4, 0, 8, 4, 6, 2, 2, 6, 5, 3, 6, 4, 1, 1, 8, 6, 0, 4, 0, 1, 9, 7, 1, 3, 7, 2, 8, 7, 7, 3, 9, 7, 7, 7, 6, 8, 2, 8, 6, 4, 0, 7, 9, 8, 6, 8, 3, 1, 1, 7, 0, 2, 8, 5, 8, 1, 3, 2, 4, 1, 2, 7, 0, 8, 1, 8, 1, 8, 6, 0, 2, 4, 1, 3, 6, 7, 7, 4, 4, 3, 3, 4, 7, 2, 4, 3, 7, 8, 4, 4, 4, 3, 4, 8, 2, 8, 4, 5, 5, 4, 9, 4, 0, 5, 1, 6, 4, 5, 4, 4, 0, 8, 8, 4, 5, 7, 5, 6, 9, 1, 6, 7, 2, 0, 1, 4, 5, 6, 0, 0, 2, 4, 5, 6, 0, 5, 2, 9, 1, 7, 7, 5, 2, 5, 6, 4, 1, 4, 3, 3, 3, 0, 3, 5, 5, 8, 9, 7, 3, 1, 2, 2, 3, 4, 4, 2, 3, 3, 8, 1, 7, 7, 0, 7, 4, 3, 1, 4, 2, 4, 3, 9, 9, 7, 9, 9, 1, 8, 1, 6, 7, 5, 5, 4, 9, 3, 6, 5, 9, 2, 4, 0, 7, 8, 6, 5, 0, 0, 9, 9, 8, 2, 5, 4, 8, 3, 6, 3, 6, 0, 6, 6, 6, 9, 6, 6, 8, 6, 2, 4, 3, 8, 1, 2, 7, 6, 5, 7, 8, 8, 2, 0, 8, 6, 9, 2, 8, 9, 8, 0, 9, 2, 9, 5, 7, 5, 5, 9, 5, 3, 0, 1, 9, 7, 2, 4, 1, 0, 9, 0, 5, 1, 7, 8, 0, 4, 0, 6, 2, 4, 0, 0, 9, 0, 8, 4, 3, 9, 3, 9, 0, 3, 6, 5, 0, 1, 4, 8, 1, 0, 5, 4, 1, 0, 2, 0, 1, 5, 6, 7, 7, 2, 6, 2, 4, 0, 1, 4, 2, 5, 2, 3, 6, 2, 1, 7, 4, 8, 3, 5, 3, 0, 4, 8, 5, 7, 6, 3, 8, 1, 0, 1, 3, 5, 0, 7, 6, 9, 7, 3, 6, 0, 1, 4, 4, 4, 4, 2, 3, 5, 8, 1, 3, 9, 8, 1, 1, 5, 3, 9, 9, 7, 2, 5, 0, 8, 4, 2, 3, 9, 2, 8, 4, 7, 1, 3, 9, 6, 8, 9, 4, 4, 1, 8, 7, 8, 9, 4, 8, 9, 7, 2, 5, 3, 7, 0, 0, 2, 9, 5, 5, 8, 5, 2, 2, 8, 3, 4, 3, 7, 7, 8, 3, 7, 8, 2, 3, 5, 6, 8, 0, 2, 3, 7, 0, 1, 9, 1, 3, 5, 3, 8, 3, 2, 9, 4, 8, 6, 9, 3, 0, 9, 8, 5, 7, 8, 5, 0, 0, 1, 6, 9, 1, 5, 3, 4, 4, 0, 9, 9, 9, 9, 8, 2, 4, 2, 0, 5, 1, 4, 1, 0, 9, 4, 2, 1, 6, 0, 7, 7, 4, 3, 7, 0, 7, 5, 7, 4, 8, 4, 7, 8, 3, 5, 0, 5, 7, 4, 4, 0, 2, 7, 7, 6, 3, 2, 7, 6, 2, 3, 0, 7, 7, 8, 9, 1, 4, 6, 0, 6, 3, 5, 5, 6, 3, 9, 6, 6, 0, 7, 6, 7, 9, 5, 6, 4, 1, 6, 2, 9, 2, 5, 9, 2, 5, 1, 5, 2, 3, 7, 5, 7, 8, 9, 1, 3, 2, 5, 6, 8, 4, 6, 5, 2, 9, 9, 8, 5, 3, 6, 4, 5, 9, 7, 3, 4, 1, 2, 2, 4, 6, 3, 5, 5, 8, 0, 0, 1, 8, 5, 1, 3, 5, 8, 5, 8, 5, 8, 6, 3, 5, 5, 5, 0, 0, 3, 4, 7, 1, 8, 4, 4, 4, 3, 4, 2, 9, 6, 2, 2, 4, 3, 0, 6, 0, 1, 3, 2, 2, 7, 2, 1, 0, 7, 7, 2, 0, 1, 6, 5, 0, 9, 2, 0, 1, 2, 6, 0, 1, 6, 6, 5, 3, 5, 0, 0, 1, 1, 0, 2, 5, 9, 7, 8, 6, 3, 6, 0, 2, 0, 1, 9, 4, 6, 9, 0, 7, 2, 3, 4, 8, 9, 2, 6, 8, 9, 7, 1, 9, 3, 7, 2, 7, 9, 6, 9, 3, 7, 8, 5, 9, 8, 3, 9, 9, 0, 5, 5, 7, 1, 0, 2, 7, 5, 8, 2, 5, 4, 3, 9, 3, 1, 9, 3, 1, 4, 2, 4, 4, 9, 0, 1, 3, 9, 2, 1, 4, 0, 0, 8, 4, 8, 6, 8, 5, 2, 5, 9, 6, 9, 5, 1, 3, 4, 4, 2, 7, 2, 6, 4, 0, 2, 8, 4, 5, 1, 2, 6, 8, 1, 7, 6, 8, 7, 4, 3, 3, 3, 0, 7, 2, 7, 6, 1, 7, 9, 0, 3, 3, 9, 8, 1, 5, 8, 0, 7, 3, 3, 3, 8, 1, 6, 0, 1, 5, 4, 3, 2, 6, 0, 8, 8, 3, 3, 3, 4, 8, 7, 3, 1, 6, 0, 5, 9, 9, 0, 5, 9, 4, 8, 3, 5, 2, 5, 1, 9, 5, 5, 1, 1, 8, 9, 7, 0, 3, 2, 2, 0, 2, 6, 9, 3, 9, 1, 6, 6, 7, 2, 6, 3, 2, 6, 5, 2, 7, 3, 3, 0, 8, 0, 7, 7, 0, 7, 4, 0, 4, 2, 6, 1, 5, 9, 7, 6, 2, 7, 0, 3, 6, 0, 1, 1, 8, 4, 5, 5, 1, 2, 4, 8, 1, 8, 1, 3, 2, 7, 0, 2, 6, 6, 7, 9, 4, 0, 1, 0, 4, 5, 0, 8, 0, 7, 6, 1, 8, 8, 5, 9, 2, 5, 7, 7, 3, 0, 6, 1, 5, 5, 1, 6, 4, 1, 5, 8, 8, 0, 3, 9, 4, 0, 6, 4, 9, 2, 3, 3, 0, 6, 4, 3, 6, 6, 7, 8, 4, 8, 8, 3, 6, 8, 9, 2, 3, 6, 8, 7, 8, 9, 9, 0, 6, 6, 8, 1, 1, 7, 4, 6, 2, 5, 6, 9, 6, 2, 4, 1, 8, 4, 4, 1, 3, 8, 6, 8, 5, 9, 0, 1, 0, 2, 9, 2, 9, 0, 9, 7, 8, 5, 0, 6, 6, 8, 1, 6, 5, 8, 7, 1, 2, 1, 6, 5, 5, 6, 3, 0, 9, 8, 9, 5, 0, 9, 9, 3, 6, 6, 4, 8, 8, 1, 7, 0, 0, 6, 0, 4, 1, 2, 2, 9, 2, 2, 9, 7, 4, 1, 7, 1, 4, 3, 0, 5, 8, 9, 3, 2, 2, 1, 6, 9, 2, 5, 1, 5, 8, 2, 1, 0, 3, 2, 4, 8, 4, 0, 6, 4, 4, 9, 8, 4, 7, 6, 4, 4, 7, 7, 6, 4, 2, 2, 3, 2, 4, 4, 0, 2, 9, 6, 7, 8, 5, 2, 4, 8, 8, 3, 7, 5, 7, 6, 3, 3, 0, 4, 0, 4, 8, 7, 8, 0, 4, 9, 2, 5, 3, 8, 1, 6, 0, 8, 4, 3, 1, 4, 5, 2, 4, 3, 6, 0, 7, 1, 3, 5, 7, 1, 8, 0, 4, 2, 2, 7, 7, 0, 6, 2, 4, 3, 3, 1, 4, 1, 6, 4, 6, 7, 4, 7, 0, 8, 1, 3, 1, 4, 6, 0, 2, 7, 4, 5, 4, 9, 7, 7, 2, 5, 5, 6, 7, 4, 1, 6, 1, 0, 6, 9, 6, 0, 4, 0, 6, 4, 7, 0, 0, 0, 0, 0, 5, 3, 4, 7, 8, 5, 3, 6, 2, 8, 9, 1, 2, 5, 0, 3, 4, 9, 1, 6, 0, 0, 0, 3, 6, 4, 6, 7, 5, 1, 8, 0, 0, 2, 0, 5, 5, 3, 8, 5, 2, 0, 8, 5, 9, 2, 3, 6, 5, 7, 4, 7, 2, 8, 0, 4, 2, 1, 6, 2, 9, 9, 8, 2, 2, 1, 0, 5, 2, 3, 7, 9, 7, 9, 1, 1, 3, 2, 7, 5, 4, 1, 9, 4, 3, 5, 2, 7, 7, 6, 1, 2, 3, 7, 5, 4, 3, 7, 7, 0, 0, 1, 2, 4, 3, 9, 9, 8, 7, 0, 9, 0, 3, 7, 6, 3, 8, 4, 5, 6, 5, 5, 4, 5, 9, 2, 4, 9, 2, 0, 1, 9, 3, 7, 9, 4, 1, 6, 0, 3, 4, 7, 2, 4, 5, 2, 3, 6, 3, 3, 0, 4, 1, 3, 8, 1, 2, 2, 2, 7, 8, 2, 5, 6, 2, 6, 6, 5, 4, 2, 9, 7, 6, 2, 0, 4, 1, 5, 5, 6, 6, 5, 6, 9, 5, 7, 0, 8, 3, 1, 9, 8, 1, 9, 0, 3, 0, 4, 7, 7, 2, 4, 5, 6, 9, 4, 7, 5, 7, 0, 8, 6, 3, 8, 3, 8, 9, 5, 2, 9, 2, 7, 4, 1, 9, 7, 0, 0, 1, 2, 0, 5, 5, 1, 4, 2, 8, 2, 8, 3, 7, 1, 4, 9, 8, 1, 1, 5, 9, 9, 4, 6, 8, 5, 3, 2, 2, 0, 8, 5, 1, 9, 7, 9, 1, 0, 3, 1, 0, 3, 8, 9, 2, 0, 8, 8, 7, 0, 4, 8, 3, 0, 7, 0, 7, 0, 3, 5, 4, 3, 0, 9, 0, 0, 6, 7, 0, 8, 6, 4, 5, 2, 7, 1, 4, 5, 6, 4, 3, 4, 0, 8, 4, 8, 5, 5, 6, 5, 1, 7, 0, 4, 2, 5, 6, 8, 7, 6, 3, 1, 5, 6, 6, 4, 5, 5, 5, 1, 8, 7, 3, 0, 6, 7, 1, 1, 1, 6, 5, 4, 1, 2, 3, 9, 8, 3, 1, 7, 4, 8, 4, 7, 5, 8, 6, 0, 3, 0, 8, 2, 3, 4, 9, 6, 6, 1, 3, 7, 7, 9, 2, 1, 3, 1, 3, 0, 4, 0, 7, 1, 3, 1, 1, 2, 1, 8, 8, 1, 9, 7, 3, 4, 6, 9, 0, 6, 8, 4, 1, 5, 7, 0, 4, 7, 2, 4, 9, 0, 7, 0, 6, 7, 1, 8, 3, 8, 8, 5, 0, 0, 6, 0, 2, 7, 0, 6, 4, 4, 9, 1, 8, 6, 3, 9, 4, 9, 3, 3, 7, 5, 9, 7, 7, 4, 5, 8, 2, 8, 9, 5, 3, 1, 9, 2, 2, 0, 1, 1, 8, 1, 1, 9, 8, 9, 9, 0, 2, 2, 9, 1, 9, 2, 1, 9, 2, 9, 9, 9, 1, 9, 9, 2, 1, 7, 0, 7, 6, 6, 9, 8, 3, 0, 2, 2, 7, 4, 8, 3, 0, 3, 2, 3, 5, 7, 6, 6, 6, 5, 6, 3, 4, 5, 8, 8, 0, 9, 0, 9, 9, 6, 9, 6, 1, 4, 7, 0, 0, 3, 5, 7, 7, 6, 9, 2, 2, 3, 9, 3, 3, 7, 8, 3, 5, 3, 9, 6, 1, 0, 7, 2, 8, 7, 7, 9, 5, 0, 3, 0, 5, 4, 9, 3, 5, 4, 7, 0, 3, 7, 0, 5, 1, 0, 8, 7, 5, 5, 7, 8, 5, 7, 8, 1, 7, 4, 7, 2, 8, 3, 2, 9, 4, 4, 1, 6, 5, 9, 8, 5, 5, 4, 1, 0, 9, 4, 3, 3, 2, 4, 2, 0, 8, 2, 9, 4, 9, 7, 5, 6, 7, 0, 2, 9, 3, 7, 7, 8, 2, 7, 2, 2, 5, 9, 6, 4, 3, 2, 3, 7, 8, 7, 2, 5, 0, 0, 7, 0, 3, 6, 1, 4, 2, 9, 7, 3, 9, 1, 6, 8, 1, 3, 3, 3, 5, 4, 3, 9, 3, 4, 4, 1, 2, 4, 9, 0, 7, 9, 3, 1, 2, 1, 6, 6, 4, 5, 7, 4, 5, 8, 3, 2, 8, 7, 8, 2, 4, 6, 1, 3, 3, 9, 5, 1, 9, 0, 9, 2, 0, 1, 2, 6, 8, 5, 7, 6, 1, 2, 9, 4, 5, 0, 3, 7, 7, 2, 7, 1, 4, 5, 0, 3, 8, 5, 0, 0, 6, 2, 2, 0, 4, 5, 4, 5, 6, 4, 7, 9, 4, 3, 0, 2, 4, 2, 0, 5, 4, 6, 1, 1, 5, 3, 2, 2, 6, 3, 4, 5, 0, 1, 5, 2, 3, 9, 6, 5, 0, 2, 9, 7, 1, 7, 2, 2, 0, 8, 6, 4, 3, 2, 7, 7, 0, 4, 1, 6, 5, 1, 5, 0, 3, 9, 0, 0, 2, 4, 0, 4, 0, 1, 1, 8, 4, 9, 4, 2, 4, 3, 3, 4, 0, 4, 3, 5, 8, 9, 8, 5, 8, 1, 8, 2, 6, 4, 2, 4, 1, 1, 6, 6, 8, 5, 2, 2, 5, 0, 8, 2, 3, 6, 2, 9, 6, 1, 4, 5, 9, 0, 1, 4, 0, 8, 1, 1, 6, 6, 6, 5, 4, 9, 7, 8, 6, 9, 1, 7, 6, 0, 9, 3, 2, 3, 2, 7, 3, 4, 1, 7, 1, 4, 4, 6, 1, 3, 8, 8, 0, 6, 4, 7, 6, 7, 2, 3, 2, 4, 6, 2, 7, 3, 0, 3, 6, 2, 6, 3, 2, 0, 9, 3, 1, 1, 5, 3, 2, 4, 4, 2, 1, 0, 4, 3, 5, 4, 8, 9, 9, 3, 1, 8, 3, 1, 3, 3, 7, 4, 2, 9, 7, 6, 8, 1, 8, 9, 9, 3, 1, 7, 3, 0, 0, 2, 8, 5, 9, 2, 7, 4, 6, 0, 1, 6, 1, 6, 7, 5, 5, 6, 4, 9, 4, 0, 2, 3, 4, 0, 4, 1, 0, 0, 2, 5, 3, 9, 2, 8, 9, 5, 7, 9, 1, 4, 6, 2, 8, 5, 4, 8, 9, 3, 1, 1, 6, 7, 8, 4, 6, 4, 5, 2, 4, 4, 2, 3, 1, 3, 6, 8, 5, 2, 2, 7, 1, 4, 2, 5, 9, 4, 8, 1, 6, 9, 2, 7, 5, 3, 2, 9, 7, 0, 0, 9, 3, 4, 1, 7, 9, 5, 8, 1, 7, 8, 6, 0, 1, 7, 7, 2, 4, 7, 8, 1, 8, 1, 8, 4, 6, 1, 9, 9, 0, 1, 2, 3, 6, 9, 7, 4, 3, 4, 2, 0, 2, 5, 2, 7, 4, 7, 7, 4, 2, 0, 6, 1, 7, 5, 6, 5, 7, 9, 0, 7, 8, 5, 9, 5, 8, 3, 4, 5, 7, 9, 8, 1, 7, 5, 8, 9, 3, 0, 6, 4, 0, 2, 0, 1, 4, 0, 8, 5, 3, 7, 9, 8, 3, 7, 9, 1, 5, 6, 9, 8, 7, 3, 0, 9, 0, 8, 5, 9, 4, 2, 9, 8, 1, 9, 1, 8, 3, 7, 6, 4, 2, 3, 7, 0, 5, 5, 8, 8, 8, 7, 9, 6, 2, 7, 4, 7, 7, 6, 7, 1, 5, 3, 6, 8, 4, 6, 6, 5, 1, 3, 9, 7, 1, 7, 0, 1, 6, 6, 8, 1, 0, 1, 2, 5, 2, 2, 5, 4, 9, 8, 4, 4, 4, 9, 7, 6, 7, 3, 1, 6, 5, 5, 1, 9, 0, 2, 3, 1, 5, 6, 6, 2, 4, 6, 8, 8, 9, 6, 6, 1, 0, 7, 5, 8, 2, 1, 5, 8, 1, 4, 2, 5, 0, 3, 0, 9, 5, 2, 8, 4, 1, 9, 0, 4, 4, 8, 2, 9, 0, 7, 9, 8, 7, 1, 6, 2, 1, 6, 5, 9, 7, 6, 7, 7, 1, 1, 2, 4, 2, 0, 6, 8, 9, 5, 4, 2, 9, 4, 2, 7, 0, 0, 5, 8, 6, 8, 2, 7, 7, 3, 1, 8, 1, 6, 5, 9, 7, 8, 9, 6, 5, 8, 1, 9, 4, 0, 4, 1, 4, 3, 6, 2, 2, 0, 0, 0, 7, 0, 7, 4, 3, 2, 7, 7, 4, 5, 4, 3, 3, 3, 4, 0, 1, 0, 7, 7, 1, 6, 5, 8, 7, 7, 4, 2, 1, 8, 5, 9, 3, 5, 6, 2, 2, 7, 5, 5, 8, 1, 0, 6, 8, 7, 8, 8, 5, 7, 5, 4, 9, 7, 6, 5, 8, 8, 6, 9, 4, 7, 2, 0, 8, 0, 7, 0, 5, 2, 5, 2, 4, 5, 0, 4, 8, 2, 4, 0, 6, 4, 5, 6, 0, 8, 0, 0, 6, 1, 1, 6, 1, 4, 2, 1, 5, 2, 6, 4, 2, 7, 8, 8, 5, 1, 8, 2, 0, 3, 9, 6, 6, 6, 0, 7, 3, 3, 2, 7, 4, 5, 6, 0, 6, 1, 8, 8, 0, 9, 3, 1, 0, 5, 4, 2, 3, 3, 6, 7, 6, 0, 0, 5, 7, 4, 7, 7, 0, 6, 1, 5, 9, 0, 9, 0, 3, 8, 4, 0, 8, 4, 1, 0, 2, 6, 4, 1, 1, 2, 4, 3, 4, 1, 4, 7, 1, 0, 0, 9, 0, 4, 0, 8, 8, 5, 5, 0, 4, 0, 8, 6, 2, 5, 9, 2, 9, 1, 1, 5, 4, 7, 5, 8, 6, 7, 1, 5, 7, 3, 4, 1, 8, 9, 9, 8, 9, 8, 6, 8, 5, 8, 9, 4, 6, 4, 6, 3, 7, 4, 0, 0, 1, 7, 5, 1, 5, 1, 3, 1, 6, 8, 4, 5, 6, 9, 1, 2, 0, 1, 7, 2, 6, 1, 9, 0, 0, 8, 9, 9, 2, 8, 4, 5, 5, 3, 0, 3, 2, 0, 3, 4, 7, 5, 2, 1, 6, 8, 8, 1, 2, 0, 5, 4, 5, 9, 6, 7, 1, 0, 6, 9, 3, 7, 7, 3, 9, 9, 1, 9, 7, 0, 1, 3, 3, 4, 2, 3, 8, 8, 0, 4, 8, 3, 6, 9, 3, 0, 4, 5, 2, 6, 8, 4, 9, 9, 9, 2, 0, 4, 2, 8, 1, 1, 0, 0, 4, 2, 4, 1, 1, 9, 7, 7, 4, 6, 8, 6, 0, 2, 8, 5, 0, 5, 3, 5, 7, 9, 8, 7, 4, 3, 1, 4, 8, 4, 6, 5, 3, 0, 8, 9, 5, 7, 6, 3, 0, 0, 9, 9, 0, 5, 6, 3, 2, 1, 1, 0, 2, 8, 2, 1, 1, 7, 5, 2, 3, 4, 1, 2, 9, 2, 1, 1, 4, 8, 9, 0, 0, 4, 1, 0, 2, 2, 0, 6, 8, 7, 3, 3, 8, 9, 0, 2, 0, 3, 6, 1, 3, 1, 5, 0, 5, 4, 4, 0, 1, 3, 3, 1, 7, 9, 9, 6, 2, 4, 7, 9, 5, 4, 7, 0, 2, 8, 4, 8, 5, 8, 8, 8, 6, 5, 5, 7, 4, 3, 4, 1, 5, 9, 7, 0, 6, 8, 3, 9, 0, 1, 8, 9, 6, 3, 9, 2, 4, 4, 0, 3, 5, 3, 4, 3, 1, 1, 8, 2, 2, 9, 3, 7, 8, 9, 2, 3, 1, 7, 3, 2, 5, 0, 1, 9, 5, 5, 3, 4, 7, 2, 0, 0, 2, 1, 3, 4, 7, 4, 4, 8, 4, 8, 9, 9, 2, 2, 4, 3, 6, 4, 6, 4, 6, 6, 3, 8, 7, 4, 8, 0, 5, 9, 3, 2, 0, 7, 5, 1, 9, 7, 9, 1, 8, 4, 2, 1, 6, 4, 6, 2, 1, 4, 9, 6, 1, 7, 1, 3, 4, 5, 3, 3, 9, 7, 8, 2, 5, 3, 4, 5, 4, 5, 7, 6, 5, 3, 1, 5, 7, 8, 3, 6, 0, 2, 5, 2, 3, 7, 4, 3, 1, 6, 8, 6, 8, 3, 2, 7, 5, 9, 7, 1, 4, 2, 7, 6, 1, 7, 3, 0, 0, 6, 6, 8, 6, 6, 0, 3, 4, 7, 4, 9, 4, 9, 9, 3, 4, 1, 4, 0, 3, 7, 1, 2, 2, 8, 4, 7, 8, 5, 5, 6, 5, 6, 0, 6, 4, 9, 5, 2, 7, 3, 8, 3, 9, 4, 1, 6, 9, 9, 4, 5, 9, 0, 1, 9, 9, 5, 9, 0, 9, 7, 5, 2, 4, 3, 6, 4, 3, 1, 9, 5, 6, 3, 1, 8, 6, 0, 7, 6, 5, 1, 5, 7, 6, 1, 2, 8, 1, 6, 4, 9, 0, 3, 9, 1, 0, 5, 4, 1, 6, 9, 8, 9, 0, 6, 1, 6, 2, 3, 5, 6, 1, 0, 7, 2, 4, 8, 3, 3, 8, 6, 9, 1, 9, 4, 6, 2, 3, 9, 5, 4, 1, 9, 2, 0, 7, 3, 5, 1, 8, 3, 0, 5, 0, 8, 8, 3, 9, 6, 0, 3, 5, 3, 4, 1, 3, 0, 7, 3, 9, 4, 5, 3, 1, 4, 2, 4, 9, 9, 7, 1, 7, 0, 1, 0, 1, 5, 3, 8, 4, 1, 5, 1, 9, 9, 7, 0, 1, 7, 6, 2, 6, 5, 1, 2, 1, 3, 9, 9, 9, 0, 8, 8, 5, 9, 2, 9, 1, 3, 6, 7, 6, 0, 8, 6, 2, 4, 2, 3, 5, 5, 4, 1, 6, 4, 1, 6, 1, 7, 1, 6, 2, 3, 0, 4, 2, 3, 7, 3, 5, 6, 0, 9, 8, 1, 1, 3, 5, 6, 5, 3, 8, 7, 5, 0, 7, 5, 5, 9, 1, 9, 9, 1, 8, 7, 3, 5, 5, 3, 0, 3, 0, 6, 3, 0, 6, 8, 9, 4, 6, 1, 1, 2, 7, 1, 0, 1, 8, 3, 4, 4, 7, 4, 8, 3, 3, 7, 4, 5, 0, 0, 1, 2, 9, 8, 9, 7, 3, 5, 9, 1, 9, 1, 9, 5, 6, 5, 7, 9, 3, 5, 6, 5, 0, 1, 0, 7, 5, 5, 3, 5, 1, 7, 6, 8, 4, 4, 5, 7, 3, 4, 7, 7, 4, 6, 3, 7, 2, 6, 7, 2, 1, 8, 0, 2, 2, 1, 5, 4, 0, 9, 5, 0, 0, 2, 3, 8, 5, 0, 0, 4, 6, 3, 1, 2, 0, 5, 7, 5, 5, 1, 7, 3, 1, 6, 7, 9, 0, 8, 2, 1, 4, 6, 3, 5, 9, 5, 0, 4, 9, 4, 9, 7, 1, 2, 8, 3, 6, 5, 0, 8, 1, 7, 5, 6, 9, 3, 2, 3, 9, 2, 6, 1, 0, 9, 0, 9, 8, 7, 7, 2, 2, 3, 3, 4, 7, 8, 7, 5, 9, 1, 9, 8, 6, 5, 6, 7, 6, 6, 7, 2, 7, 9, 6, 6, 7, 0, 1, 0, 1, 3, 6, 3, 6, 1, 2, 3, 1, 9, 9, 8, 6, 8, 3, 8, 9, 0, 4, 0, 3, 5, 6, 4, 3, 9, 7, 4, 3, 5, 6, 4, 6, 0, 3, 7, 5, 0, 2, 0, 2, 7, 2, 9, 2, 4, 0, 6, 6, 3, 3, 5, 5, 9, 1, 9, 3, 5, 3, 5, 4, 8, 0, 0, 3, 9, 2, 7, 4, 2, 3, 3, 6, 3, 1, 9, 3, 3, 8, 4, 8, 4, 7, 3, 5, 5, 7, 1, 2, 6, 1, 5, 2, 0, 7, 5, 0, 0, 0, 1, 6, 3, 3, 8, 4, 3, 1, 7, 1, 0, 4, 0, 4, 1, 6, 0, 1, 2, 1, 7, 7, 9, 8, 7, 5, 4, 0, 9, 0, 0, 8, 2, 0, 0, 7, 4, 8, 6, 2, 4, 6, 3, 5, 1, 5, 7, 7, 2, 2, 9, 8, 0, 0, 9, 6, 4, 7, 6, 1, 6, 7, 4, 2, 5, 9, 4, 0, 8, 0, 4, 6, 3, 7, 9, 7, 0, 5, 0, 4, 3, 1, 9, 3, 2, 9, 5, 3, 7, 9, 4, 4, 0, 7, 7, 1, 4, 1, 9, 8, 7, 0, 0, 4, 6, 2, 9, 7, 6, 9, 3, 5, 0, 0, 4, 6, 8, 3, 4, 4, 7, 1, 1, 3, 1, 7, 2, 1, 4, 8, 7, 0, 1, 6, 9, 3, 2, 7, 2, 8, 1, 0, 3, 4, 6, 7, 3, 2, 0, 1, 5, 3, 1, 4, 9, 3, 0, 8, 6, 2, 1, 6, 6, 4, 1, 9, 0, 4, 1, 0, 1, 9, 0, 2, 9, 2, 4, 7, 6, 2, 7, 4, 9, 1, 7, 2, 6, 3, 4, 4, 1, 4, 8, 2, 6, 6, 1, 6, 5, 6, 3, 8, 2, 6, 7, 1, 9, 5, 6, 4, 6, 0, 7, 1, 9, 5, 2, 6, 7, 7, 6, 5, 9, 1, 3, 6, 0, 2, 2, 8, 9, 8, 6, 5, 3, 0, 0, 5, 7, 7, 8, 3, 5, 3, 1, 6, 1, 5, 1, 0, 6, 2, 3, 2, 1, 2, 5, 1, 9, 8, 3, 4, 9, 7, 3, 0, 2, 3, 9, 4, 6, 3, 9, 6, 8, 6, 6, 8, 5, 4, 7, 6, 5, 7, 4, 6, 9, 6, 2, 4, 0, 1, 3, 6, 4, 9, 3, 6, 0, 0, 8, 7, 5, 8, 3, 8, 3, 0, 6, 3, 6, 3, 7, 3, 5, 7, 9, 0, 0, 6, 7, 4, 2, 5, 5, 7, 2, 5, 9, 4, 6, 4, 4, 2, 5, 6, 4, 1, 6, 3, 1, 6, 7, 0, 5, 0, 1, 3, 7, 3, 5, 2, 3, 9, 3, 3, 2, 0, 0, 0, 8, 0, 3, 2, 4, 5, 3, 7, 9, 6, 9, 3, 1, 2, 4, 7, 4, 5, 1, 3, 7, 0, 9, 3, 8, 5, 8, 5, 8, 5, 6, 5, 0, 8, 5, 9, 1, 8, 1, 5, 0, 9, 9, 6, 3, 6, 5, 4, 2, 7, 4, 7, 4, 2, 5, 4, 5, 5, 7, 3, 8, 5, 8, 0, 5, 4, 0, 5, 4, 7, 3, 2, 4, 2, 9, 4, 8, 8, 6, 0, 6, 1, 7, 0, 4, 3, 8, 5, 9, 7, 6, 7, 1, 0, 2, 3, 5, 6, 7, 1, 6, 2, 8, 3, 7, 2, 5, 7, 5, 7, 7, 1, 7, 4, 3, 3, 4, 0, 4, 2, 7, 0, 7, 5, 6, 6, 2, 5, 2, 6, 0, 3, 1, 5, 9, 2, 0, 1, 5, 5, 1, 6, 7, 8, 9, 6, 3, 5, 6, 0, 9, 9, 2, 2, 6, 1, 4, 6, 2, 5, 7, 0, 8, 5, 6, 2, 3, 2, 3, 6, 4, 4, 8, 9, 2, 6, 0, 9, 7, 9, 8, 7, 7, 3, 8, 2, 9, 3, 2, 7, 5, 8, 7, 3, 7, 0, 7, 9, 6, 2, 4, 0, 0, 2, 9, 8, 2, 8, 5, 7, 5, 5, 0, 1, 2, 9, 6, 1, 0, 1, 8, 6, 3, 3, 5, 7, 4, 4, 8, 5, 5, 3, 7, 2, 5, 0, 3, 5, 7, 5, 7, 0, 5, 4, 3, 6, 9, 3, 5, 4, 8, 3, 1, 2, 2, 4, 7, 6, 0, 5, 5, 8, 4, 5, 6, 1, 3, 5, 4, 7, 3, 0, 7, 2, 0, 1, 2, 4, 9, 6, 4, 5, 9, 7, 4, 6, 4, 4, 3, 1, 6, 9, 4, 8, 0, 3, 1, 6, 4, 4, 5, 1, 4, 6, 5, 0, 8, 9, 7, 6, 9, 4, 8, 1, 2, 5, 9, 0, 7, 1, 4, 5, 2, 1, 3, 6, 4, 7, 1, 3, 9, 2, 1, 4, 8, 7, 7, 1, 2, 5, 4, 6, 7, 7, 2, 4, 4, 4, 3, 6, 6, 1, 9, 9, 3, 9, 4, 3, 2, 9, 8, 5, 0, 6, 9, 0, 9, 7, 8, 5, 4, 4, 9, 8, 2, 6, 6, 9, 9, 7, 9, 9, 0, 5, 1, 1, 8, 6, 9, 9, 5, 6, 5, 5, 9, 7, 9, 4, 5, 4, 3, 0, 9, 8, 8, 3, 7, 8, 5, 0, 2, 0, 7, 2, 8, 9, 2, 0, 7, 4, 0, 6, 2, 3, 6, 7, 4, 6, 4, 0, 6, 1, 5, 6, 6, 3, 0, 3, 2, 4, 3, 3, 0, 0, 8, 3, 4, 2, 9, 3, 0, 5, 4, 1, 7, 3, 6, 5, 4, 8, 2, 0, 1, 8, 2, 4, 8, 4, 2, 0, 4, 0, 1, 9, 0, 0, 4, 4, 5, 2, 2, 8, 3, 0, 9, 7, 5, 2, 4, 6, 7, 8, 2, 3, 1, 0, 0, 2, 1, 6, 1, 4, 6, 7, 1, 0, 5, 2, 5, 9, 2, 5, 6, 7, 1, 9, 3, 6, 1, 0, 2, 9, 4, 2, 9, 0, 8, 2, 9, 8, 5, 1, 0, 1, 5, 5, 5, 6, 8, 8, 3, 5, 0, 4, 1, 3, 7, 2, 2, 3, 9, 2, 0, 9, 9, 8, 3, 9, 7, 3, 9, 9, 4, 7, 1, 3, 6, 4, 4, 8, 9, 3, 7, 1, 2, 2, 0, 6, 7, 6, 1, 9, 3, 5, 2, 4, 1, 1, 5, 3, 9, 2, 5, 8, 0, 8, 1, 5, 1, 3, 9, 0, 9, 2, 4, 0, 6, 9, 1, 1, 3, 4, 9, 5, 3, 3, 2, 3, 4, 1, 3, 9, 8, 7, 4, 8, 7, 6, 5, 2, 5, 8, 9, 7, 2, 0, 0, 7, 5, 3, 5, 7, 7, 6, 2, 8, 2, 7, 4, 6, 1, 3, 8, 6, 2, 0, 4, 4, 8, 6, 4, 0, 2, 5, 4, 9, 2, 5, 4, 6, 9, 2, 0, 5, 2, 0, 8, 2, 6, 4, 7, 9, 5, 7, 2, 4, 2, 1, 9, 9, 4, 2, 5, 1, 8, 1, 6, 3, 0, 8, 8, 5, 6, 9, 9, 9, 6, 3, 0, 8, 8, 5, 3, 4, 1, 1, 0, 7, 0, 6, 0, 4, 4, 6, 5, 3, 2, 9, 6, 6, 7, 0, 7, 7, 0, 8, 7, 2, 7, 7, 7, 4, 0, 1, 6, 0, 5, 3, 0, 2, 4, 9, 7, 3, 3, 7, 8, 8, 5, 3, 8, 0, 8, 2, 0, 0, 2, 2, 7, 0, 7, 7, 7, 3, 2, 8, 4, 0, 3, 7, 8, 4, 7, 9, 6, 1, 1, 6, 9, 3, 8, 9, 5, 8, 3, 1, 5, 5, 7, 5, 5, 4, 7, 2, 7, 9, 6, 2, 0, 8, 4, 5, 6, 1, 0, 4, 0, 4, 7, 9, 3, 2, 0, 9, 1, 8, 0, 6, 8, 1, 7, 1, 0, 8, 7, 6, 4, 5, 8, 2, 1, 2, 3, 8, 1, 1, 8, 8, 8, 9, 8, 0, 4, 4, 3, 5, 6, 6, 3, 1, 5, 4, 7, 8, 0, 1, 4, 8, 4, 6, 2, 2, 2, 6, 3, 4, 0, 8, 1, 3, 3, 6, 8, 9, 1, 6, 1, 9, 8, 2, 0, 4, 7, 4, 0, 0, 4, 6, 8, 9, 8, 6, 2, 8, 8, 3, 1, 1, 0, 7, 7, 2, 4, 7, 7, 2, 6, 6, 7, 4, 5, 4, 0, 9, 6, 7, 2, 7, 3, 2, 2, 3, 6, 2, 6, 4, 1, 6, 8, 5, 8, 5, 5, 2, 3, 4, 5, 0, 7, 5, 1, 5, 3, 7, 8, 8, 0, 7, 0, 8, 2, 6, 0, 8, 1, 4, 1, 3, 5, 1, 8, 9, 6, 2, 5, 9, 3, 6, 3, 9, 1, 4, 2, 9, 9, 5, 4, 7, 8, 3, 7, 1, 6, 9, 4, 9, 4, 0, 5, 1, 6, 3, 8, 2, 7, 5, 5, 2, 0, 2, 3, 1, 2, 2, 7, 0, 8, 9, 2, 6, 0, 7, 5, 5, 8, 8, 7, 8, 5, 7, 4, 4, 0, 0, 7, 0, 4, 0, 4, 4, 2, 5, 4, 0, 7, 2, 7, 0, 4, 3, 2, 0, 1, 1, 3, 0, 9, 9, 0, 6, 5, 3, 0, 9, 0, 6, 2, 2, 4, 1, 3, 7, 6, 1, 0, 4, 6, 0, 4, 4, 4, 7, 6, 2, 3, 5, 9, 4, 5, 2, 0, 5, 2, 2, 3, 9, 4, 5, 8, 1, 9, 3, 0, 8, 5, 8, 6, 6, 3, 4, 0, 5, 3, 2, 6, 1, 8, 2, 1, 4, 3, 2, 2, 3, 3, 5, 0, 2, 1, 2, 8, 0, 8, 2, 2, 5, 5, 7, 9, 8, 4, 6, 1, 7, 8, 6, 2, 5, 8, 9, 4, 8, 0, 0, 2, 9, 1, 8, 3, 7, 5, 8, 4, 9, 3, 8, 9, 9, 8, 9, 5, 4, 8, 9, 5, 5, 7, 2, 5, 8, 8, 1, 2, 4, 1, 3, 0, 2, 5, 0, 8, 4, 2, 8, 7, 6, 5, 2, 9, 6, 2, 5, 1, 1, 3, 7, 6, 3, 8, 9, 6, 0, 8, 0, 6, 6, 7, 6, 9, 1, 1, 7, 0, 6, 8, 9, 0, 6, 9, 0, 1, 1, 7, 2, 1, 3, 2, 5, 0, 3, 6, 2, 3, 8, 1, 8, 1, 3, 1, 5, 4, 5, 1, 8, 9, 1, 8, 1, 7, 2, 9, 8, 9, 2, 6, 0, 9, 4, 0, 4, 6, 3, 1, 5, 2, 0, 5, 6, 0, 3, 4, 6, 1, 3, 7, 9, 6, 3, 6, 5, 9, 0, 5, 1, 2, 2, 9, 7, 0, 0, 1, 4, 4, 5, 5, 9, 6, 3, 6, 2, 6, 1, 3, 5, 3, 3, 4, 9, 5, 2, 1, 6, 6, 4, 7, 6, 7, 6, 8, 1, 3, 6, 4, 4, 2, 6, 6, 0, 5, 2, 7, 5, 2, 5, 0, 7, 9, 4, 6, 7, 9, 8, 3, 2, 1, 4, 2, 4, 5, 5, 6, 8, 6, 0, 8, 9, 2, 0, 7, 7, 6, 6, 7, 2, 9, 8, 4, 9, 3, 6, 0, 4, 8, 3, 2, 9, 1, 3, 9, 1, 0, 5, 4, 4, 0, 2, 1, 1, 1, 0, 5, 8, 2, 7, 3, 1, 4, 5, 4, 1, 0, 7, 8, 8, 8, 1, 6, 7, 3, 9, 6, 9, 1, 6, 0, 5, 7, 1, 3, 3, 3, 1, 0, 2, 7, 9, 2, 2, 9, 6, 3, 5, 9, 4, 8, 0, 4, 8, 0, 9, 3, 3, 0, 4, 0, 0, 8, 6, 3, 3, 9, 8, 2, 2, 8, 3, 1, 1, 0, 8, 2, 6, 9, 6, 8, 4, 6, 1, 5, 2, 6, 9, 0, 0, 7, 1, 8, 9, 3, 9, 9, 0, 7, 7, 3, 4, 2, 6, 4, 5, 7, 7, 8, 7, 2, 6, 2, 2, 4, 4, 0, 7, 1, 5, 9, 6, 3, 0, 2, 3, 8, 6, 2, 4, 5, 5, 0, 9, 1, 0, 0, 6, 5, 7, 7, 9, 9, 6, 5, 5, 8, 8, 3, 1, 6, 6, 4, 1, 4, 4, 1, 5, 0, 0, 2, 5, 8, 2, 8, 3, 0, 5, 0, 5, 6, 1, 3, 7, 0, 9, 1, 5, 7, 6, 5, 5, 3, 6, 0, 0, 1, 7, 3, 1, 9, 2, 4, 6, 6, 7, 8, 0, 0, 9, 6, 6, 0, 5, 5, 8, 2, 7, 7, 0, 2, 7, 7, 8, 8, 7, 0, 3, 9, 1, 4, 5, 5, 4, 4, 6, 2, 3, 1, 0, 3, 3, 3, 6, 5, 1, 2, 3, 9, 7, 9, 3, 8, 7, 3, 1, 7, 7, 3, 2, 2, 8, 9, 5, 9, 2, 1, 4, 4, 4, 0, 3, 3, 1, 5, 4, 2, 8, 4, 9, 8, 7, 8, 4, 2, 3, 4, 0, 5, 4, 1, 8, 2, 5, 4, 5, 2, 2, 3, 7, 9, 7, 1, 4, 1, 3, 1, 4, 5, 5, 1, 7, 1, 4, 0, 9, 2, 5, 7, 0, 6, 3, 4, 7, 5, 5, 8, 9, 4, 6, 5, 6, 6, 8, 2, 6, 4, 8, 4, 1, 3, 9, 2, 3, 6, 0, 1, 6, 2, 2, 8, 2, 4, 3, 1, 4, 4, 4, 4, 1, 5, 5, 7, 6, 3, 4, 5, 6, 5, 6, 2, 4, 7, 2, 4, 6, 5, 0, 2, 3, 9, 6, 3, 8, 0, 7, 0, 6, 8, 1, 5, 8, 9, 1, 5, 4, 2, 5, 5, 5, 3, 6, 5, 0, 3, 5, 1, 3, 5, 7, 7, 4, 0, 4, 5, 9, 5, 1, 7, 6, 6, 4, 8, 4, 1, 5, 8, 6, 2, 3, 3, 3, 0, 4, 8, 7, 8, 9, 3, 8, 4, 5, 9, 1, 0, 2, 8, 3, 8, 0, 5, 5, 4, 6, 9, 2, 7, 2, 0, 5, 2, 9, 7, 5, 0, 7, 8, 3, 5, 3, 3, 8, 9, 3, 1, 6, 4, 8, 9, 6, 1, 1, 4, 0, 0, 1, 7, 2, 5, 8, 5, 9, 8, 2, 8, 0, 6, 6, 8, 3, 9, 5, 1, 1, 5, 3, 5, 0, 7, 6, 1, 4, 6, 1, 1, 8, 1, 1, 2, 4, 4, 9, 9, 5, 2, 7, 4, 3, 6, 1, 6, 9, 8, 8, 6, 5, 4, 7, 2, 5, 8, 0, 9, 0, 7, 1, 1, 3, 4, 2, 4, 2, 9, 0, 7, 8, 9, 6, 5, 5, 2, 4, 1, 0, 6, 1, 8, 4, 5, 5, 5, 0, 8, 9, 0, 5, 7, 9, 6, 5, 4, 6, 4, 9, 5, 1, 0, 5, 2, 1, 0, 4, 6, 9, 8, 1, 9, 7, 7, 6, 1, 4, 1, 0, 3, 8, 8, 1, 9, 3, 8, 9, 5, 1, 1, 6, 5, 7, 2, 6, 4, 6, 9, 6, 0, 1, 3, 9, 3, 8, 2, 8, 2, 9, 1, 6, 6, 0, 5, 0, 7, 7, 7, 9, 4, 5, 0, 2, 3, 5, 3, 8, 9, 1, 2, 7, 1, 3, 3, 6, 9, 1, 7, 7, 1, 9, 5, 8, 8, 9, 9, 7, 9, 8, 3, 0, 2, 6, 9, 2, 4, 4, 0, 8, 4, 8, 1, 3, 7, 2, 7, 9, 5, 2, 2, 9, 2, 6, 5, 7, 2, 5, 6, 7, 9, 1, 2, 6, 8, 6, 3, 0, 8, 0, 0, 1, 0, 6, 8, 0, 6, 6, 0, 7, 9, 8, 0, 5, 0, 9, 6, 0, 4, 7, 1, 7, 8, 8, 2, 3, 9, 5, 5, 5, 3, 1, 5, 3, 0, 5, 5, 2, 7, 2, 8, 4, 4, 6, 1, 9, 4, 1, 7, 0, 9, 4, 3, 0, 2, 9, 4, 3, 0, 3, 3, 7, 2, 3, 0, 1, 2, 7, 9, 9, 0, 7, 5, 6, 7, 1, 2, 3, 7, 2, 6, 8, 4, 9, 8, 7, 9, 2, 3, 4, 0, 2, 5, 6, 3, 5, 3, 5, 8, 5, 4, 4, 9, 7, 6, 3, 8, 6, 1, 8, 5, 4, 8, 6, 5, 9, 0, 4, 2, 0, 5, 9, 9, 3, 8, 0, 6, 0, 2, 0, 7, 8, 2, 6, 9, 1, 3, 0, 4, 7, 9, 3, 9, 5, 5, 0, 6, 4, 8, 8, 5, 0, 0, 7, 0, 4, 1, 3, 5, 3, 9, 2, 6, 7, 4, 0, 0, 0, 4, 5, 3, 2, 6, 6, 2, 7, 8, 9, 1, 0, 1, 3, 6, 4, 8, 0, 6, 0, 9, 1, 6, 5, 1, 0, 1, 3, 0, 4, 7, 9, 1, 3, 7, 5, 7, 1, 6, 6, 9, 8, 1, 4, 4, 2, 1, 7, 0, 1, 2, 7, 1, 3, 2, 6, 9, 8, 5, 2, 2, 8, 7, 3, 2, 6, 3, 6, 9, 7, 8, 9, 3, 0, 5, 7, 2, 0, 2, 9, 1, 2, 8, 7, 1, 1, 2, 2, 2, 2, 9, 1, 2, 6, 1, 3, 1, 8, 9, 2, 3, 1, 9, 9, 3, 4, 3, 2, 0, 5, 5, 7, 1, 7, 7, 1, 8, 6, 3, 5, 5, 1, 6, 2, 7, 8, 2, 3, 3, 5, 9, 8, 8, 5, 1, 0, 6, 3, 4, 9, 6, 2, 0, 8, 7, 1, 2, 6, 9, 1, 6, 3, 7, 1, 9, 4, 0, 3, 2, 8, 3, 8, 2, 8, 4, 0, 8, 3, 3, 1, 2, 3, 0, 5, 0, 4, 1, 7, 2, 0, 1, 3, 9, 1, 6, 1, 6, 1, 2, 3, 7, 2, 9, 5, 3, 4, 2, 1, 7, 9, 7, 1, 9, 2, 1, 9, 0, 3, 6, 0, 2, 0, 0, 9, 3, 8, 9, 4, 5, 3, 3, 0, 7, 8, 7, 3, 9, 3, 4, 6, 3, 9, 5, 2, 4, 2, 7, 9, 6, 7, 4, 7, 1, 2, 3, 1, 1, 3, 6, 8, 3, 7, 7, 0, 8, 1, 5, 2, 6, 5, 3, 6, 3, 3, 9, 8, 4, 8, 8, 0, 4, 1, 7, 8, 4, 9, 4, 2, 6, 3, 8, 8, 6, 5, 3, 0, 1, 1, 5, 3, 7, 9, 9, 9, 8, 5, 9, 9, 6, 8, 8, 6, 8, 1, 0, 1, 8, 8, 6, 5, 9, 0, 6, 1, 6, 6, 6, 2, 5, 6, 3, 5, 3, 3, 6, 8, 9, 4, 4, 3, 8, 5, 6, 0, 8, 5, 7, 8, 4, 6, 5, 3, 1, 8, 3, 0, 4, 4, 0, 3, 5, 3, 3, 2, 7, 7, 9, 4, 0, 5, 3, 6, 1, 1, 3, 9, 9, 5, 3, 7, 8, 8, 3, 9, 8, 7, 8, 8, 0, 3, 2, 4, 8, 7, 6, 7, 1, 8, 7, 3, 5, 4, 4, 5, 8, 6, 1, 1, 6, 3, 3, 2, 8, 9, 8, 3, 3, 8, 1, 1, 0, 5, 2, 0, 5, 0, 3, 0, 6, 3, 9, 6, 6, 3, 9, 4, 8, 5, 3, 5, 1, 1, 2, 9, 2, 8, 5, 5, 8, 4, 9, 0, 8, 0, 3, 1, 2, 3, 5, 5, 3, 8, 9, 3, 6, 4, 5, 4, 3, 8, 9, 6, 3, 6, 4, 5, 2, 7, 7, 4, 4, 0, 3, 8, 6, 7, 7, 8, 5, 2, 9, 8, 6, 3, 3, 3, 3, 8, 5, 6, 1, 3, 5, 7, 6, 1, 3, 4, 9, 0, 5, 7, 4, 9, 1, 6, 0, 2, 7, 8, 7, 3, 0, 6, 1, 6, 6, 4, 6, 2, 1, 8, 4, 4, 7, 8, 5, 8, 9, 4, 3, 2, 2, 8, 3, 0, 1, 1, 1, 1, 6, 8, 7, 1, 3, 0, 4, 5, 0, 5, 0, 6, 4, 2, 9, 8, 2, 8, 3, 8, 2, 9, 6, 0, 6, 1, 8, 2, 3, 2, 2, 6, 5, 2, 9, 2, 3, 4, 9, 8, 7, 3, 9, 3, 5, 4, 1, 8, 5, 8, 6, 2, 5, 1, 3, 0, 5, 1, 9, 3, 4, 9, 2, 1, 4, 4, 5, 9, 8, 7, 2, 1, 6, 1, 7, 3, 6, 3, 8, 8, 2, 3, 4, 9, 4, 5, 5, 4, 4, 3, 1, 0, 3, 0, 4, 3, 9, 1, 3, 2, 0, 5, 1, 1, 0, 4, 1, 9, 4, 8, 1, 1, 1, 5, 9, 0, 1, 6, 7, 2, 9, 9, 7, 8, 8, 1, 8, 7, 8, 8, 1, 6, 6, 3, 3, 1, 3, 8, 8, 8, 2, 6, 6, 5, 1, 0, 7, 6, 4, 8, 2, 0, 6, 6, 8, 6, 3, 1, 1, 8, 6, 4, 0, 5, 4, 3, 2, 1, 7, 8, 2, 0, 1, 7, 4, 8, 7, 6, 6, 7, 0, 0, 4, 9, 2, 6, 5, 1, 5, 8, 6, 8, 1, 9, 2, 7, 6, 3, 0, 6, 0, 1, 3, 1, 1, 5, 6, 4, 3, 5, 8, 1, 6, 6, 1, 8, 8, 6, 2, 7, 4, 6, 8, 9, 4, 5, 5, 5, 2, 1, 4, 1, 9, 3, 3, 7, 7, 7, 5, 2, 8, 2, 5, 6, 6, 4, 0, 7, 1, 7, 6, 0, 7, 1, 4, 4, 1, 2, 2, 4, 9, 8, 2, 8, 7, 6, 3, 4, 5, 2, 3, 1, 5, 3, 0, 4, 3, 4, 9, 4, 3, 9, 1, 7, 8, 5, 1, 8, 3, 2, 5, 7, 2, 7, 9, 6, 8, 6, 8, 6, 5, 9, 0, 4, 8, 5, 6, 5, 3, 8, 8, 4, 8, 6, 7, 2, 3, 1, 7, 4, 1, 2, 4, 2, 0, 8, 7, 5, 0, 4, 7, 7, 6, 8, 9, 0, 5, 5, 2, 1, 8, 7, 2, 2, 3, 3, 4, 3, 2, 1, 9, 8, 1, 3, 3, 2, 6, 5, 9, 1, 5, 4, 3, 6, 2, 0, 9, 5, 8, 0, 8, 9, 1, 2, 5, 7, 2, 0, 6, 6, 1, 6, 3, 3, 5, 0, 0, 7, 4, 6, 5, 6, 4, 8, 3, 4, 5, 5, 0, 6, 6, 7, 3, 0, 9, 9, 6, 1, 0, 4, 6, 7, 2, 9, 2, 6, 6, 8, 2, 1, 0, 1, 9, 5, 7, 2, 3, 0, 2, 7, 6, 4, 3, 1, 8, 2, 1, 0, 9, 6, 6, 6, 8, 7, 4, 1, 8, 1, 2, 2, 4, 3, 5, 2, 6, 5, 3, 9, 1, 0, 7, 2, 8, 4, 0, 0, 6, 2, 2, 3, 0, 5, 9, 7, 1, 8, 4, 3, 5, 9, 8, 5, 7, 8, 0, 9, 8, 9, 1, 6, 3, 8, 0, 3, 4, 4, 8, 4, 8, 9, 0, 6, 0, 0, 8, 2, 0, 4, 2, 7, 6, 0, 5, 8, 4, 1, 9, 0, 1, 4, 4, 8, 4, 9, 6, 0, 7, 4, 6, 8, 9, 2, 2, 0, 4, 9, 2, 9, 3, 9, 2, 6, 7, 0, 9, 7, 1, 8, 9, 0, 6, 4, 4, 1, 9, 4, 6, 7, 9, 8, 3, 9, 2, 8, 2, 7, 6, 1, 0, 0, 5, 6, 0, 4, 3, 2, 8, 8, 0, 6, 0, 5, 2, 8, 0, 0, 6, 5, 9, 4, 2, 5, 6, 0, 6, 2, 2, 4, 1, 0, 5, 9, 8, 9, 7, 5, 9, 3, 8, 1, 6, 3, 7, 5, 6, 2, 0, 2, 3, 5, 8, 7, 7, 8, 1, 0, 8, 9, 7, 0, 3, 8, 0, 5, 9, 5, 8, 4, 2, 0, 9, 2, 4, 4, 4, 9, 4, 2, 5, 3, 1, 3, 2, 0, 0, 4, 9, 6, 3, 8, 0, 5, 8, 6, 4, 8, 5, 3, 9, 7, 9, 7, 1, 4, 1, 9, 6, 9, 2, 7, 9, 4, 4, 0, 6, 2, 4, 1, 3, 7, 3, 8, 5, 9, 0, 5, 3, 3, 2, 7, 6, 3, 2, 5, 9, 0, 5, 9, 9, 8, 7, 7, 4, 8, 6, 2, 2, 3, 1, 0, 4, 1, 8, 8, 4, 9, 4, 4, 3, 3, 7, 5, 0, 1, 1, 8, 3, 4, 8, 5, 6, 9, 5, 5, 6, 2, 5, 4, 7, 3, 3, 9, 0, 1, 5, 9, 5, 7, 6, 0, 4, 2, 2, 5, 6, 3, 8, 9, 3, 6, 1, 4, 5, 4, 6, 7, 2, 1, 9, 2, 0, 4, 7, 8, 8, 9, 1, 1, 5, 0, 0, 8, 7, 1, 7, 4, 5, 4, 5, 4, 2, 0, 6, 6, 0, 1, 3, 9, 8, 3, 7, 8, 9, 4, 8, 9, 0, 1, 7, 1, 6, 2, 9, 5, 3, 9, 3, 0, 8, 7, 7, 1, 6, 8, 3, 9, 3, 8, 2, 3, 1, 8, 2, 0, 9, 7, 9, 8, 8, 6, 7, 3, 7, 1, 6, 9, 0, 9, 2, 6, 7, 0, 7, 3, 0, 5, 9, 7, 3, 5, 0, 6, 5, 1, 8, 2, 7, 6, 9, 0, 0, 2, 0, 8, 7, 7, 7, 8, 9, 0, 7, 9, 7, 8, 7, 9, 8, 5, 4, 8, 7, 7, 3, 3, 8, 2, 1, 9, 3, 5, 4, 9, 5, 7, 8, 7, 3, 5, 3, 5, 9, 4, 6, 7, 3, 6, 4, 5, 9, 4, 2, 1, 9, 6, 0, 2, 6, 7, 4, 7, 9, 0, 7, 4, 5, 5, 2, 1, 1, 2, 6, 8, 2, 1, 5, 8, 5, 0, 6, 1, 8, 5, 0, 6, 0, 9, 2, 6, 2, 8, 9, 5, 5, 6, 2, 9, 1, 5, 8, 8, 7, 1, 7, 4, 5, 4, 9, 7, 5, 2, 9, 0, 4, 3, 2, 1, 3, 0, 7, 9, 0, 4, 5, 7, 5, 2, 8, 7, 6, 9, 6, 9, 3, 8, 5, 6, 6, 9, 5, 7, 8, 0, 3, 4, 7, 3, 8, 2, 5, 1, 3, 2, 2, 6, 4, 1, 7, 4, 6, 5, 1, 3, 5, 5, 1, 5, 7, 0, 8, 4, 4, 5, 7, 7, 5, 4, 3, 9, 6, 8, 0, 3, 3, 1, 6, 9, 7, 0, 3, 4, 0, 9, 4, 7, 8, 7, 7, 0, 9, 6, 8, 0, 8, 2, 8, 5, 7, 7, 2, 2, 0, 8, 7, 7, 4, 1, 6, 6, 8, 8, 1, 0, 9, 0, 1, 2, 6, 0, 9, 2, 6, 4, 6, 7, 2, 0, 8, 4, 1, 4, 0, 3, 3, 0, 9, 9, 1, 9, 1, 2, 5, 5, 4, 2, 9, 6, 8, 9, 6, 6, 8, 0, 6, 1, 4, 6, 8, 0, 5, 4, 1, 2, 0, 9, 6, 4, 5, 4, 6, 5, 9, 7, 7, 4, 6, 5, 0, 1, 9, 0, 3, 5, 9, 0, 9, 3, 8, 6, 7, 6, 8, 2, 4, 3, 3, 0, 3, 2, 1, 7, 5, 9, 3, 4, 5, 3, 1, 5, 3, 1, 1, 9, 9, 7, 5, 4, 9, 7, 8, 1, 0, 2, 8, 5, 3, 7, 0, 6, 4, 8, 4, 4, 6, 6, 4, 8, 1, 8, 4, 6, 7, 9, 2, 2, 1, 4, 9, 1, 6, 7, 2, 0, 1, 4, 6, 3, 2, 2, 5, 3, 0, 9, 0, 1, 5, 3, 3, 5, 8, 7, 5, 6, 5, 8, 0, 3, 9, 4, 6, 5, 1, 1, 0, 5, 3, 9, 4, 8, 1, 7, 7, 9, 9, 4, 3, 6, 3, 2, 8, 2, 7, 6, 7, 0, 2, 1, 2, 9, 4, 6, 9, 6, 1, 0, 1, 8, 7, 0, 0, 4, 7, 4, 5, 6, 9, 5, 9, 0, 7, 4, 5, 8, 1, 4, 7, 9, 9, 8, 8, 6, 3, 7, 0, 7, 9, 6, 2, 6, 6, 2, 9, 7, 4, 6, 8, 7, 6, 1, 3, 5, 9, 1, 9, 3, 0, 0, 3, 0, 3, 0, 7, 2, 9, 2, 7, 7, 6, 5, 9, 5, 6, 1, 2, 4, 0, 2, 7, 8, 4, 4, 0, 9, 5, 9, 3, 9, 3, 2, 4, 3, 2, 2, 8, 8, 1, 0, 1, 3, 2, 6, 8, 5, 2, 4, 9, 1, 5, 7, 1, 3, 0, 1, 5, 0, 8, 1, 1, 3, 2, 1, 8, 1, 8, 5, 1, 1, 0, 3, 9, 4, 0, 5, 1, 2, 0, 4, 9, 5, 1, 2, 4, 7, 8, 7, 2, 4, 5, 6, 7, 0, 4, 1, 5, 9, 8, 0, 2, 2, 4, 6, 0, 3, 9, 7, 5, 1, 4, 6, 0, 6, 1, 6, 8, 1, 1, 8, 9, 7, 2, 9, 0, 2, 5, 9, 0, 6, 5, 0, 7, 7, 1, 7, 9, 8, 4, 5, 0, 8, 0, 7, 7, 2, 1, 4, 4, 8, 9, 7, 8, 6, 6, 6, 0, 1, 1, 1, 8, 1, 4, 4, 0, 7, 8, 2, 1, 2, 7, 4, 6, 0, 5, 7, 4, 4, 4, 9, 5, 8, 2, 0, 8, 7, 4, 1, 8, 4, 9, 5, 3, 1, 7, 3, 7, 7, 0, 3, 8, 6, 3, 0, 5, 7, 0, 8, 0, 0, 9, 2, 0, 3, 4, 0, 4, 2, 6, 6, 5, 8, 2, 9, 2, 0, 1, 7, 5, 5, 7, 3, 0, 7, 6, 0, 7, 3, 8, 0, 8, 4, 7, 0, 3, 3, 3, 3, 6, 5, 1, 7]\n",
            "[3, 8, 8, 0, 6, 6, 1, 6, 3, 1, 0, 9, 5, 7, 9, 8, 5, 7, 8, 6, 7, 0, 4, 9, 5, 2, 4, 0, 9, 6, 6, 5, 4, 5, 9, 2, 4, 1, 9, 5, 4, 6, 5, 6, 0, 9, 3, 9, 7, 6, 9, 8, 0, 3, 8, 8, 7, 7, 4, 6, 7, 3, 6, 3, 6, 2, 1, 2, 3, 7, 2, 6, 8, 8, 0, 2, 9, 3, 3, 8, 8, 1, 1, 7, 2, 5, 2, 7, 8, 9, 0, 3, 8, 6, 4, 6, 6, 0, 0, 7, 4, 5, 6, 3, 1, 1, 3, 6, 8, 7, 4, 0, 6, 2, 1, 3, 0, 4, 2, 7, 8, 3, 1, 2, 8, 0, 8, 3, 5, 2, 4, 1, 8, 9, 1, 2, 9, 7, 2, 9, 6, 5, 6, 3, 8, 7, 6, 2, 5, 2, 8, 9, 6, 0, 0, 5, 2, 9, 5, 4, 2, 1, 6, 6, 8, 4, 8, 4, 5, 0, 9, 9, 9, 8, 9, 9, 3, 7, 5, 0, 0, 5, 2, 2, 3, 8, 6, 3, 4, 0, 5, 8, 0, 1, 7, 2, 8, 8, 7, 8, 5, 1, 8, 7, 1, 3, 0, 5, 7, 9, 7, 4, 5, 9, 8, 0, 7, 9, 8, 2, 7, 6, 9, 4, 3, 9, 6, 4, 7, 6, 5, 1, 5, 8, 8, 0, 4, 0, 5, 5, 1, 1, 8, 9, 0, 3, 1, 9, 2, 2, 5, 3, 9, 9, 4, 0, 3, 0, 0, 9, 8, 1, 5, 7, 0, 8, 2, 4, 7, 0, 2, 3, 6, 3, 8, 5, 0, 3, 4, 3, 9, 0, 6, 1, 0, 9, 1, 0, 7, 9, 1, 2, 6, 9, 3, 4, 6, 0, 0, 6, 6, 6, 3, 2, 6, 1, 8, 2, 1, 6, 8, 6, 8, 0, 4, 0, 7, 7, 5, 5, 3, 5, 2, 3, 4, 1, 7, 5, 4, 6, 1, 9, 3, 6, 6, 9, 3, 8, 0, 7, 2, 6, 2, 5, 8, 5, 4, 6, 8, 9, 9, 1, 0, 2, 2, 7, 3, 2, 8, 0, 9, 5, 8, 1, 9, 4, 1, 3, 8, 1, 4, 7, 9, 4, 2, 7, 0, 7, 0, 6, 6, 9, 0, 9, 2, 8, 7, 2, 2, 5, 1, 2, 6, 2, 9, 6, 2, 3, 0, 3, 9, 8, 7, 8, 8, 4, 0, 1, 8, 2, 7, 9, 3, 6, 1, 9, 0, 7, 3, 7, 4, 5, 0, 0, 2, 9, 3, 4, 0, 6, 2, 5, 3, 7, 3, 7, 2, 5, 3, 1, 1, 4, 9, 9, 5, 7, 5, 0, 2, 2, 2, 9, 7, 3, 9, 4, 3, 5, 4, 6, 5, 6, 1, 4, 3, 4, 4, 3, 7, 8, 3, 7, 8, 0, 5, 7, 6, 0, 5, 4, 8, 6, 8, 5, 5, 9, 9, 9, 5, 0, 1, 0, 8, 1, 1, 8, 0, 2, 2, 0, 4, 6, 5, 4, 9, 4, 7, 9, 9, 4, 5, 6, 6, 1, 5, 3, 8, 9, 5, 8, 5, 7, 0, 7, 0, 5, 0, 0, 4, 6, 9, 0, 9, 5, 6, 6, 6, 2, 9, 0, 1, 7, 6, 7, 5, 9, 1, 6, 2, 5, 5, 5, 8, 5, 9, 4, 6, 4, 3, 2, 0, 7, 6, 2, 2, 3, 9, 7, 9, 2, 6, 7, 1, 3, 6, 6, 8, 9, 7, 5, 4, 0, 8, 4, 0, 9, 3, 4, 8, 9, 6, 9, 2, 6, 1, 4, 7, 3, 5, 3, 8, 5, 0, 2, 1, 6, 4, 3, 3, 9, 6, 9, 8, 8, 5, 8, 6, 6, 2, 1, 7, 7, 1, 2, 7, 9, 9, 4, 4, 1, 2, 5, 6, 8, 7, 6, 8, 3, 0, 5, 5, 3, 0, 7, 9, 1, 3, 4, 4, 5, 3, 9, 5, 6, 9, 2, 1, 1, 4, 1, 9, 4, 7, 6, 3, 8, 9, 0, 1, 3, 6, 3, 6, 3, 2, 0, 3, 1, 0, 5, 9, 6, 4, 8, 9, 6, 9, 6, 3, 0, 3, 2, 2, 7, 8, 3, 8, 2, 7, 5, 7, 2, 4, 8, 7, 4, 2, 9, 8, 8, 6, 8, 8, 7, 4, 3, 3, 8, 4, 9, 4, 8, 8, 1, 8, 2, 1, 3, 6, 5, 4, 2, 7, 9, 9, 4, 1, 4, 1, 3, 2, 7, 0, 7, 9, 7, 6, 6, 2, 5, 9, 2, 9, 1, 2, 2, 6, 8, 2, 1, 3, 6, 6, 0, 1, 2, 7, 0, 5, 4, 6, 1, 6, 4, 0, 2, 2, 6, 0, 5, 9, 1, 7, 6, 7, 0, 3, 9, 6, 8, 3, 0, 3, 4, 7, 7, 1, 4, 7, 2, 7, 1, 4, 7, 4, 4, 8, 4, 7, 7, 5, 3, 7, 2, 0, 8, 9, 5, 8, 3, 6, 2, 0, 8, 7, 3, 7, 6, 5, 3, 1, 3, 2, 2, 5, 4, 1, 2, 9, 2, 7, 0, 7, 2, 1, 3, 2, 0, 2, 4, 7, 9, 8, 9, 0, 7, 7, 0, 7, 8, 4, 6, 3, 3, 0, 1, 3, 7, 0, 1, 3, 1, 4, 2, 3, 8, 4, 2, 3, 7, 8, 4, 3, 0, 9, 0, 0, 1, 0, 4, 4, 6, 7, 6, 1, 1, 3, 7, 3, 5, 2, 6, 6, 5, 8, 7, 1, 6, 8, 8, 5, 3, 0, 4, 0, 1, 3, 8, 8, 0, 6, 9, 9, 9, 5, 5, 8, 6, 0, 0, 4, 2, 3, 2, 7, 2, 2, 5, 9, 8, 9, 1, 7, 4, 0, 3, 0, 1, 3, 8, 3, 9, 6, 1, 4, 7, 0, 3, 7, 8, 9, 1, 1, 6, 6, 6, 6, 9, 1, 9, 9, 4, 2, 1, 7, 0, 6, 8, 1, 9, 2, 9, 0, 4, 7, 8, 3, 1, 2, 0, 1, 5, 8, 4, 6, 3, 8, 1, 3, 8, 5, 0, 8, 4, 8, 1, 1, 8, 9, 6, 0, 8, 6, 1, 3, 4, 1, 6, 0, 5, 1, 1, 0, 0, 3, 5, 0, 0, 6, 6, 3, 3, 6, 3, 6, 6, 0, 7, 2, 2, 7, 5, 5, 2, 8, 5, 2, 1, 1, 4, 3, 2, 0, 3, 1, 5, 3, 7, 6, 8, 9, 1, 6, 4, 9, 3, 9, 0, 9, 6, 3, 6, 0, 7, 3, 8, 0, 0, 0, 6, 6, 6, 9, 2, 5, 4, 4, 6, 3, 6, 0, 8, 6, 0, 6, 2, 7, 5, 1, 2, 7, 8, 8, 0, 9, 4, 9, 7, 2, 0, 2, 8, 3, 8, 9, 1, 5, 5, 4, 7, 5, 3, 8, 3, 3, 6, 2, 8, 4, 3, 7, 1, 2, 4, 1, 6, 9, 0, 5, 8, 6, 1, 8, 6, 1, 4, 2, 6, 2, 7, 2, 2, 0, 8, 6, 9, 1, 7, 1, 8, 8, 0, 7, 3, 8, 0, 3, 4, 3, 7, 7, 9, 2, 3, 1, 9, 1, 9, 6, 3, 3, 3, 1, 0, 6, 1, 4, 1, 0, 0, 1, 1, 6, 5, 4, 6, 2, 0, 7, 9, 8, 7, 2, 0, 6, 8, 1, 4, 3, 7, 0, 6, 1, 8, 5, 7, 8, 4, 8, 3, 9, 9, 9, 8, 7, 6, 6, 3, 5, 1, 5, 9, 1, 4, 1, 5, 7, 0, 1, 5, 2, 0, 8, 8, 5, 6, 7, 3, 2, 4, 7, 2, 5, 8, 2, 4, 9, 2, 1, 8, 1, 9, 8, 8, 8, 9, 0, 4, 3, 3, 1, 8, 4, 6, 3, 3, 5, 2, 2, 8, 3, 8, 9, 5, 8, 9, 8, 9, 1, 6, 5, 9, 4, 4, 8, 0, 7, 2, 9, 7, 4, 1, 6, 4, 4, 9, 1, 2, 5, 6, 0, 8, 6, 1, 9, 4, 5, 9, 5, 0, 7, 2, 0, 0, 4, 2, 6, 6, 5, 5, 2, 8, 1, 7, 3, 1, 4, 5, 6, 5, 1, 4, 7, 0, 9, 4, 3, 8, 2, 8, 4, 7, 2, 3, 1, 5, 2, 9, 8, 9, 7, 9, 5, 1, 4, 0, 8, 2, 3, 8, 9, 1, 1, 3, 2, 4, 9, 3, 1, 7, 4, 6, 2, 8, 9, 5, 3, 9, 5, 5, 6, 7, 2, 4, 6, 3, 1, 0, 7, 2, 5, 4, 7, 6, 1, 1, 9, 8, 1, 0, 1, 3, 1, 1, 1, 7, 3, 9, 6, 8, 4, 6, 8, 4, 9, 4, 7, 9, 7, 6, 8, 4, 9, 7, 0, 1, 6, 1, 5, 9, 0, 4, 3, 4, 1, 3, 0, 8, 4, 6, 2, 2, 6, 5, 3, 6, 2, 1, 1, 8, 6, 0, 4, 0, 1, 9, 7, 1, 3, 7, 7, 8, 7, 7, 3, 9, 7, 7, 7, 2, 1, 2, 8, 6, 4, 0, 7, 9, 8, 6, 8, 4, 9, 1, 7, 2, 2, 8, 5, 8, 1, 2, 2, 4, 1, 2, 5, 2, 8, 1, 8, 1, 8, 6, 0, 2, 4, 1, 3, 6, 7, 7, 4, 4, 3, 3, 4, 5, 2, 4, 3, 7, 8, 4, 4, 4, 5, 4, 3, 2, 8, 4, 5, 5, 4, 1, 4, 2, 5, 1, 6, 4, 3, 4, 4, 0, 8, 8, 4, 5, 7, 5, 6, 9, 1, 6, 7, 2, 0, 1, 4, 5, 6, 0, 0, 2, 7, 5, 6, 0, 6, 2, 9, 1, 7, 7, 5, 2, 5, 6, 4, 1, 4, 3, 3, 3, 0, 3, 5, 5, 8, 9, 7, 3, 1, 3, 3, 3, 4, 4, 2, 3, 3, 8, 1, 7, 7, 0, 7, 4, 5, 1, 4, 2, 4, 3, 9, 9, 4, 9, 9, 1, 8, 1, 6, 7, 5, 5, 4, 9, 7, 6, 5, 9, 2, 4, 0, 7, 8, 5, 5, 0, 0, 9, 9, 8, 2, 5, 4, 8, 3, 6, 3, 6, 0, 6, 6, 6, 9, 6, 6, 8, 6, 2, 4, 5, 8, 1, 2, 7, 6, 5, 7, 8, 1, 8, 0, 8, 6, 9, 2, 8, 9, 4, 0, 9, 4, 9, 5, 7, 5, 5, 9, 5, 3, 0, 1, 9, 7, 2, 4, 1, 0, 8, 0, 3, 1, 7, 0, 0, 4, 8, 6, 2, 4, 0, 0, 9, 0, 8, 4, 5, 9, 3, 9, 0, 5, 6, 5, 0, 1, 4, 8, 1, 0, 5, 2, 1, 0, 2, 8, 1, 5, 6, 7, 7, 2, 6, 2, 5, 0, 1, 4, 2, 5, 4, 6, 2, 2, 1, 7, 2, 8, 5, 5, 3, 0, 4, 8, 3, 7, 6, 3, 8, 1, 0, 1, 3, 3, 0, 7, 4, 9, 5, 3, 6, 0, 1, 4, 4, 4, 4, 2, 2, 5, 8, 1, 5, 9, 8, 1, 1, 5, 3, 9, 9, 7, 6, 5, 0, 8, 4, 7, 0, 9, 2, 8, 4, 7, 1, 3, 9, 6, 8, 9, 0, 4, 9, 6, 7, 8, 9, 4, 8, 9, 7, 2, 5, 3, 7, 1, 0, 2, 9, 5, 5, 8, 5, 4, 2, 8, 3, 5, 5, 7, 7, 8, 6, 2, 8, 2, 3, 5, 6, 8, 0, 2, 3, 7, 0, 1, 9, 1, 3, 7, 5, 8, 3, 2, 9, 6, 8, 6, 9, 3, 8, 9, 8, 0, 7, 8, 5, 0, 0, 1, 3, 9, 1, 5, 3, 4, 4, 0, 9, 9, 9, 9, 8, 2, 4, 2, 2, 5, 1, 9, 1, 0, 9, 4, 2, 1, 6, 0, 3, 7, 6, 3, 1, 8, 6, 5, 7, 2, 8, 4, 4, 8, 3, 5, 0, 5, 7, 4, 4, 2, 2, 7, 3, 6, 0, 2, 7, 6, 2, 3, 0, 7, 7, 8, 1, 1, 4, 6, 0, 6, 6, 5, 5, 6, 3, 9, 3, 6, 8, 7, 6, 4, 9, 5, 6, 4, 1, 6, 3, 8, 2, 3, 9, 8, 5, 1, 5, 4, 5, 7, 5, 7, 8, 9, 1, 7, 2, 5, 6, 8, 4, 6, 5, 3, 9, 9, 8, 5, 5, 6, 4, 5, 9, 7, 3, 4, 1, 4, 2, 3, 6, 5, 5, 2, 8, 0, 0, 1, 8, 3, 1, 3, 5, 8, 3, 8, 5, 8, 6, 3, 5, 5, 5, 0, 9, 5, 5, 7, 1, 8, 2, 2, 7, 3, 4, 2, 9, 6, 2, 2, 4, 3, 0, 2, 0, 1, 3, 2, 2, 7, 0, 1, 0, 7, 7, 2, 0, 1, 6, 5, 0, 2, 2, 0, 1, 2, 6, 0, 1, 6, 6, 5, 3, 4, 0, 0, 9, 1, 0, 2, 5, 9, 7, 8, 6, 4, 6, 0, 2, 0, 1, 9, 2, 4, 9, 0, 7, 2, 3, 4, 8, 0, 2, 6, 8, 9, 7, 1, 9, 3, 7, 2, 7, 9, 6, 9, 5, 7, 8, 5, 9, 8, 3, 9, 8, 0, 5, 5, 7, 1, 2, 0, 7, 5, 8, 2, 2, 5, 3, 9, 3, 1, 9, 3, 1, 4, 3, 4, 4, 9, 0, 9, 5, 9, 2, 9, 4, 0, 2, 8, 4, 8, 6, 8, 2, 0, 5, 9, 6, 9, 5, 1, 3, 4, 4, 2, 7, 2, 4, 4, 0, 2, 8, 4, 5, 1, 2, 6, 8, 1, 7, 2, 8, 7, 4, 3, 3, 0, 3, 7, 2, 5, 6, 1, 7, 9, 0, 2, 3, 9, 8, 9, 5, 0, 0, 7, 6, 3, 3, 8, 1, 4, 0, 1, 5, 4, 3, 2, 6, 0, 8, 8, 6, 3, 3, 2, 9, 7, 5, 1, 6, 0, 5, 9, 9, 4, 5, 9, 4, 8, 3, 3, 2, 5, 1, 9, 5, 5, 8, 1, 8, 9, 7, 0, 6, 3, 2, 0, 2, 6, 9, 3, 9, 1, 6, 6, 7, 2, 6, 3, 2, 5, 5, 2, 7, 5, 2, 0, 8, 0, 7, 7, 1, 7, 4, 0, 2, 2, 6, 1, 5, 9, 7, 6, 2, 7, 0, 5, 6, 0, 1, 1, 8, 4, 5, 3, 1, 2, 4, 8, 9, 8, 1, 7, 2, 7, 2, 3, 2, 6, 7, 9, 4, 0, 1, 0, 4, 5, 0, 8, 0, 7, 6, 1, 0, 8, 5, 9, 2, 5, 4, 4, 9, 0, 6, 1, 2, 5, 1, 6, 7, 1, 5, 8, 8, 0, 3, 9, 4, 0, 3, 4, 9, 2, 4, 3, 0, 6, 4, 5, 6, 6, 7, 8, 4, 8, 8, 3, 2, 8, 0, 2, 5, 6, 8, 7, 8, 9, 9, 0, 6, 6, 8, 1, 1, 7, 4, 4, 2, 3, 6, 9, 6, 2, 4, 1, 8, 2, 3, 1, 6, 8, 6, 8, 5, 9, 0, 1, 0, 2, 9, 2, 9, 0, 9, 7, 8, 5, 0, 6, 6, 8, 1, 6, 5, 8, 7, 9, 2, 1, 6, 7, 5, 6, 3, 0, 9, 8, 9, 5, 9, 9, 9, 3, 6, 4, 4, 8, 8, 1, 7, 3, 0, 6, 2, 4, 8, 2, 2, 9, 2, 2, 9, 7, 4, 1, 9, 1, 4, 3, 5, 3, 8, 9, 3, 6, 2, 0, 8, 9, 0, 5, 1, 5, 8, 2, 1, 2, 3, 2, 4, 8, 4, 0, 6, 4, 2, 9, 8, 4, 7, 6, 2, 4, 7, 7, 6, 4, 2, 2, 3, 2, 4, 9, 0, 0, 9, 6, 5, 8, 5, 2, 4, 8, 8, 6, 4, 5, 7, 6, 3, 7, 0, 4, 0, 5, 8, 2, 8, 0, 4, 9, 2, 3, 6, 8, 1, 6, 0, 8, 4, 3, 1, 4, 5, 2, 4, 3, 6, 0, 7, 1, 3, 5, 7, 1, 8, 0, 4, 8, 2, 7, 7, 0, 2, 2, 4, 3, 3, 1, 6, 1, 6, 4, 6, 7, 4, 7, 3, 8, 1, 3, 1, 4, 6, 5, 5, 7, 4, 5, 4, 9, 7, 7, 2, 3, 3, 6, 7, 4, 1, 6, 1, 0, 6, 9, 6, 0, 2, 0, 2, 4, 7, 0, 0, 0, 0, 7, 5, 3, 2, 7, 8, 5, 5, 2, 2, 8, 9, 1, 2, 2, 0, 3, 4, 9, 1, 6, 9, 0, 8, 3, 6, 4, 6, 7, 5, 1, 8, 9, 0, 5, 0, 5, 4, 3, 8, 5, 2, 0, 8, 5, 9, 2, 5, 6, 5, 7, 3, 7, 2, 8, 8, 4, 2, 1, 6, 2, 9, 9, 8, 2, 3, 1, 0, 5, 2, 3, 7, 9, 5, 9, 1, 1, 3, 2, 7, 4, 4, 1, 9, 4, 5, 5, 2, 7, 7, 6, 1, 2, 3, 7, 5, 4, 3, 7, 7, 0, 0, 1, 4, 4, 3, 7, 9, 8, 7, 0, 9, 0, 3, 7, 6, 3, 8, 4, 5, 6, 5, 3, 4, 2, 9, 2, 4, 9, 2, 0, 1, 1, 3, 7, 9, 5, 1, 6, 0, 3, 3, 7, 2, 4, 5, 2, 3, 6, 3, 3, 0, 4, 4, 3, 8, 1, 2, 3, 2, 7, 1, 4, 5, 6, 8, 6, 6, 5, 4, 2, 9, 9, 3, 2, 0, 4, 1, 5, 5, 6, 6, 5, 6, 9, 7, 9, 4, 8, 3, 1, 9, 8, 1, 9, 0, 3, 0, 4, 7, 7, 2, 6, 5, 6, 9, 7, 7, 5, 7, 0, 8, 6, 7, 8, 3, 8, 9, 3, 2, 9, 2, 7, 4, 1, 9, 7, 0, 8, 1, 2, 0, 6, 5, 1, 4, 2, 8, 2, 8, 3, 3, 1, 4, 9, 8, 1, 1, 7, 9, 9, 4, 6, 8, 5, 3, 2, 2, 3, 8, 5, 1, 9, 7, 9, 1, 5, 3, 1, 0, 3, 8, 9, 2, 0, 8, 0, 7, 9, 4, 8, 3, 0, 7, 0, 7, 0, 5, 5, 4, 3, 0, 9, 9, 0, 2, 2, 0, 8, 4, 4, 5, 2, 2, 1, 1, 5, 5, 4, 3, 4, 0, 8, 4, 8, 2, 5, 6, 5, 1, 7, 2, 4, 0, 5, 6, 8, 7, 6, 3, 1, 3, 6, 6, 4, 5, 5, 5, 1, 8, 7, 3, 0, 2, 5, 1, 1, 1, 6, 7, 2, 1, 2, 3, 9, 8, 3, 1, 7, 4, 8, 4, 7, 5, 8, 6, 0, 3, 0, 8, 3, 4, 4, 9, 4, 6, 1, 5, 7, 7, 9, 0, 1, 3, 1, 3, 2, 4, 0, 7, 8, 3, 1, 6, 2, 1, 8, 8, 1, 9, 7, 5, 3, 2, 9, 0, 6, 8, 4, 1, 5, 7, 2, 4, 7, 0, 4, 9, 0, 7, 0, 6, 7, 1, 8, 5, 8, 8, 7, 0, 0, 3, 2, 5, 7, 0, 6, 4, 4, 9, 1, 8, 6, 3, 9, 4, 9, 3, 3, 7, 5, 9, 7, 7, 4, 5, 8, 2, 8, 9, 5, 3, 1, 9, 2, 2, 0, 1, 1, 8, 1, 1, 9, 8, 9, 9, 0, 2, 6, 9, 1, 9, 0, 1, 9, 2, 9, 9, 9, 0, 9, 9, 2, 1, 7, 0, 5, 6, 3, 9, 8, 3, 0, 2, 7, 7, 4, 8, 3, 0, 5, 2, 3, 5, 7, 6, 6, 6, 5, 6, 5, 4, 5, 8, 8, 0, 9, 7, 9, 0, 6, 9, 6, 1, 4, 7, 9, 0, 3, 5, 4, 7, 6, 9, 8, 2, 3, 9, 3, 3, 7, 8, 3, 5, 5, 9, 6, 1, 4, 7, 4, 8, 7, 7, 1, 3, 0, 3, 2, 5, 4, 9, 3, 5, 4, 7, 0, 3, 7, 0, 2, 1, 5, 8, 7, 3, 5, 7, 8, 5, 7, 8, 1, 5, 4, 7, 0, 8, 3, 2, 9, 7, 4, 1, 6, 5, 9, 8, 5, 5, 4, 1, 0, 9, 4, 4, 3, 0, 4, 8, 0, 8, 2, 9, 5, 9, 7, 4, 6, 7, 9, 2, 9, 3, 7, 7, 8, 2, 2, 0, 2, 5, 3, 6, 4, 7, 2, 3, 7, 8, 7, 2, 5, 0, 0, 7, 0, 9, 6, 1, 0, 3, 9, 7, 4, 9, 1, 6, 8, 1, 2, 3, 3, 5, 4, 8, 9, 7, 4, 4, 1, 2, 4, 9, 8, 7, 9, 5, 1, 2, 1, 6, 6, 4, 5, 7, 4, 5, 8, 5, 2, 8, 7, 8, 2, 3, 6, 1, 3, 3, 1, 5, 1, 9, 0, 9, 2, 0, 6, 2, 4, 8, 5, 7, 6, 1, 2, 9, 4, 5, 0, 3, 3, 7, 7, 7, 1, 4, 5, 0, 2, 8, 5, 0, 0, 6, 2, 0, 8, 4, 5, 4, 5, 6, 4, 7, 9, 4, 2, 0, 6, 4, 0, 0, 6, 4, 6, 1, 9, 5, 5, 2, 2, 6, 3, 4, 5, 9, 1, 7, 2, 3, 9, 6, 5, 0, 2, 9, 7, 1, 7, 2, 2, 0, 8, 6, 4, 3, 2, 7, 7, 0, 4, 1, 6, 5, 1, 3, 0, 3, 9, 0, 0, 2, 5, 0, 4, 0, 1, 9, 8, 4, 9, 4, 2, 4, 3, 3, 4, 0, 4, 3, 2, 8, 9, 1, 5, 8, 1, 8, 2, 4, 5, 2, 4, 1, 1, 6, 6, 8, 5, 2, 2, 5, 0, 8, 2, 3, 6, 2, 9, 6, 1, 4, 5, 9, 0, 1, 0, 0, 8, 1, 1, 6, 6, 9, 5, 4, 1, 7, 8, 6, 9, 1, 7, 6, 0, 9, 3, 5, 3, 2, 5, 3, 4, 9, 7, 1, 4, 4, 6, 1, 3, 8, 8, 0, 6, 7, 7, 6, 7, 2, 3, 2, 2, 6, 2, 7, 4, 0, 3, 6, 2, 6, 3, 3, 0, 9, 5, 1, 1, 5, 3, 6, 4, 3, 4, 1, 0, 4, 5, 5, 2, 8, 9, 4, 3, 1, 8, 0, 1, 3, 3, 4, 4, 2, 9, 7, 6, 8, 1, 8, 9, 1, 3, 1, 7, 3, 0, 0, 2, 8, 3, 9, 2, 7, 2, 6, 0, 1, 6, 1, 6, 7, 5, 5, 2, 5, 9, 4, 0, 2, 3, 4, 9, 4, 1, 0, 0, 2, 3, 8, 9, 2, 8, 9, 5, 7, 9, 1, 4, 6, 2, 8, 4, 4, 8, 9, 3, 1, 1, 6, 5, 8, 4, 6, 4, 5, 2, 6, 4, 2, 3, 1, 3, 6, 8, 5, 2, 2, 7, 1, 6, 2, 5, 9, 2, 8, 1, 6, 9, 2, 7, 5, 3, 2, 9, 7, 0, 2, 9, 3, 4, 1, 7, 9, 5, 8, 9, 7, 3, 4, 0, 9, 7, 4, 2, 4, 7, 0, 1, 8, 1, 0, 4, 6, 1, 9, 9, 2, 1, 2, 5, 6, 9, 7, 7, 3, 4, 2, 0, 2, 5, 6, 7, 3, 7, 9, 4, 2, 0, 6, 1, 7, 5, 6, 5, 3, 9, 2, 7, 8, 5, 9, 5, 8, 5, 4, 3, 7, 9, 8, 1, 2, 2, 8, 9, 3, 0, 8, 4, 0, 2, 0, 1, 4, 1, 8, 5, 5, 7, 9, 8, 3, 7, 9, 1, 5, 6, 9, 8, 7, 2, 0, 9, 0, 8, 5, 9, 4, 2, 9, 8, 1, 9, 1, 8, 3, 7, 6, 4, 2, 3, 7, 0, 3, 5, 8, 8, 8, 7, 9, 6, 2, 7, 4, 5, 7, 6, 7, 1, 7, 3, 6, 8, 2, 6, 6, 7, 1, 5, 9, 7, 1, 7, 0, 1, 6, 3, 3, 9, 0, 1, 2, 3, 2, 2, 5, 4, 9, 8, 7, 4, 4, 9, 7, 6, 7, 7, 1, 2, 3, 5, 1, 9, 0, 3, 3, 1, 5, 6, 6, 2, 4, 6, 8, 8, 9, 6, 6, 1, 0, 7, 5, 8, 2, 1, 5, 8, 1, 4, 7, 5, 0, 3, 9, 9, 5, 2, 8, 4, 1, 9, 0, 4, 4, 8, 2, 9, 0, 7, 9, 8, 7, 1, 3, 2, 9, 9, 5, 9, 7, 6, 7, 7, 1, 1, 2, 4, 2, 0, 6, 8, 7, 6, 2, 2, 9, 8, 2, 4, 2, 0, 5, 8, 6, 8, 2, 7, 7, 3, 1, 8, 1, 6, 5, 9, 7, 8, 9, 6, 4, 8, 1, 9, 4, 0, 4, 1, 4, 3, 6, 2, 2, 7, 0, 0, 7, 0, 7, 4, 3, 6, 7, 7, 4, 5, 4, 3, 5, 5, 4, 7, 1, 0, 7, 7, 1, 6, 5, 0, 7, 7, 4, 6, 1, 8, 5, 9, 3, 5, 6, 2, 2, 7, 3, 5, 8, 1, 0, 6, 8, 7, 8, 8, 5, 7, 5, 4, 9, 7, 3, 3, 8, 8, 3, 9, 4, 7, 2, 0, 8, 0, 7, 3, 3, 2, 5, 2, 4, 4, 0, 4, 8, 2, 4, 0, 6, 4, 5, 6, 0, 8, 8, 0, 6, 1, 1, 6, 1, 4, 2, 1, 1, 2, 4, 4, 5, 5, 8, 8, 5, 1, 8, 2, 3, 3, 9, 6, 6, 5, 0, 7, 3, 3, 2, 7, 4, 5, 6, 0, 2, 1, 8, 1, 0, 9, 3, 1, 0, 5, 4, 2, 3, 3, 6, 7, 6, 0, 0, 5, 7, 4, 7, 7, 0, 6, 1, 3, 9, 0, 9, 0, 3, 8, 4, 8, 8, 4, 1, 0, 2, 2, 4, 1, 1, 2, 4, 3, 4, 1, 4, 7, 1, 0, 0, 9, 0, 4, 2, 8, 8, 5, 5, 0, 4, 0, 8, 6, 2, 5, 9, 2, 9, 1, 1, 5, 4, 7, 5, 8, 6, 2, 1, 5, 5, 3, 4, 1, 8, 9, 9, 8, 9, 8, 6, 8, 5, 8, 9, 4, 6, 2, 6, 3, 7, 4, 0, 0, 1, 7, 5, 1, 5, 9, 3, 1, 6, 8, 7, 3, 6, 9, 1, 2, 0, 1, 7, 2, 6, 1, 9, 0, 0, 8, 9, 9, 2, 8, 6, 2, 5, 6, 0, 3, 3, 0, 7, 4, 7, 5, 0, 1, 6, 8, 8, 1, 2, 1, 5, 4, 5, 9, 6, 7, 1, 0, 6, 9, 2, 7, 7, 3, 9, 9, 1, 9, 7, 0, 1, 3, 5, 4, 6, 3, 8, 8, 0, 4, 8, 3, 6, 7, 0, 0, 4, 5, 2, 6, 8, 4, 9, 9, 9, 2, 0, 4, 2, 8, 1, 1, 0, 0, 3, 7, 4, 1, 1, 9, 7, 7, 4, 6, 8, 6, 0, 2, 8, 5, 3, 5, 3, 5, 7, 9, 8, 4, 4, 3, 1, 4, 8, 3, 6, 5, 3, 0, 8, 9, 5, 7, 6, 2, 0, 4, 9, 9, 0, 5, 2, 3, 6, 1, 1, 0, 2, 8, 2, 1, 1, 7, 5, 2, 3, 4, 1, 2, 9, 2, 1, 3, 4, 8, 9, 0, 0, 4, 9, 0, 2, 2, 0, 6, 8, 7, 3, 3, 8, 9, 0, 2, 5, 3, 6, 1, 3, 9, 5, 0, 5, 4, 4, 0, 1, 1, 6, 1, 7, 9, 9, 6, 2, 4, 3, 8, 3, 4, 7, 0, 2, 8, 4, 8, 3, 8, 8, 8, 3, 3, 5, 7, 7, 0, 4, 1, 5, 9, 7, 0, 6, 8, 4, 9, 0, 1, 8, 9, 6, 3, 9, 2, 4, 4, 0, 3, 3, 5, 4, 5, 1, 1, 8, 2, 2, 9, 3, 7, 8, 9, 2, 3, 1, 7, 3, 2, 3, 0, 1, 9, 5, 5, 3, 4, 5, 2, 0, 0, 3, 1, 3, 4, 7, 4, 2, 8, 4, 8, 9, 9, 4, 2, 4, 3, 6, 4, 6, 4, 6, 6, 3, 8, 7, 4, 8, 0, 5, 9, 3, 9, 0, 7, 5, 1, 9, 7, 9, 1, 8, 4, 2, 1, 6, 4, 3, 0, 1, 4, 8, 6, 1, 7, 1, 3, 5, 4, 3, 3, 9, 7, 8, 2, 5, 5, 4, 5, 4, 5, 7, 2, 5, 5, 1, 7, 7, 8, 3, 6, 0, 2, 5, 2, 3, 7, 4, 2, 1, 6, 8, 6, 8, 3, 2, 7, 7, 9, 7, 1, 4, 7, 4, 6, 1, 7, 3, 0, 0, 6, 6, 8, 6, 6, 0, 3, 4, 7, 4, 9, 4, 9, 9, 3, 4, 1, 4, 0, 3, 7, 1, 2, 2, 8, 4, 7, 8, 5, 5, 6, 5, 6, 0, 6, 4, 9, 3, 2, 7, 3, 8, 3, 9, 4, 1, 6, 9, 9, 4, 3, 9, 8, 1, 6, 9, 5, 9, 0, 9, 7, 2, 2, 4, 2, 6, 4, 8, 1, 9, 5, 6, 5, 1, 8, 6, 6, 7, 6, 5, 0, 2, 7, 6, 1, 2, 3, 1, 6, 4, 9, 0, 3, 9, 1, 0, 5, 3, 1, 6, 9, 8, 9, 0, 6, 1, 6, 2, 3, 5, 6, 9, 0, 7, 2, 4, 0, 3, 6, 8, 6, 9, 1, 9, 0, 6, 4, 5, 9, 5, 4, 1, 9, 2, 0, 7, 3, 5, 1, 8, 3, 0, 5, 2, 8, 8, 3, 9, 6, 0, 3, 5, 3, 4, 1, 5, 0, 7, 3, 9, 4, 5, 3, 1, 4, 2, 4, 9, 9, 7, 1, 7, 0, 1, 2, 1, 5, 3, 8, 4, 1, 5, 1, 9, 9, 7, 0, 1, 7, 6, 2, 6, 5, 0, 3, 1, 3, 8, 9, 9, 0, 8, 8, 7, 9, 2, 9, 1, 3, 6, 7, 6, 0, 8, 6, 2, 4, 2, 3, 5, 5, 4, 1, 6, 7, 1, 6, 1, 7, 1, 6, 2, 3, 0, 4, 2, 9, 7, 5, 5, 6, 0, 8, 8, 1, 1, 3, 5, 6, 5, 3, 8, 7, 5, 0, 7, 7, 5, 7, 1, 9, 9, 1, 9, 9, 3, 5, 5, 3, 0, 3, 0, 6, 6, 5, 6, 8, 9, 4, 5, 1, 1, 2, 7, 9, 0, 1, 2, 5, 4, 4, 7, 4, 8, 3, 3, 5, 3, 5, 7, 0, 1, 2, 9, 8, 1, 7, 3, 5, 9, 1, 9, 1, 1, 3, 6, 7, 4, 8, 3, 5, 6, 7, 0, 1, 7, 7, 2, 3, 3, 5, 1, 7, 6, 8, 4, 4, 5, 7, 3, 4, 7, 7, 3, 6, 0, 7, 2, 6, 7, 4, 1, 8, 0, 2, 2, 1, 5, 4, 0, 9, 3, 4, 4, 2, 3, 8, 5, 0, 0, 4, 6, 3, 9, 2, 0, 5, 7, 5, 5, 1, 7, 3, 1, 6, 7, 9, 0, 1, 2, 1, 4, 6, 1, 5, 9, 5, 0, 4, 9, 4, 9, 7, 1, 6, 8, 0, 6, 5, 0, 8, 1, 7, 5, 6, 9, 3, 2, 3, 9, 8, 6, 1, 0, 9, 0, 9, 8, 7, 7, 5, 2, 3, 5, 5, 7, 8, 7, 6, 9, 1, 9, 8, 6, 5, 6, 7, 5, 6, 7, 2, 5, 9, 6, 6, 7, 0, 1, 0, 1, 3, 2, 5, 6, 1, 2, 5, 1, 9, 9, 8, 6, 8, 6, 8, 9, 0, 4, 0, 3, 3, 6, 4, 9, 9, 7, 2, 3, 5, 6, 4, 6, 0, 3, 7, 5, 0, 2, 9, 2, 7, 2, 9, 2, 4, 0, 6, 6, 3, 4, 5, 5, 9, 1, 1, 4, 4, 3, 5, 4, 8, 0, 0, 3, 9, 4, 7, 4, 2, 8, 3, 6, 3, 1, 9, 6, 3, 8, 3, 8, 4, 7, 5, 7, 5, 3, 1, 2, 6, 1, 3, 2, 0, 7, 5, 0, 0, 0, 1, 4, 3, 5, 8, 4, 3, 1, 7, 1, 0, 4, 2, 4, 1, 4, 0, 1, 2, 1, 7, 7, 9, 8, 7, 5, 4, 0, 9, 0, 0, 8, 2, 0, 0, 2, 4, 8, 6, 2, 4, 6, 3, 5, 1, 5, 3, 7, 2, 2, 9, 8, 0, 0, 0, 3, 4, 4, 6, 1, 6, 7, 4, 4, 3, 9, 4, 0, 8, 0, 4, 6, 5, 7, 9, 7, 0, 5, 7, 7, 3, 1, 9, 3, 0, 9, 5, 3, 7, 9, 4, 4, 1, 7, 7, 1, 4, 1, 2, 8, 7, 0, 0, 4, 7, 2, 9, 7, 6, 9, 3, 5, 8, 0, 3, 6, 8, 3, 2, 4, 7, 1, 1, 3, 9, 7, 5, 1, 0, 8, 7, 0, 1, 6, 9, 3, 2, 7, 7, 8, 1, 0, 3, 4, 6, 7, 5, 2, 0, 1, 5, 5, 1, 4, 1, 3, 0, 8, 6, 2, 1, 3, 6, 4, 1, 9, 0, 4, 1, 0, 1, 9, 8, 6, 9, 2, 4, 7, 2, 2, 7, 4, 9, 1, 3, 2, 6, 3, 4, 4, 9, 4, 8, 2, 6, 6, 1, 6, 3, 6, 5, 8, 4, 6, 7, 1, 9, 3, 6, 7, 6, 0, 7, 1, 9, 5, 2, 6, 7, 7, 6, 5, 9, 1, 5, 6, 0, 2, 0, 9, 1, 8, 3, 5, 0, 0, 0, 5, 7, 7, 8, 5, 5, 5, 1, 6, 1, 5, 1, 0, 6, 2, 3, 2, 1, 7, 5, 1, 9, 8, 3, 6, 9, 7, 3, 0, 2, 3, 9, 4, 4, 3, 9, 6, 8, 6, 6, 8, 5, 4, 3, 6, 7, 7, 4, 3, 9, 6, 2, 4, 0, 1, 3, 6, 4, 9, 2, 6, 0, 3, 8, 7, 5, 3, 3, 8, 3, 2, 6, 3, 6, 2, 7, 4, 5, 7, 9, 0, 0, 6, 7, 2, 8, 5, 5, 7, 5, 5, 9, 4, 6, 4, 7, 3, 3, 6, 4, 1, 6, 3, 1, 6, 7, 0, 5, 0, 1, 9, 7, 3, 5, 2, 3, 9, 5, 6, 4, 0, 0, 0, 8, 0, 3, 2, 4, 5, 3, 7, 9, 6, 9, 3, 1, 2, 6, 7, 4, 5, 1, 3, 7, 6, 9, 5, 8, 5, 8, 5, 8, 5, 6, 5, 0, 8, 3, 8, 1, 8, 1, 5, 0, 9, 8, 6, 3, 6, 3, 4, 4, 7, 4, 7, 4, 3, 2, 4, 5, 5, 7, 5, 4, 5, 8, 0, 5, 4, 0, 5, 4, 3, 3, 2, 4, 2, 9, 4, 8, 8, 6, 2, 6, 1, 7, 0, 4, 3, 8, 5, 9, 7, 6, 7, 1, 0, 2, 3, 5, 6, 7, 1, 6, 2, 8, 3, 7, 2, 5, 7, 5, 7, 7, 1, 7, 4, 3, 3, 4, 0, 4, 2, 7, 0, 2, 2, 6, 6, 2, 5, 2, 6, 0, 6, 1, 2, 9, 0, 0, 1, 5, 5, 1, 6, 7, 8, 5, 6, 3, 3, 6, 0, 9, 9, 2, 2, 6, 1, 4, 6, 2, 5, 7, 8, 8, 5, 6, 4, 3, 2, 3, 4, 4, 4, 8, 9, 2, 6, 0, 9, 7, 9, 8, 7, 7, 3, 8, 2, 9, 3, 5, 7, 5, 8, 7, 3, 7, 0, 7, 1, 6, 2, 4, 0, 0, 2, 9, 8, 2, 8, 7, 7, 5, 5, 0, 1, 2, 9, 6, 1, 0, 1, 0, 6, 5, 0, 5, 7, 4, 4, 8, 3, 5, 3, 7, 2, 5, 8, 3, 5, 7, 3, 7, 0, 5, 4, 5, 6, 9, 3, 5, 3, 8, 2, 4, 2, 2, 6, 7, 6, 0, 5, 5, 8, 4, 5, 6, 1, 3, 5, 4, 7, 3, 0, 7, 2, 0, 1, 2, 4, 9, 6, 4, 5, 9, 7, 7, 6, 7, 4, 3, 1, 6, 9, 4, 8, 0, 3, 1, 6, 4, 4, 2, 1, 4, 6, 3, 0, 8, 9, 7, 6, 8, 4, 8, 1, 4, 5, 9, 4, 7, 1, 4, 5, 3, 1, 2, 6, 4, 7, 1, 5, 9, 3, 1, 4, 8, 7, 7, 0, 4, 3, 4, 6, 7, 7, 5, 4, 4, 4, 3, 6, 6, 1, 9, 9, 7, 9, 4, 3, 2, 9, 8, 5, 0, 6, 9, 0, 9, 7, 8, 5, 4, 4, 9, 4, 2, 6, 6, 9, 9, 7, 9, 9, 0, 5, 1, 1, 8, 6, 9, 9, 5, 6, 5, 5, 9, 7, 9, 4, 5, 4, 3, 3, 9, 8, 8, 3, 4, 8, 4, 0, 4, 0, 7, 2, 8, 0, 2, 0, 7, 4, 0, 6, 3, 3, 1, 7, 4, 6, 5, 0, 4, 9, 5, 6, 6, 3, 0, 5, 2, 6, 3, 3, 8, 0, 8, 5, 4, 2, 9, 5, 0, 5, 4, 8, 2, 7, 6, 5, 7, 8, 2, 0, 1, 8, 2, 4, 8, 4, 3, 0, 4, 0, 1, 9, 3, 0, 3, 6, 5, 5, 2, 8, 5, 0, 8, 7, 5, 2, 4, 3, 7, 0, 2, 3, 1, 0, 0, 2, 1, 2, 1, 4, 6, 7, 1, 0, 5, 2, 5, 9, 2, 5, 6, 7, 1, 9, 3, 6, 1, 0, 2, 9, 4, 2, 9, 3, 8, 2, 9, 8, 5, 1, 0, 1, 5, 2, 5, 6, 8, 8, 3, 5, 0, 4, 1, 3, 7, 0, 3, 3, 9, 2, 3, 9, 9, 8, 5, 9, 7, 2, 0, 9, 4, 7, 1, 7, 6, 4, 4, 8, 9, 0, 7, 1, 2, 4, 0, 3, 7, 5, 1, 9, 3, 5, 2, 4, 1, 1, 3, 3, 9, 2, 5, 8, 0, 8, 1, 5, 1, 5, 9, 0, 9, 2, 4, 0, 6, 9, 1, 1, 3, 4, 9, 5, 3, 3, 3, 3, 4, 1, 5, 9, 8, 7, 4, 8, 7, 3, 5, 2, 5, 8, 9, 7, 2, 0, 0, 7, 5, 3, 5, 7, 4, 6, 2, 8, 2, 7, 7, 6, 1, 3, 8, 6, 2, 0, 4, 4, 8, 6, 4, 0, 2, 5, 4, 1, 2, 5, 4, 6, 9, 5, 0, 5, 2, 0, 8, 2, 6, 4, 7, 9, 5, 7, 2, 6, 2, 1, 9, 9, 7, 2, 5, 1, 8, 1, 6, 3, 0, 8, 8, 5, 6, 9, 9, 9, 6, 3, 0, 8, 8, 5, 3, 3, 1, 1, 0, 7, 0, 6, 0, 4, 4, 6, 5, 3, 2, 9, 6, 6, 7, 9, 7, 7, 0, 8, 4, 2, 7, 7, 7, 4, 0, 1, 6, 0, 5, 3, 0, 2, 4, 9, 7, 3, 3, 2, 8, 8, 5, 3, 8, 0, 8, 0, 0, 0, 2, 2, 7, 0, 7, 7, 7, 2, 2, 0, 4, 0, 3, 7, 8, 4, 7, 9, 6, 1, 1, 6, 9, 3, 8, 9, 5, 8, 3, 9, 4, 3, 7, 5, 5, 2, 7, 5, 7, 9, 6, 3, 0, 8, 4, 5, 6, 1, 0, 4, 8, 4, 7, 1, 3, 2, 0, 9, 1, 8, 8, 6, 8, 1, 7, 1, 0, 9, 7, 6, 4, 5, 8, 2, 1, 2, 5, 8, 1, 1, 8, 8, 0, 9, 0, 0, 4, 3, 3, 5, 6, 6, 3, 1, 4, 4, 7, 8, 0, 1, 4, 8, 4, 6, 2, 2, 2, 6, 3, 4, 0, 8, 1, 3, 8, 3, 8, 9, 1, 6, 1, 9, 8, 2, 0, 4, 7, 4, 0, 0, 7, 6, 8, 9, 8, 6, 2, 8, 8, 0, 1, 1, 0, 7, 7, 4, 4, 7, 7, 2, 6, 6, 7, 4, 5, 4, 0, 9, 4, 7, 2, 5, 3, 2, 2, 7, 6, 2, 6, 4, 9, 6, 8, 3, 8, 5, 5, 2, 3, 4, 5, 2, 7, 5, 1, 5, 3, 7, 8, 8, 9, 6, 0, 9, 2, 6, 0, 0, 1, 4, 1, 3, 5, 1, 8, 9, 6, 2, 6, 9, 5, 6, 5, 9, 1, 4, 2, 8, 9, 5, 4, 7, 0, 3, 7, 1, 6, 9, 1, 1, 4, 0, 5, 1, 6, 3, 0, 2, 5, 5, 5, 2, 8, 2, 3, 1, 6, 2, 7, 0, 8, 9, 2, 6, 4, 7, 5, 5, 8, 8, 7, 8, 5, 7, 4, 4, 0, 0, 7, 0, 4, 0, 4, 4, 2, 5, 4, 0, 7, 7, 7, 0, 4, 6, 2, 9, 1, 1, 5, 0, 9, 1, 0, 6, 5, 3, 0, 9, 0, 6, 2, 0, 4, 1, 6, 7, 6, 1, 0, 4, 6, 0, 4, 4, 2, 7, 6, 5, 3, 5, 9, 4, 5, 2, 0, 5, 7, 2, 3, 9, 4, 5, 8, 1, 9, 3, 1, 8, 5, 8, 6, 6, 3, 4, 0, 2, 3, 2, 6, 1, 8, 2, 1, 3, 6, 2, 2, 3, 3, 5, 0, 2, 1, 2, 8, 0, 8, 2, 2, 7, 3, 5, 9, 8, 3, 6, 1, 0, 8, 6, 3, 5, 8, 9, 4, 8, 0, 0, 2, 9, 1, 8, 3, 7, 2, 8, 0, 9, 4, 8, 9, 4, 8, 9, 5, 4, 8, 1, 5, 5, 7, 2, 5, 8, 8, 1, 2, 3, 1, 5, 0, 2, 3, 0, 8, 2, 2, 8, 7, 3, 5, 3, 9, 6, 3, 5, 1, 1, 7, 7, 3, 3, 8, 9, 6, 0, 8, 0, 6, 6, 4, 6, 9, 1, 1, 7, 0, 6, 8, 9, 0, 6, 9, 0, 1, 1, 7, 2, 1, 0, 4, 5, 0, 3, 6, 3, 3, 8, 1, 8, 1, 3, 1, 5, 4, 5, 1, 8, 9, 1, 3, 1, 7, 2, 9, 8, 9, 4, 6, 0, 9, 4, 0, 4, 6, 2, 1, 3, 0, 8, 5, 6, 0, 3, 4, 6, 9, 5, 7, 9, 0, 3, 6, 5, 7, 0, 5, 1, 2, 2, 9, 7, 0, 0, 1, 4, 4, 5, 5, 9, 6, 3, 6, 2, 6, 9, 3, 2, 3, 2, 4, 9, 5, 2, 1, 6, 6, 4, 7, 6, 3, 3, 8, 1, 4, 6, 4, 4, 5, 6, 2, 0, 5, 2, 7, 5, 2, 5, 2, 5, 9, 0, 6, 7, 9, 8, 3, 2, 1, 4, 3, 4, 5, 5, 6, 8, 6, 0, 8, 9, 8, 0, 7, 7, 6, 6, 7, 5, 9, 8, 7, 9, 5, 6, 0, 4, 8, 2, 0, 9, 1, 3, 9, 8, 3, 7, 4, 5, 0, 2, 1, 9, 1, 0, 5, 8, 4, 7, 3, 1, 4, 5, 3, 1, 0, 8, 8, 8, 2, 1, 3, 7, 3, 1, 6, 9, 1, 6, 0, 7, 7, 1, 3, 3, 3, 1, 0, 2, 7, 1, 2, 2, 9, 6, 3, 5, 9, 4, 8, 0, 4, 8, 0, 1, 3, 7, 0, 4, 7, 4, 8, 6, 4, 3, 9, 8, 2, 2, 8, 3, 1, 1, 2, 8, 2, 6, 9, 4, 8, 4, 4, 1, 5, 2, 6, 9, 2, 0, 7, 1, 8, 9, 3, 9, 9, 0, 7, 7, 5, 4, 2, 6, 4, 5, 7, 7, 8, 7, 2, 6, 2, 2, 4, 4, 0, 7, 1, 3, 9, 6, 0, 0, 2, 3, 8, 2, 2, 4, 3, 5, 2, 9, 1, 0, 0, 6, 5, 5, 7, 9, 9, 6, 5, 5, 0, 5, 7, 1, 6, 6, 4, 1, 4, 4, 1, 5, 0, 0, 4, 5, 8, 4, 8, 3, 0, 5, 0, 5, 3, 1, 6, 7, 0, 9, 1, 5, 7, 6, 5, 5, 5, 6, 0, 0, 1, 7, 5, 1, 9, 2, 4, 1, 3, 7, 8, 2, 0, 9, 6, 6, 0, 6, 5, 8, 2, 7, 4, 0, 2, 7, 7, 8, 8, 7, 0, 4, 9, 1, 4, 4, 3, 5, 4, 6, 2, 3, 1, 0, 3, 3, 3, 6, 3, 1, 2, 8, 9, 7, 9, 3, 8, 7, 3, 1, 7, 7, 3, 2, 2, 8, 9, 5, 9, 2, 1, 7, 4, 4, 0, 5, 7, 1, 5, 4, 0, 8, 4, 9, 8, 7, 8, 4, 2, 3, 4, 0, 5, 4, 1, 8, 2, 5, 4, 5, 2, 5, 3, 7, 9, 7, 1, 4, 1, 3, 1, 4, 5, 5, 1, 7, 1, 3, 0, 1, 2, 5, 7, 0, 6, 3, 5, 7, 5, 5, 8, 9, 4, 6, 3, 6, 6, 8, 2, 6, 4, 8, 4, 1, 3, 1, 2, 3, 3, 0, 1, 6, 4, 2, 8, 2, 4, 3, 1, 4, 4, 4, 4, 1, 5, 5, 7, 6, 5, 4, 5, 6, 5, 6, 2, 4, 7, 7, 4, 6, 5, 0, 2, 3, 9, 2, 3, 8, 0, 7, 0, 6, 8, 1, 2, 8, 9, 1, 5, 4, 2, 3, 5, 5, 3, 6, 5, 0, 3, 2, 1, 3, 3, 7, 7, 4, 9, 4, 3, 9, 5, 1, 7, 6, 6, 4, 8, 5, 1, 2, 8, 4, 5, 3, 3, 3, 0, 4, 8, 7, 7, 9, 4, 8, 4, 5, 9, 1, 8, 3, 1, 3, 8, 0, 3, 5, 4, 6, 9, 2, 7, 2, 0, 5, 2, 9, 7, 5, 0, 7, 0, 3, 5, 5, 3, 8, 7, 7, 9, 6, 5, 8, 9, 0, 1, 9, 4, 0, 0, 1, 7, 2, 2, 8, 5, 9, 8, 2, 8, 0, 6, 6, 8, 6, 9, 6, 1, 1, 5, 3, 5, 0, 7, 6, 1, 4, 4, 1, 1, 8, 1, 1, 2, 3, 4, 9, 9, 5, 2, 7, 3, 3, 6, 9, 6, 9, 8, 8, 6, 7, 4, 7, 2, 3, 8, 0, 9, 0, 7, 8, 1, 2, 3, 2, 4, 2, 9, 0, 3, 8, 9, 6, 5, 5, 2, 4, 1, 0, 6, 1, 8, 4, 5, 5, 5, 0, 8, 9, 0, 5, 7, 9, 6, 3, 4, 6, 4, 9, 7, 1, 2, 5, 2, 8, 0, 2, 2, 9, 8, 1, 9, 7, 7, 3, 1, 4, 1, 1, 3, 8, 8, 1, 9, 3, 8, 9, 5, 1, 1, 6, 2, 7, 2, 6, 2, 6, 9, 6, 0, 1, 3, 9, 3, 8, 8, 8, 2, 9, 1, 2, 6, 0, 5, 0, 7, 7, 7, 9, 4, 5, 0, 2, 3, 5, 5, 8, 9, 1, 2, 7, 1, 3, 4, 6, 9, 1, 0, 7, 1, 9, 5, 8, 1, 9, 9, 7, 9, 8, 3, 0, 2, 6, 0, 2, 2, 4, 0, 8, 4, 8, 1, 2, 7, 2, 7, 9, 5, 2, 2, 9, 2, 6, 5, 7, 2, 5, 6, 5, 1, 8, 2, 6, 8, 6, 3, 0, 8, 0, 0, 9, 9, 6, 8, 0, 6, 6, 0, 7, 9, 8, 0, 5, 0, 9, 6, 0, 4, 7, 1, 7, 8, 8, 2, 3, 9, 6, 5, 5, 3, 1, 5, 3, 0, 2, 5, 2, 7, 3, 8, 4, 4, 6, 1, 9, 4, 1, 7, 0, 1, 4, 3, 0, 2, 9, 4, 5, 0, 3, 4, 7, 2, 3, 0, 1, 3, 7, 9, 9, 0, 7, 5, 6, 7, 1, 2, 2, 7, 4, 6, 8, 4, 9, 8, 4, 9, 2, 3, 4, 0, 2, 5, 6, 0, 5, 3, 5, 8, 3, 7, 4, 9, 5, 6, 3, 8, 6, 9, 8, 5, 5, 8, 3, 5, 9, 0, 4, 2, 0, 5, 9, 9, 3, 8, 0, 6, 0, 2, 3, 7, 0, 0, 6, 9, 1, 5, 2, 2, 7, 9, 3, 9, 3, 5, 2, 2, 2, 8, 8, 5, 0, 0, 7, 0, 3, 1, 6, 5, 0, 9, 2, 6, 7, 4, 2, 0, 0, 5, 3, 3, 2, 6, 4, 2, 7, 8, 0, 1, 0, 1, 3, 6, 4, 8, 0, 6, 0, 9, 1, 6, 2, 1, 0, 1, 3, 0, 3, 7, 9, 9, 3, 7, 5, 7, 1, 6, 6, 1, 1, 1, 4, 4, 2, 1, 7, 0, 1, 2, 1, 1, 3, 2, 6, 9, 1, 3, 2, 0, 8, 7, 3, 4, 6, 4, 6, 9, 4, 8, 9, 3, 0, 5, 7, 2, 0, 2, 9, 9, 3, 8, 7, 1, 1, 2, 2, 2, 5, 9, 1, 2, 6, 1, 2, 1, 8, 9, 2, 3, 1, 9, 9, 4, 4, 5, 5, 0, 3, 3, 7, 1, 7, 7, 9, 8, 6, 3, 5, 5, 1, 6, 2, 7, 8, 4, 3, 3, 5, 9, 6, 8, 5, 1, 0, 6, 7, 0, 9, 6, 2, 0, 8, 7, 1, 2, 6, 9, 1, 6, 4, 7, 1, 9, 0, 0, 5, 2, 8, 3, 8, 2, 8, 4, 0, 8, 3, 6, 1, 2, 3, 0, 5, 0, 4, 1, 7, 2, 0, 1, 3, 9, 1, 6, 1, 6, 1, 2, 8, 7, 0, 9, 5, 8, 0, 0, 1, 7, 9, 7, 1, 9, 2, 1, 9, 4, 3, 6, 0, 2, 0, 0, 9, 9, 8, 9, 4, 5, 4, 3, 0, 7, 8, 7, 3, 7, 5, 4, 6, 5, 9, 5, 2, 4, 2, 7, 9, 6, 7, 4, 7, 1, 2, 3, 1, 1, 3, 6, 8, 3, 7, 7, 0, 8, 1, 5, 2, 5, 5, 3, 6, 3, 5, 9, 8, 4, 6, 8, 0, 4, 1, 7, 8, 4, 9, 7, 2, 6, 3, 8, 8, 6, 7, 3, 8, 1, 1, 5, 3, 7, 9, 9, 9, 8, 5, 9, 9, 6, 8, 8, 4, 8, 1, 0, 1, 8, 8, 6, 5, 9, 0, 6, 1, 2, 6, 6, 3, 5, 6, 5, 5, 3, 3, 6, 8, 9, 4, 4, 3, 8, 3, 6, 0, 8, 5, 7, 8, 4, 6, 5, 3, 1, 8, 3, 0, 4, 4, 3, 3, 5, 3, 3, 2, 7, 7, 8, 2, 0, 5, 5, 6, 1, 1, 3, 9, 9, 3, 6, 7, 1, 8, 3, 9, 8, 7, 8, 8, 0, 3, 2, 4, 8, 7, 5, 7, 1, 8, 7, 3, 5, 4, 4, 3, 8, 6, 1, 1, 6, 3, 2, 2, 8, 9, 8, 3, 3, 8, 1, 1, 0, 5, 2, 0, 5, 0, 5, 8, 6, 3, 9, 6, 6, 3, 9, 4, 8, 3, 4, 3, 1, 1, 2, 9, 7, 8, 5, 5, 8, 6, 9, 0, 8, 3, 5, 1, 3, 3, 5, 5, 3, 8, 1, 4, 6, 4, 2, 4, 3, 8, 9, 6, 6, 6, 5, 5, 2, 7, 7, 4, 4, 9, 3, 8, 3, 7, 7, 8, 5, 3, 9, 1, 6, 7, 3, 3, 3, 8, 5, 6, 1, 3, 7, 9, 6, 1, 6, 4, 9, 0, 5, 7, 4, 9, 1, 0, 0, 2, 7, 8, 3, 2, 7, 6, 1, 6, 6, 4, 4, 2, 1, 8, 4, 4, 7, 8, 5, 8, 9, 4, 3, 2, 2, 9, 3, 0, 1, 1, 1, 1, 6, 8, 7, 1, 3, 0, 4, 5, 0, 3, 0, 6, 2, 0, 9, 8, 6, 8, 5, 8, 2, 9, 6, 0, 6, 1, 8, 7, 3, 2, 2, 6, 5, 6, 9, 2, 5, 4, 9, 8, 5, 3, 9, 3, 5, 7, 1, 8, 5, 8, 6, 2, 5, 1, 3, 0, 4, 1, 9, 5, 4, 9, 2, 1, 4, 2, 5, 9, 8, 7, 2, 1, 6, 9, 7, 3, 6, 5, 8, 0, 2, 2, 4, 9, 0, 5, 5, 4, 2, 3, 1, 0, 3, 0, 4, 4, 9, 1, 3, 3, 0, 2, 1, 1, 0, 4, 1, 9, 4, 8, 1, 1, 1, 5, 9, 8, 1, 6, 7, 2, 9, 9, 7, 8, 8, 1, 9, 7, 8, 9, 1, 6, 6, 3, 3, 1, 3, 0, 8, 8, 3, 6, 6, 7, 1, 0, 7, 6, 4, 8, 2, 0, 6, 6, 8, 6, 3, 1, 1, 8, 6, 7, 0, 5, 4, 3, 2, 1, 7, 8, 2, 0, 1, 7, 4, 8, 7, 6, 6, 7, 0, 6, 4, 9, 2, 3, 2, 1, 3, 8, 6, 8, 1, 9, 6, 7, 6, 5, 0, 6, 0, 1, 3, 1, 1, 5, 3, 4, 3, 3, 8, 1, 6, 6, 1, 8, 8, 6, 2, 7, 4, 6, 8, 9, 3, 3, 5, 5, 3, 1, 4, 1, 9, 5, 1, 7, 7, 7, 5, 2, 3, 3, 6, 6, 6, 4, 0, 7, 1, 7, 3, 0, 8, 1, 2, 4, 1, 2, 2, 4, 9, 8, 2, 8, 7, 6, 3, 4, 7, 2, 3, 1, 5, 3, 0, 4, 3, 4, 9, 4, 7, 9, 1, 7, 8, 3, 1, 8, 3, 2, 5, 7, 2, 7, 9, 6, 8, 6, 8, 6, 5, 9, 0, 4, 8, 5, 6, 4, 3, 8, 0, 4, 8, 6, 7, 2, 7, 1, 7, 4, 1, 2, 4, 2, 2, 8, 7, 2, 2, 6, 7, 5, 6, 8, 9, 9, 6, 5, 2, 9, 8, 7, 2, 3, 3, 7, 4, 3, 2, 1, 9, 0, 1, 5, 3, 2, 6, 5, 9, 1, 5, 4, 3, 6, 2, 8, 9, 7, 8, 0, 8, 9, 1, 2, 5, 7, 2, 0, 6, 6, 1, 6, 3, 1, 5, 0, 3, 7, 4, 6, 5, 6, 4, 8, 3, 4, 5, 5, 0, 6, 6, 7, 5, 0, 9, 9, 6, 1, 0, 4, 6, 3, 6, 9, 3, 6, 6, 8, 2, 1, 0, 1, 9, 3, 7, 4, 3, 0, 2, 7, 6, 4, 3, 0, 8, 2, 0, 0, 9, 6, 6, 6, 8, 7, 4, 1, 8, 1, 2, 2, 4, 8, 5, 2, 6, 5, 3, 9, 1, 0, 7, 2, 4, 4, 0, 0, 6, 2, 2, 4, 0, 5, 9, 7, 1, 8, 4, 5, 5, 9, 8, 5, 7, 8, 0, 9, 8, 9, 1, 6, 3, 8, 0, 3, 4, 4, 8, 4, 8, 9, 8, 6, 0, 0, 8, 2, 7, 4, 2, 5, 6, 0, 5, 8, 4, 1, 9, 0, 1, 4, 4, 8, 4, 9, 6, 0, 7, 7, 6, 8, 9, 6, 2, 0, 4, 9, 4, 9, 3, 9, 6, 6, 7, 0, 9, 7, 1, 8, 6, 0, 6, 7, 4, 1, 9, 4, 6, 7, 9, 8, 3, 9, 2, 1, 2, 7, 6, 1, 0, 0, 5, 6, 0, 4, 3, 2, 8, 8, 0, 6, 9, 5, 2, 8, 7, 0, 6, 5, 9, 7, 2, 3, 6, 9, 6, 2, 2, 4, 1, 0, 5, 0, 8, 9, 3, 5, 9, 3, 8, 1, 6, 3, 7, 5, 6, 2, 0, 2, 8, 2, 8, 7, 7, 8, 1, 0, 8, 9, 7, 0, 3, 8, 0, 5, 9, 5, 8, 4, 2, 0, 9, 2, 2, 4, 4, 9, 2, 2, 2, 5, 1, 3, 2, 0, 0, 4, 0, 6, 5, 8, 0, 5, 8, 6, 4, 8, 5, 2, 9, 7, 9, 7, 1, 0, 1, 9, 6, 9, 2, 7, 9, 4, 4, 0, 6, 2, 4, 1, 3, 7, 2, 8, 5, 9, 0, 3, 2, 3, 2, 7, 6, 3, 2, 5, 9, 0, 5, 9, 9, 8, 7, 7, 4, 8, 6, 5, 2, 3, 1, 0, 4, 1, 8, 8, 4, 9, 4, 4, 3, 3, 9, 2, 0, 1, 1, 8, 4, 4, 8, 3, 2, 9, 5, 7, 6, 2, 5, 4, 7, 3, 3, 9, 0, 1, 5, 9, 3, 7, 6, 0, 4, 2, 2, 5, 6, 3, 8, 9, 5, 6, 1, 4, 5, 4, 6, 7, 2, 1, 0, 2, 0, 4, 9, 8, 8, 9, 1, 1, 5, 0, 0, 8, 7, 1, 7, 4, 5, 4, 3, 3, 2, 0, 6, 6, 0, 1, 3, 9, 8, 3, 7, 8, 9, 4, 8, 9, 0, 9, 7, 1, 6, 2, 9, 5, 6, 9, 3, 9, 8, 7, 7, 1, 6, 5, 3, 1, 3, 1, 2, 7, 1, 8, 2, 0, 9, 7, 9, 8, 8, 6, 7, 3, 7, 1, 3, 9, 0, 9, 3, 6, 7, 2, 7, 3, 0, 5, 9, 7, 5, 5, 0, 6, 5, 1, 8, 2, 7, 5, 9, 0, 0, 0, 8, 8, 7, 3, 7, 8, 9, 3, 7, 9, 7, 8, 7, 9, 8, 5, 4, 8, 3, 7, 6, 3, 8, 2, 1, 9, 5, 7, 3, 9, 5, 5, 8, 7, 3, 5, 3, 5, 9, 7, 6, 7, 3, 6, 4, 3, 9, 4, 2, 1, 9, 6, 0, 2, 6, 7, 4, 7, 9, 0, 7, 4, 3, 5, 3, 1, 1, 2, 6, 8, 2, 1, 7, 8, 5, 9, 6, 1, 1, 5, 0, 6, 0, 9, 2, 6, 5, 8, 9, 5, 5, 6, 2, 9, 1, 5, 8, 8, 7, 1, 7, 3, 5, 4, 9, 7, 5, 2, 9, 9, 4, 7, 4, 1, 3, 8, 7, 9, 0, 4, 5, 7, 5, 2, 8, 7, 6, 9, 6, 9, 3, 8, 5, 6, 6, 9, 5, 7, 8, 0, 5, 0, 7, 4, 8, 2, 5, 1, 3, 2, 2, 6, 2, 1, 7, 4, 6, 3, 1, 3, 7, 2, 1, 3, 7, 0, 8, 4, 4, 5, 7, 9, 5, 4, 3, 9, 6, 8, 2, 3, 3, 1, 6, 1, 7, 0, 3, 4, 2, 9, 4, 5, 8, 2, 7, 0, 9, 6, 8, 0, 8, 2, 8, 5, 7, 7, 2, 2, 0, 0, 0, 7, 4, 1, 6, 6, 8, 8, 9, 0, 9, 0, 1, 3, 3, 0, 9, 6, 6, 2, 6, 3, 4, 0, 8, 4, 1, 4, 0, 6, 5, 0, 9, 9, 9, 9, 1, 2, 3, 5, 4, 2, 9, 6, 0, 9, 6, 6, 8, 0, 6, 1, 4, 6, 8, 0, 5, 4, 1, 2, 0, 9, 6, 4, 2, 4, 6, 5, 9, 7, 7, 4, 6, 5, 0, 1, 9, 0, 3, 1, 9, 0, 9, 7, 8, 6, 7, 6, 8, 2, 4, 5, 3, 0, 3, 2, 1, 7, 5, 9, 3, 4, 5, 7, 1, 5, 0, 1, 1, 1, 9, 7, 5, 4, 9, 7, 8, 1, 0, 2, 8, 5, 6, 7, 0, 1, 4, 8, 4, 4, 6, 6, 5, 8, 1, 8, 4, 6, 5, 9, 2, 2, 1, 4, 9, 1, 6, 7, 2, 0, 1, 7, 6, 5, 2, 2, 5, 6, 0, 9, 0, 1, 5, 3, 3, 5, 8, 7, 5, 6, 5, 8, 0, 5, 9, 4, 6, 5, 1, 1, 0, 3, 3, 9, 4, 8, 1, 7, 7, 9, 9, 4, 3, 6, 3, 2, 8, 2, 7, 6, 7, 0, 2, 1, 2, 9, 4, 6, 9, 6, 1, 0, 1, 8, 7, 0, 0, 4, 7, 4, 2, 6, 9, 5, 9, 0, 7, 4, 5, 8, 1, 4, 7, 9, 9, 8, 8, 6, 3, 7, 0, 8, 9, 6, 2, 4, 6, 2, 9, 7, 4, 6, 8, 5, 6, 1, 3, 5, 9, 9, 1, 3, 2, 0, 3, 0, 2, 0, 7, 3, 9, 3, 5, 7, 6, 5, 9, 5, 6, 1, 2, 4, 0, 2, 7, 8, 4, 4, 0, 9, 5, 9, 2, 9, 3, 2, 4, 3, 2, 2, 8, 8, 6, 8, 1, 6, 8, 9, 8, 2, 1, 4, 9, 1, 5, 7, 1, 6, 0, 1, 5, 2, 8, 1, 1, 3, 8, 1, 3, 1, 8, 5, 1, 9, 0, 3, 0, 4, 0, 5, 1, 2, 0, 4, 9, 5, 1, 2, 2, 7, 8, 7, 2, 4, 5, 3, 4, 0, 6, 1, 5, 9, 8, 0, 2, 0, 7, 6, 0, 5, 9, 7, 5, 0, 4, 6, 0, 6, 3, 6, 8, 1, 1, 8, 9, 7, 2, 9, 0, 2, 2, 9, 0, 6, 5, 7, 7, 9, 1, 7, 9, 8, 4, 5, 0, 8, 0, 2, 5, 2, 1, 4, 4, 8, 9, 7, 8, 3, 6, 6, 0, 1, 1, 1, 8, 1, 4, 4, 0, 7, 8, 2, 1, 2, 5, 4, 6, 0, 5, 7, 4, 4, 3, 9, 5, 8, 8, 0, 8, 7, 4, 1, 8, 4, 9, 5, 4, 1, 7, 7, 7, 7, 0, 3, 8, 3, 3, 0, 5, 7, 0, 8, 0, 0, 9, 2, 2, 3, 4, 8, 2, 2, 6, 3, 3, 6, 2, 9, 4, 0, 1, 7, 5, 5, 7, 3, 0, 4, 2, 0, 7, 5, 8, 0, 8, 2, 7, 0, 3, 5, 3, 8, 3, 5, 1, 7]\n"
          ]
        }
      ],
      "source": [
        "print(y_pred)\n",
        "print(y_true)"
      ]
    },
    {
      "cell_type": "code",
      "execution_count": 15,
      "metadata": {
        "id": "YVVlD8XgWlQC"
      },
      "outputs": [],
      "source": [
        "from sklearn.metrics import confusion_matrix\n",
        "\n",
        "cf_matrix = confusion_matrix(y_true, y_pred)"
      ]
    },
    {
      "cell_type": "code",
      "execution_count": 16,
      "metadata": {
        "id": "AHEx5Q-XWlML"
      },
      "outputs": [],
      "source": [
        "import pandas as pd\n",
        "\n",
        "class_names = ('airplane', 'automobile', 'bird', 'cat', 'deer', 'dog', 'frog', 'horse', 'ship', 'truck')\n",
        "\n",
        "dataframe = pd.DataFrame(cf_matrix, index=class_names, columns=class_names) # Create pandas dataframe"
      ]
    },
    {
      "cell_type": "code",
      "execution_count": 17,
      "metadata": {
        "colab": {
          "base_uri": "https://localhost:8080/",
          "height": 363
        },
        "id": "vyJfk6xkZKcu",
        "outputId": "f1731a93-36c8-42fc-949c-50cd153aad44"
      },
      "outputs": [
        {
          "output_type": "execute_result",
          "data": {
            "text/plain": [
              "            airplane  automobile  bird  cat  deer  dog  frog  horse  ship  \\\n",
              "airplane         869           8    38   18    13    1     4      5    30   \n",
              "automobile         8         921     1    4     3    2     4      3    17   \n",
              "bird              49           0   763   39    50   46    32     15     4   \n",
              "cat               20           2    54  698    41  109    44     21     9   \n",
              "deer              10           3    42   36   829   18    28     27     5   \n",
              "dog                6           0    27  138    25  748    11     41     2   \n",
              "frog               3           3    21   43    19   12   888      2     4   \n",
              "horse             15           2    15   30    35   37     1    856     1   \n",
              "ship              40           8    13   11     1    0     2      4   907   \n",
              "truck             25          53     1    6     2    0     4     10    13   \n",
              "\n",
              "            truck  \n",
              "airplane       14  \n",
              "automobile     37  \n",
              "bird            2  \n",
              "cat             2  \n",
              "deer            2  \n",
              "dog             2  \n",
              "frog            5  \n",
              "horse           8  \n",
              "ship           14  \n",
              "truck         886  "
            ],
            "text/html": [
              "\n",
              "  <div id=\"df-ef7c1563-256b-4102-a798-02a1e4378883\">\n",
              "    <div class=\"colab-df-container\">\n",
              "      <div>\n",
              "<style scoped>\n",
              "    .dataframe tbody tr th:only-of-type {\n",
              "        vertical-align: middle;\n",
              "    }\n",
              "\n",
              "    .dataframe tbody tr th {\n",
              "        vertical-align: top;\n",
              "    }\n",
              "\n",
              "    .dataframe thead th {\n",
              "        text-align: right;\n",
              "    }\n",
              "</style>\n",
              "<table border=\"1\" class=\"dataframe\">\n",
              "  <thead>\n",
              "    <tr style=\"text-align: right;\">\n",
              "      <th></th>\n",
              "      <th>airplane</th>\n",
              "      <th>automobile</th>\n",
              "      <th>bird</th>\n",
              "      <th>cat</th>\n",
              "      <th>deer</th>\n",
              "      <th>dog</th>\n",
              "      <th>frog</th>\n",
              "      <th>horse</th>\n",
              "      <th>ship</th>\n",
              "      <th>truck</th>\n",
              "    </tr>\n",
              "  </thead>\n",
              "  <tbody>\n",
              "    <tr>\n",
              "      <th>airplane</th>\n",
              "      <td>869</td>\n",
              "      <td>8</td>\n",
              "      <td>38</td>\n",
              "      <td>18</td>\n",
              "      <td>13</td>\n",
              "      <td>1</td>\n",
              "      <td>4</td>\n",
              "      <td>5</td>\n",
              "      <td>30</td>\n",
              "      <td>14</td>\n",
              "    </tr>\n",
              "    <tr>\n",
              "      <th>automobile</th>\n",
              "      <td>8</td>\n",
              "      <td>921</td>\n",
              "      <td>1</td>\n",
              "      <td>4</td>\n",
              "      <td>3</td>\n",
              "      <td>2</td>\n",
              "      <td>4</td>\n",
              "      <td>3</td>\n",
              "      <td>17</td>\n",
              "      <td>37</td>\n",
              "    </tr>\n",
              "    <tr>\n",
              "      <th>bird</th>\n",
              "      <td>49</td>\n",
              "      <td>0</td>\n",
              "      <td>763</td>\n",
              "      <td>39</td>\n",
              "      <td>50</td>\n",
              "      <td>46</td>\n",
              "      <td>32</td>\n",
              "      <td>15</td>\n",
              "      <td>4</td>\n",
              "      <td>2</td>\n",
              "    </tr>\n",
              "    <tr>\n",
              "      <th>cat</th>\n",
              "      <td>20</td>\n",
              "      <td>2</td>\n",
              "      <td>54</td>\n",
              "      <td>698</td>\n",
              "      <td>41</td>\n",
              "      <td>109</td>\n",
              "      <td>44</td>\n",
              "      <td>21</td>\n",
              "      <td>9</td>\n",
              "      <td>2</td>\n",
              "    </tr>\n",
              "    <tr>\n",
              "      <th>deer</th>\n",
              "      <td>10</td>\n",
              "      <td>3</td>\n",
              "      <td>42</td>\n",
              "      <td>36</td>\n",
              "      <td>829</td>\n",
              "      <td>18</td>\n",
              "      <td>28</td>\n",
              "      <td>27</td>\n",
              "      <td>5</td>\n",
              "      <td>2</td>\n",
              "    </tr>\n",
              "    <tr>\n",
              "      <th>dog</th>\n",
              "      <td>6</td>\n",
              "      <td>0</td>\n",
              "      <td>27</td>\n",
              "      <td>138</td>\n",
              "      <td>25</td>\n",
              "      <td>748</td>\n",
              "      <td>11</td>\n",
              "      <td>41</td>\n",
              "      <td>2</td>\n",
              "      <td>2</td>\n",
              "    </tr>\n",
              "    <tr>\n",
              "      <th>frog</th>\n",
              "      <td>3</td>\n",
              "      <td>3</td>\n",
              "      <td>21</td>\n",
              "      <td>43</td>\n",
              "      <td>19</td>\n",
              "      <td>12</td>\n",
              "      <td>888</td>\n",
              "      <td>2</td>\n",
              "      <td>4</td>\n",
              "      <td>5</td>\n",
              "    </tr>\n",
              "    <tr>\n",
              "      <th>horse</th>\n",
              "      <td>15</td>\n",
              "      <td>2</td>\n",
              "      <td>15</td>\n",
              "      <td>30</td>\n",
              "      <td>35</td>\n",
              "      <td>37</td>\n",
              "      <td>1</td>\n",
              "      <td>856</td>\n",
              "      <td>1</td>\n",
              "      <td>8</td>\n",
              "    </tr>\n",
              "    <tr>\n",
              "      <th>ship</th>\n",
              "      <td>40</td>\n",
              "      <td>8</td>\n",
              "      <td>13</td>\n",
              "      <td>11</td>\n",
              "      <td>1</td>\n",
              "      <td>0</td>\n",
              "      <td>2</td>\n",
              "      <td>4</td>\n",
              "      <td>907</td>\n",
              "      <td>14</td>\n",
              "    </tr>\n",
              "    <tr>\n",
              "      <th>truck</th>\n",
              "      <td>25</td>\n",
              "      <td>53</td>\n",
              "      <td>1</td>\n",
              "      <td>6</td>\n",
              "      <td>2</td>\n",
              "      <td>0</td>\n",
              "      <td>4</td>\n",
              "      <td>10</td>\n",
              "      <td>13</td>\n",
              "      <td>886</td>\n",
              "    </tr>\n",
              "  </tbody>\n",
              "</table>\n",
              "</div>\n",
              "      <button class=\"colab-df-convert\" onclick=\"convertToInteractive('df-ef7c1563-256b-4102-a798-02a1e4378883')\"\n",
              "              title=\"Convert this dataframe to an interactive table.\"\n",
              "              style=\"display:none;\">\n",
              "        \n",
              "  <svg xmlns=\"http://www.w3.org/2000/svg\" height=\"24px\"viewBox=\"0 0 24 24\"\n",
              "       width=\"24px\">\n",
              "    <path d=\"M0 0h24v24H0V0z\" fill=\"none\"/>\n",
              "    <path d=\"M18.56 5.44l.94 2.06.94-2.06 2.06-.94-2.06-.94-.94-2.06-.94 2.06-2.06.94zm-11 1L8.5 8.5l.94-2.06 2.06-.94-2.06-.94L8.5 2.5l-.94 2.06-2.06.94zm10 10l.94 2.06.94-2.06 2.06-.94-2.06-.94-.94-2.06-.94 2.06-2.06.94z\"/><path d=\"M17.41 7.96l-1.37-1.37c-.4-.4-.92-.59-1.43-.59-.52 0-1.04.2-1.43.59L10.3 9.45l-7.72 7.72c-.78.78-.78 2.05 0 2.83L4 21.41c.39.39.9.59 1.41.59.51 0 1.02-.2 1.41-.59l7.78-7.78 2.81-2.81c.8-.78.8-2.07 0-2.86zM5.41 20L4 18.59l7.72-7.72 1.47 1.35L5.41 20z\"/>\n",
              "  </svg>\n",
              "      </button>\n",
              "      \n",
              "  <style>\n",
              "    .colab-df-container {\n",
              "      display:flex;\n",
              "      flex-wrap:wrap;\n",
              "      gap: 12px;\n",
              "    }\n",
              "\n",
              "    .colab-df-convert {\n",
              "      background-color: #E8F0FE;\n",
              "      border: none;\n",
              "      border-radius: 50%;\n",
              "      cursor: pointer;\n",
              "      display: none;\n",
              "      fill: #1967D2;\n",
              "      height: 32px;\n",
              "      padding: 0 0 0 0;\n",
              "      width: 32px;\n",
              "    }\n",
              "\n",
              "    .colab-df-convert:hover {\n",
              "      background-color: #E2EBFA;\n",
              "      box-shadow: 0px 1px 2px rgba(60, 64, 67, 0.3), 0px 1px 3px 1px rgba(60, 64, 67, 0.15);\n",
              "      fill: #174EA6;\n",
              "    }\n",
              "\n",
              "    [theme=dark] .colab-df-convert {\n",
              "      background-color: #3B4455;\n",
              "      fill: #D2E3FC;\n",
              "    }\n",
              "\n",
              "    [theme=dark] .colab-df-convert:hover {\n",
              "      background-color: #434B5C;\n",
              "      box-shadow: 0px 1px 3px 1px rgba(0, 0, 0, 0.15);\n",
              "      filter: drop-shadow(0px 1px 2px rgba(0, 0, 0, 0.3));\n",
              "      fill: #FFFFFF;\n",
              "    }\n",
              "  </style>\n",
              "\n",
              "      <script>\n",
              "        const buttonEl =\n",
              "          document.querySelector('#df-ef7c1563-256b-4102-a798-02a1e4378883 button.colab-df-convert');\n",
              "        buttonEl.style.display =\n",
              "          google.colab.kernel.accessAllowed ? 'block' : 'none';\n",
              "\n",
              "        async function convertToInteractive(key) {\n",
              "          const element = document.querySelector('#df-ef7c1563-256b-4102-a798-02a1e4378883');\n",
              "          const dataTable =\n",
              "            await google.colab.kernel.invokeFunction('convertToInteractive',\n",
              "                                                     [key], {});\n",
              "          if (!dataTable) return;\n",
              "\n",
              "          const docLinkHtml = 'Like what you see? Visit the ' +\n",
              "            '<a target=\"_blank\" href=https://colab.research.google.com/notebooks/data_table.ipynb>data table notebook</a>'\n",
              "            + ' to learn more about interactive tables.';\n",
              "          element.innerHTML = '';\n",
              "          dataTable['output_type'] = 'display_data';\n",
              "          await google.colab.output.renderOutput(dataTable, element);\n",
              "          const docLink = document.createElement('div');\n",
              "          docLink.innerHTML = docLinkHtml;\n",
              "          element.appendChild(docLink);\n",
              "        }\n",
              "      </script>\n",
              "    </div>\n",
              "  </div>\n",
              "  "
            ]
          },
          "metadata": {},
          "execution_count": 17
        }
      ],
      "source": [
        "dataframe"
      ]
    },
    {
      "cell_type": "code",
      "execution_count": 18,
      "metadata": {
        "colab": {
          "base_uri": "https://localhost:8080/",
          "height": 626
        },
        "id": "Hyd5Mk6k-hjh",
        "outputId": "29993d79-db6a-4def-8eff-f74df8fb413a"
      },
      "outputs": [
        {
          "output_type": "display_data",
          "data": {
            "text/plain": [
              "<Figure size 800x600 with 1 Axes>"
            ],
            "image/png": "[encoded data removed]"
          },
          "metadata": {}
        }
      ],
      "source": [
        "import seaborn as sns\n",
        "\n",
        "plt.figure(figsize=(8, 6))\n",
        "\n",
        "sns.heatmap(dataframe, annot=True, cbar=None,cmap=\"YlGnBu\",fmt=\"d\") # Create heatmap\n",
        "\n",
        "plt.title(\"Confusion Matrix\"), plt.tight_layout()\n",
        "\n",
        "plt.ylabel(\"True Class\"), \n",
        "plt.xlabel(\"Predicted Class\")\n",
        "plt.show()"
      ]
    }
  ],
  "metadata": {
    "accelerator": "GPU",
    "colab": {
      "gpuType": "T4",
      "provenance": []
    },
    "kernelspec": {
      "display_name": "Python 3 (ipykernel)",
      "language": "python",
      "name": "python3"
    },
    "language_info": {
      "codemirror_mode": {
        "name": "ipython",
        "version": 3
      },
      "file_extension": ".py",
      "mimetype": "text/x-python",
      "name": "python",
      "nbconvert_exporter": "python",
      "pygments_lexer": "ipython3",
      "version": "3.9.13"
    }
  },
  "nbformat": 4,
  "nbformat_minor": 0
}