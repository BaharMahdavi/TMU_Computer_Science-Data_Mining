{
  "cells": [
    {
      "cell_type": "markdown",
      "metadata": {
        "id": "28dt8lFs-wu_"
      },
      "source": [
        "# The Deep Learning Homework 3 - Question No. 04 Part A-4\n",
        "Bahar Mahdavi - SN: 40152521337"
      ]
    },
    {
      "cell_type": "markdown",
      "metadata": {
        "id": "kYHEEVKYMvqi"
      },
      "source": [
        "## Load and normalize CIFAR10"
      ]
    },
    {
      "cell_type": "code",
      "execution_count": 1,
      "metadata": {
        "colab": {
          "base_uri": "https://localhost:8080/"
        },
        "id": "CVybIc-TJLt4",
        "outputId": "4c2b475f-6908-4e2e-cea8-17598de48ef1"
      },
      "outputs": [
        {
          "output_type": "stream",
          "name": "stdout",
          "text": [
            "Downloading https://www.cs.toronto.edu/~kriz/cifar-10-python.tar.gz to ./data/cifar-10-python.tar.gz\n"
          ]
        },
        {
          "output_type": "stream",
          "name": "stderr",
          "text": [
            "100%|██████████| 170498071/170498071 [00:02<00:00, 84022395.44it/s]\n"
          ]
        },
        {
          "output_type": "stream",
          "name": "stdout",
          "text": [
            "Extracting ./data/cifar-10-python.tar.gz to ./data\n",
            "Files already downloaded and verified\n"
          ]
        }
      ],
      "source": [
        "import torch\n",
        "import torchvision\n",
        "import torchvision.transforms as transforms\n",
        "\n",
        "transform = transforms.Compose(\n",
        "    [transforms.ToTensor(),\n",
        "     transforms.Normalize((0.5, 0.5, 0.5), (0.5, 0.5, 0.5))]) # The output of torchvision datasets are PILImage images of range [0, 1]. We transform them to Tensors of normalized range [-1, 1]\n",
        "\n",
        "batch_size = 32\n",
        "\n",
        "trainset = torchvision.datasets.CIFAR10(root='./data', train=True, download=True, transform=transform)\n",
        "trainloader = torch.utils.data.DataLoader(trainset, batch_size=batch_size, shuffle=True, num_workers=2, pin_memory=True)\n",
        "                                          \n",
        "testset = torchvision.datasets.CIFAR10(root='./data', train=False, download=True, transform=transform)\n",
        "testloader = torch.utils.data.DataLoader(testset, batch_size=batch_size, shuffle=False, num_workers=2, pin_memory=True)\n",
        "\n",
        "classes = ('airplane', 'automobile', 'bird', 'cat', 'deer', 'dog', 'frog', 'horse', 'ship', 'truck')"
      ]
    },
    {
      "cell_type": "markdown",
      "metadata": {
        "id": "I1ml24liPSci"
      },
      "source": [
        "## Define a Convolutional Neural Network with Drop Out"
      ]
    },
    {
      "cell_type": "code",
      "execution_count": 2,
      "metadata": {
        "id": "OajCWlcj_msS"
      },
      "outputs": [],
      "source": [
        "import torch.nn as nn\n",
        "import torch.nn.functional as F\n",
        "\n",
        "model = nn.Sequential(\n",
        "            nn.Conv2d(3, 32, kernel_size=3, padding=1),\n",
        "            nn.ReLU(),\n",
        "            nn.Dropout2d(0.15),\n",
        "            nn.Conv2d(32, 64, kernel_size=3, stride=1, padding=1),\n",
        "            nn.ReLU(),\n",
        "            nn.Dropout2d(0.15),\n",
        "            nn.MaxPool2d(kernel_size=2, stride=2), # output: 64 x 16 x 16\n",
        "            nn.BatchNorm2d(64), \n",
        "            nn.Dropout2d(0.15),\n",
        "\n",
        "            nn.Conv2d(64, 128, kernel_size=3, stride=1, padding=1),\n",
        "            nn.ReLU(),\n",
        "            nn.Dropout2d(0.15),\n",
        "            nn.Conv2d(128, 128, kernel_size=3, stride=1, padding=1),\n",
        "            nn.ReLU(),\n",
        "            nn.Dropout2d(0.15),\n",
        "            nn.MaxPool2d(kernel_size=2, stride=2), # output: 128 x 8 x 8\n",
        "            nn.BatchNorm2d(128), \n",
        "            nn.Dropout2d(0.15),\n",
        "\n",
        "            nn.Conv2d(128, 256, kernel_size=3, stride=1, padding=1),\n",
        "            nn.ReLU(),\n",
        "            nn.Dropout2d(0.15),\n",
        "            nn.Conv2d(256, 256, kernel_size=3, stride=1, padding=1),\n",
        "            nn.ReLU(),\n",
        "            nn.Dropout2d(0.15),\n",
        "            nn.MaxPool2d(kernel_size=2, stride=2), # output: 256 x 4 x 4\n",
        "            nn.BatchNorm2d(256),\n",
        "            nn.Dropout2d(0.15),\n",
        "\n",
        "            nn.Flatten(), \n",
        "            nn.Linear(256*4*4, 1024),\n",
        "            nn.ReLU(),\n",
        "            nn.Dropout2d(0.15),\n",
        "            nn.Linear(1024, 512),\n",
        "            nn.ReLU(),\n",
        "            nn.Dropout2d(0.15),\n",
        "            nn.Linear(512, 10))"
      ]
    },
    {
      "cell_type": "markdown",
      "metadata": {
        "id": "_KEyn_GzdG-2"
      },
      "source": [
        "## Define a Loss function and optimizer"
      ]
    },
    {
      "cell_type": "code",
      "execution_count": 3,
      "metadata": {
        "colab": {
          "base_uri": "https://localhost:8080/"
        },
        "id": "jtutYPW3iUjH",
        "outputId": "976de83e-bab6-42ca-d898-1b3cb40e04be"
      },
      "outputs": [
        {
          "output_type": "stream",
          "name": "stdout",
          "text": [
            "cuda:0\n"
          ]
        }
      ],
      "source": [
        "device = torch.device('cuda:0' if torch.cuda.is_available() else 'cpu')\n",
        "model.to(device)\n",
        "\n",
        "print(device) # Assuming that we are on a CUDA machine, this should print a CUDA device:"
      ]
    },
    {
      "cell_type": "code",
      "execution_count": 4,
      "metadata": {
        "id": "1mV7HdnUdwmZ"
      },
      "outputs": [],
      "source": [
        "import torch.optim as optim\n",
        "\n",
        "criterion = nn.CrossEntropyLoss()\n",
        "optimizer = optim.SGD(model.parameters(), lr=0.001, momentum=0.9)"
      ]
    },
    {
      "cell_type": "markdown",
      "metadata": {
        "id": "kkXsw47hkOlj"
      },
      "source": [
        "## Summarize the architecture of the model,"
      ]
    },
    {
      "cell_type": "code",
      "execution_count": 5,
      "metadata": {
        "colab": {
          "base_uri": "https://localhost:8080/"
        },
        "id": "VkS3RDighFNM",
        "outputId": "c94351bf-7c17-4592-a454-37e7a75abdde"
      },
      "outputs": [
        {
          "output_type": "stream",
          "name": "stdout",
          "text": [
            "----------------------------------------------------------------\n",
            "        Layer (type)               Output Shape         Param #\n",
            "================================================================\n",
            "            Conv2d-1           [-1, 32, 32, 32]             896\n",
            "              ReLU-2           [-1, 32, 32, 32]               0\n",
            "         Dropout2d-3           [-1, 32, 32, 32]               0\n",
            "            Conv2d-4           [-1, 64, 32, 32]          18,496\n",
            "              ReLU-5           [-1, 64, 32, 32]               0\n",
            "         Dropout2d-6           [-1, 64, 32, 32]               0\n",
            "         MaxPool2d-7           [-1, 64, 16, 16]               0\n",
            "       BatchNorm2d-8           [-1, 64, 16, 16]             128\n",
            "         Dropout2d-9           [-1, 64, 16, 16]               0\n",
            "           Conv2d-10          [-1, 128, 16, 16]          73,856\n",
            "             ReLU-11          [-1, 128, 16, 16]               0\n",
            "        Dropout2d-12          [-1, 128, 16, 16]               0\n",
            "           Conv2d-13          [-1, 128, 16, 16]         147,584\n",
            "             ReLU-14          [-1, 128, 16, 16]               0\n",
            "        Dropout2d-15          [-1, 128, 16, 16]               0\n",
            "        MaxPool2d-16            [-1, 128, 8, 8]               0\n",
            "      BatchNorm2d-17            [-1, 128, 8, 8]             256\n",
            "        Dropout2d-18            [-1, 128, 8, 8]               0\n",
            "           Conv2d-19            [-1, 256, 8, 8]         295,168\n",
            "             ReLU-20            [-1, 256, 8, 8]               0\n",
            "        Dropout2d-21            [-1, 256, 8, 8]               0\n",
            "           Conv2d-22            [-1, 256, 8, 8]         590,080\n",
            "             ReLU-23            [-1, 256, 8, 8]               0\n",
            "        Dropout2d-24            [-1, 256, 8, 8]               0\n",
            "        MaxPool2d-25            [-1, 256, 4, 4]               0\n",
            "      BatchNorm2d-26            [-1, 256, 4, 4]             512\n",
            "        Dropout2d-27            [-1, 256, 4, 4]               0\n",
            "          Flatten-28                 [-1, 4096]               0\n",
            "           Linear-29                 [-1, 1024]       4,195,328\n",
            "             ReLU-30                 [-1, 1024]               0\n",
            "        Dropout2d-31                 [-1, 1024]               0\n",
            "           Linear-32                  [-1, 512]         524,800\n",
            "             ReLU-33                  [-1, 512]               0\n",
            "        Dropout2d-34                  [-1, 512]               0\n",
            "           Linear-35                   [-1, 10]           5,130\n",
            "================================================================\n",
            "Total params: 5,852,234\n",
            "Trainable params: 5,852,234\n",
            "Non-trainable params: 0\n",
            "----------------------------------------------------------------\n",
            "Input size (MB): 0.01\n",
            "Forward/backward pass size (MB): 5.22\n",
            "Params size (MB): 22.32\n",
            "Estimated Total Size (MB): 27.56\n",
            "----------------------------------------------------------------\n"
          ]
        },
        {
          "output_type": "stream",
          "name": "stderr",
          "text": [
            "/usr/local/lib/python3.10/dist-packages/torch/nn/functional.py:1331: UserWarning: dropout2d: Received a 2-D input to dropout2d, which is deprecated and will result in an error in a future release. To retain the behavior and silence this warning, please use dropout instead. Note that dropout2d exists to provide channel-wise dropout on inputs with 2 spatial dimensions, a channel dimension, and an optional batch dimension (i.e. 3D or 4D inputs).\n",
            "  warnings.warn(warn_msg)\n"
          ]
        }
      ],
      "source": [
        "from torchsummary import summary\n",
        "\n",
        "summary(model,(3,32,32))"
      ]
    },
    {
      "cell_type": "code",
      "execution_count": 6,
      "metadata": {
        "id": "XApsr2kohw-H"
      },
      "outputs": [],
      "source": [
        "def count_parameters(model):\n",
        "  return sum(p.numel() for p in model.parameters() if p.requires_grad)"
      ]
    },
    {
      "cell_type": "code",
      "execution_count": 7,
      "metadata": {
        "colab": {
          "base_uri": "https://localhost:8080/"
        },
        "id": "CaHVP43Jhwqj",
        "outputId": "35314660-44c2-47f6-e680-b758b5708e67"
      },
      "outputs": [
        {
          "output_type": "execute_result",
          "data": {
            "text/plain": [
              "5852234"
            ]
          },
          "metadata": {},
          "execution_count": 7
        }
      ],
      "source": [
        "count_parameters(model)"
      ]
    },
    {
      "cell_type": "markdown",
      "metadata": {
        "id": "HqcjHe1okZW2"
      },
      "source": [
        "## Train the network"
      ]
    },
    {
      "cell_type": "code",
      "execution_count": 8,
      "metadata": {
        "id": "DLzF3ydP-GbI"
      },
      "outputs": [],
      "source": [
        "from tqdm import tqdm\n",
        "\n",
        "train_losses=[]\n",
        "train_accu=[]\n",
        "\n",
        "def train(epoch):\n",
        "  print('\\nEpoch : %d'%epoch)\n",
        "  \n",
        "  model.train()\n",
        "\n",
        "  running_loss = 0\n",
        "  correct = 0\n",
        "  total = 0\n",
        "\n",
        "  for data in tqdm(trainloader): \n",
        "    \n",
        "    inputs = data[0].to(device, non_blocking=True)\n",
        "    labels = data[1].to(device, non_blocking=True)\n",
        "    \n",
        "    outputs = model(inputs) # forward\n",
        "    loss = criterion(outputs, labels)\n",
        "    optimizer.zero_grad() # zero the parameter gradients\n",
        "    loss.backward() # backward\n",
        "    optimizer.step() # optimize\n",
        "\n",
        "    running_loss += loss.item() # print statistics\n",
        "    \n",
        "    _, predicted = outputs.max(1)\n",
        "    total += labels.size(0)\n",
        "    correct += predicted.eq(labels).sum().item()\n",
        "      \n",
        "  train_loss=running_loss/len(trainloader)\n",
        "  accu = 100.*correct/total\n",
        "  \n",
        "  train_accu.append(accu)\n",
        "  train_losses.append(train_loss)\n",
        "  print('Train Loss: %.3f | Accuracy: %.3f'%(train_loss,accu))"
      ]
    },
    {
      "cell_type": "markdown",
      "metadata": {
        "id": "JrMuO69ECaZk"
      },
      "source": [
        "## Test the network on the test data"
      ]
    },
    {
      "cell_type": "code",
      "execution_count": 9,
      "metadata": {
        "id": "55jTRDG8kjIy"
      },
      "outputs": [],
      "source": [
        "eval_losses=[]\n",
        "eval_accu=[]\n",
        "\n",
        "def test(epoch):\n",
        "  model.eval()\n",
        "\n",
        "  running_loss = 0\n",
        "  correct = 0\n",
        "  total = 0\n",
        "\n",
        "  with torch.no_grad():\n",
        "    for data in tqdm(testloader):\n",
        "      images,labels = data[0].to(device, non_blocking=True),data[1].to(device, non_blocking=True)\n",
        "      \n",
        "      outputs = model(images)\n",
        "\n",
        "      loss = criterion(outputs, labels)\n",
        "      running_loss += loss.item()\n",
        "      \n",
        "      _, predicted = outputs.max(1)\n",
        "      total += labels.size(0)\n",
        "      correct += predicted.eq(labels).sum().item()\n",
        "  \n",
        "  test_loss = running_loss/len(testloader)\n",
        "  accu = 100.*correct/total\n",
        "\n",
        "  eval_losses.append(test_loss)\n",
        "  eval_accu.append(accu)\n",
        "\n",
        "  print('Test Loss: %.3f | Accuracy: %.3f'%(test_loss,accu)) "
      ]
    },
    {
      "cell_type": "code",
      "execution_count": 10,
      "metadata": {
        "colab": {
          "base_uri": "https://localhost:8080/"
        },
        "id": "W3HGDGr2USWH",
        "outputId": "9d0888af-a579-46f8-bd47-cdd3328991d0"
      },
      "outputs": [
        {
          "output_type": "stream",
          "name": "stdout",
          "text": [
            "\n",
            "Epoch : 1\n"
          ]
        },
        {
          "output_type": "stream",
          "name": "stderr",
          "text": [
            "100%|██████████| 1563/1563 [00:24<00:00, 63.39it/s]\n"
          ]
        },
        {
          "output_type": "stream",
          "name": "stdout",
          "text": [
            "Train Loss: 1.756 | Accuracy: 35.144\n"
          ]
        },
        {
          "output_type": "stream",
          "name": "stderr",
          "text": [
            "100%|██████████| 313/313 [00:04<00:00, 66.85it/s]\n"
          ]
        },
        {
          "output_type": "stream",
          "name": "stdout",
          "text": [
            "Test Loss: 1.383 | Accuracy: 49.130\n",
            "\n",
            "Epoch : 2\n"
          ]
        },
        {
          "output_type": "stream",
          "name": "stderr",
          "text": [
            "100%|██████████| 1563/1563 [00:24<00:00, 63.58it/s]\n"
          ]
        },
        {
          "output_type": "stream",
          "name": "stdout",
          "text": [
            "Train Loss: 1.338 | Accuracy: 51.390\n"
          ]
        },
        {
          "output_type": "stream",
          "name": "stderr",
          "text": [
            "100%|██████████| 313/313 [00:03<00:00, 89.57it/s]\n"
          ]
        },
        {
          "output_type": "stream",
          "name": "stdout",
          "text": [
            "Test Loss: 1.057 | Accuracy: 61.670\n",
            "\n",
            "Epoch : 3\n"
          ]
        },
        {
          "output_type": "stream",
          "name": "stderr",
          "text": [
            "100%|██████████| 1563/1563 [00:25<00:00, 61.29it/s]\n"
          ]
        },
        {
          "output_type": "stream",
          "name": "stdout",
          "text": [
            "Train Loss: 1.114 | Accuracy: 60.182\n"
          ]
        },
        {
          "output_type": "stream",
          "name": "stderr",
          "text": [
            "100%|██████████| 313/313 [00:03<00:00, 91.68it/s]\n"
          ]
        },
        {
          "output_type": "stream",
          "name": "stdout",
          "text": [
            "Test Loss: 0.887 | Accuracy: 68.280\n",
            "\n",
            "Epoch : 4\n"
          ]
        },
        {
          "output_type": "stream",
          "name": "stderr",
          "text": [
            "100%|██████████| 1563/1563 [00:24<00:00, 64.80it/s]\n"
          ]
        },
        {
          "output_type": "stream",
          "name": "stdout",
          "text": [
            "Train Loss: 0.960 | Accuracy: 66.186\n"
          ]
        },
        {
          "output_type": "stream",
          "name": "stderr",
          "text": [
            "100%|██████████| 313/313 [00:03<00:00, 91.71it/s]\n"
          ]
        },
        {
          "output_type": "stream",
          "name": "stdout",
          "text": [
            "Test Loss: 0.773 | Accuracy: 73.130\n",
            "\n",
            "Epoch : 5\n"
          ]
        },
        {
          "output_type": "stream",
          "name": "stderr",
          "text": [
            "100%|██████████| 1563/1563 [00:25<00:00, 61.12it/s]\n"
          ]
        },
        {
          "output_type": "stream",
          "name": "stdout",
          "text": [
            "Train Loss: 0.851 | Accuracy: 70.124\n"
          ]
        },
        {
          "output_type": "stream",
          "name": "stderr",
          "text": [
            "100%|██████████| 313/313 [00:03<00:00, 91.85it/s]\n"
          ]
        },
        {
          "output_type": "stream",
          "name": "stdout",
          "text": [
            "Test Loss: 0.690 | Accuracy: 76.070\n",
            "\n",
            "Epoch : 6\n"
          ]
        },
        {
          "output_type": "stream",
          "name": "stderr",
          "text": [
            "100%|██████████| 1563/1563 [00:24<00:00, 64.03it/s]\n"
          ]
        },
        {
          "output_type": "stream",
          "name": "stdout",
          "text": [
            "Train Loss: 0.767 | Accuracy: 73.306\n"
          ]
        },
        {
          "output_type": "stream",
          "name": "stderr",
          "text": [
            "100%|██████████| 313/313 [00:04<00:00, 68.76it/s]\n"
          ]
        },
        {
          "output_type": "stream",
          "name": "stdout",
          "text": [
            "Test Loss: 0.660 | Accuracy: 77.330\n",
            "\n",
            "Epoch : 7\n"
          ]
        },
        {
          "output_type": "stream",
          "name": "stderr",
          "text": [
            "100%|██████████| 1563/1563 [00:23<00:00, 66.22it/s]\n"
          ]
        },
        {
          "output_type": "stream",
          "name": "stdout",
          "text": [
            "Train Loss: 0.711 | Accuracy: 75.078\n"
          ]
        },
        {
          "output_type": "stream",
          "name": "stderr",
          "text": [
            "100%|██████████| 313/313 [00:04<00:00, 75.05it/s]\n"
          ]
        },
        {
          "output_type": "stream",
          "name": "stdout",
          "text": [
            "Test Loss: 0.608 | Accuracy: 79.080\n",
            "\n",
            "Epoch : 8\n"
          ]
        },
        {
          "output_type": "stream",
          "name": "stderr",
          "text": [
            "100%|██████████| 1563/1563 [00:24<00:00, 64.54it/s]\n"
          ]
        },
        {
          "output_type": "stream",
          "name": "stdout",
          "text": [
            "Train Loss: 0.654 | Accuracy: 77.054\n"
          ]
        },
        {
          "output_type": "stream",
          "name": "stderr",
          "text": [
            "100%|██████████| 313/313 [00:03<00:00, 85.94it/s]\n"
          ]
        },
        {
          "output_type": "stream",
          "name": "stdout",
          "text": [
            "Test Loss: 0.589 | Accuracy: 79.570\n",
            "\n",
            "Epoch : 9\n"
          ]
        },
        {
          "output_type": "stream",
          "name": "stderr",
          "text": [
            "100%|██████████| 1563/1563 [00:24<00:00, 63.27it/s]\n"
          ]
        },
        {
          "output_type": "stream",
          "name": "stdout",
          "text": [
            "Train Loss: 0.606 | Accuracy: 78.826\n"
          ]
        },
        {
          "output_type": "stream",
          "name": "stderr",
          "text": [
            "100%|██████████| 313/313 [00:03<00:00, 89.63it/s]\n"
          ]
        },
        {
          "output_type": "stream",
          "name": "stdout",
          "text": [
            "Test Loss: 0.566 | Accuracy: 80.540\n",
            "\n",
            "Epoch : 10\n"
          ]
        },
        {
          "output_type": "stream",
          "name": "stderr",
          "text": [
            "100%|██████████| 1563/1563 [00:25<00:00, 61.11it/s]\n"
          ]
        },
        {
          "output_type": "stream",
          "name": "stdout",
          "text": [
            "Train Loss: 0.560 | Accuracy: 80.382\n"
          ]
        },
        {
          "output_type": "stream",
          "name": "stderr",
          "text": [
            "100%|██████████| 313/313 [00:03<00:00, 88.20it/s]\n"
          ]
        },
        {
          "output_type": "stream",
          "name": "stdout",
          "text": [
            "Test Loss: 0.554 | Accuracy: 80.790\n",
            "\n",
            "Epoch : 11\n"
          ]
        },
        {
          "output_type": "stream",
          "name": "stderr",
          "text": [
            "100%|██████████| 1563/1563 [00:24<00:00, 62.54it/s]\n"
          ]
        },
        {
          "output_type": "stream",
          "name": "stdout",
          "text": [
            "Train Loss: 0.524 | Accuracy: 81.646\n"
          ]
        },
        {
          "output_type": "stream",
          "name": "stderr",
          "text": [
            "100%|██████████| 313/313 [00:04<00:00, 69.46it/s]\n"
          ]
        },
        {
          "output_type": "stream",
          "name": "stdout",
          "text": [
            "Test Loss: 0.533 | Accuracy: 82.270\n",
            "\n",
            "Epoch : 12\n"
          ]
        },
        {
          "output_type": "stream",
          "name": "stderr",
          "text": [
            "100%|██████████| 1563/1563 [00:24<00:00, 63.49it/s]\n"
          ]
        },
        {
          "output_type": "stream",
          "name": "stdout",
          "text": [
            "Train Loss: 0.494 | Accuracy: 82.668\n"
          ]
        },
        {
          "output_type": "stream",
          "name": "stderr",
          "text": [
            "100%|██████████| 313/313 [00:04<00:00, 78.03it/s]\n"
          ]
        },
        {
          "output_type": "stream",
          "name": "stdout",
          "text": [
            "Test Loss: 0.525 | Accuracy: 82.110\n",
            "\n",
            "Epoch : 13\n"
          ]
        },
        {
          "output_type": "stream",
          "name": "stderr",
          "text": [
            "100%|██████████| 1563/1563 [00:24<00:00, 64.02it/s]\n"
          ]
        },
        {
          "output_type": "stream",
          "name": "stdout",
          "text": [
            "Train Loss: 0.453 | Accuracy: 84.220\n"
          ]
        },
        {
          "output_type": "stream",
          "name": "stderr",
          "text": [
            "100%|██████████| 313/313 [00:03<00:00, 89.94it/s]\n"
          ]
        },
        {
          "output_type": "stream",
          "name": "stdout",
          "text": [
            "Test Loss: 0.509 | Accuracy: 82.670\n",
            "\n",
            "Epoch : 14\n"
          ]
        },
        {
          "output_type": "stream",
          "name": "stderr",
          "text": [
            "100%|██████████| 1563/1563 [00:24<00:00, 63.96it/s]\n"
          ]
        },
        {
          "output_type": "stream",
          "name": "stdout",
          "text": [
            "Train Loss: 0.423 | Accuracy: 85.162\n"
          ]
        },
        {
          "output_type": "stream",
          "name": "stderr",
          "text": [
            "100%|██████████| 313/313 [00:03<00:00, 88.38it/s]\n"
          ]
        },
        {
          "output_type": "stream",
          "name": "stdout",
          "text": [
            "Test Loss: 0.513 | Accuracy: 82.920\n",
            "\n",
            "Epoch : 15\n"
          ]
        },
        {
          "output_type": "stream",
          "name": "stderr",
          "text": [
            "100%|██████████| 1563/1563 [00:26<00:00, 59.71it/s]\n"
          ]
        },
        {
          "output_type": "stream",
          "name": "stdout",
          "text": [
            "Train Loss: 0.393 | Accuracy: 85.942\n"
          ]
        },
        {
          "output_type": "stream",
          "name": "stderr",
          "text": [
            "100%|██████████| 313/313 [00:03<00:00, 89.29it/s]\n"
          ]
        },
        {
          "output_type": "stream",
          "name": "stdout",
          "text": [
            "Test Loss: 0.505 | Accuracy: 83.300\n",
            "\n",
            "Epoch : 16\n"
          ]
        },
        {
          "output_type": "stream",
          "name": "stderr",
          "text": [
            "100%|██████████| 1563/1563 [00:25<00:00, 61.80it/s]\n"
          ]
        },
        {
          "output_type": "stream",
          "name": "stdout",
          "text": [
            "Train Loss: 0.364 | Accuracy: 87.208\n"
          ]
        },
        {
          "output_type": "stream",
          "name": "stderr",
          "text": [
            "100%|██████████| 313/313 [00:04<00:00, 67.52it/s]\n"
          ]
        },
        {
          "output_type": "stream",
          "name": "stdout",
          "text": [
            "Test Loss: 0.505 | Accuracy: 83.460\n",
            "\n",
            "Epoch : 17\n"
          ]
        },
        {
          "output_type": "stream",
          "name": "stderr",
          "text": [
            "100%|██████████| 1563/1563 [00:25<00:00, 62.03it/s]\n"
          ]
        },
        {
          "output_type": "stream",
          "name": "stdout",
          "text": [
            "Train Loss: 0.342 | Accuracy: 87.994\n"
          ]
        },
        {
          "output_type": "stream",
          "name": "stderr",
          "text": [
            "100%|██████████| 313/313 [00:03<00:00, 87.22it/s]\n"
          ]
        },
        {
          "output_type": "stream",
          "name": "stdout",
          "text": [
            "Test Loss: 0.506 | Accuracy: 83.680\n",
            "\n",
            "Epoch : 18\n"
          ]
        },
        {
          "output_type": "stream",
          "name": "stderr",
          "text": [
            "100%|██████████| 1563/1563 [00:25<00:00, 61.55it/s]\n"
          ]
        },
        {
          "output_type": "stream",
          "name": "stdout",
          "text": [
            "Train Loss: 0.321 | Accuracy: 88.750\n"
          ]
        },
        {
          "output_type": "stream",
          "name": "stderr",
          "text": [
            "100%|██████████| 313/313 [00:03<00:00, 90.19it/s]\n"
          ]
        },
        {
          "output_type": "stream",
          "name": "stdout",
          "text": [
            "Test Loss: 0.500 | Accuracy: 83.750\n",
            "\n",
            "Epoch : 19\n"
          ]
        },
        {
          "output_type": "stream",
          "name": "stderr",
          "text": [
            "100%|██████████| 1563/1563 [00:24<00:00, 63.71it/s]\n"
          ]
        },
        {
          "output_type": "stream",
          "name": "stdout",
          "text": [
            "Train Loss: 0.294 | Accuracy: 89.652\n"
          ]
        },
        {
          "output_type": "stream",
          "name": "stderr",
          "text": [
            "100%|██████████| 313/313 [00:03<00:00, 93.48it/s]\n"
          ]
        },
        {
          "output_type": "stream",
          "name": "stdout",
          "text": [
            "Test Loss: 0.505 | Accuracy: 84.030\n",
            "\n",
            "Epoch : 20\n"
          ]
        },
        {
          "output_type": "stream",
          "name": "stderr",
          "text": [
            "100%|██████████| 1563/1563 [00:25<00:00, 61.65it/s]\n"
          ]
        },
        {
          "output_type": "stream",
          "name": "stdout",
          "text": [
            "Train Loss: 0.275 | Accuracy: 90.464\n"
          ]
        },
        {
          "output_type": "stream",
          "name": "stderr",
          "text": [
            "100%|██████████| 313/313 [00:04<00:00, 69.04it/s]\n"
          ]
        },
        {
          "output_type": "stream",
          "name": "stdout",
          "text": [
            "Test Loss: 0.507 | Accuracy: 84.140\n",
            "\n",
            "Epoch : 21\n"
          ]
        },
        {
          "output_type": "stream",
          "name": "stderr",
          "text": [
            "100%|██████████| 1563/1563 [00:23<00:00, 65.83it/s]\n"
          ]
        },
        {
          "output_type": "stream",
          "name": "stdout",
          "text": [
            "Train Loss: 0.252 | Accuracy: 91.082\n"
          ]
        },
        {
          "output_type": "stream",
          "name": "stderr",
          "text": [
            "100%|██████████| 313/313 [00:04<00:00, 75.28it/s]\n"
          ]
        },
        {
          "output_type": "stream",
          "name": "stdout",
          "text": [
            "Test Loss: 0.518 | Accuracy: 84.260\n",
            "\n",
            "Epoch : 22\n"
          ]
        },
        {
          "output_type": "stream",
          "name": "stderr",
          "text": [
            "100%|██████████| 1563/1563 [00:24<00:00, 64.39it/s]\n"
          ]
        },
        {
          "output_type": "stream",
          "name": "stdout",
          "text": [
            "Train Loss: 0.240 | Accuracy: 91.352\n"
          ]
        },
        {
          "output_type": "stream",
          "name": "stderr",
          "text": [
            "100%|██████████| 313/313 [00:03<00:00, 90.42it/s]\n"
          ]
        },
        {
          "output_type": "stream",
          "name": "stdout",
          "text": [
            "Test Loss: 0.525 | Accuracy: 84.120\n",
            "\n",
            "Epoch : 23\n"
          ]
        },
        {
          "output_type": "stream",
          "name": "stderr",
          "text": [
            "100%|██████████| 1563/1563 [00:24<00:00, 64.77it/s]\n"
          ]
        },
        {
          "output_type": "stream",
          "name": "stdout",
          "text": [
            "Train Loss: 0.223 | Accuracy: 92.220\n"
          ]
        },
        {
          "output_type": "stream",
          "name": "stderr",
          "text": [
            "100%|██████████| 313/313 [00:03<00:00, 90.95it/s]\n"
          ]
        },
        {
          "output_type": "stream",
          "name": "stdout",
          "text": [
            "Test Loss: 0.519 | Accuracy: 84.130\n",
            "\n",
            "Epoch : 24\n"
          ]
        },
        {
          "output_type": "stream",
          "name": "stderr",
          "text": [
            "100%|██████████| 1563/1563 [00:24<00:00, 64.30it/s]\n"
          ]
        },
        {
          "output_type": "stream",
          "name": "stdout",
          "text": [
            "Train Loss: 0.204 | Accuracy: 92.782\n"
          ]
        },
        {
          "output_type": "stream",
          "name": "stderr",
          "text": [
            "100%|██████████| 313/313 [00:03<00:00, 91.15it/s]\n"
          ]
        },
        {
          "output_type": "stream",
          "name": "stdout",
          "text": [
            "Test Loss: 0.535 | Accuracy: 84.210\n",
            "\n",
            "Epoch : 25\n"
          ]
        },
        {
          "output_type": "stream",
          "name": "stderr",
          "text": [
            "100%|██████████| 1563/1563 [00:25<00:00, 61.21it/s]\n"
          ]
        },
        {
          "output_type": "stream",
          "name": "stdout",
          "text": [
            "Train Loss: 0.194 | Accuracy: 93.208\n"
          ]
        },
        {
          "output_type": "stream",
          "name": "stderr",
          "text": [
            "100%|██████████| 313/313 [00:04<00:00, 71.70it/s]\n"
          ]
        },
        {
          "output_type": "stream",
          "name": "stdout",
          "text": [
            "Test Loss: 0.547 | Accuracy: 84.360\n",
            "\n",
            "Epoch : 26\n"
          ]
        },
        {
          "output_type": "stream",
          "name": "stderr",
          "text": [
            "100%|██████████| 1563/1563 [00:23<00:00, 65.69it/s]\n"
          ]
        },
        {
          "output_type": "stream",
          "name": "stdout",
          "text": [
            "Train Loss: 0.175 | Accuracy: 93.790\n"
          ]
        },
        {
          "output_type": "stream",
          "name": "stderr",
          "text": [
            "100%|██████████| 313/313 [00:04<00:00, 72.36it/s]\n"
          ]
        },
        {
          "output_type": "stream",
          "name": "stdout",
          "text": [
            "Test Loss: 0.545 | Accuracy: 84.370\n",
            "\n",
            "Epoch : 27\n"
          ]
        },
        {
          "output_type": "stream",
          "name": "stderr",
          "text": [
            "100%|██████████| 1563/1563 [00:24<00:00, 64.55it/s]\n"
          ]
        },
        {
          "output_type": "stream",
          "name": "stdout",
          "text": [
            "Train Loss: 0.166 | Accuracy: 94.242\n"
          ]
        },
        {
          "output_type": "stream",
          "name": "stderr",
          "text": [
            "100%|██████████| 313/313 [00:03<00:00, 89.56it/s]\n"
          ]
        },
        {
          "output_type": "stream",
          "name": "stdout",
          "text": [
            "Test Loss: 0.560 | Accuracy: 84.260\n",
            "\n",
            "Epoch : 28\n"
          ]
        },
        {
          "output_type": "stream",
          "name": "stderr",
          "text": [
            "100%|██████████| 1563/1563 [00:24<00:00, 64.23it/s]\n"
          ]
        },
        {
          "output_type": "stream",
          "name": "stdout",
          "text": [
            "Train Loss: 0.158 | Accuracy: 94.370\n"
          ]
        },
        {
          "output_type": "stream",
          "name": "stderr",
          "text": [
            "100%|██████████| 313/313 [00:03<00:00, 92.29it/s]\n"
          ]
        },
        {
          "output_type": "stream",
          "name": "stdout",
          "text": [
            "Test Loss: 0.546 | Accuracy: 84.320\n",
            "\n",
            "Epoch : 29\n"
          ]
        },
        {
          "output_type": "stream",
          "name": "stderr",
          "text": [
            "100%|██████████| 1563/1563 [00:24<00:00, 64.24it/s]\n"
          ]
        },
        {
          "output_type": "stream",
          "name": "stdout",
          "text": [
            "Train Loss: 0.148 | Accuracy: 94.840\n"
          ]
        },
        {
          "output_type": "stream",
          "name": "stderr",
          "text": [
            "100%|██████████| 313/313 [00:03<00:00, 92.96it/s]\n"
          ]
        },
        {
          "output_type": "stream",
          "name": "stdout",
          "text": [
            "Test Loss: 0.554 | Accuracy: 84.220\n",
            "\n",
            "Epoch : 30\n"
          ]
        },
        {
          "output_type": "stream",
          "name": "stderr",
          "text": [
            "100%|██████████| 1563/1563 [00:25<00:00, 61.52it/s]\n"
          ]
        },
        {
          "output_type": "stream",
          "name": "stdout",
          "text": [
            "Train Loss: 0.141 | Accuracy: 95.040\n"
          ]
        },
        {
          "output_type": "stream",
          "name": "stderr",
          "text": [
            "100%|██████████| 313/313 [00:03<00:00, 81.07it/s]\n"
          ]
        },
        {
          "output_type": "stream",
          "name": "stdout",
          "text": [
            "Test Loss: 0.559 | Accuracy: 84.610\n",
            "\n",
            "Epoch : 31\n"
          ]
        },
        {
          "output_type": "stream",
          "name": "stderr",
          "text": [
            "100%|██████████| 1563/1563 [00:23<00:00, 65.40it/s]\n"
          ]
        },
        {
          "output_type": "stream",
          "name": "stdout",
          "text": [
            "Train Loss: 0.129 | Accuracy: 95.520\n"
          ]
        },
        {
          "output_type": "stream",
          "name": "stderr",
          "text": [
            "100%|██████████| 313/313 [00:04<00:00, 69.59it/s]\n"
          ]
        },
        {
          "output_type": "stream",
          "name": "stdout",
          "text": [
            "Test Loss: 0.571 | Accuracy: 84.600\n",
            "\n",
            "Epoch : 32\n"
          ]
        },
        {
          "output_type": "stream",
          "name": "stderr",
          "text": [
            "100%|██████████| 1563/1563 [00:24<00:00, 64.81it/s]\n"
          ]
        },
        {
          "output_type": "stream",
          "name": "stdout",
          "text": [
            "Train Loss: 0.120 | Accuracy: 95.842\n"
          ]
        },
        {
          "output_type": "stream",
          "name": "stderr",
          "text": [
            "100%|██████████| 313/313 [00:03<00:00, 88.41it/s] \n"
          ]
        },
        {
          "output_type": "stream",
          "name": "stdout",
          "text": [
            "Test Loss: 0.578 | Accuracy: 84.780\n",
            "\n",
            "Epoch : 33\n"
          ]
        },
        {
          "output_type": "stream",
          "name": "stderr",
          "text": [
            "100%|██████████| 1563/1563 [00:23<00:00, 65.22it/s]\n"
          ]
        },
        {
          "output_type": "stream",
          "name": "stdout",
          "text": [
            "Train Loss: 0.119 | Accuracy: 95.858\n"
          ]
        },
        {
          "output_type": "stream",
          "name": "stderr",
          "text": [
            "100%|██████████| 313/313 [00:03<00:00, 93.08it/s]\n"
          ]
        },
        {
          "output_type": "stream",
          "name": "stdout",
          "text": [
            "Test Loss: 0.588 | Accuracy: 84.670\n",
            "\n",
            "Epoch : 34\n"
          ]
        },
        {
          "output_type": "stream",
          "name": "stderr",
          "text": [
            "100%|██████████| 1563/1563 [00:24<00:00, 65.11it/s]\n"
          ]
        },
        {
          "output_type": "stream",
          "name": "stdout",
          "text": [
            "Train Loss: 0.110 | Accuracy: 96.176\n"
          ]
        },
        {
          "output_type": "stream",
          "name": "stderr",
          "text": [
            "100%|██████████| 313/313 [00:03<00:00, 92.28it/s]\n"
          ]
        },
        {
          "output_type": "stream",
          "name": "stdout",
          "text": [
            "Test Loss: 0.584 | Accuracy: 84.500\n",
            "\n",
            "Epoch : 35\n"
          ]
        },
        {
          "output_type": "stream",
          "name": "stderr",
          "text": [
            "100%|██████████| 1563/1563 [00:25<00:00, 61.08it/s]\n"
          ]
        },
        {
          "output_type": "stream",
          "name": "stdout",
          "text": [
            "Train Loss: 0.104 | Accuracy: 96.312\n"
          ]
        },
        {
          "output_type": "stream",
          "name": "stderr",
          "text": [
            "100%|██████████| 313/313 [00:03<00:00, 93.30it/s]\n"
          ]
        },
        {
          "output_type": "stream",
          "name": "stdout",
          "text": [
            "Test Loss: 0.621 | Accuracy: 84.240\n",
            "\n",
            "Epoch : 36\n"
          ]
        },
        {
          "output_type": "stream",
          "name": "stderr",
          "text": [
            "100%|██████████| 1563/1563 [00:24<00:00, 64.82it/s]\n"
          ]
        },
        {
          "output_type": "stream",
          "name": "stdout",
          "text": [
            "Train Loss: 0.101 | Accuracy: 96.518\n"
          ]
        },
        {
          "output_type": "stream",
          "name": "stderr",
          "text": [
            "100%|██████████| 313/313 [00:03<00:00, 90.61it/s]\n"
          ]
        },
        {
          "output_type": "stream",
          "name": "stdout",
          "text": [
            "Test Loss: 0.595 | Accuracy: 84.660\n",
            "\n",
            "Epoch : 37\n"
          ]
        },
        {
          "output_type": "stream",
          "name": "stderr",
          "text": [
            "100%|██████████| 1563/1563 [00:23<00:00, 65.36it/s]\n"
          ]
        },
        {
          "output_type": "stream",
          "name": "stdout",
          "text": [
            "Train Loss: 0.094 | Accuracy: 96.714\n"
          ]
        },
        {
          "output_type": "stream",
          "name": "stderr",
          "text": [
            "100%|██████████| 313/313 [00:04<00:00, 69.38it/s]\n"
          ]
        },
        {
          "output_type": "stream",
          "name": "stdout",
          "text": [
            "Test Loss: 0.598 | Accuracy: 84.630\n",
            "\n",
            "Epoch : 38\n"
          ]
        },
        {
          "output_type": "stream",
          "name": "stderr",
          "text": [
            "100%|██████████| 1563/1563 [00:23<00:00, 67.94it/s]\n"
          ]
        },
        {
          "output_type": "stream",
          "name": "stdout",
          "text": [
            "Train Loss: 0.090 | Accuracy: 96.876\n"
          ]
        },
        {
          "output_type": "stream",
          "name": "stderr",
          "text": [
            "100%|██████████| 313/313 [00:04<00:00, 73.30it/s]\n"
          ]
        },
        {
          "output_type": "stream",
          "name": "stdout",
          "text": [
            "Test Loss: 0.611 | Accuracy: 84.370\n",
            "\n",
            "Epoch : 39\n"
          ]
        },
        {
          "output_type": "stream",
          "name": "stderr",
          "text": [
            "100%|██████████| 1563/1563 [00:24<00:00, 64.89it/s]\n"
          ]
        },
        {
          "output_type": "stream",
          "name": "stdout",
          "text": [
            "Train Loss: 0.086 | Accuracy: 97.038\n"
          ]
        },
        {
          "output_type": "stream",
          "name": "stderr",
          "text": [
            "100%|██████████| 313/313 [00:03<00:00, 90.42it/s]\n"
          ]
        },
        {
          "output_type": "stream",
          "name": "stdout",
          "text": [
            "Test Loss: 0.614 | Accuracy: 84.510\n",
            "\n",
            "Epoch : 40\n"
          ]
        },
        {
          "output_type": "stream",
          "name": "stderr",
          "text": [
            "100%|██████████| 1563/1563 [00:25<00:00, 62.00it/s]\n"
          ]
        },
        {
          "output_type": "stream",
          "name": "stdout",
          "text": [
            "Train Loss: 0.081 | Accuracy: 97.214\n"
          ]
        },
        {
          "output_type": "stream",
          "name": "stderr",
          "text": [
            "100%|██████████| 313/313 [00:03<00:00, 88.77it/s]\n"
          ]
        },
        {
          "output_type": "stream",
          "name": "stdout",
          "text": [
            "Test Loss: 0.628 | Accuracy: 84.730\n",
            "\n",
            "Epoch : 41\n"
          ]
        },
        {
          "output_type": "stream",
          "name": "stderr",
          "text": [
            "100%|██████████| 1563/1563 [00:24<00:00, 64.49it/s]\n"
          ]
        },
        {
          "output_type": "stream",
          "name": "stdout",
          "text": [
            "Train Loss: 0.079 | Accuracy: 97.336\n"
          ]
        },
        {
          "output_type": "stream",
          "name": "stderr",
          "text": [
            "100%|██████████| 313/313 [00:03<00:00, 90.74it/s]\n"
          ]
        },
        {
          "output_type": "stream",
          "name": "stdout",
          "text": [
            "Test Loss: 0.625 | Accuracy: 84.590\n",
            "\n",
            "Epoch : 42\n"
          ]
        },
        {
          "output_type": "stream",
          "name": "stderr",
          "text": [
            "100%|██████████| 1563/1563 [00:24<00:00, 64.98it/s]\n"
          ]
        },
        {
          "output_type": "stream",
          "name": "stdout",
          "text": [
            "Train Loss: 0.077 | Accuracy: 97.312\n"
          ]
        },
        {
          "output_type": "stream",
          "name": "stderr",
          "text": [
            "100%|██████████| 313/313 [00:03<00:00, 87.19it/s]\n"
          ]
        },
        {
          "output_type": "stream",
          "name": "stdout",
          "text": [
            "Test Loss: 0.647 | Accuracy: 84.360\n",
            "\n",
            "Epoch : 43\n"
          ]
        },
        {
          "output_type": "stream",
          "name": "stderr",
          "text": [
            "100%|██████████| 1563/1563 [00:23<00:00, 65.14it/s]\n"
          ]
        },
        {
          "output_type": "stream",
          "name": "stdout",
          "text": [
            "Train Loss: 0.076 | Accuracy: 97.382\n"
          ]
        },
        {
          "output_type": "stream",
          "name": "stderr",
          "text": [
            "100%|██████████| 313/313 [00:04<00:00, 69.33it/s]\n"
          ]
        },
        {
          "output_type": "stream",
          "name": "stdout",
          "text": [
            "Test Loss: 0.644 | Accuracy: 84.700\n",
            "\n",
            "Epoch : 44\n"
          ]
        },
        {
          "output_type": "stream",
          "name": "stderr",
          "text": [
            "100%|██████████| 1563/1563 [00:23<00:00, 65.96it/s]\n"
          ]
        },
        {
          "output_type": "stream",
          "name": "stdout",
          "text": [
            "Train Loss: 0.069 | Accuracy: 97.664\n"
          ]
        },
        {
          "output_type": "stream",
          "name": "stderr",
          "text": [
            "100%|██████████| 313/313 [00:03<00:00, 82.76it/s]\n"
          ]
        },
        {
          "output_type": "stream",
          "name": "stdout",
          "text": [
            "Test Loss: 0.642 | Accuracy: 84.640\n",
            "\n",
            "Epoch : 45\n"
          ]
        },
        {
          "output_type": "stream",
          "name": "stderr",
          "text": [
            "100%|██████████| 1563/1563 [00:24<00:00, 63.61it/s]\n"
          ]
        },
        {
          "output_type": "stream",
          "name": "stdout",
          "text": [
            "Train Loss: 0.067 | Accuracy: 97.626\n"
          ]
        },
        {
          "output_type": "stream",
          "name": "stderr",
          "text": [
            "100%|██████████| 313/313 [00:04<00:00, 76.92it/s]\n"
          ]
        },
        {
          "output_type": "stream",
          "name": "stdout",
          "text": [
            "Test Loss: 0.633 | Accuracy: 84.710\n",
            "\n",
            "Epoch : 46\n"
          ]
        },
        {
          "output_type": "stream",
          "name": "stderr",
          "text": [
            "100%|██████████| 1563/1563 [00:25<00:00, 62.22it/s]\n"
          ]
        },
        {
          "output_type": "stream",
          "name": "stdout",
          "text": [
            "Train Loss: 0.067 | Accuracy: 97.706\n"
          ]
        },
        {
          "output_type": "stream",
          "name": "stderr",
          "text": [
            "100%|██████████| 313/313 [00:03<00:00, 90.27it/s]\n"
          ]
        },
        {
          "output_type": "stream",
          "name": "stdout",
          "text": [
            "Test Loss: 0.642 | Accuracy: 84.580\n",
            "\n",
            "Epoch : 47\n"
          ]
        },
        {
          "output_type": "stream",
          "name": "stderr",
          "text": [
            "100%|██████████| 1563/1563 [00:24<00:00, 64.58it/s]\n"
          ]
        },
        {
          "output_type": "stream",
          "name": "stdout",
          "text": [
            "Train Loss: 0.063 | Accuracy: 97.814\n"
          ]
        },
        {
          "output_type": "stream",
          "name": "stderr",
          "text": [
            "100%|██████████| 313/313 [00:03<00:00, 89.60it/s]\n"
          ]
        },
        {
          "output_type": "stream",
          "name": "stdout",
          "text": [
            "Test Loss: 0.645 | Accuracy: 84.510\n",
            "\n",
            "Epoch : 48\n"
          ]
        },
        {
          "output_type": "stream",
          "name": "stderr",
          "text": [
            "100%|██████████| 1563/1563 [00:24<00:00, 64.34it/s]\n"
          ]
        },
        {
          "output_type": "stream",
          "name": "stdout",
          "text": [
            "Train Loss: 0.059 | Accuracy: 97.998\n"
          ]
        },
        {
          "output_type": "stream",
          "name": "stderr",
          "text": [
            "100%|██████████| 313/313 [00:04<00:00, 68.58it/s]\n"
          ]
        },
        {
          "output_type": "stream",
          "name": "stdout",
          "text": [
            "Test Loss: 0.661 | Accuracy: 84.700\n",
            "\n",
            "Epoch : 49\n"
          ]
        },
        {
          "output_type": "stream",
          "name": "stderr",
          "text": [
            "100%|██████████| 1563/1563 [00:23<00:00, 67.55it/s]\n"
          ]
        },
        {
          "output_type": "stream",
          "name": "stdout",
          "text": [
            "Train Loss: 0.059 | Accuracy: 97.996\n"
          ]
        },
        {
          "output_type": "stream",
          "name": "stderr",
          "text": [
            "100%|██████████| 313/313 [00:04<00:00, 74.42it/s]\n"
          ]
        },
        {
          "output_type": "stream",
          "name": "stdout",
          "text": [
            "Test Loss: 0.667 | Accuracy: 84.750\n",
            "\n",
            "Epoch : 50\n"
          ]
        },
        {
          "output_type": "stream",
          "name": "stderr",
          "text": [
            "100%|██████████| 1563/1563 [00:24<00:00, 64.37it/s]\n"
          ]
        },
        {
          "output_type": "stream",
          "name": "stdout",
          "text": [
            "Train Loss: 0.057 | Accuracy: 98.028\n"
          ]
        },
        {
          "output_type": "stream",
          "name": "stderr",
          "text": [
            "100%|██████████| 313/313 [00:03<00:00, 91.76it/s]"
          ]
        },
        {
          "output_type": "stream",
          "name": "stdout",
          "text": [
            "Test Loss: 0.685 | Accuracy: 84.630\n"
          ]
        },
        {
          "output_type": "stream",
          "name": "stderr",
          "text": [
            "\n"
          ]
        }
      ],
      "source": [
        "epochs = 50\n",
        "for epoch in range(1,epochs+1): \n",
        "  train(epoch)\n",
        "  test(epoch)"
      ]
    },
    {
      "cell_type": "markdown",
      "metadata": {
        "id": "5XabaOApV80i"
      },
      "source": [
        "## Drowing plots"
      ]
    },
    {
      "cell_type": "code",
      "execution_count": 11,
      "metadata": {
        "colab": {
          "base_uri": "https://localhost:8080/",
          "height": 472
        },
        "id": "1jo25xjIVcTv",
        "outputId": "e91da9ac-3614-47b3-e635-ec78ba27f684"
      },
      "outputs": [
        {
          "output_type": "display_data",
          "data": {
            "text/plain": [
              "<Figure size 640x480 with 1 Axes>"
            ],
            "image/png": "[encoded data removed]"
          },
          "metadata": {}
        }
      ],
      "source": [
        "import matplotlib.pyplot as plt\n",
        "\n",
        "#plot accuracy\n",
        "plt.plot(train_accu,'-o')\n",
        "plt.plot(eval_accu,'-o')\n",
        "plt.xlabel('epoch')\n",
        "plt.ylabel('accuracy')\n",
        "plt.legend(['Train','Valid'])\n",
        "plt.title('Train vs Valid Accuracy')\n",
        "\n",
        "plt.show()"
      ]
    },
    {
      "cell_type": "code",
      "execution_count": 12,
      "metadata": {
        "colab": {
          "base_uri": "https://localhost:8080/",
          "height": 472
        },
        "id": "QreYSzvJV0Bd",
        "outputId": "addfc98f-d6c6-4a59-8cc1-ec1fd2baa822"
      },
      "outputs": [
        {
          "output_type": "display_data",
          "data": {
            "text/plain": [
              "<Figure size 640x480 with 1 Axes>"
            ],
            "image/png": "[encoded data removed]"
          },
          "metadata": {}
        }
      ],
      "source": [
        "#plot losses\n",
        "plt.plot(train_losses,'-o')\n",
        "plt.plot(eval_losses,'-o')\n",
        "plt.xlabel('epoch')\n",
        "plt.ylabel('losses')\n",
        "plt.legend(['Train','Valid'])\n",
        "plt.title('Train vs Valid Losses')\n",
        "\n",
        "plt.show()"
      ]
    },
    {
      "cell_type": "code",
      "execution_count": 13,
      "metadata": {
        "colab": {
          "base_uri": "https://localhost:8080/"
        },
        "id": "3RQTChNDWNkL",
        "outputId": "3c22bc2a-3683-409a-af93-2f1ac79ee314"
      },
      "outputs": [
        {
          "output_type": "stream",
          "name": "stderr",
          "text": [
            "100%|██████████| 313/313 [00:03<00:00, 88.89it/s]\n"
          ]
        }
      ],
      "source": [
        "y_true = []\n",
        "y_pred = []\n",
        "\n",
        "for data in tqdm(testloader):\n",
        "  images,labels=data[0].to(device),data[1]  \n",
        "  y_true.extend(labels.numpy())\n",
        "\n",
        "  outputs=model(images)\n",
        "\n",
        "  _, predicted = torch.max(outputs, 1)\n",
        "  y_pred.extend(predicted.cpu().numpy())"
      ]
    },
    {
      "cell_type": "code",
      "execution_count": 14,
      "metadata": {
        "colab": {
          "base_uri": "https://localhost:8080/"
        },
        "id": "AI4OIswfWf8Q",
        "outputId": "3a3d8cb2-9380-4271-bbe1-f57b6e4f5e42"
      },
      "outputs": [
        {
          "output_type": "stream",
          "name": "stdout",
          "text": [
            "[3, 8, 8, 0, 6, 6, 1, 6, 3, 1, 5, 9, 5, 7, 9, 8, 5, 7, 8, 6, 7, 2, 2, 9, 4, 2, 4, 0, 9, 6, 6, 5, 2, 5, 9, 8, 4, 1, 9, 5, 4, 6, 3, 6, 0, 9, 3, 3, 7, 6, 9, 8, 3, 3, 8, 8, 7, 7, 4, 5, 7, 5, 6, 9, 6, 2, 1, 2, 3, 7, 2, 6, 8, 8, 0, 2, 0, 3, 5, 8, 8, 1, 1, 7, 2, 5, 2, 7, 8, 9, 0, 6, 8, 6, 4, 6, 6, 0, 0, 7, 7, 5, 6, 3, 1, 1, 3, 6, 8, 7, 4, 0, 2, 2, 1, 3, 0, 4, 6, 7, 8, 3, 1, 2, 8, 2, 8, 3, 6, 2, 4, 1, 8, 9, 1, 2, 9, 7, 2, 1, 6, 5, 6, 3, 8, 7, 6, 5, 5, 2, 8, 9, 6, 0, 0, 5, 2, 9, 3, 4, 2, 1, 6, 6, 8, 4, 8, 4, 7, 0, 9, 0, 9, 8, 9, 9, 3, 7, 5, 9, 0, 5, 2, 2, 0, 8, 6, 3, 3, 0, 5, 3, 0, 1, 7, 2, 8, 8, 7, 8, 3, 1, 8, 7, 1, 3, 0, 5, 7, 9, 7, 4, 5, 7, 8, 0, 7, 9, 8, 2, 7, 6, 9, 4, 4, 9, 4, 4, 7, 6, 5, 1, 3, 8, 8, 0, 4, 0, 5, 5, 1, 1, 8, 9, 0, 8, 1, 8, 4, 0, 5, 3, 9, 9, 2, 0, 3, 0, 8, 9, 8, 1, 5, 7, 1, 8, 2, 4, 7, 0, 2, 3, 6, 3, 8, 5, 0, 2, 4, 3, 9, 0, 6, 1, 9, 9, 1, 0, 7, 9, 1, 2, 6, 1, 3, 4, 6, 0, 0, 6, 6, 6, 5, 2, 6, 1, 8, 2, 1, 4, 8, 6, 0, 2, 4, 0, 7, 7, 5, 5, 3, 5, 2, 5, 4, 1, 7, 5, 4, 6, 1, 9, 6, 6, 6, 9, 3, 8, 0, 7, 2, 6, 2, 7, 8, 5, 7, 6, 8, 9, 9, 1, 0, 2, 2, 4, 5, 2, 8, 0, 9, 5, 8, 9, 9, 4, 1, 6, 0, 1, 2, 7, 9, 4, 2, 7, 0, 7, 2, 6, 6, 9, 0, 9, 5, 8, 7, 2, 5, 5, 1, 2, 6, 6, 9, 6, 2, 7, 0, 3, 9, 8, 7, 8, 8, 6, 0, 1, 8, 2, 7, 9, 4, 6, 1, 9, 0, 7, 3, 7, 4, 5, 8, 0, 2, 9, 6, 4, 0, 6, 4, 5, 5, 7, 3, 7, 2, 5, 5, 1, 1, 4, 9, 9, 5, 7, 5, 0, 2, 0, 2, 9, 7, 5, 9, 4, 4, 4, 4, 9, 5, 6, 1, 4, 3, 4, 4, 3, 7, 8, 3, 7, 8, 0, 5, 7, 6, 8, 5, 4, 9, 6, 8, 1, 5, 0, 9, 9, 5, 0, 1, 0, 8, 1, 1, 8, 0, 2, 2, 0, 4, 6, 5, 4, 9, 4, 7, 9, 9, 4, 5, 6, 6, 1, 5, 3, 8, 9, 7, 8, 5, 7, 0, 7, 0, 6, 0, 0, 4, 6, 9, 0, 1, 5, 6, 6, 6, 2, 8, 0, 1, 5, 6, 7, 5, 9, 1, 6, 2, 5, 5, 2, 8, 5, 9, 4, 6, 4, 3, 2, 0, 7, 6, 0, 2, 3, 9, 3, 9, 2, 6, 7, 1, 3, 6, 6, 8, 9, 7, 5, 4, 0, 8, 4, 0, 9, 3, 4, 8, 9, 6, 9, 2, 6, 1, 4, 7, 2, 2, 3, 8, 5, 0, 2, 1, 6, 4, 2, 3, 9, 6, 9, 8, 8, 5, 8, 6, 6, 7, 1, 7, 7, 1, 2, 7, 9, 9, 4, 4, 1, 0, 5, 6, 8, 7, 6, 8, 3, 0, 5, 5, 3, 0, 7, 9, 1, 3, 4, 4, 5, 3, 1, 5, 6, 9, 2, 1, 1, 4, 1, 9, 4, 7, 6, 3, 0, 9, 0, 1, 3, 6, 7, 2, 3, 2, 8, 3, 1, 3, 5, 1, 6, 4, 8, 9, 3, 9, 6, 6, 0, 3, 2, 2, 7, 8, 3, 8, 2, 7, 5, 7, 2, 4, 8, 7, 4, 2, 9, 8, 8, 2, 0, 8, 7, 4, 3, 3, 8, 7, 9, 4, 8, 8, 1, 8, 0, 1, 2, 6, 5, 7, 0, 7, 9, 8, 6, 1, 4, 1, 7, 7, 7, 0, 7, 6, 7, 6, 6, 2, 3, 9, 2, 9, 1, 2, 2, 6, 8, 2, 1, 7, 6, 6, 0, 1, 2, 7, 5, 5, 4, 1, 1, 6, 4, 0, 2, 5, 6, 0, 5, 9, 1, 7, 6, 7, 0, 3, 9, 6, 8, 0, 0, 6, 4, 7, 7, 4, 4, 7, 2, 7, 1, 2, 7, 4, 4, 8, 2, 7, 9, 2, 2, 7, 2, 0, 8, 9, 5, 8, 0, 6, 2, 0, 8, 7, 3, 7, 6, 5, 3, 1, 6, 2, 2, 5, 4, 9, 2, 9, 2, 7, 0, 7, 2, 1, 0, 2, 0, 2, 4, 7, 9, 8, 1, 0, 7, 7, 0, 7, 8, 4, 6, 3, 3, 0, 1, 5, 7, 0, 1, 3, 1, 3, 2, 3, 8, 4, 2, 3, 7, 8, 4, 0, 0, 9, 0, 9, 1, 2, 4, 4, 6, 7, 3, 1, 1, 3, 7, 7, 5, 3, 6, 6, 5, 8, 7, 1, 6, 8, 8, 7, 3, 3, 4, 0, 1, 4, 8, 8, 0, 6, 9, 9, 9, 5, 5, 8, 6, 0, 0, 4, 2, 3, 2, 7, 2, 2, 5, 1, 8, 9, 1, 7, 4, 0, 3, 0, 1, 4, 8, 3, 9, 6, 1, 4, 7, 8, 5, 7, 8, 9, 1, 1, 6, 6, 6, 6, 9, 1, 9, 9, 4, 5, 1, 7, 0, 6, 0, 1, 9, 2, 9, 3, 4, 7, 8, 3, 1, 2, 0, 1, 5, 8, 7, 6, 5, 8, 1, 3, 8, 5, 0, 8, 4, 8, 1, 1, 8, 1, 6, 0, 8, 6, 1, 3, 4, 1, 6, 0, 3, 1, 1, 0, 0, 3, 5, 0, 0, 6, 6, 3, 3, 6, 3, 5, 6, 0, 7, 2, 2, 7, 5, 2, 2, 8, 5, 2, 1, 1, 1, 3, 6, 0, 5, 1, 5, 3, 7, 6, 8, 9, 1, 6, 4, 7, 0, 9, 0, 9, 6, 3, 6, 8, 7, 6, 8, 0, 0, 0, 6, 6, 6, 9, 2, 5, 4, 4, 6, 5, 6, 0, 8, 6, 2, 6, 2, 7, 5, 1, 2, 5, 8, 8, 0, 9, 3, 9, 7, 2, 0, 2, 8, 4, 8, 9, 1, 5, 5, 7, 7, 5, 3, 8, 3, 3, 6, 0, 8, 4, 6, 7, 9, 3, 4, 1, 6, 9, 3, 5, 8, 6, 1, 8, 6, 1, 4, 2, 9, 2, 7, 7, 2, 0, 8, 6, 9, 1, 7, 1, 8, 8, 0, 7, 2, 8, 0, 3, 3, 3, 7, 7, 9, 7, 3, 1, 9, 1, 9, 2, 3, 3, 6, 1, 0, 6, 1, 4, 1, 0, 0, 1, 1, 6, 5, 4, 6, 2, 0, 7, 9, 8, 5, 2, 0, 6, 0, 1, 4, 3, 7, 0, 6, 1, 8, 5, 7, 8, 4, 8, 3, 6, 9, 9, 8, 7, 6, 6, 3, 5, 1, 5, 9, 1, 4, 1, 5, 2, 0, 1, 6, 2, 8, 8, 8, 3, 6, 7, 3, 2, 4, 7, 2, 5, 8, 2, 4, 9, 2, 1, 8, 1, 8, 8, 8, 8, 1, 0, 4, 5, 3, 1, 8, 7, 6, 3, 3, 5, 2, 2, 8, 5, 8, 9, 5, 8, 9, 8, 9, 1, 6, 5, 9, 7, 4, 8, 0, 7, 0, 9, 7, 4, 1, 6, 6, 8, 1, 1, 2, 5, 6, 0, 8, 6, 1, 9, 4, 5, 9, 5, 0, 7, 2, 0, 0, 4, 4, 6, 6, 3, 7, 3, 8, 1, 7, 2, 1, 4, 5, 6, 3, 1, 4, 7, 0, 9, 4, 9, 8, 2, 8, 4, 7, 2, 3, 1, 5, 2, 9, 8, 9, 7, 9, 5, 1, 4, 0, 8, 2, 3, 8, 9, 1, 9, 5, 2, 4, 9, 3, 1, 7, 4, 6, 2, 8, 9, 5, 3, 9, 5, 5, 6, 5, 2, 2, 6, 6, 1, 0, 7, 0, 5, 4, 7, 6, 1, 1, 9, 8, 1, 0, 1, 3, 1, 1, 1, 7, 3, 9, 6, 8, 4, 6, 8, 4, 9, 3, 7, 9, 7, 6, 8, 4, 9, 7, 0, 1, 6, 1, 1, 9, 8, 4, 3, 4, 1, 4, 0, 8, 4, 6, 2, 2, 6, 5, 3, 6, 2, 1, 1, 8, 6, 0, 4, 0, 1, 9, 7, 1, 3, 7, 7, 0, 7, 7, 3, 9, 7, 7, 7, 3, 1, 2, 8, 6, 4, 0, 7, 9, 8, 6, 8, 3, 8, 1, 7, 2, 2, 8, 5, 8, 1, 3, 2, 5, 1, 2, 7, 2, 8, 1, 8, 1, 8, 6, 0, 2, 4, 1, 3, 6, 7, 7, 4, 4, 3, 3, 4, 5, 2, 4, 3, 7, 8, 4, 4, 4, 3, 4, 7, 2, 8, 4, 5, 5, 4, 1, 4, 2, 5, 9, 6, 4, 3, 4, 4, 0, 8, 8, 4, 5, 7, 5, 6, 9, 1, 6, 7, 2, 0, 1, 4, 5, 6, 0, 5, 2, 4, 5, 6, 0, 7, 5, 9, 1, 7, 7, 5, 0, 5, 6, 4, 1, 4, 3, 3, 3, 0, 3, 5, 5, 8, 9, 7, 3, 1, 2, 2, 3, 4, 4, 3, 3, 3, 8, 1, 7, 7, 0, 7, 4, 8, 1, 4, 2, 4, 3, 9, 9, 4, 9, 9, 9, 0, 1, 6, 7, 5, 5, 4, 9, 7, 6, 5, 9, 6, 4, 0, 7, 8, 5, 5, 0, 0, 9, 9, 8, 4, 5, 4, 8, 3, 6, 3, 6, 0, 6, 6, 6, 9, 6, 6, 8, 6, 6, 4, 5, 8, 1, 2, 7, 6, 5, 7, 8, 1, 6, 0, 0, 6, 9, 4, 8, 9, 8, 0, 9, 7, 9, 5, 7, 5, 5, 9, 5, 3, 0, 1, 9, 7, 2, 2, 1, 0, 8, 0, 5, 1, 7, 8, 0, 4, 0, 6, 5, 4, 0, 0, 9, 0, 8, 4, 3, 1, 3, 9, 0, 5, 6, 5, 4, 1, 0, 8, 1, 0, 5, 4, 1, 0, 2, 8, 1, 5, 6, 7, 7, 3, 6, 2, 4, 0, 1, 4, 2, 2, 6, 6, 2, 2, 1, 7, 2, 0, 5, 5, 3, 0, 4, 8, 2, 7, 6, 3, 8, 1, 0, 1, 5, 5, 0, 7, 6, 9, 5, 3, 6, 0, 1, 4, 4, 4, 4, 2, 3, 5, 8, 1, 4, 9, 8, 1, 1, 5, 4, 9, 9, 7, 6, 5, 0, 8, 4, 3, 3, 9, 2, 8, 4, 7, 1, 3, 9, 6, 8, 9, 0, 4, 9, 6, 7, 8, 9, 4, 8, 9, 7, 2, 5, 3, 7, 3, 0, 2, 9, 5, 5, 8, 5, 7, 2, 8, 3, 5, 5, 7, 7, 8, 4, 7, 8, 2, 3, 5, 6, 8, 0, 2, 3, 7, 0, 1, 9, 1, 3, 5, 5, 9, 5, 2, 9, 6, 8, 6, 9, 3, 0, 9, 8, 7, 7, 8, 5, 0, 0, 1, 5, 9, 1, 5, 3, 5, 4, 0, 9, 9, 9, 9, 8, 2, 4, 2, 0, 5, 1, 5, 1, 0, 9, 4, 2, 1, 6, 0, 3, 5, 6, 3, 9, 0, 6, 5, 7, 4, 8, 7, 7, 8, 3, 5, 0, 3, 7, 4, 4, 2, 2, 7, 7, 4, 0, 5, 7, 6, 2, 3, 0, 7, 7, 8, 9, 1, 4, 6, 0, 6, 3, 5, 5, 6, 5, 9, 3, 6, 3, 7, 6, 2, 9, 5, 6, 4, 1, 6, 2, 9, 2, 5, 9, 8, 5, 1, 5, 2, 5, 7, 2, 7, 8, 9, 1, 3, 4, 5, 6, 8, 4, 6, 5, 3, 9, 9, 8, 3, 5, 6, 4, 3, 9, 7, 5, 4, 1, 2, 2, 2, 6, 3, 5, 2, 1, 0, 0, 1, 8, 3, 1, 3, 5, 8, 4, 8, 5, 8, 6, 3, 5, 5, 5, 0, 8, 5, 4, 7, 1, 8, 6, 4, 4, 3, 4, 2, 9, 6, 2, 2, 4, 3, 0, 6, 0, 1, 6, 2, 8, 7, 2, 1, 0, 7, 7, 2, 2, 1, 6, 5, 0, 2, 2, 0, 1, 2, 6, 0, 1, 6, 6, 5, 3, 5, 0, 0, 1, 1, 0, 2, 5, 9, 7, 8, 6, 8, 6, 0, 2, 0, 1, 1, 4, 6, 9, 0, 7, 2, 3, 4, 8, 6, 2, 6, 8, 9, 7, 1, 9, 3, 4, 2, 7, 9, 6, 9, 5, 7, 8, 5, 9, 8, 5, 9, 8, 0, 5, 5, 7, 1, 0, 0, 7, 5, 8, 2, 2, 0, 3, 9, 5, 1, 9, 6, 1, 4, 5, 4, 4, 9, 0, 1, 3, 9, 2, 9, 4, 0, 0, 8, 4, 8, 6, 8, 2, 0, 5, 9, 6, 9, 5, 1, 3, 4, 4, 2, 7, 2, 4, 4, 0, 5, 8, 4, 5, 1, 2, 6, 8, 1, 7, 6, 8, 7, 4, 3, 5, 9, 5, 7, 2, 5, 6, 1, 7, 1, 0, 3, 3, 9, 0, 1, 5, 8, 0, 7, 6, 3, 3, 8, 1, 4, 0, 1, 5, 4, 3, 2, 6, 0, 8, 8, 3, 3, 3, 4, 9, 7, 5, 1, 6, 0, 5, 9, 9, 3, 5, 9, 7, 8, 6, 5, 2, 5, 1, 9, 5, 5, 1, 1, 8, 9, 7, 0, 6, 2, 2, 0, 2, 6, 3, 3, 9, 1, 6, 6, 7, 2, 6, 3, 2, 6, 5, 2, 7, 3, 3, 0, 8, 0, 5, 7, 1, 7, 4, 0, 7, 2, 6, 1, 5, 9, 7, 6, 2, 7, 0, 5, 6, 0, 1, 1, 8, 4, 5, 2, 9, 2, 4, 8, 1, 8, 1, 3, 2, 7, 2, 2, 5, 6, 7, 9, 4, 0, 1, 0, 4, 5, 0, 8, 0, 7, 6, 1, 8, 8, 5, 9, 2, 7, 7, 7, 9, 0, 6, 1, 2, 5, 1, 4, 7, 1, 5, 8, 8, 0, 3, 9, 4, 0, 6, 4, 9, 2, 2, 3, 0, 6, 4, 3, 6, 6, 7, 8, 3, 8, 8, 7, 5, 8, 0, 2, 3, 6, 8, 7, 8, 9, 9, 0, 6, 6, 8, 1, 1, 7, 4, 6, 2, 5, 6, 9, 0, 2, 7, 1, 8, 2, 4, 1, 3, 8, 6, 8, 5, 9, 0, 1, 0, 2, 9, 2, 9, 0, 9, 7, 8, 5, 0, 6, 6, 8, 1, 6, 5, 8, 7, 9, 2, 1, 6, 4, 5, 6, 3, 0, 9, 8, 9, 5, 3, 9, 0, 3, 6, 6, 4, 8, 8, 1, 7, 7, 0, 6, 6, 4, 1, 2, 2, 1, 2, 2, 9, 7, 4, 1, 5, 1, 4, 3, 5, 5, 8, 9, 3, 2, 2, 1, 5, 9, 8, 5, 1, 2, 8, 2, 1, 0, 4, 2, 4, 8, 4, 0, 6, 4, 4, 9, 8, 4, 7, 6, 2, 4, 7, 7, 6, 4, 2, 2, 3, 2, 5, 4, 0, 0, 9, 6, 5, 8, 5, 2, 4, 8, 8, 5, 7, 5, 7, 6, 5, 2, 0, 4, 0, 2, 8, 4, 8, 0, 4, 9, 2, 3, 6, 8, 1, 6, 0, 8, 4, 5, 1, 4, 5, 2, 4, 5, 6, 0, 7, 1, 3, 5, 7, 1, 8, 0, 4, 8, 2, 7, 7, 0, 6, 2, 4, 3, 3, 1, 4, 1, 6, 4, 6, 7, 4, 7, 3, 8, 1, 3, 1, 4, 6, 9, 8, 7, 4, 5, 4, 9, 7, 7, 2, 2, 3, 6, 7, 2, 1, 6, 1, 0, 6, 9, 6, 0, 4, 0, 6, 6, 7, 0, 0, 0, 0, 7, 5, 3, 2, 7, 8, 5, 3, 1, 2, 8, 9, 1, 4, 2, 0, 3, 4, 9, 1, 6, 0, 8, 0, 3, 6, 4, 6, 7, 5, 1, 8, 9, 0, 5, 0, 5, 3, 3, 8, 4, 0, 0, 8, 5, 9, 2, 3, 6, 5, 7, 7, 7, 2, 9, 0, 4, 2, 1, 6, 2, 9, 9, 8, 6, 3, 1, 0, 5, 2, 3, 5, 9, 5, 9, 1, 1, 3, 2, 7, 5, 4, 1, 9, 4, 3, 5, 2, 7, 7, 6, 1, 5, 3, 7, 5, 4, 5, 7, 7, 0, 0, 1, 2, 4, 3, 7, 9, 8, 7, 0, 9, 0, 3, 7, 6, 5, 8, 4, 5, 6, 5, 7, 4, 2, 9, 5, 4, 7, 2, 0, 1, 1, 3, 7, 9, 4, 1, 6, 0, 5, 3, 7, 6, 4, 5, 2, 6, 6, 3, 3, 0, 4, 1, 3, 8, 1, 2, 3, 2, 7, 5, 2, 4, 6, 8, 6, 6, 5, 4, 2, 9, 7, 4, 2, 0, 4, 1, 5, 5, 6, 6, 5, 6, 9, 5, 9, 0, 8, 3, 1, 9, 8, 1, 9, 0, 3, 0, 4, 7, 7, 2, 4, 5, 6, 9, 7, 7, 5, 7, 0, 8, 6, 5, 8, 3, 8, 9, 5, 2, 9, 2, 7, 4, 1, 9, 7, 0, 0, 1, 2, 0, 6, 5, 1, 4, 2, 8, 2, 8, 3, 7, 1, 4, 9, 8, 1, 1, 7, 9, 9, 4, 6, 1, 5, 5, 2, 2, 0, 8, 5, 1, 9, 7, 9, 1, 3, 3, 1, 0, 3, 8, 9, 7, 0, 8, 8, 7, 9, 4, 8, 3, 0, 7, 0, 7, 2, 5, 5, 4, 3, 0, 6, 1, 0, 6, 7, 0, 8, 4, 4, 5, 2, 8, 1, 4, 3, 5, 4, 3, 4, 0, 8, 4, 8, 5, 5, 6, 5, 1, 7, 0, 4, 2, 5, 6, 8, 7, 6, 3, 1, 5, 6, 6, 2, 5, 5, 5, 1, 8, 7, 3, 0, 6, 7, 1, 1, 9, 6, 7, 6, 1, 2, 5, 9, 8, 0, 1, 7, 4, 8, 4, 7, 5, 8, 3, 0, 5, 0, 8, 2, 3, 0, 9, 5, 6, 1, 5, 7, 7, 9, 2, 1, 3, 1, 3, 0, 4, 0, 7, 8, 5, 1, 3, 2, 1, 8, 8, 1, 9, 7, 3, 3, 2, 9, 0, 6, 8, 4, 1, 5, 7, 2, 4, 7, 5, 4, 9, 0, 7, 0, 6, 7, 1, 8, 5, 8, 8, 2, 0, 0, 6, 0, 5, 7, 0, 6, 4, 4, 9, 1, 8, 6, 3, 9, 4, 9, 3, 3, 7, 5, 9, 7, 5, 4, 5, 8, 2, 8, 9, 5, 3, 1, 9, 6, 2, 0, 1, 9, 8, 1, 1, 9, 8, 9, 9, 0, 2, 6, 9, 1, 9, 0, 1, 9, 2, 1, 9, 9, 1, 9, 9, 2, 1, 7, 0, 5, 6, 6, 9, 8, 3, 0, 2, 0, 7, 4, 8, 3, 0, 4, 2, 3, 5, 7, 6, 6, 6, 5, 6, 5, 4, 3, 8, 8, 0, 9, 7, 9, 9, 6, 9, 6, 1, 3, 7, 2, 0, 3, 5, 4, 7, 6, 9, 8, 2, 3, 9, 3, 3, 7, 8, 3, 5, 5, 1, 6, 1, 0, 7, 4, 8, 7, 7, 1, 5, 0, 3, 4, 5, 4, 1, 3, 5, 4, 7, 0, 3, 7, 0, 2, 1, 0, 8, 7, 3, 5, 7, 8, 5, 7, 8, 1, 7, 4, 7, 2, 8, 3, 2, 9, 7, 4, 1, 6, 5, 9, 8, 5, 5, 4, 1, 0, 9, 4, 4, 3, 6, 4, 2, 0, 8, 2, 9, 3, 9, 7, 4, 6, 7, 9, 2, 9, 3, 7, 7, 8, 2, 7, 6, 2, 5, 3, 6, 4, 7, 2, 3, 7, 8, 4, 2, 5, 0, 0, 7, 0, 5, 6, 1, 0, 5, 9, 7, 4, 9, 1, 2, 8, 1, 2, 3, 0, 5, 4, 3, 9, 3, 4, 4, 1, 2, 4, 9, 0, 7, 9, 3, 1, 2, 1, 6, 6, 6, 5, 7, 4, 5, 8, 5, 2, 8, 7, 8, 2, 7, 6, 1, 5, 3, 9, 5, 1, 9, 0, 9, 2, 0, 8, 2, 4, 8, 5, 7, 6, 1, 6, 9, 4, 5, 0, 3, 7, 7, 4, 7, 1, 4, 5, 0, 2, 8, 5, 0, 0, 6, 2, 2, 8, 4, 5, 4, 5, 6, 4, 7, 9, 6, 3, 0, 2, 2, 2, 0, 3, 4, 6, 1, 1, 5, 3, 2, 2, 6, 3, 4, 5, 6, 1, 5, 2, 1, 9, 6, 5, 0, 2, 9, 7, 1, 7, 2, 2, 0, 8, 6, 4, 3, 2, 7, 7, 0, 4, 1, 6, 5, 1, 6, 4, 3, 9, 0, 9, 2, 0, 0, 4, 0, 1, 1, 8, 7, 9, 4, 2, 4, 3, 3, 4, 0, 4, 3, 3, 8, 9, 1, 5, 5, 1, 8, 2, 2, 4, 6, 4, 1, 1, 6, 6, 8, 5, 2, 2, 5, 0, 8, 2, 3, 6, 2, 9, 6, 1, 4, 5, 9, 0, 1, 7, 0, 8, 1, 1, 6, 6, 6, 5, 4, 9, 7, 8, 6, 0, 1, 7, 6, 0, 9, 5, 4, 3, 2, 3, 3, 4, 9, 7, 1, 4, 4, 6, 1, 3, 8, 8, 5, 6, 7, 7, 6, 7, 2, 5, 4, 4, 6, 2, 7, 3, 4, 3, 5, 2, 6, 3, 2, 0, 9, 5, 1, 1, 5, 3, 2, 4, 3, 2, 1, 0, 4, 5, 5, 4, 8, 9, 9, 3, 1, 8, 9, 1, 3, 3, 4, 4, 2, 9, 7, 6, 8, 1, 8, 9, 9, 3, 1, 7, 3, 0, 0, 2, 8, 5, 9, 2, 7, 4, 6, 0, 1, 6, 1, 6, 7, 5, 5, 2, 5, 9, 4, 0, 2, 3, 4, 9, 4, 1, 0, 0, 2, 3, 5, 9, 2, 8, 9, 7, 7, 9, 1, 4, 6, 2, 8, 3, 4, 8, 9, 3, 1, 1, 6, 5, 8, 4, 6, 6, 5, 2, 6, 4, 2, 3, 1, 4, 6, 8, 5, 2, 0, 7, 1, 4, 2, 7, 9, 2, 8, 1, 6, 9, 2, 7, 5, 3, 2, 9, 7, 0, 2, 9, 5, 4, 1, 7, 9, 5, 8, 9, 7, 3, 6, 0, 1, 7, 4, 3, 4, 7, 0, 1, 8, 1, 0, 4, 6, 1, 9, 9, 0, 1, 2, 3, 6, 9, 7, 7, 3, 4, 2, 0, 2, 5, 2, 7, 6, 7, 2, 4, 2, 0, 6, 1, 7, 5, 6, 5, 7, 9, 0, 7, 8, 5, 9, 3, 8, 5, 4, 3, 7, 9, 8, 1, 4, 2, 8, 9, 3, 0, 8, 4, 0, 2, 0, 1, 4, 3, 8, 5, 5, 7, 9, 8, 5, 7, 9, 1, 5, 3, 9, 8, 7, 2, 0, 9, 0, 8, 5, 9, 5, 2, 9, 8, 1, 9, 1, 8, 3, 7, 6, 4, 2, 3, 7, 0, 5, 5, 8, 8, 8, 7, 9, 6, 2, 7, 4, 7, 7, 6, 7, 1, 7, 3, 6, 8, 4, 6, 6, 7, 1, 3, 9, 7, 1, 7, 0, 1, 2, 3, 3, 9, 0, 1, 2, 5, 2, 2, 5, 4, 9, 8, 7, 4, 4, 9, 7, 6, 7, 7, 1, 4, 4, 5, 1, 9, 0, 6, 3, 1, 5, 6, 6, 2, 4, 6, 8, 8, 9, 3, 6, 1, 0, 7, 5, 8, 2, 1, 5, 8, 1, 4, 7, 5, 0, 6, 0, 9, 5, 2, 8, 7, 1, 9, 0, 4, 4, 8, 2, 3, 0, 7, 9, 8, 7, 1, 6, 2, 1, 0, 5, 9, 7, 6, 7, 7, 1, 1, 2, 4, 2, 0, 6, 8, 3, 5, 2, 2, 9, 0, 2, 7, 2, 0, 5, 8, 6, 8, 2, 7, 7, 7, 1, 8, 1, 6, 5, 9, 7, 8, 9, 6, 5, 8, 1, 9, 4, 0, 4, 1, 4, 3, 6, 2, 2, 0, 0, 9, 7, 0, 7, 4, 3, 6, 7, 7, 4, 5, 4, 3, 6, 5, 4, 0, 4, 0, 7, 7, 1, 6, 5, 0, 7, 7, 4, 6, 1, 8, 5, 9, 3, 5, 6, 2, 2, 7, 6, 5, 8, 1, 0, 6, 8, 7, 8, 8, 5, 7, 2, 4, 9, 7, 3, 3, 8, 8, 6, 9, 4, 7, 2, 0, 8, 0, 7, 0, 5, 2, 5, 2, 9, 5, 0, 4, 8, 6, 4, 0, 6, 4, 5, 6, 0, 8, 0, 0, 6, 1, 1, 6, 1, 4, 2, 1, 1, 2, 3, 4, 4, 3, 8, 8, 5, 1, 8, 2, 7, 3, 9, 6, 6, 3, 0, 7, 3, 3, 2, 7, 4, 5, 6, 0, 2, 1, 8, 1, 0, 9, 3, 1, 0, 5, 4, 2, 3, 3, 6, 7, 6, 0, 0, 5, 7, 4, 7, 7, 0, 6, 1, 7, 9, 0, 9, 0, 3, 8, 4, 9, 8, 4, 1, 0, 2, 4, 4, 1, 1, 2, 4, 2, 4, 1, 4, 7, 1, 0, 0, 9, 0, 4, 2, 8, 8, 5, 5, 0, 4, 0, 8, 6, 2, 5, 9, 2, 9, 1, 1, 5, 4, 7, 5, 8, 6, 7, 1, 5, 7, 5, 4, 1, 8, 9, 9, 8, 9, 8, 6, 8, 5, 8, 9, 4, 6, 4, 8, 3, 7, 4, 0, 0, 1, 7, 5, 1, 5, 1, 3, 1, 6, 0, 7, 6, 6, 9, 1, 2, 3, 1, 7, 3, 6, 1, 9, 0, 0, 1, 9, 9, 0, 8, 4, 5, 5, 5, 0, 3, 2, 0, 4, 4, 7, 5, 0, 1, 0, 8, 8, 1, 2, 1, 5, 4, 5, 9, 6, 7, 1, 0, 6, 9, 3, 7, 7, 7, 9, 9, 1, 9, 7, 0, 1, 3, 5, 4, 6, 3, 8, 8, 0, 4, 8, 3, 6, 3, 3, 0, 6, 5, 2, 6, 8, 4, 9, 9, 9, 2, 0, 3, 7, 8, 1, 1, 0, 0, 0, 7, 4, 1, 1, 9, 7, 7, 6, 6, 8, 6, 0, 2, 8, 5, 2, 5, 3, 5, 7, 9, 8, 4, 4, 3, 1, 4, 8, 4, 6, 5, 3, 1, 8, 9, 5, 7, 6, 3, 0, 4, 9, 9, 0, 5, 5, 3, 3, 1, 1, 0, 2, 8, 2, 1, 1, 7, 5, 2, 3, 4, 1, 2, 9, 2, 1, 9, 4, 8, 9, 0, 0, 4, 1, 0, 2, 2, 0, 6, 8, 7, 3, 6, 8, 9, 0, 2, 5, 3, 6, 1, 3, 1, 5, 0, 2, 4, 4, 0, 1, 5, 0, 1, 7, 9, 9, 6, 2, 4, 7, 8, 5, 4, 7, 0, 2, 8, 4, 8, 4, 8, 8, 8, 4, 3, 5, 7, 4, 0, 4, 1, 5, 9, 7, 0, 6, 8, 4, 9, 0, 1, 8, 9, 6, 3, 9, 2, 4, 4, 0, 3, 5, 4, 4, 5, 1, 1, 8, 2, 2, 9, 3, 7, 8, 9, 2, 3, 1, 7, 4, 0, 6, 0, 1, 0, 3, 5, 3, 4, 3, 8, 0, 0, 3, 1, 3, 4, 7, 4, 2, 8, 4, 8, 9, 9, 4, 2, 4, 5, 6, 4, 6, 4, 6, 6, 3, 8, 7, 4, 8, 0, 5, 9, 3, 2, 0, 7, 5, 1, 9, 7, 9, 1, 1, 4, 2, 1, 6, 4, 3, 8, 1, 4, 8, 6, 1, 7, 1, 5, 2, 4, 3, 6, 9, 7, 8, 2, 5, 5, 4, 5, 4, 5, 7, 2, 5, 7, 1, 5, 7, 8, 3, 6, 0, 2, 5, 2, 2, 7, 4, 2, 1, 6, 8, 6, 8, 7, 2, 7, 5, 9, 7, 1, 4, 3, 3, 6, 1, 7, 3, 0, 0, 4, 2, 8, 6, 6, 0, 3, 4, 7, 4, 9, 4, 9, 9, 5, 4, 1, 4, 0, 3, 7, 1, 2, 2, 8, 4, 7, 8, 5, 5, 6, 5, 6, 0, 6, 4, 9, 4, 2, 7, 3, 8, 3, 9, 4, 1, 6, 1, 9, 4, 5, 9, 8, 1, 6, 9, 5, 9, 0, 9, 7, 7, 4, 4, 2, 6, 4, 5, 1, 9, 5, 6, 3, 1, 8, 6, 6, 7, 6, 7, 0, 3, 4, 6, 1, 2, 8, 1, 6, 4, 9, 0, 3, 9, 1, 0, 5, 4, 1, 6, 9, 8, 9, 0, 6, 1, 6, 2, 3, 5, 6, 9, 0, 7, 2, 4, 8, 3, 6, 8, 6, 9, 1, 9, 4, 6, 2, 3, 9, 5, 4, 1, 9, 2, 0, 7, 3, 5, 1, 8, 7, 0, 5, 0, 8, 8, 3, 9, 6, 0, 3, 5, 5, 4, 1, 3, 0, 7, 3, 9, 4, 5, 3, 1, 4, 6, 4, 9, 9, 7, 1, 7, 0, 1, 2, 1, 5, 3, 8, 4, 1, 5, 1, 9, 9, 7, 0, 1, 7, 6, 2, 6, 5, 1, 2, 1, 5, 8, 9, 1, 0, 8, 8, 5, 9, 2, 9, 1, 3, 6, 7, 6, 8, 8, 6, 2, 4, 2, 3, 6, 5, 4, 1, 6, 4, 1, 4, 1, 7, 1, 6, 2, 3, 0, 4, 6, 9, 7, 5, 5, 6, 0, 1, 8, 1, 1, 3, 5, 6, 7, 3, 8, 7, 6, 0, 7, 7, 5, 0, 1, 9, 9, 1, 1, 9, 3, 5, 5, 3, 0, 3, 0, 6, 6, 0, 6, 8, 9, 6, 6, 1, 1, 2, 7, 9, 0, 1, 0, 5, 4, 4, 7, 4, 8, 3, 3, 2, 7, 5, 7, 0, 1, 2, 9, 8, 1, 7, 3, 5, 9, 1, 9, 1, 1, 7, 6, 3, 4, 9, 3, 5, 6, 7, 0, 1, 7, 7, 5, 3, 3, 5, 1, 7, 6, 8, 4, 4, 5, 2, 3, 4, 7, 7, 4, 6, 0, 7, 2, 6, 7, 4, 1, 8, 0, 2, 6, 1, 5, 4, 0, 9, 6, 0, 4, 2, 3, 8, 5, 0, 0, 4, 6, 3, 1, 2, 0, 5, 7, 5, 5, 1, 7, 3, 1, 6, 4, 9, 0, 9, 2, 1, 4, 6, 1, 5, 9, 5, 0, 4, 9, 4, 9, 7, 1, 2, 8, 2, 6, 5, 2, 8, 1, 7, 5, 6, 9, 3, 2, 3, 9, 5, 6, 1, 0, 9, 0, 9, 8, 7, 7, 2, 2, 3, 5, 7, 9, 8, 7, 6, 9, 1, 9, 8, 6, 5, 6, 7, 5, 6, 7, 2, 5, 9, 6, 6, 7, 0, 1, 0, 1, 3, 4, 5, 6, 1, 2, 6, 1, 9, 9, 8, 6, 8, 3, 8, 9, 0, 4, 0, 3, 3, 6, 4, 3, 2, 7, 3, 5, 5, 6, 7, 6, 0, 3, 3, 3, 0, 2, 9, 2, 7, 2, 9, 2, 5, 0, 6, 6, 3, 3, 5, 5, 9, 1, 1, 3, 6, 7, 5, 4, 8, 0, 0, 3, 9, 2, 7, 4, 2, 8, 1, 6, 3, 1, 9, 6, 3, 8, 3, 8, 4, 7, 5, 7, 3, 7, 1, 2, 6, 1, 2, 2, 0, 7, 5, 0, 0, 0, 1, 2, 3, 3, 8, 4, 5, 1, 7, 6, 0, 4, 0, 4, 1, 6, 0, 1, 2, 1, 7, 7, 9, 8, 7, 5, 4, 0, 9, 0, 0, 8, 2, 0, 0, 2, 4, 8, 6, 2, 4, 6, 3, 5, 1, 5, 5, 7, 2, 2, 9, 8, 0, 0, 7, 6, 4, 4, 6, 1, 6, 7, 4, 2, 5, 9, 4, 0, 8, 0, 4, 6, 6, 7, 9, 7, 2, 5, 7, 7, 3, 1, 9, 3, 0, 9, 5, 3, 6, 9, 4, 4, 0, 7, 7, 1, 4, 1, 9, 8, 7, 0, 0, 4, 3, 2, 9, 7, 6, 1, 3, 5, 8, 0, 4, 6, 8, 3, 2, 4, 7, 1, 1, 3, 9, 7, 5, 1, 0, 8, 7, 0, 1, 6, 9, 3, 2, 7, 7, 8, 1, 0, 3, 2, 6, 7, 5, 2, 0, 1, 5, 5, 1, 4, 1, 3, 0, 8, 6, 2, 1, 6, 5, 2, 1, 9, 1, 4, 1, 0, 1, 9, 0, 6, 9, 0, 4, 7, 2, 2, 7, 4, 9, 1, 7, 6, 6, 3, 4, 4, 1, 3, 8, 2, 6, 6, 1, 6, 2, 8, 3, 8, 4, 6, 7, 1, 9, 5, 6, 4, 6, 0, 7, 1, 9, 3, 2, 6, 7, 7, 6, 5, 9, 1, 5, 6, 0, 2, 0, 1, 1, 8, 6, 2, 0, 0, 0, 5, 7, 7, 8, 5, 5, 5, 1, 6, 1, 5, 1, 0, 6, 4, 3, 2, 1, 2, 5, 1, 9, 8, 3, 7, 9, 7, 5, 0, 2, 6, 9, 4, 4, 3, 9, 6, 8, 6, 6, 8, 5, 4, 7, 6, 7, 7, 4, 6, 9, 6, 2, 4, 0, 1, 3, 6, 4, 9, 3, 6, 0, 4, 8, 7, 5, 8, 3, 8, 3, 2, 6, 3, 6, 5, 7, 3, 5, 7, 9, 0, 0, 6, 7, 2, 0, 5, 5, 7, 5, 5, 9, 4, 6, 4, 6, 2, 5, 6, 4, 1, 6, 3, 1, 6, 7, 0, 5, 7, 1, 6, 7, 2, 5, 2, 3, 9, 5, 3, 2, 0, 0, 0, 8, 0, 3, 2, 4, 5, 3, 7, 9, 6, 9, 3, 1, 2, 3, 7, 4, 4, 1, 3, 7, 6, 9, 5, 8, 5, 8, 5, 8, 5, 6, 5, 0, 8, 5, 8, 1, 8, 1, 5, 0, 9, 1, 6, 7, 6, 9, 4, 0, 7, 4, 7, 4, 3, 3, 4, 4, 5, 7, 3, 8, 5, 8, 0, 3, 4, 0, 5, 4, 3, 3, 2, 2, 2, 9, 4, 8, 8, 6, 2, 6, 1, 7, 0, 4, 3, 8, 5, 9, 7, 6, 4, 1, 0, 2, 3, 5, 6, 7, 1, 6, 2, 8, 3, 7, 2, 5, 7, 5, 7, 7, 1, 7, 4, 5, 3, 4, 0, 4, 2, 7, 0, 7, 2, 6, 6, 2, 5, 2, 6, 0, 3, 1, 5, 9, 2, 0, 1, 5, 5, 1, 6, 7, 8, 4, 6, 3, 3, 6, 0, 1, 9, 2, 2, 6, 1, 4, 6, 2, 5, 7, 0, 8, 3, 6, 3, 3, 2, 3, 5, 4, 4, 8, 9, 2, 6, 0, 9, 7, 9, 8, 7, 7, 3, 8, 6, 9, 3, 5, 7, 5, 8, 7, 3, 7, 0, 7, 1, 6, 2, 4, 3, 0, 2, 9, 8, 2, 8, 3, 4, 5, 6, 0, 1, 2, 9, 6, 1, 0, 1, 0, 6, 5, 0, 5, 7, 4, 4, 3, 7, 5, 3, 7, 2, 2, 8, 3, 5, 7, 3, 7, 0, 5, 4, 3, 6, 9, 3, 5, 5, 8, 3, 4, 6, 2, 6, 7, 6, 0, 5, 5, 8, 4, 5, 6, 1, 3, 5, 4, 5, 5, 0, 7, 2, 1, 1, 5, 4, 1, 6, 4, 5, 9, 7, 4, 3, 7, 4, 3, 1, 6, 9, 2, 8, 0, 5, 9, 4, 4, 4, 4, 1, 4, 6, 5, 0, 8, 9, 7, 6, 9, 4, 8, 1, 2, 5, 9, 0, 7, 1, 4, 5, 7, 1, 3, 6, 4, 7, 1, 3, 9, 2, 1, 4, 8, 7, 7, 1, 4, 2, 4, 6, 7, 7, 2, 4, 5, 4, 7, 6, 6, 1, 9, 9, 7, 0, 4, 5, 2, 9, 8, 5, 0, 6, 9, 0, 9, 7, 8, 5, 2, 4, 9, 0, 6, 6, 6, 9, 9, 7, 9, 9, 0, 5, 1, 1, 0, 6, 9, 9, 5, 6, 5, 5, 9, 7, 9, 4, 5, 4, 7, 2, 9, 8, 8, 3, 7, 8, 7, 0, 4, 0, 7, 2, 8, 0, 2, 0, 7, 4, 0, 6, 2, 3, 1, 7, 2, 6, 4, 0, 4, 9, 5, 6, 6, 3, 0, 5, 2, 6, 3, 3, 8, 2, 8, 5, 4, 2, 9, 3, 0, 5, 4, 8, 7, 8, 6, 5, 7, 8, 2, 0, 1, 8, 2, 4, 8, 4, 3, 0, 4, 0, 1, 9, 0, 0, 3, 4, 5, 5, 2, 8, 0, 0, 9, 7, 5, 2, 4, 6, 7, 2, 2, 3, 1, 0, 0, 9, 1, 2, 1, 4, 6, 7, 1, 0, 5, 2, 5, 9, 2, 5, 6, 7, 1, 9, 3, 6, 1, 0, 2, 9, 4, 2, 9, 0, 8, 2, 9, 8, 3, 1, 0, 1, 5, 2, 5, 6, 8, 8, 3, 6, 0, 4, 1, 3, 7, 0, 2, 3, 9, 2, 0, 9, 9, 8, 3, 9, 7, 5, 0, 9, 4, 7, 1, 4, 6, 7, 4, 8, 9, 0, 7, 1, 2, 4, 7, 3, 7, 3, 1, 9, 3, 5, 2, 4, 1, 1, 5, 3, 9, 7, 4, 8, 0, 8, 1, 5, 1, 5, 9, 0, 9, 2, 4, 0, 6, 9, 1, 1, 3, 3, 9, 5, 3, 3, 5, 3, 4, 1, 5, 9, 8, 7, 3, 8, 7, 6, 5, 2, 5, 8, 9, 7, 2, 0, 0, 7, 5, 3, 5, 7, 7, 6, 2, 8, 2, 7, 5, 6, 1, 3, 8, 6, 0, 0, 4, 4, 8, 6, 4, 0, 2, 5, 4, 9, 2, 4, 4, 6, 9, 2, 0, 5, 2, 2, 8, 2, 6, 4, 7, 9, 5, 7, 2, 6, 2, 1, 9, 9, 7, 2, 5, 1, 8, 1, 6, 5, 0, 8, 8, 5, 6, 9, 9, 9, 6, 3, 0, 8, 8, 5, 5, 3, 1, 1, 0, 7, 0, 6, 0, 4, 4, 6, 5, 3, 2, 9, 6, 6, 7, 9, 7, 7, 0, 8, 4, 2, 7, 7, 7, 4, 0, 1, 6, 0, 5, 3, 0, 2, 4, 9, 7, 3, 3, 2, 8, 8, 5, 5, 8, 0, 8, 0, 0, 0, 2, 2, 7, 0, 7, 7, 7, 2, 2, 0, 4, 0, 8, 7, 8, 4, 7, 9, 5, 9, 1, 2, 9, 5, 8, 9, 5, 8, 3, 1, 5, 5, 7, 5, 5, 4, 7, 5, 7, 9, 6, 3, 0, 8, 4, 5, 6, 1, 0, 4, 8, 4, 7, 1, 3, 2, 0, 9, 1, 8, 9, 6, 8, 1, 7, 1, 0, 1, 7, 6, 4, 4, 8, 2, 1, 2, 5, 8, 1, 1, 8, 8, 8, 9, 8, 0, 5, 4, 3, 5, 6, 6, 5, 1, 2, 4, 7, 8, 0, 1, 5, 8, 4, 6, 2, 2, 2, 6, 3, 4, 0, 8, 1, 3, 8, 3, 8, 9, 1, 6, 1, 9, 8, 2, 0, 4, 7, 4, 0, 0, 7, 6, 8, 9, 8, 6, 2, 8, 8, 9, 1, 1, 0, 7, 7, 4, 4, 7, 7, 5, 6, 6, 7, 4, 5, 4, 0, 9, 6, 7, 2, 7, 2, 2, 2, 3, 6, 2, 6, 4, 1, 6, 8, 3, 8, 5, 5, 2, 3, 4, 5, 3, 7, 2, 1, 5, 3, 7, 8, 8, 9, 7, 0, 0, 2, 6, 0, 8, 1, 4, 1, 3, 5, 1, 8, 9, 6, 4, 6, 9, 5, 6, 3, 9, 1, 4, 2, 9, 9, 5, 4, 7, 8, 3, 7, 1, 6, 9, 1, 1, 4, 0, 5, 1, 6, 3, 0, 2, 7, 5, 5, 2, 0, 2, 3, 1, 6, 2, 7, 0, 8, 9, 2, 6, 4, 7, 5, 5, 8, 8, 7, 8, 5, 7, 4, 4, 0, 0, 7, 0, 4, 0, 4, 4, 2, 6, 4, 0, 7, 7, 7, 0, 4, 6, 2, 3, 1, 1, 3, 0, 9, 1, 0, 6, 5, 5, 0, 9, 0, 6, 2, 2, 4, 1, 3, 7, 6, 1, 0, 4, 6, 0, 4, 4, 2, 7, 6, 4, 3, 5, 9, 4, 5, 2, 0, 5, 2, 2, 3, 9, 4, 5, 8, 1, 9, 3, 2, 8, 5, 8, 6, 6, 3, 4, 0, 5, 5, 2, 6, 1, 8, 2, 1, 5, 6, 2, 2, 3, 3, 5, 0, 2, 1, 2, 8, 0, 8, 3, 2, 7, 3, 7, 9, 8, 3, 6, 1, 8, 8, 6, 7, 5, 8, 9, 4, 8, 0, 0, 2, 9, 1, 8, 3, 7, 7, 8, 0, 9, 5, 8, 9, 6, 8, 9, 5, 4, 8, 9, 5, 5, 7, 2, 5, 8, 8, 1, 2, 3, 1, 5, 0, 2, 3, 0, 8, 2, 2, 8, 7, 6, 5, 3, 9, 6, 2, 5, 1, 1, 3, 7, 7, 3, 8, 9, 6, 0, 8, 0, 6, 6, 7, 6, 9, 1, 1, 7, 0, 6, 8, 9, 0, 6, 9, 0, 1, 1, 7, 2, 1, 0, 4, 5, 2, 3, 6, 3, 3, 8, 1, 8, 1, 6, 1, 5, 7, 5, 1, 8, 9, 1, 3, 1, 7, 2, 9, 8, 9, 2, 6, 8, 9, 5, 4, 4, 6, 2, 1, 1, 2, 0, 5, 6, 0, 3, 4, 6, 9, 6, 7, 9, 6, 3, 6, 5, 7, 8, 5, 1, 2, 2, 9, 7, 0, 0, 1, 4, 4, 5, 5, 9, 6, 3, 6, 2, 4, 1, 5, 2, 3, 7, 4, 9, 5, 2, 1, 6, 6, 4, 7, 6, 9, 6, 8, 1, 4, 6, 4, 4, 2, 6, 5, 0, 5, 2, 7, 5, 2, 5, 2, 5, 9, 5, 6, 7, 9, 8, 5, 2, 1, 4, 3, 4, 5, 5, 6, 8, 6, 0, 0, 9, 2, 0, 7, 7, 6, 6, 7, 2, 9, 8, 2, 9, 5, 3, 0, 4, 8, 6, 3, 9, 1, 3, 9, 8, 0, 7, 4, 4, 0, 2, 1, 9, 1, 8, 5, 8, 4, 7, 3, 1, 4, 3, 3, 1, 0, 3, 8, 8, 8, 1, 6, 7, 3, 8, 6, 9, 1, 6, 0, 7, 7, 1, 3, 3, 3, 1, 0, 2, 7, 9, 2, 2, 9, 6, 3, 5, 9, 4, 8, 0, 4, 8, 0, 1, 2, 7, 0, 4, 0, 0, 8, 6, 2, 3, 9, 8, 2, 2, 8, 3, 1, 1, 2, 8, 2, 6, 9, 6, 8, 4, 4, 1, 5, 2, 6, 9, 0, 0, 7, 1, 8, 9, 3, 9, 9, 0, 7, 7, 2, 4, 2, 6, 4, 5, 7, 7, 8, 7, 2, 6, 2, 2, 4, 4, 0, 7, 1, 5, 3, 6, 0, 0, 2, 3, 8, 6, 2, 4, 5, 5, 2, 9, 1, 0, 0, 6, 5, 0, 7, 9, 9, 6, 5, 5, 0, 5, 3, 1, 6, 6, 4, 1, 6, 4, 1, 5, 0, 0, 4, 5, 8, 4, 8, 8, 0, 5, 0, 5, 7, 1, 6, 7, 0, 9, 1, 5, 7, 6, 5, 5, 7, 6, 0, 0, 1, 7, 3, 1, 9, 2, 4, 1, 6, 7, 8, 2, 0, 9, 6, 6, 0, 5, 5, 8, 7, 7, 7, 0, 2, 7, 7, 8, 8, 7, 0, 4, 9, 1, 4, 5, 5, 4, 4, 6, 2, 3, 1, 0, 3, 3, 3, 6, 5, 1, 2, 1, 9, 7, 9, 3, 8, 7, 4, 1, 7, 7, 0, 2, 2, 8, 9, 5, 9, 2, 9, 7, 4, 4, 0, 5, 6, 1, 5, 4, 2, 8, 4, 9, 8, 7, 8, 4, 2, 3, 4, 0, 3, 4, 1, 8, 2, 5, 4, 5, 2, 2, 3, 7, 9, 7, 1, 4, 9, 3, 1, 4, 5, 5, 1, 7, 1, 7, 0, 1, 2, 5, 7, 0, 6, 3, 5, 7, 5, 5, 8, 9, 4, 6, 3, 6, 6, 8, 2, 6, 4, 8, 4, 1, 3, 1, 2, 3, 6, 0, 1, 6, 2, 2, 8, 2, 4, 4, 1, 4, 4, 4, 4, 1, 5, 5, 7, 6, 5, 4, 5, 6, 5, 6, 2, 4, 7, 7, 4, 6, 5, 0, 2, 3, 9, 2, 3, 8, 0, 7, 2, 6, 8, 1, 2, 8, 9, 1, 5, 4, 2, 5, 5, 5, 8, 6, 5, 0, 3, 9, 1, 3, 5, 7, 4, 4, 0, 4, 7, 9, 3, 1, 7, 6, 6, 4, 8, 4, 1, 5, 0, 6, 3, 3, 5, 3, 0, 4, 8, 7, 7, 9, 6, 8, 4, 4, 9, 1, 0, 3, 1, 3, 8, 0, 5, 5, 4, 6, 9, 2, 7, 2, 0, 5, 6, 9, 7, 5, 0, 7, 0, 3, 5, 5, 3, 8, 7, 7, 1, 6, 5, 8, 9, 8, 1, 1, 4, 0, 0, 9, 7, 2, 5, 8, 5, 9, 8, 2, 8, 0, 6, 6, 8, 6, 9, 6, 1, 1, 5, 3, 5, 0, 7, 6, 1, 4, 6, 1, 1, 8, 1, 1, 2, 7, 4, 9, 1, 5, 2, 7, 2, 5, 6, 1, 6, 9, 8, 8, 6, 7, 4, 5, 2, 5, 8, 0, 9, 0, 7, 8, 1, 2, 4, 8, 2, 2, 9, 0, 4, 8, 9, 6, 5, 5, 2, 4, 1, 0, 6, 1, 8, 4, 5, 6, 5, 0, 8, 9, 0, 5, 7, 9, 6, 5, 4, 6, 4, 9, 5, 1, 0, 5, 2, 8, 0, 2, 5, 9, 8, 1, 9, 7, 7, 3, 1, 4, 1, 1, 3, 8, 8, 1, 9, 5, 8, 9, 5, 1, 1, 6, 4, 7, 2, 6, 4, 6, 9, 6, 0, 1, 3, 9, 3, 8, 8, 8, 2, 9, 1, 6, 6, 0, 5, 0, 7, 3, 7, 9, 4, 5, 0, 0, 3, 5, 1, 8, 9, 1, 2, 7, 1, 3, 3, 6, 9, 1, 5, 7, 1, 9, 5, 8, 1, 9, 9, 7, 9, 8, 5, 0, 2, 6, 0, 2, 2, 4, 0, 8, 4, 8, 1, 7, 7, 2, 7, 9, 5, 2, 2, 9, 2, 6, 5, 7, 2, 5, 6, 5, 1, 7, 2, 6, 8, 6, 5, 0, 8, 0, 0, 9, 7, 6, 8, 0, 6, 6, 0, 7, 9, 8, 0, 5, 0, 9, 6, 0, 4, 7, 1, 7, 8, 8, 2, 3, 9, 2, 5, 5, 3, 1, 5, 3, 0, 2, 5, 2, 6, 3, 8, 4, 4, 6, 1, 9, 4, 1, 7, 0, 1, 0, 7, 0, 2, 9, 4, 5, 0, 3, 5, 7, 2, 3, 0, 1, 6, 7, 9, 9, 0, 7, 5, 6, 7, 1, 2, 3, 7, 2, 6, 8, 6, 9, 8, 7, 9, 2, 3, 4, 0, 2, 5, 6, 6, 5, 3, 5, 8, 3, 2, 4, 9, 5, 6, 7, 0, 6, 1, 8, 5, 4, 8, 6, 5, 9, 0, 4, 5, 0, 5, 9, 9, 3, 8, 0, 6, 0, 2, 3, 7, 8, 4, 6, 9, 1, 5, 2, 4, 7, 9, 3, 9, 5, 5, 0, 6, 2, 8, 8, 5, 0, 0, 7, 0, 3, 1, 6, 5, 0, 9, 2, 6, 7, 4, 2, 0, 0, 7, 5, 3, 2, 6, 4, 2, 7, 8, 6, 1, 0, 1, 3, 6, 4, 8, 0, 6, 0, 9, 1, 6, 5, 1, 0, 1, 3, 0, 4, 7, 9, 1, 3, 7, 5, 7, 1, 6, 6, 9, 8, 1, 6, 2, 2, 1, 7, 0, 1, 2, 1, 1, 3, 4, 6, 9, 1, 5, 2, 7, 6, 7, 5, 4, 6, 2, 6, 9, 7, 8, 9, 3, 0, 5, 7, 2, 2, 0, 6, 9, 7, 8, 7, 1, 1, 2, 2, 2, 2, 1, 1, 2, 6, 1, 6, 1, 8, 9, 2, 2, 1, 9, 9, 5, 4, 3, 0, 0, 3, 5, 7, 1, 7, 7, 9, 8, 6, 5, 5, 5, 1, 6, 2, 7, 8, 4, 3, 5, 5, 9, 8, 8, 5, 1, 0, 6, 5, 0, 9, 6, 0, 0, 8, 7, 1, 2, 6, 9, 1, 6, 4, 7, 1, 7, 0, 0, 3, 2, 8, 3, 8, 2, 8, 4, 0, 8, 3, 7, 1, 2, 3, 0, 5, 0, 4, 1, 7, 2, 0, 1, 3, 9, 1, 6, 1, 6, 1, 2, 8, 7, 0, 9, 5, 0, 0, 0, 1, 7, 9, 7, 1, 9, 2, 1, 9, 7, 3, 6, 0, 2, 0, 0, 9, 1, 8, 9, 4, 5, 3, 3, 0, 7, 8, 7, 3, 7, 5, 4, 6, 5, 9, 5, 2, 5, 2, 7, 9, 6, 7, 4, 7, 1, 2, 3, 1, 1, 3, 6, 8, 3, 7, 7, 0, 8, 1, 5, 2, 6, 2, 3, 6, 3, 6, 9, 8, 4, 6, 8, 0, 3, 1, 7, 8, 4, 9, 2, 2, 6, 3, 8, 8, 6, 7, 3, 0, 1, 1, 5, 3, 7, 9, 9, 9, 8, 5, 9, 9, 6, 8, 8, 4, 8, 1, 0, 1, 8, 8, 6, 5, 9, 0, 6, 1, 6, 6, 6, 3, 5, 6, 5, 3, 3, 3, 6, 9, 9, 4, 4, 3, 2, 5, 6, 0, 8, 5, 7, 8, 4, 6, 5, 3, 1, 8, 0, 0, 4, 4, 5, 3, 5, 3, 3, 2, 7, 7, 8, 4, 0, 5, 6, 6, 1, 1, 3, 9, 9, 5, 6, 7, 1, 8, 3, 9, 3, 7, 8, 2, 0, 3, 2, 6, 8, 7, 3, 7, 1, 8, 7, 3, 5, 4, 4, 5, 8, 6, 1, 1, 6, 3, 2, 2, 8, 9, 8, 3, 3, 8, 1, 1, 0, 5, 2, 0, 5, 0, 5, 0, 6, 3, 1, 6, 6, 5, 9, 4, 8, 3, 4, 3, 1, 1, 2, 9, 7, 8, 5, 5, 8, 7, 9, 0, 8, 3, 2, 1, 3, 3, 5, 5, 3, 8, 9, 4, 6, 4, 5, 4, 3, 8, 9, 6, 4, 6, 5, 5, 2, 7, 7, 4, 4, 0, 3, 8, 5, 7, 7, 8, 5, 5, 9, 3, 6, 5, 5, 3, 3, 8, 5, 6, 1, 3, 7, 9, 6, 1, 6, 4, 0, 0, 5, 7, 4, 9, 1, 6, 0, 2, 7, 8, 7, 5, 9, 6, 1, 6, 6, 4, 6, 2, 8, 8, 4, 4, 7, 8, 3, 8, 9, 4, 3, 2, 2, 9, 3, 0, 1, 1, 1, 1, 6, 8, 7, 1, 3, 0, 4, 5, 0, 5, 0, 6, 2, 0, 9, 8, 6, 8, 3, 8, 2, 2, 6, 0, 6, 1, 8, 7, 6, 2, 2, 6, 5, 6, 9, 2, 5, 4, 9, 8, 5, 6, 9, 1, 5, 4, 1, 8, 5, 8, 6, 4, 5, 1, 3, 0, 4, 1, 9, 5, 4, 9, 2, 1, 4, 4, 5, 9, 8, 7, 2, 1, 6, 9, 7, 3, 6, 3, 8, 8, 2, 0, 4, 9, 4, 5, 3, 4, 4, 3, 1, 0, 7, 0, 4, 2, 9, 1, 5, 7, 0, 2, 1, 1, 0, 4, 1, 9, 4, 8, 1, 1, 1, 5, 9, 0, 1, 6, 7, 2, 9, 9, 4, 8, 8, 1, 9, 7, 8, 8, 1, 6, 6, 3, 3, 1, 3, 0, 8, 8, 1, 6, 6, 7, 1, 0, 7, 6, 4, 8, 2, 0, 6, 6, 0, 6, 6, 9, 1, 8, 6, 6, 0, 5, 4, 3, 7, 1, 7, 8, 6, 0, 1, 7, 4, 8, 7, 6, 6, 7, 0, 0, 4, 9, 0, 6, 5, 1, 5, 8, 6, 8, 1, 9, 6, 7, 6, 5, 0, 6, 0, 1, 3, 1, 1, 5, 3, 5, 3, 3, 8, 1, 6, 6, 1, 8, 8, 6, 2, 7, 4, 3, 8, 9, 5, 4, 5, 5, 4, 1, 4, 1, 9, 5, 1, 7, 7, 7, 5, 2, 3, 2, 6, 6, 6, 4, 0, 7, 1, 7, 3, 0, 0, 1, 7, 4, 1, 2, 2, 4, 9, 1, 2, 8, 7, 6, 3, 4, 7, 2, 3, 1, 5, 5, 0, 4, 3, 4, 9, 4, 7, 9, 1, 7, 8, 5, 1, 8, 3, 2, 5, 7, 2, 7, 9, 6, 8, 2, 8, 6, 5, 9, 0, 4, 8, 5, 4, 3, 5, 8, 8, 4, 8, 6, 7, 2, 3, 1, 7, 4, 1, 2, 4, 2, 2, 8, 7, 2, 0, 5, 7, 7, 6, 8, 9, 9, 3, 3, 2, 9, 1, 7, 2, 2, 3, 7, 4, 3, 2, 1, 9, 8, 1, 5, 3, 2, 6, 5, 9, 1, 5, 4, 3, 6, 2, 0, 9, 7, 8, 0, 8, 9, 1, 2, 5, 7, 2, 0, 6, 6, 1, 6, 3, 1, 5, 0, 4, 7, 4, 6, 5, 6, 4, 8, 3, 4, 5, 5, 0, 6, 6, 7, 5, 0, 9, 9, 6, 1, 0, 4, 6, 7, 2, 9, 2, 6, 6, 8, 2, 1, 0, 1, 9, 2, 7, 2, 3, 0, 2, 7, 6, 4, 2, 0, 8, 2, 0, 0, 9, 6, 6, 6, 8, 7, 4, 1, 8, 1, 3, 2, 4, 8, 5, 2, 6, 5, 7, 9, 9, 0, 7, 2, 4, 4, 0, 0, 6, 2, 2, 4, 0, 5, 9, 4, 1, 8, 5, 3, 5, 9, 7, 5, 7, 8, 0, 9, 8, 9, 1, 6, 3, 8, 7, 3, 7, 4, 8, 4, 8, 9, 0, 6, 0, 0, 8, 2, 0, 4, 2, 5, 6, 0, 5, 8, 4, 1, 9, 0, 1, 4, 5, 8, 4, 9, 6, 0, 7, 4, 6, 8, 9, 6, 2, 0, 4, 9, 4, 9, 3, 9, 2, 6, 7, 0, 9, 7, 1, 8, 3, 0, 6, 4, 4, 1, 9, 4, 6, 7, 9, 8, 6, 9, 2, 1, 2, 7, 2, 1, 2, 0, 5, 6, 0, 4, 3, 5, 8, 8, 0, 6, 9, 5, 2, 8, 0, 8, 6, 5, 9, 4, 2, 4, 6, 0, 6, 2, 2, 4, 1, 0, 5, 9, 8, 9, 7, 5, 9, 3, 8, 1, 6, 4, 7, 5, 6, 2, 0, 2, 1, 2, 8, 7, 7, 8, 1, 0, 8, 9, 7, 0, 3, 8, 0, 5, 9, 5, 8, 4, 2, 0, 9, 2, 2, 4, 4, 9, 2, 6, 5, 3, 1, 3, 2, 0, 0, 4, 9, 6, 3, 8, 0, 5, 8, 6, 4, 8, 5, 3, 9, 7, 9, 7, 1, 0, 1, 9, 6, 9, 2, 7, 9, 4, 4, 0, 6, 2, 4, 1, 3, 7, 2, 8, 5, 9, 0, 3, 3, 3, 2, 7, 6, 5, 2, 5, 9, 0, 5, 9, 9, 8, 7, 7, 4, 0, 6, 7, 2, 3, 1, 0, 4, 1, 1, 8, 4, 9, 4, 4, 8, 3, 9, 2, 0, 1, 1, 8, 4, 4, 8, 3, 5, 9, 5, 7, 6, 2, 5, 4, 7, 3, 3, 9, 0, 1, 5, 9, 5, 7, 6, 0, 4, 2, 2, 5, 6, 3, 8, 9, 5, 6, 1, 4, 5, 4, 6, 7, 2, 1, 9, 2, 0, 4, 9, 8, 8, 9, 1, 1, 5, 0, 0, 8, 7, 1, 7, 4, 5, 4, 3, 3, 2, 0, 6, 6, 0, 1, 3, 9, 8, 3, 7, 8, 8, 4, 8, 9, 0, 1, 7, 1, 6, 5, 9, 5, 3, 9, 5, 9, 8, 7, 7, 1, 6, 8, 3, 9, 3, 1, 2, 4, 1, 8, 2, 0, 9, 7, 9, 8, 8, 6, 7, 3, 7, 1, 3, 9, 4, 9, 2, 6, 7, 0, 7, 3, 0, 5, 9, 7, 3, 5, 2, 6, 5, 1, 8, 2, 7, 3, 9, 0, 0, 0, 0, 8, 4, 7, 7, 8, 9, 2, 7, 9, 7, 8, 7, 9, 8, 5, 4, 8, 7, 7, 3, 3, 8, 2, 1, 9, 2, 3, 4, 9, 5, 7, 8, 7, 3, 5, 4, 5, 9, 7, 6, 7, 3, 6, 4, 5, 9, 4, 2, 1, 9, 6, 0, 2, 6, 7, 5, 7, 9, 0, 7, 4, 5, 5, 3, 1, 1, 2, 6, 8, 2, 1, 5, 8, 5, 8, 6, 1, 8, 5, 0, 6, 0, 9, 2, 6, 5, 8, 9, 3, 5, 6, 2, 9, 1, 5, 8, 8, 7, 1, 7, 4, 7, 4, 9, 7, 5, 2, 9, 9, 4, 5, 2, 1, 3, 8, 7, 9, 0, 4, 5, 7, 5, 2, 1, 7, 6, 9, 6, 9, 5, 8, 5, 6, 6, 9, 5, 7, 8, 0, 3, 0, 7, 4, 8, 2, 5, 1, 3, 2, 2, 6, 2, 1, 7, 4, 6, 5, 1, 3, 7, 7, 1, 5, 7, 0, 8, 4, 4, 5, 7, 7, 5, 4, 3, 1, 6, 8, 0, 3, 4, 1, 6, 1, 7, 0, 3, 4, 0, 9, 4, 5, 8, 7, 7, 0, 9, 6, 8, 0, 8, 2, 8, 5, 7, 7, 4, 2, 0, 0, 7, 7, 4, 1, 6, 6, 1, 8, 9, 8, 9, 0, 1, 6, 6, 0, 9, 2, 6, 6, 6, 3, 2, 0, 8, 4, 1, 4, 0, 6, 0, 9, 9, 9, 1, 9, 1, 2, 3, 5, 4, 2, 9, 3, 0, 3, 6, 6, 8, 0, 6, 9, 4, 6, 8, 0, 5, 4, 1, 2, 0, 9, 6, 4, 0, 4, 6, 5, 9, 7, 7, 4, 5, 5, 0, 1, 9, 0, 2, 5, 9, 0, 9, 7, 8, 6, 7, 6, 8, 4, 4, 5, 3, 0, 3, 6, 1, 7, 5, 9, 3, 4, 5, 5, 1, 5, 0, 1, 1, 1, 9, 7, 5, 4, 9, 7, 8, 1, 0, 2, 8, 5, 6, 7, 2, 1, 4, 8, 4, 4, 6, 6, 4, 8, 1, 8, 4, 6, 5, 9, 2, 2, 1, 4, 9, 1, 6, 7, 2, 0, 1, 4, 6, 5, 2, 2, 5, 3, 0, 0, 0, 1, 5, 3, 3, 5, 8, 7, 5, 6, 5, 8, 0, 3, 9, 4, 6, 5, 1, 1, 0, 7, 3, 9, 4, 8, 1, 7, 7, 9, 9, 7, 8, 6, 5, 2, 8, 3, 7, 6, 7, 0, 2, 1, 2, 9, 2, 6, 9, 5, 1, 0, 1, 8, 7, 9, 0, 4, 7, 4, 3, 4, 9, 5, 9, 0, 7, 4, 5, 8, 1, 4, 7, 9, 9, 8, 8, 6, 3, 7, 0, 8, 9, 6, 2, 6, 6, 2, 9, 7, 4, 6, 8, 5, 6, 1, 6, 3, 9, 9, 9, 3, 0, 0, 3, 0, 2, 0, 7, 5, 9, 5, 9, 7, 6, 5, 9, 5, 6, 1, 6, 4, 0, 2, 7, 8, 4, 4, 0, 9, 5, 9, 2, 9, 5, 2, 5, 3, 2, 2, 8, 8, 1, 0, 1, 6, 8, 2, 1, 5, 1, 4, 9, 1, 5, 7, 1, 6, 0, 1, 5, 2, 8, 1, 1, 3, 8, 1, 8, 1, 8, 5, 1, 9, 0, 5, 9, 4, 0, 3, 9, 2, 0, 4, 9, 5, 1, 2, 4, 7, 8, 7, 2, 4, 5, 2, 7, 0, 6, 1, 2, 9, 8, 0, 2, 2, 4, 6, 0, 6, 9, 7, 5, 0, 4, 6, 0, 6, 9, 6, 8, 1, 1, 0, 9, 7, 2, 9, 0, 2, 2, 9, 0, 2, 5, 7, 4, 9, 1, 7, 9, 8, 4, 5, 0, 8, 0, 2, 2, 2, 1, 4, 4, 8, 9, 7, 8, 6, 6, 6, 0, 1, 1, 1, 8, 1, 7, 4, 0, 7, 8, 2, 1, 2, 7, 4, 6, 0, 5, 7, 3, 4, 3, 9, 3, 8, 3, 0, 8, 7, 4, 1, 8, 4, 9, 5, 4, 1, 7, 7, 7, 7, 0, 3, 8, 3, 5, 0, 5, 7, 0, 8, 0, 0, 9, 3, 0, 3, 4, 8, 2, 2, 6, 3, 5, 6, 2, 9, 2, 0, 1, 7, 5, 5, 7, 3, 0, 4, 6, 1, 7, 5, 8, 0, 8, 4, 7, 0, 3, 5, 3, 8, 3, 5, 1, 7]\n",
            "[3, 8, 8, 0, 6, 6, 1, 6, 3, 1, 0, 9, 5, 7, 9, 8, 5, 7, 8, 6, 7, 0, 4, 9, 5, 2, 4, 0, 9, 6, 6, 5, 4, 5, 9, 2, 4, 1, 9, 5, 4, 6, 5, 6, 0, 9, 3, 9, 7, 6, 9, 8, 0, 3, 8, 8, 7, 7, 4, 6, 7, 3, 6, 3, 6, 2, 1, 2, 3, 7, 2, 6, 8, 8, 0, 2, 9, 3, 3, 8, 8, 1, 1, 7, 2, 5, 2, 7, 8, 9, 0, 3, 8, 6, 4, 6, 6, 0, 0, 7, 4, 5, 6, 3, 1, 1, 3, 6, 8, 7, 4, 0, 6, 2, 1, 3, 0, 4, 2, 7, 8, 3, 1, 2, 8, 0, 8, 3, 5, 2, 4, 1, 8, 9, 1, 2, 9, 7, 2, 9, 6, 5, 6, 3, 8, 7, 6, 2, 5, 2, 8, 9, 6, 0, 0, 5, 2, 9, 5, 4, 2, 1, 6, 6, 8, 4, 8, 4, 5, 0, 9, 9, 9, 8, 9, 9, 3, 7, 5, 0, 0, 5, 2, 2, 3, 8, 6, 3, 4, 0, 5, 8, 0, 1, 7, 2, 8, 8, 7, 8, 5, 1, 8, 7, 1, 3, 0, 5, 7, 9, 7, 4, 5, 9, 8, 0, 7, 9, 8, 2, 7, 6, 9, 4, 3, 9, 6, 4, 7, 6, 5, 1, 5, 8, 8, 0, 4, 0, 5, 5, 1, 1, 8, 9, 0, 3, 1, 9, 2, 2, 5, 3, 9, 9, 4, 0, 3, 0, 0, 9, 8, 1, 5, 7, 0, 8, 2, 4, 7, 0, 2, 3, 6, 3, 8, 5, 0, 3, 4, 3, 9, 0, 6, 1, 0, 9, 1, 0, 7, 9, 1, 2, 6, 9, 3, 4, 6, 0, 0, 6, 6, 6, 3, 2, 6, 1, 8, 2, 1, 6, 8, 6, 8, 0, 4, 0, 7, 7, 5, 5, 3, 5, 2, 3, 4, 1, 7, 5, 4, 6, 1, 9, 3, 6, 6, 9, 3, 8, 0, 7, 2, 6, 2, 5, 8, 5, 4, 6, 8, 9, 9, 1, 0, 2, 2, 7, 3, 2, 8, 0, 9, 5, 8, 1, 9, 4, 1, 3, 8, 1, 4, 7, 9, 4, 2, 7, 0, 7, 0, 6, 6, 9, 0, 9, 2, 8, 7, 2, 2, 5, 1, 2, 6, 2, 9, 6, 2, 3, 0, 3, 9, 8, 7, 8, 8, 4, 0, 1, 8, 2, 7, 9, 3, 6, 1, 9, 0, 7, 3, 7, 4, 5, 0, 0, 2, 9, 3, 4, 0, 6, 2, 5, 3, 7, 3, 7, 2, 5, 3, 1, 1, 4, 9, 9, 5, 7, 5, 0, 2, 2, 2, 9, 7, 3, 9, 4, 3, 5, 4, 6, 5, 6, 1, 4, 3, 4, 4, 3, 7, 8, 3, 7, 8, 0, 5, 7, 6, 0, 5, 4, 8, 6, 8, 5, 5, 9, 9, 9, 5, 0, 1, 0, 8, 1, 1, 8, 0, 2, 2, 0, 4, 6, 5, 4, 9, 4, 7, 9, 9, 4, 5, 6, 6, 1, 5, 3, 8, 9, 5, 8, 5, 7, 0, 7, 0, 5, 0, 0, 4, 6, 9, 0, 9, 5, 6, 6, 6, 2, 9, 0, 1, 7, 6, 7, 5, 9, 1, 6, 2, 5, 5, 5, 8, 5, 9, 4, 6, 4, 3, 2, 0, 7, 6, 2, 2, 3, 9, 7, 9, 2, 6, 7, 1, 3, 6, 6, 8, 9, 7, 5, 4, 0, 8, 4, 0, 9, 3, 4, 8, 9, 6, 9, 2, 6, 1, 4, 7, 3, 5, 3, 8, 5, 0, 2, 1, 6, 4, 3, 3, 9, 6, 9, 8, 8, 5, 8, 6, 6, 2, 1, 7, 7, 1, 2, 7, 9, 9, 4, 4, 1, 2, 5, 6, 8, 7, 6, 8, 3, 0, 5, 5, 3, 0, 7, 9, 1, 3, 4, 4, 5, 3, 9, 5, 6, 9, 2, 1, 1, 4, 1, 9, 4, 7, 6, 3, 8, 9, 0, 1, 3, 6, 3, 6, 3, 2, 0, 3, 1, 0, 5, 9, 6, 4, 8, 9, 6, 9, 6, 3, 0, 3, 2, 2, 7, 8, 3, 8, 2, 7, 5, 7, 2, 4, 8, 7, 4, 2, 9, 8, 8, 6, 8, 8, 7, 4, 3, 3, 8, 4, 9, 4, 8, 8, 1, 8, 2, 1, 3, 6, 5, 4, 2, 7, 9, 9, 4, 1, 4, 1, 3, 2, 7, 0, 7, 9, 7, 6, 6, 2, 5, 9, 2, 9, 1, 2, 2, 6, 8, 2, 1, 3, 6, 6, 0, 1, 2, 7, 0, 5, 4, 6, 1, 6, 4, 0, 2, 2, 6, 0, 5, 9, 1, 7, 6, 7, 0, 3, 9, 6, 8, 3, 0, 3, 4, 7, 7, 1, 4, 7, 2, 7, 1, 4, 7, 4, 4, 8, 4, 7, 7, 5, 3, 7, 2, 0, 8, 9, 5, 8, 3, 6, 2, 0, 8, 7, 3, 7, 6, 5, 3, 1, 3, 2, 2, 5, 4, 1, 2, 9, 2, 7, 0, 7, 2, 1, 3, 2, 0, 2, 4, 7, 9, 8, 9, 0, 7, 7, 0, 7, 8, 4, 6, 3, 3, 0, 1, 3, 7, 0, 1, 3, 1, 4, 2, 3, 8, 4, 2, 3, 7, 8, 4, 3, 0, 9, 0, 0, 1, 0, 4, 4, 6, 7, 6, 1, 1, 3, 7, 3, 5, 2, 6, 6, 5, 8, 7, 1, 6, 8, 8, 5, 3, 0, 4, 0, 1, 3, 8, 8, 0, 6, 9, 9, 9, 5, 5, 8, 6, 0, 0, 4, 2, 3, 2, 7, 2, 2, 5, 9, 8, 9, 1, 7, 4, 0, 3, 0, 1, 3, 8, 3, 9, 6, 1, 4, 7, 0, 3, 7, 8, 9, 1, 1, 6, 6, 6, 6, 9, 1, 9, 9, 4, 2, 1, 7, 0, 6, 8, 1, 9, 2, 9, 0, 4, 7, 8, 3, 1, 2, 0, 1, 5, 8, 4, 6, 3, 8, 1, 3, 8, 5, 0, 8, 4, 8, 1, 1, 8, 9, 6, 0, 8, 6, 1, 3, 4, 1, 6, 0, 5, 1, 1, 0, 0, 3, 5, 0, 0, 6, 6, 3, 3, 6, 3, 6, 6, 0, 7, 2, 2, 7, 5, 5, 2, 8, 5, 2, 1, 1, 4, 3, 2, 0, 3, 1, 5, 3, 7, 6, 8, 9, 1, 6, 4, 9, 3, 9, 0, 9, 6, 3, 6, 0, 7, 3, 8, 0, 0, 0, 6, 6, 6, 9, 2, 5, 4, 4, 6, 3, 6, 0, 8, 6, 0, 6, 2, 7, 5, 1, 2, 7, 8, 8, 0, 9, 4, 9, 7, 2, 0, 2, 8, 3, 8, 9, 1, 5, 5, 4, 7, 5, 3, 8, 3, 3, 6, 2, 8, 4, 3, 7, 1, 2, 4, 1, 6, 9, 0, 5, 8, 6, 1, 8, 6, 1, 4, 2, 6, 2, 7, 2, 2, 0, 8, 6, 9, 1, 7, 1, 8, 8, 0, 7, 3, 8, 0, 3, 4, 3, 7, 7, 9, 2, 3, 1, 9, 1, 9, 6, 3, 3, 3, 1, 0, 6, 1, 4, 1, 0, 0, 1, 1, 6, 5, 4, 6, 2, 0, 7, 9, 8, 7, 2, 0, 6, 8, 1, 4, 3, 7, 0, 6, 1, 8, 5, 7, 8, 4, 8, 3, 9, 9, 9, 8, 7, 6, 6, 3, 5, 1, 5, 9, 1, 4, 1, 5, 7, 0, 1, 5, 2, 0, 8, 8, 5, 6, 7, 3, 2, 4, 7, 2, 5, 8, 2, 4, 9, 2, 1, 8, 1, 9, 8, 8, 8, 9, 0, 4, 3, 3, 1, 8, 4, 6, 3, 3, 5, 2, 2, 8, 3, 8, 9, 5, 8, 9, 8, 9, 1, 6, 5, 9, 4, 4, 8, 0, 7, 2, 9, 7, 4, 1, 6, 4, 4, 9, 1, 2, 5, 6, 0, 8, 6, 1, 9, 4, 5, 9, 5, 0, 7, 2, 0, 0, 4, 2, 6, 6, 5, 5, 2, 8, 1, 7, 3, 1, 4, 5, 6, 5, 1, 4, 7, 0, 9, 4, 3, 8, 2, 8, 4, 7, 2, 3, 1, 5, 2, 9, 8, 9, 7, 9, 5, 1, 4, 0, 8, 2, 3, 8, 9, 1, 1, 3, 2, 4, 9, 3, 1, 7, 4, 6, 2, 8, 9, 5, 3, 9, 5, 5, 6, 7, 2, 4, 6, 3, 1, 0, 7, 2, 5, 4, 7, 6, 1, 1, 9, 8, 1, 0, 1, 3, 1, 1, 1, 7, 3, 9, 6, 8, 4, 6, 8, 4, 9, 4, 7, 9, 7, 6, 8, 4, 9, 7, 0, 1, 6, 1, 5, 9, 0, 4, 3, 4, 1, 3, 0, 8, 4, 6, 2, 2, 6, 5, 3, 6, 2, 1, 1, 8, 6, 0, 4, 0, 1, 9, 7, 1, 3, 7, 7, 8, 7, 7, 3, 9, 7, 7, 7, 2, 1, 2, 8, 6, 4, 0, 7, 9, 8, 6, 8, 4, 9, 1, 7, 2, 2, 8, 5, 8, 1, 2, 2, 4, 1, 2, 5, 2, 8, 1, 8, 1, 8, 6, 0, 2, 4, 1, 3, 6, 7, 7, 4, 4, 3, 3, 4, 5, 2, 4, 3, 7, 8, 4, 4, 4, 5, 4, 3, 2, 8, 4, 5, 5, 4, 1, 4, 2, 5, 1, 6, 4, 3, 4, 4, 0, 8, 8, 4, 5, 7, 5, 6, 9, 1, 6, 7, 2, 0, 1, 4, 5, 6, 0, 0, 2, 7, 5, 6, 0, 6, 2, 9, 1, 7, 7, 5, 2, 5, 6, 4, 1, 4, 3, 3, 3, 0, 3, 5, 5, 8, 9, 7, 3, 1, 3, 3, 3, 4, 4, 2, 3, 3, 8, 1, 7, 7, 0, 7, 4, 5, 1, 4, 2, 4, 3, 9, 9, 4, 9, 9, 1, 8, 1, 6, 7, 5, 5, 4, 9, 7, 6, 5, 9, 2, 4, 0, 7, 8, 5, 5, 0, 0, 9, 9, 8, 2, 5, 4, 8, 3, 6, 3, 6, 0, 6, 6, 6, 9, 6, 6, 8, 6, 2, 4, 5, 8, 1, 2, 7, 6, 5, 7, 8, 1, 8, 0, 8, 6, 9, 2, 8, 9, 4, 0, 9, 4, 9, 5, 7, 5, 5, 9, 5, 3, 0, 1, 9, 7, 2, 4, 1, 0, 8, 0, 3, 1, 7, 0, 0, 4, 8, 6, 2, 4, 0, 0, 9, 0, 8, 4, 5, 9, 3, 9, 0, 5, 6, 5, 0, 1, 4, 8, 1, 0, 5, 2, 1, 0, 2, 8, 1, 5, 6, 7, 7, 2, 6, 2, 5, 0, 1, 4, 2, 5, 4, 6, 2, 2, 1, 7, 2, 8, 5, 5, 3, 0, 4, 8, 3, 7, 6, 3, 8, 1, 0, 1, 3, 3, 0, 7, 4, 9, 5, 3, 6, 0, 1, 4, 4, 4, 4, 2, 2, 5, 8, 1, 5, 9, 8, 1, 1, 5, 3, 9, 9, 7, 6, 5, 0, 8, 4, 7, 0, 9, 2, 8, 4, 7, 1, 3, 9, 6, 8, 9, 0, 4, 9, 6, 7, 8, 9, 4, 8, 9, 7, 2, 5, 3, 7, 1, 0, 2, 9, 5, 5, 8, 5, 4, 2, 8, 3, 5, 5, 7, 7, 8, 6, 2, 8, 2, 3, 5, 6, 8, 0, 2, 3, 7, 0, 1, 9, 1, 3, 7, 5, 8, 3, 2, 9, 6, 8, 6, 9, 3, 8, 9, 8, 0, 7, 8, 5, 0, 0, 1, 3, 9, 1, 5, 3, 4, 4, 0, 9, 9, 9, 9, 8, 2, 4, 2, 2, 5, 1, 9, 1, 0, 9, 4, 2, 1, 6, 0, 3, 7, 6, 3, 1, 8, 6, 5, 7, 2, 8, 4, 4, 8, 3, 5, 0, 5, 7, 4, 4, 2, 2, 7, 3, 6, 0, 2, 7, 6, 2, 3, 0, 7, 7, 8, 1, 1, 4, 6, 0, 6, 6, 5, 5, 6, 3, 9, 3, 6, 8, 7, 6, 4, 9, 5, 6, 4, 1, 6, 3, 8, 2, 3, 9, 8, 5, 1, 5, 4, 5, 7, 5, 7, 8, 9, 1, 7, 2, 5, 6, 8, 4, 6, 5, 3, 9, 9, 8, 5, 5, 6, 4, 5, 9, 7, 3, 4, 1, 4, 2, 3, 6, 5, 5, 2, 8, 0, 0, 1, 8, 3, 1, 3, 5, 8, 3, 8, 5, 8, 6, 3, 5, 5, 5, 0, 9, 5, 5, 7, 1, 8, 2, 2, 7, 3, 4, 2, 9, 6, 2, 2, 4, 3, 0, 2, 0, 1, 3, 2, 2, 7, 0, 1, 0, 7, 7, 2, 0, 1, 6, 5, 0, 2, 2, 0, 1, 2, 6, 0, 1, 6, 6, 5, 3, 4, 0, 0, 9, 1, 0, 2, 5, 9, 7, 8, 6, 4, 6, 0, 2, 0, 1, 9, 2, 4, 9, 0, 7, 2, 3, 4, 8, 0, 2, 6, 8, 9, 7, 1, 9, 3, 7, 2, 7, 9, 6, 9, 5, 7, 8, 5, 9, 8, 3, 9, 8, 0, 5, 5, 7, 1, 2, 0, 7, 5, 8, 2, 2, 5, 3, 9, 3, 1, 9, 3, 1, 4, 3, 4, 4, 9, 0, 9, 5, 9, 2, 9, 4, 0, 2, 8, 4, 8, 6, 8, 2, 0, 5, 9, 6, 9, 5, 1, 3, 4, 4, 2, 7, 2, 4, 4, 0, 2, 8, 4, 5, 1, 2, 6, 8, 1, 7, 2, 8, 7, 4, 3, 3, 0, 3, 7, 2, 5, 6, 1, 7, 9, 0, 2, 3, 9, 8, 9, 5, 0, 0, 7, 6, 3, 3, 8, 1, 4, 0, 1, 5, 4, 3, 2, 6, 0, 8, 8, 6, 3, 3, 2, 9, 7, 5, 1, 6, 0, 5, 9, 9, 4, 5, 9, 4, 8, 3, 3, 2, 5, 1, 9, 5, 5, 8, 1, 8, 9, 7, 0, 6, 3, 2, 0, 2, 6, 9, 3, 9, 1, 6, 6, 7, 2, 6, 3, 2, 5, 5, 2, 7, 5, 2, 0, 8, 0, 7, 7, 1, 7, 4, 0, 2, 2, 6, 1, 5, 9, 7, 6, 2, 7, 0, 5, 6, 0, 1, 1, 8, 4, 5, 3, 1, 2, 4, 8, 9, 8, 1, 7, 2, 7, 2, 3, 2, 6, 7, 9, 4, 0, 1, 0, 4, 5, 0, 8, 0, 7, 6, 1, 0, 8, 5, 9, 2, 5, 4, 4, 9, 0, 6, 1, 2, 5, 1, 6, 7, 1, 5, 8, 8, 0, 3, 9, 4, 0, 3, 4, 9, 2, 4, 3, 0, 6, 4, 5, 6, 6, 7, 8, 4, 8, 8, 3, 2, 8, 0, 2, 5, 6, 8, 7, 8, 9, 9, 0, 6, 6, 8, 1, 1, 7, 4, 4, 2, 3, 6, 9, 6, 2, 4, 1, 8, 2, 3, 1, 6, 8, 6, 8, 5, 9, 0, 1, 0, 2, 9, 2, 9, 0, 9, 7, 8, 5, 0, 6, 6, 8, 1, 6, 5, 8, 7, 9, 2, 1, 6, 7, 5, 6, 3, 0, 9, 8, 9, 5, 9, 9, 9, 3, 6, 4, 4, 8, 8, 1, 7, 3, 0, 6, 2, 4, 8, 2, 2, 9, 2, 2, 9, 7, 4, 1, 9, 1, 4, 3, 5, 3, 8, 9, 3, 6, 2, 0, 8, 9, 0, 5, 1, 5, 8, 2, 1, 2, 3, 2, 4, 8, 4, 0, 6, 4, 2, 9, 8, 4, 7, 6, 2, 4, 7, 7, 6, 4, 2, 2, 3, 2, 4, 9, 0, 0, 9, 6, 5, 8, 5, 2, 4, 8, 8, 6, 4, 5, 7, 6, 3, 7, 0, 4, 0, 5, 8, 2, 8, 0, 4, 9, 2, 3, 6, 8, 1, 6, 0, 8, 4, 3, 1, 4, 5, 2, 4, 3, 6, 0, 7, 1, 3, 5, 7, 1, 8, 0, 4, 8, 2, 7, 7, 0, 2, 2, 4, 3, 3, 1, 6, 1, 6, 4, 6, 7, 4, 7, 3, 8, 1, 3, 1, 4, 6, 5, 5, 7, 4, 5, 4, 9, 7, 7, 2, 3, 3, 6, 7, 4, 1, 6, 1, 0, 6, 9, 6, 0, 2, 0, 2, 4, 7, 0, 0, 0, 0, 7, 5, 3, 2, 7, 8, 5, 5, 2, 2, 8, 9, 1, 2, 2, 0, 3, 4, 9, 1, 6, 9, 0, 8, 3, 6, 4, 6, 7, 5, 1, 8, 9, 0, 5, 0, 5, 4, 3, 8, 5, 2, 0, 8, 5, 9, 2, 5, 6, 5, 7, 3, 7, 2, 8, 8, 4, 2, 1, 6, 2, 9, 9, 8, 2, 3, 1, 0, 5, 2, 3, 7, 9, 5, 9, 1, 1, 3, 2, 7, 4, 4, 1, 9, 4, 5, 5, 2, 7, 7, 6, 1, 2, 3, 7, 5, 4, 3, 7, 7, 0, 0, 1, 4, 4, 3, 7, 9, 8, 7, 0, 9, 0, 3, 7, 6, 3, 8, 4, 5, 6, 5, 3, 4, 2, 9, 2, 4, 9, 2, 0, 1, 1, 3, 7, 9, 5, 1, 6, 0, 3, 3, 7, 2, 4, 5, 2, 3, 6, 3, 3, 0, 4, 4, 3, 8, 1, 2, 3, 2, 7, 1, 4, 5, 6, 8, 6, 6, 5, 4, 2, 9, 9, 3, 2, 0, 4, 1, 5, 5, 6, 6, 5, 6, 9, 7, 9, 4, 8, 3, 1, 9, 8, 1, 9, 0, 3, 0, 4, 7, 7, 2, 6, 5, 6, 9, 7, 7, 5, 7, 0, 8, 6, 7, 8, 3, 8, 9, 3, 2, 9, 2, 7, 4, 1, 9, 7, 0, 8, 1, 2, 0, 6, 5, 1, 4, 2, 8, 2, 8, 3, 3, 1, 4, 9, 8, 1, 1, 7, 9, 9, 4, 6, 8, 5, 3, 2, 2, 3, 8, 5, 1, 9, 7, 9, 1, 5, 3, 1, 0, 3, 8, 9, 2, 0, 8, 0, 7, 9, 4, 8, 3, 0, 7, 0, 7, 0, 5, 5, 4, 3, 0, 9, 9, 0, 2, 2, 0, 8, 4, 4, 5, 2, 2, 1, 1, 5, 5, 4, 3, 4, 0, 8, 4, 8, 2, 5, 6, 5, 1, 7, 2, 4, 0, 5, 6, 8, 7, 6, 3, 1, 3, 6, 6, 4, 5, 5, 5, 1, 8, 7, 3, 0, 2, 5, 1, 1, 1, 6, 7, 2, 1, 2, 3, 9, 8, 3, 1, 7, 4, 8, 4, 7, 5, 8, 6, 0, 3, 0, 8, 3, 4, 4, 9, 4, 6, 1, 5, 7, 7, 9, 0, 1, 3, 1, 3, 2, 4, 0, 7, 8, 3, 1, 6, 2, 1, 8, 8, 1, 9, 7, 5, 3, 2, 9, 0, 6, 8, 4, 1, 5, 7, 2, 4, 7, 0, 4, 9, 0, 7, 0, 6, 7, 1, 8, 5, 8, 8, 7, 0, 0, 3, 2, 5, 7, 0, 6, 4, 4, 9, 1, 8, 6, 3, 9, 4, 9, 3, 3, 7, 5, 9, 7, 7, 4, 5, 8, 2, 8, 9, 5, 3, 1, 9, 2, 2, 0, 1, 1, 8, 1, 1, 9, 8, 9, 9, 0, 2, 6, 9, 1, 9, 0, 1, 9, 2, 9, 9, 9, 0, 9, 9, 2, 1, 7, 0, 5, 6, 3, 9, 8, 3, 0, 2, 7, 7, 4, 8, 3, 0, 5, 2, 3, 5, 7, 6, 6, 6, 5, 6, 5, 4, 5, 8, 8, 0, 9, 7, 9, 0, 6, 9, 6, 1, 4, 7, 9, 0, 3, 5, 4, 7, 6, 9, 8, 2, 3, 9, 3, 3, 7, 8, 3, 5, 5, 9, 6, 1, 4, 7, 4, 8, 7, 7, 1, 3, 0, 3, 2, 5, 4, 9, 3, 5, 4, 7, 0, 3, 7, 0, 2, 1, 5, 8, 7, 3, 5, 7, 8, 5, 7, 8, 1, 5, 4, 7, 0, 8, 3, 2, 9, 7, 4, 1, 6, 5, 9, 8, 5, 5, 4, 1, 0, 9, 4, 4, 3, 0, 4, 8, 0, 8, 2, 9, 5, 9, 7, 4, 6, 7, 9, 2, 9, 3, 7, 7, 8, 2, 2, 0, 2, 5, 3, 6, 4, 7, 2, 3, 7, 8, 7, 2, 5, 0, 0, 7, 0, 9, 6, 1, 0, 3, 9, 7, 4, 9, 1, 6, 8, 1, 2, 3, 3, 5, 4, 8, 9, 7, 4, 4, 1, 2, 4, 9, 8, 7, 9, 5, 1, 2, 1, 6, 6, 4, 5, 7, 4, 5, 8, 5, 2, 8, 7, 8, 2, 3, 6, 1, 3, 3, 1, 5, 1, 9, 0, 9, 2, 0, 6, 2, 4, 8, 5, 7, 6, 1, 2, 9, 4, 5, 0, 3, 3, 7, 7, 7, 1, 4, 5, 0, 2, 8, 5, 0, 0, 6, 2, 0, 8, 4, 5, 4, 5, 6, 4, 7, 9, 4, 2, 0, 6, 4, 0, 0, 6, 4, 6, 1, 9, 5, 5, 2, 2, 6, 3, 4, 5, 9, 1, 7, 2, 3, 9, 6, 5, 0, 2, 9, 7, 1, 7, 2, 2, 0, 8, 6, 4, 3, 2, 7, 7, 0, 4, 1, 6, 5, 1, 3, 0, 3, 9, 0, 0, 2, 5, 0, 4, 0, 1, 9, 8, 4, 9, 4, 2, 4, 3, 3, 4, 0, 4, 3, 2, 8, 9, 1, 5, 8, 1, 8, 2, 4, 5, 2, 4, 1, 1, 6, 6, 8, 5, 2, 2, 5, 0, 8, 2, 3, 6, 2, 9, 6, 1, 4, 5, 9, 0, 1, 0, 0, 8, 1, 1, 6, 6, 9, 5, 4, 1, 7, 8, 6, 9, 1, 7, 6, 0, 9, 3, 5, 3, 2, 5, 3, 4, 9, 7, 1, 4, 4, 6, 1, 3, 8, 8, 0, 6, 7, 7, 6, 7, 2, 3, 2, 2, 6, 2, 7, 4, 0, 3, 6, 2, 6, 3, 3, 0, 9, 5, 1, 1, 5, 3, 6, 4, 3, 4, 1, 0, 4, 5, 5, 2, 8, 9, 4, 3, 1, 8, 0, 1, 3, 3, 4, 4, 2, 9, 7, 6, 8, 1, 8, 9, 1, 3, 1, 7, 3, 0, 0, 2, 8, 3, 9, 2, 7, 2, 6, 0, 1, 6, 1, 6, 7, 5, 5, 2, 5, 9, 4, 0, 2, 3, 4, 9, 4, 1, 0, 0, 2, 3, 8, 9, 2, 8, 9, 5, 7, 9, 1, 4, 6, 2, 8, 4, 4, 8, 9, 3, 1, 1, 6, 5, 8, 4, 6, 4, 5, 2, 6, 4, 2, 3, 1, 3, 6, 8, 5, 2, 2, 7, 1, 6, 2, 5, 9, 2, 8, 1, 6, 9, 2, 7, 5, 3, 2, 9, 7, 0, 2, 9, 3, 4, 1, 7, 9, 5, 8, 9, 7, 3, 4, 0, 9, 7, 4, 2, 4, 7, 0, 1, 8, 1, 0, 4, 6, 1, 9, 9, 2, 1, 2, 5, 6, 9, 7, 7, 3, 4, 2, 0, 2, 5, 6, 7, 3, 7, 9, 4, 2, 0, 6, 1, 7, 5, 6, 5, 3, 9, 2, 7, 8, 5, 9, 5, 8, 5, 4, 3, 7, 9, 8, 1, 2, 2, 8, 9, 3, 0, 8, 4, 0, 2, 0, 1, 4, 1, 8, 5, 5, 7, 9, 8, 3, 7, 9, 1, 5, 6, 9, 8, 7, 2, 0, 9, 0, 8, 5, 9, 4, 2, 9, 8, 1, 9, 1, 8, 3, 7, 6, 4, 2, 3, 7, 0, 3, 5, 8, 8, 8, 7, 9, 6, 2, 7, 4, 5, 7, 6, 7, 1, 7, 3, 6, 8, 2, 6, 6, 7, 1, 5, 9, 7, 1, 7, 0, 1, 6, 3, 3, 9, 0, 1, 2, 3, 2, 2, 5, 4, 9, 8, 7, 4, 4, 9, 7, 6, 7, 7, 1, 2, 3, 5, 1, 9, 0, 3, 3, 1, 5, 6, 6, 2, 4, 6, 8, 8, 9, 6, 6, 1, 0, 7, 5, 8, 2, 1, 5, 8, 1, 4, 7, 5, 0, 3, 9, 9, 5, 2, 8, 4, 1, 9, 0, 4, 4, 8, 2, 9, 0, 7, 9, 8, 7, 1, 3, 2, 9, 9, 5, 9, 7, 6, 7, 7, 1, 1, 2, 4, 2, 0, 6, 8, 7, 6, 2, 2, 9, 8, 2, 4, 2, 0, 5, 8, 6, 8, 2, 7, 7, 3, 1, 8, 1, 6, 5, 9, 7, 8, 9, 6, 4, 8, 1, 9, 4, 0, 4, 1, 4, 3, 6, 2, 2, 7, 0, 0, 7, 0, 7, 4, 3, 6, 7, 7, 4, 5, 4, 3, 5, 5, 4, 7, 1, 0, 7, 7, 1, 6, 5, 0, 7, 7, 4, 6, 1, 8, 5, 9, 3, 5, 6, 2, 2, 7, 3, 5, 8, 1, 0, 6, 8, 7, 8, 8, 5, 7, 5, 4, 9, 7, 3, 3, 8, 8, 3, 9, 4, 7, 2, 0, 8, 0, 7, 3, 3, 2, 5, 2, 4, 4, 0, 4, 8, 2, 4, 0, 6, 4, 5, 6, 0, 8, 8, 0, 6, 1, 1, 6, 1, 4, 2, 1, 1, 2, 4, 4, 5, 5, 8, 8, 5, 1, 8, 2, 3, 3, 9, 6, 6, 5, 0, 7, 3, 3, 2, 7, 4, 5, 6, 0, 2, 1, 8, 1, 0, 9, 3, 1, 0, 5, 4, 2, 3, 3, 6, 7, 6, 0, 0, 5, 7, 4, 7, 7, 0, 6, 1, 3, 9, 0, 9, 0, 3, 8, 4, 8, 8, 4, 1, 0, 2, 2, 4, 1, 1, 2, 4, 3, 4, 1, 4, 7, 1, 0, 0, 9, 0, 4, 2, 8, 8, 5, 5, 0, 4, 0, 8, 6, 2, 5, 9, 2, 9, 1, 1, 5, 4, 7, 5, 8, 6, 2, 1, 5, 5, 3, 4, 1, 8, 9, 9, 8, 9, 8, 6, 8, 5, 8, 9, 4, 6, 2, 6, 3, 7, 4, 0, 0, 1, 7, 5, 1, 5, 9, 3, 1, 6, 8, 7, 3, 6, 9, 1, 2, 0, 1, 7, 2, 6, 1, 9, 0, 0, 8, 9, 9, 2, 8, 6, 2, 5, 6, 0, 3, 3, 0, 7, 4, 7, 5, 0, 1, 6, 8, 8, 1, 2, 1, 5, 4, 5, 9, 6, 7, 1, 0, 6, 9, 2, 7, 7, 3, 9, 9, 1, 9, 7, 0, 1, 3, 5, 4, 6, 3, 8, 8, 0, 4, 8, 3, 6, 7, 0, 0, 4, 5, 2, 6, 8, 4, 9, 9, 9, 2, 0, 4, 2, 8, 1, 1, 0, 0, 3, 7, 4, 1, 1, 9, 7, 7, 4, 6, 8, 6, 0, 2, 8, 5, 3, 5, 3, 5, 7, 9, 8, 4, 4, 3, 1, 4, 8, 3, 6, 5, 3, 0, 8, 9, 5, 7, 6, 2, 0, 4, 9, 9, 0, 5, 2, 3, 6, 1, 1, 0, 2, 8, 2, 1, 1, 7, 5, 2, 3, 4, 1, 2, 9, 2, 1, 3, 4, 8, 9, 0, 0, 4, 9, 0, 2, 2, 0, 6, 8, 7, 3, 3, 8, 9, 0, 2, 5, 3, 6, 1, 3, 9, 5, 0, 5, 4, 4, 0, 1, 1, 6, 1, 7, 9, 9, 6, 2, 4, 3, 8, 3, 4, 7, 0, 2, 8, 4, 8, 3, 8, 8, 8, 3, 3, 5, 7, 7, 0, 4, 1, 5, 9, 7, 0, 6, 8, 4, 9, 0, 1, 8, 9, 6, 3, 9, 2, 4, 4, 0, 3, 3, 5, 4, 5, 1, 1, 8, 2, 2, 9, 3, 7, 8, 9, 2, 3, 1, 7, 3, 2, 3, 0, 1, 9, 5, 5, 3, 4, 5, 2, 0, 0, 3, 1, 3, 4, 7, 4, 2, 8, 4, 8, 9, 9, 4, 2, 4, 3, 6, 4, 6, 4, 6, 6, 3, 8, 7, 4, 8, 0, 5, 9, 3, 9, 0, 7, 5, 1, 9, 7, 9, 1, 8, 4, 2, 1, 6, 4, 3, 0, 1, 4, 8, 6, 1, 7, 1, 3, 5, 4, 3, 3, 9, 7, 8, 2, 5, 5, 4, 5, 4, 5, 7, 2, 5, 5, 1, 7, 7, 8, 3, 6, 0, 2, 5, 2, 3, 7, 4, 2, 1, 6, 8, 6, 8, 3, 2, 7, 7, 9, 7, 1, 4, 7, 4, 6, 1, 7, 3, 0, 0, 6, 6, 8, 6, 6, 0, 3, 4, 7, 4, 9, 4, 9, 9, 3, 4, 1, 4, 0, 3, 7, 1, 2, 2, 8, 4, 7, 8, 5, 5, 6, 5, 6, 0, 6, 4, 9, 3, 2, 7, 3, 8, 3, 9, 4, 1, 6, 9, 9, 4, 3, 9, 8, 1, 6, 9, 5, 9, 0, 9, 7, 2, 2, 4, 2, 6, 4, 8, 1, 9, 5, 6, 5, 1, 8, 6, 6, 7, 6, 5, 0, 2, 7, 6, 1, 2, 3, 1, 6, 4, 9, 0, 3, 9, 1, 0, 5, 3, 1, 6, 9, 8, 9, 0, 6, 1, 6, 2, 3, 5, 6, 9, 0, 7, 2, 4, 0, 3, 6, 8, 6, 9, 1, 9, 0, 6, 4, 5, 9, 5, 4, 1, 9, 2, 0, 7, 3, 5, 1, 8, 3, 0, 5, 2, 8, 8, 3, 9, 6, 0, 3, 5, 3, 4, 1, 5, 0, 7, 3, 9, 4, 5, 3, 1, 4, 2, 4, 9, 9, 7, 1, 7, 0, 1, 2, 1, 5, 3, 8, 4, 1, 5, 1, 9, 9, 7, 0, 1, 7, 6, 2, 6, 5, 0, 3, 1, 3, 8, 9, 9, 0, 8, 8, 7, 9, 2, 9, 1, 3, 6, 7, 6, 0, 8, 6, 2, 4, 2, 3, 5, 5, 4, 1, 6, 7, 1, 6, 1, 7, 1, 6, 2, 3, 0, 4, 2, 9, 7, 5, 5, 6, 0, 8, 8, 1, 1, 3, 5, 6, 5, 3, 8, 7, 5, 0, 7, 7, 5, 7, 1, 9, 9, 1, 9, 9, 3, 5, 5, 3, 0, 3, 0, 6, 6, 5, 6, 8, 9, 4, 5, 1, 1, 2, 7, 9, 0, 1, 2, 5, 4, 4, 7, 4, 8, 3, 3, 5, 3, 5, 7, 0, 1, 2, 9, 8, 1, 7, 3, 5, 9, 1, 9, 1, 1, 3, 6, 7, 4, 8, 3, 5, 6, 7, 0, 1, 7, 7, 2, 3, 3, 5, 1, 7, 6, 8, 4, 4, 5, 7, 3, 4, 7, 7, 3, 6, 0, 7, 2, 6, 7, 4, 1, 8, 0, 2, 2, 1, 5, 4, 0, 9, 3, 4, 4, 2, 3, 8, 5, 0, 0, 4, 6, 3, 9, 2, 0, 5, 7, 5, 5, 1, 7, 3, 1, 6, 7, 9, 0, 1, 2, 1, 4, 6, 1, 5, 9, 5, 0, 4, 9, 4, 9, 7, 1, 6, 8, 0, 6, 5, 0, 8, 1, 7, 5, 6, 9, 3, 2, 3, 9, 8, 6, 1, 0, 9, 0, 9, 8, 7, 7, 5, 2, 3, 5, 5, 7, 8, 7, 6, 9, 1, 9, 8, 6, 5, 6, 7, 5, 6, 7, 2, 5, 9, 6, 6, 7, 0, 1, 0, 1, 3, 2, 5, 6, 1, 2, 5, 1, 9, 9, 8, 6, 8, 6, 8, 9, 0, 4, 0, 3, 3, 6, 4, 9, 9, 7, 2, 3, 5, 6, 4, 6, 0, 3, 7, 5, 0, 2, 9, 2, 7, 2, 9, 2, 4, 0, 6, 6, 3, 4, 5, 5, 9, 1, 1, 4, 4, 3, 5, 4, 8, 0, 0, 3, 9, 4, 7, 4, 2, 8, 3, 6, 3, 1, 9, 6, 3, 8, 3, 8, 4, 7, 5, 7, 5, 3, 1, 2, 6, 1, 3, 2, 0, 7, 5, 0, 0, 0, 1, 4, 3, 5, 8, 4, 3, 1, 7, 1, 0, 4, 2, 4, 1, 4, 0, 1, 2, 1, 7, 7, 9, 8, 7, 5, 4, 0, 9, 0, 0, 8, 2, 0, 0, 2, 4, 8, 6, 2, 4, 6, 3, 5, 1, 5, 3, 7, 2, 2, 9, 8, 0, 0, 0, 3, 4, 4, 6, 1, 6, 7, 4, 4, 3, 9, 4, 0, 8, 0, 4, 6, 5, 7, 9, 7, 0, 5, 7, 7, 3, 1, 9, 3, 0, 9, 5, 3, 7, 9, 4, 4, 1, 7, 7, 1, 4, 1, 2, 8, 7, 0, 0, 4, 7, 2, 9, 7, 6, 9, 3, 5, 8, 0, 3, 6, 8, 3, 2, 4, 7, 1, 1, 3, 9, 7, 5, 1, 0, 8, 7, 0, 1, 6, 9, 3, 2, 7, 7, 8, 1, 0, 3, 4, 6, 7, 5, 2, 0, 1, 5, 5, 1, 4, 1, 3, 0, 8, 6, 2, 1, 3, 6, 4, 1, 9, 0, 4, 1, 0, 1, 9, 8, 6, 9, 2, 4, 7, 2, 2, 7, 4, 9, 1, 3, 2, 6, 3, 4, 4, 9, 4, 8, 2, 6, 6, 1, 6, 3, 6, 5, 8, 4, 6, 7, 1, 9, 3, 6, 7, 6, 0, 7, 1, 9, 5, 2, 6, 7, 7, 6, 5, 9, 1, 5, 6, 0, 2, 0, 9, 1, 8, 3, 5, 0, 0, 0, 5, 7, 7, 8, 5, 5, 5, 1, 6, 1, 5, 1, 0, 6, 2, 3, 2, 1, 7, 5, 1, 9, 8, 3, 6, 9, 7, 3, 0, 2, 3, 9, 4, 4, 3, 9, 6, 8, 6, 6, 8, 5, 4, 3, 6, 7, 7, 4, 3, 9, 6, 2, 4, 0, 1, 3, 6, 4, 9, 2, 6, 0, 3, 8, 7, 5, 3, 3, 8, 3, 2, 6, 3, 6, 2, 7, 4, 5, 7, 9, 0, 0, 6, 7, 2, 8, 5, 5, 7, 5, 5, 9, 4, 6, 4, 7, 3, 3, 6, 4, 1, 6, 3, 1, 6, 7, 0, 5, 0, 1, 9, 7, 3, 5, 2, 3, 9, 5, 6, 4, 0, 0, 0, 8, 0, 3, 2, 4, 5, 3, 7, 9, 6, 9, 3, 1, 2, 6, 7, 4, 5, 1, 3, 7, 6, 9, 5, 8, 5, 8, 5, 8, 5, 6, 5, 0, 8, 3, 8, 1, 8, 1, 5, 0, 9, 8, 6, 3, 6, 3, 4, 4, 7, 4, 7, 4, 3, 2, 4, 5, 5, 7, 5, 4, 5, 8, 0, 5, 4, 0, 5, 4, 3, 3, 2, 4, 2, 9, 4, 8, 8, 6, 2, 6, 1, 7, 0, 4, 3, 8, 5, 9, 7, 6, 7, 1, 0, 2, 3, 5, 6, 7, 1, 6, 2, 8, 3, 7, 2, 5, 7, 5, 7, 7, 1, 7, 4, 3, 3, 4, 0, 4, 2, 7, 0, 2, 2, 6, 6, 2, 5, 2, 6, 0, 6, 1, 2, 9, 0, 0, 1, 5, 5, 1, 6, 7, 8, 5, 6, 3, 3, 6, 0, 9, 9, 2, 2, 6, 1, 4, 6, 2, 5, 7, 8, 8, 5, 6, 4, 3, 2, 3, 4, 4, 4, 8, 9, 2, 6, 0, 9, 7, 9, 8, 7, 7, 3, 8, 2, 9, 3, 5, 7, 5, 8, 7, 3, 7, 0, 7, 1, 6, 2, 4, 0, 0, 2, 9, 8, 2, 8, 7, 7, 5, 5, 0, 1, 2, 9, 6, 1, 0, 1, 0, 6, 5, 0, 5, 7, 4, 4, 8, 3, 5, 3, 7, 2, 5, 8, 3, 5, 7, 3, 7, 0, 5, 4, 5, 6, 9, 3, 5, 3, 8, 2, 4, 2, 2, 6, 7, 6, 0, 5, 5, 8, 4, 5, 6, 1, 3, 5, 4, 7, 3, 0, 7, 2, 0, 1, 2, 4, 9, 6, 4, 5, 9, 7, 7, 6, 7, 4, 3, 1, 6, 9, 4, 8, 0, 3, 1, 6, 4, 4, 2, 1, 4, 6, 3, 0, 8, 9, 7, 6, 8, 4, 8, 1, 4, 5, 9, 4, 7, 1, 4, 5, 3, 1, 2, 6, 4, 7, 1, 5, 9, 3, 1, 4, 8, 7, 7, 0, 4, 3, 4, 6, 7, 7, 5, 4, 4, 4, 3, 6, 6, 1, 9, 9, 7, 9, 4, 3, 2, 9, 8, 5, 0, 6, 9, 0, 9, 7, 8, 5, 4, 4, 9, 4, 2, 6, 6, 9, 9, 7, 9, 9, 0, 5, 1, 1, 8, 6, 9, 9, 5, 6, 5, 5, 9, 7, 9, 4, 5, 4, 3, 3, 9, 8, 8, 3, 4, 8, 4, 0, 4, 0, 7, 2, 8, 0, 2, 0, 7, 4, 0, 6, 3, 3, 1, 7, 4, 6, 5, 0, 4, 9, 5, 6, 6, 3, 0, 5, 2, 6, 3, 3, 8, 0, 8, 5, 4, 2, 9, 5, 0, 5, 4, 8, 2, 7, 6, 5, 7, 8, 2, 0, 1, 8, 2, 4, 8, 4, 3, 0, 4, 0, 1, 9, 3, 0, 3, 6, 5, 5, 2, 8, 5, 0, 8, 7, 5, 2, 4, 3, 7, 0, 2, 3, 1, 0, 0, 2, 1, 2, 1, 4, 6, 7, 1, 0, 5, 2, 5, 9, 2, 5, 6, 7, 1, 9, 3, 6, 1, 0, 2, 9, 4, 2, 9, 3, 8, 2, 9, 8, 5, 1, 0, 1, 5, 2, 5, 6, 8, 8, 3, 5, 0, 4, 1, 3, 7, 0, 3, 3, 9, 2, 3, 9, 9, 8, 5, 9, 7, 2, 0, 9, 4, 7, 1, 7, 6, 4, 4, 8, 9, 0, 7, 1, 2, 4, 0, 3, 7, 5, 1, 9, 3, 5, 2, 4, 1, 1, 3, 3, 9, 2, 5, 8, 0, 8, 1, 5, 1, 5, 9, 0, 9, 2, 4, 0, 6, 9, 1, 1, 3, 4, 9, 5, 3, 3, 3, 3, 4, 1, 5, 9, 8, 7, 4, 8, 7, 3, 5, 2, 5, 8, 9, 7, 2, 0, 0, 7, 5, 3, 5, 7, 4, 6, 2, 8, 2, 7, 7, 6, 1, 3, 8, 6, 2, 0, 4, 4, 8, 6, 4, 0, 2, 5, 4, 1, 2, 5, 4, 6, 9, 5, 0, 5, 2, 0, 8, 2, 6, 4, 7, 9, 5, 7, 2, 6, 2, 1, 9, 9, 7, 2, 5, 1, 8, 1, 6, 3, 0, 8, 8, 5, 6, 9, 9, 9, 6, 3, 0, 8, 8, 5, 3, 3, 1, 1, 0, 7, 0, 6, 0, 4, 4, 6, 5, 3, 2, 9, 6, 6, 7, 9, 7, 7, 0, 8, 4, 2, 7, 7, 7, 4, 0, 1, 6, 0, 5, 3, 0, 2, 4, 9, 7, 3, 3, 2, 8, 8, 5, 3, 8, 0, 8, 0, 0, 0, 2, 2, 7, 0, 7, 7, 7, 2, 2, 0, 4, 0, 3, 7, 8, 4, 7, 9, 6, 1, 1, 6, 9, 3, 8, 9, 5, 8, 3, 9, 4, 3, 7, 5, 5, 2, 7, 5, 7, 9, 6, 3, 0, 8, 4, 5, 6, 1, 0, 4, 8, 4, 7, 1, 3, 2, 0, 9, 1, 8, 8, 6, 8, 1, 7, 1, 0, 9, 7, 6, 4, 5, 8, 2, 1, 2, 5, 8, 1, 1, 8, 8, 0, 9, 0, 0, 4, 3, 3, 5, 6, 6, 3, 1, 4, 4, 7, 8, 0, 1, 4, 8, 4, 6, 2, 2, 2, 6, 3, 4, 0, 8, 1, 3, 8, 3, 8, 9, 1, 6, 1, 9, 8, 2, 0, 4, 7, 4, 0, 0, 7, 6, 8, 9, 8, 6, 2, 8, 8, 0, 1, 1, 0, 7, 7, 4, 4, 7, 7, 2, 6, 6, 7, 4, 5, 4, 0, 9, 4, 7, 2, 5, 3, 2, 2, 7, 6, 2, 6, 4, 9, 6, 8, 3, 8, 5, 5, 2, 3, 4, 5, 2, 7, 5, 1, 5, 3, 7, 8, 8, 9, 6, 0, 9, 2, 6, 0, 0, 1, 4, 1, 3, 5, 1, 8, 9, 6, 2, 6, 9, 5, 6, 5, 9, 1, 4, 2, 8, 9, 5, 4, 7, 0, 3, 7, 1, 6, 9, 1, 1, 4, 0, 5, 1, 6, 3, 0, 2, 5, 5, 5, 2, 8, 2, 3, 1, 6, 2, 7, 0, 8, 9, 2, 6, 4, 7, 5, 5, 8, 8, 7, 8, 5, 7, 4, 4, 0, 0, 7, 0, 4, 0, 4, 4, 2, 5, 4, 0, 7, 7, 7, 0, 4, 6, 2, 9, 1, 1, 5, 0, 9, 1, 0, 6, 5, 3, 0, 9, 0, 6, 2, 0, 4, 1, 6, 7, 6, 1, 0, 4, 6, 0, 4, 4, 2, 7, 6, 5, 3, 5, 9, 4, 5, 2, 0, 5, 7, 2, 3, 9, 4, 5, 8, 1, 9, 3, 1, 8, 5, 8, 6, 6, 3, 4, 0, 2, 3, 2, 6, 1, 8, 2, 1, 3, 6, 2, 2, 3, 3, 5, 0, 2, 1, 2, 8, 0, 8, 2, 2, 7, 3, 5, 9, 8, 3, 6, 1, 0, 8, 6, 3, 5, 8, 9, 4, 8, 0, 0, 2, 9, 1, 8, 3, 7, 2, 8, 0, 9, 4, 8, 9, 4, 8, 9, 5, 4, 8, 1, 5, 5, 7, 2, 5, 8, 8, 1, 2, 3, 1, 5, 0, 2, 3, 0, 8, 2, 2, 8, 7, 3, 5, 3, 9, 6, 3, 5, 1, 1, 7, 7, 3, 3, 8, 9, 6, 0, 8, 0, 6, 6, 4, 6, 9, 1, 1, 7, 0, 6, 8, 9, 0, 6, 9, 0, 1, 1, 7, 2, 1, 0, 4, 5, 0, 3, 6, 3, 3, 8, 1, 8, 1, 3, 1, 5, 4, 5, 1, 8, 9, 1, 3, 1, 7, 2, 9, 8, 9, 4, 6, 0, 9, 4, 0, 4, 6, 2, 1, 3, 0, 8, 5, 6, 0, 3, 4, 6, 9, 5, 7, 9, 0, 3, 6, 5, 7, 0, 5, 1, 2, 2, 9, 7, 0, 0, 1, 4, 4, 5, 5, 9, 6, 3, 6, 2, 6, 9, 3, 2, 3, 2, 4, 9, 5, 2, 1, 6, 6, 4, 7, 6, 3, 3, 8, 1, 4, 6, 4, 4, 5, 6, 2, 0, 5, 2, 7, 5, 2, 5, 2, 5, 9, 0, 6, 7, 9, 8, 3, 2, 1, 4, 3, 4, 5, 5, 6, 8, 6, 0, 8, 9, 8, 0, 7, 7, 6, 6, 7, 5, 9, 8, 7, 9, 5, 6, 0, 4, 8, 2, 0, 9, 1, 3, 9, 8, 3, 7, 4, 5, 0, 2, 1, 9, 1, 0, 5, 8, 4, 7, 3, 1, 4, 5, 3, 1, 0, 8, 8, 8, 2, 1, 3, 7, 3, 1, 6, 9, 1, 6, 0, 7, 7, 1, 3, 3, 3, 1, 0, 2, 7, 1, 2, 2, 9, 6, 3, 5, 9, 4, 8, 0, 4, 8, 0, 1, 3, 7, 0, 4, 7, 4, 8, 6, 4, 3, 9, 8, 2, 2, 8, 3, 1, 1, 2, 8, 2, 6, 9, 4, 8, 4, 4, 1, 5, 2, 6, 9, 2, 0, 7, 1, 8, 9, 3, 9, 9, 0, 7, 7, 5, 4, 2, 6, 4, 5, 7, 7, 8, 7, 2, 6, 2, 2, 4, 4, 0, 7, 1, 3, 9, 6, 0, 0, 2, 3, 8, 2, 2, 4, 3, 5, 2, 9, 1, 0, 0, 6, 5, 5, 7, 9, 9, 6, 5, 5, 0, 5, 7, 1, 6, 6, 4, 1, 4, 4, 1, 5, 0, 0, 4, 5, 8, 4, 8, 3, 0, 5, 0, 5, 3, 1, 6, 7, 0, 9, 1, 5, 7, 6, 5, 5, 5, 6, 0, 0, 1, 7, 5, 1, 9, 2, 4, 1, 3, 7, 8, 2, 0, 9, 6, 6, 0, 6, 5, 8, 2, 7, 4, 0, 2, 7, 7, 8, 8, 7, 0, 4, 9, 1, 4, 4, 3, 5, 4, 6, 2, 3, 1, 0, 3, 3, 3, 6, 3, 1, 2, 8, 9, 7, 9, 3, 8, 7, 3, 1, 7, 7, 3, 2, 2, 8, 9, 5, 9, 2, 1, 7, 4, 4, 0, 5, 7, 1, 5, 4, 0, 8, 4, 9, 8, 7, 8, 4, 2, 3, 4, 0, 5, 4, 1, 8, 2, 5, 4, 5, 2, 5, 3, 7, 9, 7, 1, 4, 1, 3, 1, 4, 5, 5, 1, 7, 1, 3, 0, 1, 2, 5, 7, 0, 6, 3, 5, 7, 5, 5, 8, 9, 4, 6, 3, 6, 6, 8, 2, 6, 4, 8, 4, 1, 3, 1, 2, 3, 3, 0, 1, 6, 4, 2, 8, 2, 4, 3, 1, 4, 4, 4, 4, 1, 5, 5, 7, 6, 5, 4, 5, 6, 5, 6, 2, 4, 7, 7, 4, 6, 5, 0, 2, 3, 9, 2, 3, 8, 0, 7, 0, 6, 8, 1, 2, 8, 9, 1, 5, 4, 2, 3, 5, 5, 3, 6, 5, 0, 3, 2, 1, 3, 3, 7, 7, 4, 9, 4, 3, 9, 5, 1, 7, 6, 6, 4, 8, 5, 1, 2, 8, 4, 5, 3, 3, 3, 0, 4, 8, 7, 7, 9, 4, 8, 4, 5, 9, 1, 8, 3, 1, 3, 8, 0, 3, 5, 4, 6, 9, 2, 7, 2, 0, 5, 2, 9, 7, 5, 0, 7, 0, 3, 5, 5, 3, 8, 7, 7, 9, 6, 5, 8, 9, 0, 1, 9, 4, 0, 0, 1, 7, 2, 2, 8, 5, 9, 8, 2, 8, 0, 6, 6, 8, 6, 9, 6, 1, 1, 5, 3, 5, 0, 7, 6, 1, 4, 4, 1, 1, 8, 1, 1, 2, 3, 4, 9, 9, 5, 2, 7, 3, 3, 6, 9, 6, 9, 8, 8, 6, 7, 4, 7, 2, 3, 8, 0, 9, 0, 7, 8, 1, 2, 3, 2, 4, 2, 9, 0, 3, 8, 9, 6, 5, 5, 2, 4, 1, 0, 6, 1, 8, 4, 5, 5, 5, 0, 8, 9, 0, 5, 7, 9, 6, 3, 4, 6, 4, 9, 7, 1, 2, 5, 2, 8, 0, 2, 2, 9, 8, 1, 9, 7, 7, 3, 1, 4, 1, 1, 3, 8, 8, 1, 9, 3, 8, 9, 5, 1, 1, 6, 2, 7, 2, 6, 2, 6, 9, 6, 0, 1, 3, 9, 3, 8, 8, 8, 2, 9, 1, 2, 6, 0, 5, 0, 7, 7, 7, 9, 4, 5, 0, 2, 3, 5, 5, 8, 9, 1, 2, 7, 1, 3, 4, 6, 9, 1, 0, 7, 1, 9, 5, 8, 1, 9, 9, 7, 9, 8, 3, 0, 2, 6, 0, 2, 2, 4, 0, 8, 4, 8, 1, 2, 7, 2, 7, 9, 5, 2, 2, 9, 2, 6, 5, 7, 2, 5, 6, 5, 1, 8, 2, 6, 8, 6, 3, 0, 8, 0, 0, 9, 9, 6, 8, 0, 6, 6, 0, 7, 9, 8, 0, 5, 0, 9, 6, 0, 4, 7, 1, 7, 8, 8, 2, 3, 9, 6, 5, 5, 3, 1, 5, 3, 0, 2, 5, 2, 7, 3, 8, 4, 4, 6, 1, 9, 4, 1, 7, 0, 1, 4, 3, 0, 2, 9, 4, 5, 0, 3, 4, 7, 2, 3, 0, 1, 3, 7, 9, 9, 0, 7, 5, 6, 7, 1, 2, 2, 7, 4, 6, 8, 4, 9, 8, 4, 9, 2, 3, 4, 0, 2, 5, 6, 0, 5, 3, 5, 8, 3, 7, 4, 9, 5, 6, 3, 8, 6, 9, 8, 5, 5, 8, 3, 5, 9, 0, 4, 2, 0, 5, 9, 9, 3, 8, 0, 6, 0, 2, 3, 7, 0, 0, 6, 9, 1, 5, 2, 2, 7, 9, 3, 9, 3, 5, 2, 2, 2, 8, 8, 5, 0, 0, 7, 0, 3, 1, 6, 5, 0, 9, 2, 6, 7, 4, 2, 0, 0, 5, 3, 3, 2, 6, 4, 2, 7, 8, 0, 1, 0, 1, 3, 6, 4, 8, 0, 6, 0, 9, 1, 6, 2, 1, 0, 1, 3, 0, 3, 7, 9, 9, 3, 7, 5, 7, 1, 6, 6, 1, 1, 1, 4, 4, 2, 1, 7, 0, 1, 2, 1, 1, 3, 2, 6, 9, 1, 3, 2, 0, 8, 7, 3, 4, 6, 4, 6, 9, 4, 8, 9, 3, 0, 5, 7, 2, 0, 2, 9, 9, 3, 8, 7, 1, 1, 2, 2, 2, 5, 9, 1, 2, 6, 1, 2, 1, 8, 9, 2, 3, 1, 9, 9, 4, 4, 5, 5, 0, 3, 3, 7, 1, 7, 7, 9, 8, 6, 3, 5, 5, 1, 6, 2, 7, 8, 4, 3, 3, 5, 9, 6, 8, 5, 1, 0, 6, 7, 0, 9, 6, 2, 0, 8, 7, 1, 2, 6, 9, 1, 6, 4, 7, 1, 9, 0, 0, 5, 2, 8, 3, 8, 2, 8, 4, 0, 8, 3, 6, 1, 2, 3, 0, 5, 0, 4, 1, 7, 2, 0, 1, 3, 9, 1, 6, 1, 6, 1, 2, 8, 7, 0, 9, 5, 8, 0, 0, 1, 7, 9, 7, 1, 9, 2, 1, 9, 4, 3, 6, 0, 2, 0, 0, 9, 9, 8, 9, 4, 5, 4, 3, 0, 7, 8, 7, 3, 7, 5, 4, 6, 5, 9, 5, 2, 4, 2, 7, 9, 6, 7, 4, 7, 1, 2, 3, 1, 1, 3, 6, 8, 3, 7, 7, 0, 8, 1, 5, 2, 5, 5, 3, 6, 3, 5, 9, 8, 4, 6, 8, 0, 4, 1, 7, 8, 4, 9, 7, 2, 6, 3, 8, 8, 6, 7, 3, 8, 1, 1, 5, 3, 7, 9, 9, 9, 8, 5, 9, 9, 6, 8, 8, 4, 8, 1, 0, 1, 8, 8, 6, 5, 9, 0, 6, 1, 2, 6, 6, 3, 5, 6, 5, 5, 3, 3, 6, 8, 9, 4, 4, 3, 8, 3, 6, 0, 8, 5, 7, 8, 4, 6, 5, 3, 1, 8, 3, 0, 4, 4, 3, 3, 5, 3, 3, 2, 7, 7, 8, 2, 0, 5, 5, 6, 1, 1, 3, 9, 9, 3, 6, 7, 1, 8, 3, 9, 8, 7, 8, 8, 0, 3, 2, 4, 8, 7, 5, 7, 1, 8, 7, 3, 5, 4, 4, 3, 8, 6, 1, 1, 6, 3, 2, 2, 8, 9, 8, 3, 3, 8, 1, 1, 0, 5, 2, 0, 5, 0, 5, 8, 6, 3, 9, 6, 6, 3, 9, 4, 8, 3, 4, 3, 1, 1, 2, 9, 7, 8, 5, 5, 8, 6, 9, 0, 8, 3, 5, 1, 3, 3, 5, 5, 3, 8, 1, 4, 6, 4, 2, 4, 3, 8, 9, 6, 6, 6, 5, 5, 2, 7, 7, 4, 4, 9, 3, 8, 3, 7, 7, 8, 5, 3, 9, 1, 6, 7, 3, 3, 3, 8, 5, 6, 1, 3, 7, 9, 6, 1, 6, 4, 9, 0, 5, 7, 4, 9, 1, 0, 0, 2, 7, 8, 3, 2, 7, 6, 1, 6, 6, 4, 4, 2, 1, 8, 4, 4, 7, 8, 5, 8, 9, 4, 3, 2, 2, 9, 3, 0, 1, 1, 1, 1, 6, 8, 7, 1, 3, 0, 4, 5, 0, 3, 0, 6, 2, 0, 9, 8, 6, 8, 5, 8, 2, 9, 6, 0, 6, 1, 8, 7, 3, 2, 2, 6, 5, 6, 9, 2, 5, 4, 9, 8, 5, 3, 9, 3, 5, 7, 1, 8, 5, 8, 6, 2, 5, 1, 3, 0, 4, 1, 9, 5, 4, 9, 2, 1, 4, 2, 5, 9, 8, 7, 2, 1, 6, 9, 7, 3, 6, 5, 8, 0, 2, 2, 4, 9, 0, 5, 5, 4, 2, 3, 1, 0, 3, 0, 4, 4, 9, 1, 3, 3, 0, 2, 1, 1, 0, 4, 1, 9, 4, 8, 1, 1, 1, 5, 9, 8, 1, 6, 7, 2, 9, 9, 7, 8, 8, 1, 9, 7, 8, 9, 1, 6, 6, 3, 3, 1, 3, 0, 8, 8, 3, 6, 6, 7, 1, 0, 7, 6, 4, 8, 2, 0, 6, 6, 8, 6, 3, 1, 1, 8, 6, 7, 0, 5, 4, 3, 2, 1, 7, 8, 2, 0, 1, 7, 4, 8, 7, 6, 6, 7, 0, 6, 4, 9, 2, 3, 2, 1, 3, 8, 6, 8, 1, 9, 6, 7, 6, 5, 0, 6, 0, 1, 3, 1, 1, 5, 3, 4, 3, 3, 8, 1, 6, 6, 1, 8, 8, 6, 2, 7, 4, 6, 8, 9, 3, 3, 5, 5, 3, 1, 4, 1, 9, 5, 1, 7, 7, 7, 5, 2, 3, 3, 6, 6, 6, 4, 0, 7, 1, 7, 3, 0, 8, 1, 2, 4, 1, 2, 2, 4, 9, 8, 2, 8, 7, 6, 3, 4, 7, 2, 3, 1, 5, 3, 0, 4, 3, 4, 9, 4, 7, 9, 1, 7, 8, 3, 1, 8, 3, 2, 5, 7, 2, 7, 9, 6, 8, 6, 8, 6, 5, 9, 0, 4, 8, 5, 6, 4, 3, 8, 0, 4, 8, 6, 7, 2, 7, 1, 7, 4, 1, 2, 4, 2, 2, 8, 7, 2, 2, 6, 7, 5, 6, 8, 9, 9, 6, 5, 2, 9, 8, 7, 2, 3, 3, 7, 4, 3, 2, 1, 9, 0, 1, 5, 3, 2, 6, 5, 9, 1, 5, 4, 3, 6, 2, 8, 9, 7, 8, 0, 8, 9, 1, 2, 5, 7, 2, 0, 6, 6, 1, 6, 3, 1, 5, 0, 3, 7, 4, 6, 5, 6, 4, 8, 3, 4, 5, 5, 0, 6, 6, 7, 5, 0, 9, 9, 6, 1, 0, 4, 6, 3, 6, 9, 3, 6, 6, 8, 2, 1, 0, 1, 9, 3, 7, 4, 3, 0, 2, 7, 6, 4, 3, 0, 8, 2, 0, 0, 9, 6, 6, 6, 8, 7, 4, 1, 8, 1, 2, 2, 4, 8, 5, 2, 6, 5, 3, 9, 1, 0, 7, 2, 4, 4, 0, 0, 6, 2, 2, 4, 0, 5, 9, 7, 1, 8, 4, 5, 5, 9, 8, 5, 7, 8, 0, 9, 8, 9, 1, 6, 3, 8, 0, 3, 4, 4, 8, 4, 8, 9, 8, 6, 0, 0, 8, 2, 7, 4, 2, 5, 6, 0, 5, 8, 4, 1, 9, 0, 1, 4, 4, 8, 4, 9, 6, 0, 7, 7, 6, 8, 9, 6, 2, 0, 4, 9, 4, 9, 3, 9, 6, 6, 7, 0, 9, 7, 1, 8, 6, 0, 6, 7, 4, 1, 9, 4, 6, 7, 9, 8, 3, 9, 2, 1, 2, 7, 6, 1, 0, 0, 5, 6, 0, 4, 3, 2, 8, 8, 0, 6, 9, 5, 2, 8, 7, 0, 6, 5, 9, 7, 2, 3, 6, 9, 6, 2, 2, 4, 1, 0, 5, 0, 8, 9, 3, 5, 9, 3, 8, 1, 6, 3, 7, 5, 6, 2, 0, 2, 8, 2, 8, 7, 7, 8, 1, 0, 8, 9, 7, 0, 3, 8, 0, 5, 9, 5, 8, 4, 2, 0, 9, 2, 2, 4, 4, 9, 2, 2, 2, 5, 1, 3, 2, 0, 0, 4, 0, 6, 5, 8, 0, 5, 8, 6, 4, 8, 5, 2, 9, 7, 9, 7, 1, 0, 1, 9, 6, 9, 2, 7, 9, 4, 4, 0, 6, 2, 4, 1, 3, 7, 2, 8, 5, 9, 0, 3, 2, 3, 2, 7, 6, 3, 2, 5, 9, 0, 5, 9, 9, 8, 7, 7, 4, 8, 6, 5, 2, 3, 1, 0, 4, 1, 8, 8, 4, 9, 4, 4, 3, 3, 9, 2, 0, 1, 1, 8, 4, 4, 8, 3, 2, 9, 5, 7, 6, 2, 5, 4, 7, 3, 3, 9, 0, 1, 5, 9, 3, 7, 6, 0, 4, 2, 2, 5, 6, 3, 8, 9, 5, 6, 1, 4, 5, 4, 6, 7, 2, 1, 0, 2, 0, 4, 9, 8, 8, 9, 1, 1, 5, 0, 0, 8, 7, 1, 7, 4, 5, 4, 3, 3, 2, 0, 6, 6, 0, 1, 3, 9, 8, 3, 7, 8, 9, 4, 8, 9, 0, 9, 7, 1, 6, 2, 9, 5, 6, 9, 3, 9, 8, 7, 7, 1, 6, 5, 3, 1, 3, 1, 2, 7, 1, 8, 2, 0, 9, 7, 9, 8, 8, 6, 7, 3, 7, 1, 3, 9, 0, 9, 3, 6, 7, 2, 7, 3, 0, 5, 9, 7, 5, 5, 0, 6, 5, 1, 8, 2, 7, 5, 9, 0, 0, 0, 8, 8, 7, 3, 7, 8, 9, 3, 7, 9, 7, 8, 7, 9, 8, 5, 4, 8, 3, 7, 6, 3, 8, 2, 1, 9, 5, 7, 3, 9, 5, 5, 8, 7, 3, 5, 3, 5, 9, 7, 6, 7, 3, 6, 4, 3, 9, 4, 2, 1, 9, 6, 0, 2, 6, 7, 4, 7, 9, 0, 7, 4, 3, 5, 3, 1, 1, 2, 6, 8, 2, 1, 7, 8, 5, 9, 6, 1, 1, 5, 0, 6, 0, 9, 2, 6, 5, 8, 9, 5, 5, 6, 2, 9, 1, 5, 8, 8, 7, 1, 7, 3, 5, 4, 9, 7, 5, 2, 9, 9, 4, 7, 4, 1, 3, 8, 7, 9, 0, 4, 5, 7, 5, 2, 8, 7, 6, 9, 6, 9, 3, 8, 5, 6, 6, 9, 5, 7, 8, 0, 5, 0, 7, 4, 8, 2, 5, 1, 3, 2, 2, 6, 2, 1, 7, 4, 6, 3, 1, 3, 7, 2, 1, 3, 7, 0, 8, 4, 4, 5, 7, 9, 5, 4, 3, 9, 6, 8, 2, 3, 3, 1, 6, 1, 7, 0, 3, 4, 2, 9, 4, 5, 8, 2, 7, 0, 9, 6, 8, 0, 8, 2, 8, 5, 7, 7, 2, 2, 0, 0, 0, 7, 4, 1, 6, 6, 8, 8, 9, 0, 9, 0, 1, 3, 3, 0, 9, 6, 6, 2, 6, 3, 4, 0, 8, 4, 1, 4, 0, 6, 5, 0, 9, 9, 9, 9, 1, 2, 3, 5, 4, 2, 9, 6, 0, 9, 6, 6, 8, 0, 6, 1, 4, 6, 8, 0, 5, 4, 1, 2, 0, 9, 6, 4, 2, 4, 6, 5, 9, 7, 7, 4, 6, 5, 0, 1, 9, 0, 3, 1, 9, 0, 9, 7, 8, 6, 7, 6, 8, 2, 4, 5, 3, 0, 3, 2, 1, 7, 5, 9, 3, 4, 5, 7, 1, 5, 0, 1, 1, 1, 9, 7, 5, 4, 9, 7, 8, 1, 0, 2, 8, 5, 6, 7, 0, 1, 4, 8, 4, 4, 6, 6, 5, 8, 1, 8, 4, 6, 5, 9, 2, 2, 1, 4, 9, 1, 6, 7, 2, 0, 1, 7, 6, 5, 2, 2, 5, 6, 0, 9, 0, 1, 5, 3, 3, 5, 8, 7, 5, 6, 5, 8, 0, 5, 9, 4, 6, 5, 1, 1, 0, 3, 3, 9, 4, 8, 1, 7, 7, 9, 9, 4, 3, 6, 3, 2, 8, 2, 7, 6, 7, 0, 2, 1, 2, 9, 4, 6, 9, 6, 1, 0, 1, 8, 7, 0, 0, 4, 7, 4, 2, 6, 9, 5, 9, 0, 7, 4, 5, 8, 1, 4, 7, 9, 9, 8, 8, 6, 3, 7, 0, 8, 9, 6, 2, 4, 6, 2, 9, 7, 4, 6, 8, 5, 6, 1, 3, 5, 9, 9, 1, 3, 2, 0, 3, 0, 2, 0, 7, 3, 9, 3, 5, 7, 6, 5, 9, 5, 6, 1, 2, 4, 0, 2, 7, 8, 4, 4, 0, 9, 5, 9, 2, 9, 3, 2, 4, 3, 2, 2, 8, 8, 6, 8, 1, 6, 8, 9, 8, 2, 1, 4, 9, 1, 5, 7, 1, 6, 0, 1, 5, 2, 8, 1, 1, 3, 8, 1, 3, 1, 8, 5, 1, 9, 0, 3, 0, 4, 0, 5, 1, 2, 0, 4, 9, 5, 1, 2, 2, 7, 8, 7, 2, 4, 5, 3, 4, 0, 6, 1, 5, 9, 8, 0, 2, 0, 7, 6, 0, 5, 9, 7, 5, 0, 4, 6, 0, 6, 3, 6, 8, 1, 1, 8, 9, 7, 2, 9, 0, 2, 2, 9, 0, 6, 5, 7, 7, 9, 1, 7, 9, 8, 4, 5, 0, 8, 0, 2, 5, 2, 1, 4, 4, 8, 9, 7, 8, 3, 6, 6, 0, 1, 1, 1, 8, 1, 4, 4, 0, 7, 8, 2, 1, 2, 5, 4, 6, 0, 5, 7, 4, 4, 3, 9, 5, 8, 8, 0, 8, 7, 4, 1, 8, 4, 9, 5, 4, 1, 7, 7, 7, 7, 0, 3, 8, 3, 3, 0, 5, 7, 0, 8, 0, 0, 9, 2, 2, 3, 4, 8, 2, 2, 6, 3, 3, 6, 2, 9, 4, 0, 1, 7, 5, 5, 7, 3, 0, 4, 2, 0, 7, 5, 8, 0, 8, 2, 7, 0, 3, 5, 3, 8, 3, 5, 1, 7]\n"
          ]
        }
      ],
      "source": [
        "print(y_pred)\n",
        "print(y_true)"
      ]
    },
    {
      "cell_type": "code",
      "execution_count": 15,
      "metadata": {
        "id": "YVVlD8XgWlQC"
      },
      "outputs": [],
      "source": [
        "from sklearn.metrics import confusion_matrix\n",
        "\n",
        "cf_matrix = confusion_matrix(y_true, y_pred)"
      ]
    },
    {
      "cell_type": "code",
      "execution_count": 16,
      "metadata": {
        "id": "AHEx5Q-XWlML"
      },
      "outputs": [],
      "source": [
        "import pandas as pd\n",
        "\n",
        "class_names = ('airplane', 'automobile', 'bird', 'cat', 'deer', 'dog', 'frog', 'horse', 'ship', 'truck')\n",
        "\n",
        "dataframe = pd.DataFrame(cf_matrix, index=class_names, columns=class_names) # Create pandas dataframe"
      ]
    },
    {
      "cell_type": "code",
      "execution_count": 17,
      "metadata": {
        "colab": {
          "base_uri": "https://localhost:8080/",
          "height": 363
        },
        "id": "vyJfk6xkZKcu",
        "outputId": "74defa12-99ba-446e-b7b7-c1918463c5fd"
      },
      "outputs": [
        {
          "output_type": "execute_result",
          "data": {
            "text/plain": [
              "            airplane  automobile  bird  cat  deer  dog  frog  horse  ship  \\\n",
              "airplane         873           9    31   10     8    7     7      8    32   \n",
              "automobile         1         953     1    3     3    3     1      0     4   \n",
              "bird              43           1   773   31    43   37    40     23     6   \n",
              "cat               17           5    46  632    38  142    54     51     9   \n",
              "deer              10           2    45   28   818   26    30     35     4   \n",
              "dog                8           3    28   81    27  802    19     27     3   \n",
              "frog               4           2    20   25    17   12   909      5     4   \n",
              "horse              7           0     9   18    29   24     5    904     1   \n",
              "ship              43          16     4    7     0    5     2      2   910   \n",
              "truck             16          54     6    8     1    3     7      7     9   \n",
              "\n",
              "            truck  \n",
              "airplane       15  \n",
              "automobile     31  \n",
              "bird            3  \n",
              "cat             6  \n",
              "deer            2  \n",
              "dog             2  \n",
              "frog            2  \n",
              "horse           3  \n",
              "ship           11  \n",
              "truck         889  "
            ],
            "text/html": [
              "\n",
              "  <div id=\"df-ff84a101-0994-4d1b-9551-71a4399d2f2d\">\n",
              "    <div class=\"colab-df-container\">\n",
              "      <div>\n",
              "<style scoped>\n",
              "    .dataframe tbody tr th:only-of-type {\n",
              "        vertical-align: middle;\n",
              "    }\n",
              "\n",
              "    .dataframe tbody tr th {\n",
              "        vertical-align: top;\n",
              "    }\n",
              "\n",
              "    .dataframe thead th {\n",
              "        text-align: right;\n",
              "    }\n",
              "</style>\n",
              "<table border=\"1\" class=\"dataframe\">\n",
              "  <thead>\n",
              "    <tr style=\"text-align: right;\">\n",
              "      <th></th>\n",
              "      <th>airplane</th>\n",
              "      <th>automobile</th>\n",
              "      <th>bird</th>\n",
              "      <th>cat</th>\n",
              "      <th>deer</th>\n",
              "      <th>dog</th>\n",
              "      <th>frog</th>\n",
              "      <th>horse</th>\n",
              "      <th>ship</th>\n",
              "      <th>truck</th>\n",
              "    </tr>\n",
              "  </thead>\n",
              "  <tbody>\n",
              "    <tr>\n",
              "      <th>airplane</th>\n",
              "      <td>873</td>\n",
              "      <td>9</td>\n",
              "      <td>31</td>\n",
              "      <td>10</td>\n",
              "      <td>8</td>\n",
              "      <td>7</td>\n",
              "      <td>7</td>\n",
              "      <td>8</td>\n",
              "      <td>32</td>\n",
              "      <td>15</td>\n",
              "    </tr>\n",
              "    <tr>\n",
              "      <th>automobile</th>\n",
              "      <td>1</td>\n",
              "      <td>953</td>\n",
              "      <td>1</td>\n",
              "      <td>3</td>\n",
              "      <td>3</td>\n",
              "      <td>3</td>\n",
              "      <td>1</td>\n",
              "      <td>0</td>\n",
              "      <td>4</td>\n",
              "      <td>31</td>\n",
              "    </tr>\n",
              "    <tr>\n",
              "      <th>bird</th>\n",
              "      <td>43</td>\n",
              "      <td>1</td>\n",
              "      <td>773</td>\n",
              "      <td>31</td>\n",
              "      <td>43</td>\n",
              "      <td>37</td>\n",
              "      <td>40</td>\n",
              "      <td>23</td>\n",
              "      <td>6</td>\n",
              "      <td>3</td>\n",
              "    </tr>\n",
              "    <tr>\n",
              "      <th>cat</th>\n",
              "      <td>17</td>\n",
              "      <td>5</td>\n",
              "      <td>46</td>\n",
              "      <td>632</td>\n",
              "      <td>38</td>\n",
              "      <td>142</td>\n",
              "      <td>54</td>\n",
              "      <td>51</td>\n",
              "      <td>9</td>\n",
              "      <td>6</td>\n",
              "    </tr>\n",
              "    <tr>\n",
              "      <th>deer</th>\n",
              "      <td>10</td>\n",
              "      <td>2</td>\n",
              "      <td>45</td>\n",
              "      <td>28</td>\n",
              "      <td>818</td>\n",
              "      <td>26</td>\n",
              "      <td>30</td>\n",
              "      <td>35</td>\n",
              "      <td>4</td>\n",
              "      <td>2</td>\n",
              "    </tr>\n",
              "    <tr>\n",
              "      <th>dog</th>\n",
              "      <td>8</td>\n",
              "      <td>3</td>\n",
              "      <td>28</td>\n",
              "      <td>81</td>\n",
              "      <td>27</td>\n",
              "      <td>802</td>\n",
              "      <td>19</td>\n",
              "      <td>27</td>\n",
              "      <td>3</td>\n",
              "      <td>2</td>\n",
              "    </tr>\n",
              "    <tr>\n",
              "      <th>frog</th>\n",
              "      <td>4</td>\n",
              "      <td>2</td>\n",
              "      <td>20</td>\n",
              "      <td>25</td>\n",
              "      <td>17</td>\n",
              "      <td>12</td>\n",
              "      <td>909</td>\n",
              "      <td>5</td>\n",
              "      <td>4</td>\n",
              "      <td>2</td>\n",
              "    </tr>\n",
              "    <tr>\n",
              "      <th>horse</th>\n",
              "      <td>7</td>\n",
              "      <td>0</td>\n",
              "      <td>9</td>\n",
              "      <td>18</td>\n",
              "      <td>29</td>\n",
              "      <td>24</td>\n",
              "      <td>5</td>\n",
              "      <td>904</td>\n",
              "      <td>1</td>\n",
              "      <td>3</td>\n",
              "    </tr>\n",
              "    <tr>\n",
              "      <th>ship</th>\n",
              "      <td>43</td>\n",
              "      <td>16</td>\n",
              "      <td>4</td>\n",
              "      <td>7</td>\n",
              "      <td>0</td>\n",
              "      <td>5</td>\n",
              "      <td>2</td>\n",
              "      <td>2</td>\n",
              "      <td>910</td>\n",
              "      <td>11</td>\n",
              "    </tr>\n",
              "    <tr>\n",
              "      <th>truck</th>\n",
              "      <td>16</td>\n",
              "      <td>54</td>\n",
              "      <td>6</td>\n",
              "      <td>8</td>\n",
              "      <td>1</td>\n",
              "      <td>3</td>\n",
              "      <td>7</td>\n",
              "      <td>7</td>\n",
              "      <td>9</td>\n",
              "      <td>889</td>\n",
              "    </tr>\n",
              "  </tbody>\n",
              "</table>\n",
              "</div>\n",
              "      <button class=\"colab-df-convert\" onclick=\"convertToInteractive('df-ff84a101-0994-4d1b-9551-71a4399d2f2d')\"\n",
              "              title=\"Convert this dataframe to an interactive table.\"\n",
              "              style=\"display:none;\">\n",
              "        \n",
              "  <svg xmlns=\"http://www.w3.org/2000/svg\" height=\"24px\"viewBox=\"0 0 24 24\"\n",
              "       width=\"24px\">\n",
              "    <path d=\"M0 0h24v24H0V0z\" fill=\"none\"/>\n",
              "    <path d=\"M18.56 5.44l.94 2.06.94-2.06 2.06-.94-2.06-.94-.94-2.06-.94 2.06-2.06.94zm-11 1L8.5 8.5l.94-2.06 2.06-.94-2.06-.94L8.5 2.5l-.94 2.06-2.06.94zm10 10l.94 2.06.94-2.06 2.06-.94-2.06-.94-.94-2.06-.94 2.06-2.06.94z\"/><path d=\"M17.41 7.96l-1.37-1.37c-.4-.4-.92-.59-1.43-.59-.52 0-1.04.2-1.43.59L10.3 9.45l-7.72 7.72c-.78.78-.78 2.05 0 2.83L4 21.41c.39.39.9.59 1.41.59.51 0 1.02-.2 1.41-.59l7.78-7.78 2.81-2.81c.8-.78.8-2.07 0-2.86zM5.41 20L4 18.59l7.72-7.72 1.47 1.35L5.41 20z\"/>\n",
              "  </svg>\n",
              "      </button>\n",
              "      \n",
              "  <style>\n",
              "    .colab-df-container {\n",
              "      display:flex;\n",
              "      flex-wrap:wrap;\n",
              "      gap: 12px;\n",
              "    }\n",
              "\n",
              "    .colab-df-convert {\n",
              "      background-color: #E8F0FE;\n",
              "      border: none;\n",
              "      border-radius: 50%;\n",
              "      cursor: pointer;\n",
              "      display: none;\n",
              "      fill: #1967D2;\n",
              "      height: 32px;\n",
              "      padding: 0 0 0 0;\n",
              "      width: 32px;\n",
              "    }\n",
              "\n",
              "    .colab-df-convert:hover {\n",
              "      background-color: #E2EBFA;\n",
              "      box-shadow: 0px 1px 2px rgba(60, 64, 67, 0.3), 0px 1px 3px 1px rgba(60, 64, 67, 0.15);\n",
              "      fill: #174EA6;\n",
              "    }\n",
              "\n",
              "    [theme=dark] .colab-df-convert {\n",
              "      background-color: #3B4455;\n",
              "      fill: #D2E3FC;\n",
              "    }\n",
              "\n",
              "    [theme=dark] .colab-df-convert:hover {\n",
              "      background-color: #434B5C;\n",
              "      box-shadow: 0px 1px 3px 1px rgba(0, 0, 0, 0.15);\n",
              "      filter: drop-shadow(0px 1px 2px rgba(0, 0, 0, 0.3));\n",
              "      fill: #FFFFFF;\n",
              "    }\n",
              "  </style>\n",
              "\n",
              "      <script>\n",
              "        const buttonEl =\n",
              "          document.querySelector('#df-ff84a101-0994-4d1b-9551-71a4399d2f2d button.colab-df-convert');\n",
              "        buttonEl.style.display =\n",
              "          google.colab.kernel.accessAllowed ? 'block' : 'none';\n",
              "\n",
              "        async function convertToInteractive(key) {\n",
              "          const element = document.querySelector('#df-ff84a101-0994-4d1b-9551-71a4399d2f2d');\n",
              "          const dataTable =\n",
              "            await google.colab.kernel.invokeFunction('convertToInteractive',\n",
              "                                                     [key], {});\n",
              "          if (!dataTable) return;\n",
              "\n",
              "          const docLinkHtml = 'Like what you see? Visit the ' +\n",
              "            '<a target=\"_blank\" href=https://colab.research.google.com/notebooks/data_table.ipynb>data table notebook</a>'\n",
              "            + ' to learn more about interactive tables.';\n",
              "          element.innerHTML = '';\n",
              "          dataTable['output_type'] = 'display_data';\n",
              "          await google.colab.output.renderOutput(dataTable, element);\n",
              "          const docLink = document.createElement('div');\n",
              "          docLink.innerHTML = docLinkHtml;\n",
              "          element.appendChild(docLink);\n",
              "        }\n",
              "      </script>\n",
              "    </div>\n",
              "  </div>\n",
              "  "
            ]
          },
          "metadata": {},
          "execution_count": 17
        }
      ],
      "source": [
        "dataframe"
      ]
    },
    {
      "cell_type": "code",
      "execution_count": 18,
      "metadata": {
        "colab": {
          "base_uri": "https://localhost:8080/",
          "height": 626
        },
        "id": "Hyd5Mk6k-hjh",
        "outputId": "1400751a-56d8-4c46-fe87-a2ad81bab22f"
      },
      "outputs": [
        {
          "output_type": "display_data",
          "data": {
            "text/plain": [
              "<Figure size 800x600 with 1 Axes>"
            ],
            "image/png": "[encoded data removed]"
          },
          "metadata": {}
        }
      ],
      "source": [
        "import seaborn as sns\n",
        "\n",
        "plt.figure(figsize=(8, 6))\n",
        "\n",
        "sns.heatmap(dataframe, annot=True, cbar=None,cmap=\"YlGnBu\",fmt=\"d\") # Create heatmap\n",
        "\n",
        "plt.title(\"Confusion Matrix\"), plt.tight_layout()\n",
        "\n",
        "plt.ylabel(\"True Class\"), \n",
        "plt.xlabel(\"Predicted Class\")\n",
        "plt.show()"
      ]
    }
  ],
  "metadata": {
    "accelerator": "GPU",
    "colab": {
      "gpuType": "T4",
      "provenance": []
    },
    "kernelspec": {
      "display_name": "Python 3 (ipykernel)",
      "language": "python",
      "name": "python3"
    },
    "language_info": {
      "codemirror_mode": {
        "name": "ipython",
        "version": 3
      },
      "file_extension": ".py",
      "mimetype": "text/x-python",
      "name": "python",
      "nbconvert_exporter": "python",
      "pygments_lexer": "ipython3",
      "version": "3.9.13"
    }
  },
  "nbformat": 4,
  "nbformat_minor": 0
}