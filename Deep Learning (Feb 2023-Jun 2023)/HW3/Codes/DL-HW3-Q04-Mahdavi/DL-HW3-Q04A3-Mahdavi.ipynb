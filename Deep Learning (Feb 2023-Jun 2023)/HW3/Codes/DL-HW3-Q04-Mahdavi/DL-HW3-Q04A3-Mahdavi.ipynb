{
  "cells": [
    {
      "cell_type": "markdown",
      "metadata": {
        "id": "28dt8lFs-wu_"
      },
      "source": [
        "# The Deep Learning Homework 3 - Question No. 04 Part A-3\n",
        "Bahar Mahdavi - SN: 40152521337"
      ]
    },
    {
      "cell_type": "markdown",
      "metadata": {
        "id": "kYHEEVKYMvqi"
      },
      "source": [
        "## Load and normalize CIFAR10 and data Augmentation"
      ]
    },
    {
      "cell_type": "code",
      "execution_count": 1,
      "metadata": {
        "colab": {
          "base_uri": "https://localhost:8080/",
          "height": 104
        },
        "id": "CVybIc-TJLt4",
        "outputId": "8c3edc61-a885-4134-9350-b49461402247"
      },
      "outputs": [
        {
          "output_type": "stream",
          "name": "stdout",
          "text": [
            "Downloading https://www.cs.toronto.edu/~kriz/cifar-10-python.tar.gz to ./data/cifar-10-python.tar.gz\n"
          ]
        },
        {
          "output_type": "stream",
          "name": "stderr",
          "text": [
            "100%|██████████| 170498071/170498071 [00:01<00:00, 105418750.05it/s]\n"
          ]
        },
        {
          "output_type": "stream",
          "name": "stdout",
          "text": [
            "Extracting ./data/cifar-10-python.tar.gz to ./data\n",
            "Files already downloaded and verified\n"
          ]
        },
        {
          "output_type": "execute_result",
          "data": {
            "text/plain": [
              "'i=0\\nfor image in enumerate(train_set):\\n  i+=1\\nprint(i)'"
            ],
            "application/vnd.google.colaboratory.intrinsic+json": {
              "type": "string"
            }
          },
          "metadata": {},
          "execution_count": 1
        }
      ],
      "source": [
        "import torch\n",
        "import torchvision\n",
        "import torchvision.transforms as transforms\n",
        "\n",
        "aug = False \n",
        "\n",
        "if aug == False:\n",
        "  transform = transforms.Compose([transforms.ToTensor(), transforms.Normalize((0.5,0.5,0.5), (0.5,0.5,0.5))]) # The output of torchvision datasets are PILImage images of range [0, 1]. We transform them to Tensors of normalized range [-1, 1]\n",
        "\n",
        "  trainset = torchvision.datasets.CIFAR10(root='./data', train=True, download=True, transform=transform)\n",
        "  testset = torchvision.datasets.CIFAR10(root='./data', train=False, download=True, transform=transform)\n",
        "\n",
        "  trainloader = torch.utils.data.DataLoader(trainset, batch_size=32, shuffle=True, num_workers=2, pin_memory=True)\n",
        "  testloader = torch.utils.data.DataLoader(testset, batch_size=32, shuffle=False, num_workers=2, pin_memory=True)\n",
        "\n",
        "else: \n",
        "  transform = transforms.Compose([transforms.ToTensor(), transforms.Normalize((0.5,0.5,0.5), (0.5,0.5,0.5))])\n",
        "  transAug1 = transforms.Compose([transforms.RandomRotation(90), transforms.ToTensor(), transforms.Normalize((0.5,0.5,0.5), (0.5,0.5,0.5))])\n",
        "  transAug2 = transforms.Compose([transforms.RandomResizedCrop(size=(32, 32),\n",
        "                                         scale=(0.1, 1),\n",
        "                                         ratio=(0.5, 2)), transforms.ToTensor(), transforms.Normalize((0.5,0.5,0.5), (0.5,0.5,0.5))])\n",
        "  transAug3 = transforms.Compose([transforms.RandomHorizontalFlip(), transforms.ToTensor(), transforms.Normalize((0.5,0.5,0.5), (0.5,0.5,0.5))])\n",
        "\n",
        "  trainset = torchvision.datasets.CIFAR10(root='./data', train=True, download=True, transform=transform)\n",
        "  testset = torchvision.datasets.CIFAR10(root='./data', train=False, download=True, transform=transform)\n",
        "  trainset += torchvision.datasets.CIFAR10(root='./data', train=True, download=True, transform=transAug1)\n",
        "  trainset += torchvision.datasets.CIFAR10(root='./data', train=True, download=True, transform=transAug2)\n",
        "  trainset += torchvision.datasets.CIFAR10(root='./data', train=True, download=True, transform=transAug3)\n",
        "\n",
        "\n",
        "  trainloader = torch.utils.data.DataLoader(train_set, batch_size=32, shuffle=True, num_workers=2, pin_memory=True)\n",
        "  testloader = torch.utils.data.DataLoader(test_set, batch_size=32, shuffle=False, num_workers=2, pin_memory=True)\n",
        "\n",
        "#imagefolder\n",
        "'''i=0\n",
        "for image in enumerate(train_set):\n",
        "  i+=1\n",
        "print(i)'''"
      ]
    },
    {
      "cell_type": "code",
      "source": [
        "classes = ('airplane', 'automobile', 'bird', 'cat', 'deer', 'dog', 'frog', 'horse', 'ship', 'truck')"
      ],
      "metadata": {
        "id": "_sqvRBgooXBl"
      },
      "execution_count": 2,
      "outputs": []
    },
    {
      "cell_type": "markdown",
      "metadata": {
        "id": "I1ml24liPSci"
      },
      "source": [
        "## Define a Convolutional Neural Network"
      ]
    },
    {
      "cell_type": "code",
      "execution_count": 3,
      "metadata": {
        "id": "OajCWlcj_msS"
      },
      "outputs": [],
      "source": [
        "import torch.nn as nn\n",
        "import torch.nn.functional as F\n",
        "\n",
        "model = nn.Sequential(\n",
        "            nn.Conv2d(3, 32, kernel_size=3, padding=1),\n",
        "            nn.ReLU(),\n",
        "            nn.Conv2d(32, 64, kernel_size=3, stride=1, padding=1),\n",
        "            nn.ReLU(),\n",
        "            nn.MaxPool2d(kernel_size=2, stride=2), # output: 64 x 16 x 16\n",
        "            nn.BatchNorm2d(64), \n",
        "\n",
        "            nn.Conv2d(64, 128, kernel_size=3, stride=1, padding=1),\n",
        "            nn.ReLU(),\n",
        "            nn.Conv2d(128, 128, kernel_size=3, stride=1, padding=1),\n",
        "            nn.ReLU(),\n",
        "            nn.MaxPool2d(kernel_size=2, stride=2), # output: 128 x 8 x 8\n",
        "            nn.BatchNorm2d(128), \n",
        "\n",
        "            nn.Conv2d(128, 256, kernel_size=3, stride=1, padding=1),\n",
        "            nn.ReLU(),\n",
        "            nn.Conv2d(256, 256, kernel_size=3, stride=1, padding=1),\n",
        "            nn.ReLU(),\n",
        "            nn.MaxPool2d(kernel_size=2, stride=2), # output: 256 x 4 x 4\n",
        "            nn.BatchNorm2d(256),\n",
        "\n",
        "            nn.Flatten(), \n",
        "            nn.Linear(256*4*4, 1024),\n",
        "            nn.ReLU(),\n",
        "            nn.Linear(1024, 512),\n",
        "            nn.ReLU(),\n",
        "            nn.Linear(512, 10))"
      ]
    },
    {
      "cell_type": "markdown",
      "metadata": {
        "id": "_KEyn_GzdG-2"
      },
      "source": [
        "## Define a Loss function and optimizer"
      ]
    },
    {
      "cell_type": "code",
      "execution_count": 4,
      "metadata": {
        "colab": {
          "base_uri": "https://localhost:8080/"
        },
        "id": "jtutYPW3iUjH",
        "outputId": "8eb6fbdb-a83e-47ea-e510-e807324d6342"
      },
      "outputs": [
        {
          "output_type": "stream",
          "name": "stdout",
          "text": [
            "cuda:0\n"
          ]
        }
      ],
      "source": [
        "device = torch.device('cuda:0' if torch.cuda.is_available() else 'cpu')\n",
        "model.to(device)\n",
        "\n",
        "print(device) # Assuming that we are on a CUDA machine, this should print a CUDA device:"
      ]
    },
    {
      "cell_type": "code",
      "execution_count": 5,
      "metadata": {
        "id": "1mV7HdnUdwmZ"
      },
      "outputs": [],
      "source": [
        "import torch.optim as optim\n",
        "\n",
        "criterion = nn.CrossEntropyLoss()\n",
        "optimizer = optim.SGD(model.parameters(), lr=0.001, momentum=0.9)"
      ]
    },
    {
      "cell_type": "markdown",
      "metadata": {
        "id": "kkXsw47hkOlj"
      },
      "source": [
        "## Summarize the architecture of the model,"
      ]
    },
    {
      "cell_type": "code",
      "execution_count": 6,
      "metadata": {
        "colab": {
          "base_uri": "https://localhost:8080/"
        },
        "id": "VkS3RDighFNM",
        "outputId": "fccaa3dc-4752-4d7e-cc6e-040b2d7e628c"
      },
      "outputs": [
        {
          "output_type": "stream",
          "name": "stdout",
          "text": [
            "----------------------------------------------------------------\n",
            "        Layer (type)               Output Shape         Param #\n",
            "================================================================\n",
            "            Conv2d-1           [-1, 32, 32, 32]             896\n",
            "              ReLU-2           [-1, 32, 32, 32]               0\n",
            "            Conv2d-3           [-1, 64, 32, 32]          18,496\n",
            "              ReLU-4           [-1, 64, 32, 32]               0\n",
            "         MaxPool2d-5           [-1, 64, 16, 16]               0\n",
            "       BatchNorm2d-6           [-1, 64, 16, 16]             128\n",
            "            Conv2d-7          [-1, 128, 16, 16]          73,856\n",
            "              ReLU-8          [-1, 128, 16, 16]               0\n",
            "            Conv2d-9          [-1, 128, 16, 16]         147,584\n",
            "             ReLU-10          [-1, 128, 16, 16]               0\n",
            "        MaxPool2d-11            [-1, 128, 8, 8]               0\n",
            "      BatchNorm2d-12            [-1, 128, 8, 8]             256\n",
            "           Conv2d-13            [-1, 256, 8, 8]         295,168\n",
            "             ReLU-14            [-1, 256, 8, 8]               0\n",
            "           Conv2d-15            [-1, 256, 8, 8]         590,080\n",
            "             ReLU-16            [-1, 256, 8, 8]               0\n",
            "        MaxPool2d-17            [-1, 256, 4, 4]               0\n",
            "      BatchNorm2d-18            [-1, 256, 4, 4]             512\n",
            "          Flatten-19                 [-1, 4096]               0\n",
            "           Linear-20                 [-1, 1024]       4,195,328\n",
            "             ReLU-21                 [-1, 1024]               0\n",
            "           Linear-22                  [-1, 512]         524,800\n",
            "             ReLU-23                  [-1, 512]               0\n",
            "           Linear-24                   [-1, 10]           5,130\n",
            "================================================================\n",
            "Total params: 5,852,234\n",
            "Trainable params: 5,852,234\n",
            "Non-trainable params: 0\n",
            "----------------------------------------------------------------\n",
            "Input size (MB): 0.01\n",
            "Forward/backward pass size (MB): 3.49\n",
            "Params size (MB): 22.32\n",
            "Estimated Total Size (MB): 25.83\n",
            "----------------------------------------------------------------\n"
          ]
        }
      ],
      "source": [
        "from torchsummary import summary\n",
        "\n",
        "summary(model,(3,32,32))"
      ]
    },
    {
      "cell_type": "code",
      "execution_count": 7,
      "metadata": {
        "id": "XApsr2kohw-H"
      },
      "outputs": [],
      "source": [
        "def count_parameters(model):\n",
        "  return sum(p.numel() for p in model.parameters() if p.requires_grad)"
      ]
    },
    {
      "cell_type": "code",
      "execution_count": 8,
      "metadata": {
        "colab": {
          "base_uri": "https://localhost:8080/"
        },
        "id": "CaHVP43Jhwqj",
        "outputId": "9bb4f22c-529a-4715-f3ca-42ac3b6d5058"
      },
      "outputs": [
        {
          "output_type": "execute_result",
          "data": {
            "text/plain": [
              "5852234"
            ]
          },
          "metadata": {},
          "execution_count": 8
        }
      ],
      "source": [
        "count_parameters(model)"
      ]
    },
    {
      "cell_type": "markdown",
      "source": [
        "## Train the network"
      ],
      "metadata": {
        "id": "EHrMMdOealqu"
      }
    },
    {
      "cell_type": "code",
      "execution_count": 9,
      "metadata": {
        "id": "1Ss8N7KicS6n"
      },
      "outputs": [],
      "source": [
        "from tqdm import tqdm\n",
        "\n",
        "train_losses=[]\n",
        "train_accu=[]\n",
        "\n",
        "def train(epoch):\n",
        "  print('\\nEpoch : %d'%epoch)\n",
        "  \n",
        "  model.train()\n",
        "\n",
        "  running_loss = 0\n",
        "  correct = 0\n",
        "  total = 0\n",
        "\n",
        "  for data in tqdm(trainloader): \n",
        "    \n",
        "    inputs = data[0].to(device, non_blocking=True)\n",
        "    labels = data[1].to(device, non_blocking=True)\n",
        "    \n",
        "    outputs = model(inputs) # forward\n",
        "    loss = criterion(outputs, labels)\n",
        "    optimizer.zero_grad() # zero the parameter gradients\n",
        "    loss.backward() # backward\n",
        "    optimizer.step() # optimize\n",
        "\n",
        "    running_loss += loss.item() # print statistics\n",
        "    \n",
        "    _, predicted = outputs.max(1)\n",
        "    total += labels.size(0)\n",
        "    correct += predicted.eq(labels).sum().item()\n",
        "      \n",
        "  train_loss=running_loss/len(trainloader)\n",
        "  accu = 100.*correct/total\n",
        "  \n",
        "  train_accu.append(accu)\n",
        "  train_losses.append(train_loss)\n",
        "  print('Train Loss: %.3f | Accuracy: %.3f'%(train_loss,accu))"
      ]
    },
    {
      "cell_type": "markdown",
      "metadata": {
        "id": "JrMuO69ECaZk"
      },
      "source": [
        "## Test the network on the test data"
      ]
    },
    {
      "cell_type": "code",
      "execution_count": 10,
      "metadata": {
        "id": "55jTRDG8kjIy"
      },
      "outputs": [],
      "source": [
        "eval_losses=[]\n",
        "eval_accu=[]\n",
        "\n",
        "def test(epoch):\n",
        "  model.eval()\n",
        "\n",
        "  running_loss = 0\n",
        "  correct = 0\n",
        "  total = 0\n",
        "\n",
        "  with torch.no_grad():\n",
        "    for data in tqdm(testloader):\n",
        "      images,labels = data[0].to(device, non_blocking=True),data[1].to(device, non_blocking=True)\n",
        "      \n",
        "      outputs = model(images)\n",
        "\n",
        "      loss = criterion(outputs, labels)\n",
        "      running_loss += loss.item()\n",
        "      \n",
        "      _, predicted = outputs.max(1)\n",
        "      total += labels.size(0)\n",
        "      correct += predicted.eq(labels).sum().item()\n",
        "  \n",
        "  test_loss = running_loss/len(testloader)\n",
        "  accu = 100.*correct/total\n",
        "\n",
        "  eval_losses.append(test_loss)\n",
        "  eval_accu.append(accu)\n",
        "\n",
        "  print('Test Loss: %.3f | Accuracy: %.3f'%(test_loss,accu)) "
      ]
    },
    {
      "cell_type": "code",
      "execution_count": 11,
      "metadata": {
        "colab": {
          "base_uri": "https://localhost:8080/"
        },
        "id": "W3HGDGr2USWH",
        "outputId": "1787f0ad-8512-4dd3-caf6-e35a16f47d21"
      },
      "outputs": [
        {
          "output_type": "stream",
          "name": "stdout",
          "text": [
            "\n",
            "Epoch : 1\n"
          ]
        },
        {
          "output_type": "stream",
          "name": "stderr",
          "text": [
            "100%|██████████| 1563/1563 [00:21<00:00, 72.44it/s]\n"
          ]
        },
        {
          "output_type": "stream",
          "name": "stdout",
          "text": [
            "Train Loss: 1.220 | Accuracy: 56.362\n"
          ]
        },
        {
          "output_type": "stream",
          "name": "stderr",
          "text": [
            "100%|██████████| 313/313 [00:04<00:00, 71.15it/s]\n"
          ]
        },
        {
          "output_type": "stream",
          "name": "stdout",
          "text": [
            "Test Loss: 0.868 | Accuracy: 69.130\n",
            "\n",
            "Epoch : 2\n"
          ]
        },
        {
          "output_type": "stream",
          "name": "stderr",
          "text": [
            "100%|██████████| 1563/1563 [00:21<00:00, 73.21it/s]\n"
          ]
        },
        {
          "output_type": "stream",
          "name": "stdout",
          "text": [
            "Train Loss: 0.706 | Accuracy: 75.152\n"
          ]
        },
        {
          "output_type": "stream",
          "name": "stderr",
          "text": [
            "100%|██████████| 313/313 [00:04<00:00, 69.80it/s]\n"
          ]
        },
        {
          "output_type": "stream",
          "name": "stdout",
          "text": [
            "Test Loss: 0.660 | Accuracy: 77.000\n",
            "\n",
            "Epoch : 3\n"
          ]
        },
        {
          "output_type": "stream",
          "name": "stderr",
          "text": [
            "100%|██████████| 1563/1563 [00:20<00:00, 74.66it/s]\n"
          ]
        },
        {
          "output_type": "stream",
          "name": "stdout",
          "text": [
            "Train Loss: 0.509 | Accuracy: 82.174\n"
          ]
        },
        {
          "output_type": "stream",
          "name": "stderr",
          "text": [
            "100%|██████████| 313/313 [00:04<00:00, 71.57it/s]\n"
          ]
        },
        {
          "output_type": "stream",
          "name": "stdout",
          "text": [
            "Test Loss: 0.598 | Accuracy: 79.270\n",
            "\n",
            "Epoch : 4\n"
          ]
        },
        {
          "output_type": "stream",
          "name": "stderr",
          "text": [
            "100%|██████████| 1563/1563 [00:21<00:00, 73.13it/s]\n"
          ]
        },
        {
          "output_type": "stream",
          "name": "stdout",
          "text": [
            "Train Loss: 0.364 | Accuracy: 87.506\n"
          ]
        },
        {
          "output_type": "stream",
          "name": "stderr",
          "text": [
            "100%|██████████| 313/313 [00:05<00:00, 59.46it/s]\n"
          ]
        },
        {
          "output_type": "stream",
          "name": "stdout",
          "text": [
            "Test Loss: 0.570 | Accuracy: 80.850\n",
            "\n",
            "Epoch : 5\n"
          ]
        },
        {
          "output_type": "stream",
          "name": "stderr",
          "text": [
            "100%|██████████| 1563/1563 [00:21<00:00, 73.57it/s]\n"
          ]
        },
        {
          "output_type": "stream",
          "name": "stdout",
          "text": [
            "Train Loss: 0.247 | Accuracy: 91.600\n"
          ]
        },
        {
          "output_type": "stream",
          "name": "stderr",
          "text": [
            "100%|██████████| 313/313 [00:04<00:00, 71.39it/s]\n"
          ]
        },
        {
          "output_type": "stream",
          "name": "stdout",
          "text": [
            "Test Loss: 0.605 | Accuracy: 80.070\n",
            "\n",
            "Epoch : 6\n"
          ]
        },
        {
          "output_type": "stream",
          "name": "stderr",
          "text": [
            "100%|██████████| 1563/1563 [00:21<00:00, 73.27it/s]\n"
          ]
        },
        {
          "output_type": "stream",
          "name": "stdout",
          "text": [
            "Train Loss: 0.160 | Accuracy: 94.632\n"
          ]
        },
        {
          "output_type": "stream",
          "name": "stderr",
          "text": [
            "100%|██████████| 313/313 [00:04<00:00, 70.11it/s]\n"
          ]
        },
        {
          "output_type": "stream",
          "name": "stdout",
          "text": [
            "Test Loss: 0.660 | Accuracy: 80.560\n",
            "\n",
            "Epoch : 7\n"
          ]
        },
        {
          "output_type": "stream",
          "name": "stderr",
          "text": [
            "100%|██████████| 1563/1563 [00:21<00:00, 73.15it/s]\n"
          ]
        },
        {
          "output_type": "stream",
          "name": "stdout",
          "text": [
            "Train Loss: 0.102 | Accuracy: 96.660\n"
          ]
        },
        {
          "output_type": "stream",
          "name": "stderr",
          "text": [
            "100%|██████████| 313/313 [00:04<00:00, 71.17it/s]\n"
          ]
        },
        {
          "output_type": "stream",
          "name": "stdout",
          "text": [
            "Test Loss: 0.681 | Accuracy: 81.520\n",
            "\n",
            "Epoch : 8\n"
          ]
        },
        {
          "output_type": "stream",
          "name": "stderr",
          "text": [
            "100%|██████████| 1563/1563 [00:21<00:00, 73.57it/s]\n"
          ]
        },
        {
          "output_type": "stream",
          "name": "stdout",
          "text": [
            "Train Loss: 0.072 | Accuracy: 97.616\n"
          ]
        },
        {
          "output_type": "stream",
          "name": "stderr",
          "text": [
            "100%|██████████| 313/313 [00:04<00:00, 71.68it/s]\n"
          ]
        },
        {
          "output_type": "stream",
          "name": "stdout",
          "text": [
            "Test Loss: 0.750 | Accuracy: 80.940\n",
            "\n",
            "Epoch : 9\n"
          ]
        },
        {
          "output_type": "stream",
          "name": "stderr",
          "text": [
            "100%|██████████| 1563/1563 [00:21<00:00, 73.65it/s]\n"
          ]
        },
        {
          "output_type": "stream",
          "name": "stdout",
          "text": [
            "Train Loss: 0.056 | Accuracy: 98.106\n"
          ]
        },
        {
          "output_type": "stream",
          "name": "stderr",
          "text": [
            "100%|██████████| 313/313 [00:04<00:00, 72.09it/s]\n"
          ]
        },
        {
          "output_type": "stream",
          "name": "stdout",
          "text": [
            "Test Loss: 0.782 | Accuracy: 81.080\n",
            "\n",
            "Epoch : 10\n"
          ]
        },
        {
          "output_type": "stream",
          "name": "stderr",
          "text": [
            "100%|██████████| 1563/1563 [00:20<00:00, 74.43it/s]\n"
          ]
        },
        {
          "output_type": "stream",
          "name": "stdout",
          "text": [
            "Train Loss: 0.036 | Accuracy: 98.872\n"
          ]
        },
        {
          "output_type": "stream",
          "name": "stderr",
          "text": [
            "100%|██████████| 313/313 [00:04<00:00, 72.22it/s]\n"
          ]
        },
        {
          "output_type": "stream",
          "name": "stdout",
          "text": [
            "Test Loss: 0.820 | Accuracy: 81.590\n",
            "\n",
            "Epoch : 11\n"
          ]
        },
        {
          "output_type": "stream",
          "name": "stderr",
          "text": [
            "100%|██████████| 1563/1563 [00:21<00:00, 73.87it/s]\n"
          ]
        },
        {
          "output_type": "stream",
          "name": "stdout",
          "text": [
            "Train Loss: 0.021 | Accuracy: 99.352\n"
          ]
        },
        {
          "output_type": "stream",
          "name": "stderr",
          "text": [
            "100%|██████████| 313/313 [00:04<00:00, 69.29it/s]\n"
          ]
        },
        {
          "output_type": "stream",
          "name": "stdout",
          "text": [
            "Test Loss: 0.785 | Accuracy: 82.590\n",
            "\n",
            "Epoch : 12\n"
          ]
        },
        {
          "output_type": "stream",
          "name": "stderr",
          "text": [
            "100%|██████████| 1563/1563 [00:21<00:00, 73.69it/s]\n"
          ]
        },
        {
          "output_type": "stream",
          "name": "stdout",
          "text": [
            "Train Loss: 0.009 | Accuracy: 99.776\n"
          ]
        },
        {
          "output_type": "stream",
          "name": "stderr",
          "text": [
            "100%|██████████| 313/313 [00:04<00:00, 72.46it/s]\n"
          ]
        },
        {
          "output_type": "stream",
          "name": "stdout",
          "text": [
            "Test Loss: 0.819 | Accuracy: 82.670\n",
            "\n",
            "Epoch : 13\n"
          ]
        },
        {
          "output_type": "stream",
          "name": "stderr",
          "text": [
            "100%|██████████| 1563/1563 [00:21<00:00, 73.22it/s]\n"
          ]
        },
        {
          "output_type": "stream",
          "name": "stdout",
          "text": [
            "Train Loss: 0.006 | Accuracy: 99.856\n"
          ]
        },
        {
          "output_type": "stream",
          "name": "stderr",
          "text": [
            "100%|██████████| 313/313 [00:04<00:00, 72.04it/s]\n"
          ]
        },
        {
          "output_type": "stream",
          "name": "stdout",
          "text": [
            "Test Loss: 0.814 | Accuracy: 82.870\n",
            "\n",
            "Epoch : 14\n"
          ]
        },
        {
          "output_type": "stream",
          "name": "stderr",
          "text": [
            "100%|██████████| 1563/1563 [00:21<00:00, 72.84it/s]\n"
          ]
        },
        {
          "output_type": "stream",
          "name": "stdout",
          "text": [
            "Train Loss: 0.002 | Accuracy: 99.978\n"
          ]
        },
        {
          "output_type": "stream",
          "name": "stderr",
          "text": [
            "100%|██████████| 313/313 [00:04<00:00, 73.31it/s]\n"
          ]
        },
        {
          "output_type": "stream",
          "name": "stdout",
          "text": [
            "Test Loss: 0.820 | Accuracy: 83.810\n",
            "\n",
            "Epoch : 15\n"
          ]
        },
        {
          "output_type": "stream",
          "name": "stderr",
          "text": [
            "100%|██████████| 1563/1563 [00:22<00:00, 69.15it/s]\n"
          ]
        },
        {
          "output_type": "stream",
          "name": "stdout",
          "text": [
            "Train Loss: 0.001 | Accuracy: 99.998\n"
          ]
        },
        {
          "output_type": "stream",
          "name": "stderr",
          "text": [
            "100%|██████████| 313/313 [00:04<00:00, 77.66it/s]\n"
          ]
        },
        {
          "output_type": "stream",
          "name": "stdout",
          "text": [
            "Test Loss: 0.807 | Accuracy: 83.910\n",
            "\n",
            "Epoch : 16\n"
          ]
        },
        {
          "output_type": "stream",
          "name": "stderr",
          "text": [
            "100%|██████████| 1563/1563 [00:21<00:00, 71.64it/s]\n"
          ]
        },
        {
          "output_type": "stream",
          "name": "stdout",
          "text": [
            "Train Loss: 0.000 | Accuracy: 99.998\n"
          ]
        },
        {
          "output_type": "stream",
          "name": "stderr",
          "text": [
            "100%|██████████| 313/313 [00:03<00:00, 79.63it/s] \n"
          ]
        },
        {
          "output_type": "stream",
          "name": "stdout",
          "text": [
            "Test Loss: 0.808 | Accuracy: 83.880\n",
            "\n",
            "Epoch : 17\n"
          ]
        },
        {
          "output_type": "stream",
          "name": "stderr",
          "text": [
            "100%|██████████| 1563/1563 [00:21<00:00, 71.63it/s]\n"
          ]
        },
        {
          "output_type": "stream",
          "name": "stdout",
          "text": [
            "Train Loss: 0.000 | Accuracy: 100.000\n"
          ]
        },
        {
          "output_type": "stream",
          "name": "stderr",
          "text": [
            "100%|██████████| 313/313 [00:03<00:00, 82.18it/s]\n"
          ]
        },
        {
          "output_type": "stream",
          "name": "stdout",
          "text": [
            "Test Loss: 0.814 | Accuracy: 83.950\n",
            "\n",
            "Epoch : 18\n"
          ]
        },
        {
          "output_type": "stream",
          "name": "stderr",
          "text": [
            "100%|██████████| 1563/1563 [00:22<00:00, 70.66it/s]\n"
          ]
        },
        {
          "output_type": "stream",
          "name": "stdout",
          "text": [
            "Train Loss: 0.000 | Accuracy: 100.000\n"
          ]
        },
        {
          "output_type": "stream",
          "name": "stderr",
          "text": [
            "100%|██████████| 313/313 [00:03<00:00, 84.15it/s]\n"
          ]
        },
        {
          "output_type": "stream",
          "name": "stdout",
          "text": [
            "Test Loss: 0.817 | Accuracy: 83.910\n",
            "\n",
            "Epoch : 19\n"
          ]
        },
        {
          "output_type": "stream",
          "name": "stderr",
          "text": [
            "100%|██████████| 1563/1563 [00:22<00:00, 70.80it/s]\n"
          ]
        },
        {
          "output_type": "stream",
          "name": "stdout",
          "text": [
            "Train Loss: 0.000 | Accuracy: 100.000\n"
          ]
        },
        {
          "output_type": "stream",
          "name": "stderr",
          "text": [
            "100%|██████████| 313/313 [00:03<00:00, 91.30it/s]\n"
          ]
        },
        {
          "output_type": "stream",
          "name": "stdout",
          "text": [
            "Test Loss: 0.822 | Accuracy: 83.850\n",
            "\n",
            "Epoch : 20\n"
          ]
        },
        {
          "output_type": "stream",
          "name": "stderr",
          "text": [
            "100%|██████████| 1563/1563 [00:22<00:00, 70.71it/s]\n"
          ]
        },
        {
          "output_type": "stream",
          "name": "stdout",
          "text": [
            "Train Loss: 0.000 | Accuracy: 100.000\n"
          ]
        },
        {
          "output_type": "stream",
          "name": "stderr",
          "text": [
            "100%|██████████| 313/313 [00:04<00:00, 68.48it/s]\n"
          ]
        },
        {
          "output_type": "stream",
          "name": "stdout",
          "text": [
            "Test Loss: 0.832 | Accuracy: 83.890\n",
            "\n",
            "Epoch : 21\n"
          ]
        },
        {
          "output_type": "stream",
          "name": "stderr",
          "text": [
            "100%|██████████| 1563/1563 [00:21<00:00, 71.80it/s]\n"
          ]
        },
        {
          "output_type": "stream",
          "name": "stdout",
          "text": [
            "Train Loss: 0.000 | Accuracy: 100.000\n"
          ]
        },
        {
          "output_type": "stream",
          "name": "stderr",
          "text": [
            "100%|██████████| 313/313 [00:03<00:00, 83.25it/s]\n"
          ]
        },
        {
          "output_type": "stream",
          "name": "stdout",
          "text": [
            "Test Loss: 0.827 | Accuracy: 83.930\n",
            "\n",
            "Epoch : 22\n"
          ]
        },
        {
          "output_type": "stream",
          "name": "stderr",
          "text": [
            "100%|██████████| 1563/1563 [00:22<00:00, 69.59it/s]\n"
          ]
        },
        {
          "output_type": "stream",
          "name": "stdout",
          "text": [
            "Train Loss: 0.000 | Accuracy: 100.000\n"
          ]
        },
        {
          "output_type": "stream",
          "name": "stderr",
          "text": [
            "100%|██████████| 313/313 [00:03<00:00, 90.27it/s]\n"
          ]
        },
        {
          "output_type": "stream",
          "name": "stdout",
          "text": [
            "Test Loss: 0.835 | Accuracy: 84.050\n",
            "\n",
            "Epoch : 23\n"
          ]
        },
        {
          "output_type": "stream",
          "name": "stderr",
          "text": [
            "100%|██████████| 1563/1563 [00:22<00:00, 70.23it/s]\n"
          ]
        },
        {
          "output_type": "stream",
          "name": "stdout",
          "text": [
            "Train Loss: 0.000 | Accuracy: 100.000\n"
          ]
        },
        {
          "output_type": "stream",
          "name": "stderr",
          "text": [
            "100%|██████████| 313/313 [00:03<00:00, 90.63it/s]\n"
          ]
        },
        {
          "output_type": "stream",
          "name": "stdout",
          "text": [
            "Test Loss: 0.836 | Accuracy: 83.920\n",
            "\n",
            "Epoch : 24\n"
          ]
        },
        {
          "output_type": "stream",
          "name": "stderr",
          "text": [
            "100%|██████████| 1563/1563 [00:22<00:00, 70.09it/s]\n"
          ]
        },
        {
          "output_type": "stream",
          "name": "stdout",
          "text": [
            "Train Loss: 0.000 | Accuracy: 100.000\n"
          ]
        },
        {
          "output_type": "stream",
          "name": "stderr",
          "text": [
            "100%|██████████| 313/313 [00:03<00:00, 93.83it/s]\n"
          ]
        },
        {
          "output_type": "stream",
          "name": "stdout",
          "text": [
            "Test Loss: 0.843 | Accuracy: 83.860\n",
            "\n",
            "Epoch : 25\n"
          ]
        },
        {
          "output_type": "stream",
          "name": "stderr",
          "text": [
            "100%|██████████| 1563/1563 [00:22<00:00, 69.31it/s]\n"
          ]
        },
        {
          "output_type": "stream",
          "name": "stdout",
          "text": [
            "Train Loss: 0.000 | Accuracy: 100.000\n"
          ]
        },
        {
          "output_type": "stream",
          "name": "stderr",
          "text": [
            "100%|██████████| 313/313 [00:03<00:00, 90.97it/s]\n"
          ]
        },
        {
          "output_type": "stream",
          "name": "stdout",
          "text": [
            "Test Loss: 0.847 | Accuracy: 84.070\n",
            "\n",
            "Epoch : 26\n"
          ]
        },
        {
          "output_type": "stream",
          "name": "stderr",
          "text": [
            "100%|██████████| 1563/1563 [00:23<00:00, 66.75it/s]\n"
          ]
        },
        {
          "output_type": "stream",
          "name": "stdout",
          "text": [
            "Train Loss: 0.000 | Accuracy: 100.000\n"
          ]
        },
        {
          "output_type": "stream",
          "name": "stderr",
          "text": [
            "100%|██████████| 313/313 [00:03<00:00, 95.36it/s]\n"
          ]
        },
        {
          "output_type": "stream",
          "name": "stdout",
          "text": [
            "Test Loss: 0.846 | Accuracy: 83.990\n",
            "\n",
            "Epoch : 27\n"
          ]
        },
        {
          "output_type": "stream",
          "name": "stderr",
          "text": [
            "100%|██████████| 1563/1563 [00:22<00:00, 70.48it/s]\n"
          ]
        },
        {
          "output_type": "stream",
          "name": "stdout",
          "text": [
            "Train Loss: 0.000 | Accuracy: 100.000\n"
          ]
        },
        {
          "output_type": "stream",
          "name": "stderr",
          "text": [
            "100%|██████████| 313/313 [00:03<00:00, 95.81it/s]\n"
          ]
        },
        {
          "output_type": "stream",
          "name": "stdout",
          "text": [
            "Test Loss: 0.845 | Accuracy: 84.040\n",
            "\n",
            "Epoch : 28\n"
          ]
        },
        {
          "output_type": "stream",
          "name": "stderr",
          "text": [
            "100%|██████████| 1563/1563 [00:22<00:00, 70.09it/s]\n"
          ]
        },
        {
          "output_type": "stream",
          "name": "stdout",
          "text": [
            "Train Loss: 0.000 | Accuracy: 100.000\n"
          ]
        },
        {
          "output_type": "stream",
          "name": "stderr",
          "text": [
            "100%|██████████| 313/313 [00:03<00:00, 95.01it/s]\n"
          ]
        },
        {
          "output_type": "stream",
          "name": "stdout",
          "text": [
            "Test Loss: 0.852 | Accuracy: 83.890\n",
            "\n",
            "Epoch : 29\n"
          ]
        },
        {
          "output_type": "stream",
          "name": "stderr",
          "text": [
            "100%|██████████| 1563/1563 [00:22<00:00, 70.17it/s]\n"
          ]
        },
        {
          "output_type": "stream",
          "name": "stdout",
          "text": [
            "Train Loss: 0.000 | Accuracy: 100.000\n"
          ]
        },
        {
          "output_type": "stream",
          "name": "stderr",
          "text": [
            "100%|██████████| 313/313 [00:03<00:00, 94.15it/s]\n"
          ]
        },
        {
          "output_type": "stream",
          "name": "stdout",
          "text": [
            "Test Loss: 0.850 | Accuracy: 83.960\n",
            "\n",
            "Epoch : 30\n"
          ]
        },
        {
          "output_type": "stream",
          "name": "stderr",
          "text": [
            "100%|██████████| 1563/1563 [00:22<00:00, 70.60it/s]\n"
          ]
        },
        {
          "output_type": "stream",
          "name": "stdout",
          "text": [
            "Train Loss: 0.000 | Accuracy: 100.000\n"
          ]
        },
        {
          "output_type": "stream",
          "name": "stderr",
          "text": [
            "100%|██████████| 313/313 [00:03<00:00, 93.90it/s] \n"
          ]
        },
        {
          "output_type": "stream",
          "name": "stdout",
          "text": [
            "Test Loss: 0.855 | Accuracy: 84.080\n",
            "\n",
            "Epoch : 31\n"
          ]
        },
        {
          "output_type": "stream",
          "name": "stderr",
          "text": [
            "100%|██████████| 1563/1563 [00:23<00:00, 67.51it/s]\n"
          ]
        },
        {
          "output_type": "stream",
          "name": "stdout",
          "text": [
            "Train Loss: 0.000 | Accuracy: 100.000\n"
          ]
        },
        {
          "output_type": "stream",
          "name": "stderr",
          "text": [
            "100%|██████████| 313/313 [00:03<00:00, 95.76it/s]\n"
          ]
        },
        {
          "output_type": "stream",
          "name": "stdout",
          "text": [
            "Test Loss: 0.856 | Accuracy: 84.090\n",
            "\n",
            "Epoch : 32\n"
          ]
        },
        {
          "output_type": "stream",
          "name": "stderr",
          "text": [
            "100%|██████████| 1563/1563 [00:22<00:00, 70.23it/s]\n"
          ]
        },
        {
          "output_type": "stream",
          "name": "stdout",
          "text": [
            "Train Loss: 0.000 | Accuracy: 100.000\n"
          ]
        },
        {
          "output_type": "stream",
          "name": "stderr",
          "text": [
            "100%|██████████| 313/313 [00:03<00:00, 92.97it/s]\n"
          ]
        },
        {
          "output_type": "stream",
          "name": "stdout",
          "text": [
            "Test Loss: 0.859 | Accuracy: 83.990\n",
            "\n",
            "Epoch : 33\n"
          ]
        },
        {
          "output_type": "stream",
          "name": "stderr",
          "text": [
            "100%|██████████| 1563/1563 [00:22<00:00, 70.32it/s]\n"
          ]
        },
        {
          "output_type": "stream",
          "name": "stdout",
          "text": [
            "Train Loss: 0.000 | Accuracy: 100.000\n"
          ]
        },
        {
          "output_type": "stream",
          "name": "stderr",
          "text": [
            "100%|██████████| 313/313 [00:03<00:00, 95.22it/s]\n"
          ]
        },
        {
          "output_type": "stream",
          "name": "stdout",
          "text": [
            "Test Loss: 0.861 | Accuracy: 84.010\n",
            "\n",
            "Epoch : 34\n"
          ]
        },
        {
          "output_type": "stream",
          "name": "stderr",
          "text": [
            "100%|██████████| 1563/1563 [00:22<00:00, 70.30it/s]\n"
          ]
        },
        {
          "output_type": "stream",
          "name": "stdout",
          "text": [
            "Train Loss: 0.000 | Accuracy: 100.000\n"
          ]
        },
        {
          "output_type": "stream",
          "name": "stderr",
          "text": [
            "100%|██████████| 313/313 [00:03<00:00, 95.70it/s]\n"
          ]
        },
        {
          "output_type": "stream",
          "name": "stdout",
          "text": [
            "Test Loss: 0.868 | Accuracy: 84.010\n",
            "\n",
            "Epoch : 35\n"
          ]
        },
        {
          "output_type": "stream",
          "name": "stderr",
          "text": [
            "100%|██████████| 1563/1563 [00:22<00:00, 70.29it/s]\n"
          ]
        },
        {
          "output_type": "stream",
          "name": "stdout",
          "text": [
            "Train Loss: 0.000 | Accuracy: 100.000\n"
          ]
        },
        {
          "output_type": "stream",
          "name": "stderr",
          "text": [
            "100%|██████████| 313/313 [00:03<00:00, 96.34it/s]\n"
          ]
        },
        {
          "output_type": "stream",
          "name": "stdout",
          "text": [
            "Test Loss: 0.868 | Accuracy: 83.990\n",
            "\n",
            "Epoch : 36\n"
          ]
        },
        {
          "output_type": "stream",
          "name": "stderr",
          "text": [
            "100%|██████████| 1563/1563 [00:23<00:00, 67.07it/s]\n"
          ]
        },
        {
          "output_type": "stream",
          "name": "stdout",
          "text": [
            "Train Loss: 0.000 | Accuracy: 100.000\n"
          ]
        },
        {
          "output_type": "stream",
          "name": "stderr",
          "text": [
            "100%|██████████| 313/313 [00:03<00:00, 87.30it/s]\n"
          ]
        },
        {
          "output_type": "stream",
          "name": "stdout",
          "text": [
            "Test Loss: 0.864 | Accuracy: 84.060\n",
            "\n",
            "Epoch : 37\n"
          ]
        },
        {
          "output_type": "stream",
          "name": "stderr",
          "text": [
            "100%|██████████| 1563/1563 [00:22<00:00, 69.51it/s]\n"
          ]
        },
        {
          "output_type": "stream",
          "name": "stdout",
          "text": [
            "Train Loss: 0.000 | Accuracy: 100.000\n"
          ]
        },
        {
          "output_type": "stream",
          "name": "stderr",
          "text": [
            "100%|██████████| 313/313 [00:03<00:00, 94.50it/s]\n"
          ]
        },
        {
          "output_type": "stream",
          "name": "stdout",
          "text": [
            "Test Loss: 0.867 | Accuracy: 84.080\n",
            "\n",
            "Epoch : 38\n"
          ]
        },
        {
          "output_type": "stream",
          "name": "stderr",
          "text": [
            "100%|██████████| 1563/1563 [00:22<00:00, 69.76it/s]\n"
          ]
        },
        {
          "output_type": "stream",
          "name": "stdout",
          "text": [
            "Train Loss: 0.000 | Accuracy: 100.000\n"
          ]
        },
        {
          "output_type": "stream",
          "name": "stderr",
          "text": [
            "100%|██████████| 313/313 [00:03<00:00, 94.10it/s]\n"
          ]
        },
        {
          "output_type": "stream",
          "name": "stdout",
          "text": [
            "Test Loss: 0.871 | Accuracy: 84.010\n",
            "\n",
            "Epoch : 39\n"
          ]
        },
        {
          "output_type": "stream",
          "name": "stderr",
          "text": [
            "100%|██████████| 1563/1563 [00:22<00:00, 69.92it/s]\n"
          ]
        },
        {
          "output_type": "stream",
          "name": "stdout",
          "text": [
            "Train Loss: 0.000 | Accuracy: 100.000\n"
          ]
        },
        {
          "output_type": "stream",
          "name": "stderr",
          "text": [
            "100%|██████████| 313/313 [00:03<00:00, 89.06it/s]\n"
          ]
        },
        {
          "output_type": "stream",
          "name": "stdout",
          "text": [
            "Test Loss: 0.874 | Accuracy: 83.910\n",
            "\n",
            "Epoch : 40\n"
          ]
        },
        {
          "output_type": "stream",
          "name": "stderr",
          "text": [
            "100%|██████████| 1563/1563 [00:22<00:00, 68.35it/s]\n"
          ]
        },
        {
          "output_type": "stream",
          "name": "stdout",
          "text": [
            "Train Loss: 0.000 | Accuracy: 100.000\n"
          ]
        },
        {
          "output_type": "stream",
          "name": "stderr",
          "text": [
            "100%|██████████| 313/313 [00:03<00:00, 92.86it/s]\n"
          ]
        },
        {
          "output_type": "stream",
          "name": "stdout",
          "text": [
            "Test Loss: 0.871 | Accuracy: 84.040\n",
            "\n",
            "Epoch : 41\n"
          ]
        },
        {
          "output_type": "stream",
          "name": "stderr",
          "text": [
            "100%|██████████| 1563/1563 [00:23<00:00, 67.78it/s]\n"
          ]
        },
        {
          "output_type": "stream",
          "name": "stdout",
          "text": [
            "Train Loss: 0.000 | Accuracy: 100.000\n"
          ]
        },
        {
          "output_type": "stream",
          "name": "stderr",
          "text": [
            "100%|██████████| 313/313 [00:03<00:00, 93.13it/s]\n"
          ]
        },
        {
          "output_type": "stream",
          "name": "stdout",
          "text": [
            "Test Loss: 0.879 | Accuracy: 84.000\n",
            "\n",
            "Epoch : 42\n"
          ]
        },
        {
          "output_type": "stream",
          "name": "stderr",
          "text": [
            "100%|██████████| 1563/1563 [00:24<00:00, 65.05it/s]\n"
          ]
        },
        {
          "output_type": "stream",
          "name": "stdout",
          "text": [
            "Train Loss: 0.000 | Accuracy: 100.000\n"
          ]
        },
        {
          "output_type": "stream",
          "name": "stderr",
          "text": [
            "100%|██████████| 313/313 [00:03<00:00, 89.72it/s]\n"
          ]
        },
        {
          "output_type": "stream",
          "name": "stdout",
          "text": [
            "Test Loss: 0.875 | Accuracy: 84.070\n",
            "\n",
            "Epoch : 43\n"
          ]
        },
        {
          "output_type": "stream",
          "name": "stderr",
          "text": [
            "100%|██████████| 1563/1563 [00:22<00:00, 68.52it/s]\n"
          ]
        },
        {
          "output_type": "stream",
          "name": "stdout",
          "text": [
            "Train Loss: 0.000 | Accuracy: 100.000\n"
          ]
        },
        {
          "output_type": "stream",
          "name": "stderr",
          "text": [
            "100%|██████████| 313/313 [00:03<00:00, 92.20it/s]\n"
          ]
        },
        {
          "output_type": "stream",
          "name": "stdout",
          "text": [
            "Test Loss: 0.884 | Accuracy: 83.880\n",
            "\n",
            "Epoch : 44\n"
          ]
        },
        {
          "output_type": "stream",
          "name": "stderr",
          "text": [
            "100%|██████████| 1563/1563 [00:23<00:00, 67.36it/s]\n"
          ]
        },
        {
          "output_type": "stream",
          "name": "stdout",
          "text": [
            "Train Loss: 0.000 | Accuracy: 100.000\n"
          ]
        },
        {
          "output_type": "stream",
          "name": "stderr",
          "text": [
            "100%|██████████| 313/313 [00:03<00:00, 94.49it/s]\n"
          ]
        },
        {
          "output_type": "stream",
          "name": "stdout",
          "text": [
            "Test Loss: 0.876 | Accuracy: 84.030\n",
            "\n",
            "Epoch : 45\n"
          ]
        },
        {
          "output_type": "stream",
          "name": "stderr",
          "text": [
            "100%|██████████| 1563/1563 [00:22<00:00, 68.89it/s]\n"
          ]
        },
        {
          "output_type": "stream",
          "name": "stdout",
          "text": [
            "Train Loss: 0.000 | Accuracy: 100.000\n"
          ]
        },
        {
          "output_type": "stream",
          "name": "stderr",
          "text": [
            "100%|██████████| 313/313 [00:03<00:00, 89.35it/s]\n"
          ]
        },
        {
          "output_type": "stream",
          "name": "stdout",
          "text": [
            "Test Loss: 0.880 | Accuracy: 84.130\n",
            "\n",
            "Epoch : 46\n"
          ]
        },
        {
          "output_type": "stream",
          "name": "stderr",
          "text": [
            "100%|██████████| 1563/1563 [00:22<00:00, 69.24it/s]\n"
          ]
        },
        {
          "output_type": "stream",
          "name": "stdout",
          "text": [
            "Train Loss: 0.000 | Accuracy: 100.000\n"
          ]
        },
        {
          "output_type": "stream",
          "name": "stderr",
          "text": [
            "100%|██████████| 313/313 [00:03<00:00, 89.22it/s]\n"
          ]
        },
        {
          "output_type": "stream",
          "name": "stdout",
          "text": [
            "Test Loss: 0.886 | Accuracy: 84.050\n",
            "\n",
            "Epoch : 47\n"
          ]
        },
        {
          "output_type": "stream",
          "name": "stderr",
          "text": [
            "100%|██████████| 1563/1563 [00:23<00:00, 65.89it/s]\n"
          ]
        },
        {
          "output_type": "stream",
          "name": "stdout",
          "text": [
            "Train Loss: 0.000 | Accuracy: 100.000\n"
          ]
        },
        {
          "output_type": "stream",
          "name": "stderr",
          "text": [
            "100%|██████████| 313/313 [00:04<00:00, 70.73it/s]\n"
          ]
        },
        {
          "output_type": "stream",
          "name": "stdout",
          "text": [
            "Test Loss: 0.882 | Accuracy: 83.920\n",
            "\n",
            "Epoch : 48\n"
          ]
        },
        {
          "output_type": "stream",
          "name": "stderr",
          "text": [
            "100%|██████████| 1563/1563 [00:21<00:00, 71.80it/s]\n"
          ]
        },
        {
          "output_type": "stream",
          "name": "stdout",
          "text": [
            "Train Loss: 0.000 | Accuracy: 100.000\n"
          ]
        },
        {
          "output_type": "stream",
          "name": "stderr",
          "text": [
            "100%|██████████| 313/313 [00:04<00:00, 68.66it/s]\n"
          ]
        },
        {
          "output_type": "stream",
          "name": "stdout",
          "text": [
            "Test Loss: 0.886 | Accuracy: 83.990\n",
            "\n",
            "Epoch : 49\n"
          ]
        },
        {
          "output_type": "stream",
          "name": "stderr",
          "text": [
            "100%|██████████| 1563/1563 [00:21<00:00, 72.06it/s]\n"
          ]
        },
        {
          "output_type": "stream",
          "name": "stdout",
          "text": [
            "Train Loss: 0.000 | Accuracy: 100.000\n"
          ]
        },
        {
          "output_type": "stream",
          "name": "stderr",
          "text": [
            "100%|██████████| 313/313 [00:04<00:00, 70.61it/s]\n"
          ]
        },
        {
          "output_type": "stream",
          "name": "stdout",
          "text": [
            "Test Loss: 0.889 | Accuracy: 84.040\n",
            "\n",
            "Epoch : 50\n"
          ]
        },
        {
          "output_type": "stream",
          "name": "stderr",
          "text": [
            "100%|██████████| 1563/1563 [00:22<00:00, 69.83it/s]\n"
          ]
        },
        {
          "output_type": "stream",
          "name": "stdout",
          "text": [
            "Train Loss: 0.000 | Accuracy: 100.000\n"
          ]
        },
        {
          "output_type": "stream",
          "name": "stderr",
          "text": [
            "100%|██████████| 313/313 [00:04<00:00, 72.56it/s]"
          ]
        },
        {
          "output_type": "stream",
          "name": "stdout",
          "text": [
            "Test Loss: 0.892 | Accuracy: 84.130\n"
          ]
        },
        {
          "output_type": "stream",
          "name": "stderr",
          "text": [
            "\n"
          ]
        }
      ],
      "source": [
        "epochs = 50\n",
        "for epoch in range(1,epochs+1): \n",
        "  train(epoch)\n",
        "  test(epoch)"
      ]
    },
    {
      "cell_type": "markdown",
      "metadata": {
        "id": "5XabaOApV80i"
      },
      "source": [
        "## Drowing plots"
      ]
    },
    {
      "cell_type": "code",
      "execution_count": 12,
      "metadata": {
        "colab": {
          "base_uri": "https://localhost:8080/",
          "height": 472
        },
        "id": "1jo25xjIVcTv",
        "outputId": "3068fa4b-2f15-4317-b13e-808d877bf759"
      },
      "outputs": [
        {
          "output_type": "display_data",
          "data": {
            "text/plain": [
              "<Figure size 640x480 with 1 Axes>"
            ],
            "image/png": "[encoded data removed]"
          },
          "metadata": {}
        }
      ],
      "source": [
        "import matplotlib.pyplot as plt\n",
        "\n",
        "#plot accuracy\n",
        "plt.plot(train_accu,'-o')\n",
        "plt.plot(eval_accu,'-o')\n",
        "plt.xlabel('epoch')\n",
        "plt.ylabel('accuracy')\n",
        "plt.legend(['Train','Valid'])\n",
        "plt.title('Train vs Valid Accuracy')\n",
        "\n",
        "plt.show()"
      ]
    },
    {
      "cell_type": "code",
      "execution_count": 13,
      "metadata": {
        "colab": {
          "base_uri": "https://localhost:8080/",
          "height": 472
        },
        "id": "QreYSzvJV0Bd",
        "outputId": "2baddc4c-8f4b-45f3-ecf7-1347cbf85405"
      },
      "outputs": [
        {
          "output_type": "display_data",
          "data": {
            "text/plain": [
              "<Figure size 640x480 with 1 Axes>"
            ],
            "image/png": "[encoded data removed]"
          },
          "metadata": {}
        }
      ],
      "source": [
        "#plot losses\n",
        "plt.plot(train_losses,'-o')\n",
        "plt.plot(eval_losses,'-o')\n",
        "plt.xlabel('epoch')\n",
        "plt.ylabel('losses')\n",
        "plt.legend(['Train','Valid'])\n",
        "plt.title('Train vs Valid Losses')\n",
        "\n",
        "plt.show()"
      ]
    },
    {
      "cell_type": "code",
      "execution_count": 14,
      "metadata": {
        "colab": {
          "base_uri": "https://localhost:8080/"
        },
        "id": "3RQTChNDWNkL",
        "outputId": "8c6480bb-0295-4b1c-a22a-a9f43b69c067"
      },
      "outputs": [
        {
          "output_type": "stream",
          "name": "stderr",
          "text": [
            "100%|██████████| 313/313 [00:03<00:00, 88.44it/s]\n"
          ]
        }
      ],
      "source": [
        "y_true = []\n",
        "y_pred = []\n",
        "\n",
        "for data in tqdm(testloader):\n",
        "  images,labels=data[0].to(device),data[1]  \n",
        "  y_true.extend(labels.numpy())\n",
        "\n",
        "  outputs=model(images)\n",
        "\n",
        "  _, predicted = torch.max(outputs, 1)\n",
        "  y_pred.extend(predicted.cpu().numpy())"
      ]
    },
    {
      "cell_type": "code",
      "execution_count": 15,
      "metadata": {
        "colab": {
          "base_uri": "https://localhost:8080/"
        },
        "id": "AI4OIswfWf8Q",
        "outputId": "4543e23d-80c9-46ef-d910-3db8629f4d25"
      },
      "outputs": [
        {
          "output_type": "stream",
          "name": "stdout",
          "text": [
            "[3, 8, 1, 0, 6, 6, 1, 6, 3, 1, 0, 9, 5, 7, 9, 8, 5, 7, 8, 6, 7, 2, 4, 9, 4, 3, 3, 0, 9, 6, 6, 5, 4, 5, 9, 6, 4, 9, 9, 5, 4, 6, 5, 6, 0, 9, 3, 9, 7, 6, 9, 8, 0, 3, 8, 8, 7, 5, 5, 6, 7, 5, 6, 3, 6, 2, 1, 2, 3, 7, 2, 3, 8, 8, 0, 2, 9, 3, 5, 8, 8, 1, 1, 7, 2, 7, 2, 7, 8, 9, 0, 6, 8, 6, 4, 6, 6, 0, 0, 7, 4, 5, 6, 3, 1, 1, 3, 6, 8, 7, 4, 0, 6, 2, 1, 3, 0, 4, 2, 7, 8, 3, 1, 2, 8, 0, 8, 3, 3, 2, 4, 1, 8, 9, 1, 2, 9, 7, 2, 8, 6, 5, 6, 5, 8, 7, 6, 6, 5, 2, 8, 9, 6, 0, 0, 5, 2, 9, 2, 4, 2, 1, 4, 6, 8, 4, 8, 4, 5, 0, 9, 9, 9, 8, 9, 9, 3, 7, 3, 0, 0, 5, 2, 2, 3, 8, 6, 3, 3, 8, 5, 8, 0, 1, 7, 2, 8, 8, 7, 8, 5, 1, 8, 7, 1, 3, 0, 5, 7, 9, 7, 0, 5, 9, 8, 2, 7, 9, 8, 2, 4, 3, 9, 5, 4, 9, 6, 4, 3, 6, 5, 1, 5, 8, 8, 0, 4, 0, 5, 5, 1, 1, 8, 9, 0, 2, 1, 8, 2, 2, 5, 3, 9, 9, 4, 0, 3, 0, 8, 9, 8, 1, 5, 3, 8, 8, 2, 4, 7, 0, 2, 5, 6, 3, 8, 5, 0, 2, 4, 3, 9, 0, 6, 1, 0, 9, 1, 0, 7, 9, 1, 2, 6, 1, 3, 4, 6, 0, 0, 6, 6, 6, 5, 2, 6, 1, 9, 2, 1, 4, 8, 6, 0, 0, 4, 0, 7, 7, 5, 5, 3, 5, 2, 2, 4, 1, 7, 5, 4, 6, 1, 9, 6, 6, 6, 9, 3, 8, 0, 7, 2, 6, 2, 5, 8, 5, 4, 6, 8, 9, 9, 1, 0, 2, 2, 4, 5, 2, 8, 0, 9, 5, 8, 1, 9, 4, 1, 8, 0, 1, 2, 7, 9, 2, 2, 7, 9, 7, 2, 6, 6, 9, 0, 0, 5, 8, 7, 2, 2, 5, 1, 2, 6, 6, 9, 6, 2, 3, 0, 3, 9, 1, 7, 8, 8, 6, 0, 1, 8, 2, 7, 9, 3, 6, 1, 9, 0, 7, 3, 7, 4, 5, 8, 0, 2, 9, 6, 3, 9, 6, 4, 5, 8, 7, 3, 7, 2, 2, 3, 1, 1, 4, 9, 9, 5, 7, 5, 0, 2, 0, 1, 9, 7, 2, 9, 4, 4, 5, 4, 1, 5, 6, 1, 4, 4, 4, 4, 3, 7, 8, 3, 7, 8, 0, 5, 7, 5, 0, 2, 4, 8, 6, 8, 5, 5, 0, 9, 9, 5, 2, 1, 0, 8, 1, 1, 8, 0, 2, 2, 0, 4, 6, 5, 4, 9, 4, 7, 9, 9, 4, 5, 6, 6, 1, 5, 3, 8, 9, 7, 8, 5, 7, 0, 7, 0, 7, 0, 0, 4, 6, 9, 3, 9, 5, 6, 6, 6, 2, 9, 0, 1, 4, 6, 7, 5, 9, 1, 6, 2, 5, 5, 5, 8, 5, 9, 4, 6, 4, 3, 2, 0, 7, 6, 0, 2, 5, 9, 3, 9, 2, 6, 7, 1, 3, 6, 6, 8, 8, 7, 5, 4, 0, 8, 4, 0, 9, 3, 4, 8, 9, 6, 9, 2, 6, 1, 4, 7, 3, 2, 3, 8, 5, 0, 2, 1, 6, 4, 3, 3, 9, 6, 0, 8, 8, 5, 8, 6, 6, 3, 1, 7, 7, 1, 2, 7, 9, 9, 4, 4, 1, 0, 5, 6, 8, 7, 6, 8, 3, 0, 3, 3, 3, 0, 7, 9, 1, 3, 3, 4, 5, 3, 9, 5, 6, 9, 2, 1, 1, 4, 1, 9, 4, 7, 6, 3, 0, 9, 0, 1, 2, 6, 3, 3, 3, 2, 0, 3, 9, 5, 5, 9, 6, 4, 0, 9, 2, 9, 6, 3, 4, 3, 2, 2, 7, 8, 3, 8, 0, 7, 5, 7, 2, 4, 8, 7, 4, 2, 9, 8, 8, 4, 0, 8, 7, 4, 3, 3, 7, 4, 9, 4, 8, 8, 1, 8, 8, 1, 3, 6, 5, 5, 0, 7, 9, 1, 2, 1, 4, 1, 7, 2, 7, 0, 7, 9, 7, 6, 6, 2, 3, 9, 0, 9, 1, 2, 2, 6, 8, 2, 1, 3, 6, 6, 0, 1, 2, 7, 0, 5, 4, 9, 9, 6, 4, 0, 2, 5, 6, 0, 5, 9, 1, 7, 6, 7, 0, 3, 9, 6, 8, 0, 0, 6, 4, 7, 7, 4, 4, 7, 4, 7, 1, 2, 7, 4, 3, 0, 4, 7, 7, 3, 3, 7, 2, 0, 8, 9, 5, 8, 3, 6, 2, 0, 8, 7, 3, 7, 6, 4, 3, 0, 3, 2, 2, 5, 4, 9, 2, 9, 2, 7, 0, 7, 2, 1, 5, 2, 0, 6, 4, 3, 9, 8, 1, 0, 7, 7, 0, 7, 8, 4, 6, 3, 3, 0, 1, 5, 7, 0, 1, 3, 1, 4, 2, 3, 8, 4, 2, 3, 7, 8, 4, 0, 0, 9, 0, 9, 8, 8, 6, 4, 6, 7, 3, 1, 1, 3, 7, 3, 5, 2, 6, 6, 5, 8, 7, 1, 6, 8, 8, 7, 3, 3, 4, 0, 1, 4, 8, 8, 0, 6, 9, 9, 4, 5, 3, 8, 6, 0, 8, 4, 2, 3, 3, 7, 2, 2, 5, 9, 8, 9, 1, 7, 6, 0, 3, 0, 1, 4, 8, 3, 9, 6, 1, 4, 7, 0, 3, 7, 8, 9, 1, 1, 6, 6, 6, 3, 9, 1, 9, 9, 4, 4, 1, 7, 0, 6, 8, 1, 9, 2, 9, 3, 4, 7, 8, 3, 1, 2, 0, 1, 5, 8, 7, 3, 2, 8, 1, 3, 8, 5, 0, 8, 4, 8, 1, 1, 8, 9, 6, 0, 8, 5, 1, 3, 4, 1, 6, 0, 3, 1, 1, 0, 0, 3, 5, 0, 0, 6, 6, 3, 3, 2, 3, 3, 3, 2, 7, 2, 2, 5, 5, 2, 2, 8, 5, 2, 1, 1, 4, 0, 6, 0, 5, 1, 5, 3, 7, 6, 8, 9, 1, 6, 4, 9, 3, 9, 0, 9, 6, 3, 6, 8, 7, 3, 8, 0, 0, 0, 6, 6, 6, 9, 2, 5, 4, 4, 6, 3, 6, 0, 8, 6, 0, 6, 6, 7, 5, 1, 2, 7, 8, 8, 0, 9, 4, 9, 7, 2, 0, 2, 8, 3, 8, 9, 1, 5, 5, 4, 7, 5, 3, 8, 3, 3, 6, 0, 8, 5, 5, 4, 9, 2, 4, 1, 6, 9, 0, 2, 8, 6, 1, 8, 6, 1, 4, 2, 9, 2, 7, 4, 2, 0, 8, 6, 9, 1, 1, 1, 8, 8, 0, 7, 7, 8, 0, 3, 3, 3, 7, 7, 9, 7, 3, 1, 9, 1, 9, 6, 3, 3, 3, 1, 0, 6, 1, 4, 1, 0, 0, 1, 1, 6, 2, 4, 6, 2, 0, 7, 9, 8, 7, 2, 0, 6, 8, 1, 4, 3, 7, 0, 6, 1, 8, 5, 7, 8, 4, 8, 5, 9, 9, 9, 8, 7, 6, 6, 3, 5, 1, 3, 9, 1, 4, 1, 5, 7, 0, 1, 5, 6, 0, 8, 8, 5, 6, 7, 5, 4, 4, 7, 7, 5, 8, 2, 4, 9, 2, 1, 8, 1, 9, 8, 8, 8, 1, 0, 4, 3, 3, 1, 8, 7, 6, 3, 3, 5, 2, 2, 8, 3, 8, 9, 5, 8, 9, 8, 9, 1, 6, 5, 9, 3, 4, 8, 0, 7, 2, 9, 7, 4, 1, 6, 4, 8, 9, 1, 2, 5, 6, 0, 8, 6, 1, 9, 4, 5, 9, 3, 0, 7, 2, 0, 0, 4, 4, 6, 6, 5, 5, 2, 8, 1, 7, 2, 1, 5, 5, 6, 3, 1, 4, 7, 0, 9, 4, 9, 8, 2, 8, 4, 7, 2, 2, 1, 5, 2, 9, 8, 9, 7, 9, 5, 1, 4, 0, 8, 2, 3, 8, 9, 1, 9, 3, 2, 4, 9, 3, 1, 7, 6, 6, 0, 8, 9, 5, 3, 9, 5, 5, 6, 2, 2, 4, 5, 3, 1, 0, 7, 0, 5, 4, 7, 2, 1, 1, 9, 8, 1, 0, 1, 3, 1, 1, 1, 7, 3, 9, 6, 8, 4, 6, 8, 4, 9, 3, 7, 9, 7, 9, 8, 4, 9, 7, 0, 1, 6, 1, 5, 9, 0, 4, 5, 4, 1, 4, 0, 8, 4, 6, 2, 6, 6, 5, 8, 6, 2, 1, 1, 8, 6, 0, 4, 0, 1, 9, 7, 1, 3, 7, 2, 8, 7, 7, 5, 9, 7, 7, 7, 3, 1, 2, 8, 6, 3, 9, 7, 9, 8, 6, 8, 5, 1, 1, 7, 0, 2, 8, 5, 8, 1, 3, 2, 4, 1, 2, 7, 9, 8, 1, 8, 1, 8, 6, 0, 2, 4, 1, 3, 6, 7, 7, 4, 4, 3, 8, 4, 2, 2, 5, 3, 7, 8, 4, 4, 4, 3, 4, 3, 2, 8, 4, 5, 5, 4, 9, 4, 2, 5, 1, 6, 4, 3, 4, 4, 0, 8, 8, 4, 5, 7, 5, 6, 9, 1, 6, 7, 2, 0, 1, 4, 7, 3, 0, 0, 2, 7, 5, 6, 0, 5, 9, 9, 1, 7, 7, 5, 2, 5, 6, 0, 1, 4, 3, 3, 6, 0, 3, 5, 5, 8, 9, 7, 3, 1, 7, 3, 4, 4, 4, 4, 3, 3, 8, 1, 7, 7, 0, 7, 4, 3, 1, 4, 2, 4, 3, 9, 9, 4, 9, 9, 1, 0, 1, 6, 7, 5, 5, 4, 9, 3, 6, 4, 9, 6, 4, 0, 7, 8, 2, 5, 0, 0, 9, 9, 8, 2, 5, 4, 8, 3, 6, 5, 6, 0, 6, 6, 6, 9, 6, 0, 8, 6, 6, 4, 0, 8, 1, 2, 7, 6, 5, 7, 8, 8, 6, 0, 0, 6, 9, 0, 8, 9, 8, 0, 9, 3, 9, 5, 7, 5, 5, 9, 5, 3, 0, 1, 9, 7, 2, 4, 1, 0, 9, 0, 5, 1, 7, 8, 0, 4, 4, 6, 5, 4, 0, 0, 1, 0, 8, 4, 3, 1, 3, 9, 0, 5, 6, 5, 8, 1, 4, 8, 1, 0, 5, 4, 1, 0, 2, 8, 1, 5, 6, 7, 7, 2, 6, 2, 5, 0, 1, 4, 0, 5, 4, 3, 2, 2, 1, 7, 2, 8, 5, 5, 3, 0, 4, 8, 2, 7, 6, 3, 8, 1, 0, 1, 5, 5, 0, 7, 6, 9, 5, 3, 6, 0, 1, 4, 4, 4, 4, 2, 2, 9, 8, 1, 5, 9, 8, 1, 1, 7, 5, 9, 9, 7, 6, 5, 0, 8, 4, 7, 4, 9, 2, 8, 4, 7, 9, 2, 9, 6, 8, 9, 0, 4, 1, 8, 7, 9, 9, 4, 8, 9, 7, 2, 5, 3, 7, 3, 0, 2, 9, 3, 5, 8, 5, 5, 2, 8, 3, 4, 5, 7, 7, 8, 6, 7, 8, 2, 3, 5, 6, 8, 0, 2, 3, 7, 0, 1, 9, 1, 3, 5, 3, 3, 3, 2, 9, 6, 8, 6, 9, 3, 0, 9, 8, 3, 7, 8, 5, 2, 0, 1, 3, 9, 1, 5, 3, 4, 4, 0, 9, 9, 9, 9, 8, 2, 4, 2, 2, 5, 1, 3, 1, 0, 9, 4, 2, 1, 6, 0, 5, 7, 3, 5, 9, 0, 5, 5, 7, 4, 8, 4, 7, 8, 5, 5, 0, 2, 7, 4, 4, 2, 2, 7, 5, 6, 0, 2, 7, 6, 2, 3, 0, 7, 7, 8, 9, 1, 4, 2, 0, 6, 3, 5, 5, 6, 3, 9, 3, 6, 2, 7, 6, 4, 9, 5, 4, 4, 1, 6, 2, 9, 2, 5, 9, 8, 5, 1, 4, 2, 5, 7, 2, 7, 8, 9, 1, 7, 2, 5, 6, 8, 4, 6, 5, 3, 9, 9, 8, 5, 5, 6, 4, 5, 9, 7, 5, 4, 1, 2, 4, 2, 6, 3, 5, 2, 8, 0, 0, 1, 8, 3, 1, 5, 3, 8, 3, 8, 5, 8, 6, 3, 5, 5, 5, 8, 8, 3, 4, 7, 1, 8, 2, 4, 7, 3, 4, 2, 9, 6, 2, 2, 4, 3, 0, 1, 0, 1, 3, 2, 6, 7, 2, 1, 0, 7, 7, 2, 2, 1, 6, 5, 0, 2, 2, 0, 1, 2, 6, 0, 1, 6, 6, 5, 3, 5, 0, 0, 9, 1, 0, 2, 5, 9, 7, 8, 6, 4, 6, 0, 2, 0, 1, 9, 3, 6, 9, 0, 7, 2, 3, 4, 8, 9, 2, 6, 8, 9, 7, 1, 9, 3, 4, 2, 7, 9, 6, 9, 5, 7, 8, 5, 9, 8, 6, 9, 9, 0, 0, 5, 7, 1, 0, 2, 7, 5, 8, 2, 2, 4, 3, 9, 5, 1, 9, 3, 1, 4, 3, 4, 4, 9, 0, 1, 3, 9, 2, 9, 5, 0, 2, 8, 4, 8, 6, 8, 6, 0, 5, 9, 6, 9, 5, 1, 3, 4, 4, 2, 7, 2, 6, 4, 0, 2, 8, 4, 5, 1, 2, 6, 8, 1, 7, 6, 8, 7, 4, 3, 5, 3, 5, 7, 2, 5, 6, 1, 7, 9, 0, 5, 3, 9, 8, 9, 5, 0, 0, 7, 6, 3, 3, 8, 1, 4, 0, 1, 5, 4, 3, 2, 6, 2, 8, 8, 6, 3, 3, 2, 9, 7, 5, 1, 6, 0, 5, 9, 9, 4, 5, 9, 7, 8, 3, 3, 2, 2, 1, 9, 5, 5, 1, 9, 8, 9, 7, 0, 3, 2, 2, 0, 2, 6, 2, 3, 9, 1, 3, 6, 7, 2, 6, 3, 2, 6, 5, 2, 7, 5, 3, 0, 8, 0, 5, 7, 1, 7, 4, 0, 4, 2, 6, 1, 5, 9, 7, 6, 2, 7, 0, 5, 6, 0, 1, 1, 8, 4, 5, 5, 9, 3, 4, 8, 9, 8, 1, 5, 2, 7, 0, 3, 6, 6, 7, 9, 4, 0, 1, 0, 4, 7, 0, 8, 0, 7, 4, 1, 8, 8, 5, 9, 2, 5, 7, 3, 9, 0, 6, 1, 2, 5, 1, 6, 7, 1, 2, 8, 8, 0, 3, 9, 4, 0, 6, 4, 9, 2, 2, 3, 0, 6, 6, 3, 6, 6, 7, 8, 4, 8, 8, 3, 6, 8, 0, 2, 5, 6, 8, 7, 8, 9, 9, 0, 6, 6, 8, 1, 1, 7, 4, 4, 2, 5, 6, 9, 6, 2, 4, 1, 8, 2, 4, 1, 4, 8, 6, 8, 5, 9, 0, 1, 9, 2, 9, 2, 9, 0, 9, 7, 8, 5, 8, 6, 6, 8, 1, 6, 5, 8, 7, 9, 2, 1, 6, 4, 5, 6, 3, 0, 9, 8, 9, 4, 8, 9, 0, 3, 6, 6, 4, 8, 8, 1, 7, 1, 0, 6, 6, 4, 9, 2, 2, 9, 2, 2, 9, 7, 4, 1, 9, 1, 4, 5, 0, 2, 8, 9, 3, 2, 2, 1, 6, 9, 8, 5, 1, 5, 8, 3, 1, 0, 5, 2, 4, 8, 4, 0, 6, 4, 4, 9, 8, 4, 7, 6, 2, 4, 7, 7, 6, 4, 2, 2, 3, 2, 4, 7, 0, 0, 9, 6, 7, 8, 5, 2, 4, 8, 8, 6, 4, 5, 7, 6, 3, 4, 0, 4, 0, 3, 8, 4, 8, 0, 4, 9, 7, 3, 3, 8, 1, 6, 7, 8, 4, 5, 1, 4, 5, 2, 4, 3, 6, 0, 7, 1, 3, 5, 7, 1, 8, 2, 4, 8, 2, 7, 7, 0, 6, 6, 4, 5, 3, 1, 2, 1, 6, 4, 6, 7, 4, 7, 3, 8, 1, 3, 1, 4, 6, 0, 0, 7, 4, 5, 4, 9, 7, 7, 2, 3, 3, 6, 7, 4, 1, 6, 1, 0, 6, 9, 6, 8, 4, 4, 6, 6, 7, 0, 0, 0, 0, 7, 5, 3, 2, 7, 8, 5, 5, 6, 2, 8, 9, 1, 6, 5, 0, 3, 4, 9, 8, 6, 0, 8, 0, 3, 6, 4, 6, 7, 5, 1, 8, 8, 0, 5, 0, 5, 2, 3, 8, 4, 2, 0, 8, 5, 9, 2, 3, 6, 5, 7, 7, 7, 2, 8, 0, 3, 2, 1, 6, 2, 9, 9, 8, 2, 8, 1, 0, 5, 2, 3, 7, 9, 7, 3, 1, 1, 3, 2, 7, 4, 4, 1, 9, 4, 3, 5, 9, 7, 7, 6, 1, 7, 3, 7, 5, 4, 2, 7, 7, 0, 0, 1, 2, 4, 3, 7, 9, 8, 7, 0, 9, 0, 6, 7, 6, 5, 8, 4, 5, 6, 5, 5, 4, 2, 9, 2, 3, 7, 2, 0, 1, 1, 1, 7, 9, 5, 1, 6, 4, 3, 3, 7, 2, 4, 5, 2, 3, 6, 3, 3, 0, 4, 8, 3, 8, 1, 2, 2, 2, 7, 8, 5, 5, 6, 8, 6, 6, 5, 4, 2, 9, 7, 3, 2, 0, 4, 1, 5, 5, 6, 6, 5, 6, 9, 7, 9, 4, 8, 3, 1, 9, 0, 1, 9, 0, 5, 0, 4, 7, 7, 2, 6, 5, 6, 9, 7, 7, 3, 7, 0, 8, 6, 5, 8, 3, 8, 9, 2, 2, 9, 2, 7, 4, 1, 9, 7, 0, 0, 1, 6, 0, 6, 5, 1, 4, 2, 8, 2, 8, 3, 7, 1, 4, 9, 8, 1, 1, 3, 9, 9, 4, 6, 8, 5, 3, 2, 2, 0, 8, 5, 1, 9, 7, 9, 1, 0, 3, 1, 0, 3, 8, 9, 7, 0, 8, 8, 7, 9, 4, 0, 3, 0, 7, 0, 7, 0, 5, 5, 4, 3, 0, 9, 9, 0, 6, 7, 0, 8, 2, 4, 5, 2, 2, 8, 4, 3, 5, 4, 3, 4, 0, 8, 4, 8, 5, 5, 6, 5, 1, 7, 2, 4, 0, 5, 6, 8, 7, 6, 3, 1, 5, 6, 6, 4, 5, 5, 5, 1, 8, 7, 3, 0, 6, 7, 1, 1, 1, 6, 5, 4, 1, 2, 3, 9, 8, 3, 1, 7, 7, 8, 4, 7, 5, 8, 3, 0, 3, 0, 8, 2, 4, 4, 9, 4, 6, 1, 7, 7, 7, 9, 2, 1, 3, 1, 4, 0, 4, 0, 7, 8, 3, 1, 3, 2, 1, 8, 8, 1, 9, 7, 0, 3, 2, 9, 0, 6, 8, 4, 1, 5, 7, 0, 4, 7, 0, 4, 9, 0, 7, 0, 6, 7, 1, 8, 5, 8, 8, 2, 0, 0, 6, 8, 2, 7, 0, 6, 4, 4, 9, 1, 8, 6, 3, 9, 4, 9, 3, 3, 7, 5, 9, 7, 5, 4, 5, 8, 2, 8, 9, 5, 3, 1, 9, 2, 2, 0, 1, 1, 8, 1, 1, 0, 8, 9, 9, 8, 2, 6, 9, 1, 9, 0, 1, 9, 2, 9, 9, 9, 1, 9, 9, 2, 1, 7, 0, 4, 6, 6, 9, 8, 3, 0, 2, 0, 7, 4, 8, 3, 0, 4, 2, 3, 5, 7, 6, 6, 6, 5, 6, 3, 4, 3, 8, 8, 0, 9, 2, 9, 8, 6, 9, 6, 1, 3, 7, 2, 0, 3, 5, 4, 7, 6, 9, 0, 2, 3, 9, 3, 5, 0, 8, 3, 5, 3, 9, 6, 1, 0, 7, 4, 8, 7, 7, 8, 2, 0, 3, 2, 5, 4, 9, 3, 5, 4, 7, 0, 3, 7, 0, 2, 1, 0, 8, 7, 3, 5, 7, 8, 5, 7, 8, 1, 7, 4, 7, 0, 8, 3, 2, 9, 6, 4, 1, 6, 5, 9, 8, 5, 5, 4, 1, 0, 9, 4, 3, 3, 2, 4, 0, 0, 8, 2, 9, 3, 9, 7, 7, 6, 7, 8, 2, 9, 3, 7, 7, 8, 2, 7, 2, 2, 5, 6, 6, 4, 7, 2, 3, 7, 8, 4, 2, 5, 0, 0, 7, 0, 3, 6, 1, 8, 7, 9, 7, 3, 9, 1, 6, 8, 1, 2, 3, 0, 5, 4, 8, 9, 3, 4, 4, 1, 2, 4, 9, 0, 7, 9, 3, 1, 5, 1, 3, 6, 4, 5, 7, 4, 5, 8, 5, 2, 8, 7, 8, 2, 5, 6, 1, 3, 3, 1, 5, 1, 9, 0, 9, 0, 0, 0, 2, 4, 8, 5, 7, 6, 1, 2, 9, 4, 3, 0, 3, 7, 7, 2, 7, 1, 4, 5, 0, 2, 8, 5, 0, 0, 6, 2, 0, 0, 4, 5, 4, 5, 6, 4, 7, 9, 6, 3, 0, 3, 2, 2, 0, 6, 4, 6, 1, 1, 5, 3, 2, 2, 6, 3, 4, 5, 9, 1, 5, 2, 3, 9, 6, 5, 0, 2, 9, 7, 1, 7, 2, 2, 0, 8, 6, 4, 3, 2, 5, 7, 0, 4, 1, 6, 5, 1, 6, 0, 3, 9, 0, 0, 2, 0, 0, 4, 0, 1, 1, 8, 7, 9, 4, 2, 4, 3, 3, 4, 0, 4, 3, 3, 8, 9, 1, 5, 8, 1, 8, 2, 6, 4, 2, 4, 1, 1, 6, 6, 8, 5, 2, 2, 5, 0, 8, 2, 6, 6, 2, 9, 6, 1, 4, 5, 9, 0, 1, 4, 0, 8, 1, 1, 6, 6, 6, 5, 4, 9, 7, 8, 6, 9, 1, 7, 6, 0, 9, 3, 5, 3, 2, 3, 3, 4, 9, 7, 1, 4, 4, 6, 1, 5, 8, 8, 0, 6, 7, 7, 6, 7, 2, 5, 2, 4, 6, 2, 7, 3, 0, 3, 5, 2, 4, 3, 2, 0, 9, 3, 1, 1, 5, 3, 2, 4, 3, 2, 1, 0, 4, 5, 5, 4, 8, 9, 3, 3, 0, 8, 9, 1, 3, 3, 4, 4, 6, 9, 7, 6, 8, 1, 8, 9, 9, 3, 1, 7, 3, 0, 0, 2, 8, 5, 9, 2, 7, 4, 6, 0, 1, 6, 1, 6, 5, 5, 5, 2, 5, 9, 4, 0, 2, 3, 4, 9, 4, 1, 0, 0, 2, 3, 8, 9, 2, 8, 9, 7, 7, 9, 1, 4, 6, 2, 8, 2, 4, 8, 9, 3, 1, 1, 6, 4, 8, 4, 6, 4, 5, 2, 6, 4, 2, 3, 1, 6, 6, 8, 5, 2, 0, 7, 1, 6, 2, 3, 9, 5, 8, 1, 6, 9, 5, 7, 5, 3, 2, 9, 7, 0, 7, 9, 3, 4, 1, 6, 9, 5, 8, 9, 7, 3, 3, 0, 1, 7, 4, 2, 4, 7, 0, 1, 8, 1, 0, 0, 6, 1, 9, 9, 0, 1, 2, 3, 6, 9, 7, 7, 3, 4, 2, 0, 2, 5, 2, 7, 4, 7, 3, 4, 2, 0, 6, 1, 7, 5, 6, 5, 7, 9, 2, 7, 8, 5, 9, 5, 8, 5, 4, 3, 7, 9, 8, 1, 4, 5, 8, 9, 5, 0, 3, 7, 0, 2, 0, 1, 6, 0, 8, 5, 5, 7, 9, 8, 7, 7, 9, 1, 5, 2, 9, 8, 7, 3, 0, 9, 0, 8, 5, 9, 4, 2, 9, 8, 1, 9, 1, 8, 3, 7, 6, 4, 2, 3, 7, 0, 5, 5, 8, 8, 8, 7, 9, 6, 2, 7, 4, 7, 7, 6, 7, 9, 2, 3, 6, 8, 4, 6, 6, 7, 1, 5, 9, 7, 1, 7, 0, 1, 2, 3, 3, 9, 0, 1, 2, 5, 2, 2, 5, 4, 9, 8, 7, 4, 4, 9, 7, 6, 7, 4, 1, 2, 4, 5, 1, 9, 0, 3, 3, 1, 5, 6, 6, 2, 4, 6, 8, 8, 9, 6, 6, 9, 0, 7, 5, 8, 2, 1, 3, 8, 1, 4, 7, 5, 0, 3, 0, 9, 5, 2, 8, 7, 1, 9, 0, 4, 4, 8, 2, 4, 0, 7, 9, 8, 7, 1, 6, 2, 9, 0, 5, 9, 7, 6, 7, 7, 1, 1, 2, 4, 2, 0, 6, 8, 9, 7, 4, 2, 9, 7, 2, 7, 0, 4, 5, 8, 6, 8, 2, 7, 7, 7, 1, 8, 1, 2, 5, 9, 7, 8, 9, 6, 5, 8, 1, 9, 4, 0, 4, 1, 4, 3, 6, 2, 2, 0, 0, 9, 7, 0, 7, 4, 3, 2, 7, 7, 4, 5, 4, 3, 3, 5, 4, 0, 0, 0, 7, 3, 1, 6, 5, 0, 7, 7, 4, 2, 1, 8, 5, 9, 3, 5, 6, 2, 2, 7, 5, 5, 8, 1, 0, 6, 8, 7, 8, 8, 5, 7, 5, 4, 9, 7, 3, 5, 8, 8, 5, 9, 5, 7, 2, 0, 8, 0, 7, 8, 3, 2, 5, 2, 4, 5, 0, 4, 8, 2, 4, 0, 6, 4, 5, 6, 0, 8, 0, 0, 6, 1, 1, 6, 1, 4, 3, 9, 1, 2, 4, 4, 4, 7, 8, 8, 5, 1, 8, 2, 2, 3, 9, 6, 6, 1, 0, 7, 3, 3, 2, 7, 4, 5, 6, 0, 6, 1, 8, 1, 0, 9, 3, 1, 0, 5, 4, 2, 7, 3, 6, 7, 6, 0, 0, 5, 7, 4, 7, 7, 0, 6, 1, 7, 9, 0, 9, 0, 3, 8, 6, 0, 8, 4, 1, 0, 2, 6, 4, 1, 1, 2, 4, 3, 4, 1, 4, 7, 1, 0, 0, 9, 0, 4, 2, 8, 8, 5, 5, 0, 4, 0, 8, 2, 2, 5, 9, 2, 9, 1, 1, 3, 4, 7, 5, 8, 6, 7, 1, 5, 7, 3, 4, 1, 8, 9, 9, 8, 9, 8, 6, 8, 5, 8, 9, 4, 6, 4, 6, 3, 7, 4, 0, 0, 1, 7, 5, 1, 5, 1, 3, 1, 6, 0, 7, 2, 6, 9, 1, 2, 3, 1, 7, 2, 6, 1, 9, 0, 0, 8, 9, 9, 8, 8, 4, 5, 3, 3, 0, 5, 6, 0, 4, 4, 7, 5, 2, 1, 6, 8, 8, 1, 2, 1, 5, 4, 5, 9, 6, 7, 1, 0, 6, 9, 3, 7, 7, 3, 9, 9, 1, 9, 7, 0, 1, 3, 5, 4, 6, 3, 8, 8, 0, 4, 8, 3, 6, 7, 3, 0, 4, 5, 2, 6, 8, 4, 9, 9, 9, 2, 3, 4, 2, 8, 1, 1, 0, 0, 4, 7, 4, 1, 1, 9, 7, 7, 6, 6, 8, 6, 0, 2, 8, 5, 2, 2, 3, 5, 7, 9, 8, 4, 4, 3, 1, 4, 8, 4, 6, 5, 3, 0, 8, 9, 5, 7, 6, 3, 0, 2, 9, 9, 0, 5, 5, 3, 3, 1, 1, 0, 2, 8, 2, 1, 1, 7, 5, 2, 3, 4, 1, 2, 9, 2, 1, 9, 4, 8, 9, 8, 0, 6, 9, 0, 2, 2, 0, 6, 8, 7, 3, 3, 8, 9, 0, 5, 1, 3, 6, 1, 3, 9, 5, 0, 5, 4, 4, 0, 1, 3, 4, 1, 4, 9, 9, 6, 2, 4, 7, 1, 5, 4, 7, 0, 2, 8, 4, 8, 5, 0, 8, 8, 9, 3, 5, 7, 4, 0, 4, 1, 5, 9, 7, 0, 6, 8, 3, 9, 0, 1, 8, 9, 6, 3, 9, 2, 4, 4, 0, 5, 3, 5, 4, 5, 1, 1, 8, 2, 2, 9, 3, 7, 8, 9, 2, 3, 1, 7, 3, 0, 5, 0, 1, 0, 3, 5, 3, 4, 7, 2, 0, 0, 3, 1, 3, 3, 7, 4, 3, 8, 4, 8, 9, 9, 4, 3, 4, 3, 6, 4, 6, 4, 6, 6, 3, 8, 7, 4, 8, 2, 5, 9, 3, 2, 0, 7, 5, 1, 9, 5, 9, 1, 1, 4, 2, 1, 6, 4, 6, 0, 1, 4, 8, 6, 1, 7, 1, 3, 4, 4, 3, 6, 9, 7, 8, 2, 5, 3, 4, 5, 4, 2, 7, 6, 5, 3, 1, 5, 7, 8, 5, 6, 0, 2, 5, 2, 3, 7, 4, 2, 1, 6, 8, 6, 8, 3, 2, 7, 3, 9, 7, 1, 4, 3, 3, 6, 1, 7, 3, 0, 0, 6, 6, 8, 6, 6, 0, 3, 4, 7, 4, 8, 4, 9, 1, 3, 4, 1, 4, 0, 3, 7, 1, 2, 2, 8, 4, 7, 8, 5, 5, 6, 5, 6, 0, 6, 2, 9, 5, 2, 7, 3, 8, 3, 9, 4, 1, 6, 9, 9, 4, 3, 9, 8, 1, 6, 9, 5, 9, 0, 9, 7, 7, 5, 4, 6, 6, 4, 8, 1, 9, 3, 6, 5, 1, 8, 6, 0, 7, 6, 5, 9, 2, 9, 6, 1, 2, 8, 1, 6, 4, 9, 0, 2, 9, 1, 0, 5, 4, 1, 6, 9, 8, 9, 0, 6, 1, 6, 2, 3, 5, 6, 9, 0, 7, 2, 2, 8, 3, 3, 8, 6, 9, 1, 9, 4, 6, 2, 3, 9, 5, 4, 1, 9, 2, 0, 7, 3, 5, 1, 8, 5, 0, 5, 0, 8, 8, 3, 9, 6, 0, 3, 5, 3, 4, 1, 4, 0, 2, 3, 9, 2, 5, 3, 1, 3, 4, 4, 9, 9, 7, 1, 7, 0, 1, 2, 1, 5, 3, 8, 4, 1, 5, 1, 9, 9, 7, 0, 1, 7, 6, 0, 6, 5, 1, 2, 1, 3, 8, 9, 9, 0, 8, 9, 5, 9, 2, 9, 1, 3, 6, 7, 6, 0, 8, 6, 2, 4, 2, 3, 5, 5, 4, 1, 6, 4, 1, 6, 1, 7, 9, 6, 2, 3, 0, 4, 2, 9, 7, 5, 5, 6, 0, 9, 8, 1, 1, 3, 5, 6, 5, 3, 8, 7, 5, 0, 7, 7, 5, 9, 1, 9, 9, 1, 1, 9, 3, 5, 5, 3, 0, 3, 0, 6, 6, 0, 6, 8, 9, 4, 5, 1, 1, 2, 6, 9, 0, 1, 0, 5, 4, 4, 7, 4, 8, 8, 2, 4, 4, 5, 5, 0, 1, 2, 9, 8, 9, 7, 3, 5, 9, 1, 9, 1, 1, 4, 6, 7, 2, 9, 3, 5, 6, 7, 0, 1, 7, 7, 3, 5, 3, 5, 1, 7, 6, 8, 4, 4, 5, 2, 3, 4, 7, 7, 6, 6, 0, 7, 2, 6, 7, 7, 1, 8, 0, 2, 2, 1, 5, 4, 0, 9, 6, 2, 4, 2, 3, 8, 5, 0, 0, 4, 6, 3, 9, 2, 0, 5, 7, 5, 5, 1, 7, 3, 1, 6, 3, 9, 0, 1, 2, 1, 4, 6, 1, 5, 9, 5, 0, 4, 1, 4, 9, 7, 1, 6, 8, 0, 6, 5, 0, 8, 1, 7, 5, 6, 9, 7, 2, 3, 9, 7, 6, 1, 0, 9, 0, 9, 8, 7, 3, 2, 2, 3, 5, 2, 9, 8, 7, 5, 9, 1, 9, 8, 6, 5, 6, 7, 5, 6, 7, 2, 5, 9, 6, 6, 7, 0, 1, 0, 1, 3, 2, 5, 6, 1, 2, 6, 1, 9, 9, 8, 6, 8, 6, 8, 9, 0, 4, 0, 3, 5, 6, 4, 3, 9, 7, 2, 3, 5, 6, 4, 6, 0, 3, 2, 3, 0, 2, 9, 2, 7, 2, 9, 2, 4, 0, 6, 6, 3, 4, 5, 5, 9, 1, 9, 3, 7, 3, 5, 5, 8, 0, 0, 5, 9, 6, 7, 4, 2, 5, 3, 6, 3, 1, 9, 6, 3, 8, 3, 8, 4, 7, 5, 7, 5, 9, 1, 2, 6, 1, 5, 2, 0, 7, 5, 0, 0, 0, 1, 6, 3, 3, 8, 4, 5, 1, 7, 6, 0, 4, 0, 4, 1, 6, 0, 1, 2, 1, 7, 7, 9, 8, 7, 5, 4, 0, 9, 0, 0, 8, 2, 0, 0, 2, 4, 8, 6, 2, 4, 6, 3, 5, 1, 5, 7, 7, 2, 2, 9, 8, 0, 0, 0, 6, 4, 2, 6, 1, 6, 5, 4, 2, 5, 9, 4, 0, 8, 0, 4, 6, 2, 7, 9, 7, 0, 5, 7, 7, 3, 1, 9, 3, 2, 1, 5, 3, 6, 9, 4, 4, 1, 7, 7, 1, 4, 1, 4, 8, 7, 0, 0, 4, 6, 2, 9, 7, 6, 1, 3, 5, 1, 0, 4, 6, 8, 3, 4, 4, 7, 1, 1, 3, 9, 7, 2, 1, 4, 8, 7, 0, 1, 6, 9, 3, 2, 7, 7, 8, 1, 0, 3, 2, 6, 7, 5, 2, 0, 1, 5, 5, 1, 4, 1, 3, 0, 8, 6, 2, 1, 6, 6, 4, 1, 9, 0, 4, 1, 0, 1, 9, 8, 6, 9, 2, 4, 7, 6, 0, 7, 4, 9, 1, 5, 2, 6, 3, 4, 4, 1, 3, 8, 3, 6, 6, 1, 6, 3, 6, 3, 8, 6, 6, 7, 1, 9, 5, 6, 0, 6, 0, 7, 1, 9, 3, 2, 6, 7, 7, 6, 5, 9, 1, 3, 6, 0, 2, 0, 1, 9, 8, 6, 5, 0, 0, 0, 5, 5, 7, 8, 5, 3, 3, 1, 6, 1, 5, 1, 0, 6, 2, 3, 2, 1, 7, 5, 1, 9, 8, 3, 7, 9, 2, 5, 0, 2, 3, 9, 4, 6, 3, 9, 6, 8, 6, 6, 8, 5, 4, 5, 6, 7, 7, 4, 6, 9, 6, 2, 4, 0, 1, 5, 6, 4, 9, 2, 6, 0, 0, 8, 7, 5, 9, 3, 8, 3, 2, 6, 3, 6, 1, 7, 3, 5, 7, 9, 0, 0, 6, 7, 2, 0, 2, 5, 7, 3, 5, 9, 4, 6, 4, 7, 2, 3, 6, 4, 1, 6, 3, 1, 6, 7, 0, 5, 0, 1, 9, 7, 3, 5, 2, 3, 9, 5, 3, 5, 0, 0, 0, 8, 0, 3, 2, 4, 5, 3, 7, 9, 6, 9, 3, 1, 2, 6, 7, 4, 4, 1, 3, 7, 0, 9, 0, 0, 7, 8, 5, 8, 5, 6, 5, 0, 8, 6, 9, 1, 8, 1, 5, 0, 9, 1, 6, 3, 6, 3, 4, 4, 7, 4, 7, 4, 2, 5, 4, 4, 5, 7, 3, 4, 5, 8, 0, 5, 4, 0, 5, 4, 3, 3, 2, 7, 2, 9, 4, 8, 8, 6, 0, 6, 1, 7, 0, 4, 2, 8, 5, 9, 7, 6, 7, 1, 0, 2, 3, 3, 6, 7, 1, 6, 2, 8, 3, 4, 2, 5, 7, 5, 7, 7, 1, 7, 4, 5, 3, 4, 0, 4, 2, 7, 0, 7, 3, 6, 6, 2, 5, 4, 6, 0, 3, 1, 2, 9, 0, 0, 1, 5, 5, 1, 6, 7, 8, 4, 6, 3, 3, 6, 0, 9, 9, 2, 2, 6, 1, 4, 6, 2, 5, 7, 0, 8, 5, 6, 4, 3, 2, 3, 4, 4, 4, 8, 9, 2, 6, 0, 9, 7, 9, 8, 7, 7, 3, 8, 2, 9, 3, 5, 7, 5, 8, 7, 3, 7, 0, 7, 1, 6, 2, 4, 1, 0, 2, 9, 8, 2, 8, 0, 4, 5, 2, 0, 1, 2, 9, 6, 1, 0, 1, 8, 6, 5, 3, 5, 7, 3, 4, 0, 3, 5, 5, 7, 2, 5, 8, 6, 5, 7, 3, 7, 0, 5, 4, 3, 6, 9, 3, 5, 5, 8, 3, 4, 6, 2, 6, 7, 6, 0, 5, 5, 8, 4, 3, 6, 1, 2, 5, 4, 7, 3, 0, 7, 2, 0, 1, 2, 4, 9, 6, 4, 5, 9, 7, 7, 6, 5, 4, 3, 1, 6, 9, 4, 8, 0, 3, 9, 6, 4, 4, 2, 1, 4, 6, 3, 0, 8, 9, 7, 6, 9, 4, 8, 1, 0, 5, 9, 9, 7, 1, 4, 5, 7, 9, 8, 6, 4, 7, 1, 3, 9, 2, 1, 4, 8, 7, 7, 1, 4, 5, 4, 6, 7, 7, 2, 4, 4, 4, 3, 6, 6, 1, 9, 9, 2, 9, 4, 5, 2, 9, 8, 5, 0, 6, 9, 0, 9, 7, 8, 5, 4, 4, 9, 8, 3, 6, 6, 9, 9, 7, 9, 9, 0, 5, 1, 1, 0, 6, 9, 9, 5, 6, 5, 5, 9, 7, 9, 4, 5, 4, 5, 2, 9, 8, 8, 3, 7, 8, 7, 0, 2, 0, 7, 2, 8, 0, 2, 0, 7, 4, 0, 6, 2, 3, 1, 7, 4, 6, 4, 0, 6, 9, 5, 6, 6, 3, 0, 5, 2, 6, 3, 3, 0, 0, 8, 3, 4, 2, 9, 5, 0, 5, 2, 8, 2, 7, 6, 5, 7, 8, 2, 0, 1, 8, 2, 4, 8, 4, 3, 0, 4, 0, 1, 9, 0, 0, 4, 2, 5, 2, 2, 8, 5, 0, 9, 7, 5, 2, 4, 3, 7, 0, 2, 3, 1, 0, 0, 5, 1, 7, 1, 4, 6, 7, 1, 0, 5, 6, 5, 9, 2, 5, 6, 7, 1, 9, 9, 6, 1, 0, 2, 9, 4, 2, 9, 2, 8, 2, 9, 8, 5, 1, 0, 1, 5, 2, 5, 6, 8, 8, 3, 2, 0, 4, 1, 3, 7, 0, 8, 2, 9, 2, 0, 9, 9, 8, 3, 9, 2, 5, 9, 9, 4, 7, 1, 3, 6, 4, 4, 8, 9, 0, 0, 1, 2, 6, 9, 3, 7, 5, 1, 9, 3, 5, 2, 4, 1, 1, 3, 3, 9, 2, 7, 8, 0, 1, 1, 5, 1, 7, 9, 0, 9, 2, 4, 0, 6, 9, 1, 1, 3, 3, 9, 5, 3, 3, 2, 3, 7, 1, 3, 9, 8, 7, 4, 8, 7, 4, 5, 2, 5, 8, 9, 7, 2, 0, 0, 7, 5, 3, 5, 7, 4, 6, 2, 9, 2, 7, 7, 6, 1, 3, 8, 6, 2, 0, 0, 4, 8, 6, 4, 0, 2, 5, 4, 9, 2, 4, 4, 5, 9, 2, 0, 5, 2, 0, 8, 2, 6, 4, 7, 9, 5, 7, 2, 6, 2, 1, 9, 9, 7, 2, 5, 1, 8, 1, 6, 3, 0, 8, 8, 5, 6, 9, 9, 9, 6, 3, 0, 8, 8, 5, 3, 4, 1, 1, 0, 7, 0, 3, 0, 4, 4, 6, 5, 3, 2, 9, 6, 6, 7, 0, 7, 7, 0, 8, 4, 2, 7, 7, 7, 4, 0, 8, 6, 0, 3, 3, 0, 2, 4, 9, 7, 3, 3, 2, 8, 8, 2, 5, 8, 0, 8, 0, 0, 0, 2, 0, 9, 0, 7, 4, 7, 3, 2, 0, 4, 0, 3, 7, 8, 2, 7, 9, 6, 9, 1, 6, 9, 3, 8, 9, 5, 8, 3, 9, 4, 2, 7, 5, 4, 2, 7, 5, 7, 9, 6, 3, 0, 8, 4, 5, 6, 1, 0, 4, 8, 4, 7, 1, 3, 2, 0, 9, 1, 8, 0, 6, 8, 1, 7, 1, 0, 1, 7, 6, 4, 4, 8, 2, 1, 2, 6, 8, 1, 1, 8, 8, 8, 9, 8, 0, 2, 4, 3, 5, 6, 2, 3, 1, 4, 4, 7, 8, 0, 1, 4, 8, 4, 6, 2, 2, 2, 6, 3, 4, 0, 8, 1, 3, 5, 3, 8, 9, 1, 6, 1, 9, 8, 2, 0, 7, 7, 4, 0, 8, 4, 6, 8, 9, 6, 6, 2, 8, 8, 3, 9, 1, 0, 7, 7, 2, 4, 7, 5, 2, 6, 6, 7, 4, 5, 7, 0, 9, 9, 7, 2, 5, 2, 2, 2, 7, 6, 2, 6, 4, 1, 6, 8, 3, 8, 5, 5, 2, 3, 4, 5, 2, 7, 5, 1, 5, 3, 7, 8, 8, 9, 3, 0, 0, 2, 6, 0, 8, 1, 4, 1, 2, 5, 1, 8, 9, 6, 2, 5, 9, 5, 6, 3, 9, 1, 4, 2, 9, 9, 5, 4, 7, 0, 3, 7, 1, 6, 9, 0, 1, 4, 0, 5, 1, 6, 3, 8, 2, 7, 5, 5, 2, 9, 2, 2, 1, 6, 6, 7, 0, 8, 9, 2, 2, 4, 7, 5, 5, 8, 8, 7, 8, 5, 7, 4, 4, 0, 0, 7, 0, 4, 0, 4, 4, 2, 5, 4, 0, 7, 7, 7, 0, 4, 3, 2, 2, 1, 1, 3, 8, 9, 1, 0, 6, 5, 3, 0, 9, 0, 6, 2, 2, 4, 1, 5, 7, 6, 1, 0, 4, 4, 0, 4, 4, 2, 7, 6, 4, 3, 5, 9, 2, 5, 2, 0, 5, 2, 2, 3, 9, 4, 5, 8, 1, 9, 3, 1, 8, 5, 8, 6, 4, 3, 4, 0, 5, 3, 2, 6, 1, 8, 4, 1, 4, 6, 2, 2, 3, 3, 5, 0, 2, 1, 2, 8, 0, 8, 2, 2, 7, 3, 7, 9, 8, 3, 6, 1, 0, 8, 6, 3, 5, 8, 9, 4, 7, 0, 0, 2, 9, 1, 8, 3, 7, 2, 8, 2, 9, 3, 8, 9, 0, 8, 9, 5, 4, 8, 9, 5, 5, 7, 2, 5, 8, 8, 1, 2, 4, 1, 5, 9, 2, 2, 0, 8, 2, 2, 8, 7, 6, 5, 6, 9, 6, 3, 5, 1, 1, 7, 7, 8, 3, 8, 9, 6, 0, 8, 0, 2, 6, 4, 6, 9, 1, 1, 7, 0, 6, 8, 9, 0, 6, 1, 0, 1, 1, 7, 2, 1, 3, 4, 5, 0, 3, 6, 2, 3, 8, 1, 8, 1, 6, 1, 5, 4, 5, 1, 2, 9, 1, 3, 1, 7, 2, 9, 8, 9, 4, 6, 8, 9, 7, 2, 4, 4, 2, 1, 1, 0, 0, 3, 6, 0, 3, 4, 6, 9, 6, 7, 9, 6, 3, 6, 5, 9, 8, 5, 1, 2, 2, 9, 7, 0, 0, 1, 3, 4, 5, 5, 9, 6, 3, 6, 2, 6, 8, 3, 5, 3, 7, 4, 9, 5, 2, 1, 6, 6, 4, 7, 6, 9, 6, 8, 1, 4, 6, 4, 4, 5, 6, 1, 0, 5, 2, 3, 5, 2, 5, 0, 5, 9, 0, 6, 7, 9, 8, 3, 2, 1, 4, 2, 4, 5, 5, 6, 8, 6, 0, 0, 9, 2, 0, 7, 7, 6, 6, 0, 4, 9, 8, 4, 9, 5, 6, 0, 4, 0, 6, 5, 9, 1, 3, 9, 8, 0, 7, 4, 4, 0, 2, 1, 9, 1, 0, 5, 8, 4, 7, 3, 1, 4, 3, 4, 1, 0, 5, 8, 8, 8, 1, 6, 7, 0, 8, 6, 9, 1, 6, 0, 7, 7, 1, 3, 3, 3, 1, 0, 2, 7, 9, 2, 2, 9, 6, 3, 5, 9, 4, 8, 0, 4, 8, 0, 9, 2, 5, 0, 4, 0, 0, 8, 6, 4, 3, 9, 8, 2, 2, 8, 3, 1, 1, 0, 8, 2, 6, 9, 6, 8, 4, 4, 1, 5, 2, 6, 9, 0, 0, 7, 1, 8, 9, 3, 9, 9, 0, 7, 7, 0, 2, 2, 6, 4, 5, 7, 7, 8, 7, 2, 6, 2, 2, 4, 4, 0, 7, 1, 5, 9, 6, 0, 0, 2, 3, 8, 3, 2, 4, 3, 5, 0, 9, 1, 0, 0, 1, 5, 0, 5, 9, 9, 6, 5, 5, 6, 5, 3, 1, 6, 6, 4, 1, 6, 4, 1, 5, 0, 0, 2, 5, 8, 2, 8, 5, 0, 7, 0, 5, 3, 1, 5, 7, 0, 9, 1, 5, 7, 6, 5, 5, 3, 6, 0, 0, 1, 7, 3, 1, 9, 2, 4, 6, 6, 7, 8, 2, 0, 9, 6, 6, 0, 6, 5, 8, 2, 7, 4, 0, 2, 7, 7, 8, 8, 2, 0, 4, 9, 1, 4, 0, 5, 2, 4, 6, 2, 3, 1, 0, 3, 3, 3, 6, 3, 1, 2, 3, 0, 7, 9, 3, 8, 7, 3, 1, 7, 7, 3, 2, 2, 8, 9, 5, 9, 2, 1, 7, 4, 4, 0, 3, 7, 1, 5, 4, 2, 8, 4, 9, 8, 7, 8, 4, 2, 3, 4, 0, 5, 4, 1, 8, 2, 5, 4, 5, 2, 2, 3, 7, 9, 7, 1, 4, 9, 3, 1, 4, 5, 5, 1, 7, 1, 3, 0, 1, 2, 5, 7, 0, 6, 3, 5, 7, 5, 5, 8, 9, 4, 6, 3, 6, 6, 8, 2, 6, 4, 8, 4, 1, 5, 9, 2, 3, 2, 0, 1, 6, 2, 2, 0, 2, 4, 4, 1, 4, 4, 4, 4, 1, 5, 5, 7, 6, 5, 4, 5, 6, 5, 6, 2, 4, 7, 7, 4, 6, 5, 0, 2, 3, 9, 1, 3, 8, 0, 7, 0, 6, 8, 1, 5, 8, 9, 1, 5, 4, 2, 5, 5, 5, 2, 6, 5, 0, 3, 5, 1, 3, 3, 7, 7, 4, 9, 4, 3, 9, 5, 1, 7, 6, 6, 4, 8, 4, 1, 5, 8, 4, 3, 3, 3, 3, 9, 4, 8, 7, 7, 9, 2, 8, 4, 4, 9, 1, 0, 3, 3, 3, 8, 0, 5, 5, 4, 6, 9, 2, 7, 2, 0, 5, 6, 9, 7, 5, 0, 7, 8, 3, 5, 5, 3, 8, 7, 7, 1, 6, 5, 0, 9, 0, 1, 1, 4, 0, 0, 1, 7, 2, 5, 8, 5, 9, 8, 2, 8, 0, 6, 6, 8, 6, 9, 3, 1, 1, 5, 3, 5, 0, 7, 6, 1, 4, 6, 1, 1, 8, 1, 1, 2, 3, 4, 9, 9, 5, 2, 7, 2, 3, 6, 9, 6, 9, 8, 8, 6, 7, 4, 7, 2, 5, 8, 0, 9, 0, 7, 8, 1, 2, 4, 2, 4, 2, 9, 0, 8, 8, 9, 6, 5, 5, 2, 3, 1, 0, 6, 1, 8, 4, 5, 5, 5, 0, 8, 9, 0, 7, 7, 9, 6, 5, 4, 6, 4, 9, 7, 1, 2, 5, 2, 1, 0, 3, 6, 9, 8, 1, 9, 7, 7, 6, 1, 6, 1, 1, 3, 8, 8, 1, 9, 3, 8, 9, 3, 1, 1, 6, 9, 7, 2, 6, 4, 6, 9, 6, 0, 1, 5, 9, 3, 8, 2, 8, 2, 9, 1, 6, 6, 0, 5, 0, 7, 7, 7, 9, 4, 5, 0, 0, 3, 3, 1, 8, 9, 1, 2, 7, 1, 3, 4, 6, 9, 1, 5, 7, 1, 9, 5, 8, 8, 9, 8, 5, 9, 8, 7, 0, 2, 6, 0, 2, 2, 4, 0, 8, 4, 8, 1, 5, 7, 2, 3, 9, 3, 2, 2, 9, 2, 6, 5, 4, 2, 5, 6, 5, 1, 1, 2, 6, 8, 6, 7, 0, 8, 0, 0, 1, 0, 6, 8, 8, 6, 6, 0, 7, 9, 8, 0, 5, 0, 9, 6, 0, 4, 7, 1, 7, 8, 8, 4, 3, 9, 4, 5, 5, 3, 1, 5, 3, 0, 2, 5, 2, 3, 3, 8, 4, 4, 6, 1, 9, 4, 1, 7, 0, 8, 0, 5, 0, 2, 9, 4, 5, 0, 3, 3, 7, 2, 3, 0, 1, 3, 7, 9, 9, 0, 7, 7, 6, 7, 1, 2, 3, 7, 2, 6, 8, 6, 9, 8, 7, 9, 5, 3, 4, 0, 2, 5, 6, 3, 5, 3, 5, 8, 3, 4, 2, 9, 5, 6, 7, 8, 6, 1, 8, 4, 5, 8, 6, 5, 9, 0, 4, 2, 0, 5, 9, 9, 3, 8, 0, 6, 0, 2, 0, 7, 8, 4, 6, 9, 1, 5, 0, 4, 7, 1, 3, 1, 5, 5, 0, 2, 2, 8, 8, 5, 0, 0, 7, 0, 4, 1, 4, 5, 0, 9, 2, 6, 7, 6, 0, 0, 0, 4, 5, 3, 2, 6, 4, 2, 7, 8, 9, 1, 0, 1, 3, 6, 4, 8, 0, 6, 0, 9, 1, 6, 2, 1, 0, 1, 3, 0, 4, 7, 9, 1, 3, 7, 5, 7, 1, 6, 6, 9, 8, 1, 4, 3, 0, 1, 7, 0, 1, 2, 1, 1, 3, 4, 6, 9, 9, 3, 2, 0, 8, 7, 3, 2, 6, 4, 6, 9, 7, 8, 9, 3, 0, 5, 7, 2, 2, 0, 9, 9, 3, 8, 7, 1, 1, 2, 2, 6, 2, 9, 1, 2, 6, 1, 6, 1, 8, 9, 2, 3, 1, 9, 9, 5, 4, 3, 5, 0, 3, 7, 7, 1, 7, 7, 1, 8, 3, 3, 5, 5, 1, 6, 2, 7, 8, 8, 5, 3, 5, 9, 8, 8, 5, 1, 0, 6, 5, 0, 9, 6, 0, 0, 8, 7, 1, 2, 6, 9, 1, 6, 4, 7, 1, 9, 0, 0, 6, 2, 8, 3, 8, 2, 0, 4, 0, 8, 3, 7, 1, 2, 3, 0, 5, 0, 4, 1, 7, 2, 0, 1, 3, 9, 1, 6, 1, 6, 1, 2, 3, 7, 2, 0, 5, 3, 8, 0, 1, 3, 9, 7, 1, 9, 2, 1, 9, 7, 3, 6, 0, 2, 0, 0, 9, 3, 8, 9, 4, 5, 4, 3, 0, 7, 8, 7, 3, 3, 3, 4, 6, 5, 9, 3, 2, 3, 2, 7, 9, 6, 7, 0, 7, 1, 2, 3, 1, 1, 3, 6, 8, 3, 7, 7, 0, 8, 1, 5, 2, 6, 5, 3, 6, 3, 3, 9, 8, 4, 3, 8, 0, 4, 1, 7, 8, 4, 9, 3, 2, 6, 3, 8, 8, 6, 7, 3, 8, 9, 1, 5, 3, 7, 9, 9, 9, 8, 5, 9, 9, 6, 8, 8, 6, 8, 1, 0, 1, 8, 8, 6, 5, 9, 0, 6, 1, 6, 6, 6, 3, 5, 6, 5, 3, 3, 3, 6, 9, 9, 4, 2, 3, 8, 3, 6, 0, 8, 5, 7, 8, 4, 6, 5, 3, 1, 8, 9, 0, 4, 4, 3, 3, 5, 3, 3, 2, 7, 7, 8, 4, 0, 5, 6, 6, 1, 1, 3, 9, 9, 3, 9, 7, 1, 8, 3, 9, 9, 7, 8, 8, 0, 4, 2, 3, 1, 7, 2, 7, 1, 8, 7, 3, 5, 4, 4, 3, 8, 6, 1, 1, 6, 3, 2, 2, 1, 9, 8, 3, 3, 8, 1, 1, 0, 5, 2, 0, 5, 6, 5, 0, 6, 3, 9, 6, 6, 5, 0, 4, 8, 3, 4, 3, 1, 1, 2, 9, 5, 8, 5, 5, 8, 7, 9, 0, 8, 0, 3, 1, 5, 3, 5, 5, 3, 8, 1, 4, 6, 4, 5, 4, 3, 8, 9, 6, 2, 6, 2, 3, 2, 7, 7, 4, 4, 0, 3, 8, 2, 7, 7, 8, 5, 2, 9, 1, 6, 5, 3, 5, 3, 8, 5, 6, 1, 3, 7, 9, 6, 1, 3, 7, 9, 0, 5, 7, 4, 9, 1, 8, 0, 2, 7, 1, 5, 3, 0, 6, 1, 6, 6, 4, 6, 2, 3, 8, 4, 4, 7, 8, 5, 8, 9, 3, 3, 2, 2, 1, 3, 0, 1, 1, 1, 1, 6, 8, 7, 1, 2, 0, 4, 5, 0, 3, 0, 6, 7, 2, 9, 8, 6, 8, 3, 8, 2, 9, 6, 0, 6, 1, 8, 7, 3, 2, 2, 6, 5, 2, 9, 2, 3, 4, 9, 8, 7, 5, 9, 3, 5, 7, 1, 8, 3, 8, 6, 7, 5, 1, 3, 0, 3, 1, 9, 1, 4, 9, 2, 1, 2, 4, 5, 9, 8, 7, 2, 1, 6, 9, 7, 3, 6, 3, 8, 8, 2, 0, 4, 9, 4, 5, 5, 4, 0, 3, 1, 0, 2, 0, 4, 2, 9, 1, 5, 2, 9, 2, 1, 1, 0, 4, 1, 9, 4, 8, 1, 1, 1, 5, 9, 0, 1, 6, 7, 2, 9, 9, 7, 8, 8, 1, 8, 7, 8, 8, 1, 6, 6, 3, 3, 1, 3, 0, 8, 8, 2, 6, 6, 7, 1, 0, 7, 6, 4, 1, 6, 0, 6, 6, 8, 6, 5, 9, 1, 8, 6, 3, 0, 5, 4, 3, 0, 1, 7, 8, 6, 0, 1, 7, 0, 8, 7, 3, 6, 7, 0, 0, 4, 9, 0, 6, 2, 1, 5, 8, 6, 8, 1, 9, 6, 7, 6, 5, 0, 6, 0, 1, 3, 1, 1, 5, 3, 4, 3, 3, 8, 1, 6, 6, 1, 8, 8, 6, 2, 7, 4, 6, 8, 9, 3, 5, 3, 7, 3, 1, 4, 1, 9, 5, 3, 7, 7, 7, 5, 2, 3, 2, 6, 6, 6, 4, 0, 7, 1, 7, 3, 0, 0, 1, 2, 4, 1, 2, 2, 2, 9, 8, 4, 8, 7, 6, 3, 4, 7, 2, 3, 1, 5, 3, 0, 4, 3, 4, 9, 4, 7, 9, 1, 7, 8, 3, 1, 8, 3, 2, 5, 7, 2, 7, 9, 6, 8, 6, 0, 6, 5, 9, 0, 4, 8, 5, 6, 5, 3, 8, 0, 4, 8, 6, 7, 2, 7, 1, 7, 4, 1, 3, 4, 2, 2, 8, 7, 2, 0, 6, 7, 7, 6, 8, 9, 9, 5, 5, 2, 9, 8, 7, 2, 3, 3, 7, 4, 3, 2, 1, 9, 8, 1, 5, 3, 2, 6, 5, 9, 1, 3, 4, 3, 6, 2, 0, 9, 7, 8, 0, 8, 9, 1, 2, 5, 7, 2, 0, 6, 6, 1, 2, 3, 3, 5, 0, 0, 7, 4, 6, 5, 6, 4, 8, 3, 4, 5, 5, 0, 6, 6, 7, 3, 0, 9, 9, 6, 1, 0, 7, 6, 2, 2, 9, 2, 6, 6, 8, 2, 1, 0, 1, 9, 1, 7, 3, 3, 0, 2, 7, 6, 4, 3, 1, 8, 2, 0, 0, 9, 6, 6, 6, 8, 7, 4, 1, 8, 1, 2, 2, 4, 8, 3, 2, 6, 5, 7, 9, 1, 0, 7, 2, 8, 4, 0, 0, 6, 2, 2, 4, 0, 5, 9, 7, 1, 8, 7, 5, 5, 9, 8, 5, 7, 8, 0, 9, 8, 9, 1, 6, 7, 8, 7, 3, 7, 4, 8, 4, 8, 9, 8, 6, 0, 0, 8, 2, 0, 4, 2, 7, 6, 0, 5, 8, 4, 1, 9, 0, 1, 4, 4, 8, 4, 9, 6, 0, 7, 4, 6, 8, 9, 2, 2, 0, 4, 9, 4, 9, 3, 9, 2, 6, 5, 0, 9, 7, 1, 8, 0, 0, 6, 4, 7, 1, 9, 4, 6, 7, 9, 8, 3, 9, 4, 1, 2, 7, 6, 1, 0, 0, 5, 6, 0, 4, 3, 3, 8, 8, 0, 6, 0, 3, 2, 8, 7, 0, 6, 5, 9, 4, 2, 5, 6, 0, 6, 2, 2, 4, 1, 0, 5, 9, 8, 9, 3, 5, 9, 3, 8, 1, 6, 3, 7, 5, 6, 2, 0, 2, 5, 2, 8, 7, 7, 8, 1, 0, 8, 9, 7, 0, 3, 8, 0, 5, 9, 5, 8, 4, 2, 0, 9, 2, 4, 5, 4, 9, 2, 3, 5, 3, 1, 3, 2, 0, 0, 4, 9, 6, 3, 8, 0, 5, 8, 6, 4, 8, 5, 2, 9, 7, 9, 7, 1, 0, 1, 9, 6, 9, 2, 7, 9, 6, 4, 0, 6, 2, 4, 1, 3, 7, 3, 8, 3, 9, 0, 3, 3, 3, 4, 7, 6, 3, 2, 5, 9, 0, 5, 9, 9, 8, 7, 7, 4, 8, 6, 7, 2, 3, 1, 0, 4, 1, 8, 8, 4, 9, 4, 4, 0, 3, 9, 5, 0, 1, 1, 8, 3, 4, 8, 3, 5, 9, 5, 7, 6, 6, 5, 4, 7, 3, 3, 9, 0, 9, 5, 9, 5, 0, 6, 0, 4, 2, 2, 5, 6, 3, 8, 9, 5, 6, 1, 4, 5, 4, 6, 7, 2, 1, 0, 2, 0, 4, 9, 8, 8, 9, 1, 1, 5, 0, 0, 8, 7, 1, 7, 4, 5, 4, 3, 3, 2, 0, 6, 6, 0, 1, 3, 9, 8, 3, 7, 8, 9, 4, 8, 9, 0, 1, 7, 1, 6, 2, 9, 5, 4, 0, 5, 9, 8, 7, 7, 1, 6, 0, 3, 9, 3, 1, 4, 3, 1, 8, 2, 0, 9, 3, 9, 8, 8, 6, 7, 3, 7, 1, 3, 9, 0, 9, 2, 6, 7, 2, 5, 3, 0, 5, 9, 7, 5, 5, 3, 6, 5, 1, 8, 2, 7, 3, 9, 0, 0, 2, 0, 8, 4, 3, 7, 8, 9, 0, 7, 9, 7, 8, 7, 9, 8, 5, 4, 8, 7, 7, 3, 3, 8, 2, 9, 9, 3, 3, 9, 9, 5, 7, 8, 7, 3, 5, 3, 5, 9, 7, 6, 4, 4, 6, 4, 5, 9, 2, 2, 1, 9, 6, 0, 2, 6, 7, 4, 7, 9, 0, 7, 4, 3, 5, 3, 1, 1, 2, 6, 8, 2, 9, 5, 8, 5, 0, 6, 9, 8, 5, 0, 6, 0, 9, 2, 6, 0, 8, 9, 3, 5, 6, 2, 9, 1, 5, 8, 8, 7, 1, 7, 4, 5, 4, 9, 7, 3, 2, 9, 9, 4, 6, 2, 1, 3, 8, 7, 9, 0, 4, 5, 7, 5, 2, 8, 7, 6, 9, 6, 9, 3, 8, 5, 6, 6, 9, 5, 7, 8, 0, 3, 0, 7, 3, 8, 2, 5, 5, 3, 2, 2, 6, 5, 1, 7, 7, 6, 5, 1, 3, 7, 2, 1, 3, 7, 0, 8, 4, 4, 5, 7, 7, 5, 4, 5, 1, 6, 8, 8, 3, 3, 1, 6, 1, 7, 0, 3, 4, 0, 9, 4, 5, 8, 7, 3, 0, 9, 6, 8, 0, 8, 2, 8, 5, 7, 7, 2, 2, 0, 0, 9, 4, 4, 1, 6, 6, 1, 8, 1, 0, 9, 0, 1, 6, 3, 0, 9, 6, 6, 6, 6, 3, 4, 8, 8, 4, 1, 4, 0, 6, 5, 9, 9, 9, 1, 9, 1, 4, 2, 5, 4, 2, 9, 6, 0, 9, 6, 6, 8, 0, 6, 9, 4, 6, 8, 0, 5, 4, 1, 2, 0, 9, 6, 4, 3, 4, 6, 5, 9, 7, 7, 4, 6, 2, 0, 1, 9, 0, 3, 5, 9, 0, 9, 3, 8, 6, 7, 6, 8, 4, 4, 5, 1, 0, 3, 6, 1, 7, 5, 9, 3, 4, 3, 3, 1, 5, 3, 1, 1, 0, 9, 2, 5, 4, 9, 7, 8, 1, 0, 2, 8, 5, 6, 4, 0, 9, 4, 8, 4, 4, 6, 6, 3, 8, 1, 8, 4, 6, 5, 9, 2, 2, 1, 4, 9, 1, 6, 7, 2, 0, 1, 4, 6, 5, 2, 2, 5, 3, 0, 0, 0, 1, 5, 3, 3, 5, 8, 7, 5, 6, 5, 8, 0, 5, 9, 4, 6, 5, 1, 1, 0, 3, 3, 9, 4, 8, 1, 7, 7, 9, 9, 4, 8, 6, 3, 2, 8, 3, 7, 6, 7, 0, 2, 9, 2, 9, 4, 6, 9, 6, 1, 0, 1, 8, 7, 9, 0, 7, 7, 4, 3, 6, 9, 5, 9, 0, 7, 4, 5, 8, 1, 4, 7, 9, 9, 8, 8, 6, 3, 7, 0, 8, 9, 8, 2, 6, 6, 2, 9, 7, 7, 6, 8, 5, 6, 1, 3, 5, 9, 1, 1, 3, 0, 0, 3, 0, 2, 0, 7, 3, 9, 3, 5, 7, 6, 5, 9, 5, 6, 1, 2, 4, 0, 2, 7, 8, 4, 4, 0, 9, 6, 9, 3, 9, 3, 2, 5, 3, 2, 2, 8, 8, 1, 0, 1, 6, 2, 6, 9, 2, 8, 4, 9, 1, 5, 7, 1, 3, 0, 1, 5, 0, 8, 1, 1, 3, 5, 1, 8, 1, 8, 5, 1, 1, 0, 5, 9, 4, 0, 5, 1, 2, 0, 4, 9, 5, 1, 2, 4, 7, 8, 7, 2, 4, 5, 6, 7, 0, 4, 1, 5, 9, 8, 0, 2, 2, 4, 6, 0, 6, 9, 7, 5, 0, 4, 6, 0, 6, 0, 6, 8, 1, 9, 8, 9, 7, 2, 9, 0, 2, 0, 9, 0, 2, 5, 7, 7, 9, 1, 7, 9, 8, 4, 5, 0, 8, 0, 3, 5, 2, 0, 4, 4, 8, 9, 7, 8, 2, 6, 6, 0, 1, 1, 1, 8, 1, 7, 4, 0, 7, 8, 2, 1, 2, 5, 3, 6, 0, 5, 7, 0, 4, 6, 9, 2, 8, 8, 0, 8, 7, 4, 1, 8, 4, 9, 5, 7, 1, 7, 7, 7, 7, 0, 3, 8, 5, 4, 0, 5, 7, 0, 8, 0, 0, 9, 2, 0, 3, 7, 8, 4, 2, 6, 3, 2, 2, 2, 9, 2, 0, 1, 7, 5, 5, 7, 5, 0, 4, 6, 0, 7, 3, 8, 0, 8, 4, 7, 0, 3, 5, 3, 3, 3, 5, 1, 7]\n",
            "[3, 8, 8, 0, 6, 6, 1, 6, 3, 1, 0, 9, 5, 7, 9, 8, 5, 7, 8, 6, 7, 0, 4, 9, 5, 2, 4, 0, 9, 6, 6, 5, 4, 5, 9, 2, 4, 1, 9, 5, 4, 6, 5, 6, 0, 9, 3, 9, 7, 6, 9, 8, 0, 3, 8, 8, 7, 7, 4, 6, 7, 3, 6, 3, 6, 2, 1, 2, 3, 7, 2, 6, 8, 8, 0, 2, 9, 3, 3, 8, 8, 1, 1, 7, 2, 5, 2, 7, 8, 9, 0, 3, 8, 6, 4, 6, 6, 0, 0, 7, 4, 5, 6, 3, 1, 1, 3, 6, 8, 7, 4, 0, 6, 2, 1, 3, 0, 4, 2, 7, 8, 3, 1, 2, 8, 0, 8, 3, 5, 2, 4, 1, 8, 9, 1, 2, 9, 7, 2, 9, 6, 5, 6, 3, 8, 7, 6, 2, 5, 2, 8, 9, 6, 0, 0, 5, 2, 9, 5, 4, 2, 1, 6, 6, 8, 4, 8, 4, 5, 0, 9, 9, 9, 8, 9, 9, 3, 7, 5, 0, 0, 5, 2, 2, 3, 8, 6, 3, 4, 0, 5, 8, 0, 1, 7, 2, 8, 8, 7, 8, 5, 1, 8, 7, 1, 3, 0, 5, 7, 9, 7, 4, 5, 9, 8, 0, 7, 9, 8, 2, 7, 6, 9, 4, 3, 9, 6, 4, 7, 6, 5, 1, 5, 8, 8, 0, 4, 0, 5, 5, 1, 1, 8, 9, 0, 3, 1, 9, 2, 2, 5, 3, 9, 9, 4, 0, 3, 0, 0, 9, 8, 1, 5, 7, 0, 8, 2, 4, 7, 0, 2, 3, 6, 3, 8, 5, 0, 3, 4, 3, 9, 0, 6, 1, 0, 9, 1, 0, 7, 9, 1, 2, 6, 9, 3, 4, 6, 0, 0, 6, 6, 6, 3, 2, 6, 1, 8, 2, 1, 6, 8, 6, 8, 0, 4, 0, 7, 7, 5, 5, 3, 5, 2, 3, 4, 1, 7, 5, 4, 6, 1, 9, 3, 6, 6, 9, 3, 8, 0, 7, 2, 6, 2, 5, 8, 5, 4, 6, 8, 9, 9, 1, 0, 2, 2, 7, 3, 2, 8, 0, 9, 5, 8, 1, 9, 4, 1, 3, 8, 1, 4, 7, 9, 4, 2, 7, 0, 7, 0, 6, 6, 9, 0, 9, 2, 8, 7, 2, 2, 5, 1, 2, 6, 2, 9, 6, 2, 3, 0, 3, 9, 8, 7, 8, 8, 4, 0, 1, 8, 2, 7, 9, 3, 6, 1, 9, 0, 7, 3, 7, 4, 5, 0, 0, 2, 9, 3, 4, 0, 6, 2, 5, 3, 7, 3, 7, 2, 5, 3, 1, 1, 4, 9, 9, 5, 7, 5, 0, 2, 2, 2, 9, 7, 3, 9, 4, 3, 5, 4, 6, 5, 6, 1, 4, 3, 4, 4, 3, 7, 8, 3, 7, 8, 0, 5, 7, 6, 0, 5, 4, 8, 6, 8, 5, 5, 9, 9, 9, 5, 0, 1, 0, 8, 1, 1, 8, 0, 2, 2, 0, 4, 6, 5, 4, 9, 4, 7, 9, 9, 4, 5, 6, 6, 1, 5, 3, 8, 9, 5, 8, 5, 7, 0, 7, 0, 5, 0, 0, 4, 6, 9, 0, 9, 5, 6, 6, 6, 2, 9, 0, 1, 7, 6, 7, 5, 9, 1, 6, 2, 5, 5, 5, 8, 5, 9, 4, 6, 4, 3, 2, 0, 7, 6, 2, 2, 3, 9, 7, 9, 2, 6, 7, 1, 3, 6, 6, 8, 9, 7, 5, 4, 0, 8, 4, 0, 9, 3, 4, 8, 9, 6, 9, 2, 6, 1, 4, 7, 3, 5, 3, 8, 5, 0, 2, 1, 6, 4, 3, 3, 9, 6, 9, 8, 8, 5, 8, 6, 6, 2, 1, 7, 7, 1, 2, 7, 9, 9, 4, 4, 1, 2, 5, 6, 8, 7, 6, 8, 3, 0, 5, 5, 3, 0, 7, 9, 1, 3, 4, 4, 5, 3, 9, 5, 6, 9, 2, 1, 1, 4, 1, 9, 4, 7, 6, 3, 8, 9, 0, 1, 3, 6, 3, 6, 3, 2, 0, 3, 1, 0, 5, 9, 6, 4, 8, 9, 6, 9, 6, 3, 0, 3, 2, 2, 7, 8, 3, 8, 2, 7, 5, 7, 2, 4, 8, 7, 4, 2, 9, 8, 8, 6, 8, 8, 7, 4, 3, 3, 8, 4, 9, 4, 8, 8, 1, 8, 2, 1, 3, 6, 5, 4, 2, 7, 9, 9, 4, 1, 4, 1, 3, 2, 7, 0, 7, 9, 7, 6, 6, 2, 5, 9, 2, 9, 1, 2, 2, 6, 8, 2, 1, 3, 6, 6, 0, 1, 2, 7, 0, 5, 4, 6, 1, 6, 4, 0, 2, 2, 6, 0, 5, 9, 1, 7, 6, 7, 0, 3, 9, 6, 8, 3, 0, 3, 4, 7, 7, 1, 4, 7, 2, 7, 1, 4, 7, 4, 4, 8, 4, 7, 7, 5, 3, 7, 2, 0, 8, 9, 5, 8, 3, 6, 2, 0, 8, 7, 3, 7, 6, 5, 3, 1, 3, 2, 2, 5, 4, 1, 2, 9, 2, 7, 0, 7, 2, 1, 3, 2, 0, 2, 4, 7, 9, 8, 9, 0, 7, 7, 0, 7, 8, 4, 6, 3, 3, 0, 1, 3, 7, 0, 1, 3, 1, 4, 2, 3, 8, 4, 2, 3, 7, 8, 4, 3, 0, 9, 0, 0, 1, 0, 4, 4, 6, 7, 6, 1, 1, 3, 7, 3, 5, 2, 6, 6, 5, 8, 7, 1, 6, 8, 8, 5, 3, 0, 4, 0, 1, 3, 8, 8, 0, 6, 9, 9, 9, 5, 5, 8, 6, 0, 0, 4, 2, 3, 2, 7, 2, 2, 5, 9, 8, 9, 1, 7, 4, 0, 3, 0, 1, 3, 8, 3, 9, 6, 1, 4, 7, 0, 3, 7, 8, 9, 1, 1, 6, 6, 6, 6, 9, 1, 9, 9, 4, 2, 1, 7, 0, 6, 8, 1, 9, 2, 9, 0, 4, 7, 8, 3, 1, 2, 0, 1, 5, 8, 4, 6, 3, 8, 1, 3, 8, 5, 0, 8, 4, 8, 1, 1, 8, 9, 6, 0, 8, 6, 1, 3, 4, 1, 6, 0, 5, 1, 1, 0, 0, 3, 5, 0, 0, 6, 6, 3, 3, 6, 3, 6, 6, 0, 7, 2, 2, 7, 5, 5, 2, 8, 5, 2, 1, 1, 4, 3, 2, 0, 3, 1, 5, 3, 7, 6, 8, 9, 1, 6, 4, 9, 3, 9, 0, 9, 6, 3, 6, 0, 7, 3, 8, 0, 0, 0, 6, 6, 6, 9, 2, 5, 4, 4, 6, 3, 6, 0, 8, 6, 0, 6, 2, 7, 5, 1, 2, 7, 8, 8, 0, 9, 4, 9, 7, 2, 0, 2, 8, 3, 8, 9, 1, 5, 5, 4, 7, 5, 3, 8, 3, 3, 6, 2, 8, 4, 3, 7, 1, 2, 4, 1, 6, 9, 0, 5, 8, 6, 1, 8, 6, 1, 4, 2, 6, 2, 7, 2, 2, 0, 8, 6, 9, 1, 7, 1, 8, 8, 0, 7, 3, 8, 0, 3, 4, 3, 7, 7, 9, 2, 3, 1, 9, 1, 9, 6, 3, 3, 3, 1, 0, 6, 1, 4, 1, 0, 0, 1, 1, 6, 5, 4, 6, 2, 0, 7, 9, 8, 7, 2, 0, 6, 8, 1, 4, 3, 7, 0, 6, 1, 8, 5, 7, 8, 4, 8, 3, 9, 9, 9, 8, 7, 6, 6, 3, 5, 1, 5, 9, 1, 4, 1, 5, 7, 0, 1, 5, 2, 0, 8, 8, 5, 6, 7, 3, 2, 4, 7, 2, 5, 8, 2, 4, 9, 2, 1, 8, 1, 9, 8, 8, 8, 9, 0, 4, 3, 3, 1, 8, 4, 6, 3, 3, 5, 2, 2, 8, 3, 8, 9, 5, 8, 9, 8, 9, 1, 6, 5, 9, 4, 4, 8, 0, 7, 2, 9, 7, 4, 1, 6, 4, 4, 9, 1, 2, 5, 6, 0, 8, 6, 1, 9, 4, 5, 9, 5, 0, 7, 2, 0, 0, 4, 2, 6, 6, 5, 5, 2, 8, 1, 7, 3, 1, 4, 5, 6, 5, 1, 4, 7, 0, 9, 4, 3, 8, 2, 8, 4, 7, 2, 3, 1, 5, 2, 9, 8, 9, 7, 9, 5, 1, 4, 0, 8, 2, 3, 8, 9, 1, 1, 3, 2, 4, 9, 3, 1, 7, 4, 6, 2, 8, 9, 5, 3, 9, 5, 5, 6, 7, 2, 4, 6, 3, 1, 0, 7, 2, 5, 4, 7, 6, 1, 1, 9, 8, 1, 0, 1, 3, 1, 1, 1, 7, 3, 9, 6, 8, 4, 6, 8, 4, 9, 4, 7, 9, 7, 6, 8, 4, 9, 7, 0, 1, 6, 1, 5, 9, 0, 4, 3, 4, 1, 3, 0, 8, 4, 6, 2, 2, 6, 5, 3, 6, 2, 1, 1, 8, 6, 0, 4, 0, 1, 9, 7, 1, 3, 7, 7, 8, 7, 7, 3, 9, 7, 7, 7, 2, 1, 2, 8, 6, 4, 0, 7, 9, 8, 6, 8, 4, 9, 1, 7, 2, 2, 8, 5, 8, 1, 2, 2, 4, 1, 2, 5, 2, 8, 1, 8, 1, 8, 6, 0, 2, 4, 1, 3, 6, 7, 7, 4, 4, 3, 3, 4, 5, 2, 4, 3, 7, 8, 4, 4, 4, 5, 4, 3, 2, 8, 4, 5, 5, 4, 1, 4, 2, 5, 1, 6, 4, 3, 4, 4, 0, 8, 8, 4, 5, 7, 5, 6, 9, 1, 6, 7, 2, 0, 1, 4, 5, 6, 0, 0, 2, 7, 5, 6, 0, 6, 2, 9, 1, 7, 7, 5, 2, 5, 6, 4, 1, 4, 3, 3, 3, 0, 3, 5, 5, 8, 9, 7, 3, 1, 3, 3, 3, 4, 4, 2, 3, 3, 8, 1, 7, 7, 0, 7, 4, 5, 1, 4, 2, 4, 3, 9, 9, 4, 9, 9, 1, 8, 1, 6, 7, 5, 5, 4, 9, 7, 6, 5, 9, 2, 4, 0, 7, 8, 5, 5, 0, 0, 9, 9, 8, 2, 5, 4, 8, 3, 6, 3, 6, 0, 6, 6, 6, 9, 6, 6, 8, 6, 2, 4, 5, 8, 1, 2, 7, 6, 5, 7, 8, 1, 8, 0, 8, 6, 9, 2, 8, 9, 4, 0, 9, 4, 9, 5, 7, 5, 5, 9, 5, 3, 0, 1, 9, 7, 2, 4, 1, 0, 8, 0, 3, 1, 7, 0, 0, 4, 8, 6, 2, 4, 0, 0, 9, 0, 8, 4, 5, 9, 3, 9, 0, 5, 6, 5, 0, 1, 4, 8, 1, 0, 5, 2, 1, 0, 2, 8, 1, 5, 6, 7, 7, 2, 6, 2, 5, 0, 1, 4, 2, 5, 4, 6, 2, 2, 1, 7, 2, 8, 5, 5, 3, 0, 4, 8, 3, 7, 6, 3, 8, 1, 0, 1, 3, 3, 0, 7, 4, 9, 5, 3, 6, 0, 1, 4, 4, 4, 4, 2, 2, 5, 8, 1, 5, 9, 8, 1, 1, 5, 3, 9, 9, 7, 6, 5, 0, 8, 4, 7, 0, 9, 2, 8, 4, 7, 1, 3, 9, 6, 8, 9, 0, 4, 9, 6, 7, 8, 9, 4, 8, 9, 7, 2, 5, 3, 7, 1, 0, 2, 9, 5, 5, 8, 5, 4, 2, 8, 3, 5, 5, 7, 7, 8, 6, 2, 8, 2, 3, 5, 6, 8, 0, 2, 3, 7, 0, 1, 9, 1, 3, 7, 5, 8, 3, 2, 9, 6, 8, 6, 9, 3, 8, 9, 8, 0, 7, 8, 5, 0, 0, 1, 3, 9, 1, 5, 3, 4, 4, 0, 9, 9, 9, 9, 8, 2, 4, 2, 2, 5, 1, 9, 1, 0, 9, 4, 2, 1, 6, 0, 3, 7, 6, 3, 1, 8, 6, 5, 7, 2, 8, 4, 4, 8, 3, 5, 0, 5, 7, 4, 4, 2, 2, 7, 3, 6, 0, 2, 7, 6, 2, 3, 0, 7, 7, 8, 1, 1, 4, 6, 0, 6, 6, 5, 5, 6, 3, 9, 3, 6, 8, 7, 6, 4, 9, 5, 6, 4, 1, 6, 3, 8, 2, 3, 9, 8, 5, 1, 5, 4, 5, 7, 5, 7, 8, 9, 1, 7, 2, 5, 6, 8, 4, 6, 5, 3, 9, 9, 8, 5, 5, 6, 4, 5, 9, 7, 3, 4, 1, 4, 2, 3, 6, 5, 5, 2, 8, 0, 0, 1, 8, 3, 1, 3, 5, 8, 3, 8, 5, 8, 6, 3, 5, 5, 5, 0, 9, 5, 5, 7, 1, 8, 2, 2, 7, 3, 4, 2, 9, 6, 2, 2, 4, 3, 0, 2, 0, 1, 3, 2, 2, 7, 0, 1, 0, 7, 7, 2, 0, 1, 6, 5, 0, 2, 2, 0, 1, 2, 6, 0, 1, 6, 6, 5, 3, 4, 0, 0, 9, 1, 0, 2, 5, 9, 7, 8, 6, 4, 6, 0, 2, 0, 1, 9, 2, 4, 9, 0, 7, 2, 3, 4, 8, 0, 2, 6, 8, 9, 7, 1, 9, 3, 7, 2, 7, 9, 6, 9, 5, 7, 8, 5, 9, 8, 3, 9, 8, 0, 5, 5, 7, 1, 2, 0, 7, 5, 8, 2, 2, 5, 3, 9, 3, 1, 9, 3, 1, 4, 3, 4, 4, 9, 0, 9, 5, 9, 2, 9, 4, 0, 2, 8, 4, 8, 6, 8, 2, 0, 5, 9, 6, 9, 5, 1, 3, 4, 4, 2, 7, 2, 4, 4, 0, 2, 8, 4, 5, 1, 2, 6, 8, 1, 7, 2, 8, 7, 4, 3, 3, 0, 3, 7, 2, 5, 6, 1, 7, 9, 0, 2, 3, 9, 8, 9, 5, 0, 0, 7, 6, 3, 3, 8, 1, 4, 0, 1, 5, 4, 3, 2, 6, 0, 8, 8, 6, 3, 3, 2, 9, 7, 5, 1, 6, 0, 5, 9, 9, 4, 5, 9, 4, 8, 3, 3, 2, 5, 1, 9, 5, 5, 8, 1, 8, 9, 7, 0, 6, 3, 2, 0, 2, 6, 9, 3, 9, 1, 6, 6, 7, 2, 6, 3, 2, 5, 5, 2, 7, 5, 2, 0, 8, 0, 7, 7, 1, 7, 4, 0, 2, 2, 6, 1, 5, 9, 7, 6, 2, 7, 0, 5, 6, 0, 1, 1, 8, 4, 5, 3, 1, 2, 4, 8, 9, 8, 1, 7, 2, 7, 2, 3, 2, 6, 7, 9, 4, 0, 1, 0, 4, 5, 0, 8, 0, 7, 6, 1, 0, 8, 5, 9, 2, 5, 4, 4, 9, 0, 6, 1, 2, 5, 1, 6, 7, 1, 5, 8, 8, 0, 3, 9, 4, 0, 3, 4, 9, 2, 4, 3, 0, 6, 4, 5, 6, 6, 7, 8, 4, 8, 8, 3, 2, 8, 0, 2, 5, 6, 8, 7, 8, 9, 9, 0, 6, 6, 8, 1, 1, 7, 4, 4, 2, 3, 6, 9, 6, 2, 4, 1, 8, 2, 3, 1, 6, 8, 6, 8, 5, 9, 0, 1, 0, 2, 9, 2, 9, 0, 9, 7, 8, 5, 0, 6, 6, 8, 1, 6, 5, 8, 7, 9, 2, 1, 6, 7, 5, 6, 3, 0, 9, 8, 9, 5, 9, 9, 9, 3, 6, 4, 4, 8, 8, 1, 7, 3, 0, 6, 2, 4, 8, 2, 2, 9, 2, 2, 9, 7, 4, 1, 9, 1, 4, 3, 5, 3, 8, 9, 3, 6, 2, 0, 8, 9, 0, 5, 1, 5, 8, 2, 1, 2, 3, 2, 4, 8, 4, 0, 6, 4, 2, 9, 8, 4, 7, 6, 2, 4, 7, 7, 6, 4, 2, 2, 3, 2, 4, 9, 0, 0, 9, 6, 5, 8, 5, 2, 4, 8, 8, 6, 4, 5, 7, 6, 3, 7, 0, 4, 0, 5, 8, 2, 8, 0, 4, 9, 2, 3, 6, 8, 1, 6, 0, 8, 4, 3, 1, 4, 5, 2, 4, 3, 6, 0, 7, 1, 3, 5, 7, 1, 8, 0, 4, 8, 2, 7, 7, 0, 2, 2, 4, 3, 3, 1, 6, 1, 6, 4, 6, 7, 4, 7, 3, 8, 1, 3, 1, 4, 6, 5, 5, 7, 4, 5, 4, 9, 7, 7, 2, 3, 3, 6, 7, 4, 1, 6, 1, 0, 6, 9, 6, 0, 2, 0, 2, 4, 7, 0, 0, 0, 0, 7, 5, 3, 2, 7, 8, 5, 5, 2, 2, 8, 9, 1, 2, 2, 0, 3, 4, 9, 1, 6, 9, 0, 8, 3, 6, 4, 6, 7, 5, 1, 8, 9, 0, 5, 0, 5, 4, 3, 8, 5, 2, 0, 8, 5, 9, 2, 5, 6, 5, 7, 3, 7, 2, 8, 8, 4, 2, 1, 6, 2, 9, 9, 8, 2, 3, 1, 0, 5, 2, 3, 7, 9, 5, 9, 1, 1, 3, 2, 7, 4, 4, 1, 9, 4, 5, 5, 2, 7, 7, 6, 1, 2, 3, 7, 5, 4, 3, 7, 7, 0, 0, 1, 4, 4, 3, 7, 9, 8, 7, 0, 9, 0, 3, 7, 6, 3, 8, 4, 5, 6, 5, 3, 4, 2, 9, 2, 4, 9, 2, 0, 1, 1, 3, 7, 9, 5, 1, 6, 0, 3, 3, 7, 2, 4, 5, 2, 3, 6, 3, 3, 0, 4, 4, 3, 8, 1, 2, 3, 2, 7, 1, 4, 5, 6, 8, 6, 6, 5, 4, 2, 9, 9, 3, 2, 0, 4, 1, 5, 5, 6, 6, 5, 6, 9, 7, 9, 4, 8, 3, 1, 9, 8, 1, 9, 0, 3, 0, 4, 7, 7, 2, 6, 5, 6, 9, 7, 7, 5, 7, 0, 8, 6, 7, 8, 3, 8, 9, 3, 2, 9, 2, 7, 4, 1, 9, 7, 0, 8, 1, 2, 0, 6, 5, 1, 4, 2, 8, 2, 8, 3, 3, 1, 4, 9, 8, 1, 1, 7, 9, 9, 4, 6, 8, 5, 3, 2, 2, 3, 8, 5, 1, 9, 7, 9, 1, 5, 3, 1, 0, 3, 8, 9, 2, 0, 8, 0, 7, 9, 4, 8, 3, 0, 7, 0, 7, 0, 5, 5, 4, 3, 0, 9, 9, 0, 2, 2, 0, 8, 4, 4, 5, 2, 2, 1, 1, 5, 5, 4, 3, 4, 0, 8, 4, 8, 2, 5, 6, 5, 1, 7, 2, 4, 0, 5, 6, 8, 7, 6, 3, 1, 3, 6, 6, 4, 5, 5, 5, 1, 8, 7, 3, 0, 2, 5, 1, 1, 1, 6, 7, 2, 1, 2, 3, 9, 8, 3, 1, 7, 4, 8, 4, 7, 5, 8, 6, 0, 3, 0, 8, 3, 4, 4, 9, 4, 6, 1, 5, 7, 7, 9, 0, 1, 3, 1, 3, 2, 4, 0, 7, 8, 3, 1, 6, 2, 1, 8, 8, 1, 9, 7, 5, 3, 2, 9, 0, 6, 8, 4, 1, 5, 7, 2, 4, 7, 0, 4, 9, 0, 7, 0, 6, 7, 1, 8, 5, 8, 8, 7, 0, 0, 3, 2, 5, 7, 0, 6, 4, 4, 9, 1, 8, 6, 3, 9, 4, 9, 3, 3, 7, 5, 9, 7, 7, 4, 5, 8, 2, 8, 9, 5, 3, 1, 9, 2, 2, 0, 1, 1, 8, 1, 1, 9, 8, 9, 9, 0, 2, 6, 9, 1, 9, 0, 1, 9, 2, 9, 9, 9, 0, 9, 9, 2, 1, 7, 0, 5, 6, 3, 9, 8, 3, 0, 2, 7, 7, 4, 8, 3, 0, 5, 2, 3, 5, 7, 6, 6, 6, 5, 6, 5, 4, 5, 8, 8, 0, 9, 7, 9, 0, 6, 9, 6, 1, 4, 7, 9, 0, 3, 5, 4, 7, 6, 9, 8, 2, 3, 9, 3, 3, 7, 8, 3, 5, 5, 9, 6, 1, 4, 7, 4, 8, 7, 7, 1, 3, 0, 3, 2, 5, 4, 9, 3, 5, 4, 7, 0, 3, 7, 0, 2, 1, 5, 8, 7, 3, 5, 7, 8, 5, 7, 8, 1, 5, 4, 7, 0, 8, 3, 2, 9, 7, 4, 1, 6, 5, 9, 8, 5, 5, 4, 1, 0, 9, 4, 4, 3, 0, 4, 8, 0, 8, 2, 9, 5, 9, 7, 4, 6, 7, 9, 2, 9, 3, 7, 7, 8, 2, 2, 0, 2, 5, 3, 6, 4, 7, 2, 3, 7, 8, 7, 2, 5, 0, 0, 7, 0, 9, 6, 1, 0, 3, 9, 7, 4, 9, 1, 6, 8, 1, 2, 3, 3, 5, 4, 8, 9, 7, 4, 4, 1, 2, 4, 9, 8, 7, 9, 5, 1, 2, 1, 6, 6, 4, 5, 7, 4, 5, 8, 5, 2, 8, 7, 8, 2, 3, 6, 1, 3, 3, 1, 5, 1, 9, 0, 9, 2, 0, 6, 2, 4, 8, 5, 7, 6, 1, 2, 9, 4, 5, 0, 3, 3, 7, 7, 7, 1, 4, 5, 0, 2, 8, 5, 0, 0, 6, 2, 0, 8, 4, 5, 4, 5, 6, 4, 7, 9, 4, 2, 0, 6, 4, 0, 0, 6, 4, 6, 1, 9, 5, 5, 2, 2, 6, 3, 4, 5, 9, 1, 7, 2, 3, 9, 6, 5, 0, 2, 9, 7, 1, 7, 2, 2, 0, 8, 6, 4, 3, 2, 7, 7, 0, 4, 1, 6, 5, 1, 3, 0, 3, 9, 0, 0, 2, 5, 0, 4, 0, 1, 9, 8, 4, 9, 4, 2, 4, 3, 3, 4, 0, 4, 3, 2, 8, 9, 1, 5, 8, 1, 8, 2, 4, 5, 2, 4, 1, 1, 6, 6, 8, 5, 2, 2, 5, 0, 8, 2, 3, 6, 2, 9, 6, 1, 4, 5, 9, 0, 1, 0, 0, 8, 1, 1, 6, 6, 9, 5, 4, 1, 7, 8, 6, 9, 1, 7, 6, 0, 9, 3, 5, 3, 2, 5, 3, 4, 9, 7, 1, 4, 4, 6, 1, 3, 8, 8, 0, 6, 7, 7, 6, 7, 2, 3, 2, 2, 6, 2, 7, 4, 0, 3, 6, 2, 6, 3, 3, 0, 9, 5, 1, 1, 5, 3, 6, 4, 3, 4, 1, 0, 4, 5, 5, 2, 8, 9, 4, 3, 1, 8, 0, 1, 3, 3, 4, 4, 2, 9, 7, 6, 8, 1, 8, 9, 1, 3, 1, 7, 3, 0, 0, 2, 8, 3, 9, 2, 7, 2, 6, 0, 1, 6, 1, 6, 7, 5, 5, 2, 5, 9, 4, 0, 2, 3, 4, 9, 4, 1, 0, 0, 2, 3, 8, 9, 2, 8, 9, 5, 7, 9, 1, 4, 6, 2, 8, 4, 4, 8, 9, 3, 1, 1, 6, 5, 8, 4, 6, 4, 5, 2, 6, 4, 2, 3, 1, 3, 6, 8, 5, 2, 2, 7, 1, 6, 2, 5, 9, 2, 8, 1, 6, 9, 2, 7, 5, 3, 2, 9, 7, 0, 2, 9, 3, 4, 1, 7, 9, 5, 8, 9, 7, 3, 4, 0, 9, 7, 4, 2, 4, 7, 0, 1, 8, 1, 0, 4, 6, 1, 9, 9, 2, 1, 2, 5, 6, 9, 7, 7, 3, 4, 2, 0, 2, 5, 6, 7, 3, 7, 9, 4, 2, 0, 6, 1, 7, 5, 6, 5, 3, 9, 2, 7, 8, 5, 9, 5, 8, 5, 4, 3, 7, 9, 8, 1, 2, 2, 8, 9, 3, 0, 8, 4, 0, 2, 0, 1, 4, 1, 8, 5, 5, 7, 9, 8, 3, 7, 9, 1, 5, 6, 9, 8, 7, 2, 0, 9, 0, 8, 5, 9, 4, 2, 9, 8, 1, 9, 1, 8, 3, 7, 6, 4, 2, 3, 7, 0, 3, 5, 8, 8, 8, 7, 9, 6, 2, 7, 4, 5, 7, 6, 7, 1, 7, 3, 6, 8, 2, 6, 6, 7, 1, 5, 9, 7, 1, 7, 0, 1, 6, 3, 3, 9, 0, 1, 2, 3, 2, 2, 5, 4, 9, 8, 7, 4, 4, 9, 7, 6, 7, 7, 1, 2, 3, 5, 1, 9, 0, 3, 3, 1, 5, 6, 6, 2, 4, 6, 8, 8, 9, 6, 6, 1, 0, 7, 5, 8, 2, 1, 5, 8, 1, 4, 7, 5, 0, 3, 9, 9, 5, 2, 8, 4, 1, 9, 0, 4, 4, 8, 2, 9, 0, 7, 9, 8, 7, 1, 3, 2, 9, 9, 5, 9, 7, 6, 7, 7, 1, 1, 2, 4, 2, 0, 6, 8, 7, 6, 2, 2, 9, 8, 2, 4, 2, 0, 5, 8, 6, 8, 2, 7, 7, 3, 1, 8, 1, 6, 5, 9, 7, 8, 9, 6, 4, 8, 1, 9, 4, 0, 4, 1, 4, 3, 6, 2, 2, 7, 0, 0, 7, 0, 7, 4, 3, 6, 7, 7, 4, 5, 4, 3, 5, 5, 4, 7, 1, 0, 7, 7, 1, 6, 5, 0, 7, 7, 4, 6, 1, 8, 5, 9, 3, 5, 6, 2, 2, 7, 3, 5, 8, 1, 0, 6, 8, 7, 8, 8, 5, 7, 5, 4, 9, 7, 3, 3, 8, 8, 3, 9, 4, 7, 2, 0, 8, 0, 7, 3, 3, 2, 5, 2, 4, 4, 0, 4, 8, 2, 4, 0, 6, 4, 5, 6, 0, 8, 8, 0, 6, 1, 1, 6, 1, 4, 2, 1, 1, 2, 4, 4, 5, 5, 8, 8, 5, 1, 8, 2, 3, 3, 9, 6, 6, 5, 0, 7, 3, 3, 2, 7, 4, 5, 6, 0, 2, 1, 8, 1, 0, 9, 3, 1, 0, 5, 4, 2, 3, 3, 6, 7, 6, 0, 0, 5, 7, 4, 7, 7, 0, 6, 1, 3, 9, 0, 9, 0, 3, 8, 4, 8, 8, 4, 1, 0, 2, 2, 4, 1, 1, 2, 4, 3, 4, 1, 4, 7, 1, 0, 0, 9, 0, 4, 2, 8, 8, 5, 5, 0, 4, 0, 8, 6, 2, 5, 9, 2, 9, 1, 1, 5, 4, 7, 5, 8, 6, 2, 1, 5, 5, 3, 4, 1, 8, 9, 9, 8, 9, 8, 6, 8, 5, 8, 9, 4, 6, 2, 6, 3, 7, 4, 0, 0, 1, 7, 5, 1, 5, 9, 3, 1, 6, 8, 7, 3, 6, 9, 1, 2, 0, 1, 7, 2, 6, 1, 9, 0, 0, 8, 9, 9, 2, 8, 6, 2, 5, 6, 0, 3, 3, 0, 7, 4, 7, 5, 0, 1, 6, 8, 8, 1, 2, 1, 5, 4, 5, 9, 6, 7, 1, 0, 6, 9, 2, 7, 7, 3, 9, 9, 1, 9, 7, 0, 1, 3, 5, 4, 6, 3, 8, 8, 0, 4, 8, 3, 6, 7, 0, 0, 4, 5, 2, 6, 8, 4, 9, 9, 9, 2, 0, 4, 2, 8, 1, 1, 0, 0, 3, 7, 4, 1, 1, 9, 7, 7, 4, 6, 8, 6, 0, 2, 8, 5, 3, 5, 3, 5, 7, 9, 8, 4, 4, 3, 1, 4, 8, 3, 6, 5, 3, 0, 8, 9, 5, 7, 6, 2, 0, 4, 9, 9, 0, 5, 2, 3, 6, 1, 1, 0, 2, 8, 2, 1, 1, 7, 5, 2, 3, 4, 1, 2, 9, 2, 1, 3, 4, 8, 9, 0, 0, 4, 9, 0, 2, 2, 0, 6, 8, 7, 3, 3, 8, 9, 0, 2, 5, 3, 6, 1, 3, 9, 5, 0, 5, 4, 4, 0, 1, 1, 6, 1, 7, 9, 9, 6, 2, 4, 3, 8, 3, 4, 7, 0, 2, 8, 4, 8, 3, 8, 8, 8, 3, 3, 5, 7, 7, 0, 4, 1, 5, 9, 7, 0, 6, 8, 4, 9, 0, 1, 8, 9, 6, 3, 9, 2, 4, 4, 0, 3, 3, 5, 4, 5, 1, 1, 8, 2, 2, 9, 3, 7, 8, 9, 2, 3, 1, 7, 3, 2, 3, 0, 1, 9, 5, 5, 3, 4, 5, 2, 0, 0, 3, 1, 3, 4, 7, 4, 2, 8, 4, 8, 9, 9, 4, 2, 4, 3, 6, 4, 6, 4, 6, 6, 3, 8, 7, 4, 8, 0, 5, 9, 3, 9, 0, 7, 5, 1, 9, 7, 9, 1, 8, 4, 2, 1, 6, 4, 3, 0, 1, 4, 8, 6, 1, 7, 1, 3, 5, 4, 3, 3, 9, 7, 8, 2, 5, 5, 4, 5, 4, 5, 7, 2, 5, 5, 1, 7, 7, 8, 3, 6, 0, 2, 5, 2, 3, 7, 4, 2, 1, 6, 8, 6, 8, 3, 2, 7, 7, 9, 7, 1, 4, 7, 4, 6, 1, 7, 3, 0, 0, 6, 6, 8, 6, 6, 0, 3, 4, 7, 4, 9, 4, 9, 9, 3, 4, 1, 4, 0, 3, 7, 1, 2, 2, 8, 4, 7, 8, 5, 5, 6, 5, 6, 0, 6, 4, 9, 3, 2, 7, 3, 8, 3, 9, 4, 1, 6, 9, 9, 4, 3, 9, 8, 1, 6, 9, 5, 9, 0, 9, 7, 2, 2, 4, 2, 6, 4, 8, 1, 9, 5, 6, 5, 1, 8, 6, 6, 7, 6, 5, 0, 2, 7, 6, 1, 2, 3, 1, 6, 4, 9, 0, 3, 9, 1, 0, 5, 3, 1, 6, 9, 8, 9, 0, 6, 1, 6, 2, 3, 5, 6, 9, 0, 7, 2, 4, 0, 3, 6, 8, 6, 9, 1, 9, 0, 6, 4, 5, 9, 5, 4, 1, 9, 2, 0, 7, 3, 5, 1, 8, 3, 0, 5, 2, 8, 8, 3, 9, 6, 0, 3, 5, 3, 4, 1, 5, 0, 7, 3, 9, 4, 5, 3, 1, 4, 2, 4, 9, 9, 7, 1, 7, 0, 1, 2, 1, 5, 3, 8, 4, 1, 5, 1, 9, 9, 7, 0, 1, 7, 6, 2, 6, 5, 0, 3, 1, 3, 8, 9, 9, 0, 8, 8, 7, 9, 2, 9, 1, 3, 6, 7, 6, 0, 8, 6, 2, 4, 2, 3, 5, 5, 4, 1, 6, 7, 1, 6, 1, 7, 1, 6, 2, 3, 0, 4, 2, 9, 7, 5, 5, 6, 0, 8, 8, 1, 1, 3, 5, 6, 5, 3, 8, 7, 5, 0, 7, 7, 5, 7, 1, 9, 9, 1, 9, 9, 3, 5, 5, 3, 0, 3, 0, 6, 6, 5, 6, 8, 9, 4, 5, 1, 1, 2, 7, 9, 0, 1, 2, 5, 4, 4, 7, 4, 8, 3, 3, 5, 3, 5, 7, 0, 1, 2, 9, 8, 1, 7, 3, 5, 9, 1, 9, 1, 1, 3, 6, 7, 4, 8, 3, 5, 6, 7, 0, 1, 7, 7, 2, 3, 3, 5, 1, 7, 6, 8, 4, 4, 5, 7, 3, 4, 7, 7, 3, 6, 0, 7, 2, 6, 7, 4, 1, 8, 0, 2, 2, 1, 5, 4, 0, 9, 3, 4, 4, 2, 3, 8, 5, 0, 0, 4, 6, 3, 9, 2, 0, 5, 7, 5, 5, 1, 7, 3, 1, 6, 7, 9, 0, 1, 2, 1, 4, 6, 1, 5, 9, 5, 0, 4, 9, 4, 9, 7, 1, 6, 8, 0, 6, 5, 0, 8, 1, 7, 5, 6, 9, 3, 2, 3, 9, 8, 6, 1, 0, 9, 0, 9, 8, 7, 7, 5, 2, 3, 5, 5, 7, 8, 7, 6, 9, 1, 9, 8, 6, 5, 6, 7, 5, 6, 7, 2, 5, 9, 6, 6, 7, 0, 1, 0, 1, 3, 2, 5, 6, 1, 2, 5, 1, 9, 9, 8, 6, 8, 6, 8, 9, 0, 4, 0, 3, 3, 6, 4, 9, 9, 7, 2, 3, 5, 6, 4, 6, 0, 3, 7, 5, 0, 2, 9, 2, 7, 2, 9, 2, 4, 0, 6, 6, 3, 4, 5, 5, 9, 1, 1, 4, 4, 3, 5, 4, 8, 0, 0, 3, 9, 4, 7, 4, 2, 8, 3, 6, 3, 1, 9, 6, 3, 8, 3, 8, 4, 7, 5, 7, 5, 3, 1, 2, 6, 1, 3, 2, 0, 7, 5, 0, 0, 0, 1, 4, 3, 5, 8, 4, 3, 1, 7, 1, 0, 4, 2, 4, 1, 4, 0, 1, 2, 1, 7, 7, 9, 8, 7, 5, 4, 0, 9, 0, 0, 8, 2, 0, 0, 2, 4, 8, 6, 2, 4, 6, 3, 5, 1, 5, 3, 7, 2, 2, 9, 8, 0, 0, 0, 3, 4, 4, 6, 1, 6, 7, 4, 4, 3, 9, 4, 0, 8, 0, 4, 6, 5, 7, 9, 7, 0, 5, 7, 7, 3, 1, 9, 3, 0, 9, 5, 3, 7, 9, 4, 4, 1, 7, 7, 1, 4, 1, 2, 8, 7, 0, 0, 4, 7, 2, 9, 7, 6, 9, 3, 5, 8, 0, 3, 6, 8, 3, 2, 4, 7, 1, 1, 3, 9, 7, 5, 1, 0, 8, 7, 0, 1, 6, 9, 3, 2, 7, 7, 8, 1, 0, 3, 4, 6, 7, 5, 2, 0, 1, 5, 5, 1, 4, 1, 3, 0, 8, 6, 2, 1, 3, 6, 4, 1, 9, 0, 4, 1, 0, 1, 9, 8, 6, 9, 2, 4, 7, 2, 2, 7, 4, 9, 1, 3, 2, 6, 3, 4, 4, 9, 4, 8, 2, 6, 6, 1, 6, 3, 6, 5, 8, 4, 6, 7, 1, 9, 3, 6, 7, 6, 0, 7, 1, 9, 5, 2, 6, 7, 7, 6, 5, 9, 1, 5, 6, 0, 2, 0, 9, 1, 8, 3, 5, 0, 0, 0, 5, 7, 7, 8, 5, 5, 5, 1, 6, 1, 5, 1, 0, 6, 2, 3, 2, 1, 7, 5, 1, 9, 8, 3, 6, 9, 7, 3, 0, 2, 3, 9, 4, 4, 3, 9, 6, 8, 6, 6, 8, 5, 4, 3, 6, 7, 7, 4, 3, 9, 6, 2, 4, 0, 1, 3, 6, 4, 9, 2, 6, 0, 3, 8, 7, 5, 3, 3, 8, 3, 2, 6, 3, 6, 2, 7, 4, 5, 7, 9, 0, 0, 6, 7, 2, 8, 5, 5, 7, 5, 5, 9, 4, 6, 4, 7, 3, 3, 6, 4, 1, 6, 3, 1, 6, 7, 0, 5, 0, 1, 9, 7, 3, 5, 2, 3, 9, 5, 6, 4, 0, 0, 0, 8, 0, 3, 2, 4, 5, 3, 7, 9, 6, 9, 3, 1, 2, 6, 7, 4, 5, 1, 3, 7, 6, 9, 5, 8, 5, 8, 5, 8, 5, 6, 5, 0, 8, 3, 8, 1, 8, 1, 5, 0, 9, 8, 6, 3, 6, 3, 4, 4, 7, 4, 7, 4, 3, 2, 4, 5, 5, 7, 5, 4, 5, 8, 0, 5, 4, 0, 5, 4, 3, 3, 2, 4, 2, 9, 4, 8, 8, 6, 2, 6, 1, 7, 0, 4, 3, 8, 5, 9, 7, 6, 7, 1, 0, 2, 3, 5, 6, 7, 1, 6, 2, 8, 3, 7, 2, 5, 7, 5, 7, 7, 1, 7, 4, 3, 3, 4, 0, 4, 2, 7, 0, 2, 2, 6, 6, 2, 5, 2, 6, 0, 6, 1, 2, 9, 0, 0, 1, 5, 5, 1, 6, 7, 8, 5, 6, 3, 3, 6, 0, 9, 9, 2, 2, 6, 1, 4, 6, 2, 5, 7, 8, 8, 5, 6, 4, 3, 2, 3, 4, 4, 4, 8, 9, 2, 6, 0, 9, 7, 9, 8, 7, 7, 3, 8, 2, 9, 3, 5, 7, 5, 8, 7, 3, 7, 0, 7, 1, 6, 2, 4, 0, 0, 2, 9, 8, 2, 8, 7, 7, 5, 5, 0, 1, 2, 9, 6, 1, 0, 1, 0, 6, 5, 0, 5, 7, 4, 4, 8, 3, 5, 3, 7, 2, 5, 8, 3, 5, 7, 3, 7, 0, 5, 4, 5, 6, 9, 3, 5, 3, 8, 2, 4, 2, 2, 6, 7, 6, 0, 5, 5, 8, 4, 5, 6, 1, 3, 5, 4, 7, 3, 0, 7, 2, 0, 1, 2, 4, 9, 6, 4, 5, 9, 7, 7, 6, 7, 4, 3, 1, 6, 9, 4, 8, 0, 3, 1, 6, 4, 4, 2, 1, 4, 6, 3, 0, 8, 9, 7, 6, 8, 4, 8, 1, 4, 5, 9, 4, 7, 1, 4, 5, 3, 1, 2, 6, 4, 7, 1, 5, 9, 3, 1, 4, 8, 7, 7, 0, 4, 3, 4, 6, 7, 7, 5, 4, 4, 4, 3, 6, 6, 1, 9, 9, 7, 9, 4, 3, 2, 9, 8, 5, 0, 6, 9, 0, 9, 7, 8, 5, 4, 4, 9, 4, 2, 6, 6, 9, 9, 7, 9, 9, 0, 5, 1, 1, 8, 6, 9, 9, 5, 6, 5, 5, 9, 7, 9, 4, 5, 4, 3, 3, 9, 8, 8, 3, 4, 8, 4, 0, 4, 0, 7, 2, 8, 0, 2, 0, 7, 4, 0, 6, 3, 3, 1, 7, 4, 6, 5, 0, 4, 9, 5, 6, 6, 3, 0, 5, 2, 6, 3, 3, 8, 0, 8, 5, 4, 2, 9, 5, 0, 5, 4, 8, 2, 7, 6, 5, 7, 8, 2, 0, 1, 8, 2, 4, 8, 4, 3, 0, 4, 0, 1, 9, 3, 0, 3, 6, 5, 5, 2, 8, 5, 0, 8, 7, 5, 2, 4, 3, 7, 0, 2, 3, 1, 0, 0, 2, 1, 2, 1, 4, 6, 7, 1, 0, 5, 2, 5, 9, 2, 5, 6, 7, 1, 9, 3, 6, 1, 0, 2, 9, 4, 2, 9, 3, 8, 2, 9, 8, 5, 1, 0, 1, 5, 2, 5, 6, 8, 8, 3, 5, 0, 4, 1, 3, 7, 0, 3, 3, 9, 2, 3, 9, 9, 8, 5, 9, 7, 2, 0, 9, 4, 7, 1, 7, 6, 4, 4, 8, 9, 0, 7, 1, 2, 4, 0, 3, 7, 5, 1, 9, 3, 5, 2, 4, 1, 1, 3, 3, 9, 2, 5, 8, 0, 8, 1, 5, 1, 5, 9, 0, 9, 2, 4, 0, 6, 9, 1, 1, 3, 4, 9, 5, 3, 3, 3, 3, 4, 1, 5, 9, 8, 7, 4, 8, 7, 3, 5, 2, 5, 8, 9, 7, 2, 0, 0, 7, 5, 3, 5, 7, 4, 6, 2, 8, 2, 7, 7, 6, 1, 3, 8, 6, 2, 0, 4, 4, 8, 6, 4, 0, 2, 5, 4, 1, 2, 5, 4, 6, 9, 5, 0, 5, 2, 0, 8, 2, 6, 4, 7, 9, 5, 7, 2, 6, 2, 1, 9, 9, 7, 2, 5, 1, 8, 1, 6, 3, 0, 8, 8, 5, 6, 9, 9, 9, 6, 3, 0, 8, 8, 5, 3, 3, 1, 1, 0, 7, 0, 6, 0, 4, 4, 6, 5, 3, 2, 9, 6, 6, 7, 9, 7, 7, 0, 8, 4, 2, 7, 7, 7, 4, 0, 1, 6, 0, 5, 3, 0, 2, 4, 9, 7, 3, 3, 2, 8, 8, 5, 3, 8, 0, 8, 0, 0, 0, 2, 2, 7, 0, 7, 7, 7, 2, 2, 0, 4, 0, 3, 7, 8, 4, 7, 9, 6, 1, 1, 6, 9, 3, 8, 9, 5, 8, 3, 9, 4, 3, 7, 5, 5, 2, 7, 5, 7, 9, 6, 3, 0, 8, 4, 5, 6, 1, 0, 4, 8, 4, 7, 1, 3, 2, 0, 9, 1, 8, 8, 6, 8, 1, 7, 1, 0, 9, 7, 6, 4, 5, 8, 2, 1, 2, 5, 8, 1, 1, 8, 8, 0, 9, 0, 0, 4, 3, 3, 5, 6, 6, 3, 1, 4, 4, 7, 8, 0, 1, 4, 8, 4, 6, 2, 2, 2, 6, 3, 4, 0, 8, 1, 3, 8, 3, 8, 9, 1, 6, 1, 9, 8, 2, 0, 4, 7, 4, 0, 0, 7, 6, 8, 9, 8, 6, 2, 8, 8, 0, 1, 1, 0, 7, 7, 4, 4, 7, 7, 2, 6, 6, 7, 4, 5, 4, 0, 9, 4, 7, 2, 5, 3, 2, 2, 7, 6, 2, 6, 4, 9, 6, 8, 3, 8, 5, 5, 2, 3, 4, 5, 2, 7, 5, 1, 5, 3, 7, 8, 8, 9, 6, 0, 9, 2, 6, 0, 0, 1, 4, 1, 3, 5, 1, 8, 9, 6, 2, 6, 9, 5, 6, 5, 9, 1, 4, 2, 8, 9, 5, 4, 7, 0, 3, 7, 1, 6, 9, 1, 1, 4, 0, 5, 1, 6, 3, 0, 2, 5, 5, 5, 2, 8, 2, 3, 1, 6, 2, 7, 0, 8, 9, 2, 6, 4, 7, 5, 5, 8, 8, 7, 8, 5, 7, 4, 4, 0, 0, 7, 0, 4, 0, 4, 4, 2, 5, 4, 0, 7, 7, 7, 0, 4, 6, 2, 9, 1, 1, 5, 0, 9, 1, 0, 6, 5, 3, 0, 9, 0, 6, 2, 0, 4, 1, 6, 7, 6, 1, 0, 4, 6, 0, 4, 4, 2, 7, 6, 5, 3, 5, 9, 4, 5, 2, 0, 5, 7, 2, 3, 9, 4, 5, 8, 1, 9, 3, 1, 8, 5, 8, 6, 6, 3, 4, 0, 2, 3, 2, 6, 1, 8, 2, 1, 3, 6, 2, 2, 3, 3, 5, 0, 2, 1, 2, 8, 0, 8, 2, 2, 7, 3, 5, 9, 8, 3, 6, 1, 0, 8, 6, 3, 5, 8, 9, 4, 8, 0, 0, 2, 9, 1, 8, 3, 7, 2, 8, 0, 9, 4, 8, 9, 4, 8, 9, 5, 4, 8, 1, 5, 5, 7, 2, 5, 8, 8, 1, 2, 3, 1, 5, 0, 2, 3, 0, 8, 2, 2, 8, 7, 3, 5, 3, 9, 6, 3, 5, 1, 1, 7, 7, 3, 3, 8, 9, 6, 0, 8, 0, 6, 6, 4, 6, 9, 1, 1, 7, 0, 6, 8, 9, 0, 6, 9, 0, 1, 1, 7, 2, 1, 0, 4, 5, 0, 3, 6, 3, 3, 8, 1, 8, 1, 3, 1, 5, 4, 5, 1, 8, 9, 1, 3, 1, 7, 2, 9, 8, 9, 4, 6, 0, 9, 4, 0, 4, 6, 2, 1, 3, 0, 8, 5, 6, 0, 3, 4, 6, 9, 5, 7, 9, 0, 3, 6, 5, 7, 0, 5, 1, 2, 2, 9, 7, 0, 0, 1, 4, 4, 5, 5, 9, 6, 3, 6, 2, 6, 9, 3, 2, 3, 2, 4, 9, 5, 2, 1, 6, 6, 4, 7, 6, 3, 3, 8, 1, 4, 6, 4, 4, 5, 6, 2, 0, 5, 2, 7, 5, 2, 5, 2, 5, 9, 0, 6, 7, 9, 8, 3, 2, 1, 4, 3, 4, 5, 5, 6, 8, 6, 0, 8, 9, 8, 0, 7, 7, 6, 6, 7, 5, 9, 8, 7, 9, 5, 6, 0, 4, 8, 2, 0, 9, 1, 3, 9, 8, 3, 7, 4, 5, 0, 2, 1, 9, 1, 0, 5, 8, 4, 7, 3, 1, 4, 5, 3, 1, 0, 8, 8, 8, 2, 1, 3, 7, 3, 1, 6, 9, 1, 6, 0, 7, 7, 1, 3, 3, 3, 1, 0, 2, 7, 1, 2, 2, 9, 6, 3, 5, 9, 4, 8, 0, 4, 8, 0, 1, 3, 7, 0, 4, 7, 4, 8, 6, 4, 3, 9, 8, 2, 2, 8, 3, 1, 1, 2, 8, 2, 6, 9, 4, 8, 4, 4, 1, 5, 2, 6, 9, 2, 0, 7, 1, 8, 9, 3, 9, 9, 0, 7, 7, 5, 4, 2, 6, 4, 5, 7, 7, 8, 7, 2, 6, 2, 2, 4, 4, 0, 7, 1, 3, 9, 6, 0, 0, 2, 3, 8, 2, 2, 4, 3, 5, 2, 9, 1, 0, 0, 6, 5, 5, 7, 9, 9, 6, 5, 5, 0, 5, 7, 1, 6, 6, 4, 1, 4, 4, 1, 5, 0, 0, 4, 5, 8, 4, 8, 3, 0, 5, 0, 5, 3, 1, 6, 7, 0, 9, 1, 5, 7, 6, 5, 5, 5, 6, 0, 0, 1, 7, 5, 1, 9, 2, 4, 1, 3, 7, 8, 2, 0, 9, 6, 6, 0, 6, 5, 8, 2, 7, 4, 0, 2, 7, 7, 8, 8, 7, 0, 4, 9, 1, 4, 4, 3, 5, 4, 6, 2, 3, 1, 0, 3, 3, 3, 6, 3, 1, 2, 8, 9, 7, 9, 3, 8, 7, 3, 1, 7, 7, 3, 2, 2, 8, 9, 5, 9, 2, 1, 7, 4, 4, 0, 5, 7, 1, 5, 4, 0, 8, 4, 9, 8, 7, 8, 4, 2, 3, 4, 0, 5, 4, 1, 8, 2, 5, 4, 5, 2, 5, 3, 7, 9, 7, 1, 4, 1, 3, 1, 4, 5, 5, 1, 7, 1, 3, 0, 1, 2, 5, 7, 0, 6, 3, 5, 7, 5, 5, 8, 9, 4, 6, 3, 6, 6, 8, 2, 6, 4, 8, 4, 1, 3, 1, 2, 3, 3, 0, 1, 6, 4, 2, 8, 2, 4, 3, 1, 4, 4, 4, 4, 1, 5, 5, 7, 6, 5, 4, 5, 6, 5, 6, 2, 4, 7, 7, 4, 6, 5, 0, 2, 3, 9, 2, 3, 8, 0, 7, 0, 6, 8, 1, 2, 8, 9, 1, 5, 4, 2, 3, 5, 5, 3, 6, 5, 0, 3, 2, 1, 3, 3, 7, 7, 4, 9, 4, 3, 9, 5, 1, 7, 6, 6, 4, 8, 5, 1, 2, 8, 4, 5, 3, 3, 3, 0, 4, 8, 7, 7, 9, 4, 8, 4, 5, 9, 1, 8, 3, 1, 3, 8, 0, 3, 5, 4, 6, 9, 2, 7, 2, 0, 5, 2, 9, 7, 5, 0, 7, 0, 3, 5, 5, 3, 8, 7, 7, 9, 6, 5, 8, 9, 0, 1, 9, 4, 0, 0, 1, 7, 2, 2, 8, 5, 9, 8, 2, 8, 0, 6, 6, 8, 6, 9, 6, 1, 1, 5, 3, 5, 0, 7, 6, 1, 4, 4, 1, 1, 8, 1, 1, 2, 3, 4, 9, 9, 5, 2, 7, 3, 3, 6, 9, 6, 9, 8, 8, 6, 7, 4, 7, 2, 3, 8, 0, 9, 0, 7, 8, 1, 2, 3, 2, 4, 2, 9, 0, 3, 8, 9, 6, 5, 5, 2, 4, 1, 0, 6, 1, 8, 4, 5, 5, 5, 0, 8, 9, 0, 5, 7, 9, 6, 3, 4, 6, 4, 9, 7, 1, 2, 5, 2, 8, 0, 2, 2, 9, 8, 1, 9, 7, 7, 3, 1, 4, 1, 1, 3, 8, 8, 1, 9, 3, 8, 9, 5, 1, 1, 6, 2, 7, 2, 6, 2, 6, 9, 6, 0, 1, 3, 9, 3, 8, 8, 8, 2, 9, 1, 2, 6, 0, 5, 0, 7, 7, 7, 9, 4, 5, 0, 2, 3, 5, 5, 8, 9, 1, 2, 7, 1, 3, 4, 6, 9, 1, 0, 7, 1, 9, 5, 8, 1, 9, 9, 7, 9, 8, 3, 0, 2, 6, 0, 2, 2, 4, 0, 8, 4, 8, 1, 2, 7, 2, 7, 9, 5, 2, 2, 9, 2, 6, 5, 7, 2, 5, 6, 5, 1, 8, 2, 6, 8, 6, 3, 0, 8, 0, 0, 9, 9, 6, 8, 0, 6, 6, 0, 7, 9, 8, 0, 5, 0, 9, 6, 0, 4, 7, 1, 7, 8, 8, 2, 3, 9, 6, 5, 5, 3, 1, 5, 3, 0, 2, 5, 2, 7, 3, 8, 4, 4, 6, 1, 9, 4, 1, 7, 0, 1, 4, 3, 0, 2, 9, 4, 5, 0, 3, 4, 7, 2, 3, 0, 1, 3, 7, 9, 9, 0, 7, 5, 6, 7, 1, 2, 2, 7, 4, 6, 8, 4, 9, 8, 4, 9, 2, 3, 4, 0, 2, 5, 6, 0, 5, 3, 5, 8, 3, 7, 4, 9, 5, 6, 3, 8, 6, 9, 8, 5, 5, 8, 3, 5, 9, 0, 4, 2, 0, 5, 9, 9, 3, 8, 0, 6, 0, 2, 3, 7, 0, 0, 6, 9, 1, 5, 2, 2, 7, 9, 3, 9, 3, 5, 2, 2, 2, 8, 8, 5, 0, 0, 7, 0, 3, 1, 6, 5, 0, 9, 2, 6, 7, 4, 2, 0, 0, 5, 3, 3, 2, 6, 4, 2, 7, 8, 0, 1, 0, 1, 3, 6, 4, 8, 0, 6, 0, 9, 1, 6, 2, 1, 0, 1, 3, 0, 3, 7, 9, 9, 3, 7, 5, 7, 1, 6, 6, 1, 1, 1, 4, 4, 2, 1, 7, 0, 1, 2, 1, 1, 3, 2, 6, 9, 1, 3, 2, 0, 8, 7, 3, 4, 6, 4, 6, 9, 4, 8, 9, 3, 0, 5, 7, 2, 0, 2, 9, 9, 3, 8, 7, 1, 1, 2, 2, 2, 5, 9, 1, 2, 6, 1, 2, 1, 8, 9, 2, 3, 1, 9, 9, 4, 4, 5, 5, 0, 3, 3, 7, 1, 7, 7, 9, 8, 6, 3, 5, 5, 1, 6, 2, 7, 8, 4, 3, 3, 5, 9, 6, 8, 5, 1, 0, 6, 7, 0, 9, 6, 2, 0, 8, 7, 1, 2, 6, 9, 1, 6, 4, 7, 1, 9, 0, 0, 5, 2, 8, 3, 8, 2, 8, 4, 0, 8, 3, 6, 1, 2, 3, 0, 5, 0, 4, 1, 7, 2, 0, 1, 3, 9, 1, 6, 1, 6, 1, 2, 8, 7, 0, 9, 5, 8, 0, 0, 1, 7, 9, 7, 1, 9, 2, 1, 9, 4, 3, 6, 0, 2, 0, 0, 9, 9, 8, 9, 4, 5, 4, 3, 0, 7, 8, 7, 3, 7, 5, 4, 6, 5, 9, 5, 2, 4, 2, 7, 9, 6, 7, 4, 7, 1, 2, 3, 1, 1, 3, 6, 8, 3, 7, 7, 0, 8, 1, 5, 2, 5, 5, 3, 6, 3, 5, 9, 8, 4, 6, 8, 0, 4, 1, 7, 8, 4, 9, 7, 2, 6, 3, 8, 8, 6, 7, 3, 8, 1, 1, 5, 3, 7, 9, 9, 9, 8, 5, 9, 9, 6, 8, 8, 4, 8, 1, 0, 1, 8, 8, 6, 5, 9, 0, 6, 1, 2, 6, 6, 3, 5, 6, 5, 5, 3, 3, 6, 8, 9, 4, 4, 3, 8, 3, 6, 0, 8, 5, 7, 8, 4, 6, 5, 3, 1, 8, 3, 0, 4, 4, 3, 3, 5, 3, 3, 2, 7, 7, 8, 2, 0, 5, 5, 6, 1, 1, 3, 9, 9, 3, 6, 7, 1, 8, 3, 9, 8, 7, 8, 8, 0, 3, 2, 4, 8, 7, 5, 7, 1, 8, 7, 3, 5, 4, 4, 3, 8, 6, 1, 1, 6, 3, 2, 2, 8, 9, 8, 3, 3, 8, 1, 1, 0, 5, 2, 0, 5, 0, 5, 8, 6, 3, 9, 6, 6, 3, 9, 4, 8, 3, 4, 3, 1, 1, 2, 9, 7, 8, 5, 5, 8, 6, 9, 0, 8, 3, 5, 1, 3, 3, 5, 5, 3, 8, 1, 4, 6, 4, 2, 4, 3, 8, 9, 6, 6, 6, 5, 5, 2, 7, 7, 4, 4, 9, 3, 8, 3, 7, 7, 8, 5, 3, 9, 1, 6, 7, 3, 3, 3, 8, 5, 6, 1, 3, 7, 9, 6, 1, 6, 4, 9, 0, 5, 7, 4, 9, 1, 0, 0, 2, 7, 8, 3, 2, 7, 6, 1, 6, 6, 4, 4, 2, 1, 8, 4, 4, 7, 8, 5, 8, 9, 4, 3, 2, 2, 9, 3, 0, 1, 1, 1, 1, 6, 8, 7, 1, 3, 0, 4, 5, 0, 3, 0, 6, 2, 0, 9, 8, 6, 8, 5, 8, 2, 9, 6, 0, 6, 1, 8, 7, 3, 2, 2, 6, 5, 6, 9, 2, 5, 4, 9, 8, 5, 3, 9, 3, 5, 7, 1, 8, 5, 8, 6, 2, 5, 1, 3, 0, 4, 1, 9, 5, 4, 9, 2, 1, 4, 2, 5, 9, 8, 7, 2, 1, 6, 9, 7, 3, 6, 5, 8, 0, 2, 2, 4, 9, 0, 5, 5, 4, 2, 3, 1, 0, 3, 0, 4, 4, 9, 1, 3, 3, 0, 2, 1, 1, 0, 4, 1, 9, 4, 8, 1, 1, 1, 5, 9, 8, 1, 6, 7, 2, 9, 9, 7, 8, 8, 1, 9, 7, 8, 9, 1, 6, 6, 3, 3, 1, 3, 0, 8, 8, 3, 6, 6, 7, 1, 0, 7, 6, 4, 8, 2, 0, 6, 6, 8, 6, 3, 1, 1, 8, 6, 7, 0, 5, 4, 3, 2, 1, 7, 8, 2, 0, 1, 7, 4, 8, 7, 6, 6, 7, 0, 6, 4, 9, 2, 3, 2, 1, 3, 8, 6, 8, 1, 9, 6, 7, 6, 5, 0, 6, 0, 1, 3, 1, 1, 5, 3, 4, 3, 3, 8, 1, 6, 6, 1, 8, 8, 6, 2, 7, 4, 6, 8, 9, 3, 3, 5, 5, 3, 1, 4, 1, 9, 5, 1, 7, 7, 7, 5, 2, 3, 3, 6, 6, 6, 4, 0, 7, 1, 7, 3, 0, 8, 1, 2, 4, 1, 2, 2, 4, 9, 8, 2, 8, 7, 6, 3, 4, 7, 2, 3, 1, 5, 3, 0, 4, 3, 4, 9, 4, 7, 9, 1, 7, 8, 3, 1, 8, 3, 2, 5, 7, 2, 7, 9, 6, 8, 6, 8, 6, 5, 9, 0, 4, 8, 5, 6, 4, 3, 8, 0, 4, 8, 6, 7, 2, 7, 1, 7, 4, 1, 2, 4, 2, 2, 8, 7, 2, 2, 6, 7, 5, 6, 8, 9, 9, 6, 5, 2, 9, 8, 7, 2, 3, 3, 7, 4, 3, 2, 1, 9, 0, 1, 5, 3, 2, 6, 5, 9, 1, 5, 4, 3, 6, 2, 8, 9, 7, 8, 0, 8, 9, 1, 2, 5, 7, 2, 0, 6, 6, 1, 6, 3, 1, 5, 0, 3, 7, 4, 6, 5, 6, 4, 8, 3, 4, 5, 5, 0, 6, 6, 7, 5, 0, 9, 9, 6, 1, 0, 4, 6, 3, 6, 9, 3, 6, 6, 8, 2, 1, 0, 1, 9, 3, 7, 4, 3, 0, 2, 7, 6, 4, 3, 0, 8, 2, 0, 0, 9, 6, 6, 6, 8, 7, 4, 1, 8, 1, 2, 2, 4, 8, 5, 2, 6, 5, 3, 9, 1, 0, 7, 2, 4, 4, 0, 0, 6, 2, 2, 4, 0, 5, 9, 7, 1, 8, 4, 5, 5, 9, 8, 5, 7, 8, 0, 9, 8, 9, 1, 6, 3, 8, 0, 3, 4, 4, 8, 4, 8, 9, 8, 6, 0, 0, 8, 2, 7, 4, 2, 5, 6, 0, 5, 8, 4, 1, 9, 0, 1, 4, 4, 8, 4, 9, 6, 0, 7, 7, 6, 8, 9, 6, 2, 0, 4, 9, 4, 9, 3, 9, 6, 6, 7, 0, 9, 7, 1, 8, 6, 0, 6, 7, 4, 1, 9, 4, 6, 7, 9, 8, 3, 9, 2, 1, 2, 7, 6, 1, 0, 0, 5, 6, 0, 4, 3, 2, 8, 8, 0, 6, 9, 5, 2, 8, 7, 0, 6, 5, 9, 7, 2, 3, 6, 9, 6, 2, 2, 4, 1, 0, 5, 0, 8, 9, 3, 5, 9, 3, 8, 1, 6, 3, 7, 5, 6, 2, 0, 2, 8, 2, 8, 7, 7, 8, 1, 0, 8, 9, 7, 0, 3, 8, 0, 5, 9, 5, 8, 4, 2, 0, 9, 2, 2, 4, 4, 9, 2, 2, 2, 5, 1, 3, 2, 0, 0, 4, 0, 6, 5, 8, 0, 5, 8, 6, 4, 8, 5, 2, 9, 7, 9, 7, 1, 0, 1, 9, 6, 9, 2, 7, 9, 4, 4, 0, 6, 2, 4, 1, 3, 7, 2, 8, 5, 9, 0, 3, 2, 3, 2, 7, 6, 3, 2, 5, 9, 0, 5, 9, 9, 8, 7, 7, 4, 8, 6, 5, 2, 3, 1, 0, 4, 1, 8, 8, 4, 9, 4, 4, 3, 3, 9, 2, 0, 1, 1, 8, 4, 4, 8, 3, 2, 9, 5, 7, 6, 2, 5, 4, 7, 3, 3, 9, 0, 1, 5, 9, 3, 7, 6, 0, 4, 2, 2, 5, 6, 3, 8, 9, 5, 6, 1, 4, 5, 4, 6, 7, 2, 1, 0, 2, 0, 4, 9, 8, 8, 9, 1, 1, 5, 0, 0, 8, 7, 1, 7, 4, 5, 4, 3, 3, 2, 0, 6, 6, 0, 1, 3, 9, 8, 3, 7, 8, 9, 4, 8, 9, 0, 9, 7, 1, 6, 2, 9, 5, 6, 9, 3, 9, 8, 7, 7, 1, 6, 5, 3, 1, 3, 1, 2, 7, 1, 8, 2, 0, 9, 7, 9, 8, 8, 6, 7, 3, 7, 1, 3, 9, 0, 9, 3, 6, 7, 2, 7, 3, 0, 5, 9, 7, 5, 5, 0, 6, 5, 1, 8, 2, 7, 5, 9, 0, 0, 0, 8, 8, 7, 3, 7, 8, 9, 3, 7, 9, 7, 8, 7, 9, 8, 5, 4, 8, 3, 7, 6, 3, 8, 2, 1, 9, 5, 7, 3, 9, 5, 5, 8, 7, 3, 5, 3, 5, 9, 7, 6, 7, 3, 6, 4, 3, 9, 4, 2, 1, 9, 6, 0, 2, 6, 7, 4, 7, 9, 0, 7, 4, 3, 5, 3, 1, 1, 2, 6, 8, 2, 1, 7, 8, 5, 9, 6, 1, 1, 5, 0, 6, 0, 9, 2, 6, 5, 8, 9, 5, 5, 6, 2, 9, 1, 5, 8, 8, 7, 1, 7, 3, 5, 4, 9, 7, 5, 2, 9, 9, 4, 7, 4, 1, 3, 8, 7, 9, 0, 4, 5, 7, 5, 2, 8, 7, 6, 9, 6, 9, 3, 8, 5, 6, 6, 9, 5, 7, 8, 0, 5, 0, 7, 4, 8, 2, 5, 1, 3, 2, 2, 6, 2, 1, 7, 4, 6, 3, 1, 3, 7, 2, 1, 3, 7, 0, 8, 4, 4, 5, 7, 9, 5, 4, 3, 9, 6, 8, 2, 3, 3, 1, 6, 1, 7, 0, 3, 4, 2, 9, 4, 5, 8, 2, 7, 0, 9, 6, 8, 0, 8, 2, 8, 5, 7, 7, 2, 2, 0, 0, 0, 7, 4, 1, 6, 6, 8, 8, 9, 0, 9, 0, 1, 3, 3, 0, 9, 6, 6, 2, 6, 3, 4, 0, 8, 4, 1, 4, 0, 6, 5, 0, 9, 9, 9, 9, 1, 2, 3, 5, 4, 2, 9, 6, 0, 9, 6, 6, 8, 0, 6, 1, 4, 6, 8, 0, 5, 4, 1, 2, 0, 9, 6, 4, 2, 4, 6, 5, 9, 7, 7, 4, 6, 5, 0, 1, 9, 0, 3, 1, 9, 0, 9, 7, 8, 6, 7, 6, 8, 2, 4, 5, 3, 0, 3, 2, 1, 7, 5, 9, 3, 4, 5, 7, 1, 5, 0, 1, 1, 1, 9, 7, 5, 4, 9, 7, 8, 1, 0, 2, 8, 5, 6, 7, 0, 1, 4, 8, 4, 4, 6, 6, 5, 8, 1, 8, 4, 6, 5, 9, 2, 2, 1, 4, 9, 1, 6, 7, 2, 0, 1, 7, 6, 5, 2, 2, 5, 6, 0, 9, 0, 1, 5, 3, 3, 5, 8, 7, 5, 6, 5, 8, 0, 5, 9, 4, 6, 5, 1, 1, 0, 3, 3, 9, 4, 8, 1, 7, 7, 9, 9, 4, 3, 6, 3, 2, 8, 2, 7, 6, 7, 0, 2, 1, 2, 9, 4, 6, 9, 6, 1, 0, 1, 8, 7, 0, 0, 4, 7, 4, 2, 6, 9, 5, 9, 0, 7, 4, 5, 8, 1, 4, 7, 9, 9, 8, 8, 6, 3, 7, 0, 8, 9, 6, 2, 4, 6, 2, 9, 7, 4, 6, 8, 5, 6, 1, 3, 5, 9, 9, 1, 3, 2, 0, 3, 0, 2, 0, 7, 3, 9, 3, 5, 7, 6, 5, 9, 5, 6, 1, 2, 4, 0, 2, 7, 8, 4, 4, 0, 9, 5, 9, 2, 9, 3, 2, 4, 3, 2, 2, 8, 8, 6, 8, 1, 6, 8, 9, 8, 2, 1, 4, 9, 1, 5, 7, 1, 6, 0, 1, 5, 2, 8, 1, 1, 3, 8, 1, 3, 1, 8, 5, 1, 9, 0, 3, 0, 4, 0, 5, 1, 2, 0, 4, 9, 5, 1, 2, 2, 7, 8, 7, 2, 4, 5, 3, 4, 0, 6, 1, 5, 9, 8, 0, 2, 0, 7, 6, 0, 5, 9, 7, 5, 0, 4, 6, 0, 6, 3, 6, 8, 1, 1, 8, 9, 7, 2, 9, 0, 2, 2, 9, 0, 6, 5, 7, 7, 9, 1, 7, 9, 8, 4, 5, 0, 8, 0, 2, 5, 2, 1, 4, 4, 8, 9, 7, 8, 3, 6, 6, 0, 1, 1, 1, 8, 1, 4, 4, 0, 7, 8, 2, 1, 2, 5, 4, 6, 0, 5, 7, 4, 4, 3, 9, 5, 8, 8, 0, 8, 7, 4, 1, 8, 4, 9, 5, 4, 1, 7, 7, 7, 7, 0, 3, 8, 3, 3, 0, 5, 7, 0, 8, 0, 0, 9, 2, 2, 3, 4, 8, 2, 2, 6, 3, 3, 6, 2, 9, 4, 0, 1, 7, 5, 5, 7, 3, 0, 4, 2, 0, 7, 5, 8, 0, 8, 2, 7, 0, 3, 5, 3, 8, 3, 5, 1, 7]\n"
          ]
        }
      ],
      "source": [
        "print(y_pred)\n",
        "print(y_true)"
      ]
    },
    {
      "cell_type": "code",
      "execution_count": 16,
      "metadata": {
        "id": "YVVlD8XgWlQC"
      },
      "outputs": [],
      "source": [
        "from sklearn.metrics import confusion_matrix\n",
        "\n",
        "cf_matrix = confusion_matrix(y_true, y_pred)"
      ]
    },
    {
      "cell_type": "code",
      "execution_count": 17,
      "metadata": {
        "id": "AHEx5Q-XWlML"
      },
      "outputs": [],
      "source": [
        "import pandas as pd\n",
        "\n",
        "class_names = ('airplane', 'automobile', 'bird', 'cat', 'deer', 'dog', 'frog', 'horse', 'ship', 'truck')\n",
        "\n",
        "dataframe = pd.DataFrame(cf_matrix, index=class_names, columns=class_names) # Create pandas dataframe"
      ]
    },
    {
      "cell_type": "code",
      "execution_count": 18,
      "metadata": {
        "colab": {
          "base_uri": "https://localhost:8080/",
          "height": 363
        },
        "id": "vyJfk6xkZKcu",
        "outputId": "81cb07c4-c49f-47b0-f665-8000b2fcfc74"
      },
      "outputs": [
        {
          "output_type": "execute_result",
          "data": {
            "text/plain": [
              "            airplane  automobile  bird  cat  deer  dog  frog  horse  ship  \\\n",
              "airplane         876           6    27   14    10    3     3      2    38   \n",
              "automobile         7         924     0    6     2    2     2      0    13   \n",
              "bird              50           5   761   37    44   30    46     17     6   \n",
              "cat               16           5    60  696    32  108    38     23    13   \n",
              "deer              13           0    44   41   806   20    33     35     6   \n",
              "dog               15           4    34  101    31  773     9     32     0   \n",
              "frog               6           3    26   35    16   12   891      4     3   \n",
              "horse             12           1    15   27    29   28     6    876     0   \n",
              "ship              44          15     5    6     1    5     3      4   899   \n",
              "truck             21          38     4    6     2    0     2      4    12   \n",
              "\n",
              "            truck  \n",
              "airplane       21  \n",
              "automobile     44  \n",
              "bird            4  \n",
              "cat             9  \n",
              "deer            2  \n",
              "dog             1  \n",
              "frog            4  \n",
              "horse           6  \n",
              "ship           18  \n",
              "truck         911  "
            ],
            "text/html": [
              "\n",
              "  <div id=\"df-76394f3f-1e54-4033-88fb-82299a78de31\">\n",
              "    <div class=\"colab-df-container\">\n",
              "      <div>\n",
              "<style scoped>\n",
              "    .dataframe tbody tr th:only-of-type {\n",
              "        vertical-align: middle;\n",
              "    }\n",
              "\n",
              "    .dataframe tbody tr th {\n",
              "        vertical-align: top;\n",
              "    }\n",
              "\n",
              "    .dataframe thead th {\n",
              "        text-align: right;\n",
              "    }\n",
              "</style>\n",
              "<table border=\"1\" class=\"dataframe\">\n",
              "  <thead>\n",
              "    <tr style=\"text-align: right;\">\n",
              "      <th></th>\n",
              "      <th>airplane</th>\n",
              "      <th>automobile</th>\n",
              "      <th>bird</th>\n",
              "      <th>cat</th>\n",
              "      <th>deer</th>\n",
              "      <th>dog</th>\n",
              "      <th>frog</th>\n",
              "      <th>horse</th>\n",
              "      <th>ship</th>\n",
              "      <th>truck</th>\n",
              "    </tr>\n",
              "  </thead>\n",
              "  <tbody>\n",
              "    <tr>\n",
              "      <th>airplane</th>\n",
              "      <td>876</td>\n",
              "      <td>6</td>\n",
              "      <td>27</td>\n",
              "      <td>14</td>\n",
              "      <td>10</td>\n",
              "      <td>3</td>\n",
              "      <td>3</td>\n",
              "      <td>2</td>\n",
              "      <td>38</td>\n",
              "      <td>21</td>\n",
              "    </tr>\n",
              "    <tr>\n",
              "      <th>automobile</th>\n",
              "      <td>7</td>\n",
              "      <td>924</td>\n",
              "      <td>0</td>\n",
              "      <td>6</td>\n",
              "      <td>2</td>\n",
              "      <td>2</td>\n",
              "      <td>2</td>\n",
              "      <td>0</td>\n",
              "      <td>13</td>\n",
              "      <td>44</td>\n",
              "    </tr>\n",
              "    <tr>\n",
              "      <th>bird</th>\n",
              "      <td>50</td>\n",
              "      <td>5</td>\n",
              "      <td>761</td>\n",
              "      <td>37</td>\n",
              "      <td>44</td>\n",
              "      <td>30</td>\n",
              "      <td>46</td>\n",
              "      <td>17</td>\n",
              "      <td>6</td>\n",
              "      <td>4</td>\n",
              "    </tr>\n",
              "    <tr>\n",
              "      <th>cat</th>\n",
              "      <td>16</td>\n",
              "      <td>5</td>\n",
              "      <td>60</td>\n",
              "      <td>696</td>\n",
              "      <td>32</td>\n",
              "      <td>108</td>\n",
              "      <td>38</td>\n",
              "      <td>23</td>\n",
              "      <td>13</td>\n",
              "      <td>9</td>\n",
              "    </tr>\n",
              "    <tr>\n",
              "      <th>deer</th>\n",
              "      <td>13</td>\n",
              "      <td>0</td>\n",
              "      <td>44</td>\n",
              "      <td>41</td>\n",
              "      <td>806</td>\n",
              "      <td>20</td>\n",
              "      <td>33</td>\n",
              "      <td>35</td>\n",
              "      <td>6</td>\n",
              "      <td>2</td>\n",
              "    </tr>\n",
              "    <tr>\n",
              "      <th>dog</th>\n",
              "      <td>15</td>\n",
              "      <td>4</td>\n",
              "      <td>34</td>\n",
              "      <td>101</td>\n",
              "      <td>31</td>\n",
              "      <td>773</td>\n",
              "      <td>9</td>\n",
              "      <td>32</td>\n",
              "      <td>0</td>\n",
              "      <td>1</td>\n",
              "    </tr>\n",
              "    <tr>\n",
              "      <th>frog</th>\n",
              "      <td>6</td>\n",
              "      <td>3</td>\n",
              "      <td>26</td>\n",
              "      <td>35</td>\n",
              "      <td>16</td>\n",
              "      <td>12</td>\n",
              "      <td>891</td>\n",
              "      <td>4</td>\n",
              "      <td>3</td>\n",
              "      <td>4</td>\n",
              "    </tr>\n",
              "    <tr>\n",
              "      <th>horse</th>\n",
              "      <td>12</td>\n",
              "      <td>1</td>\n",
              "      <td>15</td>\n",
              "      <td>27</td>\n",
              "      <td>29</td>\n",
              "      <td>28</td>\n",
              "      <td>6</td>\n",
              "      <td>876</td>\n",
              "      <td>0</td>\n",
              "      <td>6</td>\n",
              "    </tr>\n",
              "    <tr>\n",
              "      <th>ship</th>\n",
              "      <td>44</td>\n",
              "      <td>15</td>\n",
              "      <td>5</td>\n",
              "      <td>6</td>\n",
              "      <td>1</td>\n",
              "      <td>5</td>\n",
              "      <td>3</td>\n",
              "      <td>4</td>\n",
              "      <td>899</td>\n",
              "      <td>18</td>\n",
              "    </tr>\n",
              "    <tr>\n",
              "      <th>truck</th>\n",
              "      <td>21</td>\n",
              "      <td>38</td>\n",
              "      <td>4</td>\n",
              "      <td>6</td>\n",
              "      <td>2</td>\n",
              "      <td>0</td>\n",
              "      <td>2</td>\n",
              "      <td>4</td>\n",
              "      <td>12</td>\n",
              "      <td>911</td>\n",
              "    </tr>\n",
              "  </tbody>\n",
              "</table>\n",
              "</div>\n",
              "      <button class=\"colab-df-convert\" onclick=\"convertToInteractive('df-76394f3f-1e54-4033-88fb-82299a78de31')\"\n",
              "              title=\"Convert this dataframe to an interactive table.\"\n",
              "              style=\"display:none;\">\n",
              "        \n",
              "  <svg xmlns=\"http://www.w3.org/2000/svg\" height=\"24px\"viewBox=\"0 0 24 24\"\n",
              "       width=\"24px\">\n",
              "    <path d=\"M0 0h24v24H0V0z\" fill=\"none\"/>\n",
              "    <path d=\"M18.56 5.44l.94 2.06.94-2.06 2.06-.94-2.06-.94-.94-2.06-.94 2.06-2.06.94zm-11 1L8.5 8.5l.94-2.06 2.06-.94-2.06-.94L8.5 2.5l-.94 2.06-2.06.94zm10 10l.94 2.06.94-2.06 2.06-.94-2.06-.94-.94-2.06-.94 2.06-2.06.94z\"/><path d=\"M17.41 7.96l-1.37-1.37c-.4-.4-.92-.59-1.43-.59-.52 0-1.04.2-1.43.59L10.3 9.45l-7.72 7.72c-.78.78-.78 2.05 0 2.83L4 21.41c.39.39.9.59 1.41.59.51 0 1.02-.2 1.41-.59l7.78-7.78 2.81-2.81c.8-.78.8-2.07 0-2.86zM5.41 20L4 18.59l7.72-7.72 1.47 1.35L5.41 20z\"/>\n",
              "  </svg>\n",
              "      </button>\n",
              "      \n",
              "  <style>\n",
              "    .colab-df-container {\n",
              "      display:flex;\n",
              "      flex-wrap:wrap;\n",
              "      gap: 12px;\n",
              "    }\n",
              "\n",
              "    .colab-df-convert {\n",
              "      background-color: #E8F0FE;\n",
              "      border: none;\n",
              "      border-radius: 50%;\n",
              "      cursor: pointer;\n",
              "      display: none;\n",
              "      fill: #1967D2;\n",
              "      height: 32px;\n",
              "      padding: 0 0 0 0;\n",
              "      width: 32px;\n",
              "    }\n",
              "\n",
              "    .colab-df-convert:hover {\n",
              "      background-color: #E2EBFA;\n",
              "      box-shadow: 0px 1px 2px rgba(60, 64, 67, 0.3), 0px 1px 3px 1px rgba(60, 64, 67, 0.15);\n",
              "      fill: #174EA6;\n",
              "    }\n",
              "\n",
              "    [theme=dark] .colab-df-convert {\n",
              "      background-color: #3B4455;\n",
              "      fill: #D2E3FC;\n",
              "    }\n",
              "\n",
              "    [theme=dark] .colab-df-convert:hover {\n",
              "      background-color: #434B5C;\n",
              "      box-shadow: 0px 1px 3px 1px rgba(0, 0, 0, 0.15);\n",
              "      filter: drop-shadow(0px 1px 2px rgba(0, 0, 0, 0.3));\n",
              "      fill: #FFFFFF;\n",
              "    }\n",
              "  </style>\n",
              "\n",
              "      <script>\n",
              "        const buttonEl =\n",
              "          document.querySelector('#df-76394f3f-1e54-4033-88fb-82299a78de31 button.colab-df-convert');\n",
              "        buttonEl.style.display =\n",
              "          google.colab.kernel.accessAllowed ? 'block' : 'none';\n",
              "\n",
              "        async function convertToInteractive(key) {\n",
              "          const element = document.querySelector('#df-76394f3f-1e54-4033-88fb-82299a78de31');\n",
              "          const dataTable =\n",
              "            await google.colab.kernel.invokeFunction('convertToInteractive',\n",
              "                                                     [key], {});\n",
              "          if (!dataTable) return;\n",
              "\n",
              "          const docLinkHtml = 'Like what you see? Visit the ' +\n",
              "            '<a target=\"_blank\" href=https://colab.research.google.com/notebooks/data_table.ipynb>data table notebook</a>'\n",
              "            + ' to learn more about interactive tables.';\n",
              "          element.innerHTML = '';\n",
              "          dataTable['output_type'] = 'display_data';\n",
              "          await google.colab.output.renderOutput(dataTable, element);\n",
              "          const docLink = document.createElement('div');\n",
              "          docLink.innerHTML = docLinkHtml;\n",
              "          element.appendChild(docLink);\n",
              "        }\n",
              "      </script>\n",
              "    </div>\n",
              "  </div>\n",
              "  "
            ]
          },
          "metadata": {},
          "execution_count": 18
        }
      ],
      "source": [
        "dataframe"
      ]
    },
    {
      "cell_type": "code",
      "execution_count": 19,
      "metadata": {
        "colab": {
          "base_uri": "https://localhost:8080/",
          "height": 626
        },
        "id": "Hyd5Mk6k-hjh",
        "outputId": "dba9831e-7d70-47ad-870a-372ede97c193"
      },
      "outputs": [
        {
          "output_type": "display_data",
          "data": {
            "text/plain": [
              "<Figure size 800x600 with 1 Axes>"
            ],
            "image/png": "[encoded data removed]"
          },
          "metadata": {}
        }
      ],
      "source": [
        "import seaborn as sns\n",
        "\n",
        "plt.figure(figsize=(8, 6))\n",
        "\n",
        "sns.heatmap(dataframe, annot=True, cbar=None,cmap=\"YlGnBu\",fmt=\"d\") # Create heatmap\n",
        "\n",
        "plt.title(\"Confusion Matrix\"), plt.tight_layout()\n",
        "\n",
        "plt.ylabel(\"True Class\"), \n",
        "plt.xlabel(\"Predicted Class\")\n",
        "plt.show()"
      ]
    }
  ],
  "metadata": {
    "accelerator": "GPU",
    "colab": {
      "gpuType": "T4",
      "provenance": []
    },
    "kernelspec": {
      "display_name": "Python 3 (ipykernel)",
      "language": "python",
      "name": "python3"
    },
    "language_info": {
      "codemirror_mode": {
        "name": "ipython",
        "version": 3
      },
      "file_extension": ".py",
      "mimetype": "text/x-python",
      "name": "python",
      "nbconvert_exporter": "python",
      "pygments_lexer": "ipython3",
      "version": "3.9.13"
    }
  },
  "nbformat": 4,
  "nbformat_minor": 0
}