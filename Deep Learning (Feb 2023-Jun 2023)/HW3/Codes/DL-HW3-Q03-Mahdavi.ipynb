{
  "cells": [
    {
      "cell_type": "markdown",
      "id": "2f3f481c",
      "metadata": {
        "id": "2f3f481c"
      },
      "source": [
        "# The Deep Learning Homework 3 - Question No. 03  \n",
        "Bahar Mahdavi - SN: 40152521337"
      ]
    },
    {
      "cell_type": "markdown",
      "source": [
        "# Defining 2 following models network and evaluate\n",
        "\n",
        "Model1 : Conv1D(C_in = 2, C_out = 1, kernel = 2, padding = 0, stride = 1)  Average_Pooling(kernel = 2, padding = 0, stride = 1)\n",
        "\n",
        "Model2 : Conv1D(C_in = 2, C_out = 1, kernel = 2, padding = 0, stride = 1)  Max_Pooling(kernel = 2, padding = 0, stride = 1)"
      ],
      "metadata": {
        "id": "32akJ3hxmezO"
      },
      "id": "32akJ3hxmezO"
    },
    {
      "cell_type": "code",
      "execution_count": null,
      "id": "78ed54b1",
      "metadata": {
        "id": "78ed54b1"
      },
      "outputs": [],
      "source": [
        "import torch\n",
        "import torch.nn as nn\n",
        "import torch.nn.functional as F\n",
        "import torch.optim as optim\n",
        "import matplotlib.pyplot as plt\n",
        "from torchsummary import summary"
      ]
    },
    {
      "cell_type": "code",
      "execution_count": null,
      "id": "ef4c8ad6",
      "metadata": {
        "id": "ef4c8ad6"
      },
      "outputs": [],
      "source": [
        "# Define Data1 and Data2\n",
        "Data1 = torch.tensor([[[1, 2, -3, 2], [1, 2, -2, 1]]], dtype=torch.float32)\n",
        "Data2 = torch.tensor([[[4, 2, -2, 2], [3, 2, -7, 2]]], dtype=torch.float32)"
      ]
    },
    {
      "cell_type": "code",
      "execution_count": null,
      "id": "a7a3c775",
      "metadata": {
        "colab": {
          "base_uri": "https://localhost:8080/"
        },
        "id": "a7a3c775",
        "outputId": "0f2bb93e-f7dc-4d38-97b7-eb6f79ab97ee"
      },
      "outputs": [
        {
          "output_type": "stream",
          "name": "stdout",
          "text": [
            "tensor([[[ 1.,  2., -3.,  2.],\n",
            "         [ 1.,  2., -2.,  1.]]])\n",
            "torch.Size([1, 2, 4])\n",
            "<class 'torch.Tensor'>\n"
          ]
        }
      ],
      "source": [
        "print(Data1)\n",
        "print(Data1.shape)\n",
        "print(type(Data1))"
      ]
    },
    {
      "cell_type": "code",
      "execution_count": null,
      "id": "5c18bb24",
      "metadata": {
        "colab": {
          "base_uri": "https://localhost:8080/"
        },
        "id": "5c18bb24",
        "outputId": "78423cc5-028e-432e-a52d-720cd66a5957"
      },
      "outputs": [
        {
          "output_type": "stream",
          "name": "stdout",
          "text": [
            "tensor([[[ 4.,  2., -2.,  2.],\n",
            "         [ 3.,  2., -7.,  2.]]])\n",
            "torch.Size([1, 2, 4])\n",
            "<class 'torch.Tensor'>\n"
          ]
        }
      ],
      "source": [
        "print(Data2)\n",
        "print(Data2.shape)\n",
        "print(type(Data2))"
      ]
    },
    {
      "cell_type": "code",
      "execution_count": null,
      "id": "68b15e13",
      "metadata": {
        "id": "68b15e13"
      },
      "outputs": [],
      "source": [
        "# Define Network models\n",
        "class Model1(nn.Module):\n",
        "    def __init__(self):\n",
        "        super(Model1, self).__init__()\n",
        "        self.conv = nn.Conv1d(in_channels=2, out_channels=1, kernel_size=2, padding=0 , stride=1, bias=False)\n",
        "        self.avg_pool = nn.AvgPool1d(kernel_size=2, padding=0, stride=1)\n",
        "\n",
        "    def forward(self, x):\n",
        "        x = self.conv(x)\n",
        "        x = self.avg_pool(x)\n",
        "        return x\n",
        "\n",
        "class Model2(nn.Module):\n",
        "    def __init__(self):\n",
        "        super(Model2, self).__init__()\n",
        "        self.conv = nn.Conv1d(in_channels=2, out_channels=1, kernel_size=2, padding=0 , stride=1, bias=False)\n",
        "        self.max_pool = nn.MaxPool1d(kernel_size=2, padding=0, stride=1)\n",
        "\n",
        "    def forward(self, x):\n",
        "        x = self.conv(x)\n",
        "        x = self.max_pool(x)\n",
        "        return x"
      ]
    },
    {
      "cell_type": "code",
      "execution_count": null,
      "id": "8b7ffddc",
      "metadata": {
        "colab": {
          "base_uri": "https://localhost:8080/"
        },
        "id": "8b7ffddc",
        "outputId": "2193a1d8-8ecf-4ba4-9da7-26b0a1235c59"
      },
      "outputs": [
        {
          "output_type": "stream",
          "name": "stdout",
          "text": [
            "Output 1: tensor([[[ 1.1526, -0.1295]]], grad_fn=<SqueezeBackward1>)\n",
            "Output 2: tensor([[[3.8646, 3.8646]]], grad_fn=<SqueezeBackward1>)\n",
            "Difference: tensor(4.8278, grad_fn=<LinalgVectorNormBackward0>)\n"
          ]
        }
      ],
      "source": [
        "model1 = Model1()\n",
        "model2 = Model2()\n",
        "\n",
        "out1 = model1(Data1)\n",
        "out2 = model2(Data2)\n",
        "\n",
        "distance = torch.norm(out2 - out1, p=2) #l1-Norm\n",
        "\n",
        "print(\"Output 1:\", out1)\n",
        "print(\"Output 2:\", out2)\n",
        "print(\"Difference:\", distance)"
      ]
    },
    {
      "cell_type": "markdown",
      "source": [
        "# Model 1"
      ],
      "metadata": {
        "id": "vivBINFpkm3p"
      },
      "id": "vivBINFpkm3p"
    },
    {
      "cell_type": "code",
      "execution_count": null,
      "id": "9711efd1",
      "metadata": {
        "colab": {
          "base_uri": "https://localhost:8080/"
        },
        "id": "9711efd1",
        "outputId": "5064ce0c-f877-4a3f-a4ec-2fc11484c078"
      },
      "outputs": [
        {
          "output_type": "stream",
          "name": "stdout",
          "text": [
            "----------------------------------------------------------------\n",
            "        Layer (type)               Output Shape         Param #\n",
            "================================================================\n",
            "            Conv1d-1                 [-1, 1, 3]               4\n",
            "         AvgPool1d-2                 [-1, 1, 2]               0\n",
            "================================================================\n",
            "Total params: 4\n",
            "Trainable params: 4\n",
            "Non-trainable params: 0\n",
            "----------------------------------------------------------------\n",
            "Input size (MB): 0.00\n",
            "Forward/backward pass size (MB): 0.00\n",
            "Params size (MB): 0.00\n",
            "Estimated Total Size (MB): 0.00\n",
            "----------------------------------------------------------------\n"
          ]
        }
      ],
      "source": [
        "summary(model1, (2,4))"
      ]
    },
    {
      "cell_type": "code",
      "execution_count": null,
      "id": "d2d7e3ec",
      "metadata": {
        "id": "d2d7e3ec"
      },
      "outputs": [],
      "source": [
        "optimizer1 = optim.SGD(model1.parameters(), lr=1e-4)\n",
        "criterion1 = nn.MSELoss()"
      ]
    },
    {
      "cell_type": "code",
      "execution_count": null,
      "id": "4a5e6acf",
      "metadata": {
        "colab": {
          "base_uri": "https://localhost:8080/"
        },
        "id": "4a5e6acf",
        "outputId": "eac60e12-30ae-48cf-fff8-731e401fd4b7"
      },
      "outputs": [
        {
          "output_type": "stream",
          "name": "stdout",
          "text": [
            "epoch 0 loss : 1.1371827125549316\n",
            "epoch 1000 loss : 0.07905081659555435\n",
            "epoch 2000 loss : 0.00683636125177145\n",
            "epoch 3000 loss : 0.000910209899302572\n",
            "epoch 4000 loss : 0.0001821737823775038\n",
            "epoch 5000 loss : 4.403735147207044e-05\n",
            "epoch 6000 loss : 1.1272597475908697e-05\n",
            "epoch 7000 loss : 2.9290504244272597e-06\n",
            "epoch 8000 loss : 7.643365051990259e-07\n",
            "epoch 9000 loss : 1.9954886454343068e-07\n",
            "epoch 9999 loss : 5.276150361055443e-08\n"
          ]
        }
      ],
      "source": [
        "n_epoch = 10000\n",
        "\n",
        "\n",
        "loss_list1 = []\n",
        "\n",
        "for epoch in range(n_epoch):\n",
        "\n",
        "    optimizer1.zero_grad()\n",
        "    out2 = model1(Data2)\n",
        "    out1 = model1(Data1)\n",
        "    loss = criterion1(out2,out1)\n",
        "    if epoch%1000 ==0 or epoch== n_epoch-1:\n",
        "       print(f'epoch {epoch} loss : {loss}')\n",
        "    loss_list1.append(loss.item())\n",
        "    loss.backward()\n",
        "    optimizer1.step()"
      ]
    },
    {
      "cell_type": "code",
      "execution_count": null,
      "id": "cbb54fbc",
      "metadata": {
        "colab": {
          "base_uri": "https://localhost:8080/",
          "height": 472
        },
        "id": "cbb54fbc",
        "outputId": "e5d0b72b-82a4-438e-ddc3-a854639b71a3"
      },
      "outputs": [
        {
          "output_type": "display_data",
          "data": {
            "text/plain": [
              "<Figure size 640x480 with 1 Axes>"
            ],
            "image/png": "[encoded data removed]"
          },
          "metadata": {}
        }
      ],
      "source": [
        "plt.plot(range(0,n_epoch), loss_list1)\n",
        "plt.title('Loss Model 1')\n",
        "plt.xlabel('epoch')\n",
        "plt.ylabel('loss')\n",
        "plt.show()"
      ]
    },
    {
      "cell_type": "markdown",
      "source": [
        "# Model 2:"
      ],
      "metadata": {
        "id": "yXoqfNjhkexa"
      },
      "id": "yXoqfNjhkexa"
    },
    {
      "cell_type": "code",
      "source": [
        "summary(model2, (2,4))"
      ],
      "metadata": {
        "colab": {
          "base_uri": "https://localhost:8080/"
        },
        "id": "9Jy6ReU8jtjg",
        "outputId": "96a23dd7-2616-41c5-8a22-c5269b061608"
      },
      "id": "9Jy6ReU8jtjg",
      "execution_count": null,
      "outputs": [
        {
          "output_type": "stream",
          "name": "stdout",
          "text": [
            "----------------------------------------------------------------\n",
            "        Layer (type)               Output Shape         Param #\n",
            "================================================================\n",
            "            Conv1d-1                 [-1, 1, 3]               4\n",
            "         MaxPool1d-2                 [-1, 1, 2]               0\n",
            "================================================================\n",
            "Total params: 4\n",
            "Trainable params: 4\n",
            "Non-trainable params: 0\n",
            "----------------------------------------------------------------\n",
            "Input size (MB): 0.00\n",
            "Forward/backward pass size (MB): 0.00\n",
            "Params size (MB): 0.00\n",
            "Estimated Total Size (MB): 0.00\n",
            "----------------------------------------------------------------\n"
          ]
        }
      ]
    },
    {
      "cell_type": "code",
      "execution_count": null,
      "id": "f91e1f55",
      "metadata": {
        "id": "f91e1f55"
      },
      "outputs": [],
      "source": [
        "optimizer2 = optim.SGD(model2.parameters(), lr=1e-4)\n",
        "criterion2 = nn.MSELoss()"
      ]
    },
    {
      "cell_type": "code",
      "execution_count": null,
      "id": "f3e1746e",
      "metadata": {
        "colab": {
          "base_uri": "https://localhost:8080/"
        },
        "id": "f3e1746e",
        "outputId": "7bdeb42c-9b40-482a-eba1-92ae97238356"
      },
      "outputs": [
        {
          "output_type": "stream",
          "name": "stdout",
          "text": [
            "epoch 0 loss : 6.247011661529541\n",
            "epoch 1000 loss : 0.0004097272176295519\n",
            "epoch 2000 loss : 9.043644240591675e-06\n",
            "epoch 3000 loss : 1.9986711663477763e-07\n",
            "epoch 4000 loss : 4.337984194080491e-09\n",
            "epoch 5000 loss : 1.4930634506526985e-10\n",
            "epoch 6000 loss : 3.842615114990622e-11\n",
            "epoch 7000 loss : 3.842615114990622e-11\n",
            "epoch 8000 loss : 3.842615114990622e-11\n",
            "epoch 9000 loss : 3.842615114990622e-11\n",
            "epoch 9999 loss : 3.842615114990622e-11\n"
          ]
        }
      ],
      "source": [
        "n_epoch = 10000\n",
        "\n",
        "\n",
        "loss_list2 = []\n",
        "\n",
        "for epoch in range(n_epoch):\n",
        "\n",
        "    optimizer2.zero_grad()\n",
        "    out2 = model2(Data2)\n",
        "    out1 = model2(Data1)\n",
        "    loss = criterion2(out2, out1)\n",
        "    if epoch%1000 ==0 or epoch== n_epoch-1:\n",
        "       print(f'epoch {epoch} loss : {loss}')\n",
        "    loss_list2.append(loss.item())\n",
        "    loss.backward()\n",
        "    optimizer2.step()"
      ]
    },
    {
      "cell_type": "code",
      "execution_count": null,
      "id": "1944378e",
      "metadata": {
        "colab": {
          "base_uri": "https://localhost:8080/",
          "height": 472
        },
        "id": "1944378e",
        "outputId": "b30fbe9c-9785-4d48-8300-bc561a693d50"
      },
      "outputs": [
        {
          "output_type": "display_data",
          "data": {
            "text/plain": [
              "<Figure size 640x480 with 1 Axes>"
            ],
            "image/png": "[encoded data removed]"
          },
          "metadata": {}
        }
      ],
      "source": [
        "plt.plot(range(0,n_epoch), loss_list2)\n",
        "plt.title('Loss Model 2')\n",
        "plt.xlabel('epoch')\n",
        "plt.ylabel('loss')\n",
        "plt.show()"
      ]
    }
  ],
  "metadata": {
    "kernelspec": {
      "display_name": "Python 3 (ipykernel)",
      "language": "python",
      "name": "python3"
    },
    "language_info": {
      "codemirror_mode": {
        "name": "ipython",
        "version": 3
      },
      "file_extension": ".py",
      "mimetype": "text/x-python",
      "name": "python",
      "nbconvert_exporter": "python",
      "pygments_lexer": "ipython3",
      "version": "3.9.13"
    },
    "colab": {
      "provenance": []
    }
  },
  "nbformat": 4,
  "nbformat_minor": 5
}