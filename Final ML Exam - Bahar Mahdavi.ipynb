{
 "cells": [
  {
   "cell_type": "markdown",
   "id": "942b180c",
   "metadata": {},
   "source": [
    "# The Practical Part of the Machine Learning Final Exam \n",
    "Bahar Mahdavi - SN: 40152521337"
   ]
  },
  {
   "cell_type": "markdown",
   "id": "7dd1ba5a",
   "metadata": {},
   "source": [
    "# Loading the datasets:"
   ]
  },
  {
   "cell_type": "code",
   "execution_count": 11,
   "id": "ad67b4f6",
   "metadata": {},
   "outputs": [],
   "source": [
    "import pandas as pd \n",
    "df1 = pd.read_csv(r\"C:\\Bahar\\M.Sc Data Mining\\Machine Learning (Oct 2022-Feb 2023)\\Exam\\archive\\EEG_data.csv\")"
   ]
  },
  {
   "cell_type": "code",
   "execution_count": 12,
   "id": "224708ae",
   "metadata": {},
   "outputs": [
    {
     "data": {
      "text/plain": [
       "(12811, 15)"
      ]
     },
     "execution_count": 12,
     "metadata": {},
     "output_type": "execute_result"
    }
   ],
   "source": [
    "df1.shape"
   ]
  },
  {
   "cell_type": "code",
   "execution_count": 13,
   "id": "a3c11479",
   "metadata": {},
   "outputs": [
    {
     "data": {
      "text/html": [
       "<div>\n",
       "<style scoped>\n",
       "    .dataframe tbody tr th:only-of-type {\n",
       "        vertical-align: middle;\n",
       "    }\n",
       "\n",
       "    .dataframe tbody tr th {\n",
       "        vertical-align: top;\n",
       "    }\n",
       "\n",
       "    .dataframe thead th {\n",
       "        text-align: right;\n",
       "    }\n",
       "</style>\n",
       "<table border=\"1\" class=\"dataframe\">\n",
       "  <thead>\n",
       "    <tr style=\"text-align: right;\">\n",
       "      <th></th>\n",
       "      <th>SubjectID</th>\n",
       "      <th>VideoID</th>\n",
       "      <th>Attention</th>\n",
       "      <th>Mediation</th>\n",
       "      <th>Raw</th>\n",
       "      <th>Delta</th>\n",
       "      <th>Theta</th>\n",
       "      <th>Alpha1</th>\n",
       "      <th>Alpha2</th>\n",
       "      <th>Beta1</th>\n",
       "      <th>Beta2</th>\n",
       "      <th>Gamma1</th>\n",
       "      <th>Gamma2</th>\n",
       "      <th>predefinedlabel</th>\n",
       "      <th>user-definedlabeln</th>\n",
       "    </tr>\n",
       "  </thead>\n",
       "  <tbody>\n",
       "    <tr>\n",
       "      <th>0</th>\n",
       "      <td>0.0</td>\n",
       "      <td>0.0</td>\n",
       "      <td>56.0</td>\n",
       "      <td>43.0</td>\n",
       "      <td>278.0</td>\n",
       "      <td>302000.0</td>\n",
       "      <td>90600.0</td>\n",
       "      <td>33700.0</td>\n",
       "      <td>24000.0</td>\n",
       "      <td>27900.0</td>\n",
       "      <td>45100.0</td>\n",
       "      <td>33200.0</td>\n",
       "      <td>8290.0</td>\n",
       "      <td>0.0</td>\n",
       "      <td>0.0</td>\n",
       "    </tr>\n",
       "    <tr>\n",
       "      <th>1</th>\n",
       "      <td>0.0</td>\n",
       "      <td>0.0</td>\n",
       "      <td>40.0</td>\n",
       "      <td>35.0</td>\n",
       "      <td>-50.0</td>\n",
       "      <td>73800.0</td>\n",
       "      <td>28100.0</td>\n",
       "      <td>1440.0</td>\n",
       "      <td>2240.0</td>\n",
       "      <td>2750.0</td>\n",
       "      <td>3690.0</td>\n",
       "      <td>5290.0</td>\n",
       "      <td>2740.0</td>\n",
       "      <td>0.0</td>\n",
       "      <td>0.0</td>\n",
       "    </tr>\n",
       "    <tr>\n",
       "      <th>2</th>\n",
       "      <td>0.0</td>\n",
       "      <td>0.0</td>\n",
       "      <td>47.0</td>\n",
       "      <td>48.0</td>\n",
       "      <td>101.0</td>\n",
       "      <td>758000.0</td>\n",
       "      <td>384000.0</td>\n",
       "      <td>202000.0</td>\n",
       "      <td>62100.0</td>\n",
       "      <td>36300.0</td>\n",
       "      <td>131000.0</td>\n",
       "      <td>57200.0</td>\n",
       "      <td>25400.0</td>\n",
       "      <td>0.0</td>\n",
       "      <td>0.0</td>\n",
       "    </tr>\n",
       "    <tr>\n",
       "      <th>3</th>\n",
       "      <td>0.0</td>\n",
       "      <td>0.0</td>\n",
       "      <td>47.0</td>\n",
       "      <td>57.0</td>\n",
       "      <td>-5.0</td>\n",
       "      <td>2010000.0</td>\n",
       "      <td>129000.0</td>\n",
       "      <td>61200.0</td>\n",
       "      <td>17100.0</td>\n",
       "      <td>11500.0</td>\n",
       "      <td>62500.0</td>\n",
       "      <td>50000.0</td>\n",
       "      <td>33900.0</td>\n",
       "      <td>0.0</td>\n",
       "      <td>0.0</td>\n",
       "    </tr>\n",
       "    <tr>\n",
       "      <th>4</th>\n",
       "      <td>0.0</td>\n",
       "      <td>0.0</td>\n",
       "      <td>44.0</td>\n",
       "      <td>53.0</td>\n",
       "      <td>-8.0</td>\n",
       "      <td>1010000.0</td>\n",
       "      <td>354000.0</td>\n",
       "      <td>37100.0</td>\n",
       "      <td>88900.0</td>\n",
       "      <td>45300.0</td>\n",
       "      <td>99600.0</td>\n",
       "      <td>44800.0</td>\n",
       "      <td>29700.0</td>\n",
       "      <td>0.0</td>\n",
       "      <td>0.0</td>\n",
       "    </tr>\n",
       "    <tr>\n",
       "      <th>...</th>\n",
       "      <td>...</td>\n",
       "      <td>...</td>\n",
       "      <td>...</td>\n",
       "      <td>...</td>\n",
       "      <td>...</td>\n",
       "      <td>...</td>\n",
       "      <td>...</td>\n",
       "      <td>...</td>\n",
       "      <td>...</td>\n",
       "      <td>...</td>\n",
       "      <td>...</td>\n",
       "      <td>...</td>\n",
       "      <td>...</td>\n",
       "      <td>...</td>\n",
       "      <td>...</td>\n",
       "    </tr>\n",
       "    <tr>\n",
       "      <th>12806</th>\n",
       "      <td>9.0</td>\n",
       "      <td>9.0</td>\n",
       "      <td>64.0</td>\n",
       "      <td>38.0</td>\n",
       "      <td>-39.0</td>\n",
       "      <td>128000.0</td>\n",
       "      <td>9950.0</td>\n",
       "      <td>709.0</td>\n",
       "      <td>21700.0</td>\n",
       "      <td>3870.0</td>\n",
       "      <td>39700.0</td>\n",
       "      <td>2600.0</td>\n",
       "      <td>960.0</td>\n",
       "      <td>1.0</td>\n",
       "      <td>0.0</td>\n",
       "    </tr>\n",
       "    <tr>\n",
       "      <th>12807</th>\n",
       "      <td>9.0</td>\n",
       "      <td>9.0</td>\n",
       "      <td>61.0</td>\n",
       "      <td>35.0</td>\n",
       "      <td>-275.0</td>\n",
       "      <td>323000.0</td>\n",
       "      <td>797000.0</td>\n",
       "      <td>153000.0</td>\n",
       "      <td>146000.0</td>\n",
       "      <td>39800.0</td>\n",
       "      <td>571000.0</td>\n",
       "      <td>36600.0</td>\n",
       "      <td>10000.0</td>\n",
       "      <td>1.0</td>\n",
       "      <td>0.0</td>\n",
       "    </tr>\n",
       "    <tr>\n",
       "      <th>12808</th>\n",
       "      <td>9.0</td>\n",
       "      <td>9.0</td>\n",
       "      <td>60.0</td>\n",
       "      <td>29.0</td>\n",
       "      <td>-426.0</td>\n",
       "      <td>681000.0</td>\n",
       "      <td>154000.0</td>\n",
       "      <td>40100.0</td>\n",
       "      <td>39100.0</td>\n",
       "      <td>11000.0</td>\n",
       "      <td>27000.0</td>\n",
       "      <td>20400.0</td>\n",
       "      <td>2020.0</td>\n",
       "      <td>1.0</td>\n",
       "      <td>0.0</td>\n",
       "    </tr>\n",
       "    <tr>\n",
       "      <th>12809</th>\n",
       "      <td>9.0</td>\n",
       "      <td>9.0</td>\n",
       "      <td>60.0</td>\n",
       "      <td>29.0</td>\n",
       "      <td>-84.0</td>\n",
       "      <td>366000.0</td>\n",
       "      <td>27300.0</td>\n",
       "      <td>11400.0</td>\n",
       "      <td>9930.0</td>\n",
       "      <td>1940.0</td>\n",
       "      <td>3280.0</td>\n",
       "      <td>12300.0</td>\n",
       "      <td>1760.0</td>\n",
       "      <td>1.0</td>\n",
       "      <td>0.0</td>\n",
       "    </tr>\n",
       "    <tr>\n",
       "      <th>12810</th>\n",
       "      <td>9.0</td>\n",
       "      <td>9.0</td>\n",
       "      <td>64.0</td>\n",
       "      <td>29.0</td>\n",
       "      <td>-49.0</td>\n",
       "      <td>1160000.0</td>\n",
       "      <td>1180000.0</td>\n",
       "      <td>50000.0</td>\n",
       "      <td>124000.0</td>\n",
       "      <td>10600.0</td>\n",
       "      <td>445000.0</td>\n",
       "      <td>22100.0</td>\n",
       "      <td>4480.0</td>\n",
       "      <td>1.0</td>\n",
       "      <td>0.0</td>\n",
       "    </tr>\n",
       "  </tbody>\n",
       "</table>\n",
       "<p>12811 rows × 15 columns</p>\n",
       "</div>"
      ],
      "text/plain": [
       "       SubjectID  VideoID  Attention  Mediation    Raw      Delta      Theta  \\\n",
       "0            0.0      0.0       56.0       43.0  278.0   302000.0    90600.0   \n",
       "1            0.0      0.0       40.0       35.0  -50.0    73800.0    28100.0   \n",
       "2            0.0      0.0       47.0       48.0  101.0   758000.0   384000.0   \n",
       "3            0.0      0.0       47.0       57.0   -5.0  2010000.0   129000.0   \n",
       "4            0.0      0.0       44.0       53.0   -8.0  1010000.0   354000.0   \n",
       "...          ...      ...        ...        ...    ...        ...        ...   \n",
       "12806        9.0      9.0       64.0       38.0  -39.0   128000.0     9950.0   \n",
       "12807        9.0      9.0       61.0       35.0 -275.0   323000.0   797000.0   \n",
       "12808        9.0      9.0       60.0       29.0 -426.0   681000.0   154000.0   \n",
       "12809        9.0      9.0       60.0       29.0  -84.0   366000.0    27300.0   \n",
       "12810        9.0      9.0       64.0       29.0  -49.0  1160000.0  1180000.0   \n",
       "\n",
       "         Alpha1    Alpha2    Beta1     Beta2   Gamma1   Gamma2  \\\n",
       "0       33700.0   24000.0  27900.0   45100.0  33200.0   8290.0   \n",
       "1        1440.0    2240.0   2750.0    3690.0   5290.0   2740.0   \n",
       "2      202000.0   62100.0  36300.0  131000.0  57200.0  25400.0   \n",
       "3       61200.0   17100.0  11500.0   62500.0  50000.0  33900.0   \n",
       "4       37100.0   88900.0  45300.0   99600.0  44800.0  29700.0   \n",
       "...         ...       ...      ...       ...      ...      ...   \n",
       "12806     709.0   21700.0   3870.0   39700.0   2600.0    960.0   \n",
       "12807  153000.0  146000.0  39800.0  571000.0  36600.0  10000.0   \n",
       "12808   40100.0   39100.0  11000.0   27000.0  20400.0   2020.0   \n",
       "12809   11400.0    9930.0   1940.0    3280.0  12300.0   1760.0   \n",
       "12810   50000.0  124000.0  10600.0  445000.0  22100.0   4480.0   \n",
       "\n",
       "       predefinedlabel  user-definedlabeln  \n",
       "0                  0.0                 0.0  \n",
       "1                  0.0                 0.0  \n",
       "2                  0.0                 0.0  \n",
       "3                  0.0                 0.0  \n",
       "4                  0.0                 0.0  \n",
       "...                ...                 ...  \n",
       "12806              1.0                 0.0  \n",
       "12807              1.0                 0.0  \n",
       "12808              1.0                 0.0  \n",
       "12809              1.0                 0.0  \n",
       "12810              1.0                 0.0  \n",
       "\n",
       "[12811 rows x 15 columns]"
      ]
     },
     "execution_count": 13,
     "metadata": {},
     "output_type": "execute_result"
    }
   ],
   "source": [
    "df1"
   ]
  },
  {
   "cell_type": "code",
   "execution_count": 14,
   "id": "f2a53ba7",
   "metadata": {},
   "outputs": [],
   "source": [
    "df2 = pd.read_csv(r\"C:\\Bahar\\M.Sc Data Mining\\Machine Learning (Oct 2022-Feb 2023)\\Exam\\archive\\demographic_info.csv\")"
   ]
  },
  {
   "cell_type": "code",
   "execution_count": 15,
   "id": "d1013061",
   "metadata": {},
   "outputs": [
    {
     "data": {
      "text/plain": [
       "(10, 4)"
      ]
     },
     "execution_count": 15,
     "metadata": {},
     "output_type": "execute_result"
    }
   ],
   "source": [
    "df2.shape"
   ]
  },
  {
   "cell_type": "code",
   "execution_count": 16,
   "id": "7b10fb40",
   "metadata": {},
   "outputs": [
    {
     "data": {
      "text/html": [
       "<div>\n",
       "<style scoped>\n",
       "    .dataframe tbody tr th:only-of-type {\n",
       "        vertical-align: middle;\n",
       "    }\n",
       "\n",
       "    .dataframe tbody tr th {\n",
       "        vertical-align: top;\n",
       "    }\n",
       "\n",
       "    .dataframe thead th {\n",
       "        text-align: right;\n",
       "    }\n",
       "</style>\n",
       "<table border=\"1\" class=\"dataframe\">\n",
       "  <thead>\n",
       "    <tr style=\"text-align: right;\">\n",
       "      <th></th>\n",
       "      <th>subject ID</th>\n",
       "      <th>age</th>\n",
       "      <th>ethnicity</th>\n",
       "      <th>gender</th>\n",
       "    </tr>\n",
       "  </thead>\n",
       "  <tbody>\n",
       "    <tr>\n",
       "      <th>0</th>\n",
       "      <td>0</td>\n",
       "      <td>25</td>\n",
       "      <td>Han_Chinese</td>\n",
       "      <td>M</td>\n",
       "    </tr>\n",
       "    <tr>\n",
       "      <th>1</th>\n",
       "      <td>1</td>\n",
       "      <td>24</td>\n",
       "      <td>Han_Chinese</td>\n",
       "      <td>M</td>\n",
       "    </tr>\n",
       "    <tr>\n",
       "      <th>2</th>\n",
       "      <td>2</td>\n",
       "      <td>31</td>\n",
       "      <td>English</td>\n",
       "      <td>M</td>\n",
       "    </tr>\n",
       "    <tr>\n",
       "      <th>3</th>\n",
       "      <td>3</td>\n",
       "      <td>28</td>\n",
       "      <td>Han_Chinese</td>\n",
       "      <td>F</td>\n",
       "    </tr>\n",
       "    <tr>\n",
       "      <th>4</th>\n",
       "      <td>4</td>\n",
       "      <td>24</td>\n",
       "      <td>Bengali</td>\n",
       "      <td>M</td>\n",
       "    </tr>\n",
       "    <tr>\n",
       "      <th>5</th>\n",
       "      <td>5</td>\n",
       "      <td>24</td>\n",
       "      <td>Han_Chinese</td>\n",
       "      <td>M</td>\n",
       "    </tr>\n",
       "    <tr>\n",
       "      <th>6</th>\n",
       "      <td>6</td>\n",
       "      <td>24</td>\n",
       "      <td>Han_Chinese</td>\n",
       "      <td>M</td>\n",
       "    </tr>\n",
       "    <tr>\n",
       "      <th>7</th>\n",
       "      <td>7</td>\n",
       "      <td>25</td>\n",
       "      <td>Han_Chinese</td>\n",
       "      <td>M</td>\n",
       "    </tr>\n",
       "    <tr>\n",
       "      <th>8</th>\n",
       "      <td>8</td>\n",
       "      <td>25</td>\n",
       "      <td>Han_Chinese</td>\n",
       "      <td>M</td>\n",
       "    </tr>\n",
       "    <tr>\n",
       "      <th>9</th>\n",
       "      <td>9</td>\n",
       "      <td>24</td>\n",
       "      <td>Han_Chinese</td>\n",
       "      <td>F</td>\n",
       "    </tr>\n",
       "  </tbody>\n",
       "</table>\n",
       "</div>"
      ],
      "text/plain": [
       "   subject ID   age    ethnicity  gender\n",
       "0           0    25  Han_Chinese       M\n",
       "1           1    24  Han_Chinese       M\n",
       "2           2    31      English       M\n",
       "3           3    28  Han_Chinese       F\n",
       "4           4    24      Bengali       M\n",
       "5           5    24  Han_Chinese       M\n",
       "6           6    24  Han_Chinese       M\n",
       "7           7    25  Han_Chinese       M\n",
       "8           8    25  Han_Chinese       M\n",
       "9           9    24  Han_Chinese       F"
      ]
     },
     "execution_count": 16,
     "metadata": {},
     "output_type": "execute_result"
    }
   ],
   "source": [
    "df2"
   ]
  },
  {
   "cell_type": "markdown",
   "id": "2a5de35e",
   "metadata": {},
   "source": [
    "# Merging df1 and df2:"
   ]
  },
  {
   "cell_type": "code",
   "execution_count": 17,
   "id": "b4923329",
   "metadata": {},
   "outputs": [],
   "source": [
    "df2.rename(columns = {'subject ID':'SubjectID'}, inplace = True)"
   ]
  },
  {
   "cell_type": "code",
   "execution_count": 18,
   "id": "055bc22d",
   "metadata": {},
   "outputs": [],
   "source": [
    "df = df2.merge(df1, on = 'SubjectID')"
   ]
  },
  {
   "cell_type": "code",
   "execution_count": 19,
   "id": "b70b0718",
   "metadata": {},
   "outputs": [
    {
     "data": {
      "text/plain": [
       "(12811, 18)"
      ]
     },
     "execution_count": 19,
     "metadata": {},
     "output_type": "execute_result"
    }
   ],
   "source": [
    "df.shape"
   ]
  },
  {
   "cell_type": "code",
   "execution_count": 20,
   "id": "8302a17a",
   "metadata": {},
   "outputs": [
    {
     "data": {
      "text/html": [
       "<div>\n",
       "<style scoped>\n",
       "    .dataframe tbody tr th:only-of-type {\n",
       "        vertical-align: middle;\n",
       "    }\n",
       "\n",
       "    .dataframe tbody tr th {\n",
       "        vertical-align: top;\n",
       "    }\n",
       "\n",
       "    .dataframe thead th {\n",
       "        text-align: right;\n",
       "    }\n",
       "</style>\n",
       "<table border=\"1\" class=\"dataframe\">\n",
       "  <thead>\n",
       "    <tr style=\"text-align: right;\">\n",
       "      <th></th>\n",
       "      <th>SubjectID</th>\n",
       "      <th>age</th>\n",
       "      <th>ethnicity</th>\n",
       "      <th>gender</th>\n",
       "      <th>VideoID</th>\n",
       "      <th>Attention</th>\n",
       "      <th>Mediation</th>\n",
       "      <th>Raw</th>\n",
       "      <th>Delta</th>\n",
       "      <th>Theta</th>\n",
       "      <th>Alpha1</th>\n",
       "      <th>Alpha2</th>\n",
       "      <th>Beta1</th>\n",
       "      <th>Beta2</th>\n",
       "      <th>Gamma1</th>\n",
       "      <th>Gamma2</th>\n",
       "      <th>predefinedlabel</th>\n",
       "      <th>user-definedlabeln</th>\n",
       "    </tr>\n",
       "  </thead>\n",
       "  <tbody>\n",
       "    <tr>\n",
       "      <th>0</th>\n",
       "      <td>0</td>\n",
       "      <td>25</td>\n",
       "      <td>Han_Chinese</td>\n",
       "      <td>M</td>\n",
       "      <td>0.0</td>\n",
       "      <td>56.0</td>\n",
       "      <td>43.0</td>\n",
       "      <td>278.0</td>\n",
       "      <td>302000.0</td>\n",
       "      <td>90600.0</td>\n",
       "      <td>33700.0</td>\n",
       "      <td>24000.0</td>\n",
       "      <td>27900.0</td>\n",
       "      <td>45100.0</td>\n",
       "      <td>33200.0</td>\n",
       "      <td>8290.0</td>\n",
       "      <td>0.0</td>\n",
       "      <td>0.0</td>\n",
       "    </tr>\n",
       "    <tr>\n",
       "      <th>1</th>\n",
       "      <td>0</td>\n",
       "      <td>25</td>\n",
       "      <td>Han_Chinese</td>\n",
       "      <td>M</td>\n",
       "      <td>0.0</td>\n",
       "      <td>40.0</td>\n",
       "      <td>35.0</td>\n",
       "      <td>-50.0</td>\n",
       "      <td>73800.0</td>\n",
       "      <td>28100.0</td>\n",
       "      <td>1440.0</td>\n",
       "      <td>2240.0</td>\n",
       "      <td>2750.0</td>\n",
       "      <td>3690.0</td>\n",
       "      <td>5290.0</td>\n",
       "      <td>2740.0</td>\n",
       "      <td>0.0</td>\n",
       "      <td>0.0</td>\n",
       "    </tr>\n",
       "    <tr>\n",
       "      <th>2</th>\n",
       "      <td>0</td>\n",
       "      <td>25</td>\n",
       "      <td>Han_Chinese</td>\n",
       "      <td>M</td>\n",
       "      <td>0.0</td>\n",
       "      <td>47.0</td>\n",
       "      <td>48.0</td>\n",
       "      <td>101.0</td>\n",
       "      <td>758000.0</td>\n",
       "      <td>384000.0</td>\n",
       "      <td>202000.0</td>\n",
       "      <td>62100.0</td>\n",
       "      <td>36300.0</td>\n",
       "      <td>131000.0</td>\n",
       "      <td>57200.0</td>\n",
       "      <td>25400.0</td>\n",
       "      <td>0.0</td>\n",
       "      <td>0.0</td>\n",
       "    </tr>\n",
       "    <tr>\n",
       "      <th>3</th>\n",
       "      <td>0</td>\n",
       "      <td>25</td>\n",
       "      <td>Han_Chinese</td>\n",
       "      <td>M</td>\n",
       "      <td>0.0</td>\n",
       "      <td>47.0</td>\n",
       "      <td>57.0</td>\n",
       "      <td>-5.0</td>\n",
       "      <td>2010000.0</td>\n",
       "      <td>129000.0</td>\n",
       "      <td>61200.0</td>\n",
       "      <td>17100.0</td>\n",
       "      <td>11500.0</td>\n",
       "      <td>62500.0</td>\n",
       "      <td>50000.0</td>\n",
       "      <td>33900.0</td>\n",
       "      <td>0.0</td>\n",
       "      <td>0.0</td>\n",
       "    </tr>\n",
       "    <tr>\n",
       "      <th>4</th>\n",
       "      <td>0</td>\n",
       "      <td>25</td>\n",
       "      <td>Han_Chinese</td>\n",
       "      <td>M</td>\n",
       "      <td>0.0</td>\n",
       "      <td>44.0</td>\n",
       "      <td>53.0</td>\n",
       "      <td>-8.0</td>\n",
       "      <td>1010000.0</td>\n",
       "      <td>354000.0</td>\n",
       "      <td>37100.0</td>\n",
       "      <td>88900.0</td>\n",
       "      <td>45300.0</td>\n",
       "      <td>99600.0</td>\n",
       "      <td>44800.0</td>\n",
       "      <td>29700.0</td>\n",
       "      <td>0.0</td>\n",
       "      <td>0.0</td>\n",
       "    </tr>\n",
       "    <tr>\n",
       "      <th>...</th>\n",
       "      <td>...</td>\n",
       "      <td>...</td>\n",
       "      <td>...</td>\n",
       "      <td>...</td>\n",
       "      <td>...</td>\n",
       "      <td>...</td>\n",
       "      <td>...</td>\n",
       "      <td>...</td>\n",
       "      <td>...</td>\n",
       "      <td>...</td>\n",
       "      <td>...</td>\n",
       "      <td>...</td>\n",
       "      <td>...</td>\n",
       "      <td>...</td>\n",
       "      <td>...</td>\n",
       "      <td>...</td>\n",
       "      <td>...</td>\n",
       "      <td>...</td>\n",
       "    </tr>\n",
       "    <tr>\n",
       "      <th>12806</th>\n",
       "      <td>9</td>\n",
       "      <td>24</td>\n",
       "      <td>Han_Chinese</td>\n",
       "      <td>F</td>\n",
       "      <td>9.0</td>\n",
       "      <td>64.0</td>\n",
       "      <td>38.0</td>\n",
       "      <td>-39.0</td>\n",
       "      <td>128000.0</td>\n",
       "      <td>9950.0</td>\n",
       "      <td>709.0</td>\n",
       "      <td>21700.0</td>\n",
       "      <td>3870.0</td>\n",
       "      <td>39700.0</td>\n",
       "      <td>2600.0</td>\n",
       "      <td>960.0</td>\n",
       "      <td>1.0</td>\n",
       "      <td>0.0</td>\n",
       "    </tr>\n",
       "    <tr>\n",
       "      <th>12807</th>\n",
       "      <td>9</td>\n",
       "      <td>24</td>\n",
       "      <td>Han_Chinese</td>\n",
       "      <td>F</td>\n",
       "      <td>9.0</td>\n",
       "      <td>61.0</td>\n",
       "      <td>35.0</td>\n",
       "      <td>-275.0</td>\n",
       "      <td>323000.0</td>\n",
       "      <td>797000.0</td>\n",
       "      <td>153000.0</td>\n",
       "      <td>146000.0</td>\n",
       "      <td>39800.0</td>\n",
       "      <td>571000.0</td>\n",
       "      <td>36600.0</td>\n",
       "      <td>10000.0</td>\n",
       "      <td>1.0</td>\n",
       "      <td>0.0</td>\n",
       "    </tr>\n",
       "    <tr>\n",
       "      <th>12808</th>\n",
       "      <td>9</td>\n",
       "      <td>24</td>\n",
       "      <td>Han_Chinese</td>\n",
       "      <td>F</td>\n",
       "      <td>9.0</td>\n",
       "      <td>60.0</td>\n",
       "      <td>29.0</td>\n",
       "      <td>-426.0</td>\n",
       "      <td>681000.0</td>\n",
       "      <td>154000.0</td>\n",
       "      <td>40100.0</td>\n",
       "      <td>39100.0</td>\n",
       "      <td>11000.0</td>\n",
       "      <td>27000.0</td>\n",
       "      <td>20400.0</td>\n",
       "      <td>2020.0</td>\n",
       "      <td>1.0</td>\n",
       "      <td>0.0</td>\n",
       "    </tr>\n",
       "    <tr>\n",
       "      <th>12809</th>\n",
       "      <td>9</td>\n",
       "      <td>24</td>\n",
       "      <td>Han_Chinese</td>\n",
       "      <td>F</td>\n",
       "      <td>9.0</td>\n",
       "      <td>60.0</td>\n",
       "      <td>29.0</td>\n",
       "      <td>-84.0</td>\n",
       "      <td>366000.0</td>\n",
       "      <td>27300.0</td>\n",
       "      <td>11400.0</td>\n",
       "      <td>9930.0</td>\n",
       "      <td>1940.0</td>\n",
       "      <td>3280.0</td>\n",
       "      <td>12300.0</td>\n",
       "      <td>1760.0</td>\n",
       "      <td>1.0</td>\n",
       "      <td>0.0</td>\n",
       "    </tr>\n",
       "    <tr>\n",
       "      <th>12810</th>\n",
       "      <td>9</td>\n",
       "      <td>24</td>\n",
       "      <td>Han_Chinese</td>\n",
       "      <td>F</td>\n",
       "      <td>9.0</td>\n",
       "      <td>64.0</td>\n",
       "      <td>29.0</td>\n",
       "      <td>-49.0</td>\n",
       "      <td>1160000.0</td>\n",
       "      <td>1180000.0</td>\n",
       "      <td>50000.0</td>\n",
       "      <td>124000.0</td>\n",
       "      <td>10600.0</td>\n",
       "      <td>445000.0</td>\n",
       "      <td>22100.0</td>\n",
       "      <td>4480.0</td>\n",
       "      <td>1.0</td>\n",
       "      <td>0.0</td>\n",
       "    </tr>\n",
       "  </tbody>\n",
       "</table>\n",
       "<p>12811 rows × 18 columns</p>\n",
       "</div>"
      ],
      "text/plain": [
       "       SubjectID   age    ethnicity  gender  VideoID  Attention  Mediation  \\\n",
       "0              0    25  Han_Chinese       M      0.0       56.0       43.0   \n",
       "1              0    25  Han_Chinese       M      0.0       40.0       35.0   \n",
       "2              0    25  Han_Chinese       M      0.0       47.0       48.0   \n",
       "3              0    25  Han_Chinese       M      0.0       47.0       57.0   \n",
       "4              0    25  Han_Chinese       M      0.0       44.0       53.0   \n",
       "...          ...   ...          ...     ...      ...        ...        ...   \n",
       "12806          9    24  Han_Chinese       F      9.0       64.0       38.0   \n",
       "12807          9    24  Han_Chinese       F      9.0       61.0       35.0   \n",
       "12808          9    24  Han_Chinese       F      9.0       60.0       29.0   \n",
       "12809          9    24  Han_Chinese       F      9.0       60.0       29.0   \n",
       "12810          9    24  Han_Chinese       F      9.0       64.0       29.0   \n",
       "\n",
       "         Raw      Delta      Theta    Alpha1    Alpha2    Beta1     Beta2  \\\n",
       "0      278.0   302000.0    90600.0   33700.0   24000.0  27900.0   45100.0   \n",
       "1      -50.0    73800.0    28100.0    1440.0    2240.0   2750.0    3690.0   \n",
       "2      101.0   758000.0   384000.0  202000.0   62100.0  36300.0  131000.0   \n",
       "3       -5.0  2010000.0   129000.0   61200.0   17100.0  11500.0   62500.0   \n",
       "4       -8.0  1010000.0   354000.0   37100.0   88900.0  45300.0   99600.0   \n",
       "...      ...        ...        ...       ...       ...      ...       ...   \n",
       "12806  -39.0   128000.0     9950.0     709.0   21700.0   3870.0   39700.0   \n",
       "12807 -275.0   323000.0   797000.0  153000.0  146000.0  39800.0  571000.0   \n",
       "12808 -426.0   681000.0   154000.0   40100.0   39100.0  11000.0   27000.0   \n",
       "12809  -84.0   366000.0    27300.0   11400.0    9930.0   1940.0    3280.0   \n",
       "12810  -49.0  1160000.0  1180000.0   50000.0  124000.0  10600.0  445000.0   \n",
       "\n",
       "        Gamma1   Gamma2  predefinedlabel  user-definedlabeln  \n",
       "0      33200.0   8290.0              0.0                 0.0  \n",
       "1       5290.0   2740.0              0.0                 0.0  \n",
       "2      57200.0  25400.0              0.0                 0.0  \n",
       "3      50000.0  33900.0              0.0                 0.0  \n",
       "4      44800.0  29700.0              0.0                 0.0  \n",
       "...        ...      ...              ...                 ...  \n",
       "12806   2600.0    960.0              1.0                 0.0  \n",
       "12807  36600.0  10000.0              1.0                 0.0  \n",
       "12808  20400.0   2020.0              1.0                 0.0  \n",
       "12809  12300.0   1760.0              1.0                 0.0  \n",
       "12810  22100.0   4480.0              1.0                 0.0  \n",
       "\n",
       "[12811 rows x 18 columns]"
      ]
     },
     "execution_count": 20,
     "metadata": {},
     "output_type": "execute_result"
    }
   ],
   "source": [
    "df"
   ]
  },
  {
   "cell_type": "markdown",
   "id": "3a1f58ca",
   "metadata": {},
   "source": [
    "# performing preprocessing:"
   ]
  },
  {
   "cell_type": "code",
   "execution_count": 21,
   "id": "be5541a7",
   "metadata": {},
   "outputs": [
    {
     "name": "stdout",
     "output_type": "stream",
     "text": [
      "Missing values: 0\n"
     ]
    }
   ],
   "source": [
    "print(\"Missing values:\", df.isna().sum().sum())"
   ]
  },
  {
   "cell_type": "code",
   "execution_count": 22,
   "id": "512e59ac",
   "metadata": {},
   "outputs": [
    {
     "name": "stdout",
     "output_type": "stream",
     "text": [
      "<class 'pandas.core.frame.DataFrame'>\n",
      "Int64Index: 12811 entries, 0 to 12810\n",
      "Data columns (total 18 columns):\n",
      " #   Column              Non-Null Count  Dtype  \n",
      "---  ------              --------------  -----  \n",
      " 0   SubjectID           12811 non-null  int64  \n",
      " 1    age                12811 non-null  int64  \n",
      " 2    ethnicity          12811 non-null  object \n",
      " 3    gender             12811 non-null  object \n",
      " 4   VideoID             12811 non-null  float64\n",
      " 5   Attention           12811 non-null  float64\n",
      " 6   Mediation           12811 non-null  float64\n",
      " 7   Raw                 12811 non-null  float64\n",
      " 8   Delta               12811 non-null  float64\n",
      " 9   Theta               12811 non-null  float64\n",
      " 10  Alpha1              12811 non-null  float64\n",
      " 11  Alpha2              12811 non-null  float64\n",
      " 12  Beta1               12811 non-null  float64\n",
      " 13  Beta2               12811 non-null  float64\n",
      " 14  Gamma1              12811 non-null  float64\n",
      " 15  Gamma2              12811 non-null  float64\n",
      " 16  predefinedlabel     12811 non-null  float64\n",
      " 17  user-definedlabeln  12811 non-null  float64\n",
      "dtypes: float64(14), int64(2), object(2)\n",
      "memory usage: 1.9+ MB\n"
     ]
    }
   ],
   "source": [
    "df.info()"
   ]
  },
  {
   "cell_type": "code",
   "execution_count": 23,
   "id": "9a7ebf74",
   "metadata": {},
   "outputs": [
    {
     "data": {
      "text/plain": [
       "Index(['SubjectID', ' age', ' ethnicity', ' gender', 'VideoID', 'Attention',\n",
       "       'Mediation', 'Raw', 'Delta', 'Theta', 'Alpha1', 'Alpha2', 'Beta1',\n",
       "       'Beta2', 'Gamma1', 'Gamma2', 'predefinedlabel', 'user-definedlabeln'],\n",
       "      dtype='object')"
      ]
     },
     "execution_count": 23,
     "metadata": {},
     "output_type": "execute_result"
    }
   ],
   "source": [
    "df.columns\n",
    "# Some of them have an extra space at the beginning of their name"
   ]
  },
  {
   "cell_type": "code",
   "execution_count": 24,
   "id": "0ec4c038",
   "metadata": {},
   "outputs": [],
   "source": [
    "df.rename(columns = {' age':'Age', ' ethnicity':'Ethnicity', ' gender':'Gender'}, inplace = True)"
   ]
  },
  {
   "cell_type": "code",
   "execution_count": 25,
   "id": "46e1509e",
   "metadata": {},
   "outputs": [
    {
     "data": {
      "text/plain": [
       "array(['M', 'F'], dtype=object)"
      ]
     },
     "execution_count": 25,
     "metadata": {},
     "output_type": "execute_result"
    }
   ],
   "source": [
    "df['Gender'].unique()"
   ]
  },
  {
   "cell_type": "code",
   "execution_count": 26,
   "id": "9a477d3f",
   "metadata": {},
   "outputs": [],
   "source": [
    "Subjects = {'M':0, 'F':1}"
   ]
  },
  {
   "cell_type": "code",
   "execution_count": 27,
   "id": "c3dcaa33",
   "metadata": {},
   "outputs": [],
   "source": [
    "df['Gender'] = df['Gender'].map(Subjects)"
   ]
  },
  {
   "cell_type": "code",
   "execution_count": 28,
   "id": "04b013ad",
   "metadata": {},
   "outputs": [
    {
     "data": {
      "text/plain": [
       "array(['Han_Chinese', 'English', 'Bengali'], dtype=object)"
      ]
     },
     "execution_count": 28,
     "metadata": {},
     "output_type": "execute_result"
    }
   ],
   "source": [
    "df['Ethnicity'].unique()"
   ]
  },
  {
   "cell_type": "code",
   "execution_count": 29,
   "id": "b2cd04d3",
   "metadata": {},
   "outputs": [],
   "source": [
    "Subjects = {'Han_Chinese':0, 'Bengali':1 , 'English':2 }"
   ]
  },
  {
   "cell_type": "code",
   "execution_count": 30,
   "id": "fa7c2457",
   "metadata": {},
   "outputs": [],
   "source": [
    "df['Ethnicity'] = df['Ethnicity'].map(Subjects)"
   ]
  },
  {
   "cell_type": "code",
   "execution_count": 31,
   "id": "41761373",
   "metadata": {},
   "outputs": [],
   "source": [
    "df = df.drop(columns = ['SubjectID','VideoID','predefinedlabel'], axis = 1)"
   ]
  },
  {
   "cell_type": "code",
   "execution_count": 32,
   "id": "b2439746",
   "metadata": {},
   "outputs": [
    {
     "data": {
      "text/html": [
       "<div>\n",
       "<style scoped>\n",
       "    .dataframe tbody tr th:only-of-type {\n",
       "        vertical-align: middle;\n",
       "    }\n",
       "\n",
       "    .dataframe tbody tr th {\n",
       "        vertical-align: top;\n",
       "    }\n",
       "\n",
       "    .dataframe thead th {\n",
       "        text-align: right;\n",
       "    }\n",
       "</style>\n",
       "<table border=\"1\" class=\"dataframe\">\n",
       "  <thead>\n",
       "    <tr style=\"text-align: right;\">\n",
       "      <th></th>\n",
       "      <th>Age</th>\n",
       "      <th>Ethnicity</th>\n",
       "      <th>Gender</th>\n",
       "      <th>Attention</th>\n",
       "      <th>Mediation</th>\n",
       "      <th>Raw</th>\n",
       "      <th>Delta</th>\n",
       "      <th>Theta</th>\n",
       "      <th>Alpha1</th>\n",
       "      <th>Alpha2</th>\n",
       "      <th>Beta1</th>\n",
       "      <th>Beta2</th>\n",
       "      <th>Gamma1</th>\n",
       "      <th>Gamma2</th>\n",
       "      <th>user-definedlabeln</th>\n",
       "    </tr>\n",
       "  </thead>\n",
       "  <tbody>\n",
       "    <tr>\n",
       "      <th>0</th>\n",
       "      <td>25</td>\n",
       "      <td>0</td>\n",
       "      <td>0</td>\n",
       "      <td>56.0</td>\n",
       "      <td>43.0</td>\n",
       "      <td>278.0</td>\n",
       "      <td>302000.0</td>\n",
       "      <td>90600.0</td>\n",
       "      <td>33700.0</td>\n",
       "      <td>24000.0</td>\n",
       "      <td>27900.0</td>\n",
       "      <td>45100.0</td>\n",
       "      <td>33200.0</td>\n",
       "      <td>8290.0</td>\n",
       "      <td>0.0</td>\n",
       "    </tr>\n",
       "    <tr>\n",
       "      <th>1</th>\n",
       "      <td>25</td>\n",
       "      <td>0</td>\n",
       "      <td>0</td>\n",
       "      <td>40.0</td>\n",
       "      <td>35.0</td>\n",
       "      <td>-50.0</td>\n",
       "      <td>73800.0</td>\n",
       "      <td>28100.0</td>\n",
       "      <td>1440.0</td>\n",
       "      <td>2240.0</td>\n",
       "      <td>2750.0</td>\n",
       "      <td>3690.0</td>\n",
       "      <td>5290.0</td>\n",
       "      <td>2740.0</td>\n",
       "      <td>0.0</td>\n",
       "    </tr>\n",
       "    <tr>\n",
       "      <th>2</th>\n",
       "      <td>25</td>\n",
       "      <td>0</td>\n",
       "      <td>0</td>\n",
       "      <td>47.0</td>\n",
       "      <td>48.0</td>\n",
       "      <td>101.0</td>\n",
       "      <td>758000.0</td>\n",
       "      <td>384000.0</td>\n",
       "      <td>202000.0</td>\n",
       "      <td>62100.0</td>\n",
       "      <td>36300.0</td>\n",
       "      <td>131000.0</td>\n",
       "      <td>57200.0</td>\n",
       "      <td>25400.0</td>\n",
       "      <td>0.0</td>\n",
       "    </tr>\n",
       "    <tr>\n",
       "      <th>3</th>\n",
       "      <td>25</td>\n",
       "      <td>0</td>\n",
       "      <td>0</td>\n",
       "      <td>47.0</td>\n",
       "      <td>57.0</td>\n",
       "      <td>-5.0</td>\n",
       "      <td>2010000.0</td>\n",
       "      <td>129000.0</td>\n",
       "      <td>61200.0</td>\n",
       "      <td>17100.0</td>\n",
       "      <td>11500.0</td>\n",
       "      <td>62500.0</td>\n",
       "      <td>50000.0</td>\n",
       "      <td>33900.0</td>\n",
       "      <td>0.0</td>\n",
       "    </tr>\n",
       "    <tr>\n",
       "      <th>4</th>\n",
       "      <td>25</td>\n",
       "      <td>0</td>\n",
       "      <td>0</td>\n",
       "      <td>44.0</td>\n",
       "      <td>53.0</td>\n",
       "      <td>-8.0</td>\n",
       "      <td>1010000.0</td>\n",
       "      <td>354000.0</td>\n",
       "      <td>37100.0</td>\n",
       "      <td>88900.0</td>\n",
       "      <td>45300.0</td>\n",
       "      <td>99600.0</td>\n",
       "      <td>44800.0</td>\n",
       "      <td>29700.0</td>\n",
       "      <td>0.0</td>\n",
       "    </tr>\n",
       "    <tr>\n",
       "      <th>...</th>\n",
       "      <td>...</td>\n",
       "      <td>...</td>\n",
       "      <td>...</td>\n",
       "      <td>...</td>\n",
       "      <td>...</td>\n",
       "      <td>...</td>\n",
       "      <td>...</td>\n",
       "      <td>...</td>\n",
       "      <td>...</td>\n",
       "      <td>...</td>\n",
       "      <td>...</td>\n",
       "      <td>...</td>\n",
       "      <td>...</td>\n",
       "      <td>...</td>\n",
       "      <td>...</td>\n",
       "    </tr>\n",
       "    <tr>\n",
       "      <th>12806</th>\n",
       "      <td>24</td>\n",
       "      <td>0</td>\n",
       "      <td>1</td>\n",
       "      <td>64.0</td>\n",
       "      <td>38.0</td>\n",
       "      <td>-39.0</td>\n",
       "      <td>128000.0</td>\n",
       "      <td>9950.0</td>\n",
       "      <td>709.0</td>\n",
       "      <td>21700.0</td>\n",
       "      <td>3870.0</td>\n",
       "      <td>39700.0</td>\n",
       "      <td>2600.0</td>\n",
       "      <td>960.0</td>\n",
       "      <td>0.0</td>\n",
       "    </tr>\n",
       "    <tr>\n",
       "      <th>12807</th>\n",
       "      <td>24</td>\n",
       "      <td>0</td>\n",
       "      <td>1</td>\n",
       "      <td>61.0</td>\n",
       "      <td>35.0</td>\n",
       "      <td>-275.0</td>\n",
       "      <td>323000.0</td>\n",
       "      <td>797000.0</td>\n",
       "      <td>153000.0</td>\n",
       "      <td>146000.0</td>\n",
       "      <td>39800.0</td>\n",
       "      <td>571000.0</td>\n",
       "      <td>36600.0</td>\n",
       "      <td>10000.0</td>\n",
       "      <td>0.0</td>\n",
       "    </tr>\n",
       "    <tr>\n",
       "      <th>12808</th>\n",
       "      <td>24</td>\n",
       "      <td>0</td>\n",
       "      <td>1</td>\n",
       "      <td>60.0</td>\n",
       "      <td>29.0</td>\n",
       "      <td>-426.0</td>\n",
       "      <td>681000.0</td>\n",
       "      <td>154000.0</td>\n",
       "      <td>40100.0</td>\n",
       "      <td>39100.0</td>\n",
       "      <td>11000.0</td>\n",
       "      <td>27000.0</td>\n",
       "      <td>20400.0</td>\n",
       "      <td>2020.0</td>\n",
       "      <td>0.0</td>\n",
       "    </tr>\n",
       "    <tr>\n",
       "      <th>12809</th>\n",
       "      <td>24</td>\n",
       "      <td>0</td>\n",
       "      <td>1</td>\n",
       "      <td>60.0</td>\n",
       "      <td>29.0</td>\n",
       "      <td>-84.0</td>\n",
       "      <td>366000.0</td>\n",
       "      <td>27300.0</td>\n",
       "      <td>11400.0</td>\n",
       "      <td>9930.0</td>\n",
       "      <td>1940.0</td>\n",
       "      <td>3280.0</td>\n",
       "      <td>12300.0</td>\n",
       "      <td>1760.0</td>\n",
       "      <td>0.0</td>\n",
       "    </tr>\n",
       "    <tr>\n",
       "      <th>12810</th>\n",
       "      <td>24</td>\n",
       "      <td>0</td>\n",
       "      <td>1</td>\n",
       "      <td>64.0</td>\n",
       "      <td>29.0</td>\n",
       "      <td>-49.0</td>\n",
       "      <td>1160000.0</td>\n",
       "      <td>1180000.0</td>\n",
       "      <td>50000.0</td>\n",
       "      <td>124000.0</td>\n",
       "      <td>10600.0</td>\n",
       "      <td>445000.0</td>\n",
       "      <td>22100.0</td>\n",
       "      <td>4480.0</td>\n",
       "      <td>0.0</td>\n",
       "    </tr>\n",
       "  </tbody>\n",
       "</table>\n",
       "<p>12811 rows × 15 columns</p>\n",
       "</div>"
      ],
      "text/plain": [
       "       Age  Ethnicity  Gender  Attention  Mediation    Raw      Delta  \\\n",
       "0       25          0       0       56.0       43.0  278.0   302000.0   \n",
       "1       25          0       0       40.0       35.0  -50.0    73800.0   \n",
       "2       25          0       0       47.0       48.0  101.0   758000.0   \n",
       "3       25          0       0       47.0       57.0   -5.0  2010000.0   \n",
       "4       25          0       0       44.0       53.0   -8.0  1010000.0   \n",
       "...    ...        ...     ...        ...        ...    ...        ...   \n",
       "12806   24          0       1       64.0       38.0  -39.0   128000.0   \n",
       "12807   24          0       1       61.0       35.0 -275.0   323000.0   \n",
       "12808   24          0       1       60.0       29.0 -426.0   681000.0   \n",
       "12809   24          0       1       60.0       29.0  -84.0   366000.0   \n",
       "12810   24          0       1       64.0       29.0  -49.0  1160000.0   \n",
       "\n",
       "           Theta    Alpha1    Alpha2    Beta1     Beta2   Gamma1   Gamma2  \\\n",
       "0        90600.0   33700.0   24000.0  27900.0   45100.0  33200.0   8290.0   \n",
       "1        28100.0    1440.0    2240.0   2750.0    3690.0   5290.0   2740.0   \n",
       "2       384000.0  202000.0   62100.0  36300.0  131000.0  57200.0  25400.0   \n",
       "3       129000.0   61200.0   17100.0  11500.0   62500.0  50000.0  33900.0   \n",
       "4       354000.0   37100.0   88900.0  45300.0   99600.0  44800.0  29700.0   \n",
       "...          ...       ...       ...      ...       ...      ...      ...   \n",
       "12806     9950.0     709.0   21700.0   3870.0   39700.0   2600.0    960.0   \n",
       "12807   797000.0  153000.0  146000.0  39800.0  571000.0  36600.0  10000.0   \n",
       "12808   154000.0   40100.0   39100.0  11000.0   27000.0  20400.0   2020.0   \n",
       "12809    27300.0   11400.0    9930.0   1940.0    3280.0  12300.0   1760.0   \n",
       "12810  1180000.0   50000.0  124000.0  10600.0  445000.0  22100.0   4480.0   \n",
       "\n",
       "       user-definedlabeln  \n",
       "0                     0.0  \n",
       "1                     0.0  \n",
       "2                     0.0  \n",
       "3                     0.0  \n",
       "4                     0.0  \n",
       "...                   ...  \n",
       "12806                 0.0  \n",
       "12807                 0.0  \n",
       "12808                 0.0  \n",
       "12809                 0.0  \n",
       "12810                 0.0  \n",
       "\n",
       "[12811 rows x 15 columns]"
      ]
     },
     "execution_count": 32,
     "metadata": {},
     "output_type": "execute_result"
    }
   ],
   "source": [
    "df"
   ]
  },
  {
   "cell_type": "markdown",
   "id": "39e54579",
   "metadata": {},
   "source": [
    "# Creating feature sets (X) outcome variable (y)"
   ]
  },
  {
   "cell_type": "code",
   "execution_count": 33,
   "id": "978b7bb1",
   "metadata": {},
   "outputs": [
    {
     "data": {
      "text/plain": [
       "Index(['Age', 'Ethnicity', 'Gender', 'Attention', 'Mediation', 'Raw', 'Delta',\n",
       "       'Theta', 'Alpha1', 'Alpha2', 'Beta1', 'Beta2', 'Gamma1', 'Gamma2',\n",
       "       'user-definedlabeln'],\n",
       "      dtype='object')"
      ]
     },
     "execution_count": 33,
     "metadata": {},
     "output_type": "execute_result"
    }
   ],
   "source": [
    "df.columns"
   ]
  },
  {
   "cell_type": "code",
   "execution_count": 34,
   "id": "76bc83a1",
   "metadata": {},
   "outputs": [],
   "source": [
    "X = df.drop(['user-definedlabeln'], axis = 1)"
   ]
  },
  {
   "cell_type": "code",
   "execution_count": 35,
   "id": "0c2f2c2d",
   "metadata": {},
   "outputs": [
    {
     "data": {
      "text/html": [
       "<div>\n",
       "<style scoped>\n",
       "    .dataframe tbody tr th:only-of-type {\n",
       "        vertical-align: middle;\n",
       "    }\n",
       "\n",
       "    .dataframe tbody tr th {\n",
       "        vertical-align: top;\n",
       "    }\n",
       "\n",
       "    .dataframe thead th {\n",
       "        text-align: right;\n",
       "    }\n",
       "</style>\n",
       "<table border=\"1\" class=\"dataframe\">\n",
       "  <thead>\n",
       "    <tr style=\"text-align: right;\">\n",
       "      <th></th>\n",
       "      <th>Age</th>\n",
       "      <th>Ethnicity</th>\n",
       "      <th>Gender</th>\n",
       "      <th>Attention</th>\n",
       "      <th>Mediation</th>\n",
       "      <th>Raw</th>\n",
       "      <th>Delta</th>\n",
       "      <th>Theta</th>\n",
       "      <th>Alpha1</th>\n",
       "      <th>Alpha2</th>\n",
       "      <th>Beta1</th>\n",
       "      <th>Beta2</th>\n",
       "      <th>Gamma1</th>\n",
       "      <th>Gamma2</th>\n",
       "    </tr>\n",
       "  </thead>\n",
       "  <tbody>\n",
       "    <tr>\n",
       "      <th>0</th>\n",
       "      <td>25</td>\n",
       "      <td>0</td>\n",
       "      <td>0</td>\n",
       "      <td>56.0</td>\n",
       "      <td>43.0</td>\n",
       "      <td>278.0</td>\n",
       "      <td>302000.0</td>\n",
       "      <td>90600.0</td>\n",
       "      <td>33700.0</td>\n",
       "      <td>24000.0</td>\n",
       "      <td>27900.0</td>\n",
       "      <td>45100.0</td>\n",
       "      <td>33200.0</td>\n",
       "      <td>8290.0</td>\n",
       "    </tr>\n",
       "    <tr>\n",
       "      <th>1</th>\n",
       "      <td>25</td>\n",
       "      <td>0</td>\n",
       "      <td>0</td>\n",
       "      <td>40.0</td>\n",
       "      <td>35.0</td>\n",
       "      <td>-50.0</td>\n",
       "      <td>73800.0</td>\n",
       "      <td>28100.0</td>\n",
       "      <td>1440.0</td>\n",
       "      <td>2240.0</td>\n",
       "      <td>2750.0</td>\n",
       "      <td>3690.0</td>\n",
       "      <td>5290.0</td>\n",
       "      <td>2740.0</td>\n",
       "    </tr>\n",
       "    <tr>\n",
       "      <th>2</th>\n",
       "      <td>25</td>\n",
       "      <td>0</td>\n",
       "      <td>0</td>\n",
       "      <td>47.0</td>\n",
       "      <td>48.0</td>\n",
       "      <td>101.0</td>\n",
       "      <td>758000.0</td>\n",
       "      <td>384000.0</td>\n",
       "      <td>202000.0</td>\n",
       "      <td>62100.0</td>\n",
       "      <td>36300.0</td>\n",
       "      <td>131000.0</td>\n",
       "      <td>57200.0</td>\n",
       "      <td>25400.0</td>\n",
       "    </tr>\n",
       "    <tr>\n",
       "      <th>3</th>\n",
       "      <td>25</td>\n",
       "      <td>0</td>\n",
       "      <td>0</td>\n",
       "      <td>47.0</td>\n",
       "      <td>57.0</td>\n",
       "      <td>-5.0</td>\n",
       "      <td>2010000.0</td>\n",
       "      <td>129000.0</td>\n",
       "      <td>61200.0</td>\n",
       "      <td>17100.0</td>\n",
       "      <td>11500.0</td>\n",
       "      <td>62500.0</td>\n",
       "      <td>50000.0</td>\n",
       "      <td>33900.0</td>\n",
       "    </tr>\n",
       "    <tr>\n",
       "      <th>4</th>\n",
       "      <td>25</td>\n",
       "      <td>0</td>\n",
       "      <td>0</td>\n",
       "      <td>44.0</td>\n",
       "      <td>53.0</td>\n",
       "      <td>-8.0</td>\n",
       "      <td>1010000.0</td>\n",
       "      <td>354000.0</td>\n",
       "      <td>37100.0</td>\n",
       "      <td>88900.0</td>\n",
       "      <td>45300.0</td>\n",
       "      <td>99600.0</td>\n",
       "      <td>44800.0</td>\n",
       "      <td>29700.0</td>\n",
       "    </tr>\n",
       "  </tbody>\n",
       "</table>\n",
       "</div>"
      ],
      "text/plain": [
       "   Age  Ethnicity  Gender  Attention  Mediation    Raw      Delta     Theta  \\\n",
       "0   25          0       0       56.0       43.0  278.0   302000.0   90600.0   \n",
       "1   25          0       0       40.0       35.0  -50.0    73800.0   28100.0   \n",
       "2   25          0       0       47.0       48.0  101.0   758000.0  384000.0   \n",
       "3   25          0       0       47.0       57.0   -5.0  2010000.0  129000.0   \n",
       "4   25          0       0       44.0       53.0   -8.0  1010000.0  354000.0   \n",
       "\n",
       "     Alpha1   Alpha2    Beta1     Beta2   Gamma1   Gamma2  \n",
       "0   33700.0  24000.0  27900.0   45100.0  33200.0   8290.0  \n",
       "1    1440.0   2240.0   2750.0    3690.0   5290.0   2740.0  \n",
       "2  202000.0  62100.0  36300.0  131000.0  57200.0  25400.0  \n",
       "3   61200.0  17100.0  11500.0   62500.0  50000.0  33900.0  \n",
       "4   37100.0  88900.0  45300.0   99600.0  44800.0  29700.0  "
      ]
     },
     "execution_count": 35,
     "metadata": {},
     "output_type": "execute_result"
    }
   ],
   "source": [
    "X.head()"
   ]
  },
  {
   "cell_type": "code",
   "execution_count": 36,
   "id": "1e9d4afb",
   "metadata": {},
   "outputs": [],
   "source": [
    "y = df['user-definedlabeln']"
   ]
  },
  {
   "cell_type": "code",
   "execution_count": 37,
   "id": "d2c53b23",
   "metadata": {},
   "outputs": [
    {
     "data": {
      "text/plain": [
       "0    0.0\n",
       "1    0.0\n",
       "2    0.0\n",
       "3    0.0\n",
       "4    0.0\n",
       "Name: user-definedlabeln, dtype: float64"
      ]
     },
     "execution_count": 37,
     "metadata": {},
     "output_type": "execute_result"
    }
   ],
   "source": [
    "y.head()"
   ]
  },
  {
   "cell_type": "markdown",
   "id": "588b2dcb",
   "metadata": {},
   "source": [
    "# Standardization of X and Y"
   ]
  },
  {
   "cell_type": "code",
   "execution_count": 38,
   "id": "836937fb",
   "metadata": {},
   "outputs": [],
   "source": [
    "from sklearn.preprocessing import StandardScaler\n",
    "X_scaler = StandardScaler()\n",
    "# Standardize all the feature columns\n",
    "X_scaled = X_scaler.fit_transform(X)"
   ]
  },
  {
   "cell_type": "markdown",
   "id": "cffdf34d",
   "metadata": {},
   "source": [
    "# Dimension reduction using Principal Component Analysis (PCA)"
   ]
  },
  {
   "cell_type": "code",
   "execution_count": 39,
   "id": "7d7ae0b9",
   "metadata": {
    "scrolled": true
   },
   "outputs": [
    {
     "name": "stdout",
     "output_type": "stream",
     "text": [
      "[0.34058551 0.12442604 0.11634817 0.0766674  0.07011318 0.06422852\n",
      " 0.04133709 0.03393438 0.03251558 0.02798071 0.02473724 0.0202364\n",
      " 0.01484957 0.01204022]\n"
     ]
    }
   ],
   "source": [
    "import numpy as np\n",
    "from sklearn.decomposition import PCA\n",
    "pca = PCA(n_components = 14)\n",
    "pca.fit_transform(X_scaled)\n",
    "print(pca.explained_variance_ratio_)"
   ]
  },
  {
   "cell_type": "code",
   "execution_count": 40,
   "id": "4e91dbbc",
   "metadata": {},
   "outputs": [
    {
     "name": "stdout",
     "output_type": "stream",
     "text": [
      "[247.15455505 149.38644134 144.45590949 117.26297473 112.13865701\n",
      " 107.32959277  86.104427    78.01452764  76.36621905  70.84103127\n",
      "  66.60872597  60.24515526  51.60746283  46.46999925]\n"
     ]
    }
   ],
   "source": [
    "print(pca.singular_values_)"
   ]
  },
  {
   "cell_type": "code",
   "execution_count": 41,
   "id": "c078e84c",
   "metadata": {},
   "outputs": [],
   "source": [
    "pca = PCA(n_components = 7)\n",
    "pca_fit_transform = pca.fit_transform(X)\n",
    "X = pd.DataFrame(pca_fit_transform,columns = ['PCA1','PCA2','PCA3','PCA4','PCA5','PCA6','PCA7'])"
   ]
  },
  {
   "cell_type": "code",
   "execution_count": 42,
   "id": "8e751f1d",
   "metadata": {},
   "outputs": [
    {
     "data": {
      "text/html": [
       "<div>\n",
       "<style scoped>\n",
       "    .dataframe tbody tr th:only-of-type {\n",
       "        vertical-align: middle;\n",
       "    }\n",
       "\n",
       "    .dataframe tbody tr th {\n",
       "        vertical-align: top;\n",
       "    }\n",
       "\n",
       "    .dataframe thead th {\n",
       "        text-align: right;\n",
       "    }\n",
       "</style>\n",
       "<table border=\"1\" class=\"dataframe\">\n",
       "  <thead>\n",
       "    <tr style=\"text-align: right;\">\n",
       "      <th></th>\n",
       "      <th>PCA1</th>\n",
       "      <th>PCA2</th>\n",
       "      <th>PCA3</th>\n",
       "      <th>PCA4</th>\n",
       "      <th>PCA5</th>\n",
       "      <th>PCA6</th>\n",
       "      <th>PCA7</th>\n",
       "    </tr>\n",
       "  </thead>\n",
       "  <tbody>\n",
       "    <tr>\n",
       "      <th>0</th>\n",
       "      <td>-3.125088e+05</td>\n",
       "      <td>-6818.424179</td>\n",
       "      <td>24655.590687</td>\n",
       "      <td>8468.629494</td>\n",
       "      <td>-849.806915</td>\n",
       "      <td>-5423.061880</td>\n",
       "      <td>4908.677748</td>\n",
       "    </tr>\n",
       "    <tr>\n",
       "      <th>1</th>\n",
       "      <td>-5.533275e+05</td>\n",
       "      <td>-33076.059308</td>\n",
       "      <td>-13621.893295</td>\n",
       "      <td>-7246.763949</td>\n",
       "      <td>-1784.689402</td>\n",
       "      <td>3984.493216</td>\n",
       "      <td>-1990.236500</td>\n",
       "    </tr>\n",
       "    <tr>\n",
       "      <th>2</th>\n",
       "      <td>2.065389e+05</td>\n",
       "      <td>212642.587292</td>\n",
       "      <td>48735.292844</td>\n",
       "      <td>95085.044738</td>\n",
       "      <td>-55521.403177</td>\n",
       "      <td>-58239.232214</td>\n",
       "      <td>-17640.742828</td>\n",
       "    </tr>\n",
       "    <tr>\n",
       "      <th>3</th>\n",
       "      <td>1.363151e+06</td>\n",
       "      <td>-339018.674782</td>\n",
       "      <td>21379.801758</td>\n",
       "      <td>-21142.690587</td>\n",
       "      <td>-32071.546163</td>\n",
       "      <td>-8513.605988</td>\n",
       "      <td>-4764.743605</td>\n",
       "    </tr>\n",
       "    <tr>\n",
       "      <th>4</th>\n",
       "      <td>4.375675e+05</td>\n",
       "      <td>103068.169736</td>\n",
       "      <td>17674.611453</td>\n",
       "      <td>-26827.533399</td>\n",
       "      <td>47416.214635</td>\n",
       "      <td>-19733.113671</td>\n",
       "      <td>-1321.471577</td>\n",
       "    </tr>\n",
       "  </tbody>\n",
       "</table>\n",
       "</div>"
      ],
      "text/plain": [
       "           PCA1           PCA2          PCA3          PCA4          PCA5  \\\n",
       "0 -3.125088e+05   -6818.424179  24655.590687   8468.629494   -849.806915   \n",
       "1 -5.533275e+05  -33076.059308 -13621.893295  -7246.763949  -1784.689402   \n",
       "2  2.065389e+05  212642.587292  48735.292844  95085.044738 -55521.403177   \n",
       "3  1.363151e+06 -339018.674782  21379.801758 -21142.690587 -32071.546163   \n",
       "4  4.375675e+05  103068.169736  17674.611453 -26827.533399  47416.214635   \n",
       "\n",
       "           PCA6          PCA7  \n",
       "0  -5423.061880   4908.677748  \n",
       "1   3984.493216  -1990.236500  \n",
       "2 -58239.232214 -17640.742828  \n",
       "3  -8513.605988  -4764.743605  \n",
       "4 -19733.113671  -1321.471577  "
      ]
     },
     "execution_count": 42,
     "metadata": {},
     "output_type": "execute_result"
    }
   ],
   "source": [
    "X.head()"
   ]
  },
  {
   "cell_type": "markdown",
   "id": "e453384b",
   "metadata": {},
   "source": [
    "# Splitting dataset into 80% training & 20% test sets by K-Fold Cross Validation: "
   ]
  },
  {
   "cell_type": "code",
   "execution_count": 43,
   "id": "c5687ac2",
   "metadata": {},
   "outputs": [
    {
     "data": {
      "text/plain": [
       "5"
      ]
     },
     "execution_count": 43,
     "metadata": {},
     "output_type": "execute_result"
    }
   ],
   "source": [
    "import numpy as np\n",
    "from sklearn.model_selection import KFold\n",
    "kf = KFold(n_splits = 5, random_state=1, shuffle=True)\n",
    "kf.get_n_splits(df)"
   ]
  },
  {
   "cell_type": "code",
   "execution_count": 44,
   "id": "efdf84c8",
   "metadata": {},
   "outputs": [
    {
     "data": {
      "text/plain": [
       "KFold(n_splits=5, random_state=1, shuffle=True)"
      ]
     },
     "execution_count": 44,
     "metadata": {},
     "output_type": "execute_result"
    }
   ],
   "source": [
    "kf"
   ]
  },
  {
   "cell_type": "code",
   "execution_count": 81,
   "id": "acdf27f2",
   "metadata": {},
   "outputs": [
    {
     "name": "stdout",
     "output_type": "stream",
     "text": [
      "Fold 0:\n",
      "  X_Train: index=[    0     1     2 ... 12808 12809 12810]\n",
      "  X_Test:  index=[    4     7    12 ... 12802 12803 12806]\n",
      "Fold 1:\n",
      "  X_Train: index=[    0     1     2 ... 12807 12808 12810]\n",
      "  X_Test:  index=[    6    16    21 ... 12800 12805 12809]\n",
      "Fold 2:\n",
      "  X_Train: index=[    0     2     4 ... 12807 12809 12810]\n",
      "  X_Test:  index=[    1     3     5 ... 12797 12798 12808]\n",
      "Fold 3:\n",
      "  X_Train: index=[    0     1     2 ... 12806 12808 12809]\n",
      "  X_Test:  index=[    8     9    13 ... 12801 12807 12810]\n",
      "Fold 4:\n",
      "  X_Train: index=[    1     3     4 ... 12808 12809 12810]\n",
      "  X_Test:  index=[    0     2    15 ... 12790 12793 12804]\n"
     ]
    }
   ],
   "source": [
    "for i, (train_index, test_index) in enumerate(kf.split(df)):\n",
    "     print(f\"Fold {i}:\")\n",
    "     print(f\"  X_Train: index={train_index}\")\n",
    "     print(f\"  X_Test:  index={test_index}\")"
   ]
  },
  {
   "cell_type": "markdown",
   "id": "1e498acf",
   "metadata": {},
   "source": [
    "# Building logistic regression model"
   ]
  },
  {
   "cell_type": "code",
   "execution_count": 83,
   "id": "afae0cfe",
   "metadata": {},
   "outputs": [
    {
     "data": {
      "text/plain": [
       "LogisticRegression()"
      ]
     },
     "execution_count": 83,
     "metadata": {},
     "output_type": "execute_result"
    }
   ],
   "source": [
    "from sklearn.linear_model import LogisticRegression\n",
    "logit = LogisticRegression()\n",
    "logit.fit(X, y)"
   ]
  },
  {
   "cell_type": "code",
   "execution_count": 87,
   "id": "179d0481",
   "metadata": {},
   "outputs": [
    {
     "data": {
      "text/plain": [
       "array([0., 0., 1., ..., 0., 0., 1.])"
      ]
     },
     "execution_count": 87,
     "metadata": {},
     "output_type": "execute_result"
    }
   ],
   "source": [
    "y_pred = clf.predict(X)\n",
    "y_pred"
   ]
  },
  {
   "cell_type": "code",
   "execution_count": 88,
   "id": "ca79d12d",
   "metadata": {},
   "outputs": [
    {
     "data": {
      "text/plain": [
       "0.57161814066037"
      ]
     },
     "execution_count": 88,
     "metadata": {},
     "output_type": "execute_result"
    }
   ],
   "source": [
    "accuracy_score(y_pred, y)"
   ]
  },
  {
   "cell_type": "code",
   "execution_count": 84,
   "id": "abe2429a",
   "metadata": {},
   "outputs": [
    {
     "data": {
      "text/plain": [
       "array([0.57861881, 0.58391881, 0.58391881, 0.60187354, 0.57455113])"
      ]
     },
     "execution_count": 84,
     "metadata": {},
     "output_type": "execute_result"
    }
   ],
   "source": [
    "from sklearn.model_selection import cross_val_score, cross_val_predict\n",
    "scores = cross_val_score(logit, X, y, scoring = 'accuracy', cv = kf)\n",
    "scores"
   ]
  },
  {
   "cell_type": "code",
   "execution_count": 85,
   "id": "6ff98acb",
   "metadata": {},
   "outputs": [
    {
     "name": "stdout",
     "output_type": "stream",
     "text": [
      "Accuracy: 0.585 \n"
     ]
    }
   ],
   "source": [
    "from numpy import mean\n",
    "print('Accuracy: %.3f ' % (mean(scores)))"
   ]
  },
  {
   "cell_type": "code",
   "execution_count": 86,
   "id": "87f32e4e",
   "metadata": {},
   "outputs": [
    {
     "data": {
      "text/html": [
       "<div>\n",
       "<style scoped>\n",
       "    .dataframe tbody tr th:only-of-type {\n",
       "        vertical-align: middle;\n",
       "    }\n",
       "\n",
       "    .dataframe tbody tr th {\n",
       "        vertical-align: top;\n",
       "    }\n",
       "\n",
       "    .dataframe thead th {\n",
       "        text-align: right;\n",
       "    }\n",
       "</style>\n",
       "<table border=\"1\" class=\"dataframe\">\n",
       "  <thead>\n",
       "    <tr style=\"text-align: right;\">\n",
       "      <th></th>\n",
       "      <th>Actual</th>\n",
       "      <th>Predicted</th>\n",
       "    </tr>\n",
       "  </thead>\n",
       "  <tbody>\n",
       "    <tr>\n",
       "      <th>0</th>\n",
       "      <td>0.0</td>\n",
       "      <td>0.0</td>\n",
       "    </tr>\n",
       "    <tr>\n",
       "      <th>1</th>\n",
       "      <td>0.0</td>\n",
       "      <td>0.0</td>\n",
       "    </tr>\n",
       "    <tr>\n",
       "      <th>2</th>\n",
       "      <td>0.0</td>\n",
       "      <td>1.0</td>\n",
       "    </tr>\n",
       "    <tr>\n",
       "      <th>3</th>\n",
       "      <td>0.0</td>\n",
       "      <td>1.0</td>\n",
       "    </tr>\n",
       "    <tr>\n",
       "      <th>4</th>\n",
       "      <td>0.0</td>\n",
       "      <td>1.0</td>\n",
       "    </tr>\n",
       "    <tr>\n",
       "      <th>...</th>\n",
       "      <td>...</td>\n",
       "      <td>...</td>\n",
       "    </tr>\n",
       "    <tr>\n",
       "      <th>12806</th>\n",
       "      <td>0.0</td>\n",
       "      <td>0.0</td>\n",
       "    </tr>\n",
       "    <tr>\n",
       "      <th>12807</th>\n",
       "      <td>0.0</td>\n",
       "      <td>0.0</td>\n",
       "    </tr>\n",
       "    <tr>\n",
       "      <th>12808</th>\n",
       "      <td>0.0</td>\n",
       "      <td>0.0</td>\n",
       "    </tr>\n",
       "    <tr>\n",
       "      <th>12809</th>\n",
       "      <td>0.0</td>\n",
       "      <td>0.0</td>\n",
       "    </tr>\n",
       "    <tr>\n",
       "      <th>12810</th>\n",
       "      <td>0.0</td>\n",
       "      <td>1.0</td>\n",
       "    </tr>\n",
       "  </tbody>\n",
       "</table>\n",
       "<p>12811 rows × 2 columns</p>\n",
       "</div>"
      ],
      "text/plain": [
       "       Actual  Predicted\n",
       "0         0.0        0.0\n",
       "1         0.0        0.0\n",
       "2         0.0        1.0\n",
       "3         0.0        1.0\n",
       "4         0.0        1.0\n",
       "...       ...        ...\n",
       "12806     0.0        0.0\n",
       "12807     0.0        0.0\n",
       "12808     0.0        0.0\n",
       "12809     0.0        0.0\n",
       "12810     0.0        1.0\n",
       "\n",
       "[12811 rows x 2 columns]"
      ]
     },
     "execution_count": 86,
     "metadata": {},
     "output_type": "execute_result"
    }
   ],
   "source": [
    "pred = cross_val_predict(logit, X, y, cv = kf )\n",
    "result = pd.DataFrame({'Actual':y.values, 'Predicted':pred})\n",
    "result"
   ]
  },
  {
   "cell_type": "markdown",
   "id": "4bbdb907",
   "metadata": {},
   "source": [
    "# Building Decision Tree Classifier using Gini Criteria \n",
    "(train_test_split vs K-Fold Cross Validation)"
   ]
  },
  {
   "cell_type": "code",
   "execution_count": 53,
   "id": "4bdde34e",
   "metadata": {},
   "outputs": [],
   "source": [
    "from sklearn.model_selection import train_test_split\n",
    "X_train, X_test, y_train, y_test = train_test_split(X, y, test_size = 0.2, random_state = 123)"
   ]
  },
  {
   "cell_type": "code",
   "execution_count": 54,
   "id": "530369a5",
   "metadata": {},
   "outputs": [],
   "source": [
    "from sklearn.tree import DecisionTreeClassifier\n",
    "clf_tree = DecisionTreeClassifier(criterion = 'gini', max_depth = 3 )"
   ]
  },
  {
   "cell_type": "code",
   "execution_count": 55,
   "id": "c9bfb6e6",
   "metadata": {},
   "outputs": [
    {
     "data": {
      "text/plain": [
       "DecisionTreeClassifier(max_depth=3)"
      ]
     },
     "execution_count": 55,
     "metadata": {},
     "output_type": "execute_result"
    }
   ],
   "source": [
    "clf_tree.fit( X_train, y_train )"
   ]
  },
  {
   "cell_type": "code",
   "execution_count": 56,
   "id": "8dbe9dca",
   "metadata": {},
   "outputs": [],
   "source": [
    "# Measuring Test Accuracy\n",
    "from sklearn.metrics import accuracy_score\n",
    "tree_predict = clf_tree.predict( X_test )"
   ]
  },
  {
   "cell_type": "code",
   "execution_count": 57,
   "id": "75128033",
   "metadata": {},
   "outputs": [
    {
     "data": {
      "text/plain": [
       "(array([1., 0., 0., ..., 0., 0., 1.]),\n",
       " 6426     0.0\n",
       " 2907     0.0\n",
       " 4346     0.0\n",
       " 3684     1.0\n",
       " 842      1.0\n",
       "         ... \n",
       " 6574     0.0\n",
       " 5445     1.0\n",
       " 2846     0.0\n",
       " 978      0.0\n",
       " 11736    0.0\n",
       " Name: user-definedlabeln, Length: 2563, dtype: float64)"
      ]
     },
     "execution_count": 57,
     "metadata": {},
     "output_type": "execute_result"
    }
   ],
   "source": [
    "tree_predict, y_test"
   ]
  },
  {
   "cell_type": "code",
   "execution_count": 58,
   "id": "d7c08838",
   "metadata": {},
   "outputs": [
    {
     "data": {
      "text/plain": [
       "0.5793991416309013"
      ]
     },
     "execution_count": 58,
     "metadata": {},
     "output_type": "execute_result"
    }
   ],
   "source": [
    "accuracy_score(tree_predict, y_test)"
   ]
  },
  {
   "cell_type": "code",
   "execution_count": 59,
   "id": "9c9d9437",
   "metadata": {},
   "outputs": [],
   "source": [
    "from sklearn.model_selection import cross_val_score"
   ]
  },
  {
   "cell_type": "code",
   "execution_count": 60,
   "id": "26441846",
   "metadata": {},
   "outputs": [],
   "source": [
    "train_scores = cross_val_score(clf_tree, X_train, y_train, scoring = 'accuracy', cv = 5)"
   ]
  },
  {
   "cell_type": "code",
   "execution_count": 61,
   "id": "e0620ada",
   "metadata": {},
   "outputs": [
    {
     "data": {
      "text/plain": [
       "array([0.57853659, 0.58      , 0.58390244, 0.58906784, 0.57540264])"
      ]
     },
     "execution_count": 61,
     "metadata": {},
     "output_type": "execute_result"
    }
   ],
   "source": [
    "train_scores\n",
    "# A little better than accuracy_score using train_test_split"
   ]
  },
  {
   "cell_type": "code",
   "execution_count": 62,
   "id": "6b1d50b6",
   "metadata": {},
   "outputs": [
    {
     "data": {
      "text/plain": [
       "0.5813818995583807"
      ]
     },
     "execution_count": 62,
     "metadata": {},
     "output_type": "execute_result"
    }
   ],
   "source": [
    "train_scores.mean()"
   ]
  },
  {
   "cell_type": "code",
   "execution_count": 63,
   "id": "8f93cd3f",
   "metadata": {},
   "outputs": [],
   "source": [
    "test_scores = cross_val_score(clf_tree, X_test, y_test, scoring = 'accuracy', cv = 5)"
   ]
  },
  {
   "cell_type": "code",
   "execution_count": 64,
   "id": "0fdfc9e0",
   "metadata": {},
   "outputs": [
    {
     "data": {
      "text/plain": [
       "array([0.55945419, 0.55360624, 0.55555556, 0.52929688, 0.56054688])"
      ]
     },
     "execution_count": 64,
     "metadata": {},
     "output_type": "execute_result"
    }
   ],
   "source": [
    "test_scores"
   ]
  },
  {
   "cell_type": "code",
   "execution_count": 65,
   "id": "58b1ce1d",
   "metadata": {},
   "outputs": [
    {
     "data": {
      "text/plain": [
       "0.5516919468810917"
      ]
     },
     "execution_count": 65,
     "metadata": {},
     "output_type": "execute_result"
    }
   ],
   "source": [
    "test_scores.mean()"
   ]
  },
  {
   "cell_type": "code",
   "execution_count": 66,
   "id": "e5515198",
   "metadata": {},
   "outputs": [],
   "source": [
    "# We can improve it by changing parameters cv\n",
    "train_scores = cross_val_score(clf_tree, X_train, y_train, scoring = 'accuracy', cv = 10)"
   ]
  },
  {
   "cell_type": "code",
   "execution_count": 67,
   "id": "8fc0284c",
   "metadata": {},
   "outputs": [
    {
     "data": {
      "text/plain": [
       "0.5858750952743902"
      ]
     },
     "execution_count": 67,
     "metadata": {},
     "output_type": "execute_result"
    }
   ],
   "source": [
    "train_scores.mean()"
   ]
  },
  {
   "cell_type": "code",
   "execution_count": 68,
   "id": "9117107c",
   "metadata": {},
   "outputs": [],
   "source": [
    "test_scores = cross_val_score(clf_tree, X_test, y_test, scoring = 'accuracy', cv = 10)"
   ]
  },
  {
   "cell_type": "code",
   "execution_count": 70,
   "id": "e787959c",
   "metadata": {},
   "outputs": [
    {
     "data": {
      "text/plain": [
       "0.5532496352140077"
      ]
     },
     "execution_count": 70,
     "metadata": {},
     "output_type": "execute_result"
    }
   ],
   "source": [
    "test_scores.mean()"
   ]
  },
  {
   "cell_type": "markdown",
   "id": "62aef964",
   "metadata": {},
   "source": [
    "# Building Support Vector Classification (SVC)"
   ]
  },
  {
   "cell_type": "code",
   "execution_count": 71,
   "id": "cd3181aa",
   "metadata": {},
   "outputs": [],
   "source": [
    "from sklearn.model_selection import train_test_split\n",
    "X_train, X_test, y_train, y_test = train_test_split(X, y, test_size = 0.2, random_state = 123)"
   ]
  },
  {
   "cell_type": "code",
   "execution_count": 72,
   "id": "fd00a0e2",
   "metadata": {},
   "outputs": [],
   "source": [
    "from sklearn import svm\n",
    "from sklearn.svm import SVC\n",
    "clf = svm.SVC(kernel = 'poly',degree = 1, probability=True)"
   ]
  },
  {
   "cell_type": "code",
   "execution_count": 73,
   "id": "b969f7c3",
   "metadata": {},
   "outputs": [
    {
     "data": {
      "text/plain": [
       "SVC(degree=1, kernel='poly', probability=True)"
      ]
     },
     "execution_count": 73,
     "metadata": {},
     "output_type": "execute_result"
    }
   ],
   "source": [
    "clf.fit(X_train, y_train)"
   ]
  },
  {
   "cell_type": "code",
   "execution_count": 74,
   "id": "4209b7c3",
   "metadata": {},
   "outputs": [
    {
     "name": "stdout",
     "output_type": "stream",
     "text": [
      "0.572599531615925\n",
      "0.5676941084666407\n"
     ]
    }
   ],
   "source": [
    "print(clf.score(X_train, y_train))\n",
    "print(clf.score(X_test, y_test))"
   ]
  },
  {
   "cell_type": "code",
   "execution_count": 75,
   "id": "d0ad824e",
   "metadata": {},
   "outputs": [
    {
     "data": {
      "text/plain": [
       "0.5703556999845254"
      ]
     },
     "execution_count": 75,
     "metadata": {},
     "output_type": "execute_result"
    }
   ],
   "source": [
    "from sklearn.model_selection import cross_val_score\n",
    "train_scores = cross_val_score(clf, X_train, y_train, scoring = 'accuracy', cv = 5)\n",
    "train_scores.mean()"
   ]
  },
  {
   "cell_type": "code",
   "execution_count": 76,
   "id": "d5c0f547",
   "metadata": {},
   "outputs": [
    {
     "data": {
      "text/plain": [
       "0.5622182626705653"
      ]
     },
     "execution_count": 76,
     "metadata": {},
     "output_type": "execute_result"
    }
   ],
   "source": [
    "test_scores = cross_val_score(clf, X_test, y_test, scoring = 'accuracy', cv = 5)\n",
    "test_scores.mean()"
   ]
  },
  {
   "cell_type": "code",
   "execution_count": null,
   "id": "73c1eb79",
   "metadata": {},
   "outputs": [],
   "source": []
  }
 ],
 "metadata": {
  "kernelspec": {
   "display_name": "Python 3 (ipykernel)",
   "language": "python",
   "name": "python3"
  },
  "language_info": {
   "codemirror_mode": {
    "name": "ipython",
    "version": 3
   },
   "file_extension": ".py",
   "mimetype": "text/x-python",
   "name": "python",
   "nbconvert_exporter": "python",
   "pygments_lexer": "ipython3",
   "version": "3.9.13"
  }
 },
 "nbformat": 4,
 "nbformat_minor": 5
}
