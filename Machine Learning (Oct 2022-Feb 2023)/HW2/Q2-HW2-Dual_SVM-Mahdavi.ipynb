{
 "cells": [
  {
   "cell_type": "markdown",
   "metadata": {},
   "source": [
    "# Bahar Mahdavi - Homework-2-2"
   ]
  },
  {
   "cell_type": "raw",
   "metadata": {},
   "source": [
    "Consider the following dataset:"
   ]
  },
  {
   "cell_type": "code",
   "execution_count": 36,
   "metadata": {},
   "outputs": [],
   "source": [
    "import numpy as np\n",
    "X = np.array([[4, 2.9], [4, 4], [1, 2.5], [2.5, 1], [4.9, 4.5], [1.9, 1.9],\n",
    "                [3.5, 4], [0.5, 1.5], [2, 2.1], [4.5, 2.5]])\n",
    "y = np.array([1, 1, -1, -1, 1,-1, 1, -1, -1, 1])\n",
    "alpha = np.array([0.414, 0, 0, 0.018, 0, 0, 0.018, 0, 0.414, 0])"
   ]
  },
  {
   "cell_type": "raw",
   "metadata": {},
   "source": [
    "Find the separating hyperplane of this data."
   ]
  },
  {
   "cell_type": "code",
   "execution_count": 37,
   "metadata": {},
   "outputs": [
    {
     "name": "stdout",
     "output_type": "stream",
     "text": [
      "W = [0.846  0.3852]\n",
      "b = -3.5458559999999997\n"
     ]
    }
   ],
   "source": [
    "#weight\n",
    "W = [0, 0]\n",
    "for i in range(10):\n",
    "        W = (alpha[i]*y[i]*X[i]) + W\n",
    "#bias\n",
    "b = [0]*10 \n",
    "for i in range(10):\n",
    "      b[i]= y[i] - (W[0]*X[i,0] + W[1]*X[i,0])\n",
    "S = 0\n",
    "for i in range(10):\n",
    "    S = b[i] + S\n",
    "    \n",
    "print(\"W =\",W)\n",
    "print(\"b =\",S/10) #bias = S/10"
   ]
  },
  {
   "cell_type": "raw",
   "metadata": {},
   "source": [
    "What is the distance of point X6 from this hyperplane?"
   ]
  },
  {
   "cell_type": "code",
   "execution_count": 38,
   "metadata": {},
   "outputs": [
    {
     "name": "stdout",
     "output_type": "stream",
     "text": [
      "[-0.6156  -0.6156  -2.3092  -0.4624   0.49248 -1.20112 -1.2312  -2.9248\n",
      " -1.078    0.     ]\n"
     ]
    }
   ],
   "source": [
    "h = 1 - (y[i]*((W[0]*X[i,0] + W[1]*X[i,0]) + b))\n",
    "print(h)"
   ]
  },
  {
   "cell_type": "raw",
   "metadata": {},
   "source": [
    "Classified z = (3, 3)T  using separating hyperplane."
   ]
  },
  {
   "cell_type": "code",
   "execution_count": 39,
   "metadata": {},
   "outputs": [
    {
     "name": "stdout",
     "output_type": "stream",
     "text": [
      "7.239456\n"
     ]
    }
   ],
   "source": [
    "Z = W[0]*3 + W[1]*3 - bias\n",
    "\n",
    "print(Z)"
   ]
  }
 ],
 "metadata": {
  "kernelspec": {
   "display_name": "Python 3 (ipykernel)",
   "language": "python",
   "name": "python3"
  },
  "language_info": {
   "codemirror_mode": {
    "name": "ipython",
    "version": 3
   },
   "file_extension": ".py",
   "mimetype": "text/x-python",
   "name": "python",
   "nbconvert_exporter": "python",
   "pygments_lexer": "ipython3",
   "version": "3.9.13"
  }
 },
 "nbformat": 4,
 "nbformat_minor": 4
}
